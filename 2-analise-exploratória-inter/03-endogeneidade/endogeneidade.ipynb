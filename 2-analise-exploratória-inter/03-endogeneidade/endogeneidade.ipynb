{
 "cells": [
  {
   "cell_type": "markdown",
   "metadata": {},
   "source": [
    "# Endogeneidade\n",
    "\n",
    "Qualquer variável explicativa (exógena/independente/X) que for correlacionada com o termo de erro será uma variável endógena. Ou seja, quase sempre.\n",
    "\n",
    "\n",
    "Segundo Wooldridge (Econometric Analysis of Cross-Section and Panel Data, 2 ed, 2011, p. 54-55):\n",
    "\n",
    "**Variáveis omitidas**: se há uma variável omitida no modelo, ela acaba sendo incorporada ao erro. Caso esta variável omitida seja correlacionada com alguma das variáveis explicativas que já está no modelo (o que é bem comum), necessariamente haverá correlação entre variável explicativa e erro.\n",
    "\n",
    "\n",
    "**Erro de mensuração**: se há apenas uma variável com erro de mensuração e não temos a variável sem erro que deveria estar no modelo, podemos ter correlação entre a variável que temos (com erro) e o erro (porque o erro contém uma parte daquilo que não foi mensurado corretamente). Isso depende da relação entre a variável que temos (com erro) e a que não temos mas gostaríamos de ter (sem erro).\n",
    "\n",
    "\n",
    "**Simultaneidade**: quando uma das variáveis explicativas é determinada pela variável explicada no modelo. Ou seja, x influencia y, mas y também influencia x simultaneamente. Nesse caso, x e o erro geralmente possuem correlação entre si. \n",
    "\n",
    "Uma razão extra é a **má expecificação da forma funcional** (que sai da teoria).\n",
    "\n",
    "Com endogeneidade não temos E[e|x1,x2,...] = 0\n",
    "\n",
    "\n",
    "E qual é o problema da endogeneidade? Além do **viés**, o grande problema que podemos ter é a **inconsistência** (além de ser **ineficiente**). Nesse caso, nossas estimativas não convergirão ao parâmetro populacional. Para que então rodar uma regressão? O importante de uma estimativa amostral é que, através dela, possamos dizer algo sobre a população.\n"
   ]
  },
  {
   "cell_type": "markdown",
   "metadata": {},
   "source": [
    "# Variaveis Instrumentais \n",
    "Wooldridge, 2011 – Capítulo 15\n",
    "\n",
    "O uso das variáveis instrumentais (IV) nos auxiliará na\n",
    "busca de estimadores consistentes, quando tivermos\n",
    "regressores endógenos presentes no modelo de\n",
    "regressão.\n",
    "\n",
    "\n",
    "\n",
    "Considere o modelo\n",
    "salarioi = beta_0 + beta_1 * educ + e (1)\n",
    "\n",
    "com\n",
    "\n",
    "Cov(educ, e) != 0 (2)\n",
    "\n",
    "Pergunta: qual razão estaria nos levando à violação desta premissa?\n",
    "Resposta: educ deve estar correlacionada com habilidade (que\n",
    "certamente afeta salário e encontra-se no termo de erro e,\n",
    "além de tudo, é não observável diretamente).\n",
    "\n",
    "suponha que tenha sido observada uma variável\n",
    "explicativa z que satisfaça a duas suposições:\n",
    "\n",
    "**(a) z é não-correlacionada com e, isto é, Cov(z,e) = 0**\n",
    "\n",
    "z é exógena na regressão.\n",
    "\n",
    "\n",
    "**(b) z é correlacionada com educ, isto é, Cov(z, educ) != 0**\n",
    "\n",
    "Como verificar a validade de (a) e (b)?\n",
    "\n"
   ]
  },
  {
   "cell_type": "markdown",
   "metadata": {},
   "source": [
    "# Estimador em dois estágios"
   ]
  },
  {
   "cell_type": "markdown",
   "metadata": {},
   "source": [
    "http://hedibert.org/wp-content/uploads/2014/05/Econometria201401-Aula15a-ARLMXII-Endogeneidade.pdf"
   ]
  },
  {
   "cell_type": "code",
   "execution_count": null,
   "metadata": {},
   "outputs": [],
   "source": []
  }
 ],
 "metadata": {
  "kernelspec": {
   "display_name": "Python 3",
   "language": "python",
   "name": "python3"
  },
  "language_info": {
   "codemirror_mode": {
    "name": "ipython",
    "version": 3
   },
   "file_extension": ".py",
   "mimetype": "text/x-python",
   "name": "python",
   "nbconvert_exporter": "python",
   "pygments_lexer": "ipython3",
   "version": "3.6.4"
  },
  "toc": {
   "base_numbering": 1,
   "nav_menu": {},
   "number_sections": true,
   "sideBar": true,
   "skip_h1_title": false,
   "title_cell": "Table of Contents",
   "title_sidebar": "Contents",
   "toc_cell": false,
   "toc_position": {},
   "toc_section_display": true,
   "toc_window_display": false
  }
 },
 "nbformat": 4,
 "nbformat_minor": 2
}
