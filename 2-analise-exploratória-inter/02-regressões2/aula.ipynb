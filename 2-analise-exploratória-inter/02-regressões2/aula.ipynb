{
 "cells": [
  {
   "cell_type": "markdown",
   "metadata": {},
   "source": [
    "### Regressões Multiplas\n",
    "\n",
    "Exemplo (1) Modelando uma regressão multipla para entender como diferentes variáveis afetam os preços de casas nos EUA.\n",
    "\n",
    "Features:\n",
    "- **price** - The last price the house was sold for\n",
    "- **num_bed** - The number of bedrooms\n",
    "- **num_bath** - The number of bathrooms (fractions mean the house has a toilet-only or shower/bathtub-only bathroom)\n",
    "- **size_house** (includes basement) - The size of the house\n",
    "- **size_lot** - The size of the lot\n",
    "- **num_floors** - The number of floors\n",
    "- **is_waterfront** - Whether or not the house is a waterfront house (0 means it is not a waterfront house whereas 1 means that it is a waterfront house)\n",
    "- **condition** - How worn out the house is. Ranges from 1 (needs repairs all over the place) to 5 (the house is very well maintained)\n",
    "- **size_basement** - The size of the basement\n",
    "- **year_built** - The year the house was built\n",
    "- **renovation_date** - The year the house was renovated for the last time. 0 means the house has never been renovated\n",
    "- **zip** - The zip code\n",
    "- **latitude** - Latitude\n",
    "- **longitude** - Longitude\n",
    "- **avg_size_neighbor_houses** - The average house size of the neighbors\n",
    "- **avg_size_neighbor_lot** - The average lot size of the neighbors"
   ]
  },
  {
   "cell_type": "code",
   "execution_count": 2,
   "metadata": {},
   "outputs": [],
   "source": [
    "import pandas as pd\n",
    "import numpy as np\n",
    "import statsmodels.formula.api as smf\n",
    "import matplotlib.pyplot as plt\n",
    "import seaborn as sns\n",
    "from scipy import stats\n",
    "from sklearn import linear_model\n",
    "from sklearn.metrics import mean_squared_error, r2_score\n",
    "\n",
    "import warnings\n",
    "warnings.filterwarnings(\"ignore\")\n",
    "\n",
    "%matplotlib inline\n",
    "%config InlineBackend.figure_formats=['svg']"
   ]
  },
  {
   "cell_type": "code",
   "execution_count": null,
   "metadata": {},
   "outputs": [],
   "source": [
    "df = pd.read_csv('house_sales.csv')"
   ]
  },
  {
   "cell_type": "code",
   "execution_count": null,
   "metadata": {},
   "outputs": [],
   "source": [
    "df.describe()"
   ]
  },
  {
   "cell_type": "code",
   "execution_count": null,
   "metadata": {},
   "outputs": [],
   "source": [
    "corrmat = df[['price','size_house','num_bath','size_house','size_lot','num_floors','is_waterfront','year_built','latitude','longitude','avg_size_neighbor_houses','avg_size_neighbor_lot']].corr()\n",
    "cols = corrmat.nlargest(10, 'price')['price'].index\n",
    "cm = np.corrcoef(df[cols].values.T)\n",
    "sns.set(font_scale=1.15)\n",
    "f, ax = plt.subplots(figsize=(12, 9))\n",
    "hm = sns.heatmap(cm, cbar=True, annot=True, square=True, fmt='.2f', annot_kws={'size': 10}, yticklabels=cols.values, xticklabels=cols.values)"
   ]
  },
  {
   "cell_type": "code",
   "execution_count": null,
   "metadata": {},
   "outputs": [],
   "source": [
    "from IPython.display import Image\n",
    "Image(filename=r'img\\houses_tableau.jpg')"
   ]
  },
  {
   "cell_type": "code",
   "execution_count": null,
   "metadata": {},
   "outputs": [],
   "source": [
    "function1 = '''\n",
    "price ~ \n",
    " + size_house\n",
    " + num_bath\n",
    " + size_house\n",
    " + size_lot\n",
    " + num_floors\n",
    " + is_waterfront\n",
    " + year_built\n",
    " + latitude\n",
    " + longitude\n",
    " + avg_size_neighbor_houses\n",
    " + avg_size_neighbor_lot\n",
    "'''\n",
    "\n",
    "model1 = smf.ols(function1, df).fit()\n",
    "print(model1.summary2())"
   ]
  },
  {
   "cell_type": "code",
   "execution_count": null,
   "metadata": {},
   "outputs": [],
   "source": []
  },
  {
   "cell_type": "code",
   "execution_count": null,
   "metadata": {},
   "outputs": [],
   "source": []
  },
  {
   "cell_type": "code",
   "execution_count": null,
   "metadata": {},
   "outputs": [],
   "source": []
  }
 ],
 "metadata": {
  "kernelspec": {
   "display_name": "Python 3",
   "language": "python",
   "name": "python3"
  },
  "language_info": {
   "codemirror_mode": {
    "name": "ipython",
    "version": 3
   },
   "file_extension": ".py",
   "mimetype": "text/x-python",
   "name": "python",
   "nbconvert_exporter": "python",
   "pygments_lexer": "ipython3",
   "version": "3.6.4"
  }
 },
 "nbformat": 4,
 "nbformat_minor": 2
}
