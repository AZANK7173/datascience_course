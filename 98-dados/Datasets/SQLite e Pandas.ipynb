{
 "cells": [
  {
   "cell_type": "markdown",
   "metadata": {},
   "source": [
    "# SQL/SQLite com Pandas\n",
    "\n",
    "Este notebook serve para gerenciar e manipular o DB SQLite com todos os datasets usados em aula.\n",
    "\n",
    "## Índice\n",
    "\n",
    "1. [Importação de um CSV para um DB com Pandas](#python-import)\n",
    "2. [Importação de um CSV para um DB com a linha de comando (mais rápido, permite arquivos maiores, mas com menos controle)](#shell-import)\n",
    "3. [Atualização da tabela-catálogo chamada **00datasets**](#00datasets)\n",
    "4. [Faça queries no banco de dados pronto](#query)"
   ]
  },
  {
   "cell_type": "markdown",
   "metadata": {},
   "source": [
    "<a id=\"python-import\"></a>\n",
    "## 1. Como importar um CSV no DB, com Pandas"
   ]
  },
  {
   "cell_type": "code",
   "execution_count": null,
   "metadata": {},
   "outputs": [],
   "source": [
    "import pandas as pd\n",
    "import sqlite3\n",
    "\n",
    "\n",
    "dbfile = \"datasets.db\"\n",
    "csv = \"air-passengers.zip\"\n",
    "nova_tabela = \"kaggle_air_passengers\"\n",
    "\n",
    "db = sqlite3.connect(dbfile)\n",
    "\n",
    "df = pd.read_csv(csv)\n",
    "\n",
    "df.head(30)"
   ]
  },
  {
   "cell_type": "markdown",
   "metadata": {},
   "source": [
    "Insira aqui algumas manipulações que queira fazer no dataframe antes de mandá-lo para o DB..."
   ]
  },
  {
   "cell_type": "code",
   "execution_count": null,
   "metadata": {},
   "outputs": [],
   "source": [
    "# ...\n",
    "\n",
    "# df.drop('rowid', axis=1, inplace=True)\n",
    "# df"
   ]
  },
  {
   "cell_type": "markdown",
   "metadata": {},
   "source": [
    "Determina o tipo de cada coluna baseado no `dtype` da `Series` da coluna."
   ]
  },
  {
   "cell_type": "code",
   "execution_count": null,
   "metadata": {},
   "outputs": [],
   "source": [
    "sqlDataTypes={}\n",
    "\n",
    "for c in df.columns:\n",
    "    if df[c].dtype.kind == 'i':\n",
    "        sqlDataTypes[c]='INTEGER'\n",
    "    elif df[c].dtype.kind == 'f':\n",
    "        sqlDataTypes[c]='REAL'\n",
    "    else:\n",
    "        sqlDataTypes[c]='TEXT'\n",
    "\n",
    "sqlDataTypes"
   ]
  },
  {
   "cell_type": "markdown",
   "metadata": {},
   "source": [
    "Agora escreve no DB"
   ]
  },
  {
   "cell_type": "code",
   "execution_count": null,
   "metadata": {},
   "outputs": [],
   "source": [
    "df.to_sql(nova_tabela, index=False, if_exists='replace', dtype=sqlDataTypes, con=db)"
   ]
  },
  {
   "cell_type": "markdown",
   "metadata": {},
   "source": [
    "Depois de inserir todos os dados e todas as tabelas, dê uma limpada (com o `vacuum`) e feche o banco"
   ]
  },
  {
   "cell_type": "code",
   "execution_count": null,
   "metadata": {},
   "outputs": [],
   "source": [
    "db.cursor().execute(\"VACUUM\")\n",
    "db.commit()\n",
    "db.close()"
   ]
  },
  {
   "cell_type": "markdown",
   "metadata": {},
   "source": [
    "Este método cria uma tabela com o conteúdo do dataframe."
   ]
  },
  {
   "cell_type": "markdown",
   "metadata": {},
   "source": [
    "<a id=\"shell-import\"></a>\n",
    "## 2. Como importar um CSV no DB com a linha de comando do sistema operacional\n",
    "\n",
    "O método anterior, com Pandas, é muito limpo porque permite manipulações. Mas está sujeito aos limites do Pandas e de sua RAM (memória do computador). O método Pandas não vai funcionar caso seu CSV seja gigatesco.\n",
    "\n",
    "O método a seguir é mais simples e usa somente SQL do SQLite. É incrivelmente rápido e funciona com qualquer tamanho de arquivo CSV. Mas importa os dados (cria tabelas no DB) sem se importar muito com tipos de cada coluna (vai criar tudo como coluna TEXT). Qualquer otimização e transformação deve ser feita depois, com SQL.\n",
    "\n",
    "Se você não tem o comando **sqlite3** (Mac e Linux têm), use o [SQLite Browser](https://sqlitebrowser.org/) (Windows, Mac e Linux) com os comandos `.mode` e `.import` abaixo. Ou com suas opções de menu."
   ]
  },
  {
   "cell_type": "raw",
   "metadata": {},
   "source": [
    "sqlite3 ARQUIVO.DB\n",
    "sqlite> .mode csv\n",
    "sqlite> .import ARQUIVO.CSV NOME_DA_NOVA_TABELA"
   ]
  },
  {
   "cell_type": "markdown",
   "metadata": {},
   "source": [
    "<a id=\"00datasets\"></a>\n",
    "## 3. Não esqueça de atualizar a tabela **00datasets** !!!!!!!!!!!!11\n",
    "\n",
    "A tabela **00datasets** contém metadados sobre:\n",
    "* o nome da tabela/dataset\n",
    "* de onde veio\n",
    "* quem incluiu no DB\n",
    "* aula e notebook onde é usado"
   ]
  },
  {
   "cell_type": "code",
   "execution_count": null,
   "metadata": {},
   "outputs": [],
   "source": [
    "import pandas as pd\n",
    "import sqlite3\n",
    "\n",
    "dbfile = \"datasets.db\"\n",
    "controle = \"00datasets\"\n",
    "\n",
    "db = sqlite3.connect(dbfile)\n",
    "datasets = pd.read_sql_query(f'select * from \"{controle}\" order by origin desc, usedOn desc', db)\n",
    "\n",
    "datasets"
   ]
  },
  {
   "cell_type": "code",
   "execution_count": null,
   "metadata": {},
   "outputs": [],
   "source": [
    "# Edite este valores com seu nome, URL de origem etc.\n",
    "# Se não tiver com o que completar, deixe a linha em comentário para usar o que já estava no DB ou meter NULL.\n",
    "\n",
    "criador = \"EXEMPLO:Mané da Silva\"\n",
    "# origem = \"EXEMPLO:http://algumlugar.com\"\n",
    "usado = \"EXEMPLO:59 Módulo/03 Aula/notebook.ipynb;60 Módulo/02 Aula/notebook.ipynb\"\n",
    "nova_tabela = nova_tabela\n",
    "\n",
    "# Pare de editar aqui. Código genérico abaixo...\n",
    "\n",
    "linha=dict(datasets[datasets.name==nova_tabela])\n",
    "linha['name']=nova_tabela\n",
    "\n",
    "try:\n",
    "    linha['createdBy']=criador\n",
    "except NameError:\n",
    "    pass\n",
    "\n",
    "try:\n",
    "    linha['origin']=origem\n",
    "except NameError:\n",
    "    pass\n",
    "\n",
    "try:\n",
    "    linha['usedOn']=usado\n",
    "except NameError:\n",
    "    pass\n",
    "\n",
    "\n",
    "atualizador = \"\"\"\n",
    "    INSERT OR REPLACE INTO '00datasets'\n",
    "    VALUES (:name,:createdBy,:origin,:usedOn)\n",
    "\"\"\"\n",
    "\n",
    "db.execute(atualizador,linha)\n",
    "db.commit()\n",
    "db.execute(\"VACUUM\") # dá uma otimizadinha no DB\n",
    "db.commit()\n",
    "db.close()"
   ]
  },
  {
   "cell_type": "markdown",
   "metadata": {},
   "source": [
    "<a id=\"query\"></a>\n",
    "## 4. Como carregar uma tabela do DB para um DataFrame Pandas\n",
    "\n",
    "Este é exemplo de código a ser usado nos notebooks na prática..."
   ]
  },
  {
   "cell_type": "code",
   "execution_count": null,
   "metadata": {},
   "outputs": [],
   "source": [
    "import pandas as pd\n",
    "import sqlite3\n",
    "\n",
    "\n",
    "\n",
    "dbfile = \"datasets.db\"\n",
    "tabela = \"airlines\"\n",
    "\n",
    "\n",
    "db = sqlite3.connect(dbfile)\n",
    "df = pd.read_sql_query(f'select * from \"{tabela}\"', db)\n",
    "\n",
    "\n",
    "df.info()"
   ]
  },
  {
   "cell_type": "code",
   "execution_count": null,
   "metadata": {},
   "outputs": [],
   "source": [
    "df.head(30)"
   ]
  }
 ],
 "metadata": {
  "kernelspec": {
   "display_name": "Python 3",
   "language": "python",
   "name": "python3"
  },
  "language_info": {
   "codemirror_mode": {
    "name": "ipython",
    "version": 3
   },
   "file_extension": ".py",
   "mimetype": "text/x-python",
   "name": "python",
   "nbconvert_exporter": "python",
   "pygments_lexer": "ipython3",
   "version": "3.7.3"
  }
 },
 "nbformat": 4,
 "nbformat_minor": 2
}
