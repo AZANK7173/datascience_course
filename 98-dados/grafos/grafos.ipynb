{
 "cells": [
  {
   "cell_type": "markdown",
   "metadata": {},
   "source": [
    "\n",
    "# Grafos\n",
    "\n",
    "<img src='https://s3-ap-south-1.amazonaws.com/av-blog-media/wp-content/uploads/2018/03/graph1.png' >\n",
    "\n",
    "Considere que esse grafo que representa os locais de uma cidade que as pessoas geralmente visitam e o caminho seguido por um visitante daquela cidade. Vamos considerar V como os lugares e E como o caminho para viajar de um lugar para outro.\n",
    "\n",
    "`V = {v1, v2, v3, v4, v5} `\n",
    "\n",
    "`(V2, v5), (v5, v5), (v4, v5), (v4, v4))`\n",
    "\n",
    "A aresta (u, v) é a mesma que a aresta (v, u) - Eles são pares não ordenados.\n",
    "\n",
    "Concretamente - os grafos são estruturas matemáticas usadas para estudar as relações entre pares de objetos e entidades. É um ramo da Matemática Discreta e encontrou múltiplas aplicações em Ciência da Computação, Química, Lingüística, Pesquisa Operacional, Sociologia etc.\n",
    "\n",
    "O campo Data Science and Analytics também usou grafos para modelar várias estruturas e problemas. Como Cientista de Dados, você deve ser capaz de resolver problemas de maneira eficiente e os grafos fornecem um mecanismo para fazer isso nos casos em que os dados são organizados de uma maneira específica.\n",
    "\n",
    "Formalmente,\n",
    "\n",
    "- Um  grafo  é um par de conjuntos. G = (V,E). V é o conjunto de vértices. E é um conjunto de arestas. E é composto de pares de elementos de V (par não ordenado)\n",
    "- Um  DiGraph  é também um par de conjuntos. D = (V,A). V é o conjunto de vértices. A é o conjunto de arcos. A é composto de pares de elementos de V (par ordenado)\n",
    "\n",
    "\n",
    "No caso de digrafos, existe uma distinção entre `(u, v)` e `(v, u)`. Geralmente as arestas são chamadas de arcos em tais casos para indicar uma noção de direção.\n",
    "\n",
    "Existem pacotes que existem em R e Python para analisar dados usando conceitos de teoria de grafos. Neste artigo, examinaremos brevemente alguns conceitos e analisaremos um conjunto de dados usando o pacote Networkx Python.\n",
    "\n",
    "<img src='https://s3-ap-south-1.amazonaws.com/av-blog-media/wp-content/uploads/2018/03/graph2.png'>\n",
    "\n",
    "Grafos é um formato de representar os dados muito genérico e flexivel e tem milhares de aplicações basicamente porque sua complexidade permite conter os formatos mais simples como bancos de dados estruturados e outras possibilidades que seriam muito complexas para esses bancos tradicionais.\n",
    "\n",
    "\n",
    "Abaixo algumas aplicações:\n",
    "- Marketing Analytics - Grafos podem ser usados ​​para descobrir as pessoas mais influentes em uma rede social. Os anunciantes e profissionais de marketing podem estimar o maior retorno do marketing ao rotear sua mensagem pelas pessoas mais influentes em uma rede social.\n",
    "\n",
    "- Transações bancárias - Os gráficos podem ser usados ​​para encontrar padrões incomuns ajudando na mitigação de transações fraudulentas. Houve exemplos em que a atividade terrorista foi detectada pela análise do fluxo de dinheiro entre redes bancárias interconectadas\n",
    "\n",
    "\n",
    "- Pharma - As empresas farmacêuticas podem otimizar as rotas do vendedor usando a teoria dos grafos. Isso ajuda a reduzir custos e reduzir o tempo de viagem para o vendedor\n",
    "\n",
    "- Telecom - As empresas de telecomunicações geralmente usam grafos (diagramas de Voronoi) para entender a quantidade e a localização das torres de celular para garantir a cobertura máxima.\n",
    "\n",
    "\n",
    "# História e Por que Grafos?\n",
    "\n",
    "História dos Gráficos\n",
    "Se você quiser saber mais sobre como as ideias do gráfico foram formuladas - continue a ler!\n",
    "\n",
    "A origem da teoria pode ser rastreada até o problema da ponte de Konigsberg (por volta de 1730). O problema pergunta se as sete pontes da cidade de Konigsberg podem ser atravessadas sob as seguintes restrições\n",
    "\n",
    "sem duplicação\n",
    "você termina no mesmo lugar em que começou\n",
    "Isto é o mesmo que perguntar se o multigrafo de 4 nós e 7 arestas tem um ciclo Euleriano (Um ciclo Euleriano é um caminho Euleriano que inicia e termina no mesmo Vertex. E um caminho Euleriano é um caminho em um Gráfico que atravessa cada aresta exatamente uma vez. Mais Terminologia é fornecida abaixo). Este problema levou ao conceito de Eulerian Graph. No caso do problema da ponte de Konigsberg, a resposta é não e foi respondida pela primeira vez por (você adivinhou) Euler.\n",
    "\n",
    "Em 1840, AF Mobius deu a ideia de grafos completos e grafos bipartidos e Kuratowski provou que eles são planares por meio de problemas recreativos. O conceito de árvore (um gráfico conectado sem ciclos) foi implementado por Gustav Kirchhoff em 1845, e ele empregou idéias teóricas gráficas no cálculo de correntes em redes ou circuitos elétricos.\n",
    "\n",
    "Em 1852, Thomas Gutherie encontrou o famoso problema das quatro cores. Então, em 1856, Thomas. P. Kirkman e William R.Hamilton estudaram ciclos de polihidra e inventaram o conceito chamado gráfico hamiltoniano estudando viagens que visitavam certos locais exatamente uma vez. Em 1913, H.Dudeney mencionou um problema de quebra-cabeça. Embora o problema das quatro cores tenha sido inventado, foi resolvido apenas após um século por Kenneth Appel e Wolfgang Haken. Este tempo é considerado como o nascimento da Teoria dos Gráficos.\n",
    "\n",
    "Caley estudou formas analíticas específicas a partir do cálculo diferencial para estudar as árvores. Isso teve muitas implicações na química teórica. Isso levou à invenção da teoria dos grafos enumerativos. Qualquer como o termo \"Graph\" foi introduzido por Sylvester em 1878, onde ele fez uma analogia entre \"invariantes quânticos\" e covariantes de álgebra e diagramas moleculares.\n",
    "\n",
    "Em 1941, Ramsey trabalhou em colorações que levaram à identificação de outro ramo da teoria dos grafos chamado teoria dos grafos extremos. Em 1969, o problema das quatro cores foi resolvido usando computadores por Heinrich. O estudo da conectividade do gráfico assintótico deu origem à teoria de grafos aleatórios. As histórias da Teoria dos Gráficos e Topologia também estão intimamente relacionadas. Eles compartilham muitos conceitos e teoremas comuns.\n",
    "\n",
    "<img src='https://s3-ap-south-1.amazonaws.com/av-blog-media/wp-content/uploads/2018/03/graph4.png' >\n",
    "\n",
    "# Por que Grafos?\n",
    "\n",
    "Aqui estão alguns pontos que o ajudam a motivar o uso de gráficos em seus problemas cotidianos de ciência de dados -\n",
    "\n",
    "- Os gráficos fornecem uma maneira melhor de lidar com conceitos abstratos, como relacionamentos e interações. Eles também oferecem uma maneira intuitivamente visual de pensar sobre esses conceitos. Os gráficos também formam uma base natural para analisar as relações em um contexto social\n",
    "- Os bancos de dados gráficos tornaram-se ferramentas e alternativas computacionais comuns aos bancos de dados SQL e NoSQL\n",
    "- Os grafos são usados ​​para modelar fluxos de trabalho analíticos na forma de DAGs (Gráficos acíclicos direcionados)\n",
    "- Alguns frameworks de redes neurais também usam DAGs para modelar as várias operações em diferentes camadas\n",
    "- Os conceitos da Teoria Gráfica são usados ​​para estudar e modelar Redes Sociais, Padrões de Fraude, Padrões de Consumo de Energia, Viralidade e Influência em Mídias Sociais. A Análise de Redes Sociais (SNA) é provavelmente a aplicação mais conhecida da Teoria dos Gráficos para a Ciência de Dados.\n",
    "- É usado em algoritmos de clustering - especificamente K-Means\n",
    "- O System Dynamics também usa alguns conceitos da Teoria de Gráficos - Especificamente, loops\n",
    "- Otimização de caminho é um subconjunto do problema de otimização que também usa conceitos de gráfico\n",
    "- De uma perspectiva da Ciência da Computação - os gráficos oferecem eficiência computacional. A complexidade do Big O para alguns algoritmos é melhor para dados organizados na forma de gráficos (em comparação com dados tabulares)\n",
    " \n",
    "\n",
    "Terminologia você deveria saber\n",
    "\n",
    "Antes de ir mais longe no artigo, é recomendável que você se familiarize com essas terminologias.\n",
    "\n",
    "- Os vértices  u e  v são chamados  end vertices de borda (u,v)\n",
    "- Se duas arestas têm o mesmo  end vertices são Parallel\n",
    "- Uma borda do formulário  (v,v) é um loop\n",
    "- Um gráfico é  simple se não tiver  arestas e loops paralelos\n",
    "- Um gráfico é dito  Empty se não tiver  bordas . Significado  E está vazio\n",
    "- Um gráfico é um  Null Graph se não tem  vértices . Significado  V e  E está vazio\n",
    "- Um gráfico com apenas  1 vértice  é um  Trivial gráfico\n",
    "- As arestas  são  Adjacent se elas tiverem um vértice comum. Vértices  são  Adjacent se eles têm uma vantagem comum\n",
    "- O  grau  do vértice  v, escrito como  d(v), é o número de  arestas  com  v um vértice final. Por convenção, contamos um loop duas vezes e as arestas paralelas contribuem separadamente\n",
    "- Vértices isolados  são vértices com grau 1.  d(1) vértices são isolados\n",
    "- Um grafo é  concluído  se seu conjunto de arestas contiver todas as arestas possíveis entre TODOS os vértices\n",
    "- A  Walk em um gráfico  G = (V,E) é uma seqüência finita e alternada da forma   V i E i ViEi   consistindo de vértices e arestas do grafo G\n",
    "- Uma caminhada é  Open se os vértices inicial e final forem diferentes. Uma caminhada é  Closed se os vértices inicial e final são os mesmos\n",
    "- Uma caminhada é um  Trail se qualquer borda é atravessada no máximo uma vez\n",
    "- A trilha é um  Path se qualquer vértice é percorrido no máximo uma vez (exceto para uma caminhada fechada)\n",
    "- Um Caminho Fechado é um  Circuit - Análogo a circuitos elétricos\n",
    " \n",
    "\n",
    "# Conceitos da Teoria dos Grafos\n",
    "\n",
    "Nesta seção, veremos alguns dos conceitos úteis para análise de dados (em nenhuma ordem específica). Por favor, note que existem muito mais conceitos que requerem uma profundidade que está fora do escopo deste artigo. Então vamos entrar nisso\n",
    " \n",
    "\n",
    "**Comprimento Médio do Caminho**\n",
    "A média dos comprimentos de caminho mais curtos para todos os pares de nós possíveis. Dá uma medida de 'estanqueidade' do gráfico e pode ser usado para entender a rapidez com que algo flui nesta rede.\n",
    "\n",
    "\n",
    "**BFS e DFS**\n",
    "A primeira pesquisa de amplitude (BFS) e a  primeira pesquisa de profundidade (DFS) são dois algoritmos diferentes usados ​​para pesquisar nós em um gráfico. Eles são normalmente usados ​​para descobrir se podemos alcançar um nó de um determinado nó. Isso também é conhecido como  Traversal de Gráfico\n",
    "\n",
    "O objetivo do BFS é percorrer o gráfico o mais próximo possível do nó raiz, enquanto o algoritmo DFS tem como objetivo mover-se o mais longe possível do nó raiz.\n",
    "\n",
    "\n",
    "**Centralidade****\n",
    "Uma das** ferramentas conceituais mais utilizadas e importantes para a análise de redes. A centralidade visa encontrar os nós mais importantes em uma rede. Pode haver diferentes noções de “importante” e, portanto, existem muitas medidas de centralidade. As próprias medidas de centralidade têm uma forma de classificação (ou Tipos de medidas de centralidade). Existem medidas que são caracterizadas pelo fluxo ao longo das bordas e aquelas que são caracterizadas pela Estrutura da Caminhada.\n",
    "\n",
    "Alguns dos mais usados ​​são:\n",
    "\n",
    "- Grau Centralidade  - A primeira e conceitualmente a mais simples definição de Centralidade. Esse é o número de arestas conectadas a um nó. No caso de um gráfico direcionado, podemos ter medidas de centralidade de 2 graus. Centralidade de entrada e saída\n",
    "- Centralidade de Proximidade  - De um nó é o comprimento médio do caminho mais curto do nó para todos os outros nós\n",
    "- Centralidade de Betweenness  - Número de vezes que um nó está presente no caminho mais curto entre dois outros nós\n",
    "\n",
    "Essas medidas de centralidade têm variantes e as definições podem ser implementadas usando vários algoritmos. Tudo somado, isso significa um grande número de definições e algoritmos.\n",
    "\n",
    " \n",
    "\n",
    "**Densidade de Rede**\n",
    "Uma medida de quantas arestas tem um gráfico. A definição real irá variar dependendo do tipo de gráfico e do contexto em que a pergunta é feita. Para um gráfico não direcionado completo, a densidade é 1, enquanto é 0 para um gráfico vazio. Gráfico A densidade pode ser maior que 1 em algumas situações (envolvendo loops).\n",
    "\n",
    " \n",
    "\n",
    "**Randomizações de Gráficos**\n",
    "Embora as definições de algumas métricas do Gráfico possam ser fáceis de calcular, não é fácil entender sua importância relativa. Usamos Randomizações de Rede / Gráfico em tais casos. Calculamos a métrica para o gráfico em questão e para outro   gráfico similar que é gerado aleatoriamente. Essa semelhança pode, por exemplo, ser o mesmo número de densidade e nós. Normalmente geramos um gráfico aleatório semelhante a 1.000 e calculamos a métrica do gráfico para cada um deles e, em seguida, comparamos com a mesma métrica para o gráfico em mãos para chegar a alguma noção de um benchmark.\n",
    "\n",
    "No Data Science, quando se tenta fazer uma afirmação sobre um gráfico, ajuda se ele for contrastado com alguns gráficos gerados aleatoriamente.\n",
    "\n",
    " \n",
    "\n",
    "Familiarizando-se com gráficos em python\n",
    "Nós estaremos usando o  networkx pacote em Python. Ele pode ser instalado no ambiente Raiz do Anaconda (se você estiver usando a distribuição Anaconda do Python). Você também pode  pip install .\n",
    "\n",
    "Vamos ver algumas coisas comuns que podem ser feitas com o pacote Networkx. Estes incluem importar e criar um gráfico e formas de visualizá-lo.\n",
    "\n",
    "# Criação de Gráficos"
   ]
  },
  {
   "cell_type": "code",
   "execution_count": 1,
   "metadata": {},
   "outputs": [],
   "source": [
    "import networkx as nx\n",
    "\n",
    "# Creating a Graph \n",
    "G = nx.Graph() # Right now G is empty\n",
    "\n",
    "# Add a node\n",
    "G.add_node(1) \n",
    "G.add_nodes_from([2,3]) # You can also add a list of nodes by passing a list argument\n",
    "\n",
    "# Add edges \n",
    "G.add_edge(1,2)\n",
    "\n",
    "e = (2,3)\n",
    "G.add_edge(*e) # * unpacks the tuple\n",
    "G.add_edges_from([(1,2), (1,3)]) # Just like nodes we can add edges from a list"
   ]
  },
  {
   "cell_type": "markdown",
   "metadata": {},
   "source": [
    "Os atributos Node e Edge podem ser adicionados junto com a criação de Nodes e Edges passando um nó contendo tupla e um atributo dict.\n",
    "\n",
    "Além de construir gráficos de nó a nó ou de borda a borda, eles também podem ser gerados aplicando operações gráficas clássicas, como:\n",
    "\n",
    "    subgraph(G, nbunch)      - induced subgraph view of G on nodes in nbunch\n",
    "    union(G1,G2)             - graph union\n",
    "    disjoint_union(G1,G2)    - graph union assuming all nodes are different\n",
    "    cartesian_product(G1,G2) - return Cartesian product graph\n",
    "    compose(G1,G2)           - combine graphs identifying nodes common to both\n",
    "    complement(G)            - graph complement\n",
    "    create_empty_copy(G)     - return an empty copy of the same graph class\n",
    "    convert_to_undirected(G) - return an undirected representation of G\n",
    "    convert_to_directed(G)   - return a directed representation of G\n",
    "    \n",
    "\n",
    "Existem classes separadas para diferentes tipos de gráficos. Por exemplo, a  nx.DiGraph() classe permite criar um gráfico direcionado. Gráficos específicos contendo caminhos podem ser criados diretamente usando um único método. Para uma lista completa dos métodos de criação de gráficos, consulte a documentação completa. Link é dado no final do artigo.\n",
    "\n",
    "<img src='https://s3-ap-south-1.amazonaws.com/av-blog-media/wp-content/uploads/2018/03/graph5.png'>\n",
    "\n",
    "Acessando arestas e nós\n",
    "Nós e arestas podem ser acessados ​​juntos usando os   métodos G.nodes() e  G.edges(). Os nós e bordas individuais podem ser acessados ​​usando a notação de colchetes / subscrito."
   ]
  },
  {
   "cell_type": "code",
   "execution_count": 3,
   "metadata": {},
   "outputs": [
    {
     "data": {
      "text/plain": [
       "NodeView((1, 2, 3))"
      ]
     },
     "execution_count": 3,
     "metadata": {},
     "output_type": "execute_result"
    }
   ],
   "source": [
    "G.nodes()"
   ]
  },
  {
   "cell_type": "code",
   "execution_count": 4,
   "metadata": {},
   "outputs": [
    {
     "data": {
      "text/plain": [
       "EdgeView([(1, 2), (1, 3), (2, 3)])"
      ]
     },
     "execution_count": 4,
     "metadata": {},
     "output_type": "execute_result"
    }
   ],
   "source": [
    "G.edges()"
   ]
  },
  {
   "cell_type": "markdown",
   "metadata": {},
   "source": [
    "### Visualização Gráfica\n",
    "\n",
    "O Networkx fornece funcionalidade básica para visualizar gráficos, mas seu principal objetivo é permitir a análise de gráficos em vez de realizar a visualização de gráficos. A visualização gráfica é difícil e teremos que usar ferramentas específicas dedicadas para essa tarefa. Matplotlib oferece algumas funções de conveniência. Mas  GraphViz é provavelmente a melhor ferramenta para nós, pois oferece uma interface Python na forma de  PyGraphViz (link para a documentação abaixo)."
   ]
  },
  {
   "cell_type": "code",
   "execution_count": 5,
   "metadata": {},
   "outputs": [
    {
     "data": {
      "image/png": "[encoded data removed]",
      "text/plain": [
       "<Figure size 432x288 with 1 Axes>"
      ]
     },
     "metadata": {},
     "output_type": "display_data"
    }
   ],
   "source": [
    "%matplotlib inline\n",
    "import matplotlib.pyplot as plt\n",
    "nx.draw(G)"
   ]
  },
  {
   "cell_type": "markdown",
   "metadata": {},
   "source": [
    "obs: Um pacote muito flexivel para manipular grafos é o graphviz, mas ele pode ser chato de instalar o Graphviz é um pouco chato, no windows voce deve instalar o executavel e passar o path da pasta bin para as variaveis de ambiente\n",
    "\n",
    "# Análise em um conjunto de dados\n",
    "Nós estaremos olhando para tomar um conjunto de dados genéricos (não um que é especificamente destinado a ser usado para gráficos) e fazer alguma manipulação (em pandas) para que ele possa ser ingerido em um gráfico na forma de um edgelist. E edgelist é uma lista de tuplas que contêm os vértices que definem cada borda\n",
    "\n",
    "O conjunto de dados que veremos vem da indústria de linhas aéreas. Tem algumas informações básicas sobre as rotas da companhia aérea. Há uma fonte de uma viagem e um destino. Há também algumas colunas indicando os horários de chegada e partida para cada viagem. Como você pode imaginar, esse conjunto de dados se presta muito bem para ser analisado como um gráfico. Imagine algumas cidades (nós) conectadas por rotas aéreas (arestas). Se você é uma companhia aérea, você pode fazer algumas perguntas como\n",
    "\n",
    "Qual é o caminho mais curto para ir de A para B? Em termos de distância e em termos de tempo\n",
    "Existe uma maneira de ir de C para D?\n",
    "Quais aeroportos têm o tráfego mais pesado?\n",
    "Qual aeroporto em “entre” a maioria dos outros aeroportos? Para que possa ser convertido em um hub local"
   ]
  },
  {
   "cell_type": "code",
   "execution_count": 2,
   "metadata": {},
   "outputs": [],
   "source": [
    "import pandas as pd \n",
    "import numpy as np\n",
    "\n",
    "data = pd.read_csv('Airlines.csv')"
   ]
  },
  {
   "cell_type": "code",
   "execution_count": 5,
   "metadata": {},
   "outputs": [
    {
     "data": {
      "text/html": [
       "<div>\n",
       "<style scoped>\n",
       "    .dataframe tbody tr th:only-of-type {\n",
       "        vertical-align: middle;\n",
       "    }\n",
       "\n",
       "    .dataframe tbody tr th {\n",
       "        vertical-align: top;\n",
       "    }\n",
       "\n",
       "    .dataframe thead th {\n",
       "        text-align: right;\n",
       "    }\n",
       "</style>\n",
       "<table border=\"1\" class=\"dataframe\">\n",
       "  <thead>\n",
       "    <tr style=\"text-align: right;\">\n",
       "      <th></th>\n",
       "      <th>year</th>\n",
       "      <th>month</th>\n",
       "      <th>day</th>\n",
       "      <th>dep_time</th>\n",
       "      <th>sched_dep_time</th>\n",
       "      <th>dep_delay</th>\n",
       "      <th>arr_time</th>\n",
       "      <th>sched_arr_time</th>\n",
       "      <th>arr_delay</th>\n",
       "      <th>carrier</th>\n",
       "      <th>flight</th>\n",
       "      <th>tailnum</th>\n",
       "      <th>origin</th>\n",
       "      <th>dest</th>\n",
       "      <th>air_time</th>\n",
       "      <th>distance</th>\n",
       "    </tr>\n",
       "  </thead>\n",
       "  <tbody>\n",
       "    <tr>\n",
       "      <th>0</th>\n",
       "      <td>2013</td>\n",
       "      <td>2</td>\n",
       "      <td>26</td>\n",
       "      <td>1807.0</td>\n",
       "      <td>1630</td>\n",
       "      <td>97.0</td>\n",
       "      <td>1956.0</td>\n",
       "      <td>1837</td>\n",
       "      <td>79.0</td>\n",
       "      <td>EV</td>\n",
       "      <td>4411</td>\n",
       "      <td>N13566</td>\n",
       "      <td>EWR</td>\n",
       "      <td>MEM</td>\n",
       "      <td>144.0</td>\n",
       "      <td>946</td>\n",
       "    </tr>\n",
       "    <tr>\n",
       "      <th>1</th>\n",
       "      <td>2013</td>\n",
       "      <td>8</td>\n",
       "      <td>17</td>\n",
       "      <td>1459.0</td>\n",
       "      <td>1445</td>\n",
       "      <td>14.0</td>\n",
       "      <td>1801.0</td>\n",
       "      <td>1747</td>\n",
       "      <td>14.0</td>\n",
       "      <td>B6</td>\n",
       "      <td>1171</td>\n",
       "      <td>N661JB</td>\n",
       "      <td>LGA</td>\n",
       "      <td>FLL</td>\n",
       "      <td>147.0</td>\n",
       "      <td>1076</td>\n",
       "    </tr>\n",
       "    <tr>\n",
       "      <th>2</th>\n",
       "      <td>2013</td>\n",
       "      <td>2</td>\n",
       "      <td>13</td>\n",
       "      <td>1812.0</td>\n",
       "      <td>1815</td>\n",
       "      <td>-3.0</td>\n",
       "      <td>2055.0</td>\n",
       "      <td>2125</td>\n",
       "      <td>-30.0</td>\n",
       "      <td>AS</td>\n",
       "      <td>7</td>\n",
       "      <td>N403AS</td>\n",
       "      <td>EWR</td>\n",
       "      <td>SEA</td>\n",
       "      <td>315.0</td>\n",
       "      <td>2402</td>\n",
       "    </tr>\n",
       "    <tr>\n",
       "      <th>3</th>\n",
       "      <td>2013</td>\n",
       "      <td>4</td>\n",
       "      <td>11</td>\n",
       "      <td>2122.0</td>\n",
       "      <td>2115</td>\n",
       "      <td>7.0</td>\n",
       "      <td>2339.0</td>\n",
       "      <td>2353</td>\n",
       "      <td>-14.0</td>\n",
       "      <td>B6</td>\n",
       "      <td>97</td>\n",
       "      <td>N656JB</td>\n",
       "      <td>JFK</td>\n",
       "      <td>DEN</td>\n",
       "      <td>221.0</td>\n",
       "      <td>1626</td>\n",
       "    </tr>\n",
       "    <tr>\n",
       "      <th>4</th>\n",
       "      <td>2013</td>\n",
       "      <td>8</td>\n",
       "      <td>5</td>\n",
       "      <td>1832.0</td>\n",
       "      <td>1835</td>\n",
       "      <td>-3.0</td>\n",
       "      <td>2145.0</td>\n",
       "      <td>2155</td>\n",
       "      <td>-10.0</td>\n",
       "      <td>AA</td>\n",
       "      <td>269</td>\n",
       "      <td>N3EYAA</td>\n",
       "      <td>JFK</td>\n",
       "      <td>SEA</td>\n",
       "      <td>358.0</td>\n",
       "      <td>2422</td>\n",
       "    </tr>\n",
       "  </tbody>\n",
       "</table>\n",
       "</div>"
      ],
      "text/plain": [
       "   year  month  day  dep_time  sched_dep_time  dep_delay  arr_time  \\\n",
       "0  2013      2   26    1807.0            1630       97.0    1956.0   \n",
       "1  2013      8   17    1459.0            1445       14.0    1801.0   \n",
       "2  2013      2   13    1812.0            1815       -3.0    2055.0   \n",
       "3  2013      4   11    2122.0            2115        7.0    2339.0   \n",
       "4  2013      8    5    1832.0            1835       -3.0    2145.0   \n",
       "\n",
       "   sched_arr_time  arr_delay carrier  flight tailnum origin dest  air_time  \\\n",
       "0            1837       79.0      EV    4411  N13566    EWR  MEM     144.0   \n",
       "1            1747       14.0      B6    1171  N661JB    LGA  FLL     147.0   \n",
       "2            2125      -30.0      AS       7  N403AS    EWR  SEA     315.0   \n",
       "3            2353      -14.0      B6      97  N656JB    JFK  DEN     221.0   \n",
       "4            2155      -10.0      AA     269  N3EYAA    JFK  SEA     358.0   \n",
       "\n",
       "   distance  \n",
       "0       946  \n",
       "1      1076  \n",
       "2      2402  \n",
       "3      1626  \n",
       "4      2422  "
      ]
     },
     "execution_count": 5,
     "metadata": {},
     "output_type": "execute_result"
    }
   ],
   "source": [
    "data.head()"
   ]
  },
  {
   "cell_type": "code",
   "execution_count": 6,
   "metadata": {},
   "outputs": [
    {
     "data": {
      "text/html": [
       "<div>\n",
       "<style scoped>\n",
       "    .dataframe tbody tr th:only-of-type {\n",
       "        vertical-align: middle;\n",
       "    }\n",
       "\n",
       "    .dataframe tbody tr th {\n",
       "        vertical-align: top;\n",
       "    }\n",
       "\n",
       "    .dataframe thead th {\n",
       "        text-align: right;\n",
       "    }\n",
       "</style>\n",
       "<table border=\"1\" class=\"dataframe\">\n",
       "  <thead>\n",
       "    <tr style=\"text-align: right;\">\n",
       "      <th></th>\n",
       "      <th>year</th>\n",
       "      <th>month</th>\n",
       "      <th>day</th>\n",
       "      <th>dep_time</th>\n",
       "      <th>sched_dep_time</th>\n",
       "      <th>dep_delay</th>\n",
       "      <th>arr_time</th>\n",
       "      <th>sched_arr_time</th>\n",
       "      <th>arr_delay</th>\n",
       "      <th>flight</th>\n",
       "      <th>air_time</th>\n",
       "      <th>distance</th>\n",
       "    </tr>\n",
       "  </thead>\n",
       "  <tbody>\n",
       "    <tr>\n",
       "      <th>count</th>\n",
       "      <td>100.0</td>\n",
       "      <td>100.000000</td>\n",
       "      <td>100.000000</td>\n",
       "      <td>99.000000</td>\n",
       "      <td>100.0000</td>\n",
       "      <td>99.000000</td>\n",
       "      <td>99.000000</td>\n",
       "      <td>100.000000</td>\n",
       "      <td>99.000000</td>\n",
       "      <td>100.000000</td>\n",
       "      <td>99.000000</td>\n",
       "      <td>100.000000</td>\n",
       "    </tr>\n",
       "    <tr>\n",
       "      <th>mean</th>\n",
       "      <td>2013.0</td>\n",
       "      <td>5.770000</td>\n",
       "      <td>15.950000</td>\n",
       "      <td>1333.828283</td>\n",
       "      <td>1317.7100</td>\n",
       "      <td>8.262626</td>\n",
       "      <td>1499.141414</td>\n",
       "      <td>1540.820000</td>\n",
       "      <td>1.111111</td>\n",
       "      <td>1943.980000</td>\n",
       "      <td>151.181818</td>\n",
       "      <td>1037.010000</td>\n",
       "    </tr>\n",
       "    <tr>\n",
       "      <th>std</th>\n",
       "      <td>0.0</td>\n",
       "      <td>3.475324</td>\n",
       "      <td>8.848186</td>\n",
       "      <td>520.292991</td>\n",
       "      <td>501.6042</td>\n",
       "      <td>37.000437</td>\n",
       "      <td>561.939807</td>\n",
       "      <td>529.796023</td>\n",
       "      <td>38.698175</td>\n",
       "      <td>1614.206544</td>\n",
       "      <td>79.341083</td>\n",
       "      <td>618.106468</td>\n",
       "    </tr>\n",
       "    <tr>\n",
       "      <th>min</th>\n",
       "      <td>2013.0</td>\n",
       "      <td>1.000000</td>\n",
       "      <td>1.000000</td>\n",
       "      <td>511.000000</td>\n",
       "      <td>515.0000</td>\n",
       "      <td>-11.000000</td>\n",
       "      <td>9.000000</td>\n",
       "      <td>43.000000</td>\n",
       "      <td>-53.000000</td>\n",
       "      <td>7.000000</td>\n",
       "      <td>39.000000</td>\n",
       "      <td>187.000000</td>\n",
       "    </tr>\n",
       "    <tr>\n",
       "      <th>25%</th>\n",
       "      <td>2013.0</td>\n",
       "      <td>2.000000</td>\n",
       "      <td>10.000000</td>\n",
       "      <td>824.500000</td>\n",
       "      <td>822.7500</td>\n",
       "      <td>-5.000000</td>\n",
       "      <td>1035.500000</td>\n",
       "      <td>1043.000000</td>\n",
       "      <td>-19.500000</td>\n",
       "      <td>526.750000</td>\n",
       "      <td>101.000000</td>\n",
       "      <td>630.000000</td>\n",
       "    </tr>\n",
       "    <tr>\n",
       "      <th>50%</th>\n",
       "      <td>2013.0</td>\n",
       "      <td>5.000000</td>\n",
       "      <td>16.000000</td>\n",
       "      <td>1354.000000</td>\n",
       "      <td>1350.0000</td>\n",
       "      <td>-3.000000</td>\n",
       "      <td>1556.000000</td>\n",
       "      <td>1613.500000</td>\n",
       "      <td>-9.000000</td>\n",
       "      <td>1573.500000</td>\n",
       "      <td>136.000000</td>\n",
       "      <td>973.500000</td>\n",
       "    </tr>\n",
       "    <tr>\n",
       "      <th>75%</th>\n",
       "      <td>2013.0</td>\n",
       "      <td>9.000000</td>\n",
       "      <td>23.000000</td>\n",
       "      <td>1816.500000</td>\n",
       "      <td>1811.2500</td>\n",
       "      <td>2.000000</td>\n",
       "      <td>2033.000000</td>\n",
       "      <td>2041.500000</td>\n",
       "      <td>5.000000</td>\n",
       "      <td>3379.750000</td>\n",
       "      <td>183.000000</td>\n",
       "      <td>1113.750000</td>\n",
       "    </tr>\n",
       "    <tr>\n",
       "      <th>max</th>\n",
       "      <td>2013.0</td>\n",
       "      <td>12.000000</td>\n",
       "      <td>31.000000</td>\n",
       "      <td>2311.000000</td>\n",
       "      <td>2155.0000</td>\n",
       "      <td>235.000000</td>\n",
       "      <td>2359.000000</td>\n",
       "      <td>2359.000000</td>\n",
       "      <td>221.000000</td>\n",
       "      <td>6101.000000</td>\n",
       "      <td>358.000000</td>\n",
       "      <td>2565.000000</td>\n",
       "    </tr>\n",
       "  </tbody>\n",
       "</table>\n",
       "</div>"
      ],
      "text/plain": [
       "         year       month         day     dep_time  sched_dep_time  \\\n",
       "count   100.0  100.000000  100.000000    99.000000        100.0000   \n",
       "mean   2013.0    5.770000   15.950000  1333.828283       1317.7100   \n",
       "std       0.0    3.475324    8.848186   520.292991        501.6042   \n",
       "min    2013.0    1.000000    1.000000   511.000000        515.0000   \n",
       "25%    2013.0    2.000000   10.000000   824.500000        822.7500   \n",
       "50%    2013.0    5.000000   16.000000  1354.000000       1350.0000   \n",
       "75%    2013.0    9.000000   23.000000  1816.500000       1811.2500   \n",
       "max    2013.0   12.000000   31.000000  2311.000000       2155.0000   \n",
       "\n",
       "        dep_delay     arr_time  sched_arr_time   arr_delay       flight  \\\n",
       "count   99.000000    99.000000      100.000000   99.000000   100.000000   \n",
       "mean     8.262626  1499.141414     1540.820000    1.111111  1943.980000   \n",
       "std     37.000437   561.939807      529.796023   38.698175  1614.206544   \n",
       "min    -11.000000     9.000000       43.000000  -53.000000     7.000000   \n",
       "25%     -5.000000  1035.500000     1043.000000  -19.500000   526.750000   \n",
       "50%     -3.000000  1556.000000     1613.500000   -9.000000  1573.500000   \n",
       "75%      2.000000  2033.000000     2041.500000    5.000000  3379.750000   \n",
       "max    235.000000  2359.000000     2359.000000  221.000000  6101.000000   \n",
       "\n",
       "         air_time     distance  \n",
       "count   99.000000   100.000000  \n",
       "mean   151.181818  1037.010000  \n",
       "std     79.341083   618.106468  \n",
       "min     39.000000   187.000000  \n",
       "25%    101.000000   630.000000  \n",
       "50%    136.000000   973.500000  \n",
       "75%    183.000000  1113.750000  \n",
       "max    358.000000  2565.000000  "
      ]
     },
     "execution_count": 6,
     "metadata": {},
     "output_type": "execute_result"
    }
   ],
   "source": [
    "data.describe()"
   ]
  },
  {
   "cell_type": "markdown",
   "metadata": {},
   "source": [
    "1) Notamos que a origem e o destino parecem boas escolhas para os nós. Tudo pode então ser imaginado como atributos de nó ou de borda. Uma única borda pode ser pensada como uma jornada. E tal jornada terá várias vezes, um número de vôo, um número de cauda de avião, etc associado a ele\n",
    "\n",
    "\n",
    "2) Percebemos que as informações de ano, mês, dia e horário estão espalhadas em muitas colunas. Queremos criar uma coluna datetime contendo todas essas informações. Também precisamos manter a hora e a hora planejadas e reais de chegada e partida separadas. Então, devemos finalmente ter 4 colunas de data e hora (Horários programados e reais de chegada e partida)\n",
    "\n",
    "\n",
    "3) Além disso, as colunas de hora não estão em um formato adequado. 16:30 é representado como 1630 em vez de 16:30. Não há delimitador para dividir essa coluna. Uma abordagem é usar métodos de string pandas e expressões regulares\n",
    "\n",
    "\n",
    "4) Também devemos observar que sched_dep_time e sched_arr_time são int64 dtype e dep_time e arr_time são float64 dtype. \n",
    "\n",
    "5) Uma complicação adicional é valores de NaN"
   ]
  },
  {
   "cell_type": "code",
   "execution_count": 7,
   "metadata": {},
   "outputs": [],
   "source": [
    "# converting sched_dep_time to 'std' - Scheduled time of departure\n",
    "data['std'] = data.sched_dep_time.astype(str).str.replace('(\\d{2}$)', '') + ':' + data.sched_dep_time.astype(str).str.extract('(\\d{2}$)', expand=False) + ':00'"
   ]
  },
  {
   "cell_type": "code",
   "execution_count": 8,
   "metadata": {},
   "outputs": [],
   "source": [
    "# converting sched_arr_time to 'sta' - Scheduled time of arrival\n",
    "data['sta'] = data.sched_arr_time.astype(str).str.replace('(\\d{2}$)', '') + ':' + data.sched_arr_time.astype(str).str.extract('(\\d{2}$)', expand=False) + ':00'\n",
    "\n",
    "# converting dep_time to 'atd' - Actual time of departure\n",
    "data['atd'] = data.dep_time.fillna(0).astype(np.int64).astype(str).str.replace('(\\d{2}$)', '') + ':' + data.dep_time.fillna(0).astype(np.int64).astype(str).str.extract('(\\d{2}$)', expand=False) + ':00'"
   ]
  },
  {
   "cell_type": "code",
   "execution_count": 9,
   "metadata": {},
   "outputs": [],
   "source": [
    "# converting arr_time to 'ata' - Actual time of arrival\n",
    "data['ata'] = data.arr_time.fillna(0).astype(np.int64).astype(str).str.replace('(\\d{2}$)', '') + ':' + data.arr_time.fillna(0).astype(np.int64).astype(str).str.extract('(\\d{2}$)', expand=False) + ':00'"
   ]
  },
  {
   "cell_type": "code",
   "execution_count": 10,
   "metadata": {},
   "outputs": [],
   "source": [
    "data ['date'] = pd.to_datetime (data [['year', 'month', 'day']])"
   ]
  },
  {
   "cell_type": "code",
   "execution_count": 11,
   "metadata": {},
   "outputs": [],
   "source": [
    "data = data.drop(columns = ['year', 'month', 'day'])"
   ]
  },
  {
   "cell_type": "markdown",
   "metadata": {},
   "source": [
    "Agora importe o conjunto de dados usando a função networkx que insere um dataframe de pandas diretamente. Assim como a criação de gráficos, há várias maneiras de os dados serem ingeridos em um gráfico a partir de vários formatos."
   ]
  },
  {
   "cell_type": "code",
   "execution_count": 12,
   "metadata": {},
   "outputs": [],
   "source": [
    "import networkx as nx\n",
    "FG = nx.from_pandas_edgelist(data, source='origin', target='dest', edge_attr=True,)"
   ]
  },
  {
   "cell_type": "code",
   "execution_count": 13,
   "metadata": {},
   "outputs": [
    {
     "data": {
      "text/plain": [
       "NodeView(('EWR', 'MEM', 'LGA', 'FLL', 'SEA', 'JFK', 'DEN', 'ORD', 'MIA', 'PBI', 'MCO', 'CMH', 'MSP', 'IAD', 'CLT', 'TPA', 'DCA', 'SJU', 'ATL', 'BHM', 'SRQ', 'MSY', 'DTW', 'LAX', 'JAX', 'RDU', 'MDW', 'DFW', 'IAH', 'SFO', 'STL', 'CVG', 'IND', 'RSW', 'BOS', 'CLE'))"
      ]
     },
     "execution_count": 13,
     "metadata": {},
     "output_type": "execute_result"
    }
   ],
   "source": [
    "FG.nodes()"
   ]
  },
  {
   "cell_type": "code",
   "execution_count": 22,
   "metadata": {},
   "outputs": [
    {
     "data": {
      "text/plain": [
       "EdgeView([('EWR', 'MEM'), ('EWR', 'SEA'), ('EWR', 'MIA'), ('EWR', 'ORD'), ('EWR', 'MSP'), ('EWR', 'TPA'), ('EWR', 'MSY'), ('EWR', 'DFW'), ('EWR', 'IAH'), ('EWR', 'SFO'), ('EWR', 'CVG'), ('EWR', 'IND'), ('EWR', 'RDU'), ('EWR', 'IAD'), ('EWR', 'RSW'), ('EWR', 'BOS'), ('EWR', 'PBI'), ('EWR', 'LAX'), ('EWR', 'MCO'), ('EWR', 'SJU'), ('LGA', 'FLL'), ('LGA', 'ORD'), ('LGA', 'PBI'), ('LGA', 'CMH'), ('LGA', 'IAD'), ('LGA', 'CLT'), ('LGA', 'MIA'), ('LGA', 'DCA'), ('LGA', 'BHM'), ('LGA', 'RDU'), ('LGA', 'ATL'), ('LGA', 'TPA'), ('LGA', 'MDW'), ('LGA', 'DEN'), ('LGA', 'MSP'), ('LGA', 'DTW'), ('LGA', 'STL'), ('LGA', 'MCO'), ('LGA', 'CVG'), ('LGA', 'IAH'), ('FLL', 'JFK'), ('SEA', 'JFK'), ('JFK', 'DEN'), ('JFK', 'MCO'), ('JFK', 'TPA'), ('JFK', 'SJU'), ('JFK', 'ATL'), ('JFK', 'SRQ'), ('JFK', 'DCA'), ('JFK', 'DTW'), ('JFK', 'LAX'), ('JFK', 'JAX'), ('JFK', 'CLT'), ('JFK', 'PBI'), ('JFK', 'CLE'), ('JFK', 'IAD'), ('JFK', 'BOS')])"
      ]
     },
     "execution_count": 22,
     "metadata": {},
     "output_type": "execute_result"
    }
   ],
   "source": [
    "FG.edges()"
   ]
  },
  {
   "cell_type": "code",
   "execution_count": 16,
   "metadata": {},
   "outputs": [
    {
     "data": {
      "image/png": "[encoded data removed]",
      "text/plain": [
       "<Figure size 432x288 with 1 Axes>"
      ]
     },
     "metadata": {},
     "output_type": "display_data"
    }
   ],
   "source": [
    "nx.draw_networkx(FG, with_labels=True, figsize=(18,12)) # Quick view of the Graph. As expected we see 3 very busy airports"
   ]
  },
  {
   "cell_type": "code",
   "execution_count": 24,
   "metadata": {},
   "outputs": [
    {
     "data": {
      "text/plain": [
       "0.09047619047619047"
      ]
     },
     "execution_count": 24,
     "metadata": {},
     "output_type": "execute_result"
    }
   ],
   "source": [
    "nx.algorithms.degree_centrality(FG) # Notice the 3 airports from which all of our 100 rows of data originates\n",
    "nx.density(FG) # Average edge density of the Graphs"
   ]
  },
  {
   "cell_type": "code",
   "execution_count": 25,
   "metadata": {},
   "outputs": [
    {
     "data": {
      "text/plain": [
       "2.36984126984127"
      ]
     },
     "execution_count": 25,
     "metadata": {},
     "output_type": "execute_result"
    }
   ],
   "source": [
    "nx.average_shortest_path_length(FG) # Average shortest path length for ALL paths in the Graph"
   ]
  },
  {
   "cell_type": "code",
   "execution_count": 26,
   "metadata": {},
   "outputs": [
    {
     "data": {
      "text/plain": [
       "{20: 1.95, 1: 19.307692307692307, 2: 19.0625, 17: 2.0588235294117645, 3: 19.0}"
      ]
     },
     "execution_count": 26,
     "metadata": {},
     "output_type": "execute_result"
    }
   ],
   "source": [
    "nx.average_degree_connectivity(FG) # For a node of degree k - What is the average of its neighbours' degree?"
   ]
  },
  {
   "cell_type": "markdown",
   "metadata": {},
   "source": [
    "Como é óbvio ao olhar para a visualização do gráfico (muito acima) - existem vários caminhos de alguns aeroportos para outros. Vamos dizer que queremos calcular a rota mais curta possível entre dois desses aeroportos. Logo de cara, podemos pensar em algumas maneiras de fazê-lo\n",
    "\n",
    "- Existe o caminho mais curto por distância\n",
    "- Existe o caminho mais curto por tempo de voo\n",
    "\n",
    "O que podemos fazer é calcular o algoritmo de caminho mais curto pesando os caminhos com a distância ou tempo de antena. Por favor, note que esta é uma solução aproximada - O problema real a ser resolvido é calcular o caminho mais curto que leva em consideração a disponibilidade de um voo quando você chega ao seu aeroporto de transferência + tempo de espera para a transferência. Esta é uma abordagem mais completa e é assim que os humanos normalmente planejam suas viagens. Para os propósitos deste artigo, apenas assumiremos que o voo está prontamente disponível quando você alcança um aeroporto e calcula o caminho mais curto usando o tempo de antena como o peso\n",
    "\n",
    "\n",
    "### Tomemos o exemplo de  JAX e  DFW aeroportos:"
   ]
  },
  {
   "cell_type": "code",
   "execution_count": 17,
   "metadata": {},
   "outputs": [
    {
     "name": "stdout",
     "output_type": "stream",
     "text": [
      "['JAX', 'JFK', 'DEN', 'LGA', 'ORD', 'EWR', 'DFW']\n",
      "['JAX', 'JFK', 'DEN', 'LGA', 'PBI', 'EWR', 'DFW']\n",
      "['JAX', 'JFK', 'DEN', 'LGA', 'IAD', 'EWR', 'DFW']\n",
      "['JAX', 'JFK', 'DEN', 'LGA', 'MIA', 'EWR', 'DFW']\n",
      "['JAX', 'JFK', 'DEN', 'LGA', 'RDU', 'EWR', 'DFW']\n",
      "['JAX', 'JFK', 'DEN', 'LGA', 'TPA', 'EWR', 'DFW']\n",
      "['JAX', 'JFK', 'DEN', 'LGA', 'MSP', 'EWR', 'DFW']\n",
      "['JAX', 'JFK', 'DEN', 'LGA', 'MCO', 'EWR', 'DFW']\n",
      "['JAX', 'JFK', 'DEN', 'LGA', 'CVG', 'EWR', 'DFW']\n",
      "['JAX', 'JFK', 'DEN', 'LGA', 'IAH', 'EWR', 'DFW']\n",
      "['JAX', 'JFK', 'SEA', 'EWR', 'DFW']\n",
      "['JAX', 'JFK', 'MCO', 'LGA', 'ORD', 'EWR', 'DFW']\n",
      "['JAX', 'JFK', 'MCO', 'LGA', 'PBI', 'EWR', 'DFW']\n",
      "['JAX', 'JFK', 'MCO', 'LGA', 'IAD', 'EWR', 'DFW']\n",
      "['JAX', 'JFK', 'MCO', 'LGA', 'MIA', 'EWR', 'DFW']\n",
      "['JAX', 'JFK', 'MCO', 'LGA', 'RDU', 'EWR', 'DFW']\n",
      "['JAX', 'JFK', 'MCO', 'LGA', 'TPA', 'EWR', 'DFW']\n",
      "['JAX', 'JFK', 'MCO', 'LGA', 'MSP', 'EWR', 'DFW']\n",
      "['JAX', 'JFK', 'MCO', 'LGA', 'CVG', 'EWR', 'DFW']\n",
      "['JAX', 'JFK', 'MCO', 'LGA', 'IAH', 'EWR', 'DFW']\n",
      "['JAX', 'JFK', 'MCO', 'EWR', 'DFW']\n",
      "['JAX', 'JFK', 'TPA', 'EWR', 'DFW']\n",
      "['JAX', 'JFK', 'TPA', 'LGA', 'ORD', 'EWR', 'DFW']\n",
      "['JAX', 'JFK', 'TPA', 'LGA', 'PBI', 'EWR', 'DFW']\n",
      "['JAX', 'JFK', 'TPA', 'LGA', 'IAD', 'EWR', 'DFW']\n",
      "['JAX', 'JFK', 'TPA', 'LGA', 'MIA', 'EWR', 'DFW']\n",
      "['JAX', 'JFK', 'TPA', 'LGA', 'RDU', 'EWR', 'DFW']\n",
      "['JAX', 'JFK', 'TPA', 'LGA', 'MSP', 'EWR', 'DFW']\n",
      "['JAX', 'JFK', 'TPA', 'LGA', 'MCO', 'EWR', 'DFW']\n",
      "['JAX', 'JFK', 'TPA', 'LGA', 'CVG', 'EWR', 'DFW']\n",
      "['JAX', 'JFK', 'TPA', 'LGA', 'IAH', 'EWR', 'DFW']\n",
      "['JAX', 'JFK', 'SJU', 'EWR', 'DFW']\n",
      "['JAX', 'JFK', 'ATL', 'LGA', 'ORD', 'EWR', 'DFW']\n",
      "['JAX', 'JFK', 'ATL', 'LGA', 'PBI', 'EWR', 'DFW']\n",
      "['JAX', 'JFK', 'ATL', 'LGA', 'IAD', 'EWR', 'DFW']\n",
      "['JAX', 'JFK', 'ATL', 'LGA', 'MIA', 'EWR', 'DFW']\n",
      "['JAX', 'JFK', 'ATL', 'LGA', 'RDU', 'EWR', 'DFW']\n",
      "['JAX', 'JFK', 'ATL', 'LGA', 'TPA', 'EWR', 'DFW']\n",
      "['JAX', 'JFK', 'ATL', 'LGA', 'MSP', 'EWR', 'DFW']\n",
      "['JAX', 'JFK', 'ATL', 'LGA', 'MCO', 'EWR', 'DFW']\n",
      "['JAX', 'JFK', 'ATL', 'LGA', 'CVG', 'EWR', 'DFW']\n",
      "['JAX', 'JFK', 'ATL', 'LGA', 'IAH', 'EWR', 'DFW']\n",
      "['JAX', 'JFK', 'DCA', 'LGA', 'ORD', 'EWR', 'DFW']\n",
      "['JAX', 'JFK', 'DCA', 'LGA', 'PBI', 'EWR', 'DFW']\n",
      "['JAX', 'JFK', 'DCA', 'LGA', 'IAD', 'EWR', 'DFW']\n",
      "['JAX', 'JFK', 'DCA', 'LGA', 'MIA', 'EWR', 'DFW']\n",
      "['JAX', 'JFK', 'DCA', 'LGA', 'RDU', 'EWR', 'DFW']\n",
      "['JAX', 'JFK', 'DCA', 'LGA', 'TPA', 'EWR', 'DFW']\n",
      "['JAX', 'JFK', 'DCA', 'LGA', 'MSP', 'EWR', 'DFW']\n",
      "['JAX', 'JFK', 'DCA', 'LGA', 'MCO', 'EWR', 'DFW']\n",
      "['JAX', 'JFK', 'DCA', 'LGA', 'CVG', 'EWR', 'DFW']\n",
      "['JAX', 'JFK', 'DCA', 'LGA', 'IAH', 'EWR', 'DFW']\n",
      "['JAX', 'JFK', 'DTW', 'LGA', 'ORD', 'EWR', 'DFW']\n",
      "['JAX', 'JFK', 'DTW', 'LGA', 'PBI', 'EWR', 'DFW']\n",
      "['JAX', 'JFK', 'DTW', 'LGA', 'IAD', 'EWR', 'DFW']\n",
      "['JAX', 'JFK', 'DTW', 'LGA', 'MIA', 'EWR', 'DFW']\n",
      "['JAX', 'JFK', 'DTW', 'LGA', 'RDU', 'EWR', 'DFW']\n",
      "['JAX', 'JFK', 'DTW', 'LGA', 'TPA', 'EWR', 'DFW']\n",
      "['JAX', 'JFK', 'DTW', 'LGA', 'MSP', 'EWR', 'DFW']\n",
      "['JAX', 'JFK', 'DTW', 'LGA', 'MCO', 'EWR', 'DFW']\n",
      "['JAX', 'JFK', 'DTW', 'LGA', 'CVG', 'EWR', 'DFW']\n",
      "['JAX', 'JFK', 'DTW', 'LGA', 'IAH', 'EWR', 'DFW']\n",
      "['JAX', 'JFK', 'LAX', 'EWR', 'DFW']\n",
      "['JAX', 'JFK', 'FLL', 'LGA', 'ORD', 'EWR', 'DFW']\n",
      "['JAX', 'JFK', 'FLL', 'LGA', 'PBI', 'EWR', 'DFW']\n",
      "['JAX', 'JFK', 'FLL', 'LGA', 'IAD', 'EWR', 'DFW']\n",
      "['JAX', 'JFK', 'FLL', 'LGA', 'MIA', 'EWR', 'DFW']\n",
      "['JAX', 'JFK', 'FLL', 'LGA', 'RDU', 'EWR', 'DFW']\n",
      "['JAX', 'JFK', 'FLL', 'LGA', 'TPA', 'EWR', 'DFW']\n",
      "['JAX', 'JFK', 'FLL', 'LGA', 'MSP', 'EWR', 'DFW']\n",
      "['JAX', 'JFK', 'FLL', 'LGA', 'MCO', 'EWR', 'DFW']\n",
      "['JAX', 'JFK', 'FLL', 'LGA', 'CVG', 'EWR', 'DFW']\n",
      "['JAX', 'JFK', 'FLL', 'LGA', 'IAH', 'EWR', 'DFW']\n",
      "['JAX', 'JFK', 'CLT', 'LGA', 'ORD', 'EWR', 'DFW']\n",
      "['JAX', 'JFK', 'CLT', 'LGA', 'PBI', 'EWR', 'DFW']\n",
      "['JAX', 'JFK', 'CLT', 'LGA', 'IAD', 'EWR', 'DFW']\n",
      "['JAX', 'JFK', 'CLT', 'LGA', 'MIA', 'EWR', 'DFW']\n",
      "['JAX', 'JFK', 'CLT', 'LGA', 'RDU', 'EWR', 'DFW']\n",
      "['JAX', 'JFK', 'CLT', 'LGA', 'TPA', 'EWR', 'DFW']\n",
      "['JAX', 'JFK', 'CLT', 'LGA', 'MSP', 'EWR', 'DFW']\n",
      "['JAX', 'JFK', 'CLT', 'LGA', 'MCO', 'EWR', 'DFW']\n",
      "['JAX', 'JFK', 'CLT', 'LGA', 'CVG', 'EWR', 'DFW']\n",
      "['JAX', 'JFK', 'CLT', 'LGA', 'IAH', 'EWR', 'DFW']\n",
      "['JAX', 'JFK', 'PBI', 'LGA', 'ORD', 'EWR', 'DFW']\n",
      "['JAX', 'JFK', 'PBI', 'LGA', 'IAD', 'EWR', 'DFW']\n",
      "['JAX', 'JFK', 'PBI', 'LGA', 'MIA', 'EWR', 'DFW']\n",
      "['JAX', 'JFK', 'PBI', 'LGA', 'RDU', 'EWR', 'DFW']\n",
      "['JAX', 'JFK', 'PBI', 'LGA', 'TPA', 'EWR', 'DFW']\n",
      "['JAX', 'JFK', 'PBI', 'LGA', 'MSP', 'EWR', 'DFW']\n",
      "['JAX', 'JFK', 'PBI', 'LGA', 'MCO', 'EWR', 'DFW']\n",
      "['JAX', 'JFK', 'PBI', 'LGA', 'CVG', 'EWR', 'DFW']\n",
      "['JAX', 'JFK', 'PBI', 'LGA', 'IAH', 'EWR', 'DFW']\n",
      "['JAX', 'JFK', 'PBI', 'EWR', 'DFW']\n",
      "['JAX', 'JFK', 'IAD', 'LGA', 'ORD', 'EWR', 'DFW']\n",
      "['JAX', 'JFK', 'IAD', 'LGA', 'PBI', 'EWR', 'DFW']\n",
      "['JAX', 'JFK', 'IAD', 'LGA', 'MIA', 'EWR', 'DFW']\n",
      "['JAX', 'JFK', 'IAD', 'LGA', 'RDU', 'EWR', 'DFW']\n",
      "['JAX', 'JFK', 'IAD', 'LGA', 'TPA', 'EWR', 'DFW']\n",
      "['JAX', 'JFK', 'IAD', 'LGA', 'MSP', 'EWR', 'DFW']\n",
      "['JAX', 'JFK', 'IAD', 'LGA', 'MCO', 'EWR', 'DFW']\n",
      "['JAX', 'JFK', 'IAD', 'LGA', 'CVG', 'EWR', 'DFW']\n",
      "['JAX', 'JFK', 'IAD', 'LGA', 'IAH', 'EWR', 'DFW']\n",
      "['JAX', 'JFK', 'IAD', 'EWR', 'DFW']\n",
      "['JAX', 'JFK', 'BOS', 'EWR', 'DFW']\n"
     ]
    }
   ],
   "source": [
    "# Let us find all the paths available\n",
    "for path in nx.all_simple_paths(FG, source='JAX', target='DFW'):\n",
    "    print(path)"
   ]
  },
  {
   "cell_type": "code",
   "execution_count": 29,
   "metadata": {},
   "outputs": [
    {
     "data": {
      "text/plain": [
       "['JAX', 'JFK', 'SEA', 'EWR', 'DFW']"
      ]
     },
     "execution_count": 29,
     "metadata": {},
     "output_type": "execute_result"
    }
   ],
   "source": [
    "# Let us find the dijkstra path from JAX to DFW.\n",
    "# You can read more in-depth on how dijkstra works from this resource - https://courses.csail.mit.edu/6.006/fall11/lectures/lecture16.pdf\n",
    "dijpath = nx.dijkstra_path(FG, source='JAX', target='DFW')\n",
    "dijpath"
   ]
  },
  {
   "cell_type": "markdown",
   "metadata": {},
   "source": [
    "# Conclusão\n",
    "Este artigo conseguiu, na melhor das hipóteses, apenas uma introdução superficial ao campo muito interessante da Teoria dos Gráficos e da análise de redes. O conhecimento da teoria e dos pacotes do Python irá adicionar um valioso conjunto de ferramentas ao arsenal de qualquer cientista de dados. Para o conjunto de dados usado acima, uma série de outras perguntas podem ser feitas como:\n",
    "\n",
    "Encontre o caminho mais curto entre dois aeroportos, dado custo, tempo de antena e disponibilidade?\n",
    "Você é uma companhia aérea e tem uma frota de aviões. Você tem uma ideia da demanda disponível para seus voos. Dado que você tem permissão para operar mais 2 aviões (ou adicionar 2 aviões à sua frota) em quais rotas você os operará para maximizar a lucratividade?\n",
    "Você pode reorganizar os voos e horários para otimizar um determinado parâmetro (como pontualidade ou lucratividade etc)\n",
    "Se você resolvê-los, deixe-nos saber nos comentários abaixo!\n",
    "\n",
    "A análise de rede ajudará a resolver alguns problemas comuns de ciência de dados e visualizá-los em uma escala e abstração muito maiores. Por favor, deixe um comentário se você gostaria de saber mais sobre qualquer outra coisa em particular.\n",
    "\n",
    "\n",
    "link do artigo original: https://www.analyticsvidhya.com/blog/2018/04/introduction-to-graph-theory-network-analysis-python-codes/"
   ]
  },
  {
   "cell_type": "code",
   "execution_count": null,
   "metadata": {},
   "outputs": [],
   "source": []
  }
 ],
 "metadata": {
  "kernelspec": {
   "display_name": "Python 3",
   "language": "python",
   "name": "python3"
  },
  "language_info": {
   "codemirror_mode": {
    "name": "ipython",
    "version": 3
   },
   "file_extension": ".py",
   "mimetype": "text/x-python",
   "name": "python",
   "nbconvert_exporter": "python",
   "pygments_lexer": "ipython3",
   "version": "3.6.5"
  }
 },
 "nbformat": 4,
 "nbformat_minor": 2
}
