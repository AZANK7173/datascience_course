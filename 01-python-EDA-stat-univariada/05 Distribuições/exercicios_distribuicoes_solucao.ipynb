{
 "cells": [
  {
   "cell_type": "markdown",
   "metadata": {},
   "source": [
    "# EXERCÍCIOS - DISTRIBUIÇÃO DE PROBABILIDADES"
   ]
  },
  {
   "cell_type": "code",
   "execution_count": null,
   "metadata": {},
   "outputs": [],
   "source": [
    "import matplotlib.pyplot as plt\n",
    "%matplotlib inline\n",
    "import numpy as np\n",
    "import pandas as pd\n",
    "from scipy import stats\n",
    "import seaborn as sns"
   ]
  },
  {
   "cell_type": "markdown",
   "metadata": {},
   "source": [
    "## (1) Função de Probabilidade - Distribuição Binomial\n",
    "\n",
    "### Seja X uma variável aleatória que contém o número de caras saídas em 12 lançamentos de uma moeda honesta. Qual a probabilidade de sair 5 caras em 12 lançamentos, P(X=5)\n",
    "\n",
    "\\begin{equation*}\n",
    "f(x)=  \\binom {n}{x} (p)^x (1-p)^{(n-x)}\n",
    "\\end{equation*}"
   ]
  },
  {
   "cell_type": "code",
   "execution_count": null,
   "metadata": {},
   "outputs": [],
   "source": [
    "import math\n",
    "\n",
    "x = 5  # número de sucassos\n",
    "n = 12  # número de lançamentos\n",
    "p = 0.5  # probabilidade\n",
    "\n",
    "P1 = math.factorial(n) / ( math.factorial(x) * math.factorial(n-x) ) * (p**5) * (1-p)**(n-x)\n",
    "P1"
   ]
  },
  {
   "cell_type": "markdown",
   "metadata": {},
   "source": [
    "## (2) Função de Probabilidade - Distribuição de Poisson\n",
    "\n",
    "### Um departamento de polícia recebe em média 5 solicitações por hora.  Qual  a  probabilidade  de  receber  2 solicitações numa hora selecionada aleatoriamente? \n",
    "\n",
    "\\begin{equation*}\n",
    "f(x)= e^{-\\lambda} \\dfrac{\\lambda^x}{x!}\n",
    "\\end{equation*}"
   ]
  },
  {
   "cell_type": "code",
   "execution_count": null,
   "metadata": {},
   "outputs": [],
   "source": [
    "from math import e"
   ]
  },
  {
   "cell_type": "code",
   "execution_count": null,
   "metadata": {},
   "outputs": [],
   "source": [
    "X = 2  # número designado de sucessos\n",
    "l = 5  # número médio de sucessos num intervalo específico (uma hora)\n",
    "\n",
    "P2 = ( l ** X ) * ( e ** -l ) / math.factorial(X)\n",
    "P2"
   ]
  },
  {
   "cell_type": "markdown",
   "metadata": {},
   "source": [
    "## (3) Função de Probabilidade\n",
    "\n",
    "### (Meyer,2000) Suponha que Xt, o nº de partículas emitidas em t horas por uma fonte radioativa, tenha uma distribuição de Poisson com parâmetro 20t. Qual será a probabilidade de que exatamente 5 partículas sejam emitidas durante um período de 15 min?"
   ]
  },
  {
   "cell_type": "code",
   "execution_count": null,
   "metadata": {},
   "outputs": [],
   "source": [
    "X = 5  # número designado de sucessos\n",
    "l = 20 * 1/4  # número médio de sucessos num intervalo específico (t=quinze minutos) lambda = 20*t\n",
    "\n",
    "P3 = ( l ** X ) * ( e ** -l ) / math.factorial(X)\n",
    "P3"
   ]
  },
  {
   "cell_type": "markdown",
   "metadata": {},
   "source": [
    "## (4) Plotando uma Distribuição Normal\n",
    "\n",
    "### Gere uma distribuição normal com o peso da população, utilize média=70, desvio=25 e 100 observações e Plot a Função Densidade de Probabilidade (fdp em português mas vocês acharam mais frequentemente pdf, probability density functions)."
   ]
  },
  {
   "cell_type": "code",
   "execution_count": null,
   "metadata": {},
   "outputs": [],
   "source": [
    "mean = 70\n",
    "std = 25\n",
    "n = 100\n",
    "\n",
    "df4 = pd.DataFrame(np.random.normal(loc=mean,scale=std,size=n))\n",
    "\n",
    "df4.plot.hist(bins=20)"
   ]
  },
  {
   "cell_type": "markdown",
   "metadata": {},
   "source": [
    "## (5) Normalização\n",
    "\n",
    "### Normalize a distribuição anterior com z-score\n",
    "\n",
    "$Z \\sim \\dfrac{x - \\mu} {\\sigma^{2}\\,} $\n"
   ]
  },
  {
   "cell_type": "markdown",
   "metadata": {},
   "source": [
    "#### Método raiz"
   ]
  },
  {
   "cell_type": "code",
   "execution_count": null,
   "metadata": {},
   "outputs": [],
   "source": [
    "df4.columns = ['peso']\n",
    "df4['peso'] = ( df4['peso'] - df4['peso'].mean() ) / df4['peso'].std()\n",
    "df4.head()"
   ]
  },
  {
   "cell_type": "markdown",
   "metadata": {},
   "source": [
    "#### Utilizando uma função"
   ]
  },
  {
   "cell_type": "code",
   "execution_count": null,
   "metadata": {},
   "outputs": [],
   "source": [
    "def standardize(df):\n",
    "    avg = df.mean()\n",
    "    stdv = df.std()\n",
    "    df_standardized = (df - avg)/ stdv\n",
    "    return (df_standardized)"
   ]
  },
  {
   "cell_type": "code",
   "execution_count": null,
   "metadata": {},
   "outputs": [],
   "source": [
    "standardize(df4).head()"
   ]
  },
  {
   "cell_type": "markdown",
   "metadata": {},
   "source": [
    "#### Utilizando função Lambda"
   ]
  },
  {
   "cell_type": "code",
   "execution_count": null,
   "metadata": {
    "scrolled": true
   },
   "outputs": [],
   "source": [
    "standarize = lambda x: (x-x.mean()) / x.std()\n",
    "standarize(df4).head()"
   ]
  },
  {
   "cell_type": "markdown",
   "metadata": {},
   "source": [
    "#### Utilizando Sklearn.Preprocessing"
   ]
  },
  {
   "cell_type": "code",
   "execution_count": null,
   "metadata": {},
   "outputs": [],
   "source": [
    "from sklearn import preprocessing\n",
    "\n",
    "# Get column names first\n",
    "names = df4.columns\n",
    "\n",
    "# Create the Scaler object\n",
    "scaler = preprocessing.StandardScaler()\n",
    "\n",
    "# Fit your data on the scaler object\n",
    "scaled_df = scaler.fit_transform(df4)\n",
    "scaled_df = pd.DataFrame(scaled_df, columns=names)"
   ]
  },
  {
   "cell_type": "code",
   "execution_count": null,
   "metadata": {},
   "outputs": [],
   "source": [
    "scaled_df.head()"
   ]
  },
  {
   "cell_type": "markdown",
   "metadata": {},
   "source": [
    "![z-score e suas probabilidades](http://www.portalaction.com.br/sites/default/files/EstatisticaBasica/figuras/distribuicaoNormal/normal3.PNG)\n"
   ]
  },
  {
   "cell_type": "markdown",
   "metadata": {},
   "source": [
    "# Avançado\n",
    "\n",
    "## (6) Cálculo de probabilidade \n",
    "\n",
    "Sugira um procedimento para descobrirmos qual a probabilidade de um individuo ter peso menor que 20kg (não é necessário calcular, apenas descrever).\n",
    "\n",
    "- Vamos supor que a probabilidade encontrada é p%, seria possível descobrir a probabilidade de encontrar um individuo com mais de 120kg através de p%?\n",
    "- E se quisermos saber apenas a probabilidade de um individuo ter peso entre 70 e 120?"
   ]
  },
  {
   "cell_type": "code",
   "execution_count": null,
   "metadata": {},
   "outputs": [],
   "source": [
    "# probabilidade cumulativa até o peso de 20 Kg\n",
    "\n",
    "peso_20 = 20\n",
    "\n",
    "prob_20 = scipy.stats.norm(mean, std).cdf(peso_20)\n",
    "prob_20"
   ]
  },
  {
   "cell_type": "code",
   "execution_count": null,
   "metadata": {},
   "outputs": [],
   "source": [
    "# Subtraimos de 1 a probabilidade cumulativa até o peso de 120 Kg\n",
    "\n",
    "peso_120 = 120\n",
    "\n",
    "prob_120 = 1 - scipy.stats.norm(mean, std).cdf(peso_120)\n",
    "prob_120"
   ]
  },
  {
   "cell_type": "code",
   "execution_count": null,
   "metadata": {},
   "outputs": [],
   "source": [
    "# Para o intervalo de 70 Kg a 120 Kg\n",
    "\n",
    "peso_70 = 70\n",
    "\n",
    "prob_70 = 1 - scipy.stats.norm(mean, std).cdf(peso_70)\n",
    "prob_70\n",
    "\n",
    "prob_70 - prob_120"
   ]
  },
  {
   "cell_type": "markdown",
   "metadata": {},
   "source": [
    "## Desafio - Homework\n",
    "\n",
    "O número de vezes que um indivíduo tem gripe em determinado ano é uma\n",
    "variável aleatória de Poisson com λ = 5. Suponha que um novo medicamento reduza\n",
    "o parâmetro λ para 3 em 75% da população. Para os 25% restantes a droga não tem\n",
    "um efeito significativo. Se um indivíduo toma o medicamento durante um ano e tem\n",
    "duas gripes, qual a probabilidade de que o medicamento seja benéfico para ele\n",
    "(ela)? Com base nesse resultado, se o indivíduo soubesse essa probabilidade a\n",
    "priori, você acha que ele deveria continuar tomando o medicamento?"
   ]
  },
  {
   "cell_type": "code",
   "execution_count": null,
   "metadata": {},
   "outputs": [],
   "source": [
    "# Segundo POISSON, a probabilidade P_gripe de gripes em um indivíduo é:\n",
    "\n",
    "X = 2  # número de gripes tomando medicamento \n",
    "l = 5  # número médio de gripes num intervalo específico (um ano)\n",
    "\n",
    "P_gripe = ( l ** X ) * ( e ** -l ) / math.factorial(X)\n",
    "P_gripe"
   ]
  },
  {
   "cell_type": "code",
   "execution_count": null,
   "metadata": {},
   "outputs": [],
   "source": [
    "# Segundo POISSON, a probabilidade P_med de gripes em um indivíduo tomando o novo medicamento é:\n",
    "\n",
    "X = 2  # número de gripes tomando medicamento \n",
    "l = 3  # número médio de gripes num intervalo específico (um ano)\n",
    "\n",
    "P_med = ( l ** X ) * ( e ** -l ) / math.factorial(X)\n",
    "P_med"
   ]
  },
  {
   "cell_type": "code",
   "execution_count": null,
   "metadata": {},
   "outputs": [],
   "source": [
    "# Segundo o enunciado, P_med para lambda=3 temos 75%, e P_gripe para lambda=5 temos 25%\n",
    "# Este será o nosso espaço amostral Ω\n",
    "\n",
    "espaço_amostral = ( P_med*0.75 ) + ( P_gripe*0.25 )\n",
    "espaço_amostral"
   ]
  },
  {
   "cell_type": "code",
   "execution_count": null,
   "metadata": {},
   "outputs": [],
   "source": [
    "# Portanto a nossa probabilidade é 75% de P3 para lambda=3 (toma o novo medicamento) dividido pelo espaço amostral total\n",
    "\n",
    "prob_total = P_med*0.75 / espaço_amostral\n",
    "prob_total"
   ]
  },
  {
   "cell_type": "code",
   "execution_count": null,
   "metadata": {},
   "outputs": [],
   "source": []
  }
 ],
 "metadata": {
  "kernelspec": {
   "display_name": "Python 3",
   "language": "python",
   "name": "python3"
  },
  "language_info": {
   "codemirror_mode": {
    "name": "ipython",
    "version": 3
   },
   "file_extension": ".py",
   "mimetype": "text/x-python",
   "name": "python",
   "nbconvert_exporter": "python",
   "pygments_lexer": "ipython3",
   "version": "3.7.2"
  }
 },
 "nbformat": 4,
 "nbformat_minor": 2
}
