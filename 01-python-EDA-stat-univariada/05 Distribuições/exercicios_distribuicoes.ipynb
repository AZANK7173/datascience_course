{
 "cells": [
  {
   "cell_type": "markdown",
   "metadata": {},
   "source": [
    "# EXERCÍCIOS - DISTRIBUIÇÃO DE PROBABILIDADES"
   ]
  },
  {
   "cell_type": "code",
   "execution_count": null,
   "metadata": {},
   "outputs": [],
   "source": [
    "import matplotlib.pyplot as plt\n",
    "%matplotlib inline\n",
    "import numpy as np\n",
    "import pandas as pd\n",
    "from scipy import stats\n",
    "import seaborn as sns"
   ]
  },
  {
   "cell_type": "markdown",
   "metadata": {},
   "source": [
    "## (1) Função de Probabilidade - Distribuição Binomial\n",
    "\n",
    "### Seja X uma variável aleatória que contém o número de caras saídas em 12 lançamentos de uma moeda honesta. Qual a probabilidade de sair 5 caras em 12 lançamentos, P(X=5)\n",
    "\n",
    "\\begin{equation*}\n",
    "f(x)=  \\binom {n}{x} (p)^x (1-p)^{(n-x)}\n",
    "\\end{equation*}"
   ]
  },
  {
   "cell_type": "code",
   "execution_count": null,
   "metadata": {},
   "outputs": [],
   "source": [
    "import math"
   ]
  },
  {
   "cell_type": "markdown",
   "metadata": {},
   "source": [
    "## (2) Função de Probabilidade - Distribuição de Poisson\n",
    "\n",
    "### Um departamento de polícia recebe em média 5 solicitações por hora.  Qual  a  probabilidade  de  receber  2 solicitações numa hora selecionada aleatoriamente? \n",
    "\n",
    "\\begin{equation*}\n",
    "f(x)= e^{-\\lambda} \\dfrac{\\lambda^x}{x!}\n",
    "\\end{equation*}"
   ]
  },
  {
   "cell_type": "code",
   "execution_count": null,
   "metadata": {},
   "outputs": [],
   "source": [
    "from math import e"
   ]
  },
  {
   "cell_type": "code",
   "execution_count": null,
   "metadata": {},
   "outputs": [],
   "source": []
  },
  {
   "cell_type": "markdown",
   "metadata": {},
   "source": [
    "## (3) Função de Probabilidade\n",
    "\n",
    "### (Meyer,2000) Suponha que Xt, o nº de partículas emitidas em t horas por uma fonte radioativa, tenha uma distribuição de Poisson com parâmetro 20t. Qual será a probabilidade de que exatamente 5 partículas sejam emitidas durante um período de 15 min?"
   ]
  },
  {
   "cell_type": "code",
   "execution_count": null,
   "metadata": {},
   "outputs": [],
   "source": []
  },
  {
   "cell_type": "markdown",
   "metadata": {},
   "source": [
    "## (4) Plotando uma Distribuição Normal\n",
    "\n",
    "### Gere uma distribuição normal com o peso da população, utilize média=70, desvio=25 e 100 observações e Plot a Função Densidade de Probabilidade (fdp em português mas vocês acharam mais frequentemente pdf, probability density functions)."
   ]
  },
  {
   "cell_type": "code",
   "execution_count": null,
   "metadata": {},
   "outputs": [],
   "source": []
  },
  {
   "cell_type": "markdown",
   "metadata": {},
   "source": [
    "## (5) Normalização\n",
    "\n",
    "### Normalize a distribuição anterior com z-score\n",
    "\n",
    "$Z \\sim \\dfrac{x - \\mu} {\\sigma^{2}\\,} $\n"
   ]
  },
  {
   "cell_type": "markdown",
   "metadata": {},
   "source": [
    "#### Método raiz"
   ]
  },
  {
   "cell_type": "code",
   "execution_count": null,
   "metadata": {},
   "outputs": [],
   "source": []
  },
  {
   "cell_type": "markdown",
   "metadata": {},
   "source": [
    "#### Utilizando uma função"
   ]
  },
  {
   "cell_type": "code",
   "execution_count": null,
   "metadata": {},
   "outputs": [],
   "source": []
  },
  {
   "cell_type": "code",
   "execution_count": null,
   "metadata": {},
   "outputs": [],
   "source": [
    "standardize(df4).head()"
   ]
  },
  {
   "cell_type": "markdown",
   "metadata": {},
   "source": [
    "#### Utilizando função Lambda"
   ]
  },
  {
   "cell_type": "code",
   "execution_count": null,
   "metadata": {
    "scrolled": true
   },
   "outputs": [],
   "source": []
  },
  {
   "cell_type": "markdown",
   "metadata": {},
   "source": [
    "#### Utilizando Sklearn.Preprocessing"
   ]
  },
  {
   "cell_type": "code",
   "execution_count": null,
   "metadata": {},
   "outputs": [],
   "source": []
  },
  {
   "cell_type": "code",
   "execution_count": null,
   "metadata": {},
   "outputs": [],
   "source": [
    "scaled_df.head()"
   ]
  },
  {
   "cell_type": "markdown",
   "metadata": {},
   "source": [
    "![z-score e suas probabilidades](http://www.portalaction.com.br/sites/default/files/EstatisticaBasica/figuras/distribuicaoNormal/normal3.PNG)\n"
   ]
  },
  {
   "cell_type": "markdown",
   "metadata": {},
   "source": [
    "# Avançado\n",
    "\n",
    "## (6) Cálculo de probabilidade \n",
    "\n",
    "Sugira um procedimento para descobrirmos qual a probabilidade de um individuo ter peso menor que 20kg (não é necessário calcular, apenas descrever).\n",
    "\n",
    "- Vamos supor que a probabilidade encontrada é p%, seria possível descobrir a probabilidade de encontrar um individuo com mais de 120kg através de p%?\n",
    "- E se quisermos saber apenas a probabilidade de um individuo ter peso entre 70 e 120?"
   ]
  },
  {
   "cell_type": "code",
   "execution_count": null,
   "metadata": {},
   "outputs": [],
   "source": [
    "# probabilidade cumulativa até o peso de 20 Kg\n",
    "\n"
   ]
  },
  {
   "cell_type": "code",
   "execution_count": null,
   "metadata": {},
   "outputs": [],
   "source": [
    "# Subtraimos de 1 a probabilidade cumulativa até o peso de 120 Kg\n",
    "\n"
   ]
  },
  {
   "cell_type": "code",
   "execution_count": null,
   "metadata": {},
   "outputs": [],
   "source": [
    "# Para o intervalo de 70 Kg a 120 Kg\n",
    "\n"
   ]
  },
  {
   "cell_type": "markdown",
   "metadata": {},
   "source": [
    "## Desafio - Homework\n",
    "\n",
    "O número de vezes que um indivíduo tem gripe em determinado ano é uma\n",
    "variável aleatória de Poisson com λ = 5. Suponha que um novo medicamento reduza\n",
    "o parâmetro λ para 3 em 75% da população. Para os 25% restantes a droga não tem\n",
    "um efeito significativo. Se um indivíduo toma o medicamento durante um ano e tem\n",
    "duas gripes, qual a probabilidade de que o medicamento seja benéfico para ele\n",
    "(ela)? Com base nesse resultado, se o indivíduo soubesse essa probabilidade a\n",
    "priori, você acha que ele deveria continuar tomando o medicamento?"
   ]
  },
  {
   "cell_type": "code",
   "execution_count": null,
   "metadata": {},
   "outputs": [],
   "source": [
    "# Segundo POISSON, a probabilidade P_gripe de gripes em um indivíduo é:\n",
    "\n"
   ]
  },
  {
   "cell_type": "code",
   "execution_count": null,
   "metadata": {},
   "outputs": [],
   "source": [
    "# Segundo POISSON, a probabilidade P_med de gripes em um indivíduo tomando o novo medicamento é:\n",
    "\n"
   ]
  },
  {
   "cell_type": "code",
   "execution_count": null,
   "metadata": {},
   "outputs": [],
   "source": [
    "# Segundo o enunciado, P_med para lambda=3 temos 75%, e P_gripe para lambda=5 temos 25%\n",
    "# Este será o nosso espaço amostral Ω\n",
    "\n"
   ]
  },
  {
   "cell_type": "code",
   "execution_count": null,
   "metadata": {},
   "outputs": [],
   "source": [
    "# Portanto a nossa probabilidade é 75% de P3 para lambda=3 (toma o novo medicamento) dividido pelo espaço amostral total\n",
    "\n"
   ]
  },
  {
   "cell_type": "code",
   "execution_count": null,
   "metadata": {},
   "outputs": [],
   "source": []
  }
 ],
 "metadata": {
  "kernelspec": {
   "display_name": "Python 3",
   "language": "python",
   "name": "python3"
  },
  "language_info": {
   "codemirror_mode": {
    "name": "ipython",
    "version": 3
   },
   "file_extension": ".py",
   "mimetype": "text/x-python",
   "name": "python",
   "nbconvert_exporter": "python",
   "pygments_lexer": "ipython3",
   "version": "3.7.2"
  }
 },
 "nbformat": 4,
 "nbformat_minor": 2
}
