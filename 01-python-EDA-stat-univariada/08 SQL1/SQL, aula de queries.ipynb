{
 "cells": [
  {
   "cell_type": "markdown",
   "metadata": {},
   "source": [
    "# Exemplos de queries SQL integrados ao Python e Pandas\n",
    "Usaremos dados de exemplo do site [MySQL Tutorial](http://www.mysqltutorial.org/mysql-sample-database.aspx).\n",
    "\n",
    "Para recriar o banco de dados em SQLite, sem Python, basta executar o arquivo com os comandos SQL na linha de comando do sistema operacional:\n",
    "\n",
    "```shell\n",
    "sqlite3 database.db < sample-database-dump.sql\n",
    "```\n",
    "\n",
    "O arquivo `database.db` será criado e tabelas e dados conforme especificados em `sql-sample-database.sql` serão populados.\n",
    "\n",
    "Se estivéssemos lidando com um SGBD (sistema gerenciador de banco de dados) mais robusto, como MariaDB/MySQL, Oracle ou DB2, o comando acima seria diferente e deverá conter:\n",
    "\n",
    "* o hostname ou IP do servidor de banco de dados\n",
    "* usuário e senha de acesso\n",
    "* nome do banco de dados em que vamos operar\n",
    "\n",
    "Mas SQLite é bem mais simples e didático e opera num arquivo local.\n",
    "\n",
    "## Visualizando o banco de dados, suas tabelas e dados\n",
    "\n",
    "![database example](http://www.mysqltutorial.org/wp-content/uploads/2009/12/MySQL-Sample-Database-Schema.png)\n",
    "\n",
    "Cada SGBD tem seu próprio ferramental para navegar nos dados. MariaDB/MySQL tem o popular [PHP MyAdmin](https://www.phpmyadmin.net), Oracle e DB2 tem suas próprias ferramentas proprietárias, SQLite tem [DB Browser for SQLite](https://sqlitebrowser.org) e uma ferramenta online chamada [SQLite Online](https://sqliteonline.com).\n",
    "\n",
    "Para navegar nos dados do DB SQLite que acabamos de criar, use uma das 3 opções:\n",
    "\n",
    "* Use o comando `sqlite3`.\n",
    "* Instale o **DB Browser for SQLite** e abra o arquivo.\n",
    "* Envie o arquivo para o site **SQLiteOnline.com**.\n",
    "\n",
    "## Anatomia de um SELECT\n",
    "\n",
    "![img/select-query-anatomy.svg](img/select-query-anatomy.svg)"
   ]
  },
  {
   "cell_type": "markdown",
   "metadata": {},
   "source": [
    "## SQLite\n",
    "\n",
    "Vamos primeiro usar a estrutura e dados do arquivo `sql-sample-database.sql` para criar um banco de dados no arquivo `database.db`."
   ]
  },
  {
   "cell_type": "code",
   "execution_count": null,
   "metadata": {},
   "outputs": [],
   "source": [
    "import pandas as pd\n",
    "import sqlite3\n",
    "\n",
    "db = sqlite3.connect('database.db')"
   ]
  },
  {
   "cell_type": "code",
   "execution_count": null,
   "metadata": {},
   "outputs": [],
   "source": [
    "script = 'sample-database-dump.sql'\n",
    "\n",
    "db.cursor().executescript(open(script).read())"
   ]
  },
  {
   "cell_type": "markdown",
   "metadata": {},
   "source": [
    "## SQLite com Pandas\n",
    "Agora começamos a fazer queries:"
   ]
  },
  {
   "cell_type": "code",
   "execution_count": null,
   "metadata": {},
   "outputs": [],
   "source": [
    "query = \"SELECT * FROM productlines;\"\n",
    "\n",
    "queryResult = pd.read_sql_query(query,db)\n",
    "\n",
    "queryResult"
   ]
  },
  {
   "cell_type": "markdown",
   "metadata": {},
   "source": [
    "Lista os objetos (tabelas, índices etc) do DB"
   ]
  },
  {
   "cell_type": "code",
   "execution_count": null,
   "metadata": {},
   "outputs": [],
   "source": [
    "query = \"SELECT * FROM sqlite_master;\"\n",
    "\n",
    "queryResult = pd.read_sql_query(query,db)\n",
    "\n",
    "queryResult"
   ]
  },
  {
   "cell_type": "markdown",
   "metadata": {},
   "source": [
    "## Lista funcionários por chefe\n",
    "\n",
    "```SQL\n",
    "JUNTE E COMBINE TODOS AS LINHAS DAS TABELAS\n",
    "   employees e1,\n",
    "   employees e2\n",
    "\n",
    "PEGUE SÓ LINHAS QUE OBEDEÇAM AO CRITÉRIO\n",
    "   e1.reportsTo = e2.employeeNumber\n",
    "\n",
    "MOSTRE AS COLUNAS\n",
    "   e2.firstName||' '||e2.lastName AS boss,\n",
    "   e2.jobTitle                    AS department,\n",
    "   e1.employeeNumber              AS ID,\n",
    "   e1.firstName||' '||e1.lastName AS employee\n",
    "\n",
    "ORDENE POR\n",
    "   boss\n",
    "```"
   ]
  },
  {
   "cell_type": "code",
   "execution_count": null,
   "metadata": {},
   "outputs": [],
   "source": [
    "query = \"\"\"SELECT\n",
    "    e2.firstName||' '||e2.lastName AS boss,\n",
    "    e2.jobTitle                    AS department,\n",
    "    e1.employeeNumber              AS ID,\n",
    "    e1.firstName||' '||e1.lastName AS employee\n",
    "    \n",
    "    FROM employees e1, employees e2\n",
    "    \n",
    "    WHERE e1.reportsTo=e2.employeeNumber\n",
    "    \n",
    "    ORDER BY boss;\"\"\"\n",
    "\n",
    "queryResult = pd.read_sql_query(query,db)\n",
    "\n",
    "queryResult"
   ]
  },
  {
   "cell_type": "markdown",
   "metadata": {},
   "source": [
    "## Inspeciona pedidos de compra\n",
    "\n",
    "Dados sobre pedidos aparecem nas tabelas `orders` e `orderdetails` e o que relaciona elas é a coluna `orderNumber`. Vamos inspecionar um único pedido.\n",
    "\n",
    "```SQL\n",
    "JUNTE E COMBINE TODOS AS LINHAS DAS TABELAS\n",
    "   orderdetails\n",
    "\n",
    "PEGUE SÓ LINHAS QUE OBEDEÇAM AO CRITÉRIO\n",
    "   orderNumber=10103\n",
    "\n",
    "MOSTRE AS COLUNAS\n",
    "    orderLineNumber,\n",
    "    productCode,\n",
    "    priceEach,\n",
    "    quantityOrdered,\n",
    "    priceEach*quantityOrdered as priceTotal\n",
    "    \n",
    "ORDENE POR\n",
    "   orderLineNumber\n",
    "```"
   ]
  },
  {
   "cell_type": "code",
   "execution_count": null,
   "metadata": {},
   "outputs": [],
   "source": [
    "query = \"\"\"SELECT\n",
    "    orderLineNumber,\n",
    "    productCode,\n",
    "    priceEach,\n",
    "    quantityOrdered,\n",
    "    priceEach*quantityOrdered as priceTotal\n",
    "    \n",
    "    FROM orderdetails\n",
    "    \n",
    "    WHERE orderNumber=10103\n",
    "    \n",
    "    ORDER BY orderLineNumber;\"\"\"\n",
    "\n",
    "queryResult = pd.read_sql_query(query,db)\n",
    "\n",
    "queryResult"
   ]
  },
  {
   "cell_type": "markdown",
   "metadata": {},
   "source": [
    "Vamos melhorar a leitura dessa tabela adicionando a descrição do produto. Faremos um **JOIN** com a tabela `products`.\n",
    "\n",
    "```SQL\n",
    "JUNTE E COMBINE TODOS AS LINHAS DAS TABELAS\n",
    "   orderdetails AS o,\n",
    "   products AS p\n",
    "\n",
    "PEGUE SÓ LINHAS QUE OBEDEÇAM AO CRITÉRIO\n",
    "    o.productCode=p.productCode AND\n",
    "    orderNumber=10103\n",
    "\n",
    "MOSTRE AS COLUNAS\n",
    "    o.orderLineNumber,\n",
    "    o.priceEach,\n",
    "    o.quantityOrdered,\n",
    "    o.priceEach*o.quantityOrdered as itemTotal,\n",
    "    o.productCode,\n",
    "    p.productName\n",
    "    \n",
    "ORDENE POR\n",
    "   orderLineNumber\n",
    "```"
   ]
  },
  {
   "cell_type": "code",
   "execution_count": null,
   "metadata": {},
   "outputs": [],
   "source": [
    "query = \"\"\"SELECT\n",
    "    o.orderLineNumber,\n",
    "    o.priceEach,\n",
    "    o.quantityOrdered,\n",
    "    o.priceEach*o.quantityOrdered as itemTotal,\n",
    "    o.productCode,\n",
    "    p.productName\n",
    "    \n",
    "    FROM orderdetails AS o, products AS p\n",
    "    \n",
    "    WHERE\n",
    "    o.productCode=p.productCode AND\n",
    "    orderNumber=10103\n",
    "    \n",
    "    ORDER BY orderLineNumber;\"\"\"\n",
    "\n",
    "queryResult = pd.read_sql_query(query,db)\n",
    "\n",
    "queryResult"
   ]
  },
  {
   "cell_type": "markdown",
   "metadata": {},
   "source": [
    "## Cálculo de totais e subtotais\n",
    "\n",
    "Qual é o valor total de um pedido? Usaremos funções de agregação para obter esse valor."
   ]
  },
  {
   "cell_type": "code",
   "execution_count": null,
   "metadata": {},
   "outputs": [],
   "source": [
    "query = \"\"\"SELECT\n",
    "    o.orderNumber,\n",
    "    sum(o.priceEach*o.quantityOrdered) AS orderTotal\n",
    "    \n",
    "    FROM orderdetails AS o\n",
    "    \n",
    "    WHERE\n",
    "    o.orderNumber=10103;\"\"\"\n",
    "\n",
    "queryResult = pd.read_sql_query(query,db)\n",
    "\n",
    "queryResult"
   ]
  },
  {
   "cell_type": "markdown",
   "metadata": {},
   "source": [
    "Total de todos os pedidos"
   ]
  },
  {
   "cell_type": "code",
   "execution_count": null,
   "metadata": {},
   "outputs": [],
   "source": [
    "query = \"\"\"SELECT\n",
    "    o.orderNumber,\n",
    "    count(o.orderNumber) as numberOfItems,\n",
    "    sum(o.priceEach*o.quantityOrdered) AS orderTotal\n",
    "    \n",
    "    FROM orderdetails AS o\n",
    "    \n",
    "    GROUP BY o.orderNumber\"\"\"\n",
    "\n",
    "queryResult = pd.read_sql_query(query,db)\n",
    "\n",
    "queryResult"
   ]
  },
  {
   "cell_type": "markdown",
   "metadata": {},
   "source": [
    "Total de todos os pedidos cujo total é maior que um certo valor"
   ]
  },
  {
   "cell_type": "code",
   "execution_count": null,
   "metadata": {},
   "outputs": [],
   "source": [
    "query = \"\"\"SELECT\n",
    "    o.orderNumber,\n",
    "    count(o.orderNumber) as numberOfItems,\n",
    "    sum(o.priceEach*o.quantityOrdered) AS orderTotal\n",
    "    \n",
    "    FROM orderdetails AS o\n",
    "    \n",
    "    GROUP BY o.orderNumber\n",
    "    \n",
    "    HAVING orderTotal > 57000\n",
    "    \n",
    "    ORDER BY orderTotal DESC\n",
    "\"\"\"\n",
    "\n",
    "queryResult = pd.read_sql_query(query,db)\n",
    "\n",
    "queryResult"
   ]
  },
  {
   "cell_type": "markdown",
   "metadata": {},
   "source": [
    "Performance de venda por categoria de produtos\n",
    "\n",
    "```SQL\n",
    "JUNTE E COMBINE TODOS AS LINHAS DAS TABELAS\n",
    "    orderdetails o,\n",
    "    products p\n",
    "\n",
    "PEGUE SÓ LINHAS QUE OBEDEÇAM AO CRITÉRIO\n",
    "    o.productCode=p.productCode\n",
    "\n",
    "MOSTRE AS COLUNAS\n",
    "    p.productLine,\n",
    "    count(p.productLine) AS nItems,\n",
    "    sum(o.priceEach*o.quantityOrdered)/count(p.productLine) AS averagePerItem,\n",
    "    sum(o.priceEach*o.quantityOrdered) AS lineTotal\n",
    "\n",
    "AGRUPE POR\n",
    "    p.productLine\n",
    "\n",
    "ORDENE INVERSAMENTE POR\n",
    "   lineTotal\n",
    "```"
   ]
  },
  {
   "cell_type": "code",
   "execution_count": null,
   "metadata": {},
   "outputs": [],
   "source": [
    "query = \"\"\"SELECT\n",
    "\n",
    "    p.productLine,\n",
    "    count(p.productLine) AS nItems,\n",
    "    sum(o.priceEach*o.quantityOrdered)/count(p.productLine) AS averagePerItem,\n",
    "    sum(o.priceEach*o.quantityOrdered) AS lineTotal\n",
    "\n",
    "    FROM orderdetails o, products p ON o.productCode=p.productCode\n",
    "    \n",
    "    GROUP BY p.productLine\n",
    "    \n",
    "    ORDER BY lineTotal DESC\"\"\"\n",
    "\n",
    "queryResult = pd.read_sql_query(query,db)\n",
    "\n",
    "queryResult"
   ]
  },
  {
   "cell_type": "markdown",
   "metadata": {},
   "source": [
    "Qual é o produto que mais vende ?\n",
    "\n",
    "```SQL\n",
    "JUNTE E COMBINE TODOS AS LINHAS DAS TABELAS\n",
    "    orderdetails o,\n",
    "    products p\n",
    "\n",
    "PEGUE SÓ LINHAS QUE OBEDEÇAM AO CRITÉRIO\n",
    "    o.productCode=p.productCode\n",
    "\n",
    "MOSTRE AS COLUNAS\n",
    "    p.productName,\n",
    "    count(o.quantityOrdered) AS nItems,\n",
    "#    sum(o.priceEach*o.quantityOrdered) AS lineTotal\n",
    "\n",
    "AGRUPE POR\n",
    "    p.productCode\n",
    "\n",
    "ORDENE INVERSAMENTE POR\n",
    "   lineTotal\n",
    "```"
   ]
  },
  {
   "cell_type": "code",
   "execution_count": null,
   "metadata": {},
   "outputs": [],
   "source": [
    "query = \"\"\"\n",
    "SELECT\n",
    "    p.productName,\n",
    "    count(o.quantityOrdered) AS nItems\n",
    "FROM\n",
    "    orderdetails o,\n",
    "    products p\n",
    "WHERE \n",
    "    o.productCode=p.productCode\n",
    "\n",
    "GROUP BY\n",
    "    p.productCode\n",
    "\n",
    "ORDER BY nItems ASC\n",
    "\n",
    "LIMIT 8\n",
    "\"\"\"\n",
    "\n",
    "queryResult = pd.read_sql_query(query,db)\n",
    "\n",
    "queryResult"
   ]
  },
  {
   "cell_type": "markdown",
   "metadata": {},
   "source": [
    "Qual é o cliente que mais compra ?\n",
    "\n",
    "```SQL\n",
    "JUNTE E COMBINE TODOS AS LINHAS DAS TABELAS\n",
    "    orderdetails as od,\n",
    "    orders as o,\n",
    "    customers as c\n",
    "\n",
    "PEGUE SÓ LINHAS QUE OBEDEÇAM AO CRITÉRIO\n",
    "    od.orderNumber = o.orderNumber AND\n",
    "    c.customerNumber = o.customerNumber\n",
    "\n",
    "MOSTRE AS COLUNAS\n",
    "    c.customerNumber,\n",
    "    c.customerName,\n",
    "    sum(od.priceEach*od.quantityOrdered) AS customerTotal\n",
    "    sum(od.quantityOrdered) AS nItems,\n",
    "\n",
    "AGRUPE POR\n",
    "    c.customerNumber\n",
    "\n",
    "ORDENE INVERSAMENTE POR\n",
    "   customerTotal\n",
    "```"
   ]
  },
  {
   "cell_type": "code",
   "execution_count": null,
   "metadata": {},
   "outputs": [],
   "source": [
    "query = \"\"\"\n",
    "SELECT\n",
    "    c.customerNumber,\n",
    "    c.customerName,\n",
    "    sum(od.priceEach*od.quantityOrdered) AS customerTotal,\n",
    "    sum(od.quantityOrdered) AS nItems\n",
    "    \n",
    "FROM\n",
    "    orderdetails as od,\n",
    "    orders as o,\n",
    "    customers as c\n",
    "    \n",
    "WHERE \n",
    "    od.orderNumber = o.orderNumber AND\n",
    "    c.customerNumber = o.customerNumber\n",
    "\n",
    "GROUP BY\n",
    "    c.customerNumber\n",
    "\n",
    "ORDER BY customerTotal DESC\n",
    "\n",
    "LIMIT 5\n",
    "\"\"\"\n",
    "\n",
    "queryResult = pd.read_sql_query(query,db)\n",
    "\n",
    "queryResult"
   ]
  },
  {
   "cell_type": "markdown",
   "metadata": {},
   "source": [
    "Mostre vendas e valores por mês...\n",
    "\n",
    "```SQL\n",
    "JUNTE E COMBINE TODOS AS LINHAS DAS TABELAS\n",
    "    orderdetails as od,\n",
    "    orders as o,\n",
    "\n",
    "PEGUE SÓ LINHAS QUE OBEDEÇAM AO CRITÉRIO\n",
    "    od.orderNumber = o.orderNumber\n",
    "\n",
    "MOSTRE AS COLUNAS\n",
    "    substr(o.orderDate,1,7) as month,\n",
    "    sum(od.priceEach*od.quantityOrdered) AS monthTotal\n",
    "    sum(od.quantityOrdered) AS nItems,\n",
    "\n",
    "AGRUPE POR\n",
    "    month\n",
    "\n",
    "ORDENE INVERSAMENTE POR\n",
    "   month\n",
    "```"
   ]
  },
  {
   "cell_type": "code",
   "execution_count": null,
   "metadata": {},
   "outputs": [],
   "source": [
    "query = \"\"\"\n",
    "SELECT\n",
    "    substr(o.orderDate,1,7) as month,\n",
    "    sum(od.priceEach*od.quantityOrdered) AS monthTotal,\n",
    "    sum(od.quantityOrdered) AS nItems\n",
    "\n",
    "FROM\n",
    "    orderdetails as od,\n",
    "    orders as o\n",
    "\n",
    "WHERE\n",
    "    od.orderNumber = o.orderNumber\n",
    "\n",
    "GROUP BY\n",
    "    month\n",
    "    \n",
    "ORDER BY month DESC\n",
    "\"\"\"\n",
    "\n",
    "queryResult = pd.read_sql_query(query,db)\n",
    "\n",
    "queryResult"
   ]
  },
  {
   "cell_type": "code",
   "execution_count": null,
   "metadata": {},
   "outputs": [],
   "source": [
    "queryResult.nItems.mean()"
   ]
  }
 ],
 "metadata": {
  "kernelspec": {
   "display_name": "Python 3",
   "language": "python",
   "name": "python3"
  },
  "language_info": {
   "codemirror_mode": {
    "name": "ipython",
    "version": 3
   },
   "file_extension": ".py",
   "mimetype": "text/x-python",
   "name": "python",
   "nbconvert_exporter": "python",
   "pygments_lexer": "ipython3",
   "version": "3.7.3"
  }
 },
 "nbformat": 4,
 "nbformat_minor": 2
}
