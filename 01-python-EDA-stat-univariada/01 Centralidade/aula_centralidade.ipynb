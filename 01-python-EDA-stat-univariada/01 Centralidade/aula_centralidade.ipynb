{
 "cells": [
  {
   "cell_type": "markdown",
   "metadata": {
    "toc": true
   },
   "source": [
    "<h1>Table of Contents<span class=\"tocSkip\"></span></h1>\n",
    "<div class=\"toc\"><ul class=\"toc-item\"><li><span><a href=\"#Data-Scientist-ou-Cientista-de-Dados\" data-toc-modified-id=\"Data-Scientist-ou-Cientista-de-Dados-1\"><span class=\"toc-item-num\">1&nbsp;&nbsp;</span>Data Scientist ou Cientista de Dados</a></span></li><li><span><a href=\"#O-que-é-Ciência?\" data-toc-modified-id=\"O-que-é-Ciência?-2\"><span class=\"toc-item-num\">2&nbsp;&nbsp;</span>O que é Ciência?</a></span></li><li><span><a href=\"#Método-Científico\" data-toc-modified-id=\"Método-Científico-3\"><span class=\"toc-item-num\">3&nbsp;&nbsp;</span>Método Científico</a></span></li><li><span><a href=\"#Estatística\" data-toc-modified-id=\"Estatística-4\"><span class=\"toc-item-num\">4&nbsp;&nbsp;</span>Estatística</a></span><ul class=\"toc-item\"><li><span><a href=\"#História-da-Estatística\" data-toc-modified-id=\"História-da-Estatística-4.1\"><span class=\"toc-item-num\">4.1&nbsp;&nbsp;</span>História da Estatística</a></span></li></ul></li><li><span><a href=\"#O-que-é-Análise-exploratória-de-Dados?\" data-toc-modified-id=\"O-que-é-Análise-exploratória-de-Dados?-5\"><span class=\"toc-item-num\">5&nbsp;&nbsp;</span>O que é Análise exploratória de Dados?</a></span><ul class=\"toc-item\"><li><span><a href=\"#Etapas\" data-toc-modified-id=\"Etapas-5.1\"><span class=\"toc-item-num\">5.1&nbsp;&nbsp;</span>Etapas</a></span></li><li><span><a href=\"#Problema:\" data-toc-modified-id=\"Problema:-5.2\"><span class=\"toc-item-num\">5.2&nbsp;&nbsp;</span>Problema:</a></span></li></ul></li><li><span><a href=\"#ANACONDA\" data-toc-modified-id=\"ANACONDA-6\"><span class=\"toc-item-num\">6&nbsp;&nbsp;</span>ANACONDA</a></span></li><li><span><a href=\"#JUPYTER\" data-toc-modified-id=\"JUPYTER-7\"><span class=\"toc-item-num\">7&nbsp;&nbsp;</span>JUPYTER</a></span></li><li><span><a href=\"#GIT\" data-toc-modified-id=\"GIT-8\"><span class=\"toc-item-num\">8&nbsp;&nbsp;</span>GIT</a></span></li><li><span><a href=\"#Abrindo-o-arquivo-e-acessando-os-dados\" data-toc-modified-id=\"Abrindo-o-arquivo-e-acessando-os-dados-9\"><span class=\"toc-item-num\">9&nbsp;&nbsp;</span>Abrindo o arquivo e acessando os dados</a></span></li><li><span><a href=\"#Medidas-de-Centralidade\" data-toc-modified-id=\"Medidas-de-Centralidade-10\"><span class=\"toc-item-num\">10&nbsp;&nbsp;</span>Medidas de Centralidade</a></span><ul class=\"toc-item\"><li><span><a href=\"#Média\" data-toc-modified-id=\"Média-10.1\"><span class=\"toc-item-num\">10.1&nbsp;&nbsp;</span>Média</a></span></li><li><span><a href=\"#Fazendo-a-média-com-nosso-arquivo-original\" data-toc-modified-id=\"Fazendo-a-média-com-nosso-arquivo-original-10.2\"><span class=\"toc-item-num\">10.2&nbsp;&nbsp;</span>Fazendo a média com nosso arquivo original</a></span></li><li><span><a href=\"#Calculando-a-média-de-Salário,-anos-de-estudo-e-idade-no-mesmo-código.\" data-toc-modified-id=\"Calculando-a-média-de-Salário,-anos-de-estudo-e-idade-no-mesmo-código.-10.3\"><span class=\"toc-item-num\">10.3&nbsp;&nbsp;</span>Calculando a média de Salário, anos de estudo e idade no mesmo código.</a></span></li><li><span><a href=\"#VAMOS-RESOLVER?\" data-toc-modified-id=\"VAMOS-RESOLVER?-10.4\"><span class=\"toc-item-num\">10.4&nbsp;&nbsp;</span>VAMOS RESOLVER?</a></span></li><li><span><a href=\"#Uma-segunda-opção-para-resolver-os-zeros\" data-toc-modified-id=\"Uma-segunda-opção-para-resolver-os-zeros-10.5\"><span class=\"toc-item-num\">10.5&nbsp;&nbsp;</span>Uma segunda opção para resolver os zeros</a></span></li><li><span><a href=\"#Aprendendo-a-trabalhar-com-dicionários-em-Python\" data-toc-modified-id=\"Aprendendo-a-trabalhar-com-dicionários-em-Python-10.6\"><span class=\"toc-item-num\">10.6&nbsp;&nbsp;</span>Aprendendo a trabalhar com dicionários em Python</a></span></li><li><span><a href=\"#Mediana\" data-toc-modified-id=\"Mediana-10.7\"><span class=\"toc-item-num\">10.7&nbsp;&nbsp;</span>Mediana</a></span></li><li><span><a href=\"#Definindo-uma-função-para-calcular-a-Mediana\" data-toc-modified-id=\"Definindo-uma-função-para-calcular-a-Mediana-10.8\"><span class=\"toc-item-num\">10.8&nbsp;&nbsp;</span>Definindo uma função para calcular a Mediana</a></span></li><li><span><a href=\"#Aplicando-para-as-idades-do-nosso-DataSet\" data-toc-modified-id=\"Aplicando-para-as-idades-do-nosso-DataSet-10.9\"><span class=\"toc-item-num\">10.9&nbsp;&nbsp;</span>Aplicando para as idades do nosso DataSet</a></span></li><li><span><a href=\"#Moda\" data-toc-modified-id=\"Moda-10.10\"><span class=\"toc-item-num\">10.10&nbsp;&nbsp;</span>Moda</a></span></li><li><span><a href=\"#Calculando-a-moda\" data-toc-modified-id=\"Calculando-a-moda-10.11\"><span class=\"toc-item-num\">10.11&nbsp;&nbsp;</span>Calculando a moda</a></span></li><li><span><a href=\"#Vamos-criar-uma-função-para-procurar-a-pessoa-mais-velha-da-base\" data-toc-modified-id=\"Vamos-criar-uma-função-para-procurar-a-pessoa-mais-velha-da-base-10.12\"><span class=\"toc-item-num\">10.12&nbsp;&nbsp;</span>Vamos criar uma função para procurar a pessoa mais velha da base</a></span></li><li><span><a href=\"#Como-criar-uma-função-para-procurar-a-pessoa-mais-nova-da-base?\" data-toc-modified-id=\"Como-criar-uma-função-para-procurar-a-pessoa-mais-nova-da-base?-10.13\"><span class=\"toc-item-num\">10.13&nbsp;&nbsp;</span>Como criar uma função para procurar a pessoa mais nova da base?</a></span></li></ul></li><li><span><a href=\"#Prévia-da-resposta-para-o-nosso-problema.-Os-homens-ganham-mais-do-que-as-mulheres?-Quanto?\" data-toc-modified-id=\"Prévia-da-resposta-para-o-nosso-problema.-Os-homens-ganham-mais-do-que-as-mulheres?-Quanto?-11\"><span class=\"toc-item-num\">11&nbsp;&nbsp;</span>Prévia da resposta para o nosso problema. Os homens ganham mais do que as mulheres? Quanto?</a></span></li></ul></div>"
   ]
  },
  {
   "cell_type": "markdown",
   "metadata": {},
   "source": [
    "# Introdução ao Data Science\n",
    "\n",
    "Data Science é o estudo disciplinado dos dados e informações inerentes ao negócio e todas as visões que podem cercar um determinado assunto. É uma ciência que estuda as informações, seu processo de captura, transformação, geração e, posteriormente, análise de dados. A ciência de dados envolve diversas disciplinas:\n",
    "\n",
    "- Computação;\n",
    "- Estatística;\n",
    "- Conhecimento do Negócio.\n",
    "\n",
    "<br>\n",
    "<img src=\"img/processo_datascience.png\" width=\"600\">\n",
    "<br>"
   ]
  },
  {
   "cell_type": "markdown",
   "metadata": {},
   "source": [
    "## Data Scientist ou Cientista de Dados\n",
    "\n",
    "O cientista de dados é um profissional multidisciplinar, responsável por realizar o processo citado no tópico Data Science acima. Ou seja, é responsável por transformar dados em informações ou produtos de informações dentro de uma corporação.\n",
    "\n",
    "Além disso, ele também deve ser responsável pela formulação dos problemas, escolha de modelos de simulação e estatística e entrega dos produtos de dados.\n"
   ]
  },
  {
   "cell_type": "markdown",
   "metadata": {},
   "source": [
    "## O que é Ciência?\n",
    "\n",
    "Ciência representa todo o conhecimento adquirido através do estudo, pesquisa ou da prática, baseado em princípios certos. Esta palavra deriva do latim scientia, cujo significado é \"conhecimento\" ou \"saber\".\n",
    "\n",
    "Em geral, a ciência, que é muito ampla, comporta vários conjuntos de saberes nos quais são elaboradas as suas teorias baseadas nos seus próprios métodos e pesquisas científicas.\n",
    "\n",
    "A palavra ciência possui vários sentidos, abrangendo principalmente três acepções:\n",
    "\n",
    "- Saber, conhecimento de certas coisas que servem à condução da vida ou à dos negócios.\n",
    "- Conjunto dos conhecimentos adquiridos pelo estudo ou pela prática.\n",
    "- Hierarquização, organização e síntese dos conhecimentos através de modelos e princípios gerais (teorias, leis, etc.).\n",
    "\n",
    "Cita-se de passagem que o próprio conceito de teoria tem várias acepções não específicas que mostram-se muito distintas da que é encontrada em um meio científico, sendo entre estas certamente conhecida a acepção em senso comum de teoria como algo duvidoso, não provado, descartável. Esta acepção e correlatas mostram-se contudo radicalmente diferente da acepção de teoria científica ao considerar-se a acepção stricto sensu da palavra ciência.\n"
   ]
  },
  {
   "cell_type": "markdown",
   "metadata": {},
   "source": [
    "## Método Científico\n",
    "\n",
    "O método científico refere-se a um aglomerado de regras básicas dos procedimentos que produzem o conhecimento científico, quer um novo conhecimento, quer uma correção (evolução) ou um aumento na área de incidência de conhecimentos anteriormente existentes. Na maioria das disciplinas científicas consiste em juntar evidências empíricas verificáveis — baseadas na observação sistemática e controlada, geralmente resultantes de experiências ou pesquisa de campo — e analisá-las com o uso da lógica. Para muitos autores, o método científico nada mais é do que a lógica aplicada à ciência. Os métodos que fornecem as bases lógicas ao conhecimento científico são: método indutivo, método dedutivo, método hipotético-dedutivo, método dialético, método fenomenológico, etc. \n",
    "\n",
    "<br>\n",
    "<img src=\"img/metodo_cientifico.png\" width=\"600\">\n",
    "<br>"
   ]
  },
  {
   "cell_type": "code",
   "execution_count": null,
   "metadata": {},
   "outputs": [],
   "source": [
    "from IPython.display import HTML\n",
    "\n",
    "HTML('<iframe width=\"560\" height=\"315\" src=\"https://www.youtube.com/embed/q40uPdnyhp0\" frameborder=\"0\" allow=\"accelerometer; autoplay; encrypted-media; gyroscope; picture-in-picture\" allowfullscreen></iframe>')"
   ]
  },
  {
   "cell_type": "markdown",
   "metadata": {},
   "source": [
    "## Estatística\n",
    "\n",
    "Estatística é a ciência que se utiliza das teorias probabilísticas para explicar a frequência da ocorrência de eventos, tanto em estudos observacionais quanto em experimentos para modelar a aleatoriedade e a incerteza de forma a estimar ou possibilitar a previsão de fenômenos futuros, conforme o caso.\n",
    "\n",
    "A estatística é uma ciência que se dedica à coleta, análise e interpretação de dados. Preocupa-se com os métodos de recolha, organização, resumo, apresentação e interpretação dos dados, assim como tirar conclusões sobre as características das fontes donde estes foram retirados, para melhor compreender as situações.\n",
    "\n",
    "Algumas práticas estatísticas incluem, por exemplo, o planejamento, a sumarização e a interpretação de observações. Dado que o objetivo da estatística é a produção da melhor informação possível a partir dos dados disponíveis, alguns autores sugerem que a estatística é um ramo da teoria da decisão"
   ]
  },
  {
   "cell_type": "markdown",
   "metadata": {},
   "source": [
    "### História da Estatística\n",
    "\n",
    "De acordo com a Revista do Instituto Internacional de Estatística, Cinco homens, Hermann Conring, Gottfried Achenwall, Johann Peter Süssmilch, John Graunt e William Petty já receberam a honra de serem chamados de fundadores da estatística por diferentes autores.\n",
    "\n",
    "Alguns autores dizem que é comum encontrar como marco inicial da estatística a publicação do \"Observations on the Bills of Mortality\" (Observações sobre os Censos de Mortalidade, 1662) de John Graunt. As primeiras aplicações do pensamento estatístico estavam voltadas para as necessidades de Estado, na formulação de políticas públicas, fornecendo dados demográficos e econômicos. A abrangência da estatística aumentou no começo do século XIX para incluir a acumulação e análise de dados de maneira geral. Hoje, a estatística é largamente aplicada nas ciências naturais, e sociais, inclusive na administração pública e privada. \n",
    "\n",
    "Seus fundamentos matemáticos foram postos no século XVII com o desenvolvimento da teoria das probabilidades por Pascal e Fermat, que surgiu com o estudo dos jogos de azar. O método dos mínimos quadrados foi descrito pela primeira vez por Carl Friedrich Gauss, aproximadamente no ano de 1794. O uso de computadores modernos tem permitido a computação de dados estatísticos em larga escala e também tornaram possível novos métodos antes impraticáveis. \n",
    "\n",
    "Porém, Galton foi o precursos de teorias que foram inicilamente chamadas de \"regressão à média\", resultante do estudo sobre as alturas das pessoas, que permitiu concluir que filhos de pais muito altos tendem a ser mais baixos que seus pais, e filhos de pais muito baixos tendem a ser mais altos, fazendo com que a estatura humana se afaste dos extremos e se aproxime da média, derivando a uma medida matemática chamada de \"coeficiente de correlação\", depois consagrado por Pearson e que foi capaz de mudar a ciência.\n",
    "\n",
    "Através de seus estudos de medição, Galton também foi capaz de verificar o comportamento da distribuição dos valores de uma variável qualquer com resultados aleatórios, verificando desvios entre valores observados e previstos, cujos ERROS ou pequenos desvios apresentavam-se numa distribuição por uma \"curva em forma de sino\", descritas por uma função matemática, com quatro parâmetros principais:\n",
    "\n",
    "1. Média - valor central a partir do qual as medições se dispersam\n",
    "2. Desvio Padrão - o quanto a maioria das medições se dispersa em torno da mádia\n",
    "3. Simetria - o grau em que as medições se acumulam am apenas um lado da média\n",
    "4. Curtose - o quanto as medições raras se afastam da média\n",
    "\n",
    "Como exemplos comprobatórios, temos as leis de Kepler que descreviam o movimento dos planetas no espaço, e as experiências de Harvey sobre como o sangue percorre as veias e artérias de um animal. Este fato foi o que posteriormente Pearson tratou como fenômenos observáveis com meros reflexos aleatórios, cujos quatro parâmetros mencionados poderiam ser determinados por investigação científica, sendo possível estimá-los por meio de dados.\n",
    "\n",
    "<br>\n",
    "<img src=\"img/educacao_estatistica.png\" width=\"600\">\n",
    "<br>"
   ]
  },
  {
   "cell_type": "markdown",
   "metadata": {},
   "source": [
    "# Análise exploratória de dados\n",
    "\n",
    "<br>\n",
    "<img src=\"img/EDA.jpg\">\n",
    "<br>\n"
   ]
  },
  {
   "cell_type": "markdown",
   "metadata": {},
   "source": [
    "## O que é Análise exploratória de Dados?\n",
    "\n",
    "Em estatística, a **análise exploratória de dados (AED)** é uma abordagem à análise de conjuntos de dados de modo a resumir suas características principais, frequentemente com métodos visuais. Um modelo estatístico pode ou não ser usado, mas primariamente a AED tem como objetivo observar o que os dados podem nos dizer além da modelagem formal ou do processo de teste de hipóteses. A análise exploratória de dados foi promovida pelo estatístico norte-americano John Tukey, que incentivava os estatísticos a explorar os dados e possivelmente formular hipóteses que poderiam levar a novas coletas de dados e experimentos. A **AED** é diferente da análise inicial de dados (AID), que se concentra mais estreitamente em verificar os pressupostos exigidos para ajuste de modelos e teste de hipóteses, além de manusear valores faltantes e fazer transformações de variáveis conforme necessário. A análise exploratória de dados abrange a AID.\n",
    "\n",
    "A análise exploratória de dados emprega grande variedade de técnicas gráficas e quantitativas, visando maximizar a obtenção de informações ocultas na sua estrutura, descobrir variáveis importantes em suas tendências, detectar comportamentos anômalos do fenômeno, testar se são válidas as hipóteses assumidas, escolher modelos e determinar o número ótimo de variáveis.\n",
    "\n",
    "Os softwares atualmente disponíveis possibilitam que esta técnica se constitua em uma ferramenta para descobrir quais tendências, relações e padrões podem estar ocultos em uma coleção de dados analisados. Seguindo as diretrizes propostas por Tukey, os investigadores deveriam iniciar sua análise pelo exame dos dados disponíveis e depois decidir qual técnica aplicar para resolver o problema. "
   ]
  },
  {
   "cell_type": "markdown",
   "metadata": {},
   "source": [
    "### Etapas\n",
    "\n",
    "(Existe vários frameworks diferentes com essas etapas, e certamenta alguns funcionam melhor que outros dependendo do problema enfrentado. Até mesmo as perguntas mais elementares como \"Entendendo o Problema\" pode ser que não exista em algum caso especifico, então usem como um guia, não como a verdade).\n",
    "\n",
    "Etapas básicas:\n",
    "\n",
    "1. **Entendendo o Problema**. De longe a etapa mais importante e potêncialmente a mais dificil do problema\n",
    "    \n",
    "2. **Entendendo os Dados**. Na aula de hoje focaremos nesta etapa. Faremos um overview sobre os dados e analisaremos as medidas de centralidade.\n",
    "    \n",
    "3. **Analise Univariada**. Na próxima aula iremos um pouco além, entendendo mais a fundo as estatisticas descritivas dos dados.\n",
    "    \n",
    "4. **Outliers, Nulos e outros**. Nessa etapa, trataremos os dados para que façam sentido para os nossos algoritmos.\n",
    "    \n",
    "5. **Analise Multivariada**. Aqui vamos entender como as variaveis estão relacionadas entre si.\n",
    "    \n",
    "6. **Inferências e Relações Causais**. Por último vamos responder nossa pergunta\n"
   ]
  },
  {
   "cell_type": "markdown",
   "metadata": {},
   "source": [
    "### Problema:\n",
    "\n",
    "- Muito se fala de desigualdade salarial entre generos. Existe desigualdade? E se sim, de quanto ela é?"
   ]
  },
  {
   "cell_type": "markdown",
   "metadata": {},
   "source": [
    "# Ferramentas\n",
    "\n",
    "# Python\n",
    "*fonte: Wikipédia*\n",
    "\n",
    "<br>\n",
    "<img src=\"img/python.png\">\n",
    "<br>\n",
    "\n",
    "\n",
    "\n",
    "Python é uma linguagem de programação de alto nível, interpretada, de script, imperativa, orientada a objetos, funcional, de tipagem dinâmica e forte. Foi lançada por Guido van Rossum em 1991. Atualmente possui um modelo de desenvolvimento comunitário, aberto e gerenciado pela organização sem fins lucrativos Python Software Foundation. Apesar de várias partes da linguagem possuírem padrões e especificações formais, a linguagem como um todo não é formalmente especificada. O padrão de facto é a implementação CPython.\n",
    "\n",
    "A linguagem foi projetada com a filosofia de enfatizar a importância do esforço do programador sobre o esforço computacional. Prioriza a legibilidade do código sobre a velocidade ou expressividade. Combina uma sintaxe concisa e clara com os recursos poderosos de sua biblioteca padrão e por módulos e frameworks desenvolvidos por terceiros.\n",
    "\n",
    "Python é uma linguagem de propósito geral de alto nível, multiparadigma, suporta o paradigma orientado a objetos, imperativo, funcional e procedural. Possui tipagem dinâmica e uma de suas principais características é permitir a fácil leitura do código e exigir poucas linhas de código se comparado ao mesmo programa em outras linguagens. Devido às suas características, ela é principalmente utilizada para processamento de textos, dados científicos e criação de CGIs para páginas dinâmicas para a web. Foi considerada pelo público a 3ª linguagem \"mais amada\", de acordo com uma pesquisa conduzida pelo site Stack Overflow em 2018, e está entre as 5 linguagens mais populares, de acordo com uma pesquisa conduzida pela RedMonk.\n",
    "\n",
    "O nome Python teve a sua origem no grupo humorístico britânico Monty Python, criador do programa Monty Python's Flying Circus, embora muitas pessoas façam associação com o réptil do mesmo nome (em português, píton ou pitão). \n",
    "\n",
    "Para saber mais sobre Python [clique aqui](https://realpython.com/tutorials/community/)\n",
    "\n",
    "Para a comunidade Python no Brasil [clique aqui](https://2018.pythonbrasil.org.br/)"
   ]
  },
  {
   "cell_type": "markdown",
   "metadata": {},
   "source": [
    "## ANACONDA\n",
    "\n",
    "<br>\n",
    "<img src=\"img/anaconda.png\" width='500' >\n",
    "<br>\n",
    "\n",
    "A plataforma abeta Anaconda Distribution é a maneira mais fácil de trabalhar com ciência de dados e aprendizado de máquina em Python/R no Linux, Windows e Mac OS X. Com mais de 11 milhões de usuários em todo o mundo, é o padrão da indústria para desenvolvimento, teste e treinamento de uma única máquina, permitindo que os cientistas de dados individuais:\n",
    "\n",
    "- Baixar rapidamente mais de 1.500 pacotes de ciência de dados do Python/R\n",
    "- Gerenciar bibliotecas, dependências e ambientes com o Conda\n",
    "- Desenvolver e treinar modelos de aprendizado de máquina e aprendizagem profunda com Scikit-learn, TensorFlow e Theano\n",
    "- Analisar dados com escalabilidade e desempenho com o Dask, NumPy, pandas e Numba\n",
    "- Visualizar resultados com Matplotlib, Bokeh, Datashader e Holoviews\n",
    "\n",
    "Para baixar o ANACONDA [clique aqui](https://www.anaconda.com/distribution/)"
   ]
  },
  {
   "cell_type": "markdown",
   "metadata": {},
   "source": [
    "## JUPYTER\n",
    "\n",
    "<br>\n",
    "<img src=\"img/jupyter.png\" width='75'>\n",
    "<br>\n",
    "\n",
    "\n",
    "O Jupyter Notebook é um aplicativo da Web de código aberto que permite criar e compartilhar documentos que contêm código ativo, equações, visualizações e texto narrativo. Os usos incluem: limpeza e transformação de dados, simulação numérica, modelagem estatística, visualização de dados, aprendizado de máquina e muito mais."
   ]
  },
  {
   "cell_type": "markdown",
   "metadata": {},
   "source": [
    "## GIT\n",
    "\n",
    "<br>\n",
    "<img src=\"img/git_logo.png\" width='200'>\n",
    "<br>\n",
    "\n",
    "*fonte:Wikipedia*\n",
    "\n",
    "Git pronunciado /git/ (ou pronunciado /dit/ em inglês britânico) é um sistema de controle de versões distribuído, usado principalmente no desenvolvimento de software, mas pode ser usado para registrar o histórico de edições de qualquer tipo de arquivo. O Git foi inicialmente projetado e desenvolvido por Linus Torvalds para o desenvolvimento do kernel Linux, mas foi adotado por muitos outros projetos.\n",
    "\n",
    "Cada diretório de trabalho do Git é um repositório com um histórico completo e habilidade total de acompanhamento das revisões, não dependente de acesso a uma rede ou a um servidor central. O Git também facilita a reprodutibilidade científica em uma ampla gama de disciplinas, da ecologia à bioinformática, arqueologia à zoologia.\n",
    "\n",
    "O Git é um software livre, distribuído sob os termos da versão 2 da GNU General Public License. Sua manutenção é atualmente supervisionada por Junio Hamano. \n",
    "\n",
    "<br>\n",
    "<img src=\"img/git.png\" width='600'>\n",
    "<br>"
   ]
  },
  {
   "cell_type": "markdown",
   "metadata": {},
   "source": [
    "## Abrindo o arquivo e acessando os dados"
   ]
  },
  {
   "cell_type": "code",
   "execution_count": null,
   "metadata": {},
   "outputs": [],
   "source": [
    "import csv\n",
    "\n",
    "\n",
    "data_csv=open(r'../../99 Datasets/demografia.csv', 'r')\n",
    "\n",
    "data = csv.reader(data_csv)\n",
    "print(type(data))"
   ]
  },
  {
   "cell_type": "code",
   "execution_count": null,
   "metadata": {},
   "outputs": [],
   "source": [
    "data_csv=open(r'../../99 Datasets/demografia.csv', 'r')\n",
    "data = csv.reader(data_csv)\n",
    "\n",
    "contador = 0\n",
    "for row in data:\n",
    "    print(row)\n",
    "    contador = contador + 1\n",
    "\n",
    "#         print(row[2],row[4],row[6])\n",
    "    if contador == 20:\n",
    "        break"
   ]
  },
  {
   "cell_type": "code",
   "execution_count": null,
   "metadata": {},
   "outputs": [],
   "source": [
    "type(row)"
   ]
  },
  {
   "cell_type": "code",
   "execution_count": null,
   "metadata": {},
   "outputs": [],
   "source": [
    "type(row[1])"
   ]
  },
  {
   "cell_type": "code",
   "execution_count": null,
   "metadata": {},
   "outputs": [],
   "source": [
    "row[1]"
   ]
  },
  {
   "cell_type": "markdown",
   "metadata": {},
   "source": [
    "## Medidas de Centralidade\n",
    "\n",
    "### Média\n",
    "\n",
    "\n",
    "*fonte: Wikipedia*\n",
    "\n",
    "Em estatística, média é definida como o valor que mostra para onde se concentram os dados de uma distribuição como o ponto de equilíbrio das frequências em um histograma. Média também é interpretada como um valor significativo de uma lista de números. Os valores de uma lista de números podem ser representados por meio da escolha aleatória de um número. Se todos os números forem iguais, o número escolhido aleatoriamente será a média. Então, a média pode ser calculada por meio da combinação dos números de maneira específica e da geração de um valor significativo. Entretanto, a palavra média é usualmente usada em métodos mais sofisticados como média aritmética, mediana, moda, entre outros.\n",
    "\n",
    "Seguindo uma definição mais informal de \"média\", pode-se assumir que no campo da estatística, dados possuem posições. Por exemplo, cada valor dos lançamentos de um dado possui sua posição em uma planilha eletrônica. Em estatística, média é uma medida de posição que indica um valor uniforme dos dados. Por exemplo, o conjunto x = { 2 , 1 , 6 , 5 , 10 } possui média aritmética 4,8. Embora 4,8 seja o valor médio, ele não é o valor central definido pela mediana.\n",
    "\n",
    "\n",
    "<br>\n",
    "<img src=\"img/media.png\">\n",
    "<br>\n",
    "\n",
    "\n",
    "A **média** é calculada por:\n",
    "\n",
    "$$ \\overline x = \\frac{1}{n} \\sum_i x_i $$\n",
    "\n",
    "Por exemplo, para a mostra 8, 5, 3, -1, e -5, a média é:"
   ]
  },
  {
   "cell_type": "code",
   "execution_count": null,
   "metadata": {},
   "outputs": [],
   "source": [
    "numbers = [8,5,3,-1,-5]\n",
    "\n",
    "somatorio = 0\n",
    "for number in numbers:\n",
    "    somatorio += number\n",
    "    print(f'Somando {number} + {somatorio-number} = {somatorio}')\n",
    "    \n",
    "media = somatorio/len(numbers)\n",
    "print('\\nmédia:',media)"
   ]
  },
  {
   "cell_type": "markdown",
   "metadata": {},
   "source": [
    "### Fazendo a média com nosso arquivo original"
   ]
  },
  {
   "cell_type": "code",
   "execution_count": null,
   "metadata": {},
   "outputs": [],
   "source": [
    "len(numbers)"
   ]
  },
  {
   "cell_type": "code",
   "execution_count": null,
   "metadata": {
    "scrolled": true
   },
   "outputs": [],
   "source": [
    "data_csv=open(r'../../99 Datasets/demografia.csv', 'r')\n",
    "data = csv.reader(data_csv)\n",
    "\n",
    "lista_exemplo = []\n",
    "somatorio = 0\n",
    "for i, line in enumerate(data):\n",
    "    if  i>0:\n",
    "        somatorio +=  int(line[2])\n",
    "        lista_exemplo.append(line[2])\n",
    "\n",
    "\n",
    "media = round(somatorio/len(lista_exemplo),2)\n",
    "\n",
    "print(f'Média da coluna Idade: {media}')"
   ]
  },
  {
   "cell_type": "markdown",
   "metadata": {},
   "source": [
    "### Calculando a média de Salário, anos de estudo e idade no mesmo código."
   ]
  },
  {
   "cell_type": "code",
   "execution_count": null,
   "metadata": {},
   "outputs": [],
   "source": [
    "somatorio_idade = 0\n",
    "somatorio_estudo = 0\n",
    "somatorio_salario = 0\n",
    "\n",
    "\n",
    "data_csv = open(r'../../99 Datasets/demografia.csv', 'r')\n",
    "data = csv.reader(data_csv)\n",
    "\n",
    "lista_exemplo = []\n",
    "somatorio = 0\n",
    "for i, row in enumerate(data):\n",
    "    if i>0:\n",
    "        print(row)\n",
    "        somatorio_idade += int(row[2])\n",
    "        somatorio_estudo += float(row[4])\n",
    "        somatorio_salario += float(row[6])\n",
    "            \n",
    "        \n",
    "media_idade = round(somatorio_idade/i,2)\n",
    "media_estudo = round(somatorio_estudo/i,2)\n",
    "media_salario = round(somatorio_salario/i,2)\n",
    "\n",
    "\n",
    "print(f'Média da coluna Idade: {media_idade}')\n",
    "print(f'Média da coluna Anos de Estudo: {media_estudo}')\n",
    "print(f'Média da coluna Salario: {media_salario}')"
   ]
  },
  {
   "cell_type": "markdown",
   "metadata": {},
   "source": [
    "> As linhas NULAS não podem ser convertidas em valores números?<br>\n",
    "> Como resolver ? Podemos criar uma FUNÇÃO que resolve isso?"
   ]
  },
  {
   "cell_type": "markdown",
   "metadata": {},
   "source": [
    "### VAMOS RESOLVER?"
   ]
  },
  {
   "cell_type": "code",
   "execution_count": null,
   "metadata": {},
   "outputs": [],
   "source": [
    "def tira_zero(entrada):\n",
    "    #\n",
    "    #\n",
    "    return saida"
   ]
  },
  {
   "cell_type": "markdown",
   "metadata": {},
   "source": [
    "Dê dois cliques para ver a resposta:\n",
    "<!--\n",
    "def tira_zero(parametro):\n",
    "    try:\n",
    "        parametro = float(parametro)\n",
    "        return parametro\n",
    "    except:\n",
    "        return 0\n",
    "\n",
    "-->"
   ]
  },
  {
   "cell_type": "code",
   "execution_count": null,
   "metadata": {},
   "outputs": [],
   "source": [
    "somatorio_idade = 0\n",
    "somatorio_estudo = 0\n",
    "somatorio_salario = 0\n",
    "\n",
    "\n",
    "data_csv = open(r'../../99 Datasets/demografia.csv', 'r')\n",
    "data = csv.reader(data_csv)\n",
    "\n",
    "somatorio = 0\n",
    "\n",
    "for i, row in enumerate(data):\n",
    "\n",
    "    if i>0:\n",
    "        somatorio_idade += tira_zero(row[2])\n",
    "        somatorio_estudo += tira_zero(row[4])\n",
    "        somatorio_salario += tira_zero(row[6])\n",
    "            \n",
    "media_idade = round(somatorio_idade/i,2)\n",
    "media_estudo = round(somatorio_estudo/i,2)\n",
    "media_salario = round(somatorio_salario/i,2)\n",
    "\n",
    "print(f'Média da coluna Idade: {media_idade}')\n",
    "print(f'Média da coluna Anos de Estudo: {media_estudo}')\n",
    "print(f'Média da coluna Salario: {media_salario}')"
   ]
  },
  {
   "cell_type": "markdown",
   "metadata": {},
   "source": [
    "### Uma segunda opção para resolver os zeros"
   ]
  },
  {
   "cell_type": "code",
   "execution_count": null,
   "metadata": {},
   "outputs": [],
   "source": [
    "def substitui_nulo_por_zero(entrada):\n",
    "    lista = []\n",
    "    for i, row in enumerate(entrada):\n",
    "        if i > 0:\n",
    "            \n",
    "            if not row[2]:\n",
    "                row[2] = 0\n",
    "                \n",
    "            if not row[4]:\n",
    "                row[4] = 0\n",
    "                \n",
    "            if not row[6]:\n",
    "                row[6] = 0\n",
    "                \n",
    "            lista.append(row)\n",
    "            \n",
    "    return lista"
   ]
  },
  {
   "cell_type": "code",
   "execution_count": null,
   "metadata": {},
   "outputs": [],
   "source": [
    "somatorio_idade = 0\n",
    "somatorio_estudo = 0\n",
    "somatorio_salario = 0\n",
    "\n",
    "\n",
    "with open(r'../../99 Datasets/demografia.csv', 'r') as data_csv:\n",
    "    data = csv.reader(data_csv)\n",
    "    \n",
    "    #lista_exemplo = []\n",
    "    lista_exemplo = substitui_nulo_por_zero(data)\n",
    "    \n",
    "    somatorio = 0\n",
    "    \n",
    "    for i, row in enumerate(lista_exemplo):\n",
    "        \n",
    "        if i>0:\n",
    "            somatorio_idade += int(row[2])\n",
    "            somatorio_estudo += float(row[4])\n",
    "            somatorio_salario += float(row[6])\n",
    "            \n",
    "media_idade = round(somatorio_idade/i,2)\n",
    "media_estudo = round(somatorio_estudo/i,2)\n",
    "media_salario = round(somatorio_salario/i,2)\n",
    "\n",
    "print(f'Média da coluna Idade: {media_idade}')\n",
    "print(f'Média da coluna Anos de Estudo: {media_estudo}')\n",
    "print(f'Média da coluna Salario: {media_salario}')"
   ]
  },
  {
   "cell_type": "markdown",
   "metadata": {},
   "source": [
    "___"
   ]
  },
  {
   "cell_type": "markdown",
   "metadata": {},
   "source": [
    "### Aprendendo a trabalhar com dicionários em Python\n",
    "\n",
    "Material complementar para dicionarios python: http://excript.com/python/funcoes-dicionarios.html"
   ]
  },
  {
   "cell_type": "code",
   "execution_count": null,
   "metadata": {},
   "outputs": [],
   "source": [
    "input_file = csv.DictReader(open(r'../../99 Datasets/demografia.csv', 'r') )\n",
    "\n",
    "contador = 0\n",
    "for row in input_file:\n",
    "    contador += 1\n",
    "    if contador <= 10:\n",
    "        print('\\n', row)"
   ]
  },
  {
   "cell_type": "code",
   "execution_count": null,
   "metadata": {},
   "outputs": [],
   "source": [
    "row"
   ]
  },
  {
   "cell_type": "code",
   "execution_count": null,
   "metadata": {},
   "outputs": [],
   "source": [
    "row['idade']"
   ]
  },
  {
   "cell_type": "code",
   "execution_count": null,
   "metadata": {},
   "outputs": [],
   "source": [
    "row['regiao']"
   ]
  },
  {
   "cell_type": "markdown",
   "metadata": {},
   "source": [
    "Criando a tabela como um dicionario"
   ]
  },
  {
   "cell_type": "code",
   "execution_count": null,
   "metadata": {},
   "outputs": [],
   "source": [
    "row"
   ]
  },
  {
   "cell_type": "code",
   "execution_count": null,
   "metadata": {},
   "outputs": [],
   "source": [
    "dict_table = dict()\n",
    "dict_table = {}\n",
    "\n",
    "with open(r'../../99 Datasets/demografia.csv', 'r') as data_csv:\n",
    "    data = csv.reader(data_csv)\n",
    "    header = next(data, None)\n",
    "    \n",
    "    for row in data:    \n",
    "        dict_table[row[1]] = {'idade':row[2], 'sexo':row[3], 'anos_estudo':row[4], 'salario': row[6]}"
   ]
  },
  {
   "cell_type": "code",
   "execution_count": null,
   "metadata": {
    "scrolled": true
   },
   "outputs": [],
   "source": [
    "contador = 0\n",
    "for row in dict_table:\n",
    "    print(row,dict_table[row])\n",
    "    contador = contador + 1\n",
    "\n",
    "    if contador == 10:\n",
    "        break\n"
   ]
  },
  {
   "cell_type": "code",
   "execution_count": null,
   "metadata": {},
   "outputs": [],
   "source": [
    "'11027211101.0' in dict_table"
   ]
  },
  {
   "cell_type": "code",
   "execution_count": null,
   "metadata": {},
   "outputs": [],
   "source": [
    "dict_table['11027211101.0']"
   ]
  },
  {
   "cell_type": "code",
   "execution_count": null,
   "metadata": {},
   "outputs": [],
   "source": [
    "dict_table['11027211101.0']['anos_estudo']"
   ]
  },
  {
   "cell_type": "code",
   "execution_count": null,
   "metadata": {},
   "outputs": [],
   "source": [
    "dict_table['11027211101.0']['anos_estudo'] = '6.0'"
   ]
  },
  {
   "cell_type": "code",
   "execution_count": null,
   "metadata": {},
   "outputs": [],
   "source": [
    "dict_table['11027211101.0']"
   ]
  },
  {
   "cell_type": "code",
   "execution_count": null,
   "metadata": {},
   "outputs": [],
   "source": [
    "del dict_table['11027211101.0']"
   ]
  },
  {
   "cell_type": "code",
   "execution_count": null,
   "metadata": {},
   "outputs": [],
   "source": [
    "dict_table['11027211101.0']"
   ]
  },
  {
   "cell_type": "code",
   "execution_count": null,
   "metadata": {},
   "outputs": [],
   "source": [
    "def create_text_histogram(txt):\n",
    "    dictionary = {}\n",
    "    i=0\n",
    "    for x in set(txt): # função set\n",
    "        dictionary[x] = txt.count(x)\n",
    "    return dictionary"
   ]
  },
  {
   "cell_type": "code",
   "execution_count": null,
   "metadata": {},
   "outputs": [],
   "source": [
    "create_text_histogram(txt='teste de frase comprida para histograma')"
   ]
  },
  {
   "cell_type": "code",
   "execution_count": null,
   "metadata": {},
   "outputs": [],
   "source": [
    "contagem_idades = {}\n",
    "\n",
    "with open(r'../../99 Datasets/demografia.csv', 'r') as data_csv:\n",
    "    data = csv.reader(data_csv)\n",
    "    header = next(data, None) # equivalente a i>0\n",
    "    \n",
    "    idades = []\n",
    "    for row in data:\n",
    "        idades.append(row[2])\n",
    "        \n",
    "    "
   ]
  },
  {
   "cell_type": "code",
   "execution_count": null,
   "metadata": {
    "scrolled": true
   },
   "outputs": [],
   "source": [
    "idades"
   ]
  },
  {
   "cell_type": "code",
   "execution_count": null,
   "metadata": {},
   "outputs": [],
   "source": []
  },
  {
   "cell_type": "code",
   "execution_count": null,
   "metadata": {},
   "outputs": [],
   "source": [
    "histograma_idades = create_text_histogram(idades)"
   ]
  },
  {
   "cell_type": "code",
   "execution_count": null,
   "metadata": {},
   "outputs": [],
   "source": [
    "type(histograma_idades)"
   ]
  },
  {
   "cell_type": "code",
   "execution_count": null,
   "metadata": {},
   "outputs": [],
   "source": [
    "histograma_idades"
   ]
  },
  {
   "cell_type": "code",
   "execution_count": null,
   "metadata": {},
   "outputs": [],
   "source": [
    "histograma_idades.keys()"
   ]
  },
  {
   "cell_type": "code",
   "execution_count": null,
   "metadata": {},
   "outputs": [],
   "source": [
    "histograma_idades.values()"
   ]
  },
  {
   "cell_type": "code",
   "execution_count": null,
   "metadata": {},
   "outputs": [],
   "source": [
    "histograma_idades.items()"
   ]
  },
  {
   "cell_type": "code",
   "execution_count": null,
   "metadata": {
    "scrolled": false
   },
   "outputs": [],
   "source": [
    "for key in sorted(histograma_idades.keys()):\n",
    "    print(\"%s: %s\" % (key, histograma_idades[key]))"
   ]
  },
  {
   "cell_type": "markdown",
   "metadata": {},
   "source": [
    "___"
   ]
  },
  {
   "cell_type": "markdown",
   "metadata": {},
   "source": [
    "### Mediana\n",
    "\n",
    "\n",
    "\n",
    "Mediana é o valor que separa a metade maior e a metade menor de uma amostra, uma população ou uma distribuição de probabilidade. Em termos mais simples, mediana pode ser o valor do meio de um conjunto de dados. No conjunto de dados {1, 3, 3, 6, 7, 8, 9}, por exemplo, a mediana é 6. Se houver um número par de observações, não há um único valor do meio. Então, a mediana é definida como a média dos dois valores do meio. No conjunto de dados {3, 5, 7, 9}, a mediana é (5 + 7) / 2 = 6.\n",
    "\n",
    "A mediana é uma medida comum das propriedades de conjuntos de dados em estatística e em teoria das probabilidades, com importância central na estatística robusta. A estatística robusta é mais resistente, com ponto de ruptura de 50%. A mediana não fornece resultados arbitrariamente grandes desde que mais da metade dos dados não esteja contaminada.\n",
    "\n",
    "A vantagem da mediana em relação à média é que a mediana pode dar uma ideia melhor de um valor típico porque não é tão distorcida por valores extremamente altos ou baixos. Em estudos estatísticos sobre renda familiar ou outros ativos voláteis, a média pode ser distorcida por um pequeno número de valores extremamente altos ou baixos. \n",
    "\n",
    "Exemplos:\n",
    "\n",
    "- Ímpar:\n",
    "\t\t[1, 2, 3, 5, 7, 8, 9, 10, 15]\n",
    "\t\t#elementos: 9\n",
    "\t\tA mediana é o valor da posição 5 (a posição do “meio”)\n",
    "\t\tMediana =  7\n",
    "        \n",
    "        \n",
    "- Par: \n",
    "\t\t[-5, -1, 0, 1, 2, 3, 8, 20]\n",
    "\t\t#elementos: 8\n",
    "\t\tA mediana é a média dos valores nas duas posições centrais\n",
    "\t\tMediana =  (1+2)/2 = 1.5"
   ]
  },
  {
   "cell_type": "markdown",
   "metadata": {},
   "source": [
    "### Definindo uma função para calcular a Mediana"
   ]
  },
  {
   "cell_type": "code",
   "execution_count": null,
   "metadata": {},
   "outputs": [],
   "source": [
    "def median(l):\n",
    "    #\n",
    "    #\n",
    "    return l[half]"
   ]
  },
  {
   "cell_type": "markdown",
   "metadata": {},
   "source": [
    "Dê dois cliques para ver a resposta:\n",
    "<!--\n",
    "def median(l):\n",
    "    half = (len(l)) // 2\n",
    "    l.sort()\n",
    "    if not len(l) % 2:\n",
    "        return (l[half - 1] + l[half]) / 2.0\n",
    "    return l[half]\n",
    "-->"
   ]
  },
  {
   "cell_type": "markdown",
   "metadata": {},
   "source": [
    "### Aplicando para as idades do nosso DataSet"
   ]
  },
  {
   "cell_type": "code",
   "execution_count": null,
   "metadata": {},
   "outputs": [],
   "source": [
    "idades = list(map(int,idades))\n",
    "median(idades)"
   ]
  },
  {
   "cell_type": "markdown",
   "metadata": {},
   "source": [
    "___"
   ]
  },
  {
   "cell_type": "markdown",
   "metadata": {},
   "source": [
    "### Moda\n",
    "\n",
    "\n",
    "Em estatística, moda é uma das medidas de tendência central de um conjunto de dados, assim como a média e a mediana. Ela pode ser definida em moda amostral e populacional.\n",
    "\n",
    "Em relação à primeira delas, a moda amostral de um conjunto de dados trata do valor que ocorre com maior frequência ou o valor mais comum em um conjunto de dados. Moda é especialmente útil quando os valores ou as observações não são numéricos, casos em que a média e a mediana não podem ser definidas. \n",
    "\n",
    "Moda amostral não é necessariamente única como média ou mediana. Amostras que possuem uma moda são chamadas unimodais. Por exemplo, a amostra {1, 2, 3, 5, 5, 6, 7} tem moda 5. Amostras que possuem duas modas são chamadas bimodais. Por exemplo, a amostra {1, 2, 3, 5, 5, 6, 6} tem modas 5 e 6. Amostras que possuem várias modas são chamadas multimodais. Por exemplo, a amostra {1, 2 3, 5, 5, 6, 6, 7, 7} tem modas 5, 6 e 7. Amostras que não possuem moda são chamadas amodais. Por exemplo, a amostra {1, 3, 2, 5, 7, 6} não tem moda. \n",
    "\n",
    "Por exemplo, a moda de [0,1,1,2,2,2,2,3,3,4,4,4,5] é 2.\n",
    "\n",
    "A moda não é necessariamente única. Pode ser que existam dois valores diferentes que sejam os mais frequentes. Por exemplo, no caso de [10, 13, 13, 20, 20], tanto 13 como 20 são a moda.\n",
    "\n",
    "<br>\n",
    "<img src=\"img/moda2.png\">\n",
    "<br>"
   ]
  },
  {
   "cell_type": "markdown",
   "metadata": {},
   "source": [
    "### Calculando a moda"
   ]
  },
  {
   "cell_type": "code",
   "execution_count": null,
   "metadata": {},
   "outputs": [],
   "source": [
    "inverse = [(value, key) for key, value in histograma_idades.items()]\n",
    "print (\"O valor mais frequente para as idades é\",max(inverse)[1])"
   ]
  },
  {
   "cell_type": "code",
   "execution_count": null,
   "metadata": {},
   "outputs": [],
   "source": [
    "print (\"O número de pessoas com\",max(inverse)[1],\"anos de idade é\",max(inverse)[0])"
   ]
  },
  {
   "cell_type": "markdown",
   "metadata": {},
   "source": [
    "### Vamos criar uma função para procurar a pessoa mais velha da base"
   ]
  },
  {
   "cell_type": "code",
   "execution_count": null,
   "metadata": {},
   "outputs": [],
   "source": [
    "max_age = None\n",
    "oldest_person = None\n",
    "\n",
    "input_file = csv.DictReader(open(r'../../99 Datasets/demografia.csv', 'r'))\n",
    "\n",
    "for row in input_file:\n",
    "    age = int(row[\"idade\"])\n",
    "    if max_age == None or max_age < age:\n",
    "        max_age = age\n",
    "        oldest_person = row[\"id\"]\n",
    "\n",
    "if max_age != None:\n",
    "    print(\"A pessoa mais velha na base é o id %s, que tem %d anos.\" % (oldest_person, max_age))\n",
    "else:\n",
    "    print(\"Não tem ninguém nesse arquivo\")"
   ]
  },
  {
   "cell_type": "markdown",
   "metadata": {},
   "source": [
    "### Como criar uma função para procurar a pessoa mais nova da base?"
   ]
  },
  {
   "cell_type": "code",
   "execution_count": null,
   "metadata": {},
   "outputs": [],
   "source": []
  },
  {
   "cell_type": "markdown",
   "metadata": {},
   "source": [
    "Dê dois cliques para ver a resposta:\n",
    "<!--\n",
    "min_age = None\n",
    "oldest_person = None\n",
    "\n",
    "input_file = csv.DictReader(open(r'data/data.csv', 'r'))\n",
    "\n",
    "for row in input_file:\n",
    "    age = int(row[\"idade\"])\n",
    "    if min_age == None or min_age > age:\n",
    "        min_age = age\n",
    "        youngest_person = row[\"id\"]\n",
    "\n",
    "if min_age != None:\n",
    "    print(\"A pessoa mais nova na base é o id %s, que tem %d anos.\" % (youngest_person, min_age))\n",
    "else:\n",
    "    print(\"Não tem ninguém nesse arquivo\")\n",
    "-->"
   ]
  },
  {
   "cell_type": "markdown",
   "metadata": {},
   "source": [
    "___"
   ]
  },
  {
   "cell_type": "markdown",
   "metadata": {},
   "source": [
    "## Prévia da resposta para o nosso problema. Os homens ganham mais do que as mulheres? Quanto?"
   ]
  },
  {
   "cell_type": "code",
   "execution_count": null,
   "metadata": {},
   "outputs": [],
   "source": []
  },
  {
   "cell_type": "code",
   "execution_count": null,
   "metadata": {},
   "outputs": [],
   "source": []
  },
  {
   "cell_type": "markdown",
   "metadata": {},
   "source": [
    "Dê dois cliques para ver a resposta:\n",
    "<!--\n",
    "with open(r'data/data.csv', 'r') as data_csv:\n",
    "    data = csv.reader(data_csv)\n",
    "    \n",
    "    lista_homem = []\n",
    "    somatorio = 0.0\n",
    "    for i, line in enumerate(data):\n",
    "        if i>0:\n",
    "            if line[3] == 'homem':\n",
    "                somatorio +=  tira_zero(line[6])\n",
    "                lista_homem.append(line[6])\n",
    "            \n",
    "\n",
    "media_sal_homem = round(somatorio/len(lista_homem),2)\n",
    "\n",
    "print(f'Média salário homem: {media_sal_homem}')\n",
    "\n",
    "with open(r'data/data.csv', 'r') as data_csv:\n",
    "    data = csv.reader(data_csv)\n",
    "    \n",
    "    lista_mulher = []\n",
    "    somatorio = 0.0\n",
    "    for i, line in enumerate(data):\n",
    "        if i>0:\n",
    "            if line[3] == 'mulher':\n",
    "                somatorio +=  tira_zero(line[6])\n",
    "                lista_mulher.append(line[6])\n",
    "            \n",
    "\n",
    "media_sal_mulher = round(somatorio/len(lista_mulher),2)\n",
    "\n",
    "print(f'Média salário mulher: {media_sal_mulher}')\n",
    "-->"
   ]
  },
  {
   "cell_type": "markdown",
   "metadata": {},
   "source": [
    "Dê dois cliques para ver a resposta FINAL:\n",
    "<!--\n",
    "Para este DataSet, em média as mulheres ganham mais que os homens.\n",
    "-->"
   ]
  },
  {
   "cell_type": "markdown",
   "metadata": {},
   "source": [
    "Mais conteúdo e exercícios sobre Média, Moda e Mediana em:\n",
    "http://professorguru.com.br/estatistica/medidas%20de%20posição/exemplos%20de%20média%2C%20moda%20e%20mediana.html\n",
    "https://www.todamateria.com.br/media-moda-e-mediana/"
   ]
  },
  {
   "cell_type": "code",
   "execution_count": null,
   "metadata": {},
   "outputs": [],
   "source": []
  }
 ],
 "metadata": {
  "hide_input": false,
  "kernelspec": {
   "display_name": "Python 3",
   "language": "python",
   "name": "python3"
  },
  "language_info": {
   "codemirror_mode": {
    "name": "ipython",
    "version": 3
   },
   "file_extension": ".py",
   "mimetype": "text/x-python",
   "name": "python",
   "nbconvert_exporter": "python",
   "pygments_lexer": "ipython3",
   "version": "3.7.3"
  },
  "toc": {
   "base_numbering": 1,
   "nav_menu": {
    "height": "417px",
    "width": "637px"
   },
   "number_sections": true,
   "sideBar": true,
   "skip_h1_title": true,
   "title_cell": "Table of Contents",
   "title_sidebar": "Contents",
   "toc_cell": true,
   "toc_position": {
    "height": "calc(100% - 180px)",
    "left": "10px",
    "top": "150px",
    "width": "296.758px"
   },
   "toc_section_display": true,
   "toc_window_display": true
  },
  "varInspector": {
   "cols": {
    "lenName": 16,
    "lenType": 16,
    "lenVar": 40
   },
   "kernels_config": {
    "python": {
     "delete_cmd_postfix": "",
     "delete_cmd_prefix": "del ",
     "library": "var_list.py",
     "varRefreshCmd": "print(var_dic_list())"
    },
    "r": {
     "delete_cmd_postfix": ") ",
     "delete_cmd_prefix": "rm(",
     "library": "var_list.r",
     "varRefreshCmd": "cat(var_dic_list()) "
    }
   },
   "types_to_exclude": [
    "module",
    "function",
    "builtin_function_or_method",
    "instance",
    "_Feature"
   ],
   "window_display": false
  },
  "widgets": {
   "application/vnd.jupyter.widget-state+json": {
    "state": {},
    "version_major": 2,
    "version_minor": 0
   }
  }
 },
 "nbformat": 4,
 "nbformat_minor": 2
}
