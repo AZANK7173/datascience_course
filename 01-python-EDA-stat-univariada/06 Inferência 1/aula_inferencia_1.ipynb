{
 "cells": [
  {
   "cell_type": "markdown",
   "metadata": {},
   "source": [
    "## Introdução à Inferência Estatística\n",
    "\n",
    "*fonte: Wikipedia*\n",
    "\n",
    "Inferência estatística é um ramo da Estatística cujo objetivo é fazer afirmações a partir de um conjunto de valores representativo (amostra) sobre um universo (população), sendo que assume-se que a população é muito maior do que o conjunto de dados observados, a amostra. Tal tipo de afirmação deve sempre vir acompanhada de uma medida de precisão sobre sua veracidade. Para realizar este trabalho o estatístico coleta informações de dois tipos, experimentais (as amostras) e aquelas que obtém na literatura. As duas principais escolas de inferência são a inferência frequencista (ou clássica) e a inferência bayesiana.\n",
    "\n",
    "A inferência estatística é geralmente distinta da estatística descritiva. A descrição estatística pode ser vista como a simples apresentação dos fatos, nos quais o modelo de decisões feito pelo analista tem pouca influência. É natural que análises estatísticas avancem, indo da descrição para a inferência de padrões. Essa última tarefa depende do modelo usado e/ou criado pelo analista dos dados. \n",
    "\n",
    "Na prática, a matematica é mais dedutiva e a inferência é indutiva.\n",
    "\n",
    "- Parâmetros -> População\n",
    "- Estatisticas -> Amostra\n",
    "\n",
    "<br>\n",
    "<img src=\"img/estatistica.png\" width=\"450\" />\n",
    "<br>\n",
    "\n",
    "### Conceitos fundamentais para a compreeensão da estatística\n",
    "\n",
    "- **Viés**: Viés ou erro sistemático é a distorção sistemática entre a medida de uma variável estatística e o valor real da grandeza a estimar. A introdução de um viés no cálculo estatístico pode estar ligada quer a imperfeição ou deformação da amostra (estatística) que serve de base para a estimativa, quer ao próprio método de avaliação. Estudaremos **viés** na aula de **Inferência 2**.\n",
    "\n",
    "- **Intervalos de confiança**:  Intervalo de confiança (IC) é um tipo de estimativa por intervalo de um parâmetro populacional desconhecido.\n",
    "\n",
    "- **Testes de hipóteses**: ou teste de significância é um procedimento estatístico que permite tomar uma decisão (aceitar ou rejeitar a hipótese).\n",
    "\n",
    "Vamos então aprofundar agora os conceitos de **intervalo de confiança** e **teste de hipótese**, e deixar viés para a próxima aula.\n",
    "\n",
    "- **Curva Normal:**\n",
    "\n",
    "Distribuição De-Moivre-Laplace-Gauss\n",
    "\n",
    "Nos séculos dezoito e dezenove, alguns matemáticos e físicos desenvolveram uma função densidade de probabilidade que descrevia os erros experimentais obtidos em medidas físicas _Caire_, 2012. De certa forma todo e qualquer processo de mensuração está sujeito a um erro de medida. Esse erro pode ter diferentes fontes, desde a variação de tempertura, tempo, entre inúmeras outras características não identificáveis. Essa função densidade de probabilidade é curva conhecida como distribuição normal ou gaussina.\n",
    "\n",
    "A grande utilidade dessa distribuição está associada ao fato de que aproxima de forma bastante satisfatória as curvas de frequências de medidas físicas.\n",
    "\n",
    "<br>\n",
    "<img src=\"img/normal.png\" width=\"550\" />\n",
    "<br>"
   ]
  },
  {
   "cell_type": "markdown",
   "metadata": {},
   "source": [
    "## Intervalo de Confiança\n",
    "\n",
    "*fonte: Wikipedia*\n",
    "\n",
    "Em estatística, intervalo de confiança (IC) é um tipo de estimativa por intervalo de um parâmetro populacional desconhecido. Introduzido na estatística por Jerzy Neyman em 1937, é um intervalo observado (calculado a partir de observações) que pode variar de amostra para amostra e que com dada frequência (nível de confiança) inclui o parâmetro de interesse real não observável.\n",
    "\n",
    "Como os dados observados são amostras aleatórias da população, o intervalo de confiança construído a partir dos dados também é aleatório. Entretanto, o intervalo de confiança calculado a partir de uma amostra particular não inclui necessariamente o valor real do parâmetro. Quando se tem 99% de confiança de que o valor real do parâmetro está no intervalo de confiança, significa que 99% dos intervalos de confiança observados têm o valor real do parâmetro. Tomando–se qualquer amostra particular, o parâmetro populacional desconhecido pode ou não pode estar no intervalo de confiança observado.\n",
    "\n",
    "<br>\n",
    "<img src=\"img/intervalo_de_confianca.png\" width=\"700\" />\n",
    "<br>"
   ]
  },
  {
   "cell_type": "markdown",
   "metadata": {},
   "source": [
    "# Teste de Hipóteses\n",
    "\n",
    "Teste de hipóteses, teste estatístico ou teste de significância é um procedimento estatístico que permite tomar uma decisão (aceitar ou rejeitar a hipótese nula ${H_0}$ entre duas ou mais hipóteses (geralmente adota-se hipótese nula ${H_0}$ e hipótese alternativa ${H_1}$), utilizando os dados observados de um determinado experimento. Há diversos métodos para realizar o teste de hipóteses, que incluem Fisher (teste de significância), o método de Neyman–Pearson, método de Bayes, e o método t-Student.\n",
    "\n",
    "Por meio da teoria da probabilidade, é possível inferir sobre quantidades de interesse de uma população a partir de uma amostra observada de um experimento científico. Por exemplo, estimar pontualmente e de forma intervalar um parâmetro de interesse, testar se uma determinada teoria científica deve ser descartada, verificar se um lote de remédios deve ser devolvido por falta de qualidade, entre outros. Por meio do rigor matemático, a inferência estatística pode ser utilizada para auxiliar a tomada de decisões nas mais variadas áreas.\n",
    "\n",
    "<br>\n",
    "<img src=\"img/zona_aceitacao.png\" width=\"450\" />\n",
    "<br>\n",
    "\n",
    "Portanto, para um teste de hipóteses teremos geralmente:\n",
    "\n",
    "- Hipótese nula ${H_0}$: é a hipótese assumida como verdadeira para a construção do teste. É a teoria, o efeito ou a alternativa que se está interessado em testar e **não rejeitar**.\n",
    "\n",
    "- Hipótese alternativa ${H_1}$: é considerada quando a hipótese nula não tem evidência estatística.\n",
    "\n",
    "Os testes de hipóteses são utilizados para determinar quais resultados de um estudo científico podem levar à rejeição da hipótese nula ${H_0}$ a um nível de significância pré–estabelecido. O estudo da teoria das probabilidades e a determinação da estatística de teste correta são fundamentais para a coerência de um teste de hipótese. Se as hipóteses do teste de hipóteses não forem assumidas de maneira correta, o resultado será incorreto e a informação será incoerente com a questão do estudo científico. Os tipos conceituais de erro (erro do tipo I e erro do tipo II) e os limites paramétricos ajudam a distinguir entre a hipótese nula ${H_0}$ e a hipótese alternativa ${H_1}$.\n",
    "\n",
    "<br>\n",
    "<img src=\"img/erro_tabela.png\">\n",
    "<br>\n",
    "\n",
    "Graficamente temos:\n",
    "\n",
    "<br>\n",
    "<br>\n",
    "<img src=\"img/erros.png\" width=\"600\" />\n",
    "<br>\n",
    "<br>"
   ]
  },
  {
   "cell_type": "markdown",
   "metadata": {},
   "source": [
    "\\## Procedimentos para fazer um Teste de Hipótese com uma amostra\n",
    "\n",
    "É apropriado para comparar a amostra com a população a partir da hipótese. As características da população são conhecidas a partir da teoria ou são calculadas a partir da população.\n",
    "\n",
    "- (1) Escolher a hipótese a ser testada\n",
    "- (2) Dependendo do que se quer testar, escolher a estatística a ser usada na comparação dos valores na realização do teste de hipóteses\n",
    "\n",
    "Vamos ver agora os tipos de teste mais comuns para **mostragem alearórias simples - uma variável**.\n",
    "\n",
    "### Teste da média ou t-Student\n",
    "\n",
    "Por exemplo, para se testar um certo valor $\\overline x$ como média da hipótese de uma população com média $\\mu_0$ e variância $\\sigma^2$ conhecida, devemos utilizar a transformação seguinte, com $n$ observações:\n",
    "\n",
    "<br>\n",
    "$$z=\\frac{\\overline x-\\mu_0}{\\sigma / \\sqrt{n}}$$\n",
    "<br>\n",
    "\n",
    "onde:\n",
    "\n",
    "- ${\\bar x}$ - valor médio da hipótese\n",
    "- ${\\mu_0}$ - valor medio da amostra\n",
    "- ${\\sigma}$ - desvio padrão da população\n",
    "- ${n}$ - tamanho da amostra\n",
    "\n",
    "Caso o desvio padrão da população seja desconhecido, utilizamos o desvio padrão da amostra ${s}$:\n",
    "\n",
    "<br>\n",
    "$$z=\\frac{\\overline x-\\mu_0}{s / \\sqrt{n}}$$\n",
    "<br>\n",
    "\n",
    "Para este caso, o desvio padrão amostral ${s}$ será:\n",
    "\n",
    "<br>\n",
    "$$s=\\sqrt{\\frac{\\sum(x_i-\\overline x)²}{n-1}}$$\n",
    "<br>\n",
    "\n",
    "Para melhor visualização do teste de hipóteses da média, a figura abaixo ilustra a média $\\mu_0$ da amostra com a grande região de não rejeição, e a média da hipótese à esquerda gerando uma segunda curva normal e as regiões de rejeição para o **erro tipo I** e o **erro tipo II** em destaque.\n",
    "\n",
    "<br>\n",
    "<br>\n",
    "<img src=\"img/Teste_T_Gráfico_bicaudal.gif\" width=\"450\" />\n",
    "<br>\n",
    "<br>\n",
    "\n",
    "### Teste da variância\n",
    "\n",
    "Para se testar a variância, deveremos utilizar a estatística *Ki-Quadrado*, com $(n-1)$ graus de liberdade\n",
    "\n",
    "<br>\n",
    "$$\\chi^2 = \\frac{(n-1)s^2}{\\sigma_0}$$\n",
    "<br>\n",
    "\n",
    "### Teste da proporção\n",
    "\n",
    "O teste a proporção é análogo ao teste das médias, só que para valores de proporção: \n",
    "\n",
    "<br>\n",
    "$$z=\\frac{p\\prime-p_0}{\\sqrt{\\frac{p_0-(1-p_0)}{n}}}$$\n",
    "<br>"
   ]
  },
  {
   "cell_type": "markdown",
   "metadata": {},
   "source": [
    "## Valor crítico e região crítica\n",
    "\n",
    "Com a estatística escolhida e com o nível de significância $\\alpha$ escolhido, é possível encontrar o **valor crítico** e também a **região crítica**. \n",
    "\n",
    "#### Nível de significância e p-value\n",
    "\n",
    "Para ciência, o nível de significância adotado em geral é 0.95, o que torna o valor critico para *p-value* = 0.05 (1-p).\n",
    "\n",
    "Como veremos nos exemplos mais adiante, para se testar um certo valor de média da hipótese nula ${\\bar x}$, com a média nominal ${\\mu_0}$, o desvio padrão ${\\sigma}$ e o tamanho da amostra ${n}$, deve-se calcular o intervalo de confiança e, caso a média da hipótese esteja dentro do intervalo de confiança, então **não rejeitamos** a hipótese nula, caso contrário, a hipótese nula deve ser **rejeitada**.\n",
    "\n",
    "Segundo a figura abaixo, conseguimos visualizar a região central chamada de região de aceitação ou não rejeição, contendo 95% da área sob a curva de densidade de distribuição da variável em estudo, e a região crítica representada pelas duas bordas nas extremidades direita e esquerda, cada uma somando 2.5% da área sob a curva, totalizando os 5% remanescentes que justificam o valor crítico de *p-value* = 0.05. É interessante observar os valores críticos de **z-score** (como veremos adiante) em -1.96 (à esquerda) e 1.96 (à direita).\n",
    "\n",
    "<br>\n",
    "<img src=\"img/teste_hipotese.png\" width=\"450\" />\n",
    "<br>"
   ]
  },
  {
   "cell_type": "markdown",
   "metadata": {},
   "source": [
    "## Teste de Hipóteses com duas amostras\n",
    "\n",
    "É apropriado para comparar duas amostras, tipicamente amostra experimental e amostra de controle a partir de um experimento cientificamente controlado. Também pode ser chamado de **teste para comparação de 2 médias**.\n",
    "\n",
    "### Teste pareado\n",
    "\n",
    "É apropriado para comparar duas amostras quando é impossível controlar variáveis importantes. Em vez de comparar dois conjuntos, os componentes são pareados entre amostras. Então, a diferença entre os componentes se torna a amostra. Tipicamente a média das diferenças é comparada a 0. O cenário comum de exemplo para quando o teste pareado é apropriado é quando um único conjunto de sujeitos de teste tem algo aplicado a eles e o teste destina-se a verificar um efeito.\n",
    "\n",
    "Calculamos as diferenças dos valores das amostras e calculamos $\\overline x$ e $s$ das diferenças e usamos a estatística:\n",
    "<br><br>\n",
    "$$t=\\frac{\\overline x- \\mu_0}{s / \\sqrt{n}} \\sim t(n-1)$$\n",
    "<br>\n",
    "\n",
    "Onde $s$ é o desvio padrão amostral:\n",
    "\n",
    "<br>\n",
    "$$s=\\sqrt{\\frac{\\sum(x_i-\\overline x)²}{n-1}}$$\n",
    "<br>\n",
    "\n",
    "### Duas amostras independentes\n",
    "\n",
    "#### Médias e variâncias conhecidas:\n",
    "\n",
    "Teste de hipóteses para duas amostras independentes, com médias conhecidas $\\overline x_1$ e $\\overline x_2$, e variâncias conhecidas $\\sigma_1²$ e $\\sigma_2²$, sendo a diferença entra suas médias dada por $\\mu_1-\\mu_2=\\triangle$:\n",
    "\n",
    "<br>\n",
    "$$z=\\frac{(\\overline x_1-\\overline x_2)- \\triangle} {\\sqrt{\\frac{\\sigma_1²}{n_1}+\\frac{\\sigma_2²}{n_2}}} \\sim N(0;1)$$\n",
    "<br>\n",
    "\n",
    "#### Médias conhecidas e variâncias desconhecidas porém iguais:\n",
    "\n",
    "Caso as variâncias sejam desconhecidas porém iguais, utilizamos o desvio padrão amostral $s$, com $\\mu_1-\\mu_2=\\triangle$:\n",
    "\n",
    "<br>\n",
    "$$t=\\frac{(\\overline x_1-\\overline x_2)-\n",
    "           \\triangle}\n",
    "         {s_p\\sqrt{\\frac{1}{n_1}+\\frac{1}{n_2}}} \\sim t(n_1+n_2-2)$$\n",
    "<br>\n",
    "\n",
    "#### Médias conhecidas, variâncias desconhecidas e diferentes:\n",
    "\n",
    "Caso as variâncias sejam desconhecidas porém iguais, utilizamos os desvios padrão amostrais $s_1$ e $s_2$, com $\\mu_1-\\mu_2=\\triangle$:\n",
    "\n",
    "<br>\n",
    "$$t=\\frac{(\\overline x_1-\\overline x_2)- \\triangle} {\\sqrt{\\frac{s_1²}{n_1}+\\frac{s_2²}{n_2}}} \\sim t(\\phi)$$\n",
    "<br>\n",
    "\n",
    "#### Teste para a comparação de duas Variâncias (Teste F):\n",
    "\n",
    "É comumente usado para decidir se agrupamentos de dados por categorias são significativos. A hipótese nula é que duas variâncias são as mesmas, então o agrupamento proposto não é significativo. A estatística a ser usada será:\n",
    "\n",
    "<br>\n",
    "$$F=\\frac{s_1²}{s_2²}$$\n",
    "<br>"
   ]
  },
  {
   "cell_type": "markdown",
   "metadata": {},
   "source": [
    "# Exemplos práticos"
   ]
  },
  {
   "cell_type": "markdown",
   "metadata": {},
   "source": [
    "## Exemplo (1): Fomos contratados por uma empresa de loteria para pesquisar a proporção de clientes que compra determinado produto. A empresa manterá seu atual planejamento de marketing se a sua participação de mercado for de 50% ou mais, caso contrário, ela triplicará seus gastos em publicidade. \n",
    "\n",
    "- Hipótese Nula ($H_0$): 50% ou mais do mercado compra na lotérica (sem investimento adicional em MKT)\n",
    "- Hipeotese Alternativa ($H_1$): menos de 50% do mercado compra na lotérica (trplicar o investimento em MKT)"
   ]
  },
  {
   "cell_type": "markdown",
   "metadata": {},
   "source": [
    "### Importando as bilbiotecas necessárias"
   ]
  },
  {
   "cell_type": "code",
   "execution_count": null,
   "metadata": {},
   "outputs": [],
   "source": [
    "import numpy as np\n",
    "import pandas as pd\n",
    "import scipy.stats as st\n",
    "import matplotlib.pyplot as plt\n",
    "%matplotlib inline"
   ]
  },
  {
   "cell_type": "markdown",
   "metadata": {},
   "source": [
    "### Base de dados\n",
    "\n",
    "A base de dados será criada com o numpy.binomial como um teste de 120 observações aleatórias com valores 0 e 1 (que define se o cliente compra ou não na casa lotérica), com parâmetro de distribuição p=0.4 (que define o target da média).\n",
    "\n",
    "### Criando um DataFrame com os dados\n",
    "\n",
    "Estes dados teoricamente seriam obtidos pela realização de entrevistas com as pessoas nas imediações da casa lotérica para apurar quantas pessoas são clientes e quantas não são clientes."
   ]
  },
  {
   "cell_type": "code",
   "execution_count": null,
   "metadata": {},
   "outputs": [],
   "source": [
    "p=0.4       # Definição do target (teórico)\n",
    "testes=1\n",
    "obs=120     # Número de Observações\n",
    "\n",
    "np.random.seed(seed=42)\n",
    "\n",
    "df = pd.DataFrame([int(n) for n in np.random.binomial(testes, p, obs, )], columns= ['compra_ou_não'])\n",
    "df.head(10)\n",
    "\n",
    "# soma de 1's / total de linhas = obs"
   ]
  },
  {
   "cell_type": "code",
   "execution_count": null,
   "metadata": {},
   "outputs": [],
   "source": [
    "df.plot.hist()"
   ]
  },
  {
   "cell_type": "code",
   "execution_count": null,
   "metadata": {},
   "outputs": [],
   "source": [
    "df.info()"
   ]
  },
  {
   "cell_type": "code",
   "execution_count": null,
   "metadata": {},
   "outputs": [],
   "source": [
    "df.describe()"
   ]
  },
  {
   "cell_type": "code",
   "execution_count": null,
   "metadata": {},
   "outputs": [],
   "source": [
    "variancia_teorica = p*(1-p)\n",
    "variancia_teorica"
   ]
  },
  {
   "cell_type": "markdown",
   "metadata": {},
   "source": [
    "## Análise dos dados\n",
    "\n",
    "### Calculando a média "
   ]
  },
  {
   "cell_type": "code",
   "execution_count": null,
   "metadata": {},
   "outputs": [],
   "source": [
    "market_share_amostral=df.compra_ou_não.sum()/len(df.compra_ou_não)\n",
    "market_share_amostral"
   ]
  },
  {
   "cell_type": "markdown",
   "metadata": {},
   "source": [
    "### Calculando a variância e o desvio-padrão"
   ]
  },
  {
   "cell_type": "code",
   "execution_count": null,
   "metadata": {},
   "outputs": [],
   "source": [
    "std = df.std()\n",
    "var = df.std()**2\n",
    "print('Desvio-Padrão:',std)\n",
    "print('Varância:',var)"
   ]
  },
  {
   "cell_type": "markdown",
   "metadata": {},
   "source": [
    "### Formulando a hipótese a ser testada\n",
    "\n",
    "Segundo o teste de hipóteses, caso o market share da lotérica seja maior que 50% o investimento deve se manter o mesmo (não triplicar), ou seja, se $p(H_0) > 0.5$ não rejeitamos a hipótese. Neste caso conhecemos a média e a variância amostral.\n",
    "\n",
    "Será utilizada a média amostral padronizada do ponto anterior como estatístico de teste. Adotando o nível de significância de 0.95, está sendo buscada uma regra que deixe um valor de $p > 0.05$ de rejeição quando H0 for verdadeira."
   ]
  },
  {
   "cell_type": "markdown",
   "metadata": {},
   "source": [
    "## Calculando e comparando os valores críticos"
   ]
  },
  {
   "cell_type": "code",
   "execution_count": null,
   "metadata": {},
   "outputs": [],
   "source": [
    "# Calculando manualmente, com base na fórmula (utilizando o z-score nominal para população)\n",
    "mean = df.compra_ou_não.mean()\n",
    "sigma = df.compra_ou_não.std()\n",
    "n = len(df.compra_ou_não)\n",
    "\n",
    "mean - 1.96*sigma/np.sqrt(n), mean + 1.96*sigma/np.sqrt(n)\n",
    "# da tabela Z-Score: 0.95 / 2 = 0.4750 --> 1.96"
   ]
  },
  {
   "cell_type": "code",
   "execution_count": null,
   "metadata": {},
   "outputs": [],
   "source": [
    "# Calculando o intervalo de confiança pelo Scipy.Stats\n",
    "\n",
    "st.norm.interval(alpha=0.95, loc=mean, scale=sigma/np.sqrt(n))"
   ]
  },
  {
   "cell_type": "code",
   "execution_count": null,
   "metadata": {},
   "outputs": [],
   "source": [
    "limite_inferior = st.norm.interval(alpha=0.95, loc=mean, scale=sigma/np.sqrt(n))[0]\n",
    "limite_superior = st.norm.interval(alpha=0.95, loc=mean, scale=sigma/np.sqrt(n))[1]"
   ]
  },
  {
   "cell_type": "code",
   "execution_count": null,
   "metadata": {},
   "outputs": [],
   "source": [
    "# Comparando com a hopótese\n",
    "\n",
    "p_H0 = 0.5\n",
    "\n",
    "limite_inferior < p_H0 < limite_superior"
   ]
  },
  {
   "cell_type": "markdown",
   "metadata": {},
   "source": [
    "Podemos perceber que o valor de p_Ho=0.5 também está fora do intervalo de confiança (zona de rejeição), o que nos faz rejeitar a hipótese Ho."
   ]
  },
  {
   "cell_type": "markdown",
   "metadata": {},
   "source": [
    "### p-value"
   ]
  },
  {
   "cell_type": "code",
   "execution_count": null,
   "metadata": {},
   "outputs": [],
   "source": [
    "# p-value por Scipy.Stats para a normal\n",
    "\n",
    "st.norm(mean, sigma/np.sqrt(n)).sf(0.5)"
   ]
  },
  {
   "cell_type": "code",
   "execution_count": null,
   "metadata": {},
   "outputs": [],
   "source": [
    "from math import fabs\n",
    "\n",
    "# Comparando\n",
    "\n",
    "fabs(p_value) > 0.05"
   ]
  },
  {
   "cell_type": "markdown",
   "metadata": {},
   "source": [
    "Também podemos concluir que o p-value=0.010 está fora do intervalo de confiança (menos que 0.05 em módulo), portanto reforçamos a mesma conclusão de rejeitar a hipótese Ho."
   ]
  },
  {
   "cell_type": "code",
   "execution_count": null,
   "metadata": {},
   "outputs": [],
   "source": [
    "# Calculando as estatísticas por Scipy.Stats para t-student (retorna o Z-score amostral e o p-value)\n",
    "\n",
    "st.ttest_1samp(df.compra_ou_não, 0.5) "
   ]
  },
  {
   "cell_type": "markdown",
   "metadata": {},
   "source": [
    "### teste com z-score"
   ]
  },
  {
   "cell_type": "code",
   "execution_count": null,
   "metadata": {},
   "outputs": [],
   "source": [
    "# Cálculo do Z-score para a amostra\n",
    "p_H0=0.5\n",
    "z_teste = (market_share_amostral-p_H0) / (std/(obs**(0.5)))\n",
    "z_teste"
   ]
  },
  {
   "cell_type": "code",
   "execution_count": null,
   "metadata": {},
   "outputs": [],
   "source": [
    "#A decisão é...\n",
    "\n",
    "z_score = 1.96 # Z score para a significância de 95% é de -1.96 a 1.96\n",
    "\n",
    "from math import fabs # fabs retorna o módulo do valor.\n",
    "fabs(z_teste) < fabs(z_score)"
   ]
  },
  {
   "cell_type": "markdown",
   "metadata": {},
   "source": [
    "O valor do z-score=-2.62 para a p_Ho=0.5 está fora do intervalo de confiança com alpha=0.05, pois está fora do intervalo crítico(-1.96 <--> 1.96). Vamos confirmar esta condição peloss outros indicadores."
   ]
  },
  {
   "cell_type": "markdown",
   "metadata": {},
   "source": [
    "### Calculando o Alpha Máximo para o valor da hipótese"
   ]
  },
  {
   "cell_type": "code",
   "execution_count": null,
   "metadata": {},
   "outputs": [],
   "source": [
    "alpha_max = 1-st.norm(mean, sigma/np.sqrt(n)).sf(0.5)\n",
    "alpha_max"
   ]
  },
  {
   "cell_type": "markdown",
   "metadata": {},
   "source": [
    "## Plotando a curva Beta dos dados para verificar o comportamento da distribuição"
   ]
  },
  {
   "cell_type": "code",
   "execution_count": null,
   "metadata": {},
   "outputs": [],
   "source": [
    "from scipy.stats import beta\n",
    "import matplotlib.pyplot as plt\n",
    "\n",
    "# Para o gráfico\n",
    "fig, ax = plt.subplots(1, 1) \n",
    "\n",
    "# Gerando a distribuição\n",
    "beta_distribution = beta(100*market_share_amostral,100-100*market_share_amostral)\n",
    "\n",
    "# Plotando a destribuição\n",
    "\n",
    "x = np.linspace(0., 1.0, 120)\n",
    "\n",
    "ax.plot(x, beta_distribution.pdf(x))\n",
    "\n",
    "ax.set(xlabel='conversion rate', ylabel='density')"
   ]
  },
  {
   "cell_type": "markdown",
   "metadata": {},
   "source": [
    "# Exemplo (2): Klout Score\n",
    "\n",
    "## Introdução\n",
    "\n",
    "Klout costumava ser um site e aplicativo móvel que usava análise de mídia social para classificar seus usuários de acordo com a influência social online através do \"Klout Score\", que era um valor numérico entre 1 e 100. Ao determinar a pontuação do usuário, o Klout media o tamanho de uma rede de mídia social do usuário e correlacionava o conteúdo criado para medir como outros usuários interagem com esse conteúdo. Klout lançado em 2008.\n",
    "\n",
    "A Lithium Technologies, que adquiriu o site em março de 2014, fechou o serviço em 25 de maio de 2018.\n",
    "\n",
    "Klout utilizava os dados do Bing, Facebook, Quadrangular, Google+, Instagram, LinkedIn, Twitter, YouTube e Wikipedia para criar perfis de usuários do Klout que recebia uma \"pontuação do Klout\" exclusiva. As pontuações de Klout variam de 1 a 100, com pontuações mais altas correspondendo a uma classificação mais alta da amplitude e da força da influência social on-line de cada um. Enquanto todos os usuários do Twitter recebiam uma pontuação, os usuários que se registraram no Klout podiam vincular várias redes sociais, das quais os dados da rede foram agregados para influenciar a pontuação do Klout do usuário.\n",
    "\n",
    "<br>\n",
    "<img src=\"img/klout.png\" width=\"450\" />\n",
    "<br>\n",
    "\n",
    "## Aplicação do Klout-Score na prática\n",
    "\n",
    "Agora vamos observar a distribuição dos [Klout Scores](https://klout.com/corp/score) que está anexada ao arquivo `klouts_scores.csv`. com isso, vamos imaginar que 1048 observações de Klout scores seja a nossa população com as quais contamos."
   ]
  },
  {
   "cell_type": "markdown",
   "metadata": {},
   "source": [
    "## 1. Aproximando uma distribuição amostral das médias\n",
    "\n",
    "### Orientações\n",
    "\n",
    "1. Obtemos uma amostra de tamanho 5 e calculamos a média. Repetimos este passo 1000 vezes para fazer um histograma das médias. \n",
    "2. Obtemos uma amostra de tamanho 10 e calculamos a média. Repetimos este passo 1000 vezes.\n",
    "3. Obtemos uma amostra de tamanho 100 e calculamos a média. Repetimos este passo 1000 vezes.\n",
    "4. O que é observado sobre o histograma da média à medida que aumentamos o tamanho amostral?\n",
    "5. O que é observado sobre o valor das médias das diferentes distribuições amostrais em relação à média populacional?"
   ]
  },
  {
   "cell_type": "code",
   "execution_count": null,
   "metadata": {},
   "outputs": [],
   "source": [
    "import pandas as pd\n",
    "import numpy as np\n",
    "import scipy.stats as st\n",
    "import matplotlib.pyplot as plt\n",
    "%matplotlib inline"
   ]
  },
  {
   "cell_type": "code",
   "execution_count": null,
   "metadata": {},
   "outputs": [],
   "source": [
    "df = pd.read_csv('../../99 Datasets/klout_scores.csv.zip', header=None, decimal=\",\")\n",
    "df.columns = ['k_score']"
   ]
  },
  {
   "cell_type": "code",
   "execution_count": null,
   "metadata": {},
   "outputs": [],
   "source": [
    "df.info()"
   ]
  },
  {
   "cell_type": "code",
   "execution_count": null,
   "metadata": {},
   "outputs": [],
   "source": [
    "df.head()"
   ]
  },
  {
   "cell_type": "code",
   "execution_count": null,
   "metadata": {},
   "outputs": [],
   "source": [
    "df.describe()"
   ]
  },
  {
   "cell_type": "code",
   "execution_count": null,
   "metadata": {},
   "outputs": [],
   "source": [
    "df.mean()"
   ]
  },
  {
   "cell_type": "code",
   "execution_count": null,
   "metadata": {},
   "outputs": [],
   "source": [
    "df.plot.hist(bins=50, figsize=(8,6))"
   ]
  },
  {
   "cell_type": "markdown",
   "metadata": {},
   "source": [
    "### Definimos uma função para realizar a amostragem e calcular a média para uma amostra de tamanho n."
   ]
  },
  {
   "cell_type": "code",
   "execution_count": null,
   "metadata": {},
   "outputs": [],
   "source": [
    "def sampling(df, n):\n",
    "    \"\"\"\n",
    "    df = dataframe\n",
    "    n = tamanho da amostra\n",
    "    \"\"\"\n",
    "    index = np.random.choice(range(0,len(df)), size = n)\n",
    "    df_s = np.array(df.iloc[index,])\n",
    "    return(df_s)\n",
    "\n",
    "\n",
    "def samp_mean(df, n_i):\n",
    "    means = []                        # means = list()\n",
    "    for reps in range(0,1000):\n",
    "        s_ = sampling(df, n_i)\n",
    "        m_ = s_.mean()\n",
    "        means.append(m_)\n",
    "    return(means)"
   ]
  },
  {
   "cell_type": "code",
   "execution_count": null,
   "metadata": {},
   "outputs": [],
   "source": [
    "for i, n in enumerate(df.values):\n",
    "    print(i, n)\n",
    "    if i == 10:\n",
    "        break  "
   ]
  },
  {
   "cell_type": "code",
   "execution_count": null,
   "metadata": {},
   "outputs": [],
   "source": [
    "sampling.__doc__"
   ]
  },
  {
   "cell_type": "markdown",
   "metadata": {},
   "source": [
    "### Verificação da redução de variância com o aumento da amostra"
   ]
  },
  {
   "cell_type": "code",
   "execution_count": null,
   "metadata": {},
   "outputs": [],
   "source": [
    "m = []\n",
    "n_s = [5,10,50,300]\n",
    "plt.figure(figsize=(10,10))\n",
    "\n",
    "for i in range(len(n_s)):\n",
    "    \n",
    "    mm = samp_mean(df, n_s[i])\n",
    "    plt.subplot(('22' + str(i+1)))\n",
    "    plt.hist(mm)\n",
    "    plt.xlim((0,75))\n",
    "    e = np.mean(mm) - 37.71905483252884\n",
    "    plt.title('n=' + str(n_s[i]) + ' - ' + 'Media=' + str(round(np.mean(mm),4)) + ' - Erro:' + str(round(e,4)) )"
   ]
  },
  {
   "cell_type": "markdown",
   "metadata": {},
   "source": [
    "## 2. Calculando um intervalo de confiança com `scipy`\n",
    "\n",
    "### Orientações\n",
    "\n",
    "2.1. Agora, extrair uma amostra da população de tamanho n=70. \n",
    "\n",
    "2.2. Em seguida, calcular um intervalo de confiança de 95% para a média populacional"
   ]
  },
  {
   "cell_type": "code",
   "execution_count": null,
   "metadata": {},
   "outputs": [],
   "source": [
    "#Extrair a amostra \n",
    "\n",
    "n= 70 \n",
    "\n",
    "sample = sampling(df,n)"
   ]
  },
  {
   "cell_type": "code",
   "execution_count": null,
   "metadata": {},
   "outputs": [],
   "source": [
    "#Calcular o estatístico a ser utilizado\n",
    "mean, sigma, n = np.mean(sample), np.std(sample), len(sample)\n",
    "\n",
    "# Calculamos o intervalo de confiança de uma aproximação normal com o método de scipy\n",
    "st.norm.interval(0.95, loc=mean, scale=sigma/np.sqrt(n))"
   ]
  },
  {
   "cell_type": "code",
   "execution_count": null,
   "metadata": {},
   "outputs": [],
   "source": [
    "# Ele pode ser calculado manualmente, com base na fórmula \n",
    "mean - 1.96*sigma/np.sqrt(n), mean + 1.96*sigma/np.sqrt(n)\n",
    "# da tabela Z-Score: 0.95 / 2 = 0.4750 --> 1.96"
   ]
  },
  {
   "cell_type": "code",
   "execution_count": null,
   "metadata": {},
   "outputs": [],
   "source": [
    "# Podemos calcular uma aproximação normal\n",
    "st.t.interval(0.95, n, loc=mean, scale=sigma/(np.sqrt(n)-1))"
   ]
  },
  {
   "cell_type": "code",
   "execution_count": null,
   "metadata": {},
   "outputs": [],
   "source": [
    "mean"
   ]
  },
  {
   "cell_type": "markdown",
   "metadata": {},
   "source": [
    "2.3 Intervalo de confiança para uma amostra de 150"
   ]
  },
  {
   "cell_type": "code",
   "execution_count": null,
   "metadata": {},
   "outputs": [],
   "source": [
    "#Extrair a amostra \n",
    "\n",
    "n= 150\n",
    "\n",
    "sample = sampling(df,n)"
   ]
  },
  {
   "cell_type": "code",
   "execution_count": null,
   "metadata": {},
   "outputs": [],
   "source": [
    "#Calcular o estatístico a ser utilizado\n",
    "mean, sigma, n = np.mean(sample), np.std(sample), len(sample)\n",
    "\n",
    "# Calculamos o intervalo de confiança de uma aproximação normal com o método de scipy\n",
    "st.norm.interval(0.95, loc=mean, scale=sigma/np.sqrt(n))"
   ]
  },
  {
   "cell_type": "code",
   "execution_count": null,
   "metadata": {},
   "outputs": [],
   "source": [
    "# Ele pode ser calculado manualmente, com base na fórmula \n",
    "mean - 1.96*sigma/np.sqrt(n), mean + 1.96*sigma/np.sqrt(n)\n",
    "# da tabela Z-Score: 0.95 / 2 = 0.4750 --> 1.96"
   ]
  },
  {
   "cell_type": "code",
   "execution_count": null,
   "metadata": {},
   "outputs": [],
   "source": [
    "# Podemos calcular uma aproximação normal\n",
    "st.t.interval(0.95, n, loc=mean, scale=sigma/(np.sqrt(n)-1))"
   ]
  },
  {
   "cell_type": "code",
   "execution_count": null,
   "metadata": {},
   "outputs": [],
   "source": [
    "mean"
   ]
  },
  {
   "cell_type": "markdown",
   "metadata": {},
   "source": [
    "## 3. Fazendo um teste de hipótese em `scipy`\n",
    "\n",
    "### Orientações\n",
    "\n",
    "3.1. Agora, suponha que em uma consultoria é apresentada a média do Klout Score populacional de 38. Realizar um teste de hipótese sobre isso, com um nível de significância de 0.05 ( https://pt.wikipedia.org/wiki/Significância_estatística ). Apresentar as hipóteses nulas e alternativas. Qual foi a conclusão?\n",
    "\n",
    "3.2. Suponha que, em vez de definir um nível de significância de 0.05, é definido um nível de 0.1. O resultado poderia ter sido alterado?\n",
    "\n",
    "3.3. E se a hipótese nula indicasse que a média é 42?"
   ]
  },
  {
   "cell_type": "markdown",
   "metadata": {},
   "source": [
    "### 3.1. Agora, suponha que em uma consultoria é apresentada a média do Klout Score populacional de 38. Realizar um teste de hipótese sobre isso, com um nível de significância de 0.05. Apresentar as hipóteses nulas e alternativas. Qual foi a conclusão?\n",
    "\n",
    "Para o nosso exemplo:\n",
    "\n",
    "- Hipotese nula (algo que se quer **não rejeitar**): a média de Klout Score de 38 é estatísticamente válida.\n",
    "- Hipotese alternativa: a média de Klout Score de 38 não é estatísticamente válida.\n",
    "\n",
    "Para este trabalho, vamos utilizar os valores do nosso **Sample** do item anterior com amostra de 150"
   ]
  },
  {
   "cell_type": "code",
   "execution_count": null,
   "metadata": {},
   "outputs": [],
   "source": [
    "# Calculando o intervalo de confiança:\n",
    "\n",
    "mean, sigma, n = np.mean(sample), np.std(sample), len(sample)\n",
    "st.norm.interval(0.95, loc=mean, scale=sigma/np.sqrt(n))"
   ]
  },
  {
   "cell_type": "code",
   "execution_count": null,
   "metadata": {},
   "outputs": [],
   "source": [
    "mean"
   ]
  },
  {
   "cell_type": "code",
   "execution_count": null,
   "metadata": {},
   "outputs": [],
   "source": [
    "# Calculando os valores de t-Student e p-Value para a média = 38:\n",
    "\n",
    "x_barra = 38\n",
    "st.ttest_1samp(sample,x_barra) "
   ]
  },
  {
   "cell_type": "markdown",
   "metadata": {},
   "source": [
    "### Isolando os resultados para comparação"
   ]
  },
  {
   "cell_type": "code",
   "execution_count": null,
   "metadata": {},
   "outputs": [],
   "source": [
    "t_student = st.ttest_1samp(sample,x_barra)[0]\n",
    "t_student"
   ]
  },
  {
   "cell_type": "code",
   "execution_count": null,
   "metadata": {},
   "outputs": [],
   "source": [
    "p_value = st.ttest_1samp(sample,x_barra)[1]/2\n",
    "p_value"
   ]
  },
  {
   "cell_type": "markdown",
   "metadata": {},
   "source": [
    "### Valores críticos"
   ]
  },
  {
   "cell_type": "markdown",
   "metadata": {},
   "source": [
    "#### t_student"
   ]
  },
  {
   "cell_type": "code",
   "execution_count": null,
   "metadata": {},
   "outputs": [],
   "source": [
    "# Abribuindo o intervalo de confiança às variáveis para os limites superior e inferior\n",
    "\n",
    "limite_inferior = st.norm.interval(0.95, loc=mean, scale=sigma/np.sqrt(n))[0]\n",
    "limite_superior = st.norm.interval(0.95, loc=mean, scale=sigma/np.sqrt(n))[1]\n",
    "print(\"%.2f\" % limite_inferior,'<--->', \"%.2f\" % limite_superior)  "
   ]
  },
  {
   "cell_type": "code",
   "execution_count": null,
   "metadata": {},
   "outputs": [],
   "source": [
    "# Calculando t-Student crítico para os limites superior e inferior (com inversão pois t-student < 0)\n",
    "\n",
    "t_student_critico_superior = st.ttest_1samp(sample,limite_inferior)[0]\n",
    "t_student_critico_inferior = st.ttest_1samp(sample,limite_superior)[0]\n",
    "print(\"%.2f\" % t_student_critico_inferior,'<--->',\"%.2f\" %  t_student_critico_superior)"
   ]
  },
  {
   "cell_type": "code",
   "execution_count": null,
   "metadata": {},
   "outputs": [],
   "source": [
    "t_student_critico_inferior < t_student < t_student_critico_superior"
   ]
  },
  {
   "cell_type": "markdown",
   "metadata": {},
   "source": [
    "#### p-value\n",
    "\n",
    "O valor de p-value tem que estaar entre o limite inferior de -0.025 e o limite superior de 0.05. Somando-se as duas extremidades (superior e interior, obtemos um limite de 0.05 para o p-value, ou seja, para valores maiores que 0.05 não rejeitamos a hipótese nula, e para valores menores que 0.05 rejeitamos a hipótese nula."
   ]
  },
  {
   "cell_type": "code",
   "execution_count": null,
   "metadata": {},
   "outputs": [],
   "source": [
    "# O p-value tem que estar dentro da área normal que comporta a região central de 95% da área da distribuição\n",
    "\n",
    "p_value > 0.05"
   ]
  },
  {
   "cell_type": "markdown",
   "metadata": {},
   "source": [
    "### 3.2. Suponha que, em vez de definir um nível de significância de 0.05, é definido um nível de 0.1. O resultado poderia ter sido alterado?"
   ]
  },
  {
   "cell_type": "code",
   "execution_count": null,
   "metadata": {},
   "outputs": [],
   "source": [
    "# 2. Significância 0.1:\n",
    "\n",
    "\n",
    "# Calculamos o intervalo de confiança de uma aproximação normal com o método de scipy\n",
    "st.norm.interval(0.9, loc=mean, scale=sigma/np.sqrt(n))"
   ]
  },
  {
   "cell_type": "code",
   "execution_count": null,
   "metadata": {},
   "outputs": [],
   "source": [
    "# Calculando os valores de t-Student e p-Value para a média = 38:\n",
    "\n",
    "x_barra = 38.0\n",
    "st.ttest_1samp(sample,x_barra) "
   ]
  },
  {
   "cell_type": "code",
   "execution_count": null,
   "metadata": {},
   "outputs": [],
   "source": [
    "t_student = st.ttest_1samp(sample,x_barra)[0]\n",
    "t_student"
   ]
  },
  {
   "cell_type": "code",
   "execution_count": null,
   "metadata": {},
   "outputs": [],
   "source": [
    "# Abribuindo o intervalo de confiança às variáveis para os limites superior e inferior\n",
    "\n",
    "limite_inferior = st.norm.interval(0.90, loc=mean, scale=sigma/np.sqrt(n))[0]\n",
    "limite_superior = st.norm.interval(0.90, loc=mean, scale=sigma/np.sqrt(n))[1]\n",
    "print(\"%.2f\" % limite_inferior,'<--->', \"%.2f\" % limite_superior) "
   ]
  },
  {
   "cell_type": "code",
   "execution_count": null,
   "metadata": {},
   "outputs": [],
   "source": [
    "# Calculando t-Student crítico para os limites superior e inferior (com inversão pois t-student < 0)\n",
    "\n",
    "t_student_critico_superior = st.ttest_1samp(sample,limite_inferior)[0]\n",
    "t_student_critico_inferior = st.ttest_1samp(sample,limite_superior)[0]\n",
    "print(\"%.2f\" % t_student_critico_inferior,'<--->',\"%.2f\" %  t_student_critico_superior)"
   ]
  },
  {
   "cell_type": "code",
   "execution_count": null,
   "metadata": {},
   "outputs": [],
   "source": [
    "# Verificação t-Student\n",
    "t_student_critico_inferior < t_student < t_student_critico_superior"
   ]
  },
  {
   "cell_type": "code",
   "execution_count": null,
   "metadata": {},
   "outputs": [],
   "source": [
    "# Verificação p-value\n",
    "p_value = st.ttest_1samp(sample,x_barra)[1]/2\n",
    "p_value"
   ]
  },
  {
   "cell_type": "code",
   "execution_count": null,
   "metadata": {},
   "outputs": [],
   "source": [
    "# O p-value tem que estar dentro da área normal que comporta a região central de 95% da área da distribuição\n",
    "\n",
    "p_value > 0.05"
   ]
  },
  {
   "cell_type": "markdown",
   "metadata": {},
   "source": [
    "### 3.3. E se a hipótese nula indicasse que a média é 42?"
   ]
  },
  {
   "cell_type": "code",
   "execution_count": null,
   "metadata": {},
   "outputs": [],
   "source": [
    "# 3. Hipótese nula indicando média 42:\n",
    "\n",
    "st.ttest_1samp(sample,42)"
   ]
  },
  {
   "cell_type": "code",
   "execution_count": null,
   "metadata": {},
   "outputs": [],
   "source": [
    "# Calculando os valores de t-Student e p-Value para a média = 42:\n",
    "\n",
    "x_barra = 42.0\n",
    "st.ttest_1samp(sample,x_barra) "
   ]
  },
  {
   "cell_type": "code",
   "execution_count": null,
   "metadata": {},
   "outputs": [],
   "source": [
    "t_student = st.ttest_1samp(sample,x_barra)[0]\n",
    "t_student"
   ]
  },
  {
   "cell_type": "code",
   "execution_count": null,
   "metadata": {},
   "outputs": [],
   "source": [
    "# Abribuindo o intervalo de confiança às variáveis para os limites superior e inferior\n",
    "\n",
    "limite_inferior = st.norm.interval(0.95, loc=mean, scale=sigma/np.sqrt(n))[0]\n",
    "limite_superior = st.norm.interval(0.95, loc=mean, scale=sigma/np.sqrt(n))[1]\n",
    "print(\"%.2f\" % limite_inferior,'<--->', \"%.2f\" % limite_superior) "
   ]
  },
  {
   "cell_type": "code",
   "execution_count": null,
   "metadata": {},
   "outputs": [],
   "source": [
    "# Calculando t-Student crítico para os limites superior e inferior (com inversão pois t-student < 0)\n",
    "\n",
    "t_student_critico_superior = st.ttest_1samp(sample,limite_inferior)[0]\n",
    "t_student_critico_inferior = st.ttest_1samp(sample,limite_superior)[0]\n",
    "print(\"%.2f\" % t_student_critico_inferior,'<--->',\"%.2f\" %  t_student_critico_superior)"
   ]
  },
  {
   "cell_type": "code",
   "execution_count": null,
   "metadata": {},
   "outputs": [],
   "source": [
    "# Verificação t-Student\n",
    "t_student_critico_inferior < t_student < t_student_critico_superior"
   ]
  },
  {
   "cell_type": "code",
   "execution_count": null,
   "metadata": {},
   "outputs": [],
   "source": [
    "# Verificação p-value\n",
    "p_value = st.ttest_1samp(sample,x_barra)[1]/2\n",
    "p_value"
   ]
  },
  {
   "cell_type": "code",
   "execution_count": null,
   "metadata": {},
   "outputs": [],
   "source": [
    "# O p-value tem que estar dentro da área normal que comporta a região central de 95% da área da distribuição\n",
    "\n",
    "p_value > 0.05"
   ]
  },
  {
   "cell_type": "markdown",
   "metadata": {},
   "source": [
    "# parenteses (Avançado)"
   ]
  },
  {
   "cell_type": "code",
   "execution_count": null,
   "metadata": {},
   "outputs": [],
   "source": [
    "!pip install wand\n",
    "# instalar http://docs.wand-py.org/en/latest/guide/install.html#install-imagemagick-on-windows"
   ]
  },
  {
   "cell_type": "code",
   "execution_count": null,
   "metadata": {
    "scrolled": false
   },
   "outputs": [],
   "source": [
    "import numpy as np\n",
    "import matplotlib.pyplot as plt\n",
    "import matplotlib.animation as animation\n",
    "from wand.image import Image\n",
    "from wand.display import display\n",
    "%matplotlib notebook\n",
    "%matplotlib notebook \n",
    "\n",
    "\n",
    "# 1000 simulations of die roll\n",
    "n = 1000\n",
    "\n",
    "# In each simulation, there is one trial more than the previous simulation\n",
    "avg = []\n",
    "for i in range(1,n):\n",
    "    a = np.random.randint(1,7,10)\n",
    "    avg.append(np.average(a))\n",
    "    \n",
    "# sample 10 expected value of die rolls\n",
    "avg[1:10]\n",
    "\n",
    "# Function that will plot the histogram, where current is the latest figure\n",
    "def clt(current):\n",
    "    # if animation is at the last frame, stop it\n",
    "    plt.cla()\n",
    "    if current == 1000: \n",
    "        a.event_source.stop()\n",
    "\n",
    "    plt.hist(avg[0:current])\n",
    "\n",
    "    plt.gca().set_title('Expected value of die rolls')\n",
    "    plt.gca().set_xlabel('Average from die roll')\n",
    "    plt.gca().set_ylabel('Frequency')\n",
    "\n",
    "    plt.annotate('Die roll = {}'.format(current), [3,27])\n",
    "    \n",
    "fig = plt.figure()\n",
    "a = animation.FuncAnimation(fig, clt, interval=1)"
   ]
  },
  {
   "cell_type": "code",
   "execution_count": null,
   "metadata": {},
   "outputs": [],
   "source": [
    "#a.save('clt2.gif', writer='imagemagick', fps=10)"
   ]
  },
  {
   "cell_type": "code",
   "execution_count": null,
   "metadata": {},
   "outputs": [],
   "source": []
  },
  {
   "cell_type": "code",
   "execution_count": null,
   "metadata": {},
   "outputs": [],
   "source": []
  }
 ],
 "metadata": {
  "hide_input": false,
  "kernelspec": {
   "display_name": "Python 3",
   "language": "python",
   "name": "python3"
  },
  "language_info": {
   "codemirror_mode": {
    "name": "ipython",
    "version": 3
   },
   "file_extension": ".py",
   "mimetype": "text/x-python",
   "name": "python",
   "nbconvert_exporter": "python",
   "pygments_lexer": "ipython3",
   "version": "3.7.3"
  },
  "toc": {
   "base_numbering": 1,
   "nav_menu": {},
   "number_sections": true,
   "sideBar": true,
   "skip_h1_title": false,
   "title_cell": "Table of Contents",
   "title_sidebar": "Contents",
   "toc_cell": false,
   "toc_position": {},
   "toc_section_display": true,
   "toc_window_display": false
  },
  "varInspector": {
   "cols": {
    "lenName": 16,
    "lenType": 16,
    "lenVar": 40
   },
   "kernels_config": {
    "python": {
     "delete_cmd_postfix": "",
     "delete_cmd_prefix": "del ",
     "library": "var_list.py",
     "varRefreshCmd": "print(var_dic_list())"
    },
    "r": {
     "delete_cmd_postfix": ") ",
     "delete_cmd_prefix": "rm(",
     "library": "var_list.r",
     "varRefreshCmd": "cat(var_dic_list()) "
    }
   },
   "types_to_exclude": [
    "module",
    "function",
    "builtin_function_or_method",
    "instance",
    "_Feature"
   ],
   "window_display": false
  }
 },
 "nbformat": 4,
 "nbformat_minor": 2
}
