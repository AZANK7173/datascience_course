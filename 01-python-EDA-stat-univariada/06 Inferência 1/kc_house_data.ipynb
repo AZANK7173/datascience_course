{
 "cells": [
  {
   "cell_type": "markdown",
   "metadata": {},
   "source": [
    "# House Sales Price\n",
    "\n",
    "<br>\n",
    "<img src=\"img/house_sale.png\">\n",
    "<br>\n",
    "\n",
    "Os preços de venda de casas de conjunto de dados para King County, Seattle. Inclui casas vendidas entre maio de 2014 e maio de 2015. O conjunto de dados fornece recursos que as casas têm e o preço pelo qual elas foram vendidas. Pode ser usado para modelar a previsão de preços de casas.\n",
    "\n",
    "O conjunto de dados está disponível em kaggle https://www.kaggle.com/harlfoxem/housesalesprediction\n",
    "\n",
    "Alguns dos atributos capturados no conjunto de dados são\n",
    "\n",
    "- Número de quartos e banheiros\n",
    "- Total de pés quadrados \n",
    "- Quantos andares\n",
    "- Se tem um porão e tamanho do porão\n",
    "- Classificação da casa\n",
    "- Clima tem beira-mar e a qualidade da vista\n",
    "- Quando a casa foi construída e se a casa é renovada, se for renovado\n",
    "- Latitude e longitude\n",
    "- preço da casa\n",
    "- Quando a casa foi vendida\n",
    "\n",
    "Perguntas:\n",
    "\n",
    "\n",
    "- Quais as 10 melhores oportunidades de compra segundo o preço pela área total a casa?\n",
    "- Qual a correlação do nível de classificação as casas em relação ao seu preço?\n",
    "- Podemos afirmar que estar de frente para o lago representa um fator que eleva o preço médio das casas, com uma confiança superior a 95%?\n"
   ]
  },
  {
   "cell_type": "markdown",
   "metadata": {},
   "source": [
    "## Lendo e conhecendo o dataset"
   ]
  },
  {
   "cell_type": "code",
   "execution_count": null,
   "metadata": {},
   "outputs": [],
   "source": []
  },
  {
   "cell_type": "code",
   "execution_count": null,
   "metadata": {},
   "outputs": [],
   "source": []
  }
 ],
 "metadata": {
  "kernelspec": {
   "display_name": "Python 3",
   "language": "python",
   "name": "python3"
  },
  "language_info": {
   "codemirror_mode": {
    "name": "ipython",
    "version": 3
   },
   "file_extension": ".py",
   "mimetype": "text/x-python",
   "name": "python",
   "nbconvert_exporter": "python",
   "pygments_lexer": "ipython3",
   "version": "3.7.3"
  },
  "toc": {
   "base_numbering": 1,
   "nav_menu": {},
   "number_sections": true,
   "sideBar": true,
   "skip_h1_title": false,
   "title_cell": "Table of Contents",
   "title_sidebar": "Contents",
   "toc_cell": false,
   "toc_position": {},
   "toc_section_display": true,
   "toc_window_display": false
  },
  "varInspector": {
   "cols": {
    "lenName": 16,
    "lenType": 16,
    "lenVar": 40
   },
   "kernels_config": {
    "python": {
     "delete_cmd_postfix": "",
     "delete_cmd_prefix": "del ",
     "library": "var_list.py",
     "varRefreshCmd": "print(var_dic_list())"
    },
    "r": {
     "delete_cmd_postfix": ") ",
     "delete_cmd_prefix": "rm(",
     "library": "var_list.r",
     "varRefreshCmd": "cat(var_dic_list()) "
    }
   },
   "types_to_exclude": [
    "module",
    "function",
    "builtin_function_or_method",
    "instance",
    "_Feature"
   ],
   "window_display": false
  }
 },
 "nbformat": 4,
 "nbformat_minor": 2
}
