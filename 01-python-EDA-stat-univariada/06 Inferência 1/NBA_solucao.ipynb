{
 "cells": [
  {
   "cell_type": "markdown",
   "metadata": {},
   "source": [
    "# NBA - National Basketball Association\n",
    "\n",
    "*fonte: Wikipedia*\n",
    "\n",
    "National Basketball Association (em português: Associação Nacional de Basquetebol; abreviação oficial: NBA) é a principal liga de basquetebol profissional da América do Norte. Com 30 franquias sendo membros da mesma (29 nos Estados Unidos e 1 no Canadá), a NBA também é considerada a principal liga de basquete do mundo. É um membro ativo da USA Basketball (USAB), que é reconhecida pela FIBA (a Federação Internacional de Basquetebol) como a entidade máxima e organizadora do basquetebol nos Estados Unidos. A NBA é uma das 4 'major leagues' de esporte profissional na América do Norte. Os jogadores da NBA são os mais bem pagos esportistas do mundo, por salário médio anual.\n",
    "\n",
    "## NBA player stats 2017-18\n",
    "\n",
    "<br>\n",
    "<img src=\"img/nba_kaggle.png\" />\n",
    "<br>\n",
    "\n",
    "Arquivo com os dados do salários dos jogadores da NBA durante a temporada 2017-18."
   ]
  },
  {
   "cell_type": "code",
   "execution_count": null,
   "metadata": {},
   "outputs": [],
   "source": [
    "from IPython.display import HTML\n",
    "\n",
    "HTML('<div style=\"max-width:854px\"><div style=\"position:relative;height:0;padding-bottom:56.25%\"><iframe src=\"https://embed.ted.com/talks/rajiv_maheswaran_the_math_behind_basketball_s_wildest_moves\" width=\"854\" height=\"480\" style=\"position:absolute;left:0;top:0;width:100%;height:100%\" frameborder=\"0\" scrolling=\"no\" allowfullscreen></iframe></div></div>')"
   ]
  },
  {
   "cell_type": "markdown",
   "metadata": {},
   "source": [
    "# Jogadores mais bem pagos da NBA por temporada\n",
    "\n",
    "_fonte: Wikipédia, a enciclopédia livre_\n",
    "\n",
    "\n",
    "Os jogadores mais bem pagos da NBA por temporada eclipsaram recentemente USD 40 milhões. Larry Bird foi o primeiro jogador a ganhar USD 5 milhões ou mais com um salário de USD 7.070.000 na temporada 1991/92. Magic Johnson se tornou o primeiro jogador a ganhar USD 10 milhões ou mais na temporada 94-95 com um salário de USD 14.660.000. Patrick Ewing se tornou o primeiro jogador a ganhar USD 15 milhões ou mais na temporada 95-96, com um salário de USD 18.724.000. Michael Jordan foi o primeiro jogador da NBA a assinar um contrato no valor de mais de vinte milhões e, na verdade, ele conseguiu trinta milhões de dólares também em uma temporada, este foi um recorde que ele havia mantido por 15 anos. Durante a temporada 1997-98, a Jordan ganhou USD 33.140.000, que ainda é o máximo que um jogador da NBA ganhou em um contrato de 1 ano, a Jordan também detém o recorde do segundo maior contrato de 1 ano em USD 30.140.000 na temporada 1996-97. Kobe Bryant se tornou apenas o segundo jogador a alcançar este marco quando a temporada 2013-2014 começou. LeBron James tornou-se o terceiro na temporada 2016-17. Stephen Curry se tornou o primeiro jogador a atingir USD 40 milhões por ano quando assinou um contrato recorde de USD 201 milhões em 2017, começando com USD 34.682.550 na temporada 2017-18 e terminando com os maiores ganhos da temporada 2021-22. com um pagamento recorde de USD 45.780.966.\n",
    "\n",
    "Começando na temporada de 1984-85 da NBA, o primeiro teto salarial da NBA foi introduzido. O teto salarial da NBA é o valor máximo que cada time da NBA pode gastar com seus jogadores na temporada. No entanto, a NBA usa um teto salarial \"soft\", o que significa que as \"exceções salariais\" significativas permitem que as equipes da NBA excedam seu valor alocado para assinar os jogadores. O limite salarial é determinado durante a entressafra, mas, como dito anteriormente, é passível de mudança.\n",
    "\n",
    "Uma exceção é necessária para assinar um jogador por um contrato que exceda o limite de teto salarial do \"soft cap\". A exceção Larry Bird, mais comumente conhecida como Bird Rights, permite às equipes re-assinar um jogador atual somente se ele tiver jogado para aquela equipe em particular por um período mínimo de três anos. Outra exceção conhecida como exceção de nível intermediário permite que as equipes que estão acima do teto salarial assinem um ou mais jogadores, desde que não excedam o valor total do salário médio da NBA. Em seguida, a exceção bianual pode ser usada pelas equipes a cada dois anos para assinar um agente(s) livre(s) por até dois anos em um valor definido pela NBA. Finalmente, a exceção do novato permite que qualquer equipe da NBA assine sua primeira rodada de draft para um contrato baseado em uma escala previamente estabelecida pela NBA. Outra opção para as equipes seria atribuir jogadores a um contrato de salário mínimo atribuído pela liga por um período máximo de dois anos.\n",
    "\n",
    "De acordo com o desempenho de temporada da NBA de 2010-11, os melhores jogadores da liga não eram seus jogadores mais bem pagos. Todos os anos, há dez jogadores selecionados para uma das duas equipes All-NBA. Dos dez jogadores escolhidos naquele ano, Kobe Bryant foi o único jogador que também esteve entre os dez mais bem pagos do jogo durante a temporada de 2010-11 da NBA.\n",
    "\n",
    "## Vamos trabalharo com os dados de salário dos jogadores da NBA, para inferir quantos jogadores ganham acima ou abaixo da média\n",
    "\n",
    "- O exercício será o de descobrir quantos jogadores têm salário acima e abaixo da média, com 95% de confiança"
   ]
  },
  {
   "cell_type": "markdown",
   "metadata": {},
   "source": [
    "# Importando as bibliotecas e lendo os dados"
   ]
  },
  {
   "cell_type": "code",
   "execution_count": null,
   "metadata": {},
   "outputs": [],
   "source": [
    "import numpy as np # linear algebra\n",
    "import pandas as pd # data processing, CSV file I/O (e.g. pd.read_csv)\n",
    "import scipy\n",
    "from scipy import stats\n",
    "\n",
    "import warnings\n",
    "warnings.filterwarnings(\"ignore\")\n",
    "\n",
    "# Input data files are available in the \"../input/\" directory.\n",
    "# For example, running this (by clicking run or pressing Shift+Enter) will list the files in the input directory\n"
   ]
  },
  {
   "cell_type": "code",
   "execution_count": null,
   "metadata": {},
   "outputs": [],
   "source": [
    "df = pd.read_csv(r'../../99 Datasets/NBA_season1718_salary.csv.zip')"
   ]
  },
  {
   "cell_type": "code",
   "execution_count": null,
   "metadata": {},
   "outputs": [],
   "source": [
    "df.head()"
   ]
  },
  {
   "cell_type": "code",
   "execution_count": null,
   "metadata": {},
   "outputs": [],
   "source": [
    "df.shape"
   ]
  },
  {
   "cell_type": "markdown",
   "metadata": {},
   "source": [
    "## Tratando o DataSet e os nomes das colunas"
   ]
  },
  {
   "cell_type": "code",
   "execution_count": null,
   "metadata": {},
   "outputs": [],
   "source": [
    "df = df.drop('ID',axis=1)"
   ]
  },
  {
   "cell_type": "code",
   "execution_count": null,
   "metadata": {},
   "outputs": [],
   "source": [
    "df.rename(columns={'season17_18': 'salary', 'Tm': 'team', 'Player': 'player'}, inplace=True)"
   ]
  },
  {
   "cell_type": "code",
   "execution_count": null,
   "metadata": {},
   "outputs": [],
   "source": [
    "df.head()"
   ]
  },
  {
   "cell_type": "markdown",
   "metadata": {},
   "source": [
    "## Visualizando o número de jogadores por time"
   ]
  },
  {
   "cell_type": "code",
   "execution_count": null,
   "metadata": {},
   "outputs": [],
   "source": [
    "import matplotlib.pyplot as plt\n",
    "import seaborn as sns"
   ]
  },
  {
   "cell_type": "code",
   "execution_count": null,
   "metadata": {},
   "outputs": [],
   "source": [
    "plt.figure(figsize=(15,10))\n",
    "sns.countplot(df.team)\n",
    "plt.show()"
   ]
  },
  {
   "cell_type": "markdown",
   "metadata": {},
   "source": [
    "## Visualizando o tipo de distribuição para os salários"
   ]
  },
  {
   "cell_type": "code",
   "execution_count": null,
   "metadata": {},
   "outputs": [],
   "source": [
    "fig, ax = plt.subplots(1, 1,figsize=(10,5))\n",
    "\n",
    "x = df.salary\n",
    "mu = df.salary.mean()\n",
    "sigma = df.salary.std()\n",
    "\n",
    "ax.plot(x, stats.norm.pdf(x, mu, sigma),label='salary')\n",
    "\n",
    "ax.legend(loc='best', frameon=False,fontsize = 20)\n",
    "plt.show()"
   ]
  },
  {
   "cell_type": "markdown",
   "metadata": {},
   "source": [
    "Percebemos que a distribuição se parece com uma normal, mas tem uma forte assimetria para a direita"
   ]
  },
  {
   "cell_type": "markdown",
   "metadata": {},
   "source": [
    "## Transformando os dados em uma distribuição normal por média das médias\n",
    "\n",
    "Não conseguimos trabalhar dessa forma pois perdemos a interpretabilidade dos dados"
   ]
  },
  {
   "cell_type": "code",
   "execution_count": null,
   "metadata": {},
   "outputs": [],
   "source": [
    "def sample(df, n):\n",
    "    index = np.random.choice(range(0, len(df)), size = n)\n",
    "    df_s = np.array(df.iloc[index,])\n",
    "    return(df_s)\n",
    "\n",
    "def samp_mean(df, sample_size, num_samples):\n",
    "    means = []\n",
    "    for reps in range(0, num_samples):\n",
    "        s_ = sample(df, sample_size)\n",
    "        m_ = s_.mean()\n",
    "        means.append(m_)\n",
    "    return(means)\n",
    "\n",
    "sample_size = 500\n",
    "num_samples = 1000\n",
    "\n",
    "sample_df = pd.Series(samp_mean(df['salary'], sample_size, num_samples), name = 'Casados')\n",
    "sample_df.plot.hist(bins = 30)\n",
    "\n",
    "sample_df.mean(), sample_df.std()"
   ]
  },
  {
   "cell_type": "code",
   "execution_count": null,
   "metadata": {},
   "outputs": [],
   "source": [
    "sample_df.head()"
   ]
  },
  {
   "cell_type": "markdown",
   "metadata": {},
   "source": [
    "Dessa forma conseguimos normalizar os dados mas não conseguimos utilizar a variável por ser impossível interpretar os resultados."
   ]
  },
  {
   "cell_type": "markdown",
   "metadata": {},
   "source": [
    "## Normalizando os dados de salário\n",
    "\n",
    "Mudando a estratégia de normalização, vamos utilizar a função LOG (logarítmo natural) para corrigir a assimetria à direita e depois normalizar a coluna inteira (subtrair a média e dividir pelo desvio-padrão)"
   ]
  },
  {
   "cell_type": "code",
   "execution_count": null,
   "metadata": {},
   "outputs": [],
   "source": [
    "df['salary'].plot.hist(bins=50)"
   ]
  },
  {
   "cell_type": "code",
   "execution_count": null,
   "metadata": {},
   "outputs": [],
   "source": [
    "df['log_salary'] = np.log(df['salary'])\n",
    "df['log_salary'].plot.hist(bins=50)"
   ]
  },
  {
   "cell_type": "code",
   "execution_count": null,
   "metadata": {},
   "outputs": [],
   "source": [
    "df['normal_log_salary'] = ( df['log_salary'] - df['log_salary'].mean() ) / df['log_salary'].std()\n",
    "df['normal_log_salary'].plot.hist(bins=10)"
   ]
  },
  {
   "cell_type": "markdown",
   "metadata": {},
   "source": [
    "### Verificando a média e o desvio-padrão"
   ]
  },
  {
   "cell_type": "code",
   "execution_count": null,
   "metadata": {},
   "outputs": [],
   "source": [
    "x = df['normal_log_salary']\n",
    "\n",
    "mu = np.mean(x)\n",
    "std = np.std(x)\n",
    "mu,std"
   ]
  },
  {
   "cell_type": "markdown",
   "metadata": {},
   "source": [
    "### Verificando o p-value"
   ]
  },
  {
   "cell_type": "code",
   "execution_count": null,
   "metadata": {},
   "outputs": [],
   "source": [
    "import scipy\n",
    "from scipy import stats"
   ]
  },
  {
   "cell_type": "code",
   "execution_count": null,
   "metadata": {},
   "outputs": [],
   "source": [
    "scipy.stats.norm(mu, std).pdf(2*std)"
   ]
  },
  {
   "cell_type": "code",
   "execution_count": null,
   "metadata": {},
   "outputs": [],
   "source": [
    "2* (1 - scipy.stats.norm(mu, std).cdf(2*std))"
   ]
  },
  {
   "cell_type": "code",
   "execution_count": null,
   "metadata": {},
   "outputs": [],
   "source": [
    "2* (scipy.stats.norm(mu, std).sf(2*std))"
   ]
  },
  {
   "cell_type": "markdown",
   "metadata": {},
   "source": [
    "### Verificando o Z-score"
   ]
  },
  {
   "cell_type": "code",
   "execution_count": null,
   "metadata": {},
   "outputs": [],
   "source": [
    "scipy.stats.norm.interval(alpha=0.95,loc=mu,scale=std)"
   ]
  },
  {
   "cell_type": "code",
   "execution_count": null,
   "metadata": {},
   "outputs": [],
   "source": [
    "Z_score_inf = scipy.stats.norm.interval(alpha=0.95,loc=mu,scale=std)[0]\n",
    "Z_score_sup = scipy.stats.norm.interval(alpha=0.95,loc=mu,scale=std)[1]"
   ]
  },
  {
   "cell_type": "markdown",
   "metadata": {},
   "source": [
    "Com os limites para o Alpha de 0.95 conseguimos executar a inferência e descobrir quais jogadores têm salário acima ou abaixo da média com um nível de confiança de 95%."
   ]
  },
  {
   "cell_type": "markdown",
   "metadata": {},
   "source": [
    "### Jogadores que ganham abaixo da média"
   ]
  },
  {
   "cell_type": "code",
   "execution_count": null,
   "metadata": {
    "scrolled": false
   },
   "outputs": [],
   "source": [
    "df[df['normal_log_salary']<-1.96]"
   ]
  },
  {
   "cell_type": "code",
   "execution_count": null,
   "metadata": {},
   "outputs": [],
   "source": [
    "# Quantidade de jogadores abaixo da média\n",
    "\n",
    "df[df['normal_log_salary']<-1.96].shape"
   ]
  },
  {
   "cell_type": "code",
   "execution_count": null,
   "metadata": {},
   "outputs": [],
   "source": [
    "df[df['normal_log_salary']<-1.96]['team'].value_counts()"
   ]
  },
  {
   "cell_type": "markdown",
   "metadata": {},
   "source": [
    "Podemos concluir que 45 jogadores ganham abaixo da média."
   ]
  },
  {
   "cell_type": "markdown",
   "metadata": {},
   "source": [
    "### Jogadores que ganham acima da média"
   ]
  },
  {
   "cell_type": "code",
   "execution_count": null,
   "metadata": {},
   "outputs": [],
   "source": [
    "df[df['normal_log_salary']>1.96]"
   ]
  },
  {
   "cell_type": "code",
   "execution_count": null,
   "metadata": {},
   "outputs": [],
   "source": [
    "df.sort_values('normal_log_salary',ascending = False).head()"
   ]
  },
  {
   "cell_type": "markdown",
   "metadata": {},
   "source": [
    "### Explorando o salário mais alto do DataSet\n",
    "\n",
    "Como não temos jogadores com salário acima da média, vamos descobrir qual o nível de confiança necessário para o máximo salário "
   ]
  },
  {
   "cell_type": "code",
   "execution_count": null,
   "metadata": {},
   "outputs": [],
   "source": [
    "df['normal_log_salary'].max()"
   ]
  },
  {
   "cell_type": "code",
   "execution_count": null,
   "metadata": {},
   "outputs": [],
   "source": [
    "scipy.stats.norm(mu, std).sf(df['normal_log_salary'].max())"
   ]
  },
  {
   "cell_type": "code",
   "execution_count": null,
   "metadata": {},
   "outputs": [],
   "source": [
    "alpha_max = 1-scipy.stats.norm(mu, std).sf(df['normal_log_salary'].max())\n",
    "alpha_max"
   ]
  },
  {
   "cell_type": "code",
   "execution_count": null,
   "metadata": {},
   "outputs": [],
   "source": [
    "print ('Temos 95% de certeza que não existe nenhum jogador ganhando mais que a média. O jogador mais bem remunerado está com um nível de significância de', round(alpha_max*100,3), '%')"
   ]
  },
  {
   "cell_type": "markdown",
   "metadata": {},
   "source": [
    "# Olhando para os times individualmente\n",
    "\n",
    "<br>\n",
    "<img src=\"img/nba_teams.png\" />\n",
    "<br>"
   ]
  },
  {
   "cell_type": "code",
   "execution_count": null,
   "metadata": {
    "scrolled": false
   },
   "outputs": [],
   "source": [
    "fig, ax = plt.subplots(1, 1,figsize=(30,20))\n",
    "\n",
    "\n",
    "for i in df.team.unique():\n",
    "\n",
    "    x = df[df.team == i]['salary']\n",
    "    mu = df[df.team == i]['salary'].mean()\n",
    "    sigma = df[df.team == i]['salary'].std()\n",
    "\n",
    "    ax.plot(x, stats.norm.pdf(x, mu, sigma),label=i)\n",
    "\n",
    "ax.legend(loc='best', frameon=False,fontsize = 20)"
   ]
  },
  {
   "cell_type": "markdown",
   "metadata": {},
   "source": [
    "## Fazendo a inferência para o GSW (Golden State Warriors)"
   ]
  },
  {
   "cell_type": "code",
   "execution_count": null,
   "metadata": {},
   "outputs": [],
   "source": [
    "gsw = df[df.team == 'GSW']\n",
    "gsw"
   ]
  },
  {
   "cell_type": "code",
   "execution_count": null,
   "metadata": {},
   "outputs": [],
   "source": [
    "gsw.salary.plot.hist()"
   ]
  },
  {
   "cell_type": "markdown",
   "metadata": {},
   "source": [
    "## Normalizando os dados"
   ]
  },
  {
   "cell_type": "code",
   "execution_count": null,
   "metadata": {},
   "outputs": [],
   "source": [
    "gsw['log_salary'] = np.log(gsw['salary'])\n",
    "gsw['log_salary'].hist()"
   ]
  },
  {
   "cell_type": "code",
   "execution_count": null,
   "metadata": {},
   "outputs": [],
   "source": [
    "gsw['normal_log_salary'] = ( gsw['log_salary'] - gsw['log_salary'].mean() ) / gsw['log_salary'].std()\n",
    "gsw['normal_log_salary'].plot.hist()"
   ]
  },
  {
   "cell_type": "markdown",
   "metadata": {},
   "source": [
    "## Verificando as estatísticas"
   ]
  },
  {
   "cell_type": "code",
   "execution_count": null,
   "metadata": {},
   "outputs": [],
   "source": [
    "x_gsw = gsw['normal_log_salary']\n",
    "\n",
    "mu_gsw = np.mean(x_gsw)\n",
    "std_gsw = np.std(x_gsw)\n",
    "mu_gsw,std_gsw"
   ]
  },
  {
   "cell_type": "code",
   "execution_count": null,
   "metadata": {},
   "outputs": [],
   "source": [
    "# p-value para distribuição normal\n",
    "\n",
    "scipy.stats.norm(mu_gsw, std_gsw).pdf(2*std_gsw)"
   ]
  },
  {
   "cell_type": "code",
   "execution_count": null,
   "metadata": {},
   "outputs": [],
   "source": [
    "# z-score para distribuição normal\n",
    "\n",
    "scipy.stats.norm.interval(alpha=0.95,loc=mu_gsw,scale=std_gsw)"
   ]
  },
  {
   "cell_type": "markdown",
   "metadata": {},
   "source": [
    "## Buscando jogadores com salários acima ou abaixo da média"
   ]
  },
  {
   "cell_type": "code",
   "execution_count": null,
   "metadata": {},
   "outputs": [],
   "source": [
    "# Utilizando a estatística t-student\n",
    "\n",
    "scipy.stats.t.interval(alpha=0.95,df=(len(gsw['normal_log_salary'])-1),loc=mu_gsw,scale=std_gsw)"
   ]
  },
  {
   "cell_type": "code",
   "execution_count": null,
   "metadata": {},
   "outputs": [],
   "source": [
    "Z_score_inf_gsw = scipy.stats.t.interval(alpha=0.95,df=(len(gsw['normal_log_salary'])-1),loc=mu_gsw,scale=std_gsw)[0]\n",
    "Z_score_inf_gsw"
   ]
  },
  {
   "cell_type": "code",
   "execution_count": null,
   "metadata": {},
   "outputs": [],
   "source": [
    "gsw[gsw['normal_log_salary']<Z_score_inf_gsw]"
   ]
  },
  {
   "cell_type": "code",
   "execution_count": null,
   "metadata": {},
   "outputs": [],
   "source": [
    "Z_score_sup_gsw = scipy.stats.t.interval(alpha=0.95,df=(len(gsw['normal_log_salary'])-1),loc=mu_gsw,scale=std_gsw)[1]\n",
    "Z_score_sup_gsw"
   ]
  },
  {
   "cell_type": "code",
   "execution_count": null,
   "metadata": {},
   "outputs": [],
   "source": [
    "gsw[gsw['normal_log_salary']>Z_score_sup_gsw]"
   ]
  },
  {
   "cell_type": "markdown",
   "metadata": {},
   "source": [
    "Podemos concluir no GSW (Gosden State Warriors) não temos nenhum jogador nem acima nem abaixo da média."
   ]
  },
  {
   "cell_type": "markdown",
   "metadata": {},
   "source": [
    "#### Testando a estatística para o valor máximo"
   ]
  },
  {
   "cell_type": "code",
   "execution_count": null,
   "metadata": {},
   "outputs": [],
   "source": [
    "gsw['normal_log_salary'].max()"
   ]
  },
  {
   "cell_type": "code",
   "execution_count": null,
   "metadata": {},
   "outputs": [],
   "source": [
    "alpha_max = 1-scipy.stats.t.sf(x=gsw['normal_log_salary'].max(), df=gsw['normal_log_salary'], loc=mu_gsw, scale=std_gsw)[0]\n",
    "alpha_max"
   ]
  },
  {
   "cell_type": "markdown",
   "metadata": {},
   "source": [
    "# Estratégia de definição dos salários da NBA\n",
    "\n",
    "O teto salarial da NBA é o limite para a quantia total que as equipes da Associação Nacional de Basquete podem pagar a seus jogadores. Como muitas ligas esportivas profissionais, a NBA tem um teto salarial para controlar os custos e beneficiar a paridade, definida pelo acordo coletivo da liga (CBA). Esse limite está sujeito a um complexo sistema de regras e exceções e é calculado como uma porcentagem da receita da liga em relação à temporada anterior. De acordo com a CBA ratificada em dezembro de 2011, o teto continuará a variar nas temporadas futuras com base nas receitas da liga. Para a temporada 2015-2016, o teto salarial foi de USD 70 milhões e o limite de imposto de luxo foi de USD 84,74 milhões. Para a temporada 2016–17, o teto salarial foi estabelecido em USD 94,14 milhões e o limite de imposto de luxo foi de USD 113,29 milhões. Para a temporada de 2017–18, o limite é estabelecido em USD 99 milhões para o teto salarial e USD 119 milhões para o imposto de luxo.\n",
    "\n",
    "A maioria das ligas (NFL, NHL, MLS) tem capas rígidas, enquanto a NBA tem um teto salarial suave. Regras salariais duras proíbem que as equipes superem o teto salarial. Os tetos salariais suaves permitem que as equipes ultrapassem o teto salarial, mas sujeitarão essas equipes a privilégios reduzidos na livre agência. As equipes que estão acima do teto de imposto de luxo estão sujeitas ao imposto de luxo (um imposto sobre cada dólar gasto acima do teto de imposto de luxo).\n",
    "\n",
    "Para saber mais [clique aqui](https://en.wikipedia.org/wiki/NBA_salary_cap)\n",
    "\n",
    "# Acordo de Negociação Coletiva da NBA\n",
    "\n",
    "O Acordo de Negociação Coletiva da NBA (CBA) é o contrato entre a NBA (o comissário e os 30 proprietários da equipe) e a Associação de Jogadores da NBA que dita as regras dos contratos com jogadores, negociações, distribuição de receita, o Draft da NBA e o teto salarial. entre outras coisas. Em junho de 2005, a CBA da NBA de 1999 expirou, o que significa que a Liga e o sindicato dos jogadores tiveram que negociar um novo acordo; À luz do bloqueio da NHL em 2004-05, os dois lados rapidamente chegaram a um acordo e ratificaram uma nova ACB em julho de 2005. Esse acordo expirou após a temporada 2010-2011, levando ao bloqueio da NBA de 2011. Um novo CBA foi ratificado em dezembro de 2011, encerrando o bloqueio.\n",
    "\n",
    "Pouco mudou em termos do teto salarial entre as versões de 1999 e 2005 da CBA. Em troca de concordar com a controversa idade mínima do jogador, os jogadores receberam uma porcentagem ligeiramente maior das receitas da Liga ao longo do novo acordo. Além disso, o salário máximo da Liga diminuiu ligeiramente em comparação com o CBA de 1999. Sob o CBA de 2011, os jogadores receberão uma porcentagem menor das receitas da liga.\n",
    "\n",
    "Em 2005, os jogadores receberam 57% da receita e, a partir da nova CBA, estão recebendo cerca de 49% a 50% da receita. Naquela época, a próxima discussão da CBA foi definida por dez anos. ou, se necessário, em 2017. [2] Em 2016, a NBA e a NBA Players Association se reuniram para trabalhar em um novo CBA, que ambos os lados aprovaram em dezembro daquele ano. Este acordo mais recente começará com a temporada 2017-2018 e será executado entre 2023 e 2424, com um cancelamento mútuo após 2022-23.\n",
    "\n",
    "Para saber mais [clique aqui](https://en.wikipedia.org/wiki/NBA_Collective_Bargaining_Agreement)"
   ]
  },
  {
   "cell_type": "code",
   "execution_count": null,
   "metadata": {},
   "outputs": [],
   "source": [
    "from IPython.display import HTML\n",
    "\n",
    "HTML('<iframe width=\"640\" height=\"360\" src=\"https://www.youtube.com/embed/WaYAhkH2cJM\" frameborder=\"0\" allow=\"accelerometer; autoplay; encrypted-media; gyroscope; picture-in-picture\" allowfullscreen></iframe>')"
   ]
  }
 ],
 "metadata": {
  "kernelspec": {
   "display_name": "Python 3",
   "language": "python",
   "name": "python3"
  },
  "language_info": {
   "codemirror_mode": {
    "name": "ipython",
    "version": 3
   },
   "file_extension": ".py",
   "mimetype": "text/x-python",
   "name": "python",
   "nbconvert_exporter": "python",
   "pygments_lexer": "ipython3",
   "version": "3.7.3"
  },
  "toc": {
   "base_numbering": 1,
   "nav_menu": {},
   "number_sections": true,
   "sideBar": true,
   "skip_h1_title": false,
   "title_cell": "Table of Contents",
   "title_sidebar": "Contents",
   "toc_cell": false,
   "toc_position": {},
   "toc_section_display": true,
   "toc_window_display": false
  },
  "varInspector": {
   "cols": {
    "lenName": 16,
    "lenType": 16,
    "lenVar": 40
   },
   "kernels_config": {
    "python": {
     "delete_cmd_postfix": "",
     "delete_cmd_prefix": "del ",
     "library": "var_list.py",
     "varRefreshCmd": "print(var_dic_list())"
    },
    "r": {
     "delete_cmd_postfix": ") ",
     "delete_cmd_prefix": "rm(",
     "library": "var_list.r",
     "varRefreshCmd": "cat(var_dic_list()) "
    }
   },
   "types_to_exclude": [
    "module",
    "function",
    "builtin_function_or_method",
    "instance",
    "_Feature"
   ],
   "window_display": false
  }
 },
 "nbformat": 4,
 "nbformat_minor": 2
}
