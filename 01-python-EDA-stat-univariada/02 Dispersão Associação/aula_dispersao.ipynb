{
 "cells": [
  {
   "cell_type": "markdown",
   "metadata": {
    "toc": true
   },
   "source": [
    "<h1>Estatistica Descritiva para EDA<span class=\"tocSkip\"></span></h1>\n",
    "<div class=\"toc\"><ul class=\"toc-item\"><li><ul class=\"toc-item\"><li><span><a href=\"#Então-como-se-determina-a-causalidade?\" data-toc-modified-id=\"Então-como-se-determina-a-causalidade?-0.1\"><span class=\"toc-item-num\">0.1&nbsp;&nbsp;</span>Então como se determina a causalidade?</a></span></li></ul></li><li><span><a href=\"#Medidas-de-Dispersão\" data-toc-modified-id=\"Medidas-de-Dispersão-1\"><span class=\"toc-item-num\">1&nbsp;&nbsp;</span>Medidas de Dispersão</a></span><ul class=\"toc-item\"><li><span><a href=\"#Desvio-Padrão\" data-toc-modified-id=\"Desvio-Padrão-1.1\"><span class=\"toc-item-num\">1.1&nbsp;&nbsp;</span>Desvio Padrão</a></span></li><li><span><a href=\"#Variância\" data-toc-modified-id=\"Variância-1.2\"><span class=\"toc-item-num\">1.2&nbsp;&nbsp;</span>Variância</a></span></li></ul></li><li><span><a href=\"#Analisando-Dispersão-dos-dados-do-IBGE\" data-toc-modified-id=\"Analisando-Dispersão-dos-dados-do-IBGE-2\"><span class=\"toc-item-num\">2&nbsp;&nbsp;</span>Analisando Dispersão dos dados do IBGE</a></span><ul class=\"toc-item\"><li><span><a href=\"#Medidas-dispersão-para-a-variável-salário\" data-toc-modified-id=\"Medidas-dispersão-para-a-variável-salário-2.1\"><span class=\"toc-item-num\">2.1&nbsp;&nbsp;</span>Medidas dispersão para a variável salário</a></span></li><li><span><a href=\"#Acesso-ao-DataSet-com-a-definição-das-listas-com-as-idades-e-os-salários\" data-toc-modified-id=\"Acesso-ao-DataSet-com-a-definição-das-listas-com-as-idades-e-os-salários-2.2\"><span class=\"toc-item-num\">2.2&nbsp;&nbsp;</span>Acesso ao DataSet com a definição das listas com as idades e os salários</a></span></li></ul></li><li><span><a href=\"#Construção-da-função-calcula_variancia_e_desvio-(lista_valores)\" data-toc-modified-id=\"Construção-da-função-calcula_variancia_e_desvio-(lista_valores)-3\"><span class=\"toc-item-num\">3&nbsp;&nbsp;</span>Construção da função calcula_variancia_e_desvio (lista_valores)</a></span><ul class=\"toc-item\"><li><span><a href=\"#Aplicação-da-função-para-a-lista-com-salarios\" data-toc-modified-id=\"Aplicação-da-função-para-a-lista-com-salarios-3.1\"><span class=\"toc-item-num\">3.1&nbsp;&nbsp;</span>Aplicação da função para a lista com salarios</a></span></li><li><span><a href=\"#Aplicação-da-função-para-a-lista-com-idades-utilizando-uma-variável-para-os-resultados\" data-toc-modified-id=\"Aplicação-da-função-para-a-lista-com-idades-utilizando-uma-variável-para-os-resultados-3.2\"><span class=\"toc-item-num\">3.2&nbsp;&nbsp;</span>Aplicação da função para a lista com idades utilizando uma variável para os resultados</a></span></li><li><span><a href=\"#Função-alternativa-com-código-otimizado-em-Python\" data-toc-modified-id=\"Função-alternativa-com-código-otimizado-em-Python-3.3\"><span class=\"toc-item-num\">3.3&nbsp;&nbsp;</span>Função alternativa com código otimizado em Python</a></span></li><li><span><a href=\"#Histograma-da-lista-com-salários\" data-toc-modified-id=\"Histograma-da-lista-com-salários-3.4\"><span class=\"toc-item-num\">3.4&nbsp;&nbsp;</span>Histograma da lista com salários</a></span><ul class=\"toc-item\"><li><span><a href=\"#Escolhendo-a-quantidade-de-bins\" data-toc-modified-id=\"Escolhendo-a-quantidade-de-bins-3.4.1\"><span class=\"toc-item-num\">3.4.1&nbsp;&nbsp;</span>Escolhendo a quantidade de bins</a></span></li><li><span><a href=\"#Escolhendo-o-range-de-valores\" data-toc-modified-id=\"Escolhendo-o-range-de-valores-3.4.2\"><span class=\"toc-item-num\">3.4.2&nbsp;&nbsp;</span>Escolhendo o range de valores</a></span></li></ul></li></ul></li><li><span><a href=\"#Histograma-da-lista-com-idades\" data-toc-modified-id=\"Histograma-da-lista-com-idades-4\"><span class=\"toc-item-num\">4&nbsp;&nbsp;</span>Histograma da lista com idades</a></span></li><li><span><a href=\"#Fazendo-a-mesma-análise-para-a-variável-anos-de-estudo\" data-toc-modified-id=\"Fazendo-a-mesma-análise-para-a-variável-anos-de-estudo-5\"><span class=\"toc-item-num\">5&nbsp;&nbsp;</span>Fazendo a mesma análise para a variável anos de estudo</a></span></li><li><span><a href=\"#Medidas-de-Associação\" data-toc-modified-id=\"Medidas-de-Associação-6\"><span class=\"toc-item-num\">6&nbsp;&nbsp;</span>Medidas de Associação</a></span><ul class=\"toc-item\"><li><span><a href=\"#Correlação\" data-toc-modified-id=\"Correlação-6.1\"><span class=\"toc-item-num\">6.1&nbsp;&nbsp;</span>Correlação</a></span><ul class=\"toc-item\"><li><span><a href=\"#Tipos-de-correlação\" data-toc-modified-id=\"Tipos-de-correlação-6.1.1\"><span class=\"toc-item-num\">6.1.1&nbsp;&nbsp;</span>Tipos de correlação</a></span><ul class=\"toc-item\"><li><span><a href=\"#Correlação-Linear-de-Pearson\" data-toc-modified-id=\"Correlação-Linear-de-Pearson-6.1.1.1\"><span class=\"toc-item-num\">6.1.1.1&nbsp;&nbsp;</span>Correlação Linear de Pearson</a></span></li><li><span><a href=\"#Correlação-de-Spearman\" data-toc-modified-id=\"Correlação-de-Spearman-6.1.1.2\"><span class=\"toc-item-num\">6.1.1.2&nbsp;&nbsp;</span>Correlação de Spearman</a></span></li><li><span><a href=\"#Correlação-de-Kendall\" data-toc-modified-id=\"Correlação-de-Kendall-6.1.1.3\"><span class=\"toc-item-num\">6.1.1.3&nbsp;&nbsp;</span>Correlação de Kendall</a></span></li></ul></li></ul></li><li><span><a href=\"#Covariância\" data-toc-modified-id=\"Covariância-6.2\"><span class=\"toc-item-num\">6.2&nbsp;&nbsp;</span>Covariância</a></span></li></ul></li><li><span><a href=\"#Analisando-correlação-nos-dados-do-IBGE\" data-toc-modified-id=\"Analisando-correlação-nos-dados-do-IBGE-7\"><span class=\"toc-item-num\">7&nbsp;&nbsp;</span>Analisando correlação nos dados do IBGE</a></span></li><li><span><a href=\"#Lendo-e-definindo-uma-lista-de-valores-com-idades-e-anos-de-estudo\" data-toc-modified-id=\"Lendo-e-definindo-uma-lista-de-valores-com-idades-e-anos-de-estudo-8\"><span class=\"toc-item-num\">8&nbsp;&nbsp;</span>Lendo e definindo uma lista de valores com idades e anos de estudo</a></span><ul class=\"toc-item\"><li><span><a href=\"#Vamos-fazer-a-correlação-com-Scipy.Stats\" data-toc-modified-id=\"Vamos-fazer-a-correlação-com-Scipy.Stats-8.1\"><span class=\"toc-item-num\">8.1&nbsp;&nbsp;</span>Vamos fazer a correlação com Scipy.Stats</a></span></li><li><span><a href=\"#Correlation-with-Numpy\" data-toc-modified-id=\"Correlation-with-Numpy-8.2\"><span class=\"toc-item-num\">8.2&nbsp;&nbsp;</span>Correlation with Numpy</a></span></li></ul></li><li><span><a href=\"#Calculando-a-correlação-de-Spearman-por-Scipy.Stats\" data-toc-modified-id=\"Calculando-a-correlação-de-Spearman-por-Scipy.Stats-9\"><span class=\"toc-item-num\">9&nbsp;&nbsp;</span>Calculando a correlação de Spearman por Scipy.Stats</a></span></li><li><span><a href=\"#Calculando-a-correlação-de-Kendall-por-Scipy.Stats\" data-toc-modified-id=\"Calculando-a-correlação-de-Kendall-por-Scipy.Stats-10\"><span class=\"toc-item-num\">10&nbsp;&nbsp;</span>Calculando a correlação de Kendall por Scipy.Stats</a></span></li></ul></div>"
   ]
  },
  {
   "cell_type": "markdown",
   "metadata": {},
   "source": [
    "# PyData\n",
    "\n",
    "<br>\n",
    "<img src=\"img/pydata.png\" width='300' >\n",
    "<br>\n",
    "\n",
    "O PyData é um programa educacional do NumFOCUS, uma organização sem fins lucrativos 501 (c) 3 nos Estados Unidos. PyData fornece um fórum para a comunidade internacional de usuários e desenvolvedores de ferramentas de análise de dados para compartilhar idéias e aprender uns com os outros. A rede global PyData promove a discussão de melhores práticas, novas abordagens e tecnologias emergentes para gerenciamento, processamento, análise e visualização de dados. As comunidades PyData abordam a ciência de dados usando vários idiomas, incluindo (mas não se limitando a) Python, Julia e R.\n",
    "\n",
    "Nosso objetivo é ser uma conferência acessível, conduzida pela comunidade, com apresentações de nível avançado e novato. Os tutoriais e palestras PyData trazem aos participantes os recursos mais recentes do projeto, juntamente com casos de uso de ponta.\n",
    "\n",
    "Para saber mais [clique aqui](https://pydata.org/)"
   ]
  },
  {
   "cell_type": "markdown",
   "metadata": {},
   "source": [
    "___"
   ]
  },
  {
   "cell_type": "markdown",
   "metadata": {},
   "source": [
    "# Padrão Estocástico\n",
    "\n",
    "<br>\n",
    "<img src=\"img/estocastico.png\" width='600' >\n",
    "<br>\n",
    "\n",
    "\n",
    "Em teoria probabilística, o padrão estocástico é aquele cujo estado é indeterminado, com origem em eventos aleatórios. Por exemplo, o lançar de dados resulta num processo estocástico, pois qualquer uma das 6 faces do dado tem iguais probabilidades de ficar para cima após o arremesso. Assim, qualquer sistema ou processo analisado usando a teoria probabilística é estocástico, ao menos em parte. \n",
    "\n",
    "Em termos gerais, um processo estocástico é um fenômeno que varia em algum grau, de forma imprevisível, à medida que o tempo passa. A imprevisibilidade, nesse caso, implica em que se observou uma sequencia de tempo inteira do processo em diversas ocasiões diferentes, sob condições presumivelmente \"idênticas\", as sequências em observações resultantes seriam, em geral, diferentes. Assim, a probabilidade aparece, mas não no sentido de que cada resultado de uma experiência aleatória determina somente um único número. Ao invés, a experiência aleatória determina o comportamento de algum sistema para uma sequência ou intervalo de tempo inteiro. Isto é, o resultado da experiência aleatória é uma sequencia ou série de valores, uma função, e não apenas um único número. Assim, por exemplo, se observa a passagem de carros em um determinado cruzamento de rua por um período de 24 horas, se estará observando uma realização de um processo aleatório, um único ponto amostral de certa experiência aleatória. É fácil lembrar de eventos ligados a essa observação para os quais se poderia definir probabilidades. O evento 1/72 carros passam entre 14:00 e 15:00 horas\", teria uma certa probabilidade, e, é claro, seria diferente da probabilidade do evento 1/72 carros passam entre 02:00 e 03:00 horas\". "
   ]
  },
  {
   "cell_type": "markdown",
   "metadata": {},
   "source": [
    "___"
   ]
  },
  {
   "cell_type": "markdown",
   "metadata": {},
   "source": [
    "# Correlação e Causalidade\n",
    "\n",
    "A confusão entre a correlação e causalidade está na base de muitas concepções erradas. Daí que se torna imperativo falar sobre este assunto em maior profundidade. Os nossos cérebros são autênticas máquinas de reconhecimento de padrões, mas este processo está longe de ser perfeito, o que resulta na detecção de padrões que não existem de verdade.\n",
    "\n",
    "A correlação, isto é, a ligação entre dois eventos, não implica necessariamente uma relação de causalidade, ou seja, que um dos eventos tenha causado a ocorrência do outro. A correlação pode no entanto indicar possíveis causas ou áreas para um estudo mais aprofundado, ou por outras palavras, a correlação pode ser uma pista.\n",
    "\n",
    "A ideia oposta, de que correlação prova automaticamente causalidade, é uma falácia lógica denominada“cum hoc ergo propter hoc” (do latim “com isto, logo por causa disto”). Obviamente, dois eventos que possuam de facto uma relação da causalidade deverão apresentar também uma correlação. O que constitui a falácia é o salto imediato para a conclusão de causalidade, sem que esta seja devidamente demonstrada.\n",
    "\n",
    "Só porque (A) acontece juntamente com (B) não significa que (A) causa (B). Determinar se existe de facto uma relação de causalidade requer  investigação adicional pois podem acontecer cinco situações:\n",
    "\n",
    "- (A) causa realmente (B);\n",
    "- (B) pode ser a causa de (A);\n",
    "- Um terceiro factor (C) pode ser causa tanto de (A) como de (B);\n",
    "- Pode ser uma combinação das três situações anteriores. Por exemplo, (A) causa (B) e ao mesmo tempo (B) causa também (A);\n",
    "- A correlação pode ser apenas uma coincidência, ou seja, os dois eventos não têm qualquer relação para além do facto de ocorrerem ao mesmo tempo. (Se estivermos a falar de um estudo científico, utilizar uma amostra grande ajuda a reduzir a probabilidade de coincidência).\n",
    "\n",
    "\n",
    "<br>\n",
    "<img src=\"img/correlacao_causalidade.png\" width='600' >\n",
    "<br>\n",
    "\n",
    "### Então como se determina a causalidade?\n",
    "\n",
    "Depende sobretudo da complexidade do problema, mas a verdade é que a causalidade dificilmente poderá ser determinada com certeza absoluta. Daí que em ciência já está subentendido que não existem verdades absolutas e que todas as teorias estão abertas a revisão face a novas evidências. No entanto, muitos erros podem ser evitados se tivermos mais cuidado com as conclusões precipitadas. \n",
    "\n",
    "Utilizando o método científico é possível muitas vezes estabelecer uma relação de causa-efeito com uma segurança confortável. O que acaba por ter mais importância no final é a reprodutibilidade da relação causa-efeito e a possibilidade de fazer previsões correctas sobre eventos futuros (Mais pormenores aqui). A indústria do tabaco não pode continuar a alegar que a correlação entre o tabaco e o cancro do pulmão não implica necessariamente causalidade porque existe uma montanha de evidências científicas a favor da relação causa-efeito. Já o movimento anti-vacinação não possui quaisquer evidências credíveis que suportem a afirmação de que as vacinas causam autismo. É aí que reside a diferença fundamental."
   ]
  },
  {
   "cell_type": "markdown",
   "metadata": {},
   "source": [
    "# Estatística Descritiva\n",
    "\n",
    "<br>\n",
    "<img src=\"img/estatistica_descritiva.png\" width='500' >\n",
    "<br>\n",
    "\n",
    "\n",
    "*fonte: Wikipedia*\n",
    "\n",
    "A estatística descritiva é um ramo da estatística que aplica várias técnicas para descrever e sumarizar um conjunto de dados. Diferencia-se da estatística inferencial, ou estatística indutiva, pelo objectivo: organizar, sumarizar dados ao invés de usar os dados em aprendizado sobre a população. Esse princípio torna a estatística descritiva uma disciplina independente.\n",
    "\n",
    "Algumas medidas que são normalmente usadas para descrever um conjunto de dados são medidas de tendência central e medidas de variabilidade ou dispersão. Medidas de tendência central incluem média,mediana e moda. Medidas de variabilidade incluem desvio padrão,variância, o valor máximo e mínimo, obliquidade e curtose. \n",
    "\n",
    "A estatística descritiva fornece resumos simples sobre a amostra e sobre as observações que foram feitas. Tal resumo pode ser quantitativo ou visual. Esses resumos tanto podem formar a base da descrição inicial dos dados, como parte de uma análise estatística mais extensa, ou eles podem ser suficientes por si mesmos.\n",
    "\n",
    "Por exemplo, a porcentagem de arremessos no basquetebol é uma descrição estatística que resume a performance de um jogador ou time. Esse número é a quantidade de arremessos bem sucedidos dividido pelo o número de arremessos. Por exemplo, um jogador que consegue porcentagem de 33% faz aproximadamente um arremesso bem sucedido em cada três arremessos. A porcentagem descreve ou resume múltiplos eventos discretos. Considere também a média da. Esse número descreve a performance geral de um estudante em um curso.\n",
    "\n",
    "O uso de descrição e resumo estatísticos tem uma história intensiva e, de fato, a simples tabulação de populações e dados económicos foram a primeira forma em que a estatística apareceu. Mais recentemente, uma colecção de técnicas de resumos apareceram com o título de análise exploratória de dados, um exemplo dessas técnicas é o diagrama de caixa.\n",
    "\n",
    "No mundo dos negócios, estatística descritiva fornece um resumo útil de muitos tipos de dados. \n",
    "\n",
    "Já vimos as principais medidas de centralidade:\n",
    "\n",
    "- Média\n",
    "- Mediana\n",
    "- Moda\n",
    "\n",
    "Agora vamos estudar as principais medidas de dispersão:\n",
    "\n",
    "- Desvio Padrão\n",
    "- Variância\n",
    "\n",
    "Em seguida veremos as principais medidas de associação:\n",
    "\n",
    "- Covariãncia\n",
    "- Correlação"
   ]
  },
  {
   "cell_type": "markdown",
   "metadata": {},
   "source": [
    "## Medidas de Dispersão\n",
    "\n",
    "<br>\n",
    "<img src=\"img/medidas_dispersao.png\">\n",
    "<br>\n",
    "\n",
    "*fonte: Wikipedia*\n",
    "\n",
    "Em Estatística, dispersão (também chamada de variabilidade ou espalhamento) mostra o quão esticada ou espremida uma distribuição (teórica ou que define uma amostra) é, e sua representação gráfica de distribuição apresenta estas características. Exemplos comuns de medidas de dispersão estatística são a variância, o desvio padrão e a amplitude interquartil.\n",
    "\n",
    "Dispersão é contrastada com posição ou tendência central, e juntas elas são as propriedades de distribuições mais usadas. "
   ]
  },
  {
   "cell_type": "markdown",
   "metadata": {},
   "source": [
    "### Desvio Padrão\n",
    "\n",
    "<br>\n",
    "<!--<img src=\"img/desvio_padrao.png\">-->\n",
    "<img src=\"https://p5759554.vo.llnwd.net/e1/courses/imgs/1026-38595.jpg\">\n",
    "<br>\n",
    "\n",
    "*fonte: Wikipedia*\n",
    "\n",
    "Em probabilidade, o desvio padrão ou desvio padrão populacional (comumente representado pela letra grega σ) é uma medida de dispersão em torno da média populacional de uma variável aleatória. O termo possui também uma acepção específica no campo da estatística, na qual também é chamado de desvio padrão amostral (comumente representado pela letra latina s) e indica uma medida de dispersão dos dados em torno de média amostral. Um baixo desvio padrão indica que os pontos dos dados tendem a estar próximos da média ou do valor esperado. Um alto desvio padrão indica que os pontos dos dados estão espalhados por uma ampla gama de valores. O desvio padrão populacional ou amostral é a raiz quadrada da variância populacional ou amostral correspondente, de modo a ser uma medida de dispersão que seja um número não negativo e que use a mesma unidade de medida dos dados fornecidos.\n",
    "\n",
    "Além de expressar a variabilidade da população, o desvio padrão comumente é usado para medir a confiança em cálculos estatísticos e geralmente permite sintetizar os resultados de uma experiência repetida várias vezes. Por exemplo, a margem de erro de um conjunto de dados é determinada pelo cálculo do desvio padrão da média ou do desvio padrão populacional inverso da raiz quadrada do tamanho da amostra, se a mesma pesquisa for repetida várias vezes.\n",
    "\n",
    "Esta derivação do desvio padrão geralmente é chamada de erro padrão da estimativa ou erro padrão da média (em referência à média). O erro padrão da média é calculado a partir do desvio padrão das médias, as quais poderiam ser computadas a partir de uma população se um número infinito de amostras e uma média para cada amostra fossem considerados. A margem de erro de uma pesquisa é calculada a partir do erro padrão da média (produto do desvio padrão populacional e do inverso da raiz quadrada do tamanho da amostra), e cerca do dobro do erro padrão da média é a metade da largura de 95% do intervalo de confiança para a média (populacional).\n",
    "\n",
    "O desvio padrão é calculado em todas as áreas que usam probabilidade e estatística, em particular biologia, finanças, física e pesquisas em geral. Em ciência, os pesquisadores comumente reportam o desvio padrão dos dados experimentais. Em geral, apenas os efeitos mais de dois desvios padrões distantes do esperado são considerados estatisticamente significativos – por meio de erro aleatório normal ou variação nas medições podem-se distinguir os efeitos prováveis dos efeitos genuínos. Quando apenas uma amostra dos dados da população está disponível, o termo desvio padrão amostral pode referir-se tanto à quantidade mencionada acima quanto a uma quantidade modificada que seja uma estimativa não enviesada do desvio padrão populacional. Quando o desvio padrão populacional não é conhecido, o seu valor é aproximado por meio do desvio padrão amostral.\n",
    "\n",
    "O **Desvio Padrão** é a raiz quadrada da variância, para \"retornar\" a variável para sua escala original.\n",
    "\n",
    "$$ \\sigma = \\sqrt {\\frac{1}{N}\\sum\\limits_{i = 1}^N {\\left( {x_i - \\bar x} \\right)^2 }}  $$\n",
    "\n",
    "Uma vantagem do desvio padrão é que ele é expresso nas mesmas unidades que a distribuição. \n",
    "(Por outro lado, a variância tem outras unidades, já que está elevada ao quadrado.)"
   ]
  },
  {
   "cell_type": "markdown",
   "metadata": {},
   "source": [
    "### Variância\n",
    "\n",
    "<br>\n",
    "<img src=\"img/variancia.png\">\n",
    "<br>\n",
    "\n",
    "*fonte: Wikipedia*\n",
    "\n",
    "Na teoria da probabilidade e na estatística, a variância de uma variável aleatória ou processo estocástico é uma medida da sua dispersão estatística, indicando \"o quão longe\" em geral os seus valores se encontram do valor esperado.\n",
    "\n",
    "A variância de uma variável aleatória real é o seu segundo momento central e também o seu segundo cumulante (os cumulantes só diferem dos momentos centrais a partir do 4º grau, inclusive). Sendo o seu valor o quadrado do Desvio Padrão. \n",
    "\n",
    "A variância (ou segundo momento) tambem é definida como um valor numérico utilizado para descrever quanto variam os números de uma distribuição com relação à média deles. \n",
    "\n",
    "Por definição, a variância é o quadrado do Desvio Padrão:\n",
    "    \n",
    "$$ \\sigma{_x}^{2} = \\frac{1}{N}\\sum\\limits_{i = 1}^N {\\left( {x_i - \\bar x} \\right)^2 }  $$\n",
    "\n",
    "É a média da diferença elevada ao quadrado entre cada valor e a média. Em outras palavras ela mede o quanto os dados estão distantes de x_barra (média), quanto maior esse número, mais distante da média os valores estão, em média (dividido por n).\n",
    "\n"
   ]
  },
  {
   "cell_type": "markdown",
   "metadata": {},
   "source": [
    "# Aplicando os conceitos em um exemplo real\n",
    "\n",
    "Vamos utilizar o mesmos dados já conhecidos para calcular e comparar as métricas aprendidas"
   ]
  },
  {
   "cell_type": "markdown",
   "metadata": {},
   "source": [
    "## Analisando Dispersão dos dados do IBGE\n",
    "\n"
   ]
  },
  {
   "cell_type": "markdown",
   "metadata": {},
   "source": [
    "### Medidas dispersão para a variável salário\n",
    "\n",
    "Evidentemente o desvio pacrão e a variância fazem sentido para as variáveis quatitativas ou qualitativas ordinais numéricas com várias categorias. Para nosso exemplo temos idade, anos de estudo e salário."
   ]
  },
  {
   "cell_type": "code",
   "execution_count": null,
   "metadata": {},
   "outputs": [],
   "source": [
    "import csv\n",
    "\n",
    "with open(r'../../99 Datasets/demografia.csv', 'r') as data_csv:\n",
    "    data = csv.reader(data_csv)\n",
    "    \n",
    "    contador = 0\n",
    "    for row in data:\n",
    "        print(row)\n",
    "        contador = contador + 1\n",
    "        \n",
    "#         print(row[2],row[4],row[6])\n",
    "        if contador == 10:\n",
    "            break"
   ]
  },
  {
   "cell_type": "markdown",
   "metadata": {},
   "source": [
    "### Acesso ao DataSet com a definição das listas com as idades e os salários "
   ]
  },
  {
   "cell_type": "code",
   "execution_count": null,
   "metadata": {},
   "outputs": [],
   "source": [
    "# Separação da leitura do arquivo com dois TRYs diferentes para diferenciação em caso de erro\n",
    "\n",
    "%time\n",
    "\n",
    "lista_com_salarios = []\n",
    "lista_com_idades = list()\n",
    "\n",
    "with open(r'../../99 Datasets/demografia.csv', 'r') as data_csv:\n",
    "    data = csv.reader(data_csv)\n",
    "\n",
    "    for i, line in enumerate(data):\n",
    "        if i>0:\n",
    "            try:\n",
    "                lista_com_idades.append(float(line[2]))\n",
    "            except:\n",
    "                pass\n",
    "            \n",
    "            try:\n",
    "                lista_com_salarios.append(float(line[6]))\n",
    "            except:\n",
    "                pass"
   ]
  },
  {
   "cell_type": "code",
   "execution_count": null,
   "metadata": {},
   "outputs": [],
   "source": [
    "len(lista_com_idades)"
   ]
  },
  {
   "cell_type": "code",
   "execution_count": null,
   "metadata": {},
   "outputs": [],
   "source": [
    "len(lista_com_salarios)"
   ]
  },
  {
   "cell_type": "code",
   "execution_count": null,
   "metadata": {},
   "outputs": [],
   "source": [
    "(len(lista_com_idades) - len(lista_com_salarios))/len(lista_com_idades)"
   ]
  },
  {
   "cell_type": "code",
   "execution_count": null,
   "metadata": {},
   "outputs": [],
   "source": [
    "lista_com_idades[:10]"
   ]
  },
  {
   "cell_type": "code",
   "execution_count": null,
   "metadata": {},
   "outputs": [],
   "source": [
    "lista_com_salarios[:5]"
   ]
  },
  {
   "cell_type": "markdown",
   "metadata": {},
   "source": [
    "## Construção da função calcula_variancia_e_desvio (lista_valores)\n",
    "\n",
    "Fazer a formula com base no código acima e na função abaixo:\n",
    "\n",
    "$$ \\sigma{_x}^{2} = \\frac{1}{N}\\sum\\limits_{i = 1}^N {\\left( {x_i - \\bar x} \\right)^2 }  $$\n"
   ]
  },
  {
   "cell_type": "code",
   "execution_count": null,
   "metadata": {},
   "outputs": [],
   "source": [
    "def calcula_variancia(lista_valores):\n",
    "    '''\n",
    "    Escrever o código para calcular a variância\n",
    "    '''\n",
    "    \n",
    "    return variancia\n"
   ]
  },
  {
   "cell_type": "markdown",
   "metadata": {},
   "source": [
    "**Resposta esperada:**\n",
    "<br>media= 19706.790323432902\n",
    "<br>SQT= 376066147518181.8\n",
    "<br>(7854675373.202344, 88626.60646330957)\n",
    "\n",
    "**Dê dois cliques para ver o código da função...**\n",
    "\n",
    "<!--\n",
    "def calcula_variancia_e_desvio(lista_valores):\n",
    "    '''\n",
    "    Escrever o código para calcular a variância\n",
    "    '''\n",
    "    import math\n",
    "    \n",
    "    media = 0\n",
    "    soma = 0\n",
    "    \n",
    "    \n",
    "    for i in lista_valores:\n",
    "        \n",
    "        soma += i\n",
    "        \n",
    "    media = soma/len(lista_valores)\n",
    "    \n",
    "    print('media=', media)\n",
    "    SQT = 0\n",
    "    \n",
    "    for n in lista_valores:\n",
    "        SQT += (n-media)**2\n",
    "    \n",
    "    print('SQT=', SQT)\n",
    "    \n",
    "    variancia = SQT/len(lista_valores)\n",
    "    desvio_padrao = math.sqrt(variancia)\n",
    "    \n",
    "    return (variancia, desvio_padrao)\n",
    "-->\n",
    "\n",
    "Código alternativo otimizado em Python explicado mais a baixo\n",
    "<!--\n",
    "def alternativa(lista):\n",
    "    \n",
    "    m = sum(lista) / len(lista)\n",
    "    variancia = sum((xi - m) ** 2 for xi in lista) / len(lista)\n",
    "    desvio_padrao = variancia**0.5\n",
    "    \n",
    "    return variancia, desvio_padrao\n",
    "-->"
   ]
  },
  {
   "cell_type": "markdown",
   "metadata": {},
   "source": [
    "### Aplicação da função para a lista com salarios"
   ]
  },
  {
   "cell_type": "code",
   "execution_count": null,
   "metadata": {},
   "outputs": [],
   "source": [
    "calcula_variancia_e_desvio(lista_com_salarios)"
   ]
  },
  {
   "cell_type": "code",
   "execution_count": null,
   "metadata": {},
   "outputs": [],
   "source": [
    "calcula_salarios = calcula_variancia_e_desvio(lista_com_salarios)"
   ]
  },
  {
   "cell_type": "code",
   "execution_count": null,
   "metadata": {},
   "outputs": [],
   "source": [
    "calcula_salarios"
   ]
  },
  {
   "cell_type": "markdown",
   "metadata": {},
   "source": [
    "### Aplicação da função para a lista com idades utilizando uma variável para os resultados"
   ]
  },
  {
   "cell_type": "code",
   "execution_count": null,
   "metadata": {},
   "outputs": [],
   "source": [
    "variavel_output = calcula_variancia_e_desvio(lista_com_idades)"
   ]
  },
  {
   "cell_type": "code",
   "execution_count": null,
   "metadata": {},
   "outputs": [],
   "source": [
    "variavel_output"
   ]
  },
  {
   "cell_type": "code",
   "execution_count": null,
   "metadata": {},
   "outputs": [],
   "source": [
    "variavel_output[0]"
   ]
  },
  {
   "cell_type": "code",
   "execution_count": null,
   "metadata": {},
   "outputs": [],
   "source": [
    "variavel_output[1]"
   ]
  },
  {
   "cell_type": "code",
   "execution_count": null,
   "metadata": {},
   "outputs": [],
   "source": [
    "print('O desvio padrão da idade é:',variavel_output[1])"
   ]
  },
  {
   "cell_type": "markdown",
   "metadata": {},
   "source": [
    "### Função alternativa com código otimizado em Python"
   ]
  },
  {
   "cell_type": "code",
   "execution_count": null,
   "metadata": {},
   "outputs": [],
   "source": [
    "def alternativa(lista):\n",
    "    \n",
    "    m = sum(lista) / len(lista)\n",
    "    variancia = sum((xi - m) ** 2 for xi in lista) / len(lista)\n",
    "    desvio_padrao = variancia**0.5\n",
    "    \n",
    "    return variancia, desvio_padrao"
   ]
  },
  {
   "cell_type": "code",
   "execution_count": null,
   "metadata": {},
   "outputs": [],
   "source": [
    "alternativa(lista_com_salarios)"
   ]
  },
  {
   "cell_type": "code",
   "execution_count": null,
   "metadata": {},
   "outputs": [],
   "source": [
    "alternativa(lista_com_idades)"
   ]
  },
  {
   "cell_type": "markdown",
   "metadata": {},
   "source": [
    "___"
   ]
  },
  {
   "cell_type": "markdown",
   "metadata": {},
   "source": [
    "# Plotando o histograma com matplotlib"
   ]
  },
  {
   "cell_type": "code",
   "execution_count": null,
   "metadata": {},
   "outputs": [],
   "source": [
    "import matplotlib.pyplot as plt"
   ]
  },
  {
   "cell_type": "markdown",
   "metadata": {},
   "source": [
    "### Histograma da lista com salários"
   ]
  },
  {
   "cell_type": "code",
   "execution_count": null,
   "metadata": {},
   "outputs": [],
   "source": [
    "plt.hist(lista_com_salarios)\n",
    "plt.show()"
   ]
  },
  {
   "cell_type": "markdown",
   "metadata": {},
   "source": [
    "#### Escolhendo a quantidade de bins\n",
    "\n",
    "Bins (ou cesta) é o parâmetro do módulo que plota histogramas que faz o agrupamento dos valores da lista em intervalos - para melhor visualização das frequências, é necessário otimizar o seu valor (ou parametrizar)."
   ]
  },
  {
   "cell_type": "code",
   "execution_count": null,
   "metadata": {},
   "outputs": [],
   "source": [
    "plt.hist(lista_com_salarios, bins=200)\n",
    "plt.show()"
   ]
  },
  {
   "cell_type": "markdown",
   "metadata": {},
   "source": [
    "#### Escolhendo o range de valores\n",
    "\n",
    "O range é o parâmetro que define o intervalo do gistograma e também precisa de parametrização para melhor visualização da variação."
   ]
  },
  {
   "cell_type": "code",
   "execution_count": null,
   "metadata": {},
   "outputs": [],
   "source": [
    "plt.hist(lista_com_salarios, bins=100, range=(-100, 75000))\n",
    "plt.show()"
   ]
  },
  {
   "cell_type": "markdown",
   "metadata": {},
   "source": [
    "## Histograma da lista com idades"
   ]
  },
  {
   "cell_type": "markdown",
   "metadata": {},
   "source": [
    "Plote o histograma com as idades abaixo."
   ]
  },
  {
   "cell_type": "code",
   "execution_count": null,
   "metadata": {},
   "outputs": [],
   "source": []
  },
  {
   "cell_type": "markdown",
   "metadata": {},
   "source": [
    "Dê dois cliques para ver a resposta...\n",
    "\n",
    "<!--\n",
    "plt.hist(lista_com_idades, bins=50, range=(15,65))\n",
    "plt.show()\n",
    "\n",
    "#ou apenas\n",
    "\n",
    "plt.hist(lista_com_idades)\n",
    "plt.show()\n",
    "-->"
   ]
  },
  {
   "cell_type": "markdown",
   "metadata": {},
   "source": [
    "## Fazendo a mesma análise para a variável anos de estudo"
   ]
  },
  {
   "cell_type": "code",
   "execution_count": null,
   "metadata": {},
   "outputs": [],
   "source": []
  },
  {
   "cell_type": "code",
   "execution_count": null,
   "metadata": {},
   "outputs": [],
   "source": []
  },
  {
   "cell_type": "code",
   "execution_count": null,
   "metadata": {},
   "outputs": [],
   "source": []
  },
  {
   "cell_type": "markdown",
   "metadata": {},
   "source": [
    "Dê dois cliques para ver as respostas...\n",
    "\n",
    "<!--\n",
    "%time\n",
    "\n",
    "import csv \n",
    "lista_anos_estudo = []\n",
    "\n",
    "with open(r'data/data.csv', 'r') as data_csv:\n",
    "    data = csv.reader(data_csv)\n",
    "\n",
    "    for i, line in enumerate(data):\n",
    "        if i>0:\n",
    "            try:\n",
    "                lista_anos_estudo.append(float(line[4]))\n",
    "            except:\n",
    "                pass\n",
    "-->\n",
    "<!--\n",
    "calcula_variancia_e_desvio(lista_anos_estudo)\n",
    "-->\n",
    "<!--\n",
    "alternativa(lista_anos_estudo)\n",
    "-->\n",
    "<!--\n",
    "plt.hist(lista_anos_estudo,bins = 10, range=(4,16))\n",
    "plt.show()\n",
    "-->"
   ]
  },
  {
   "cell_type": "markdown",
   "metadata": {},
   "source": [
    "___"
   ]
  },
  {
   "cell_type": "markdown",
   "metadata": {},
   "source": [
    "# Exemplo de três curvas com a mesma média e diferentes dispersões\n",
    "\n",
    "Demonstração de diferentes valoes do desvio=padrão afetando o perfil da curva normal, conforme definição anterior de variância\n",
    "\n",
    "<br>\n",
    "<img src=\"img/variancia_bias.png\" width='400' >\n",
    "<br>"
   ]
  },
  {
   "cell_type": "code",
   "execution_count": null,
   "metadata": {},
   "outputs": [],
   "source": [
    "lista_valores = []\n",
    "\n",
    "for valor in range(0, 1000, 1):\n",
    "    lista_valores.append((valor/125)-4)"
   ]
  },
  {
   "cell_type": "code",
   "execution_count": null,
   "metadata": {},
   "outputs": [],
   "source": [
    "from scipy.stats import norm\n",
    "import matplotlib.pyplot as plt\n",
    "\n",
    "mean, std, std1, std2 = 0, 0.5, 1, 2\n",
    "\n",
    "plt.plot(lista_valores, norm.pdf(lista_valores,mean,std), label='std=0.5')\n",
    "plt.plot(lista_valores, norm.pdf(lista_valores,mean,std1), label='std=1')\n",
    "plt.plot(lista_valores, norm.pdf(lista_valores,mean,std2), label='std=2')\n",
    "\n",
    "plt.legend(loc='upper left')\n",
    "\n",
    "plt.show()"
   ]
  },
  {
   "cell_type": "markdown",
   "metadata": {},
   "source": [
    "___"
   ]
  },
  {
   "cell_type": "markdown",
   "metadata": {},
   "source": [
    "## Medidas de Associação"
   ]
  },
  {
   "cell_type": "markdown",
   "metadata": {},
   "source": [
    "### Correlação\n",
    "\n",
    "<br>\n",
    "<img src=\"img/correlacao2.png\">\n",
    "<br>\n",
    "\n",
    "*fonte: Wikipedia*\n",
    "\n",
    "Em probabilidade e estatística, correlação, dependência ou associação é qualquer relação estatística (causal ou não causal) entre duas variáveis e correlação é qualquer relação dentro de uma ampla classe de relações estatísticas que envolva dependência entre duas variáveis. Por exemplo, a correlação entre a estatura dos pais e a estatura dos pais e dos filhos. Embora seja comumente denotada como a medida de relação entre duas variáveis aleatórias, correlação não implica causalidade. Em alguns casos, correlação não identifica dependência entre as variáveis. Em geral, há pares de variáveis que apresentam forte dependência estatística, mas que possuem correlação nula. Para este casos, são utilizadas outras medidas de dependência.\n",
    "\n",
    "<br>\n",
    "<img src=\"img/tylervigen.png\">\n",
    "<br>\n",
    "\n",
    "Informalmente correlação é sinônimo de dependência. Formalmente variáveis são dependentes se não satisfizerem a propriedade matemática da independência probabilística. Em termos técnicos, correlação refere–se a qualquer um dos vários tipos específicos de relação entre os valores médios. Existem diferentes coeficientes de correlação (ρ ou r) para medir o grau de correlação. Um dos coeficientes de correlação mais conhecidos é o coeficiente de correlação de Pearson, obtido pela divisão da covariância de duas variáveis pelo produto dos seus desvios padrão e sensível a uma relação linear entre duas variáveis. Entretanto, há outros coeficientes de correlação mais robustos que o coeficiente de correlação de Pearson. Isto é, mais sensíveis às relações não lineares.\n",
    "\n",
    "#### Tipos de correlação\n",
    "\n",
    "Linear:\n",
    "- Pearson\n",
    "\n",
    "Não-lineares:\n",
    "- Spearman\n",
    "- Kendall (tau)\n",
    "\n",
    "<br>\n",
    "<img src=\"img/correlacoes_comp.png\">\n",
    "<br>\n",
    "\n",
    "##### Correlação Linear de Pearson\n",
    "\n",
    "A correlação amostral trata da medida da direção e do grau com que as variáveis X {\\displaystyle X} {\\displaystyle X} e Y {\\displaystyle Y} {\\displaystyle Y} se associam linearmente em uma amostra. Karl Pearson desenvolveu o coeficiente amostral a partir de uma ideia semelhante, porém ligeiramente diferente da de Francis Galton. Então, o coeficiente amostral pode ser chamado de coeficiente produto–momento de Pearson, coeficiente de correlação de Pearson ou simplesmente coeficiente de correlação, que é a medida mais conhecida de dependência entre duas variáveis quantitativa.\n",
    "\n",
    "A correlação lineaar de Pearson é uma versão padronizada (dividida pelos desvios padrão) da covariância e sempre está entre 1 e -1, portanto pode ser comparada com variaveis que não tem necessáriamente a mesma escala.\n",
    "\n",
    "$$ \\rho = \\frac{{}\\sum_{i=1}^{n} (x_i - \\overline{x})(y_i - \\overline{y})}\n",
    "{\\sqrt{\\sum_{i=1}^{n} (x_i - \\overline{x})^2(y_i - \\overline{y})^2}}$$\n",
    "\n",
    "##### Correlação de Spearman\n",
    "\n",
    "A correlação de postos de Spearman é utilizada para a relação entre dados não–lineares. Quando os dados de uma amostra são ordenados de forma crescente, obtém–se uma condição de ordem para que cada elemento ordenado seja um posto.\n",
    "\n",
    "##### Correlação de Kendall\n",
    "\n",
    "A correlação de postos de Kendall, também conhecido como τ de Kendall, é uma medida a partir de uma amostra de dados ordenados como a correlação de postos de Spearman. A vantagem de τ de Kendall é a generalização para um coeficiente de correlação parcial. "
   ]
  },
  {
   "cell_type": "markdown",
   "metadata": {},
   "source": [
    "### Covariância\n",
    "\n",
    "<br>\n",
    "<img src=\"img/covariancia.png\">\n",
    "<br>\n",
    "\n",
    "*fonte: Wikipedia*\n",
    "\n",
    "Em teoria da probabilidade e na estatística, a covariância, ou variância conjunta, é uma medida do grau de interdependência (ou inter-relação) numérica entre duas variáveis aleatórias. Assim, variáveis independentes têm covariância zero.\n",
    "\n",
    "A covariância ou variância conjunta é um momento conjunto de primeira ordem das variáveis aleatórias X e Y, centrados nas respectivas médias. É a média do grau de interdependência ou inter-relação numérica linear entre elas. \n",
    "\n",
    "A covariância é por vezes chamada de medida de dependência linear entre as duas variáveis aleatórias. \n",
    "\n",
    "Dessa forma, a covariância é definida como uma variância entre duas variáveis distintas.\n",
    "\n",
    "$$ cov_{x,y} = \\sum_{i=1}^{n} (x_i - \\bar{x})(y_i - \\bar{y})\\quad \\text{(covariance)} $$\n",
    "\n",
    "$$\\sigma{_x}^{2} = \\sum_{i=1}^{n} (x_i - \\bar{x})^2\\quad \\text{(variance)}\t$$\n",
    "\n",
    "Vale a pena reforçar o que já foi mencionado acima, que a correlação é uma versão padronizada (dividida pelos desvios padrão) da covariância e sempre está entre 1 e -1, portanto pode ser comparada com variaveis que não tem necessáriamente a mesma escala."
   ]
  },
  {
   "cell_type": "markdown",
   "metadata": {},
   "source": [
    "# Exemplo com números gerados\n",
    "\n",
    "Vamos criar duas variáveis aleatórias para utilização nesta parte de cálculo das medidas de associação através no numpy.random, e a partir do gráfico de dispersão (scatter plot) iremos trazer os códigos das funções de cálculo seguidas nos comandos da bilbioteca Scipy.Stats. "
   ]
  },
  {
   "cell_type": "code",
   "execution_count": null,
   "metadata": {},
   "outputs": [],
   "source": [
    "x1 = [1.3, 2.1, 3.4, 3.7, 5.4, 6.3, 7.2, 8.1, 9.9]\n",
    "x2 = [8.7, 8.5, 7.6, 6.1, 5.1, 5.7, 3.3, 3.8, 1.7]\n",
    "\n",
    "plt.scatter(x=x1,y=x2)"
   ]
  },
  {
   "cell_type": "code",
   "execution_count": null,
   "metadata": {},
   "outputs": [],
   "source": [
    "xy = list(zip(list(x1),list(x2)))\n",
    "print(xy[:5])"
   ]
  },
  {
   "cell_type": "code",
   "execution_count": null,
   "metadata": {},
   "outputs": [],
   "source": [
    "import scipy.stats\n",
    "\n",
    "metodo_nutella = scipy.stats.pearsonr(x1, x2)\n",
    "print(metodo_nutella[0])"
   ]
  },
  {
   "cell_type": "markdown",
   "metadata": {},
   "source": [
    "$$ \\rho = \\frac{{}\\sum_{i=1}^{n} (x_i - \\overline{x})(y_i - \\overline{y})}\n",
    "{\\sqrt{\\sum_{i=1}^{n} (x_i - \\overline{x})^2(y_i - \\overline{y})^2}}$$"
   ]
  },
  {
   "cell_type": "markdown",
   "metadata": {},
   "source": [
    "ou outras formas de representação:\n",
    "\n",
    "<img src ='https://wikimedia.org/api/rest_v1/media/math/render/svg/9a883e9f9f3f8abd5a139141e1c60212d53a8f09' />"
   ]
  },
  {
   "cell_type": "code",
   "execution_count": null,
   "metadata": {},
   "outputs": [],
   "source": [
    "def corr_metodo_raiz(data):\n",
    "    n = len(data)\n",
    "    sumx = sum(i[0] for i in data)\n",
    "    sumy = sum(i[1] for i in data)\n",
    "    \n",
    "    sumxSq=sum([i[0]**2.0 for i in data])\n",
    "    sumySq=sum([i[1]**2.0 for i in data])\n",
    "    \n",
    "    pSum=sum([i[0]*i[1] for i in data])\n",
    "    \n",
    "    numerador=pSum-(sumx*sumy/n)\n",
    "    denominador=((sumxSq-pow(sumx,2)/n)*(sumySq-pow(sumy,2)/n))**.5\n",
    "    \n",
    "    if denominador==0:\n",
    "        r=0\n",
    "    else:\n",
    "        r=numerador/denominador\n",
    "        \n",
    "    return r"
   ]
  },
  {
   "cell_type": "code",
   "execution_count": null,
   "metadata": {},
   "outputs": [],
   "source": [
    "corr_metodo_raiz(xy)"
   ]
  },
  {
   "cell_type": "markdown",
   "metadata": {},
   "source": [
    "## Analisando correlação nos dados do IBGE\n"
   ]
  },
  {
   "cell_type": "code",
   "execution_count": null,
   "metadata": {},
   "outputs": [],
   "source": [
    "import numpy\n",
    "\n",
    "print(len(lista_com_idades), len(lista_com_salarios))\n",
    "print('\\n')\n",
    "print(lista_com_idades[:5])\n",
    "print(lista_com_salarios[:5])"
   ]
  },
  {
   "cell_type": "markdown",
   "metadata": {},
   "source": [
    "## Lendo e definindo uma lista de valores com idades e anos de estudo"
   ]
  },
  {
   "cell_type": "code",
   "execution_count": null,
   "metadata": {},
   "outputs": [],
   "source": [
    "idade_estudo = []\n",
    "\n",
    "with open(r'../../99 Datasets/demografia.csv', 'r') as data_csv:\n",
    "    data = csv.reader(data_csv)\n",
    "    for i, line in enumerate(data):\n",
    "        observação = [] # cria uma lista em branco a cada iteração\n",
    "        if i>0:\n",
    "            try: # para evitar os campos nulos\n",
    "                observação.append(float(line[2]))\n",
    "                observação.append(float(line[4]))\n",
    "                idade_estudo.append(observação)\n",
    "            except:\n",
    "                pass\n",
    "            \n",
    "len(idade_estudo)"
   ]
  },
  {
   "cell_type": "code",
   "execution_count": null,
   "metadata": {},
   "outputs": [],
   "source": [
    "idade_estudo[:10]"
   ]
  },
  {
   "cell_type": "code",
   "execution_count": null,
   "metadata": {},
   "outputs": [],
   "source": [
    "corr_metodo_raiz(idade_estudo)"
   ]
  },
  {
   "cell_type": "code",
   "execution_count": null,
   "metadata": {},
   "outputs": [],
   "source": [
    "lista_com_idades = []\n",
    "lista_com_estudo = []\n",
    "\n",
    "for row in idade_estudo:\n",
    "    lista_com_idades.append(row[0])\n",
    "    lista_com_estudo.append(row[1])    "
   ]
  },
  {
   "cell_type": "code",
   "execution_count": null,
   "metadata": {},
   "outputs": [],
   "source": [
    "len(lista_com_idades),len(lista_com_estudo)"
   ]
  },
  {
   "cell_type": "code",
   "execution_count": null,
   "metadata": {},
   "outputs": [],
   "source": [
    "plt.scatter(x=lista_com_idades[:1000], y=lista_com_estudo[:1000])"
   ]
  },
  {
   "cell_type": "markdown",
   "metadata": {},
   "source": [
    "### Vamos fazer a correlação com Scipy.Stats"
   ]
  },
  {
   "cell_type": "code",
   "execution_count": null,
   "metadata": {},
   "outputs": [],
   "source": [
    "%time\n",
    "#\n",
    "#"
   ]
  },
  {
   "cell_type": "markdown",
   "metadata": {},
   "source": [
    "Dê dois cliques para resposta:\n",
    "<!--\n",
    "metodo_nutella = scipy.stats.pearsonr(lista_com_idades,lista_com_estudo)\n",
    "print(metodo_nutella[0])\n",
    "-->"
   ]
  },
  {
   "cell_type": "markdown",
   "metadata": {},
   "source": [
    "### Correlation with Numpy"
   ]
  },
  {
   "cell_type": "code",
   "execution_count": null,
   "metadata": {},
   "outputs": [],
   "source": [
    "import numpy as np\n",
    "\n",
    "np.corrcoef(lista_com_idades, lista_com_estudo)"
   ]
  },
  {
   "cell_type": "markdown",
   "metadata": {},
   "source": [
    "# Covariância"
   ]
  },
  {
   "cell_type": "code",
   "execution_count": null,
   "metadata": {},
   "outputs": [],
   "source": [
    "from numpy import cov\n",
    "\n",
    "cov(lista_com_idades, lista_com_estudo)"
   ]
  },
  {
   "cell_type": "code",
   "execution_count": null,
   "metadata": {},
   "outputs": [],
   "source": [
    "def cov_func(a, b):\n",
    "\n",
    "    if len(a) != len(b):\n",
    "        return\n",
    "\n",
    "    a_mean = np.mean(a)\n",
    "    b_mean = np.mean(b)\n",
    "\n",
    "    sum = 0\n",
    "\n",
    "    for i in range(0, len(a)):\n",
    "        sum += ((a[i] - a_mean) * (b[i] - b_mean))\n",
    "\n",
    "    return sum/(len(a)-1)"
   ]
  },
  {
   "cell_type": "code",
   "execution_count": null,
   "metadata": {},
   "outputs": [],
   "source": [
    "import numpy as np\n",
    "\n",
    "cov_func(lista_com_idades, lista_com_estudo)"
   ]
  },
  {
   "cell_type": "code",
   "execution_count": null,
   "metadata": {},
   "outputs": [],
   "source": [
    "import statistics\n",
    "std_idades = statistics.stdev(lista_com_idades)\n",
    "std_estudos = statistics.stdev(lista_com_estudo)"
   ]
  },
  {
   "cell_type": "code",
   "execution_count": null,
   "metadata": {},
   "outputs": [],
   "source": [
    "cov_func(lista_com_idades, lista_com_estudo)/(std_idades*std_estudos)"
   ]
  },
  {
   "cell_type": "markdown",
   "metadata": {},
   "source": [
    "# Extras"
   ]
  },
  {
   "cell_type": "markdown",
   "metadata": {},
   "source": [
    "## Calculando a correlação de Spearman por Scipy.Stats"
   ]
  },
  {
   "cell_type": "code",
   "execution_count": null,
   "metadata": {},
   "outputs": [],
   "source": [
    "from scipy.stats import spearmanr\n",
    "spearman = spearmanr(lista_com_idades, lista_com_estudo)\n",
    "spearman[0]"
   ]
  },
  {
   "cell_type": "markdown",
   "metadata": {},
   "source": [
    "## Calculando a correlação de Kendall por Scipy.Stats"
   ]
  },
  {
   "cell_type": "code",
   "execution_count": null,
   "metadata": {},
   "outputs": [],
   "source": [
    "from scipy.stats import kendalltau\n",
    "tau = kendalltau(lista_com_idades, lista_com_estudo)\n",
    "tau[0]"
   ]
  }
 ],
 "metadata": {
  "hide_input": false,
  "kernelspec": {
   "display_name": "Python 3",
   "language": "python",
   "name": "python3"
  },
  "language_info": {
   "codemirror_mode": {
    "name": "ipython",
    "version": 3
   },
   "file_extension": ".py",
   "mimetype": "text/x-python",
   "name": "python",
   "nbconvert_exporter": "python",
   "pygments_lexer": "ipython3",
   "version": "3.7.3"
  },
  "toc": {
   "base_numbering": 1,
   "nav_menu": {},
   "number_sections": true,
   "sideBar": true,
   "skip_h1_title": true,
   "title_cell": "Estatistica Descritiva para EDA",
   "title_sidebar": "Contents",
   "toc_cell": true,
   "toc_position": {
    "height": "914.933px",
    "left": "41px",
    "top": "110.263px",
    "width": "248.117px"
   },
   "toc_section_display": true,
   "toc_window_display": false
  },
  "varInspector": {
   "cols": {
    "lenName": 16,
    "lenType": 16,
    "lenVar": 40
   },
   "kernels_config": {
    "python": {
     "delete_cmd_postfix": "",
     "delete_cmd_prefix": "del ",
     "library": "var_list.py",
     "varRefreshCmd": "print(var_dic_list())"
    },
    "r": {
     "delete_cmd_postfix": ") ",
     "delete_cmd_prefix": "rm(",
     "library": "var_list.r",
     "varRefreshCmd": "cat(var_dic_list()) "
    }
   },
   "types_to_exclude": [
    "module",
    "function",
    "builtin_function_or_method",
    "instance",
    "_Feature"
   ],
   "window_display": false
  }
 },
 "nbformat": 4,
 "nbformat_minor": 2
}
