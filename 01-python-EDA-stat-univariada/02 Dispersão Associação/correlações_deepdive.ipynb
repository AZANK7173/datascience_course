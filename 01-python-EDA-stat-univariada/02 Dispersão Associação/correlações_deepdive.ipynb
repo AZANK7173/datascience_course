{
 "cells": [
  {
   "cell_type": "markdown",
   "metadata": {},
   "source": [
    "Uma correlação de zero indica que não há uma correlação **linear** entre as duas variáveis. Porém pode haver vários tipos de realações. Exemplo:"
   ]
  },
  {
   "cell_type": "code",
   "execution_count": null,
   "metadata": {},
   "outputs": [],
   "source": [
    "import scipy.stats as ss\n",
    "from scipy.stats import norm\n",
    "import numpy as np\n",
    "import matplotlib.pyplot as plt\n",
    "import seaborn as sns\n",
    "import pandas as pd\n",
    "\n",
    "%matplotlib inline\n",
    "%config InlineBackend.figure_formats=['svg']\n",
    "\n",
    "df = pd.DataFrame([[-5,5],\n",
    "                   [-4,4],\n",
    "                   [-3,3],\n",
    "                   [-2,2],\n",
    "                   [-1,1],\n",
    "                   [0,0],\n",
    "                   [1,1],\n",
    "                   [2,2],\n",
    "                   [3,3],\n",
    "                   [5,5],\n",
    "                   [4,4]], columns=['x','y'])\n",
    "sns.set(color_codes=True)\n",
    "sns.jointplot(x='x', y='y', data=df, kind='reg')"
   ]
  },
  {
   "cell_type": "markdown",
   "metadata": {},
   "source": [
    "Correlação = 0, onde cada elemento de y é o valor absoluto (em módulo) de x."
   ]
  },
  {
   "cell_type": "markdown",
   "metadata": {},
   "source": [
    "Uma correlação de pearson procura relação entre a diferença de cada observação e sua média contra cada observação da outra variavel contra sua média."
   ]
  },
  {
   "cell_type": "markdown",
   "metadata": {},
   "source": [
    "Além disso, correlação não diz nada sobre o tamanho nominal da relação. Exemplo:"
   ]
  },
  {
   "cell_type": "code",
   "execution_count": null,
   "metadata": {},
   "outputs": [],
   "source": [
    "df = pd.DataFrame([[-2,99.98],\n",
    "                   [-1,99.99],\n",
    "                   [0,100],\n",
    "                   [1,100.01],\n",
    "                   [2,100.02]], columns=['x','y'])\n",
    "sns.jointplot(x='x', y='y', data=df, kind='reg')"
   ]
  },
  {
   "cell_type": "markdown",
   "metadata": {},
   "source": [
    "Assim, além da correlação de pearson há outros tipos de correlações como de **Spearman** e **Kendall** que podem capturar funções não lineares se as distribuições forem monoticas, ou seja, se independente da forma da função o \"ranking\" das variaveis for a correlação de interesse."
   ]
  },
  {
   "cell_type": "markdown",
   "metadata": {},
   "source": [
    "Por último, é sempre bom lembrar que correlação **NÃO** implica causalidade, como veremos nas próximas aulas."
   ]
  },
  {
   "cell_type": "code",
   "execution_count": null,
   "metadata": {},
   "outputs": [],
   "source": []
  }
 ],
 "metadata": {
  "kernelspec": {
   "display_name": "Python 3",
   "language": "python",
   "name": "python3"
  },
  "language_info": {
   "codemirror_mode": {
    "name": "ipython",
    "version": 3
   },
   "file_extension": ".py",
   "mimetype": "text/x-python",
   "name": "python",
   "nbconvert_exporter": "python",
   "pygments_lexer": "ipython3",
   "version": "3.7.3"
  },
  "toc": {
   "base_numbering": 1,
   "nav_menu": {},
   "number_sections": true,
   "sideBar": true,
   "skip_h1_title": false,
   "title_cell": "Table of Contents",
   "title_sidebar": "Contents",
   "toc_cell": false,
   "toc_position": {},
   "toc_section_display": true,
   "toc_window_display": false
  },
  "varInspector": {
   "cols": {
    "lenName": 16,
    "lenType": 16,
    "lenVar": 40
   },
   "kernels_config": {
    "python": {
     "delete_cmd_postfix": "",
     "delete_cmd_prefix": "del ",
     "library": "var_list.py",
     "varRefreshCmd": "print(var_dic_list())"
    },
    "r": {
     "delete_cmd_postfix": ") ",
     "delete_cmd_prefix": "rm(",
     "library": "var_list.r",
     "varRefreshCmd": "cat(var_dic_list()) "
    }
   },
   "types_to_exclude": [
    "module",
    "function",
    "builtin_function_or_method",
    "instance",
    "_Feature"
   ],
   "window_display": false
  }
 },
 "nbformat": 4,
 "nbformat_minor": 2
}
