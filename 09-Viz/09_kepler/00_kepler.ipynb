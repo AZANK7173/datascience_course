{
 "cells": [
  {
   "cell_type": "code",
   "execution_count": 1,
   "metadata": {
    "ExecuteTime": {
     "end_time": "2019-07-17T01:04:28.824344Z",
     "start_time": "2019-07-17T01:04:28.820354Z"
    },
    "scrolled": false
   },
   "outputs": [],
   "source": [
    "# !pip install keplergl\n",
    "\n",
    "# doc:\n",
    "# https://github.com/keplergl/kepler.gl/tree/master/bindings/kepler.gl-jupyter\n",
    "# https://github.com/keplergl/kepler.gl/blob/master/docs/keplergl-jupyter/user-guide.md"
   ]
  },
  {
   "cell_type": "markdown",
   "metadata": {},
   "source": [
    "# basico\n"
   ]
  },
  {
   "cell_type": "code",
   "execution_count": 1,
   "metadata": {
    "ExecuteTime": {
     "end_time": "2019-07-17T01:32:33.912101Z",
     "start_time": "2019-07-17T01:32:27.116133Z"
    }
   },
   "outputs": [],
   "source": [
    "from keplergl import KeplerGl\n",
    "import pandas as pd"
   ]
  },
  {
   "cell_type": "code",
   "execution_count": 3,
   "metadata": {
    "ExecuteTime": {
     "end_time": "2019-07-17T01:32:34.240222Z",
     "start_time": "2019-07-17T01:32:33.990894Z"
    }
   },
   "outputs": [
    {
     "data": {
      "text/html": [
       "<div>\n",
       "<style scoped>\n",
       "    .dataframe tbody tr th:only-of-type {\n",
       "        vertical-align: middle;\n",
       "    }\n",
       "\n",
       "    .dataframe tbody tr th {\n",
       "        vertical-align: top;\n",
       "    }\n",
       "\n",
       "    .dataframe thead th {\n",
       "        text-align: right;\n",
       "    }\n",
       "</style>\n",
       "<table border=\"1\" class=\"dataframe\">\n",
       "  <thead>\n",
       "    <tr style=\"text-align: right;\">\n",
       "      <th></th>\n",
       "      <th>origin_latitude</th>\n",
       "      <th>origin_longitude</th>\n",
       "      <th>destination_latitude</th>\n",
       "      <th>destination_longitude</th>\n",
       "      <th>regiao</th>\n",
       "      <th>date</th>\n",
       "    </tr>\n",
       "  </thead>\n",
       "  <tbody>\n",
       "    <tr>\n",
       "      <th>0</th>\n",
       "      <td>-22.923857</td>\n",
       "      <td>-43.255873</td>\n",
       "      <td>-22.907661</td>\n",
       "      <td>-43.220905</td>\n",
       "      <td>Rio - Centro</td>\n",
       "      <td>2019-05-19 13:32:54.948</td>\n",
       "    </tr>\n",
       "    <tr>\n",
       "      <th>1</th>\n",
       "      <td>-23.584946</td>\n",
       "      <td>-46.679788</td>\n",
       "      <td>-23.595762</td>\n",
       "      <td>-46.680636</td>\n",
       "      <td>Sao Paulo</td>\n",
       "      <td>2019-05-20 16:03:42.972</td>\n",
       "    </tr>\n",
       "    <tr>\n",
       "      <th>2</th>\n",
       "      <td>-23.545306</td>\n",
       "      <td>-46.569154</td>\n",
       "      <td>-23.540209</td>\n",
       "      <td>-46.612587</td>\n",
       "      <td>Sao Paulo</td>\n",
       "      <td>2019-05-19 15:04:49.337</td>\n",
       "    </tr>\n",
       "    <tr>\n",
       "      <th>3</th>\n",
       "      <td>-3.732398</td>\n",
       "      <td>-38.549741</td>\n",
       "      <td>-3.751446</td>\n",
       "      <td>-38.547866</td>\n",
       "      <td>Fortaleza</td>\n",
       "      <td>2019-05-20 21:20:20.669</td>\n",
       "    </tr>\n",
       "    <tr>\n",
       "      <th>4</th>\n",
       "      <td>-19.937131</td>\n",
       "      <td>-43.935028</td>\n",
       "      <td>-19.919313</td>\n",
       "      <td>-43.910649</td>\n",
       "      <td>Belo Horizonte</td>\n",
       "      <td>2019-05-20 18:23:53.780</td>\n",
       "    </tr>\n",
       "  </tbody>\n",
       "</table>\n",
       "</div>"
      ],
      "text/plain": [
       "   origin_latitude  origin_longitude  destination_latitude  \\\n",
       "0       -22.923857        -43.255873            -22.907661   \n",
       "1       -23.584946        -46.679788            -23.595762   \n",
       "2       -23.545306        -46.569154            -23.540209   \n",
       "3        -3.732398        -38.549741             -3.751446   \n",
       "4       -19.937131        -43.935028            -19.919313   \n",
       "\n",
       "   destination_longitude          regiao                     date  \n",
       "0             -43.220905    Rio - Centro  2019-05-19 13:32:54.948  \n",
       "1             -46.680636       Sao Paulo  2019-05-20 16:03:42.972  \n",
       "2             -46.612587       Sao Paulo  2019-05-19 15:04:49.337  \n",
       "3             -38.547866       Fortaleza  2019-05-20 21:20:20.669  \n",
       "4             -43.910649  Belo Horizonte  2019-05-20 18:23:53.780  "
      ]
     },
     "execution_count": 3,
     "metadata": {},
     "output_type": "execute_result"
    }
   ],
   "source": [
    "df = pd.read_csv('example.csv')\n",
    "df.head()"
   ]
  },
  {
   "cell_type": "code",
   "execution_count": 14,
   "metadata": {
    "ExecuteTime": {
     "end_time": "2019-07-17T01:36:49.894181Z",
     "start_time": "2019-07-17T01:36:49.298309Z"
    }
   },
   "outputs": [
    {
     "name": "stdout",
     "output_type": "stream",
     "text": [
      "User Guide: https://github.com/keplergl/kepler.gl/blob/master/docs/keplergl-jupyter/user-guide.md\n"
     ]
    },
    {
     "data": {
      "application/vnd.jupyter.widget-view+json": {
       "model_id": "39db65c818954516b8ed37086ad2105f",
       "version_major": 2,
       "version_minor": 0
      },
      "text/plain": [
       "KeplerGl(data={'data1':        origin_latitude  origin_longitude  destination_latitude  \\\n",
       "21390       -12.9817…"
      ]
     },
     "metadata": {},
     "output_type": "display_data"
    }
   ],
   "source": [
    "# Load kepler.gl with an empty map\n",
    "map_1 = KeplerGl(height=700, data={'data1':df})\n",
    "map_1"
   ]
  },
  {
   "cell_type": "code",
   "execution_count": 34,
   "metadata": {
    "ExecuteTime": {
     "end_time": "2019-07-17T01:28:38.575072Z",
     "start_time": "2019-07-17T01:28:36.855008Z"
    }
   },
   "outputs": [
    {
     "name": "stdout",
     "output_type": "stream",
     "text": [
      "Map saved to teste.html!\n"
     ]
    }
   ],
   "source": [
    "map_1.save_to_html(file_name='teste.html')"
   ]
  },
  {
   "cell_type": "code",
   "execution_count": null,
   "metadata": {},
   "outputs": [],
   "source": []
  },
  {
   "cell_type": "code",
   "execution_count": null,
   "metadata": {},
   "outputs": [],
   "source": []
  },
  {
   "cell_type": "code",
   "execution_count": null,
   "metadata": {},
   "outputs": [],
   "source": []
  }
 ],
 "metadata": {
  "kernelspec": {
   "display_name": "Python 3",
   "language": "python",
   "name": "python3"
  },
  "language_info": {
   "codemirror_mode": {
    "name": "ipython",
    "version": 3
   },
   "file_extension": ".py",
   "mimetype": "text/x-python",
   "name": "python",
   "nbconvert_exporter": "python",
   "pygments_lexer": "ipython3",
   "version": "3.7.3"
  },
  "toc": {
   "base_numbering": 1,
   "nav_menu": {},
   "number_sections": true,
   "sideBar": true,
   "skip_h1_title": false,
   "title_cell": "Table of Contents",
   "title_sidebar": "Contents",
   "toc_cell": false,
   "toc_position": {},
   "toc_section_display": true,
   "toc_window_display": false
  },
  "varInspector": {
   "cols": {
    "lenName": 16,
    "lenType": 16,
    "lenVar": 40
   },
   "kernels_config": {
    "python": {
     "delete_cmd_postfix": "",
     "delete_cmd_prefix": "del ",
     "library": "var_list.py",
     "varRefreshCmd": "print(var_dic_list())"
    },
    "r": {
     "delete_cmd_postfix": ") ",
     "delete_cmd_prefix": "rm(",
     "library": "var_list.r",
     "varRefreshCmd": "cat(var_dic_list()) "
    }
   },
   "types_to_exclude": [
    "module",
    "function",
    "builtin_function_or_method",
    "instance",
    "_Feature"
   ],
   "window_display": false
  }
 },
 "nbformat": 4,
 "nbformat_minor": 2
}
