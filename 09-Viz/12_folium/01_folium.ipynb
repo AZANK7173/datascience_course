{
 "cells": [
  {
   "cell_type": "code",
   "execution_count": 1,
   "metadata": {
    "ExecuteTime": {
     "end_time": "2019-07-17T01:44:25.306738Z",
     "start_time": "2019-07-17T01:44:20.199617Z"
    }
   },
   "outputs": [
    {
     "data": {
      "application/vnd.jupyter.widget-view+json": {
       "model_id": "5f5e39f3afd14f16b3aeb36ecc3aa92b",
       "version_major": 2,
       "version_minor": 0
      },
      "text/plain": [
       "interactive(children=(FloatSlider(value=52.518611, description='lat', max=90.0, min=-90.0), FloatSlider(value=…"
      ]
     },
     "metadata": {},
     "output_type": "display_data"
    }
   ],
   "source": [
    "import folium\n",
    "from ipywidgets import interact\n",
    "\n",
    "# Cloudmade Mapbox needs an API key, Mapbox Control Room is limited to a few levels\n",
    "tiles = [name.strip() for name in \"\"\"\n",
    "    OpenStreetMap\n",
    "    Mapbox Bright\n",
    "    Mapbox Control Room\n",
    "    Stamen Terrain\n",
    "    Stamen Toner\n",
    "    Stamen Watercolor\n",
    "    CartoDB positron\n",
    "    CartoDB dark_matter\"\"\".strip().split('\\n')]\n",
    "\n",
    "@interact(lat=(-90., 90.), lon=(-180., 180.), tiles=tiles, zoom=(1, 18))\n",
    "def create_map(lat=52.518611, lon=13.408333, tiles=\"Stamen Toner\", zoom=10):\n",
    "    return folium.Map(location=(lat, lon), tiles=tiles, zoom_start=zoom)"
   ]
  },
  {
   "cell_type": "code",
   "execution_count": null,
   "metadata": {},
   "outputs": [],
   "source": []
  }
 ],
 "metadata": {
  "kernelspec": {
   "display_name": "Python 3",
   "language": "python",
   "name": "python3"
  },
  "language_info": {
   "codemirror_mode": {
    "name": "ipython",
    "version": 3
   },
   "file_extension": ".py",
   "mimetype": "text/x-python",
   "name": "python",
   "nbconvert_exporter": "python",
   "pygments_lexer": "ipython3",
   "version": "3.7.3"
  },
  "toc": {
   "base_numbering": 1,
   "nav_menu": {},
   "number_sections": true,
   "sideBar": true,
   "skip_h1_title": false,
   "title_cell": "Table of Contents",
   "title_sidebar": "Contents",
   "toc_cell": false,
   "toc_position": {},
   "toc_section_display": true,
   "toc_window_display": false
  },
  "varInspector": {
   "cols": {
    "lenName": 16,
    "lenType": 16,
    "lenVar": 40
   },
   "kernels_config": {
    "python": {
     "delete_cmd_postfix": "",
     "delete_cmd_prefix": "del ",
     "library": "var_list.py",
     "varRefreshCmd": "print(var_dic_list())"
    },
    "r": {
     "delete_cmd_postfix": ") ",
     "delete_cmd_prefix": "rm(",
     "library": "var_list.r",
     "varRefreshCmd": "cat(var_dic_list()) "
    }
   },
   "types_to_exclude": [
    "module",
    "function",
    "builtin_function_or_method",
    "instance",
    "_Feature"
   ],
   "window_display": false
  }
 },
 "nbformat": 4,
 "nbformat_minor": 2
}
