{
 "cells": [
  {
   "cell_type": "code",
   "execution_count": 7,
   "metadata": {},
   "outputs": [],
   "source": [
    "import matplotlib.pyplot as plt\n",
    "%matplotlib inline\n",
    "import numpy as np\n",
    "import pandas as pd\n",
    "from scipy import stats\n",
    "import seaborn as sns"
   ]
  },
  {
   "cell_type": "markdown",
   "metadata": {},
   "source": [
    "### (1) Três dados comuns e honestos serão lançados. A probabilidade de que o número 6 seja obtido mais de uma vez é: "
   ]
  },
  {
   "cell_type": "code",
   "execution_count": 5,
   "metadata": {},
   "outputs": [
    {
     "data": {
      "text/plain": [
       "0.07407407407407407"
      ]
     },
     "execution_count": 5,
     "metadata": {},
     "output_type": "execute_result"
    }
   ],
   "source": [
    "2/27"
   ]
  },
  {
   "cell_type": "code",
   "execution_count": 10,
   "metadata": {},
   "outputs": [
    {
     "name": "stdout",
     "output_type": "stream",
     "text": [
      "Wall time: 998 µs\n"
     ]
    },
    {
     "name": "stderr",
     "output_type": "stream",
     "text": [
      "C:\\Users\\sn3fru\\Anaconda3\\lib\\site-packages\\matplotlib\\axes\\_axes.py:6462: UserWarning: The 'normed' kwarg is deprecated, and has been replaced by the 'density' kwarg.\n",
      "  warnings.warn(\"The 'normed' kwarg is deprecated, and has been \"\n"
     ]
    },
    {
     "data": {
      "image/png": "[encoded data removed]",
      "text/plain": [
       "<Figure size 432x288 with 1 Axes>"
      ]
     },
     "metadata": {},
     "output_type": "display_data"
    }
   ],
   "source": [
    "# definimos a quantidade de ensaios.\n",
    "quantidade_ensaios = 10000\n",
    "\n",
    "# definimos a quantidade de lançamentos por ensaio.\n",
    "lançamentos = 3\n",
    "\n",
    "# definimos a probabilidade de obter cara em cada lançamento.\n",
    "probabilidade_sucesso = 1/6\n",
    "\n",
    "# binomial retorna o número de sucessos de cada vez que se realizou um ensaio de 8 lançamentos.\n",
    "%time samples_binomial = np.random.binomial(n = lançamentos, p = probabilidade_sucesso, size = quantidade_ensaios)\n",
    "\n",
    "# construímos um gráfico.\n",
    "eixo_x = 'Número de acertos por ensaio de 8 lançamentos'\n",
    "sns.distplot(samples_binomial, axlabel = eixo_x, kde = False);"
   ]
  },
  {
   "cell_type": "code",
   "execution_count": 16,
   "metadata": {},
   "outputs": [
    {
     "data": {
      "text/plain": [
       "0    5807\n",
       "1    3468\n",
       "2     665\n",
       "3      60\n",
       "dtype: int64"
      ]
     },
     "execution_count": 16,
     "metadata": {},
     "output_type": "execute_result"
    }
   ],
   "source": [
    "pd.value_counts(samples_binomial)"
   ]
  },
  {
   "cell_type": "code",
   "execution_count": 17,
   "metadata": {},
   "outputs": [
    {
     "data": {
      "text/plain": [
       "0.0725"
      ]
     },
     "execution_count": 17,
     "metadata": {},
     "output_type": "execute_result"
    }
   ],
   "source": [
    "(60+665)/10000"
   ]
  },
  {
   "cell_type": "markdown",
   "metadata": {},
   "source": [
    "### (2) Seja X uma variável aleatória que contém o número de caras saídas em 12 lançamentos de uma moeda honesta. Qual a probabilidade de sair 5 caras em 12 lançamentos, P(X=5)"
   ]
  },
  {
   "cell_type": "code",
   "execution_count": null,
   "metadata": {},
   "outputs": [],
   "source": [
    "\n"
   ]
  },
  {
   "cell_type": "markdown",
   "metadata": {},
   "source": [
    "### (3) Um departamento de polícia recebe em média 5 solicitações por hora.  Qual  a  probabilidade  de  receber  2 solicitações numa hora selecionada aleatoriamente? "
   ]
  },
  {
   "cell_type": "code",
   "execution_count": 2,
   "metadata": {},
   "outputs": [],
   "source": [
    "from math import e"
   ]
  },
  {
   "cell_type": "code",
   "execution_count": null,
   "metadata": {},
   "outputs": [],
   "source": []
  },
  {
   "cell_type": "markdown",
   "metadata": {},
   "source": [
    "### (4) (Meyer,2000) Suponha que Xt, o nº de partículas emitidas em t horas por uma fonte radioativa, tenha uma distribuição de Poisson com parâmetro 20t. Qual será a probabilidade de que exatamente 5 partículas sejam emitidas durante um período de 15 min?"
   ]
  },
  {
   "cell_type": "code",
   "execution_count": null,
   "metadata": {},
   "outputs": [],
   "source": []
  },
  {
   "cell_type": "markdown",
   "metadata": {},
   "source": [
    "### (5) Gere uma distribuição normal com o peso da população, utilize média=70, desvio=25 e 100 observações e Plot a Função Densidade de Probabilidade (fdp em português mas vocês acharam mais frequentemente pdf, probability density functions)."
   ]
  },
  {
   "cell_type": "code",
   "execution_count": null,
   "metadata": {},
   "outputs": [],
   "source": []
  },
  {
   "cell_type": "markdown",
   "metadata": {},
   "source": [
    "### (6) Normalize a distribuição anterior com z-score\n",
    "\n",
    "$Z \\sim \\dfrac{x - \\mu} {\\sigma^{2}\\,} $\n"
   ]
  },
  {
   "cell_type": "code",
   "execution_count": null,
   "metadata": {},
   "outputs": [],
   "source": []
  },
  {
   "cell_type": "markdown",
   "metadata": {},
   "source": [
    " \n",
    "\n",
    "![z-score e suas probabilidades](http://www.portalaction.com.br/sites/default/files/EstatisticaBasica/figuras/distribuicaoNormal/normal3.PNG)\n",
    "\n",
    "### (7) Sugira um procedimento para descobrirmos qual a probabilidade de um individuo ter peso menor que 20kg (não é necessário calcular, apenas descrever).\n",
    "\n",
    "- Vamos supor que a probabilidade encontrada é p%, seria possível descobrir a probabilidade de encontrar um individuo com mais de 120kg através de p%?\n",
    "- E se quisermos saber apenas a probabilidade de um individuo ter peso entre 70 e 120?"
   ]
  },
  {
   "cell_type": "code",
   "execution_count": null,
   "metadata": {},
   "outputs": [],
   "source": []
  },
  {
   "cell_type": "markdown",
   "metadata": {},
   "source": [
    "### Desafio 1 - Homework\n",
    "\n",
    "O número de vezes que um indivíduo tem gripe em determinado ano é uma\n",
    "variável aleatória de Poisson com λ = 5. Suponha que um novo medicamento reduza\n",
    "o parâmetro λ para 3 em 75% da população. Para os 25% restantes a droga não tem\n",
    "um efeito significativo. Se um indivíduo toma o medicamento durante um ano e tem\n",
    "duas gripes, qual a probabilidade de que o medicamento seja benéfico para ele\n",
    "(ela)? Com base nesse resultado, se o indivíduo soubesse essa probabilidade a\n",
    "priori, você acha que ele deveria continuar tomando o medicamento?"
   ]
  },
  {
   "cell_type": "code",
   "execution_count": null,
   "metadata": {},
   "outputs": [],
   "source": []
  }
 ],
 "metadata": {
  "kernelspec": {
   "display_name": "Python 3",
   "language": "python",
   "name": "python3"
  },
  "language_info": {
   "codemirror_mode": {
    "name": "ipython",
    "version": 3
   },
   "file_extension": ".py",
   "mimetype": "text/x-python",
   "name": "python",
   "nbconvert_exporter": "python",
   "pygments_lexer": "ipython3",
   "version": "3.6.5"
  }
 },
 "nbformat": 4,
 "nbformat_minor": 2
}
