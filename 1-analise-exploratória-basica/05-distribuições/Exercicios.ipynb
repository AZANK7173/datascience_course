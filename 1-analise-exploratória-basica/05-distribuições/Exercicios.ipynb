{
 "cells": [
  {
   "cell_type": "code",
   "execution_count": 4,
   "metadata": {},
   "outputs": [],
   "source": [
    "import matplotlib.pyplot as plt\n",
    "%matplotlib inline\n",
    "import numpy as np\n",
    "import pandas as pd\n",
    "from scipy import stats\n",
    "import seaborn as sns"
   ]
  },
  {
   "cell_type": "markdown",
   "metadata": {},
   "source": [
    "### (1) Seja X uma variável aleatória que contém o número de caras saídas em 12 lançamentos de uma moeda honesta. Qual a probabilidade de sair 5 caras em 12 lançamentos, P(X=5)"
   ]
  },
  {
   "cell_type": "code",
   "execution_count": null,
   "metadata": {},
   "outputs": [],
   "source": [
    "\n"
   ]
  },
  {
   "cell_type": "markdown",
   "metadata": {},
   "source": [
    "### (2) Um departamento de polícia recebe em média 5 solicitações por hora.  Qual  a  probabilidade  de  receber  2 solicitações numa hora selecionada aleatoriamente? "
   ]
  },
  {
   "cell_type": "code",
   "execution_count": 2,
   "metadata": {},
   "outputs": [],
   "source": [
    "from math import e"
   ]
  },
  {
   "cell_type": "code",
   "execution_count": null,
   "metadata": {},
   "outputs": [],
   "source": []
  },
  {
   "cell_type": "markdown",
   "metadata": {},
   "source": [
    "### (3) (Meyer,2000) Suponha que Xt, o nº de partículas emitidas em t horas por uma fonte radioativa, tenha uma distribuição de Poisson com parâmetro 20t. Qual será a probabilidade de que exatamente 5 partículas sejam emitidas durante um período de 15 min?"
   ]
  },
  {
   "cell_type": "code",
   "execution_count": null,
   "metadata": {},
   "outputs": [],
   "source": []
  },
  {
   "cell_type": "markdown",
   "metadata": {},
   "source": [
    "### (4) Gere uma distribuição normal com o peso da população, utilize média=70, desvio=25 e 100 observações e Plot a Função Densidade de Probabilidade (fdp em português mas vocês acharam mais frequentemente pdf, probability density functions)."
   ]
  },
  {
   "cell_type": "code",
   "execution_count": null,
   "metadata": {},
   "outputs": [],
   "source": []
  },
  {
   "cell_type": "markdown",
   "metadata": {},
   "source": [
    "### (5) Normalize a distribuição anterior com z-score\n",
    "\n",
    "$Z \\sim \\dfrac{x - \\mu} {\\sigma^{2}\\,} $\n"
   ]
  },
  {
   "cell_type": "code",
   "execution_count": null,
   "metadata": {},
   "outputs": [],
   "source": []
  },
  {
   "cell_type": "markdown",
   "metadata": {},
   "source": [
    " \n",
    "\n",
    "![z-score e suas probabilidades](http://www.portalaction.com.br/sites/default/files/EstatisticaBasica/figuras/distribuicaoNormal/normal3.PNG)\n",
    "\n",
    "### (6) Sugira um procedimento para descobrirmos qual a probabilidade de um individuo ter peso menor que 20kg (não é necessário calcular, apenas descrever).\n",
    "\n",
    "- Vamos supor que a probabilidade encontrada é p%, seria possível descobrir a probabilidade de encontrar um individuo com mais de 120kg através de p%?\n",
    "- E se quisermos saber apenas a probabilidade de um individuo ter peso entre 70 e 120?"
   ]
  },
  {
   "cell_type": "code",
   "execution_count": null,
   "metadata": {},
   "outputs": [],
   "source": []
  },
  {
   "cell_type": "markdown",
   "metadata": {},
   "source": [
    "### Desafio 1 - Homework\n",
    "\n",
    "O número de vezes que um indivíduo tem gripe em determinado ano é uma\n",
    "variável aleatória de Poisson com λ = 5. Suponha que um novo medicamento reduza\n",
    "o parâmetro λ para 3 em 75% da população. Para os 25% restantes a droga não tem\n",
    "um efeito significativo. Se um indivíduo toma o medicamento durante um ano e tem\n",
    "duas gripes, qual a probabilidade de que o medicamento seja benéfico para ele\n",
    "(ela)? Com base nesse resultado, se o indivíduo soubesse essa probabilidade a\n",
    "priori, você acha que ele deveria continuar tomando o medicamento?"
   ]
  },
  {
   "cell_type": "code",
   "execution_count": null,
   "metadata": {},
   "outputs": [],
   "source": []
  }
 ],
 "metadata": {
  "kernelspec": {
   "display_name": "Python 3",
   "language": "python",
   "name": "python3"
  },
  "language_info": {
   "codemirror_mode": {
    "name": "ipython",
    "version": 3
   },
   "file_extension": ".py",
   "mimetype": "text/x-python",
   "name": "python",
   "nbconvert_exporter": "python",
   "pygments_lexer": "ipython3",
   "version": "3.6.8"
  }
 },
 "nbformat": 4,
 "nbformat_minor": 2
}
