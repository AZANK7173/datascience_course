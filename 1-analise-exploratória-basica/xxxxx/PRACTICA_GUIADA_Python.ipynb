{
 "cells": [
  {
   "cell_type": "markdown",
   "metadata": {},
   "source": [
    "# Python Avançado"
   ]
  },
  {
   "cell_type": "markdown",
   "metadata": {},
   "source": [
    "## Tuplas, listas e dicionários"
   ]
  },
  {
   "cell_type": "code",
   "execution_count": null,
   "metadata": {
    "collapsed": true
   },
   "outputs": [],
   "source": [
    "aluno = (\"Fernando\",\"Gonzalez\",26)\n",
    "aluno"
   ]
  },
  {
   "cell_type": "markdown",
   "metadata": {},
   "source": [
    "Se eu quiser salvar os dados de todos os meus alunos, uso uma lista de tuplas:"
   ]
  },
  {
   "cell_type": "code",
   "execution_count": null,
   "metadata": {
    "collapsed": true
   },
   "outputs": [],
   "source": [
    "alunos = [(\"Fernando\",\"Gonzalez\",26),(\"Florencia\",\"Martinez\",32),(\"Florencia\",\"Martinez\",32)]\n",
    "alunos"
   ]
  },
  {
   "cell_type": "code",
   "execution_count": null,
   "metadata": {
    "collapsed": true
   },
   "outputs": [],
   "source": [
    "curso={\"ajudante\":(\"Javier\",\"Rodriguez\",32),\"professor\":(\"Marisol\",\"Andrade\",39)}\n",
    "curso"
   ]
  },
  {
   "cell_type": "markdown",
   "metadata": {},
   "source": [
    "### 2- Definição de funções"
   ]
  },
  {
   "cell_type": "code",
   "execution_count": null,
   "metadata": {
    "collapsed": true
   },
   "outputs": [],
   "source": [
    "# Escrever uma função que receba a longitude do lado de um quadrado e retorne a área do quadrado\n",
    "def areaSquare(lado): \n",
    "    return lado ** 2"
   ]
  },
  {
   "cell_type": "code",
   "execution_count": null,
   "metadata": {
    "collapsed": true
   },
   "outputs": [],
   "source": [
    "# Escrever uma função que receba o comprimento, largura e profundidade de um ”cuboide” e retorne a área da superfície do ”cuboide”\n",
    "def surfaceAreaCuboid(comprimento, largura, profundidade): \n",
    "    superfície = 2 * (comprimento * largura + comprimento * profundidade + largura * profundidade)\n",
    "    return superfície"
   ]
  },
  {
   "cell_type": "markdown",
   "metadata": {},
   "source": [
    "Agora chamamos às funções definidas anteriormente"
   ]
  },
  {
   "cell_type": "code",
   "execution_count": null,
   "metadata": {
    "collapsed": true
   },
   "outputs": [],
   "source": [
    "areaSquare(3)"
   ]
  },
  {
   "cell_type": "code",
   "execution_count": null,
   "metadata": {
    "collapsed": true
   },
   "outputs": [],
   "source": [
    "surfaceAreaCuboid(1,3,5)"
   ]
  },
  {
   "cell_type": "markdown",
   "metadata": {},
   "source": [
    "### 3 - Abrangências de listas\n",
    "\n",
    "### Abrangências de listas básicas\n",
    "\n"
   ]
  },
  {
   "cell_type": "markdown",
   "metadata": {},
   "source": [
    "#### O que são as abrangências de listas?\n",
    "\n",
    "As abrangências de listas são sentenças que realizam algum tipo de operação em cada elemento de uma lista. Vamos começar com uma lista simples de números:"
   ]
  },
  {
   "cell_type": "code",
   "execution_count": null,
   "metadata": {
    "collapsed": true
   },
   "outputs": [],
   "source": [
    "numbers = [0,1,2,3,4,5,6,7,8,9]"
   ]
  },
  {
   "cell_type": "markdown",
   "metadata": {},
   "source": [
    "Vamos supor que queremos somar 1 a cada elemento da lista. Poderíamos fazer isto de diferentes\n",
    "formas sem utilizar abrangências de listas. Poderíamos utilizar um for:"
   ]
  },
  {
   "cell_type": "code",
   "execution_count": null,
   "metadata": {
    "collapsed": true
   },
   "outputs": [],
   "source": [
    "nums_plus_one = []\n",
    "for num in numbers:\n",
    "    nums_plus_one.append(num + 1)"
   ]
  },
  {
   "cell_type": "code",
   "execution_count": null,
   "metadata": {
    "collapsed": true
   },
   "outputs": [],
   "source": [
    "nums_plus_one"
   ]
  },
  {
   "cell_type": "markdown",
   "metadata": {},
   "source": [
    "Felizmente, temos as abrangências de listas"
   ]
  },
  {
   "cell_type": "code",
   "execution_count": null,
   "metadata": {
    "collapsed": true
   },
   "outputs": [],
   "source": [
    "nums_plus_one = [x + 1 for x in numbers]"
   ]
  },
  {
   "cell_type": "code",
   "execution_count": null,
   "metadata": {
    "collapsed": true
   },
   "outputs": [],
   "source": [
    "nums_plus_one"
   ]
  },
  {
   "cell_type": "markdown",
   "metadata": {},
   "source": [
    "Vejamos detalhadamente como isto funciona:\n",
    "* num_plus_one é atribuída à esquerda como uma nova variável\n",
    "* As abrangências de listas retornam uma lista, e a sentença está entre colchetes: [...]\n",
    "* Entre os colchetes, a estrutura é similar à de um loop for:\n",
    "    1. A **operação por elemento** vem primeiro: x+1\n",
    "    2. Depois, vem a **variável de atribuição da iteração**: for x\n",
    "    3. Por último, a **lista de elementos sobre a qual iterar**: in numbers"
   ]
  },
  {
   "cell_type": "markdown",
   "metadata": {},
   "source": [
    "### Lógica condicional nas abrangências de listas"
   ]
  },
  {
   "cell_type": "markdown",
   "metadata": {},
   "source": [
    "As abrangências de listas não apenas servem para iterar sobre os elementos para aplicar alguma operação a eles, como também podem aplicar condições. \n",
    "Vamos supor que queremos \"binarizar\" uma variável de acordo com o fato de cada elemento ser maior ou menor/igual à metade do máximo de todos os elementos. O for para fazer isto poderia ser desta maneira:"
   ]
  },
  {
   "cell_type": "code",
   "execution_count": null,
   "metadata": {
    "collapsed": true
   },
   "outputs": [],
   "source": [
    "n = [1, 2, 7, 21, 3, 1, 62, 3, 34, 12, 73, 44, 12, 11, 9]\n",
    "n_bin = []\n",
    "n_max_2 = max(n) / 2\n",
    "for x in n:\n",
    "    if x >= n_max_2:\n",
    "        n_bin.append(1)\n",
    "    else:\n",
    "        n_bin.append(0)"
   ]
  },
  {
   "cell_type": "markdown",
   "metadata": {},
   "source": [
    "Mas isto exige muito código. Uma abrangência de listas pode fazer a mesma coisa de forma muito mais fácil:\n",
    "\n",
    "##### 3- A \"Binarizar\" n de tal forma que os valores maiores ou iguais à metade do máximo de n sejam 1, os outros 0"
   ]
  },
  {
   "cell_type": "markdown",
   "metadata": {},
   "source": [
    "Primeiro, vejamos como se interpreta uma expressão condicional em Python"
   ]
  },
  {
   "cell_type": "code",
   "execution_count": null,
   "metadata": {
    "collapsed": true
   },
   "outputs": [],
   "source": [
    "x = 2\n",
    "print (1 if x > 5 else 0)"
   ]
  },
  {
   "cell_type": "code",
   "execution_count": null,
   "metadata": {
    "collapsed": true
   },
   "outputs": [],
   "source": [
    "x = 7\n",
    "print (1 if x > 5 else 0)"
   ]
  },
  {
   "cell_type": "markdown",
   "metadata": {},
   "source": [
    "Agora criamos nossa lista usando uma abrangência de listas e uma expressão condicional"
   ]
  },
  {
   "cell_type": "code",
   "execution_count": null,
   "metadata": {
    "collapsed": true
   },
   "outputs": [],
   "source": [
    "n = [1, 2, 7, 21, 3, 1, 62, 3, 34, 12, 73, 44, 12, 11, 9]\n",
    "n_max_2 = max(n) / 2"
   ]
  },
  {
   "cell_type": "code",
   "execution_count": null,
   "metadata": {
    "collapsed": true
   },
   "outputs": [],
   "source": [
    "n_bin = [1 if x > n_max_2 else 0 for x in n]"
   ]
  },
  {
   "cell_type": "code",
   "execution_count": null,
   "metadata": {
    "collapsed": true
   },
   "outputs": [],
   "source": [
    "n_bin"
   ]
  },
  {
   "cell_type": "markdown",
   "metadata": {},
   "source": [
    "#### 3- B Filtrar uma lista\n",
    "\n",
    "As condicionais dentro de uma abrangência de listas também servem para filtrar os dados que quero manter. Neste caso, o \"if\" vai depois do for."
   ]
  },
  {
   "cell_type": "code",
   "execution_count": null,
   "metadata": {
    "collapsed": true
   },
   "outputs": [],
   "source": [
    "n = [100, 2, 423, 42, 15, 87, 67]"
   ]
  },
  {
   "cell_type": "markdown",
   "metadata": {},
   "source": [
    "Queremos obter apenas os elementos que estão entre 40 e 70"
   ]
  },
  {
   "cell_type": "code",
   "execution_count": null,
   "metadata": {
    "collapsed": true
   },
   "outputs": [],
   "source": [
    "[num for num in n if 70 >= num >= 40]"
   ]
  },
  {
   "cell_type": "markdown",
   "metadata": {},
   "source": [
    "### Funções em abrangências de listas\n"
   ]
  },
  {
   "cell_type": "markdown",
   "metadata": {},
   "source": [
    "Podemos realizar operações com várias listas ao mesmo tempo. Utilizar as funções **zip** e **enumerate** junto com abrangências de listas é muito útil. Primeiro vejamos o que cada uma destas funções faz.\n",
    "\n",
    "**zip** percorre cada elemento de duas listas de maneira iterativa ao mesmo tempo e combina cada fila de elementos em uma tupla:"
   ]
  },
  {
   "cell_type": "code",
   "execution_count": null,
   "metadata": {
    "collapsed": true
   },
   "outputs": [],
   "source": [
    "a = ['a','b','c','d']\n",
    "z = ['z','y','x','w']\n",
    "\n",
    "list(zip(a,z))"
   ]
  },
  {
   "cell_type": "code",
   "execution_count": null,
   "metadata": {
    "collapsed": true
   },
   "outputs": [],
   "source": [
    "zipped = []\n",
    "for a_i, z_i in zip(a, z):\n",
    "    zipped.append([a_i, z_i])\n",
    "\n",
    "zipped"
   ]
  },
  {
   "cell_type": "markdown",
   "metadata": {},
   "source": [
    "#### 3- C Combinar os elementos destas duas listas em pares (tuplas), item por item\n",
    "Observação: O output a ser obtido é [('a', 'z'), ('b', 'y'), ('c', 'x'), ('d', 'w')]"
   ]
  },
  {
   "cell_type": "code",
   "execution_count": null,
   "metadata": {
    "collapsed": true
   },
   "outputs": [],
   "source": [
    "a = ['a', 'b', 'c', 'd']\n",
    "z = ['z', 'y', 'x', 'w']"
   ]
  },
  {
   "cell_type": "code",
   "execution_count": null,
   "metadata": {
    "collapsed": true
   },
   "outputs": [],
   "source": [
    "zipped_lc = [x for x in zip(a,z)]\n",
    "zipped_lc"
   ]
  },
  {
   "cell_type": "markdown",
   "metadata": {},
   "source": [
    "**Nota**: Se quisermos obter apenas uma lista de tuplas, podemos usar o constructor list"
   ]
  },
  {
   "cell_type": "code",
   "execution_count": null,
   "metadata": {
    "collapsed": true
   },
   "outputs": [],
   "source": [
    "list(zip(a,z))"
   ]
  },
  {
   "cell_type": "markdown",
   "metadata": {},
   "source": [
    "#### 3- D Criar uma lista de pares (índice, valor)\n",
    "\n",
    "Observação: Usando abrangência de listas fica claro :)"
   ]
  },
  {
   "cell_type": "code",
   "execution_count": null,
   "metadata": {
    "collapsed": true
   },
   "outputs": [],
   "source": [
    "a = ['a','b','c','d']"
   ]
  },
  {
   "cell_type": "markdown",
   "metadata": {},
   "source": [
    "**enumerate** leva o \"registro\" do índice de cada elemento da lista:"
   ]
  },
  {
   "cell_type": "code",
   "execution_count": null,
   "metadata": {
    "collapsed": true
   },
   "outputs": [],
   "source": [
    "a = ['a','b','c','d']\n",
    "\n",
    "enumerated = []\n",
    "for i, a_i in enumerate(a):\n",
    "    enumerated.append([i, a_i])\n",
    "\n",
    "enumerated"
   ]
  },
  {
   "cell_type": "markdown",
   "metadata": {},
   "source": [
    "Agora, usando abrangência de listas:"
   ]
  },
  {
   "cell_type": "code",
   "execution_count": null,
   "metadata": {
    "collapsed": true
   },
   "outputs": [],
   "source": [
    "enumerated_lc =[x for x in enumerate(a)]\n",
    "enumerated_lc"
   ]
  },
  {
   "cell_type": "markdown",
   "metadata": {},
   "source": [
    "#### 3-E) Para cada elemento de cada lista, calcular a multiplicação do elemento da primeira lista por seu índice dividido pelo elemento da segunda lista\n",
    "\n",
    "Por exemplo, dadas estas duas listas:\n",
    "\n",
    "    list_one = [10, 15, 20, 25, 40]\n",
    "    list_two = [1, 2, 3, 4, 5]\n",
    "\n",
    "Retornar:\n",
    "\n",
    "[0, 7, 13, 18, 32]"
   ]
  },
  {
   "cell_type": "code",
   "execution_count": null,
   "metadata": {
    "collapsed": true
   },
   "outputs": [],
   "source": [
    "list_one = [10, 15, 20, 25, 40]\n",
    "list_two = [1, 2, 3, 4, 5]\n"
   ]
  },
  {
   "cell_type": "code",
   "execution_count": null,
   "metadata": {
    "collapsed": true
   },
   "outputs": [],
   "source": [
    "math_comp = [int((x * i) / y) for i, (x, y) in enumerate(zip(list_one, list_two))]\n",
    "math_comp"
   ]
  },
  {
   "cell_type": "markdown",
   "metadata": {},
   "source": [
    "### Abrangências de dicionários"
   ]
  },
  {
   "cell_type": "markdown",
   "metadata": {},
   "source": [
    "A abrangência não está limitada a listas. \n",
    "Podemos utilizar a abrangência para criar dicionários. \n",
    "Abaixo, um exemplo onde criamos um dicionário em que cada chave é o nome de uma espécie animal e seu valor é a longitude desse nome."
   ]
  },
  {
   "cell_type": "code",
   "execution_count": null,
   "metadata": {
    "collapsed": true
   },
   "outputs": [],
   "source": [
    "keys = ['dog', 'cat', 'bird', 'horse']\n",
    "dicc = {k:len(k) for k in keys}\n",
    "dicc"
   ]
  },
  {
   "cell_type": "markdown",
   "metadata": {},
   "source": [
    "##### 3-F) Criar um dicionário onde as keys sejam o animal e a chave seja o índice de cada letra do nome do del animal no abecedário\n"
   ]
  },
  {
   "cell_type": "code",
   "execution_count": null,
   "metadata": {
    "collapsed": true
   },
   "outputs": [],
   "source": [
    "def indiceAbecedario(letra):\n",
    "    return ord(letra.lower()) - 96"
   ]
  },
  {
   "cell_type": "markdown",
   "metadata": {},
   "source": [
    "A função indiceAbecedario retorna a que número de letra do abecedário corresponde à letra passada como parâmetro"
   ]
  },
  {
   "cell_type": "code",
   "execution_count": null,
   "metadata": {
    "collapsed": true
   },
   "outputs": [],
   "source": [
    "indiceAbecedario('b')"
   ]
  },
  {
   "cell_type": "code",
   "execution_count": null,
   "metadata": {
    "collapsed": true
   },
   "outputs": [],
   "source": [
    "keys = ['dog', 'cat', 'bird', 'horse']\n",
    "dicc = {k:[indiceAbecedario(x) for x in k] for k in keys}\n",
    "dicc"
   ]
  },
  {
   "cell_type": "markdown",
   "metadata": {},
   "source": [
    "#### 3-F Criar um dicionário onde as chaves sejam os nomes de coluna e seus valores correspondentes"
   ]
  },
  {
   "cell_type": "code",
   "execution_count": null,
   "metadata": {
    "collapsed": true
   },
   "outputs": [],
   "source": [
    "column_names = ['height','weight','is_male']\n",
    "values = [[62, 54, 60, 50], [180, 120, 200, 100], [True, False, True, False]]"
   ]
  },
  {
   "cell_type": "code",
   "execution_count": null,
   "metadata": {
    "collapsed": true
   },
   "outputs": [],
   "source": [
    "dicc = {k:v for k, v in zip(column_names, values)}\n",
    "dicc"
   ]
  }
 ],
 "metadata": {
  "kernelspec": {
   "display_name": "Python 3",
   "language": "python",
   "name": "python3"
  },
  "language_info": {
   "codemirror_mode": {
    "name": "ipython",
    "version": 3
   },
   "file_extension": ".py",
   "mimetype": "text/x-python",
   "name": "python",
   "nbconvert_exporter": "python",
   "pygments_lexer": "ipython3",
   "version": "3.6.4"
  }
 },
 "nbformat": 4,
 "nbformat_minor": 2
}
