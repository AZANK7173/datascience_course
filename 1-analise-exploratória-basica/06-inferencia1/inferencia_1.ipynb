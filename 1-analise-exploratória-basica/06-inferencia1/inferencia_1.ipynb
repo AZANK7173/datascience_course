{
 "cells": [
  {
   "cell_type": "markdown",
   "metadata": {},
   "source": [
    "# Introdução à Inferência Estatística\n",
    "\n",
    "*fonte: Wikipedia*\n",
    "\n",
    "Inferência estatística é um ramo da Estatística cujo objetivo é fazer afirmações a partir de um conjunto de valores representativo (amostra) sobre um universo (população), sendo que assume-se que a população é muito maior do que o conjunto de dados observados, a amostra. Tal tipo de afirmação deve sempre vir acompanhada de uma medida de precisão sobre sua veracidade. Para realizar este trabalho o estatístico coleta informações de dois tipos, experimentais (as amostras) e aquelas que obtém na literatura. As duas principais escolas de inferência são a inferência frequencista (ou clássica) e a inferência bayesiana.\n",
    "\n",
    "A inferência estatística é geralmente distinta da estatística descritiva. A descrição estatística pode ser vista como a simples apresentação dos fatos, nos quais o modelo de decisões feito pelo analista tem pouca influência. É natural que análises estatísticas avancem, indo da descrição para a inferência de padrões. Essa última tarefa depende do modelo usado e/ou criado pelo analista dos dados. \n",
    "\n",
    "Na prática, a matematica é mais dedutiva e a inferência é indutiva.\n",
    "\n",
    "- Parâmetros -> População\n",
    "- Estatisticas -> Amostra\n",
    "\n",
    "<br>\n",
    "<img src=\"img/estatistica.png\" width=\"450\" />\n",
    "<br>\n",
    "\n",
    "### Conceitos fundamentais para a compreeensão da estatística\n",
    "\n",
    "- **Viés**: Viés ou erro sistemático é a distorção sistemática entre a medida de uma variável estatística e o valor real da grandeza a estimar. A introdução de um viés no cálculo estatístico pode estar ligada quer a imperfeição ou deformação da amostra (estatística) que serve de base para a estimativa, quer ao próprio método de avaliação. Estudaremos **viés** na aula de **Inferência 2**.\n",
    "\n",
    "- **Intervalos de confiança**:  Intervalo de confiança (IC) é um tipo de estimativa por intervalo de um parâmetro populacional desconhecido.\n",
    "\n",
    "- **Testes de hipóteses**: ou teste de significância é um procedimento estatístico que permite tomar uma decisão (aceitar ou rejeitar a hipótese).\n",
    "\n",
    "Vamos então aprofundar agora os conceitos de **intervalo de confiança** e **teste de hipótese**, e deixar viés para a próxima aula."
   ]
  },
  {
   "cell_type": "markdown",
   "metadata": {},
   "source": [
    "## Intervalo de Confiança\n",
    "\n",
    "*fonte: Wikipedia*\n",
    "\n",
    "Em estatística, intervalo de confiança (IC) é um tipo de estimativa por intervalo de um parâmetro populacional desconhecido. Introduzido na estatística por Jerzy Neyman em 1937, é um intervalo observado (calculado a partir de observações) que pode variar de amostra para amostra e que com dada frequência (nível de confiança) inclui o parâmetro de interesse real não observável.\n",
    "\n",
    "Como os dados observados são amostras aleatórias da população, o intervalo de confiança construído a partir dos dados também é aleatório. Entretanto, o intervalo de confiança calculado a partir de uma amostra particular não inclui necessariamente o valor real do parâmetro. Quando se tem 99% de confiança de que o valor real do parâmetro está no intervalo de confiança, significa que 99% dos intervalos de confiança observados têm o valor real do parâmetro. Tomando–se qualquer amostra particular, o parâmetro populacional desconhecido pode ou não pode estar no intervalo de confiança observado.\n",
    "\n",
    "<br>\n",
    "<img src=\"img/intervalo_de_confianca.png\" width=\"700\" />\n",
    "<br>"
   ]
  },
  {
   "cell_type": "markdown",
   "metadata": {},
   "source": [
    "# Teste de Hipóteses\n",
    "\n",
    "Teste de hipóteses, teste estatístico ou teste de significância é um procedimento estatístico que permite tomar uma decisão (aceitar ou rejeitar a hipótese nula ${H_0}$ entre duas ou mais hipóteses (geralmente adota-se hipótese nula ${H_0}$ e hipótese alternativa ${H_1}$), utilizando os dados observados de um determinado experimento. Há diversos métodos para realizar o teste de hipóteses, que incluem Fisher (teste de significância), o método de Neyman–Pearson, método de Bayes, e o método t-Student.\n",
    "\n",
    "Por meio da teoria da probabilidade, é possível inferir sobre quantidades de interesse de uma população a partir de uma amostra observada de um experimento científico. Por exemplo, estimar pontualmente e de forma intervalar um parâmetro de interesse, testar se uma determinada teoria científica deve ser descartada, verificar se um lote de remédios deve ser devolvido por falta de qualidade, entre outros. Por meio do rigor matemático, a inferência estatística pode ser utilizada para auxiliar a tomada de decisões nas mais variadas áreas.\n",
    "\n",
    "<br>\n",
    "<img src=\"img/zona_aceitacao.png\" width=\"450\" />\n",
    "<br>\n",
    "\n",
    "Portanto, para um teste de hipóteses teremos geralmente:\n",
    "\n",
    "- Hipótese nula ${H_0}$: é a hipótese assumida como verdadeira para a construção do teste. É a teoria, o efeito ou a alternativa que se está interessado em testar e **não rejeitar**.\n",
    "\n",
    "- Hipótese alternativa ${H_1}$: é considerada quando a hipótese nula não tem evidência estatística.\n",
    "\n",
    "Os testes de hipóteses são utilizados para determinar quais resultados de um estudo científico podem levar à rejeição da hipótese nula ${H_0}$ a um nível de significância pré–estabelecido. O estudo da teoria das probabilidades e a determinação da estatística de teste correta são fundamentais para a coerência de um teste de hipótese. Se as hipóteses do teste de hipóteses não forem assumidas de maneira correta, o resultado será incorreto e a informação será incoerente com a questão do estudo científico. Os tipos conceituais de erro (erro do tipo I e erro do tipo II) e os limites paramétricos ajudam a distinguir entre a hipótese nula ${H_0}$ e a hipótese alternativa ${H_1}$.\n",
    "\n",
    "<br>\n",
    "<img src=\"img/erro_tabela.png\">\n",
    "<br>\n",
    "\n",
    "Graficamente temos:\n",
    "\n",
    "<br>\n",
    "<br>\n",
    "<img src=\"img/erros.png\" width=\"600\" />\n",
    "<br>\n",
    "<br>"
   ]
  },
  {
   "cell_type": "markdown",
   "metadata": {},
   "source": [
    "## Procedimentos para fazer um Teste de Hipótese com uma amostra\n",
    "\n",
    "É apropriado para comparar a amostra com a população a partir da hipótese. As características da população são conhecidas a partir da teoria ou são calculadas a partir da população.\n",
    "\n",
    "- (1) Escolher a hipótese a ser testada\n",
    "- (2) Dependendo do que se quer testar, escolher a estatística a ser usada na comparação dos valores na realização do teste de hipóteses\n",
    "\n",
    "Vamos ver agora os tipos de teste mais comuns para **mostragem alearórias simples - uma variável**.\n",
    "\n",
    "### Teste da média ou t-Student\n",
    "\n",
    "Por exemplo, para se testar um certo valor $\\overline x$ como média da hipótese de uma população com média $\\mu_0$ e variância $\\sigma^2$ conhecida, devemos utilizar a transformação seguinte, com $n$ observações:\n",
    "\n",
    "<br>\n",
    "$$z=\\frac{\\overline x-\\mu_0}{\\sigma / \\sqrt{n}}$$\n",
    "<br>\n",
    "\n",
    "onde:\n",
    "\n",
    "- ${\\bar x}$ - valor médio da hipótese\n",
    "- ${\\mu_0}$ - valor medio da amostra\n",
    "- ${\\sigma}$ - desvio padrão amostral\n",
    "- ${n}$ - tamanho da amostra\n",
    "\n",
    "Caso o desvio padrão da população seja desconhecido, utilizamos o desvio padrão da amostra ${s}$:\n",
    "\n",
    "<br>\n",
    "$$z=\\frac{\\overline x-\\mu_0}{s / \\sqrt{n}}$$\n",
    "<br>\n",
    "\n",
    "Para este caso, o desvio padrão amostral ${s}$ será:\n",
    "\n",
    "<br>\n",
    "$$s=\\sqrt{\\frac{\\sum(x_i-\\overline x)²}{n-1}}$$\n",
    "<br>\n",
    "\n",
    "Para melhor visualização do teste de hipóteses da média, a figura abaixo ilustra a média $\\mu_0$ da amostra com a grande região de não rejeição, e a média da hipótese à esquerda gerando uma segunda curva normal e as regiões de rejeição para o **erro tipo I** e o **erro tipo II** em destaque.\n",
    "\n",
    "<br>\n",
    "<br>\n",
    "<img src=\"img/Teste_T_Gráfico_bicaudal.gif\" width=\"450\" />\n",
    "<br>\n",
    "<br>\n",
    "\n",
    "### Teste da variância\n",
    "\n",
    "Para se testar a variância, deveremos utilizar a estatística *Ki-Quadrado*, com $(n-1)$ graus de liberdade\n",
    "\n",
    "<br>\n",
    "$$\\chi^2 = \\frac{(n-1)s^2}{\\sigma_0}$$\n",
    "<br>\n",
    "\n",
    "### Teste da proporção\n",
    "\n",
    "O teste a proporção é análogi ao teste das médias, só que para valores de proporção: \n",
    "\n",
    "<br>\n",
    "$$z=\\frac{p\\prime-p_0}{\\sqrt{\\frac{p_0-(1-p_0)}{n}}}$$\n",
    "<br>"
   ]
  },
  {
   "cell_type": "markdown",
   "metadata": {},
   "source": [
    "## Valor crítico e região crítica\n",
    "\n",
    "Com a estatística escolhida e com o nível de significância $\\alpha$ escolhido, é possível encontrar o **valor crítico** e também a **região crítica**. \n",
    "\n",
    "#### Nível de significância e p-value\n",
    "\n",
    "Para ciência, o nível de significância adotado em geral é 0.95, o que torna o valor critico para *p-value* = 0.05 (1-p).\n",
    "\n",
    "Como veremos nos exemplos mais adiante, para se testar um certo valor de média da hipótese nula ${\\bar x}$, com a média nominal ${\\mu_0}$, o desvio padrão ${\\sigma}$ e o tamanho da amostra ${n}$, deve-se calcular o intervalo de confiança e, caso a média da hipótese esteja dentro do intervalo de confiança, então **não rejeitamos** a hipótese nula, caso contrário, a hipótese nula deve ser **rejeitada**.\n",
    "\n",
    "Segundo a figura abaixo, conseguimos visualizar a região central chamada de região de aceitação ou não rejeição, contendo 95% da área sob a curva de densidade de distribuição da variável em estudo, e a região crítica representada pelas duas bordas nas extremidades direita e esquerda, cada uma somando 2.5% da área sob a curva, totalizando os 5% remanescentes que justificam o valor crítico de *p-value* = 0.05. É interessante observar os valores críticos de **z-score** (como veremos adiante) em -1.96 (à esquerda) e 1.96 (à direita).\n",
    "\n",
    "<br>\n",
    "<img src=\"img/teste_hipotese.png\" width=\"450\" />\n",
    "<br>"
   ]
  },
  {
   "cell_type": "markdown",
   "metadata": {},
   "source": [
    "## Teste de Hipóteses com duas amostras\n",
    "\n",
    "É apropriado para comparar duas amostras, tipicamente amostra experimental e amostra de controle a partir de um experimento cientificamente controlado. Também pode ser chamado de **teste para comparação de 2 médias**.\n",
    "\n",
    "### Teste pareado\n",
    "\n",
    "É apropriado para comparar duas amostras quando é impossível controlar variáveis importantes. Em vez de comparar dois conjuntos, os componentes são pareados entre amostras. Então, a diferença entre os componentes se torna a amostra. Tipicamente a média das diferenças é comparada a 0. O cenário comum de exemplo para quando o teste pareado é apropriado é quando um único conjunto de sujeitos de teste tem algo aplicado a eles e o teste destina-se a verificar um efeito.\n",
    "\n",
    "Calculamos as diferenças dos valores das amostras e calculamos $\\overline x$ e $s$ das diferenças e usamos a estatística:\n",
    "<br><br>\n",
    "$$t=\\frac{\\overline x- \\mu_0}{s / \\sqrt{n}} \\sim t(n-1)$$\n",
    "<br>\n",
    "\n",
    "Onde $s$ é o desvio padrão amostral:\n",
    "\n",
    "<br>\n",
    "$$s=\\sqrt{\\frac{\\sum(x_i-\\overline x)²}{n-1}}$$\n",
    "<br>\n",
    "\n",
    "### Duas amostras independentes\n",
    "\n",
    "#### Médias e variâncias conhecidas:\n",
    "\n",
    "Teste de hipóteses para duas amostras independentes, com médias conhecidas $\\overline x_1$ e $\\overline x_2$, e variâncias conhecidas $\\sigma_1²$ e $\\sigma_2²$, sendo a diferença entra suas médias dada por $\\mu_1-\\mu_2=\\triangle$:\n",
    "\n",
    "<br>\n",
    "$$z=\\frac{(\\overline x_1-\\overline x_2)- \\triangle} {\\sqrt{\\frac{\\sigma_1²}{n_1}+\\frac{\\sigma_2²}{n_2}}} \\sim N(0;1)$$\n",
    "<br>\n",
    "\n",
    "#### Médias conhecidas e variâncias desconhecidas porém iguais:\n",
    "\n",
    "Caso as variâncias sejam desconhecidas porém iguais, utilizamos o desvio padrão amostral $s$, com $\\mu_1-\\mu_2=\\triangle$:\n",
    "\n",
    "<br>\n",
    "$$t=\\frac{(\\overline x_1-\\overline x_2)-\n",
    "           \\triangle}\n",
    "         {s_p\\sqrt{\\frac{1}{n_1}+\\frac{1}{n_2}}} \\sim t(n_1+n_2-2)$$\n",
    "<br>\n",
    "\n",
    "#### Médias conhecidas, variâncias desconhecidas e diferentes:\n",
    "\n",
    "Caso as variâncias sejam desconhecidas porém iguais, utilizamos os desvios padrão amostrais $s_1$ e $s_2$, com $\\mu_1-\\mu_2=\\triangle$:\n",
    "\n",
    "<br>\n",
    "$$t=\\frac{(\\overline x_1-\\overline x_2)- \\triangle} {\\sqrt{\\frac{s_1²}{n_1}+\\frac{s_2²}{n_2}}} \\sim t(\\phi)$$\n",
    "<br>\n",
    "\n",
    "#### Teste para a comparação de duas Variâncias (Teste F):\n",
    "\n",
    "É comumente usado para decidir se agrupamentos de dados por categorias são significativos. A hipótese nula é que duas variâncias são as mesmas, então o agrupamento proposto não é significativo. A estatística a ser usada será:\n",
    "\n",
    "<br>\n",
    "$$F=\\frac{s_1²}{s_2²}$$\n",
    "<br>"
   ]
  },
  {
   "cell_type": "markdown",
   "metadata": {},
   "source": [
    "### Teste para Várias Médias - ANOVA (Analysis of Variance)\n",
    "\n",
    "Análise de variância é a técnica estatística que permite avaliar afirmações sobre as médias de populações. A análise visa, fundamentalmente, verificar se existe uma diferença significativa entre as médias e se os fatores exercem influência em alguma variável dependente, com $k$ populaçõess com médias $\\mu_i$ desconhecidas.\n",
    "\n",
    "Os pressupostos básicos da análise de variância são:\n",
    "\n",
    "- As amostras são aleatórias e independentes\n",
    "- As populações têm distribuição normal (o teste é paramétrico)\n",
    "- As variâncias populacionais são iguais\n",
    "\n",
    "Na prática, esses pressupostos não precisam ser todos rigorosamente satisfeitos. Os resultados são empiricamente verdadeiros sempre que as populações são aproximadamente normais (isso é, não muito assimétricas) e têm variâncias próximas. \n",
    "\n",
    "Queremos testar se as $k$ médias são iguais, para isto vamos utilizara tabela **ANOVA - Analysis of Variance**\n",
    "\n",
    "Variação dos dados:\n",
    "\n",
    "<br>\n",
    "$$SQT = \\sum_{i=1}^{k}\\sum_{j=1}^{n_i} (x_{ij}- \\overline x)^2 = \n",
    "        \\sum_{i=1}^{k}\\sum_{j=1}^{n_i} x_{ij}^2 - \n",
    "        \\frac{1}{n}\\Big(\\sum_{i=1}^{k}\\sum_{j=1}^{n_i} x_{ij}\\Big)^2 $$\n",
    "<br><br>\n",
    "$$SQE = \\sum_{i=1}^{k} n_i(\\overline x_{i}- \\overline x)^2 =\n",
    "        \\sum_{i=1}^{k} \\frac{1}{n_i}\\Big (\\sum_{j=1}^{n_i} x_{ij}\\Big)^2 -\n",
    "        \\frac{1}{n}\\Big(\\sum_{i=1}^{k}\\sum_{j=1}^{n_i} x_{ij}\\Big)^2 $$\n",
    "<br><br>\n",
    "$$SQR =  \\sum_{i=1}^{k}\\sum_{j=1}^{n_i} x_{ij}^2 -\n",
    "         \\sum_{i=1}^{k} \\frac{1}{n_i}\\Big (\\sum_{j=1}^{n_i} x_{ij}\\Big)^2$$\n",
    "<br><br>\n",
    "Verifica-se que:\n",
    "\n",
    "$$SQT=SQE+SQR$$\n",
    "\n",
    "onde:\n",
    "\n",
    "- SQT: Soma dos Quadrados Total\n",
    "- SQE: Soma dos Quadrados Explicada\n",
    "- SQR: Soma dos Quadrados dos Resíduos\n",
    "\n",
    "<br><br>\n",
    "<img src=\"img/anova.png\" width=\"450\" />\n",
    "<br><br>\n",
    "\n",
    "Dentro das premissas de variáveis aleatórias e independentes, o ideal é que cada uma das variáveis de um modelo explique uma determinadda parte da variável dependente. Com isso, podemos imaginar como o *fit* desejado, veriáveis independentes entre si conforme ilustrado na figura abaixo.\n",
    "\n",
    "<br><br>\n",
    "<img src=\"img/anova_explicada.png\" width=\"350\" />\n",
    "<br><br>"
   ]
  },
  {
   "cell_type": "markdown",
   "metadata": {},
   "source": [
    "# Exemplos práticos"
   ]
  },
  {
   "cell_type": "markdown",
   "metadata": {},
   "source": [
    "## Exemplo (1): Fomos contratados por uma empresa de loteria para pesquisar a proporção de clientes que compra determinado produto. A empresa manterá seu atual planejamento de marketing se a sua participação de mercado for de 50% ou mais, caso contrário, ela triplicará seus gastos em publicidade. \n",
    "\n",
    "- Hipótese Nula ($H_0$): 50% ou mais do mercado compra na lotérica (sem investimento adicional em MKT)\n",
    "- Hipeotese Alternativa ($H_1$): menos de 50% do mercado compra na lotérica (trplicar o investimento em MKT)"
   ]
  },
  {
   "cell_type": "markdown",
   "metadata": {},
   "source": [
    "### Importando as bilbiotecas necessárias"
   ]
  },
  {
   "cell_type": "code",
   "execution_count": 2,
   "metadata": {},
   "outputs": [],
   "source": [
    "import numpy as np\n",
    "import pandas as pd\n",
    "import scipy.stats as st\n",
    "import matplotlib.pyplot as plt\n",
    "%matplotlib inline"
   ]
  },
  {
   "cell_type": "markdown",
   "metadata": {},
   "source": [
    "### Base de dados\n",
    "\n",
    "A base de dados será criada com o numpy.binomial como um teste de 100 observações aleatórias com valores 0 e 1 (que define se o cliente compra ou não na casa lotérica), com parâmetro de distribuição p=0.4 (que define o target da média).\n",
    "\n",
    "### Criando um DataFrame com os dados"
   ]
  },
  {
   "cell_type": "code",
   "execution_count": 10,
   "metadata": {},
   "outputs": [
    {
     "data": {
      "text/html": [
       "<div>\n",
       "<style scoped>\n",
       "    .dataframe tbody tr th:only-of-type {\n",
       "        vertical-align: middle;\n",
       "    }\n",
       "\n",
       "    .dataframe tbody tr th {\n",
       "        vertical-align: top;\n",
       "    }\n",
       "\n",
       "    .dataframe thead th {\n",
       "        text-align: right;\n",
       "    }\n",
       "</style>\n",
       "<table border=\"1\" class=\"dataframe\">\n",
       "  <thead>\n",
       "    <tr style=\"text-align: right;\">\n",
       "      <th></th>\n",
       "      <th>compra_ou_não</th>\n",
       "    </tr>\n",
       "  </thead>\n",
       "  <tbody>\n",
       "    <tr>\n",
       "      <th>0</th>\n",
       "      <td>1</td>\n",
       "    </tr>\n",
       "    <tr>\n",
       "      <th>1</th>\n",
       "      <td>0</td>\n",
       "    </tr>\n",
       "    <tr>\n",
       "      <th>2</th>\n",
       "      <td>0</td>\n",
       "    </tr>\n",
       "    <tr>\n",
       "      <th>3</th>\n",
       "      <td>0</td>\n",
       "    </tr>\n",
       "    <tr>\n",
       "      <th>4</th>\n",
       "      <td>0</td>\n",
       "    </tr>\n",
       "    <tr>\n",
       "      <th>5</th>\n",
       "      <td>0</td>\n",
       "    </tr>\n",
       "    <tr>\n",
       "      <th>6</th>\n",
       "      <td>0</td>\n",
       "    </tr>\n",
       "    <tr>\n",
       "      <th>7</th>\n",
       "      <td>0</td>\n",
       "    </tr>\n",
       "    <tr>\n",
       "      <th>8</th>\n",
       "      <td>1</td>\n",
       "    </tr>\n",
       "    <tr>\n",
       "      <th>9</th>\n",
       "      <td>1</td>\n",
       "    </tr>\n",
       "  </tbody>\n",
       "</table>\n",
       "</div>"
      ],
      "text/plain": [
       "   compra_ou_não\n",
       "0              1\n",
       "1              0\n",
       "2              0\n",
       "3              0\n",
       "4              0\n",
       "5              0\n",
       "6              0\n",
       "7              0\n",
       "8              1\n",
       "9              1"
      ]
     },
     "execution_count": 10,
     "metadata": {},
     "output_type": "execute_result"
    }
   ],
   "source": [
    "p=0.4\n",
    "testes=1\n",
    "obs=100\n",
    "df = pd.DataFrame([int(n) for n in np.random.binomial(testes, p, obs)], \n",
    "                  columns= ['compra_ou_não'])\n",
    "df.head(10)\n",
    "\n",
    "# soma de 1's / total de linhas = obs"
   ]
  },
  {
   "cell_type": "code",
   "execution_count": 11,
   "metadata": {},
   "outputs": [
    {
     "data": {
      "text/plain": [
       "<matplotlib.axes._subplots.AxesSubplot at 0x10d80df28>"
      ]
     },
     "execution_count": 11,
     "metadata": {},
     "output_type": "execute_result"
    },
    {
     "data": {
      "image/png": "[encoded data removed]",
      "text/plain": [
       "<Figure size 432x288 with 1 Axes>"
      ]
     },
     "metadata": {},
     "output_type": "display_data"
    }
   ],
   "source": [
    "df.plot.hist()"
   ]
  },
  {
   "cell_type": "markdown",
   "metadata": {},
   "source": [
    "### Calculando a média e o intervalo de confiança"
   ]
  },
  {
   "cell_type": "code",
   "execution_count": 12,
   "metadata": {},
   "outputs": [
    {
     "data": {
      "text/plain": [
       "0.53"
      ]
     },
     "execution_count": 12,
     "metadata": {},
     "output_type": "execute_result"
    }
   ],
   "source": [
    "df.compra_ou_não.mean()"
   ]
  },
  {
   "cell_type": "code",
   "execution_count": 13,
   "metadata": {},
   "outputs": [
    {
     "data": {
      "text/plain": [
       "(0.4316855492071688, 0.6283144507928312)"
      ]
     },
     "execution_count": 13,
     "metadata": {},
     "output_type": "execute_result"
    }
   ],
   "source": [
    "mean = df.compra_ou_não.mean()\n",
    "sigma = df.compra_ou_não.std()\n",
    "n = len(df.compra_ou_não)\n",
    "\n",
    "st.norm.interval(0.95, loc=mean, scale=sigma/np.sqrt(n))"
   ]
  },
  {
   "cell_type": "markdown",
   "metadata": {},
   "source": [
    "Já podemos perceber qual a média das pessoas que são clientes da casa lotérica, e se a nossa hipótese nula pode ser rejeitada, mas vamos calcular o t-Student e o p-value."
   ]
  },
  {
   "cell_type": "markdown",
   "metadata": {},
   "source": [
    "### Calculando o t-Student e o p-value"
   ]
  },
  {
   "cell_type": "code",
   "execution_count": 15,
   "metadata": {},
   "outputs": [
    {
     "data": {
      "text/plain": [
       "Ttest_1sampResult(statistic=0.5980699588110716, pvalue=0.5511590111236772)"
      ]
     },
     "execution_count": 15,
     "metadata": {},
     "output_type": "execute_result"
    }
   ],
   "source": [
    "st.ttest_1samp(df.compra_ou_não,0.5) "
   ]
  },
  {
   "cell_type": "markdown",
   "metadata": {},
   "source": [
    "### Segundo o p-value, podemos não-rejeitar a hipótese nula?"
   ]
  },
  {
   "cell_type": "code",
   "execution_count": 25,
   "metadata": {},
   "outputs": [
    {
     "data": {
      "text/plain": [
       "0.5511590111236772"
      ]
     },
     "execution_count": 25,
     "metadata": {},
     "output_type": "execute_result"
    }
   ],
   "source": [
    "# Isolando o p-value calculado\n",
    "\n",
    "p_value = st.ttest_1samp(df.compra_ou_não,0.5)[1]\n",
    "p_value"
   ]
  },
  {
   "cell_type": "code",
   "execution_count": 18,
   "metadata": {},
   "outputs": [
    {
     "data": {
      "text/plain": [
       "True"
      ]
     },
     "execution_count": 18,
     "metadata": {},
     "output_type": "execute_result"
    }
   ],
   "source": [
    "p_value > 0.05"
   ]
  },
  {
   "cell_type": "markdown",
   "metadata": {},
   "source": [
    "### Segundo o t-Student, podemos não rejeitar a hipótese nula?"
   ]
  },
  {
   "cell_type": "code",
   "execution_count": 23,
   "metadata": {},
   "outputs": [
    {
     "data": {
      "text/plain": [
       "0.5980699588110716"
      ]
     },
     "execution_count": 23,
     "metadata": {},
     "output_type": "execute_result"
    }
   ],
   "source": [
    "# Isolando o t-Student calculado\n",
    "\n",
    "t_student = st.ttest_1samp(df.compra_ou_não,0.5)[0]\n",
    "t_student"
   ]
  },
  {
   "cell_type": "code",
   "execution_count": 20,
   "metadata": {},
   "outputs": [
    {
     "name": "stdout",
     "output_type": "stream",
     "text": [
      "0.43 <---> 0.63\n"
     ]
    }
   ],
   "source": [
    "# Calculando o intervalo de confiança\n",
    "\n",
    "limite_inferior = st.norm.interval(0.95, loc=mean, scale=sigma/np.sqrt(n))[0]\n",
    "limite_superior = st.norm.interval(0.95, loc=mean, scale=sigma/np.sqrt(n))[1]\n",
    "print(\"%.2f\" % limite_inferior,'<--->', \"%.2f\" % limite_superior)  "
   ]
  },
  {
   "cell_type": "code",
   "execution_count": 22,
   "metadata": {},
   "outputs": [
    {
     "name": "stdout",
     "output_type": "stream",
     "text": [
      "-1.96 <---> 1.96\n"
     ]
    }
   ],
   "source": [
    "# Calculando o t-Student crítico\n",
    "\n",
    "t_student_critico_superior = st.ttest_1samp(df.compra_ou_não,limite_inferior)[0]\n",
    "t_student_critico_inferior = st.ttest_1samp(df.compra_ou_não,limite_superior)[0]\n",
    "print(\"%.2f\" % t_student_critico_inferior,'<--->',\"%.2f\" %  t_student_critico_superior)"
   ]
  },
  {
   "cell_type": "code",
   "execution_count": 24,
   "metadata": {},
   "outputs": [
    {
     "data": {
      "text/plain": [
       "True"
      ]
     },
     "execution_count": 24,
     "metadata": {},
     "output_type": "execute_result"
    }
   ],
   "source": [
    "t_student_critico_inferior < t_student < t_student_critico_superior"
   ]
  },
  {
   "cell_type": "markdown",
   "metadata": {},
   "source": []
  },
  {
   "cell_type": "code",
   "execution_count": null,
   "metadata": {},
   "outputs": [],
   "source": []
  },
  {
   "cell_type": "code",
   "execution_count": null,
   "metadata": {},
   "outputs": [],
   "source": []
  },
  {
   "cell_type": "code",
   "execution_count": null,
   "metadata": {},
   "outputs": [],
   "source": []
  },
  {
   "cell_type": "code",
   "execution_count": null,
   "metadata": {},
   "outputs": [],
   "source": []
  },
  {
   "cell_type": "code",
   "execution_count": null,
   "metadata": {},
   "outputs": [],
   "source": []
  },
  {
   "cell_type": "code",
   "execution_count": null,
   "metadata": {},
   "outputs": [],
   "source": []
  },
  {
   "cell_type": "markdown",
   "metadata": {},
   "source": [
    "# Viés !!\n",
    "\n",
    "Exemplo (1) Erros aleatórios e Sistematicos.\n",
    "\n",
    "    Aleatórios: Eventos estocasticos.\n",
    "    Sistematicos: Viés!\n",
    "    \n",
    "\n",
    "\n",
    "Exemplo (2) Viés de Seleção. Projeto para formação de desempregados. Quando compara-se a média com as pessoas que não participaram do projeto, não se remove todos os efeitos, como a motivação, e o efeito do programa parece muito maior que a realidade. Forma correta: Teste A/B"
   ]
  }
 ],
 "metadata": {
  "hide_input": false,
  "kernelspec": {
   "display_name": "Python 3",
   "language": "python",
   "name": "python3"
  },
  "language_info": {
   "codemirror_mode": {
    "name": "ipython",
    "version": 3
   },
   "file_extension": ".py",
   "mimetype": "text/x-python",
   "name": "python",
   "nbconvert_exporter": "python",
   "pygments_lexer": "ipython3",
   "version": "3.6.8"
  },
  "toc": {
   "base_numbering": 1,
   "nav_menu": {},
   "number_sections": true,
   "sideBar": true,
   "skip_h1_title": false,
   "title_cell": "Table of Contents",
   "title_sidebar": "Contents",
   "toc_cell": false,
   "toc_position": {},
   "toc_section_display": true,
   "toc_window_display": false
  }
 },
 "nbformat": 4,
 "nbformat_minor": 2
}
