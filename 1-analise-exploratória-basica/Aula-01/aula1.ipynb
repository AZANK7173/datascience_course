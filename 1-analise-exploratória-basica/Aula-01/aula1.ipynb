{
 "cells": [
  {
   "cell_type": "markdown",
   "metadata": {},
   "source": [
    "# Analise exploratória de dados com Python\n",
    "\n",
    "**Primeiros passos**\n",
    "\n",
    "### Habilidades em Python:\n",
    "- Iteradores;\n",
    "- Condicionais;\n",
    "- funções.\n",
    " \n",
    "### Habilidades em Estatistica:\n",
    "- As diferentes formas de centralidade\n",
    "\n",
    "### Habilidade de Negócios:\n",
    "- Pensando no problema a ser respondido\n"
   ]
  },
  {
   "cell_type": "code",
   "execution_count": null,
   "metadata": {},
   "outputs": [],
   "source": []
  },
  {
   "cell_type": "code",
   "execution_count": null,
   "metadata": {},
   "outputs": [],
   "source": []
  },
  {
   "cell_type": "code",
   "execution_count": null,
   "metadata": {},
   "outputs": [],
   "source": [
    "With open('my_data', 'r') as data_csv:\n",
    "    data = csv.reader(data_csv)\n",
    "     \n",
    "    for line in data[501:]\n",
    "        print(line)"
   ]
  }
 ],
 "metadata": {
  "kernelspec": {
   "display_name": "Python 3",
   "language": "python",
   "name": "python3"
  },
  "language_info": {
   "codemirror_mode": {
    "name": "ipython",
    "version": 3
   },
   "file_extension": ".py",
   "mimetype": "text/x-python",
   "name": "python",
   "nbconvert_exporter": "python",
   "pygments_lexer": "ipython3",
   "version": "3.6.4"
  }
 },
 "nbformat": 4,
 "nbformat_minor": 2
}
