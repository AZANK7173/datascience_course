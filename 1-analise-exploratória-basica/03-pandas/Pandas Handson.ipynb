{
 "cells": [
  {
   "cell_type": "markdown",
   "metadata": {},
   "source": [
    "# LAB: Introdução a Pandas 1"
   ]
  },
  {
   "cell_type": "markdown",
   "metadata": {},
   "source": [
    "## 1. Introdução\n",
    "\n",
    "Neste caso usaremos uma versão muito resumida dos dados do [Censo Demográfico (levantamento realizado pelo INDEC)](http://www.indec.gov.ar/bases-de-datos.asp). Trata-se de uma pesquisa contínua cujo objetivo principal é gerar informações sobre o funcionamento do mercado de trabalho.\n",
    "\n",
    "Utilizaremos apenas algumas variáveis (idade, escolaridade, número de horas trabalhadas, qualificação da tarefa e renda do trabalho) e alguns casos (os empregados, ou seja, aqueles que trabalharam pelo menos uma hora na semana anterior à pesquisa)."
   ]
  },
  {
   "cell_type": "markdown",
   "metadata": {},
   "source": [
    "### 1.1 Importamos os pacotes a serem usados"
   ]
  },
  {
   "cell_type": "code",
   "execution_count": 1,
   "metadata": {},
   "outputs": [],
   "source": [
    "import pandas as pd"
   ]
  },
  {
   "cell_type": "markdown",
   "metadata": {},
   "source": [
    "### 1.2 Importamos os dados a serem usados"
   ]
  },
  {
   "cell_type": "code",
   "execution_count": 2,
   "metadata": {},
   "outputs": [],
   "source": [
    "#teste= f'numero de linhas: {df.shape[0]}'\n",
    "#teste\n"
   ]
  },
  {
   "cell_type": "code",
   "execution_count": 7,
   "metadata": {},
   "outputs": [
    {
     "data": {
      "text/plain": [
       "'/Users/marcelocolonno/Desktop/DH - Curso DataScience/Modulo 1/Aula6 - Pandas/Aula6-data_filt.csv'"
      ]
     },
     "execution_count": 7,
     "metadata": {},
     "output_type": "execute_result"
    }
   ],
   "source": [
    "#path = r'D:\\OneDrive\\dh\\ds\\módulo1\\Aula6-PandasI\\data_filt.csv'\n",
    "path = r'/Users/marcelocolonno/Desktop/DH - Curso DataScience/Modulo 1/Aula6 - Pandas/Aula6-data_filt.csv'\n",
    "path"
   ]
  },
  {
   "cell_type": "code",
   "execution_count": 8,
   "metadata": {},
   "outputs": [],
   "source": [
    "df = pd.read_csv(path, encoding = 'latin1', engine='python', delimiter=',')"
   ]
  },
  {
   "cell_type": "code",
   "execution_count": 9,
   "metadata": {},
   "outputs": [
    {
     "data": {
      "text/html": [
       "<div>\n",
       "<style scoped>\n",
       "    .dataframe tbody tr th:only-of-type {\n",
       "        vertical-align: middle;\n",
       "    }\n",
       "\n",
       "    .dataframe tbody tr th {\n",
       "        vertical-align: top;\n",
       "    }\n",
       "\n",
       "    .dataframe thead th {\n",
       "        text-align: right;\n",
       "    }\n",
       "</style>\n",
       "<table border=\"1\" class=\"dataframe\">\n",
       "  <thead>\n",
       "    <tr style=\"text-align: right;\">\n",
       "      <th></th>\n",
       "      <th>ch06</th>\n",
       "      <th>nivel_ed</th>\n",
       "      <th>htot</th>\n",
       "      <th>calif</th>\n",
       "      <th>p47t</th>\n",
       "    </tr>\n",
       "  </thead>\n",
       "  <tbody>\n",
       "    <tr>\n",
       "      <th>0</th>\n",
       "      <td>46</td>\n",
       "      <td>1_H/Sec inc</td>\n",
       "      <td>45</td>\n",
       "      <td>2_Op./No calif.</td>\n",
       "      <td>6000.0</td>\n",
       "    </tr>\n",
       "    <tr>\n",
       "      <th>1</th>\n",
       "      <td>26</td>\n",
       "      <td>2_Sec. comp y más</td>\n",
       "      <td>25</td>\n",
       "      <td>2_Op./No calif.</td>\n",
       "      <td>5000.0</td>\n",
       "    </tr>\n",
       "    <tr>\n",
       "      <th>2</th>\n",
       "      <td>47</td>\n",
       "      <td>2_Sec. comp y más</td>\n",
       "      <td>25</td>\n",
       "      <td>2_Op./No calif.</td>\n",
       "      <td>5000.0</td>\n",
       "    </tr>\n",
       "    <tr>\n",
       "      <th>3</th>\n",
       "      <td>52</td>\n",
       "      <td>1_H/Sec inc</td>\n",
       "      <td>90</td>\n",
       "      <td>2_Op./No calif.</td>\n",
       "      <td>11000.0</td>\n",
       "    </tr>\n",
       "    <tr>\n",
       "      <th>4</th>\n",
       "      <td>45</td>\n",
       "      <td>1_H/Sec inc</td>\n",
       "      <td>44</td>\n",
       "      <td>2_Op./No calif.</td>\n",
       "      <td>9500.0</td>\n",
       "    </tr>\n",
       "    <tr>\n",
       "      <th>5</th>\n",
       "      <td>38</td>\n",
       "      <td>2_Sec. comp y más</td>\n",
       "      <td>72</td>\n",
       "      <td>1_Prof./Tecn.</td>\n",
       "      <td>6000.0</td>\n",
       "    </tr>\n",
       "    <tr>\n",
       "      <th>6</th>\n",
       "      <td>40</td>\n",
       "      <td>2_Sec. comp y más</td>\n",
       "      <td>44</td>\n",
       "      <td>2_Op./No calif.</td>\n",
       "      <td>9000.0</td>\n",
       "    </tr>\n",
       "    <tr>\n",
       "      <th>7</th>\n",
       "      <td>53</td>\n",
       "      <td>1_H/Sec inc</td>\n",
       "      <td>72</td>\n",
       "      <td>2_Op./No calif.</td>\n",
       "      <td>4260.0</td>\n",
       "    </tr>\n",
       "    <tr>\n",
       "      <th>8</th>\n",
       "      <td>24</td>\n",
       "      <td>1_H/Sec inc</td>\n",
       "      <td>55</td>\n",
       "      <td>2_Op./No calif.</td>\n",
       "      <td>3800.0</td>\n",
       "    </tr>\n",
       "    <tr>\n",
       "      <th>9</th>\n",
       "      <td>44</td>\n",
       "      <td>2_Sec. comp y más</td>\n",
       "      <td>60</td>\n",
       "      <td>2_Op./No calif.</td>\n",
       "      <td>10517.0</td>\n",
       "    </tr>\n",
       "    <tr>\n",
       "      <th>10</th>\n",
       "      <td>72</td>\n",
       "      <td>1_H/Sec inc</td>\n",
       "      <td>15</td>\n",
       "      <td>1_Prof./Tecn.</td>\n",
       "      <td>8300.0</td>\n",
       "    </tr>\n",
       "    <tr>\n",
       "      <th>11</th>\n",
       "      <td>40</td>\n",
       "      <td>2_Sec. comp y más</td>\n",
       "      <td>42</td>\n",
       "      <td>2_Op./No calif.</td>\n",
       "      <td>4900.0</td>\n",
       "    </tr>\n",
       "    <tr>\n",
       "      <th>12</th>\n",
       "      <td>43</td>\n",
       "      <td>2_Sec. comp y más</td>\n",
       "      <td>15</td>\n",
       "      <td>1_Prof./Tecn.</td>\n",
       "      <td>11000.0</td>\n",
       "    </tr>\n",
       "    <tr>\n",
       "      <th>13</th>\n",
       "      <td>47</td>\n",
       "      <td>2_Sec. comp y más</td>\n",
       "      <td>45</td>\n",
       "      <td>2_Op./No calif.</td>\n",
       "      <td>9000.0</td>\n",
       "    </tr>\n",
       "    <tr>\n",
       "      <th>14</th>\n",
       "      <td>40</td>\n",
       "      <td>1_H/Sec inc</td>\n",
       "      <td>14</td>\n",
       "      <td>2_Op./No calif.</td>\n",
       "      <td>3500.0</td>\n",
       "    </tr>\n",
       "    <tr>\n",
       "      <th>15</th>\n",
       "      <td>40</td>\n",
       "      <td>1_H/Sec inc</td>\n",
       "      <td>55</td>\n",
       "      <td>2_Op./No calif.</td>\n",
       "      <td>8000.0</td>\n",
       "    </tr>\n",
       "    <tr>\n",
       "      <th>16</th>\n",
       "      <td>43</td>\n",
       "      <td>1_H/Sec inc</td>\n",
       "      <td>48</td>\n",
       "      <td>2_Op./No calif.</td>\n",
       "      <td>2500.0</td>\n",
       "    </tr>\n",
       "    <tr>\n",
       "      <th>17</th>\n",
       "      <td>43</td>\n",
       "      <td>1_H/Sec inc</td>\n",
       "      <td>72</td>\n",
       "      <td>2_Op./No calif.</td>\n",
       "      <td>7500.0</td>\n",
       "    </tr>\n",
       "    <tr>\n",
       "      <th>18</th>\n",
       "      <td>42</td>\n",
       "      <td>1_H/Sec inc</td>\n",
       "      <td>72</td>\n",
       "      <td>2_Op./No calif.</td>\n",
       "      <td>5000.0</td>\n",
       "    </tr>\n",
       "    <tr>\n",
       "      <th>19</th>\n",
       "      <td>29</td>\n",
       "      <td>1_H/Sec inc</td>\n",
       "      <td>20</td>\n",
       "      <td>2_Op./No calif.</td>\n",
       "      <td>5500.0</td>\n",
       "    </tr>\n",
       "    <tr>\n",
       "      <th>20</th>\n",
       "      <td>44</td>\n",
       "      <td>2_Sec. comp y más</td>\n",
       "      <td>36</td>\n",
       "      <td>1_Prof./Tecn.</td>\n",
       "      <td>7000.0</td>\n",
       "    </tr>\n",
       "    <tr>\n",
       "      <th>21</th>\n",
       "      <td>25</td>\n",
       "      <td>2_Sec. comp y más</td>\n",
       "      <td>36</td>\n",
       "      <td>2_Op./No calif.</td>\n",
       "      <td>6500.0</td>\n",
       "    </tr>\n",
       "    <tr>\n",
       "      <th>22</th>\n",
       "      <td>48</td>\n",
       "      <td>1_H/Sec inc</td>\n",
       "      <td>30</td>\n",
       "      <td>2_Op./No calif.</td>\n",
       "      <td>3000.0</td>\n",
       "    </tr>\n",
       "    <tr>\n",
       "      <th>23</th>\n",
       "      <td>19</td>\n",
       "      <td>2_Sec. comp y más</td>\n",
       "      <td>25</td>\n",
       "      <td>2_Op./No calif.</td>\n",
       "      <td>2000.0</td>\n",
       "    </tr>\n",
       "    <tr>\n",
       "      <th>24</th>\n",
       "      <td>53</td>\n",
       "      <td>1_H/Sec inc</td>\n",
       "      <td>40</td>\n",
       "      <td>2_Op./No calif.</td>\n",
       "      <td>9100.0</td>\n",
       "    </tr>\n",
       "    <tr>\n",
       "      <th>25</th>\n",
       "      <td>47</td>\n",
       "      <td>1_H/Sec inc</td>\n",
       "      <td>36</td>\n",
       "      <td>2_Op./No calif.</td>\n",
       "      <td>5100.0</td>\n",
       "    </tr>\n",
       "    <tr>\n",
       "      <th>26</th>\n",
       "      <td>40</td>\n",
       "      <td>1_H/Sec inc</td>\n",
       "      <td>40</td>\n",
       "      <td>2_Op./No calif.</td>\n",
       "      <td>7200.0</td>\n",
       "    </tr>\n",
       "    <tr>\n",
       "      <th>27</th>\n",
       "      <td>54</td>\n",
       "      <td>1_H/Sec inc</td>\n",
       "      <td>70</td>\n",
       "      <td>2_Op./No calif.</td>\n",
       "      <td>4800.0</td>\n",
       "    </tr>\n",
       "    <tr>\n",
       "      <th>28</th>\n",
       "      <td>37</td>\n",
       "      <td>1_H/Sec inc</td>\n",
       "      <td>51</td>\n",
       "      <td>2_Op./No calif.</td>\n",
       "      <td>2700.0</td>\n",
       "    </tr>\n",
       "    <tr>\n",
       "      <th>29</th>\n",
       "      <td>37</td>\n",
       "      <td>1_H/Sec inc</td>\n",
       "      <td>24</td>\n",
       "      <td>2_Op./No calif.</td>\n",
       "      <td>3000.0</td>\n",
       "    </tr>\n",
       "    <tr>\n",
       "      <th>...</th>\n",
       "      <td>...</td>\n",
       "      <td>...</td>\n",
       "      <td>...</td>\n",
       "      <td>...</td>\n",
       "      <td>...</td>\n",
       "    </tr>\n",
       "    <tr>\n",
       "      <th>23418</th>\n",
       "      <td>37</td>\n",
       "      <td>2_Sec. comp y más</td>\n",
       "      <td>48</td>\n",
       "      <td>2_Op./No calif.</td>\n",
       "      <td>10500.0</td>\n",
       "    </tr>\n",
       "    <tr>\n",
       "      <th>23419</th>\n",
       "      <td>36</td>\n",
       "      <td>2_Sec. comp y más</td>\n",
       "      <td>40</td>\n",
       "      <td>1_Prof./Tecn.</td>\n",
       "      <td>13000.0</td>\n",
       "    </tr>\n",
       "    <tr>\n",
       "      <th>23420</th>\n",
       "      <td>29</td>\n",
       "      <td>2_Sec. comp y más</td>\n",
       "      <td>40</td>\n",
       "      <td>2_Op./No calif.</td>\n",
       "      <td>9500.0</td>\n",
       "    </tr>\n",
       "    <tr>\n",
       "      <th>23421</th>\n",
       "      <td>28</td>\n",
       "      <td>2_Sec. comp y más</td>\n",
       "      <td>40</td>\n",
       "      <td>2_Op./No calif.</td>\n",
       "      <td>9700.0</td>\n",
       "    </tr>\n",
       "    <tr>\n",
       "      <th>23422</th>\n",
       "      <td>29</td>\n",
       "      <td>1_H/Sec inc</td>\n",
       "      <td>48</td>\n",
       "      <td>1_Prof./Tecn.</td>\n",
       "      <td>3500.0</td>\n",
       "    </tr>\n",
       "    <tr>\n",
       "      <th>23423</th>\n",
       "      <td>47</td>\n",
       "      <td>1_H/Sec inc</td>\n",
       "      <td>60</td>\n",
       "      <td>2_Op./No calif.</td>\n",
       "      <td>8400.0</td>\n",
       "    </tr>\n",
       "    <tr>\n",
       "      <th>23424</th>\n",
       "      <td>28</td>\n",
       "      <td>2_Sec. comp y más</td>\n",
       "      <td>20</td>\n",
       "      <td>2_Op./No calif.</td>\n",
       "      <td>3500.0</td>\n",
       "    </tr>\n",
       "    <tr>\n",
       "      <th>23425</th>\n",
       "      <td>46</td>\n",
       "      <td>2_Sec. comp y más</td>\n",
       "      <td>40</td>\n",
       "      <td>1_Prof./Tecn.</td>\n",
       "      <td>12000.0</td>\n",
       "    </tr>\n",
       "    <tr>\n",
       "      <th>23426</th>\n",
       "      <td>58</td>\n",
       "      <td>2_Sec. comp y más</td>\n",
       "      <td>20</td>\n",
       "      <td>2_Op./No calif.</td>\n",
       "      <td>6000.0</td>\n",
       "    </tr>\n",
       "    <tr>\n",
       "      <th>23427</th>\n",
       "      <td>33</td>\n",
       "      <td>2_Sec. comp y más</td>\n",
       "      <td>48</td>\n",
       "      <td>2_Op./No calif.</td>\n",
       "      <td>5500.0</td>\n",
       "    </tr>\n",
       "    <tr>\n",
       "      <th>23428</th>\n",
       "      <td>36</td>\n",
       "      <td>2_Sec. comp y más</td>\n",
       "      <td>60</td>\n",
       "      <td>2_Op./No calif.</td>\n",
       "      <td>8200.0</td>\n",
       "    </tr>\n",
       "    <tr>\n",
       "      <th>23429</th>\n",
       "      <td>61</td>\n",
       "      <td>2_Sec. comp y más</td>\n",
       "      <td>30</td>\n",
       "      <td>1_Prof./Tecn.</td>\n",
       "      <td>6000.0</td>\n",
       "    </tr>\n",
       "    <tr>\n",
       "      <th>23430</th>\n",
       "      <td>62</td>\n",
       "      <td>2_Sec. comp y más</td>\n",
       "      <td>30</td>\n",
       "      <td>1_Prof./Tecn.</td>\n",
       "      <td>8500.0</td>\n",
       "    </tr>\n",
       "    <tr>\n",
       "      <th>23431</th>\n",
       "      <td>41</td>\n",
       "      <td>2_Sec. comp y más</td>\n",
       "      <td>56</td>\n",
       "      <td>1_Prof./Tecn.</td>\n",
       "      <td>15000.0</td>\n",
       "    </tr>\n",
       "    <tr>\n",
       "      <th>23432</th>\n",
       "      <td>38</td>\n",
       "      <td>1_H/Sec inc</td>\n",
       "      <td>44</td>\n",
       "      <td>1_Prof./Tecn.</td>\n",
       "      <td>6800.0</td>\n",
       "    </tr>\n",
       "    <tr>\n",
       "      <th>23433</th>\n",
       "      <td>41</td>\n",
       "      <td>2_Sec. comp y más</td>\n",
       "      <td>40</td>\n",
       "      <td>1_Prof./Tecn.</td>\n",
       "      <td>8000.0</td>\n",
       "    </tr>\n",
       "    <tr>\n",
       "      <th>23434</th>\n",
       "      <td>63</td>\n",
       "      <td>2_Sec. comp y más</td>\n",
       "      <td>18</td>\n",
       "      <td>2_Op./No calif.</td>\n",
       "      <td>7100.0</td>\n",
       "    </tr>\n",
       "    <tr>\n",
       "      <th>23435</th>\n",
       "      <td>39</td>\n",
       "      <td>1_H/Sec inc</td>\n",
       "      <td>48</td>\n",
       "      <td>2_Op./No calif.</td>\n",
       "      <td>3500.0</td>\n",
       "    </tr>\n",
       "    <tr>\n",
       "      <th>23436</th>\n",
       "      <td>37</td>\n",
       "      <td>1_H/Sec inc</td>\n",
       "      <td>50</td>\n",
       "      <td>2_Op./No calif.</td>\n",
       "      <td>5800.0</td>\n",
       "    </tr>\n",
       "    <tr>\n",
       "      <th>23437</th>\n",
       "      <td>65</td>\n",
       "      <td>1_H/Sec inc</td>\n",
       "      <td>56</td>\n",
       "      <td>2_Op./No calif.</td>\n",
       "      <td>3500.0</td>\n",
       "    </tr>\n",
       "    <tr>\n",
       "      <th>23438</th>\n",
       "      <td>31</td>\n",
       "      <td>2_Sec. comp y más</td>\n",
       "      <td>24</td>\n",
       "      <td>2_Op./No calif.</td>\n",
       "      <td>5800.0</td>\n",
       "    </tr>\n",
       "    <tr>\n",
       "      <th>23439</th>\n",
       "      <td>17</td>\n",
       "      <td>1_H/Sec inc</td>\n",
       "      <td>56</td>\n",
       "      <td>2_Op./No calif.</td>\n",
       "      <td>3500.0</td>\n",
       "    </tr>\n",
       "    <tr>\n",
       "      <th>23440</th>\n",
       "      <td>19</td>\n",
       "      <td>1_H/Sec inc</td>\n",
       "      <td>48</td>\n",
       "      <td>2_Op./No calif.</td>\n",
       "      <td>7000.0</td>\n",
       "    </tr>\n",
       "    <tr>\n",
       "      <th>23441</th>\n",
       "      <td>33</td>\n",
       "      <td>1_H/Sec inc</td>\n",
       "      <td>24</td>\n",
       "      <td>2_Op./No calif.</td>\n",
       "      <td>4450.0</td>\n",
       "    </tr>\n",
       "    <tr>\n",
       "      <th>23442</th>\n",
       "      <td>41</td>\n",
       "      <td>2_Sec. comp y más</td>\n",
       "      <td>39</td>\n",
       "      <td>2_Op./No calif.</td>\n",
       "      <td>9500.0</td>\n",
       "    </tr>\n",
       "    <tr>\n",
       "      <th>23443</th>\n",
       "      <td>45</td>\n",
       "      <td>2_Sec. comp y más</td>\n",
       "      <td>50</td>\n",
       "      <td>2_Op./No calif.</td>\n",
       "      <td>4000.0</td>\n",
       "    </tr>\n",
       "    <tr>\n",
       "      <th>23444</th>\n",
       "      <td>58</td>\n",
       "      <td>1_H/Sec inc</td>\n",
       "      <td>30</td>\n",
       "      <td>2_Op./No calif.</td>\n",
       "      <td>5000.0</td>\n",
       "    </tr>\n",
       "    <tr>\n",
       "      <th>23445</th>\n",
       "      <td>36</td>\n",
       "      <td>2_Sec. comp y más</td>\n",
       "      <td>40</td>\n",
       "      <td>2_Op./No calif.</td>\n",
       "      <td>13000.0</td>\n",
       "    </tr>\n",
       "    <tr>\n",
       "      <th>23446</th>\n",
       "      <td>49</td>\n",
       "      <td>1_H/Sec inc</td>\n",
       "      <td>40</td>\n",
       "      <td>2_Op./No calif.</td>\n",
       "      <td>4000.0</td>\n",
       "    </tr>\n",
       "    <tr>\n",
       "      <th>23447</th>\n",
       "      <td>36</td>\n",
       "      <td>1_H/Sec inc</td>\n",
       "      <td>54</td>\n",
       "      <td>2_Op./No calif.</td>\n",
       "      <td>8000.0</td>\n",
       "    </tr>\n",
       "  </tbody>\n",
       "</table>\n",
       "<p>23448 rows × 5 columns</p>\n",
       "</div>"
      ],
      "text/plain": [
       "       ch06           nivel_ed  htot            calif     p47t\n",
       "0        46        1_H/Sec inc    45  2_Op./No calif.   6000.0\n",
       "1        26  2_Sec. comp y más    25  2_Op./No calif.   5000.0\n",
       "2        47  2_Sec. comp y más    25  2_Op./No calif.   5000.0\n",
       "3        52        1_H/Sec inc    90  2_Op./No calif.  11000.0\n",
       "4        45        1_H/Sec inc    44  2_Op./No calif.   9500.0\n",
       "5        38  2_Sec. comp y más    72    1_Prof./Tecn.   6000.0\n",
       "6        40  2_Sec. comp y más    44  2_Op./No calif.   9000.0\n",
       "7        53        1_H/Sec inc    72  2_Op./No calif.   4260.0\n",
       "8        24        1_H/Sec inc    55  2_Op./No calif.   3800.0\n",
       "9        44  2_Sec. comp y más    60  2_Op./No calif.  10517.0\n",
       "10       72        1_H/Sec inc    15    1_Prof./Tecn.   8300.0\n",
       "11       40  2_Sec. comp y más    42  2_Op./No calif.   4900.0\n",
       "12       43  2_Sec. comp y más    15    1_Prof./Tecn.  11000.0\n",
       "13       47  2_Sec. comp y más    45  2_Op./No calif.   9000.0\n",
       "14       40        1_H/Sec inc    14  2_Op./No calif.   3500.0\n",
       "15       40        1_H/Sec inc    55  2_Op./No calif.   8000.0\n",
       "16       43        1_H/Sec inc    48  2_Op./No calif.   2500.0\n",
       "17       43        1_H/Sec inc    72  2_Op./No calif.   7500.0\n",
       "18       42        1_H/Sec inc    72  2_Op./No calif.   5000.0\n",
       "19       29        1_H/Sec inc    20  2_Op./No calif.   5500.0\n",
       "20       44  2_Sec. comp y más    36    1_Prof./Tecn.   7000.0\n",
       "21       25  2_Sec. comp y más    36  2_Op./No calif.   6500.0\n",
       "22       48        1_H/Sec inc    30  2_Op./No calif.   3000.0\n",
       "23       19  2_Sec. comp y más    25  2_Op./No calif.   2000.0\n",
       "24       53        1_H/Sec inc    40  2_Op./No calif.   9100.0\n",
       "25       47        1_H/Sec inc    36  2_Op./No calif.   5100.0\n",
       "26       40        1_H/Sec inc    40  2_Op./No calif.   7200.0\n",
       "27       54        1_H/Sec inc    70  2_Op./No calif.   4800.0\n",
       "28       37        1_H/Sec inc    51  2_Op./No calif.   2700.0\n",
       "29       37        1_H/Sec inc    24  2_Op./No calif.   3000.0\n",
       "...     ...                ...   ...              ...      ...\n",
       "23418    37  2_Sec. comp y más    48  2_Op./No calif.  10500.0\n",
       "23419    36  2_Sec. comp y más    40    1_Prof./Tecn.  13000.0\n",
       "23420    29  2_Sec. comp y más    40  2_Op./No calif.   9500.0\n",
       "23421    28  2_Sec. comp y más    40  2_Op./No calif.   9700.0\n",
       "23422    29        1_H/Sec inc    48    1_Prof./Tecn.   3500.0\n",
       "23423    47        1_H/Sec inc    60  2_Op./No calif.   8400.0\n",
       "23424    28  2_Sec. comp y más    20  2_Op./No calif.   3500.0\n",
       "23425    46  2_Sec. comp y más    40    1_Prof./Tecn.  12000.0\n",
       "23426    58  2_Sec. comp y más    20  2_Op./No calif.   6000.0\n",
       "23427    33  2_Sec. comp y más    48  2_Op./No calif.   5500.0\n",
       "23428    36  2_Sec. comp y más    60  2_Op./No calif.   8200.0\n",
       "23429    61  2_Sec. comp y más    30    1_Prof./Tecn.   6000.0\n",
       "23430    62  2_Sec. comp y más    30    1_Prof./Tecn.   8500.0\n",
       "23431    41  2_Sec. comp y más    56    1_Prof./Tecn.  15000.0\n",
       "23432    38        1_H/Sec inc    44    1_Prof./Tecn.   6800.0\n",
       "23433    41  2_Sec. comp y más    40    1_Prof./Tecn.   8000.0\n",
       "23434    63  2_Sec. comp y más    18  2_Op./No calif.   7100.0\n",
       "23435    39        1_H/Sec inc    48  2_Op./No calif.   3500.0\n",
       "23436    37        1_H/Sec inc    50  2_Op./No calif.   5800.0\n",
       "23437    65        1_H/Sec inc    56  2_Op./No calif.   3500.0\n",
       "23438    31  2_Sec. comp y más    24  2_Op./No calif.   5800.0\n",
       "23439    17        1_H/Sec inc    56  2_Op./No calif.   3500.0\n",
       "23440    19        1_H/Sec inc    48  2_Op./No calif.   7000.0\n",
       "23441    33        1_H/Sec inc    24  2_Op./No calif.   4450.0\n",
       "23442    41  2_Sec. comp y más    39  2_Op./No calif.   9500.0\n",
       "23443    45  2_Sec. comp y más    50  2_Op./No calif.   4000.0\n",
       "23444    58        1_H/Sec inc    30  2_Op./No calif.   5000.0\n",
       "23445    36  2_Sec. comp y más    40  2_Op./No calif.  13000.0\n",
       "23446    49        1_H/Sec inc    40  2_Op./No calif.   4000.0\n",
       "23447    36        1_H/Sec inc    54  2_Op./No calif.   8000.0\n",
       "\n",
       "[23448 rows x 5 columns]"
      ]
     },
     "execution_count": 9,
     "metadata": {},
     "output_type": "execute_result"
    }
   ],
   "source": [
    "df"
   ]
  },
  {
   "cell_type": "markdown",
   "metadata": {},
   "source": [
    "## 2. Explorando o dataset\n",
    "\n",
    "### 2.1. Quantas filas e quantas colunas o dataset tem?"
   ]
  },
  {
   "cell_type": "code",
   "execution_count": null,
   "metadata": {},
   "outputs": [],
   "source": [
    "df.info()"
   ]
  },
  {
   "cell_type": "markdown",
   "metadata": {},
   "source": [
    "### 2.2 Que informação o dataset tem? Imprimir o nome das colunas"
   ]
  },
  {
   "cell_type": "code",
   "execution_count": null,
   "metadata": {},
   "outputs": [],
   "source": [
    "df.columns"
   ]
  },
  {
   "cell_type": "markdown",
   "metadata": {},
   "source": [
    "Os nomes das colunas não são muito descritivos a respeito das informações que elas contêm. Vamos tentar mudá-los pela seguinte lista: \n",
    "\n",
    "['idade', 'escolaridade', 'hs_trabalhadas', 'qualificação_ocupacional', 'renda_ult_mes']"
   ]
  },
  {
   "cell_type": "code",
   "execution_count": null,
   "metadata": {},
   "outputs": [],
   "source": [
    "df.columns = ['idade', 'escolaridade', 'hs_trabalhadas', 'qualificação_ocupacional', 'renda_ult_mes']"
   ]
  },
  {
   "cell_type": "markdown",
   "metadata": {},
   "source": [
    "### 2.3 Como o dataset está indexado?"
   ]
  },
  {
   "cell_type": "code",
   "execution_count": null,
   "metadata": {},
   "outputs": [],
   "source": [
    "df.index"
   ]
  },
  {
   "cell_type": "markdown",
   "metadata": {},
   "source": [
    "### 2.4 Qual é o tipo da quarta coluna?"
   ]
  },
  {
   "cell_type": "code",
   "execution_count": null,
   "metadata": {},
   "outputs": [],
   "source": [
    "df.iloc[:,3].dtype"
   ]
  },
  {
   "cell_type": "markdown",
   "metadata": {},
   "source": [
    "### 2.4 Qual é a escolaridade mais comum?"
   ]
  },
  {
   "cell_type": "code",
   "execution_count": null,
   "metadata": {},
   "outputs": [],
   "source": [
    "df[\"escolaridade\"].value_counts().head(1)"
   ]
  },
  {
   "cell_type": "markdown",
   "metadata": {},
   "source": [
    "### 2.5 E como a população é distribuída segundo a qualificação? "
   ]
  },
  {
   "cell_type": "code",
   "execution_count": null,
   "metadata": {},
   "outputs": [],
   "source": [
    "df[\"qualificação_ocupacional\"].value_counts().head(1)"
   ]
  },
  {
   "cell_type": "markdown",
   "metadata": {},
   "source": [
    "### 2.6 Qual é a renda total da população? "
   ]
  },
  {
   "cell_type": "code",
   "execution_count": null,
   "metadata": {},
   "outputs": [],
   "source": [
    "df['renda_ult_mes'].sum()"
   ]
  },
  {
   "cell_type": "markdown",
   "metadata": {},
   "source": [
    "### 2.4 Qual é a renda média da população? "
   ]
  },
  {
   "cell_type": "code",
   "execution_count": null,
   "metadata": {},
   "outputs": [],
   "source": [
    "df['renda_ult_mes'].mean()"
   ]
  },
  {
   "cell_type": "markdown",
   "metadata": {},
   "source": [
    "## 3. Indexando e organizando os dados"
   ]
  },
  {
   "cell_type": "markdown",
   "metadata": {},
   "source": [
    "### 3.1 Selecionar a coluna `escolaridade` e `renda_ult_mes` e atribuí-las a um objeto novo chamado `df2`"
   ]
  },
  {
   "cell_type": "code",
   "execution_count": null,
   "metadata": {},
   "outputs": [],
   "source": [
    "df2 = df[['escolaridade','renda_ult_mes']]"
   ]
  },
  {
   "cell_type": "markdown",
   "metadata": {},
   "source": [
    "### 3.2 Selecionar as primeiras 20 filas de df2"
   ]
  },
  {
   "cell_type": "code",
   "execution_count": null,
   "metadata": {},
   "outputs": [],
   "source": [
    "df2[0:20]"
   ]
  },
  {
   "cell_type": "markdown",
   "metadata": {},
   "source": [
    "### 3.2 Selecionar uma amostra aleatória de 500 filas de df"
   ]
  },
  {
   "cell_type": "code",
   "execution_count": null,
   "metadata": {},
   "outputs": [],
   "source": [
    "df.sample(500)"
   ]
  },
  {
   "cell_type": "markdown",
   "metadata": {},
   "source": [
    "### 3.4 Escolher todas as colunas, exceto escolaridade. Dica: Utilizar a propriedade columns para filtrar na dimensão das colunas."
   ]
  },
  {
   "cell_type": "code",
   "execution_count": null,
   "metadata": {},
   "outputs": [],
   "source": [
    "df.loc[:,df.columns != 'escolaridade']"
   ]
  },
  {
   "cell_type": "markdown",
   "metadata": {},
   "source": [
    "### 3.5 Organizar o dataset segundo a idade"
   ]
  },
  {
   "cell_type": "code",
   "execution_count": null,
   "metadata": {},
   "outputs": [],
   "source": [
    "df.sort_values(['idade'], ascending = True)"
   ]
  },
  {
   "cell_type": "markdown",
   "metadata": {},
   "source": [
    "### 3.6 Qual é a média de horas trabalhadas dos jovens entre 14 e 25 anos pouco qualificados?"
   ]
  },
  {
   "cell_type": "code",
   "execution_count": null,
   "metadata": {},
   "outputs": [],
   "source": [
    "df['qualificação_ocupacional'].value_counts()"
   ]
  },
  {
   "cell_type": "code",
   "execution_count": null,
   "metadata": {},
   "outputs": [],
   "source": [
    "df['hs_trabalhadas'][(df['idade'] >= 14) & \\\n",
    "                     (df['idade'] <= 25) & \\\n",
    "                     (df['qualificação_ocupacional'] == '2_Op./No calif.')].mean()"
   ]
  },
  {
   "cell_type": "markdown",
   "metadata": {},
   "source": [
    "### 3.7 Gerar um novo dataframe com os trabalhadores que ganham mais que a renda média geral e estão abaixo do número médio de horas trabalhadas. Quantos trabalhadores estão nesta condição? Qual é a média de idade deles?"
   ]
  },
  {
   "cell_type": "code",
   "execution_count": null,
   "metadata": {},
   "outputs": [],
   "source": [
    "df3 = df.loc[(df['renda_ult_mes'] > df.renda_ult_mes.mean())\n",
    "             & (df['hs_trabalhadas'] < df.hs_trabalhadas.mean())]\n",
    "\n",
    "df3.head()"
   ]
  },
  {
   "cell_type": "code",
   "execution_count": null,
   "metadata": {},
   "outputs": [],
   "source": [
    "df3.shape"
   ]
  },
  {
   "cell_type": "code",
   "execution_count": null,
   "metadata": {},
   "outputs": [],
   "source": [
    "df3.idade.mean()"
   ]
  },
  {
   "cell_type": "code",
   "execution_count": null,
   "metadata": {},
   "outputs": [],
   "source": []
  }
 ],
 "metadata": {
  "kernelspec": {
   "display_name": "Python 3",
   "language": "python",
   "name": "python3"
  },
  "language_info": {
   "codemirror_mode": {
    "name": "ipython",
    "version": 3
   },
   "file_extension": ".py",
   "mimetype": "text/x-python",
   "name": "python",
   "nbconvert_exporter": "python",
   "pygments_lexer": "ipython3",
   "version": "3.6.8"
  }
 },
 "nbformat": 4,
 "nbformat_minor": 2
}
