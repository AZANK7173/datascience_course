{
 "cells": [
  {
   "cell_type": "markdown",
   "metadata": {},
   "source": [
    "** [T. R. Knapp Instances of Simpson's paradox. The College Mathematics Journal, v. 16, p. 209-211, 1985.]:**"
   ]
  },
  {
   "cell_type": "markdown",
   "metadata": {},
   "source": [
    "Temos dois jogadores de Baseball.\n",
    "\n",
    "O jogador A rebateu 25.7% das vezes e o jogador B rebateu 25.1%. Isso significa que o jogador A é melhor?\n",
    "\n",
    "Não. Dê uma olhada na informação completa abaixo:\n",
    "\n",
    "**Jogador A**\n",
    "\n",
    "- nAD: Número de vezes que jogou contra um lançador destro: 202\n",
    "\n",
    "- nARD: Número de vezes que rebateu um lançador destro: 45\n",
    "\n",
    "- nAE: Número de vezes que jogou contra um lançador canhoto: 250\n",
    "\n",
    "- nARE: Número de vezes que rebateu um lançador canhoto: 71\n",
    "\n",
    "**Jogador B**\n",
    "\n",
    "- nBD: Número de vezes que jogou contra um lançador destro: 250\n",
    "\n",
    "- nBRD: Número de vezes que rebateu um lançador destro: 58\n",
    "\n",
    "- nBE: Número de vezes que jogou contra um lançador canhoto: 108\n",
    "\n",
    "- nBRE: Número de vezes que rebateu um lançador canhoto: 32\n",
    "\n",
    "Logo, o jogador A conseguiu rebater 22.3% das bolas quando lançadas por um lançador destro e 28.4% das bolas quando lançadas por um lançador canhoto. Por outro lado, o jogador B conseguiu rebater 23.2% das bolas quando lançadas por um lançador destro e 29.6% das bolas quando lançadas por um lançador canhoto."
   ]
  },
  {
   "cell_type": "markdown",
   "metadata": {},
   "source": [
    "**Como isso é possível?**\n",
    "\n",
    "A explicação é simples. Os dois jogadores enfrentaram de forma bem diferente destros e canhotos. Enquanto o jogador A enfrentou destros em torno de 50% das vezes, o jogador B enfrentou em torno de 70% das vezes. Logo, as porcentagens em ambas as categorias para os jogadores são ponderadas de forma diferente trazendo um resultado que parece ser contra intuitivo. Além disso, o jogador B justamente se saiu pior contra os destros que ele enfrentou mais."
   ]
  },
  {
   "cell_type": "markdown",
   "metadata": {},
   "source": [
    "**Então, o que é o Paradoxo de Simpson?**\n",
    "\n",
    "O paradoxo de Simpson ocorre quando existe uma tendencia de comportamento em dados de uma determinada variável quando dividida em grupos, mas é revertida quando os grupos são combinados."
   ]
  },
  {
   "cell_type": "markdown",
   "metadata": {},
   "source": [
    "**Detalhamento das contas**\n",
    "(Você não precisa olhar isso para entender o problema - são contas simples de estatística)\n",
    "\n",
    "    O número total de lançadores que o jogador A enfrentou foi: nA=nAD+nAE=452\n",
    "    A probabilidade do jogador A rebater dado que ele jogou contra um jogador destro: p(R/A,D)=nARD/nAD=0.223\n",
    "    A probabilidade do jogador A rebater dado que ele jogou contra um jogador canhoto: p(R/A,E)=nARE/nAE=0.284\n",
    "    A probabilidade do jogador A jogar com um lançador destro: p(D/A)=nAD/nA=0.447\n",
    "    A probabilidade do jogador A jogar com um lançador canhoto: p(E/A)=nAE/nA=0.553\n",
    "    A probabilidade do jogador rebater independente da categoria (destro ou canhoto): p(R/A)=p(R/A,D)∗p(D/A)+p(R/A,E)∗p(E/A)=0.257\n",
    "    O número total de lançadores que o jogador B enfrentou foi: nB=nBD+nBE=358\n",
    "    A probabilidade do jogador B rebater dado que ele jogou contra um jogador destro: p(R/B,D)=nBRD/nBD=0.232\n",
    "    A probabilidade do jogador B rebater dado que ele jogou contra um jogador canhoto: p(R/B,E)=nBRE/nBE=0.296\n",
    "    A probabilidade do jogador B jogar com um lançador destro: p(D/B)=nBD/nB=0.698\n",
    "    A probabilidade do jogador B jogar com um lançador canhoto: p(E/B)=nBE/nB=0.302\n",
    "    A probabilidade do jogador rebater independente da categoria (destro ou canhoto): p(R/B)=p(R/B,D)∗p(D/B)+p(R/B,E)∗p(E/B)=0.251"
   ]
  },
  {
   "cell_type": "markdown",
   "metadata": {},
   "source": [
    "**Existem exemplos reais desse paradoxo?**\n",
    "\n",
    "Sim, existem MUITOS exemplos relatados na literatura. Provavelmente, o mais interessante é aquele que ocorreu na universidade de Berkeley na California que sugeria que numa seleção para programas de doutorado homens tinham mais chance que mulheres. Esse caso gerou até processo contra a universidade. De fato, olhando individualmente cada departamento, na maioria deles, ocorria exatamente o contrário. Mais tarde foi concluído que mulheres aplicavam para departamento mais competitivos que aqueles aplicados por homens."
   ]
  },
  {
   "cell_type": "markdown",
   "metadata": {},
   "source": [
    "texto retirado desse [link](http://prorum.com/?qa=1814/o-que-e-o-paradoxo-de-simpson-em-estatistica)\n",
    "No final do texto a alguma simulações (monte carlo) para quem quer ir além."
   ]
  }
 ],
 "metadata": {
  "kernelspec": {
   "display_name": "Python 3",
   "language": "python",
   "name": "python3"
  },
  "language_info": {
   "codemirror_mode": {
    "name": "ipython",
    "version": 3
   },
   "file_extension": ".py",
   "mimetype": "text/x-python",
   "name": "python",
   "nbconvert_exporter": "python",
   "pygments_lexer": "ipython3",
   "version": "3.6.4"
  }
 },
 "nbformat": 4,
 "nbformat_minor": 2
}
