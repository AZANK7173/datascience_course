{
 "cells": [
  {
   "cell_type": "markdown",
   "metadata": {
    "toc": true
   },
   "source": [
    "<h1>Table of Contents<span class=\"tocSkip\"></span></h1>\n",
    "<div class=\"toc\"><ul class=\"toc-item\"><li><span><a href=\"#O-que-é-Análise-exploratória-de-Dados?\" data-toc-modified-id=\"O-que-é-Análise-exploratória-de-Dados?-1\"><span class=\"toc-item-num\">1&nbsp;&nbsp;</span>O que é Análise exploratória de Dados?</a></span><ul class=\"toc-item\"><li><span><a href=\"#Etapas\" data-toc-modified-id=\"Etapas-1.1\"><span class=\"toc-item-num\">1.1&nbsp;&nbsp;</span>Etapas</a></span></li></ul></li><li><span><a href=\"#Trabalhando-os-arquivos-de-texto-com-Python\" data-toc-modified-id=\"Trabalhando-os-arquivos-de-texto-com-Python-2\"><span class=\"toc-item-num\">2&nbsp;&nbsp;</span>Trabalhando os arquivos de texto com Python</a></span><ul class=\"toc-item\"><li><span><a href=\"#Abrindo-o-arquivo-e-acessando-os-dados\" data-toc-modified-id=\"Abrindo-o-arquivo-e-acessando-os-dados-2.1\"><span class=\"toc-item-num\">2.1&nbsp;&nbsp;</span>Abrindo o arquivo e acessando os dados</a></span></li></ul></li><li><span><a href=\"#Medidas-de-Centralidade\" data-toc-modified-id=\"Medidas-de-Centralidade-3\"><span class=\"toc-item-num\">3&nbsp;&nbsp;</span>Medidas de Centralidade</a></span><ul class=\"toc-item\"><li><span><a href=\"#Média\" data-toc-modified-id=\"Média-3.1\"><span class=\"toc-item-num\">3.1&nbsp;&nbsp;</span>Média</a></span><ul class=\"toc-item\"><li><span><a href=\"#Fazendo-a-média-com-nosso-arquivo-original\" data-toc-modified-id=\"Fazendo-a-média-com-nosso-arquivo-original-3.1.1\"><span class=\"toc-item-num\">3.1.1&nbsp;&nbsp;</span>Fazendo a média com nosso arquivo original</a></span></li><li><span><a href=\"#Calculando-a-média-de-Salario,-anos-de-estudo-e-idade-no-mesmo-código.\" data-toc-modified-id=\"Calculando-a-média-de-Salario,-anos-de-estudo-e-idade-no-mesmo-código.-3.1.2\"><span class=\"toc-item-num\">3.1.2&nbsp;&nbsp;</span>Calculando a média de Salario, anos de estudo e idade no mesmo código.</a></span></li></ul></li><li><span><a href=\"#Mediana\" data-toc-modified-id=\"Mediana-3.2\"><span class=\"toc-item-num\">3.2&nbsp;&nbsp;</span>Mediana</a></span><ul class=\"toc-item\"><li><span><a href=\"#Função-para-calcular-a-Mediana-com-Dicionarios\" data-toc-modified-id=\"Função-para-calcular-a-Mediana-com-Dicionarios-3.2.1\"><span class=\"toc-item-num\">3.2.1&nbsp;&nbsp;</span>Função para calcular a Mediana com Dicionarios</a></span></li></ul></li><li><span><a href=\"#Moda\" data-toc-modified-id=\"Moda-3.3\"><span class=\"toc-item-num\">3.3&nbsp;&nbsp;</span>Moda</a></span></li></ul></li><li><span><a href=\"#Análise-comparativa\" data-toc-modified-id=\"Análise-comparativa-4\"><span class=\"toc-item-num\">4&nbsp;&nbsp;</span>Análise comparativa</a></span></li><li><span><a href=\"#Respondento-a-pergunta-original-da-aula:-os-homens-ganham-mais-dos-que-as-mulheres?\" data-toc-modified-id=\"Respondento-a-pergunta-original-da-aula:-os-homens-ganham-mais-dos-que-as-mulheres?-5\"><span class=\"toc-item-num\">5&nbsp;&nbsp;</span>Respondento a pergunta original da aula: os homens ganham mais dos que as mulheres?</a></span><ul class=\"toc-item\"><li><span><a href=\"#Distribuição-da-variável-idade\" data-toc-modified-id=\"Distribuição-da-variável-idade-5.1\"><span class=\"toc-item-num\">5.1&nbsp;&nbsp;</span>Distribuição da variável idade</a></span></li><li><span><a href=\"#Distribuição-da-variável-anos-de-estudo\" data-toc-modified-id=\"Distribuição-da-variável-anos-de-estudo-5.2\"><span class=\"toc-item-num\">5.2&nbsp;&nbsp;</span>Distribuição da variável anos de estudo</a></span><ul class=\"toc-item\"><li><span><a href=\"#Preenchendo-os-valores-nulos-com-a-mediana-para-poder-plotar-a-distribuição\" data-toc-modified-id=\"Preenchendo-os-valores-nulos-com-a-mediana-para-poder-plotar-a-distribuição-5.2.1\"><span class=\"toc-item-num\">5.2.1&nbsp;&nbsp;</span>Preenchendo os valores nulos com a mediana para poder plotar a distribuição</a></span></li></ul></li></ul></li></ul></div>"
   ]
  },
  {
   "cell_type": "markdown",
   "metadata": {},
   "source": [
    "\n",
    "# Análise exploratória de dados\n",
    "\n",
    "<br>\n",
    "<img src=\"img/EDA.jpg\">\n",
    "<br>\n",
    "\n",
    "\n",
    "## O que é Análise exploratória de Dados?\n",
    "\n",
    "Em estatística, a **análise exploratória de dados (AED)** é uma abordagem à análise de conjuntos de dados de modo a resumir suas características principais, frequentemente com métodos visuais. Um modelo estatístico pode ou não ser usado, mas primariamente a AED tem como objetivo observar o que os dados podem nos dizer além da modelagem formal ou do processo de teste de hipóteses. A análise exploratória de dados foi promovida pelo estatístico norte-americano John Tukey, que incentivava os estatísticos a explorar os dados e possivelmente formular hipóteses que poderiam levar a novas coletas de dados e experimentos. A **AED** é diferente da análise inicial de dados (AID), que se concentra mais estreitamente em verificar os pressupostos exigidos para ajuste de modelos e teste de hipóteses, além de manusear valores faltantes e fazer transformações de variáveis conforme necessário. A análise exploratória de dados abrange a AID.\n",
    "\n",
    "A análise exploratória de dados emprega grande variedade de técnicas gráficas e quantitativas, visando maximizar a obtenção de informações ocultas na sua estrutura, descobrir variáveis importantes em suas tendências, detectar comportamentos anômalos do fenômeno, testar se são válidas as hipóteses assumidas, escolher modelos e determinar o número ótimo de variáveis.\n",
    "\n",
    "Os softwares atualmente disponíveis possibilitam que esta técnica se constitua em uma ferramenta para descobrir quais tendências, relações e padrões podem estar ocultos em uma coleção de dados analisados. Seguindo as diretrizes propostas por Tukey, os investigadores deveriam iniciar sua análise pelo exame dos dados disponíveis e depois decidir qual técnica aplicar para resolver o problema. \n",
    "\n",
    "### Etapas\n",
    "\n",
    "Para realizar uma AED recomenda-se seguir as seguintes etapas:\n",
    "\n",
    "1. Encontrar, acessar e abrir os dados na interface de trabalho (Python);\n",
    "\n",
    "2. Identificar as informações básicas dos dados como por exemplo conhecer as colunas, missing values, outliers, medidas de centralidade (média, mediana, moda) e dispersão (desvio padrão, variância);\n",
    "\n",
    "3. Reconhecimento dos tipos de variáveis (figura 1) e como tratar cada uma delas;\n",
    "\n",
    "4. Análise gráfica para verificação do comportamento das variáveis (linearidade, normalidade);\n",
    "\n",
    "5. Descrição da relação entre as variávies contidas nos dados (correlações)."
   ]
  },
  {
   "cell_type": "markdown",
   "metadata": {},
   "source": [
    "## Trabalhando os arquivos de texto com Python"
   ]
  },
  {
   "cell_type": "markdown",
   "metadata": {},
   "source": [
    "### Abrindo o arquivo e acessando os dados"
   ]
  },
  {
   "cell_type": "code",
   "execution_count": 32,
   "metadata": {},
   "outputs": [
    {
     "name": "stdout",
     "output_type": "stream",
     "text": [
      "<class '_csv.reader'>\n"
     ]
    }
   ],
   "source": [
    "with open(r'data/data.csv', 'r') as data_csv:\n",
    "    data = csv.reader(data_csv)\n",
    "    print(type(data))"
   ]
  },
  {
   "cell_type": "code",
   "execution_count": 14,
   "metadata": {},
   "outputs": [
    {
     "name": "stdout",
     "output_type": "stream",
     "text": [
      "['', 'id', 'idade', 'sexo', 'anos_estudo', 'cor/raca', 'salario', 'estado_civil', 'regiao']\n",
      "['0', '11001901101.0', '53', 'homem', '5.0', 'Parda', '63600.0', '1.0', 'norte']\n",
      "['1', '11001901102.0', '49', 'mulher', '8.0', 'Amarela', '', '1.0', 'norte']\n",
      "['2', '11001901103.0', '22', 'mulher', '11.0', 'Indigena', '4352.400390625', '0.0', 'nordeste']\n",
      "['3', '11001903101.0', '55', 'homem', '15.0', 'Amarela', '96600.0', '1.0', 'norte']\n",
      "['4', '11001903102.0', '56', 'mulher', '15.0', 'Amarela', '157800.0', '1.0', 'norte']\n",
      "['5', '11001903103.0', '30', 'mulher', '15.0', 'Amarela', '88550.0', '0.0', 'nordeste']\n",
      "['6', '11001904101.0', '52', 'mulher', '5.0', 'Branca', '6734.400390625', '0.0', 'norte']\n",
      "['7', '11001904104.0', '29', 'homem', '5.0', 'Parda', '14875.20068359375', '0.0', 'norte']\n",
      "['8', '11001904105.0', '29', 'mulher', '11.0', 'Parda', '6734.400390625', '0.0', 'norte']\n"
     ]
    }
   ],
   "source": [
    "import csv\n",
    "\n",
    "with open(r'data/data.csv', 'r') as data_csv:\n",
    "    data = csv.reader(data_csv)\n",
    "    \n",
    "    contador = 0\n",
    "    for row in data:\n",
    "        print(row)\n",
    "        contador = contador + 1\n",
    "        \n",
    "#         print(row[2],row[4],row[6])\n",
    "        if contador == 10:\n",
    "            break"
   ]
  },
  {
   "cell_type": "markdown",
   "metadata": {},
   "source": [
    "## Medidas de Centralidade\n",
    "\n",
    "### Média\n",
    "\n",
    "\n",
    "*fonte: Wikipedia*\n",
    "\n",
    "Em estatística, média é definida como o valor que mostra para onde se concentram os dados de uma distribuição como o ponto de equilíbrio das frequências em um histograma. Média também é interpretada como um valor significativo de uma lista de números. Os valores de uma lista de números podem ser representados por meio da escolha aleatória de um número. Se todos os números forem iguais, o número escolhido aleatoriamente será a média. Então, a média pode ser calculada por meio da combinação dos números de maneira específica e da geração de um valor significativo. Entretanto, a palavra média é usualmente usada em métodos mais sofisticados como média aritmética, mediana, moda, entre outros.\n",
    "\n",
    "Seguindo uma definição mais informal de \"média\", pode-se assumir que no campo da estatística, dados possuem posições. Por exemplo, cada valor dos lançamentos de um dado possui sua posição em uma planilha eletrônica. Em estatística, média é uma medida de posição que indica um valor uniforme dos dados. Por exemplo, o conjunto x = { 2 , 1 , 6 , 5 , 10 } possui média aritmética 4,8. Embora 4,8 seja o valor médio, ele não é o valor central definido pela mediana.\n",
    "\n",
    "\n",
    "<br>\n",
    "<img src=\"img/media.png\">\n",
    "<br>\n",
    "\n",
    "\n",
    "A **média** é calculada por:\n",
    "\n",
    "$$ \\overline x = \\frac{1}{n} \\sum_i x_i $$\n",
    "\n",
    "Por exemplo, para a mostra 8, 5, 3, -1, e -5, a média é:"
   ]
  },
  {
   "cell_type": "code",
   "execution_count": 34,
   "metadata": {},
   "outputs": [
    {
     "name": "stdout",
     "output_type": "stream",
     "text": [
      "Somando 8 + 0 = 8\n",
      "Somando 5 + 8 = 13\n",
      "Somando 3 + 13 = 16\n",
      "Somando -1 + 16 = 15\n",
      "Somando -5 + 15 = 10\n",
      "\n",
      "média: 2.0\n"
     ]
    }
   ],
   "source": [
    "numbers = [8,5,3,-1,-5]\n",
    "\n",
    "somatorio = 0\n",
    "for number in numbers:\n",
    "    somatorio += number\n",
    "    print(f'Somando {number} + {somatorio-number} = {somatorio}')\n",
    "    \n",
    "media = somatorio/len(numbers)\n",
    "print('\\nmédia:',media)"
   ]
  },
  {
   "cell_type": "markdown",
   "metadata": {},
   "source": [
    "#### Fazendo a média com nosso arquivo original"
   ]
  },
  {
   "cell_type": "code",
   "execution_count": 35,
   "metadata": {
    "scrolled": true
   },
   "outputs": [
    {
     "name": "stdout",
     "output_type": "stream",
     "text": [
      "Média da coluna Idade: 41.67\n"
     ]
    }
   ],
   "source": [
    "with open(r'data/data.csv', 'r') as data_csv:\n",
    "    data = csv.reader(data_csv)\n",
    "    \n",
    "    lista_exemplo = []\n",
    "    somatorio = 0\n",
    "    for i, line in enumerate(data):\n",
    "        if i < 10 and i>0:\n",
    "            somatorio +=  int(line[2])\n",
    "            lista_exemplo.append(line[2])\n",
    "            \n",
    "\n",
    "media = round(somatorio/len(lista_exemplo),2)\n",
    "\n",
    "print(f'Média da coluna Idade: {media}')"
   ]
  },
  {
   "cell_type": "markdown",
   "metadata": {},
   "source": [
    "#### Calculando a média de Salario, anos de estudo e idade no mesmo código."
   ]
  },
  {
   "cell_type": "code",
   "execution_count": 15,
   "metadata": {},
   "outputs": [
    {
     "name": "stdout",
     "output_type": "stream",
     "text": [
      "['0', '11001901101.0', '53', 'homem', '5.0', 'Parda', '63600.0', '1.0', 'norte']\n",
      "['1', '11001901102.0', '49', 'mulher', '8.0', 'Amarela', '', '1.0', 'norte']\n"
     ]
    },
    {
     "ename": "ValueError",
     "evalue": "could not convert string to float: ",
     "output_type": "error",
     "traceback": [
      "\u001b[1;31m---------------------------------------------------------------------------\u001b[0m",
      "\u001b[1;31mValueError\u001b[0m                                Traceback (most recent call last)",
      "\u001b[1;32m<ipython-input-15-7c8655d5688f>\u001b[0m in \u001b[0;36m<module>\u001b[1;34m()\u001b[0m\n\u001b[0;32m     14\u001b[0m             \u001b[0msomatorio_idade\u001b[0m \u001b[1;33m+=\u001b[0m \u001b[0mint\u001b[0m\u001b[1;33m(\u001b[0m\u001b[0mrow\u001b[0m\u001b[1;33m[\u001b[0m\u001b[1;36m2\u001b[0m\u001b[1;33m]\u001b[0m\u001b[1;33m*\u001b[0m\u001b[1;36m1\u001b[0m\u001b[1;33m)\u001b[0m\u001b[1;33m\u001b[0m\u001b[0m\n\u001b[0;32m     15\u001b[0m             \u001b[0msomatorio_estudo\u001b[0m \u001b[1;33m+=\u001b[0m \u001b[0mfloat\u001b[0m\u001b[1;33m(\u001b[0m\u001b[0mrow\u001b[0m\u001b[1;33m[\u001b[0m\u001b[1;36m4\u001b[0m\u001b[1;33m]\u001b[0m\u001b[1;33m*\u001b[0m\u001b[1;36m1\u001b[0m\u001b[1;33m)\u001b[0m\u001b[1;33m\u001b[0m\u001b[0m\n\u001b[1;32m---> 16\u001b[1;33m             \u001b[0msomatorio_salario\u001b[0m \u001b[1;33m+=\u001b[0m \u001b[0mfloat\u001b[0m\u001b[1;33m(\u001b[0m\u001b[0mrow\u001b[0m\u001b[1;33m[\u001b[0m\u001b[1;36m6\u001b[0m\u001b[1;33m]\u001b[0m\u001b[1;33m)\u001b[0m\u001b[1;33m\u001b[0m\u001b[0m\n\u001b[0m\u001b[0;32m     17\u001b[0m \u001b[1;33m\u001b[0m\u001b[0m\n\u001b[0;32m     18\u001b[0m \u001b[1;33m\u001b[0m\u001b[0m\n",
      "\u001b[1;31mValueError\u001b[0m: could not convert string to float: "
     ]
    }
   ],
   "source": [
    "somatorio_idade = 0\n",
    "somatorio_estudo = 0\n",
    "somatorio_salario = 0\n",
    "\n",
    "\n",
    "with open(r'data/data.csv', 'r') as data_csv:\n",
    "    data = csv.reader(data_csv)\n",
    "    \n",
    "    lista_exemplo = []\n",
    "    somatorio = 0\n",
    "    for i, row in enumerate(data):\n",
    "        if i>0:\n",
    "            print(row)\n",
    "            somatorio_idade += int(row[2]*1)\n",
    "            somatorio_estudo += float(row[4]*1)\n",
    "            somatorio_salario += float(row[6])\n",
    "            \n",
    "        \n",
    "media_idade = round(somatorio_idade/i,2)\n",
    "media_estudo = round(somatorio_estudo/i,2)\n",
    "media_salario = round(somatorio_salario/i,2)\n",
    "\n",
    "\n",
    "print(f'Média da coluna Idade: {media_idade}')\n",
    "print(f'Média da coluna Anos de Estudo: {media_estudo}')\n",
    "print(f'Média da coluna Salario: {media_salario}')"
   ]
  },
  {
   "cell_type": "code",
   "execution_count": 16,
   "metadata": {},
   "outputs": [],
   "source": [
    "# As linhas NULAS não podem ser convertidas em valores números?\n",
    "# Como resolver ? Podemos criar uma FUNÇÃO que resolve isso?"
   ]
  },
  {
   "cell_type": "code",
   "execution_count": null,
   "metadata": {},
   "outputs": [],
   "source": []
  },
  {
   "cell_type": "markdown",
   "metadata": {},
   "source": [
    "### Mediana\n",
    "\n",
    "\n",
    "\n",
    "Mediana é o valor que separa a metade maior e a metade menor de uma amostra, uma população ou uma distribuição de probabilidade. Em termos mais simples, mediana pode ser o valor do meio de um conjunto de dados. No conjunto de dados {1, 3, 3, 6, 7, 8, 9}, por exemplo, a mediana é 6. Se houver um número par de observações, não há um único valor do meio. Então, a mediana é definida como a média dos dois valores do meio. No conjunto de dados {3, 5, 7, 9}, a mediana é (5 + 7) / 2 = 6.\n",
    "\n",
    "A mediana é uma medida comum das propriedades de conjuntos de dados em estatística e em teoria das probabilidades, com importância central na estatística robusta. A estatística robusta é mais resistente, com ponto de ruptura de 50%. A mediana não fornece resultados arbitrariamente grandes desde que mais da metade dos dados não esteja contaminada.\n",
    "\n",
    "A vantagem da mediana em relação à média é que a mediana pode dar uma ideia melhor de um valor típico porque não é tão distorcida por valores extremamente altos ou baixos. Em estudos estatísticos sobre renda familiar ou outros ativos voláteis, a média pode ser distorcida por um pequeno número de valores extremamente altos ou baixos. \n",
    "\n",
    "Exemplos:\n",
    "\n",
    "- Ímpar:\n",
    "\t\t[1, 2, 3, 5, 7, 8, 9, 10, 15]\n",
    "\t\t#elementos: 9\n",
    "\t\tA mediana é o valor da posição 5 (a posição do “meio”)\n",
    "\t\tMediana =  7\n",
    "        \n",
    "        \n",
    "- Par: \n",
    "\t\t[-5, -1, 0, 1, 2, 3, 8, 20]\n",
    "\t\t#elementos: 8\n",
    "\t\tA mediana é a média dos valores nas duas posições centrais\n",
    "\t\tMediana =  (1+2)/2 = 1.5\n",
    "        \n",
    "        \n",
    "  <br>\n",
    "<img src=\"img/mediana.png\">\n",
    "<br>"
   ]
  },
  {
   "cell_type": "markdown",
   "metadata": {},
   "source": [
    "#### Função para calcular a Mediana com Dicionarios"
   ]
  },
  {
   "cell_type": "code",
   "execution_count": 189,
   "metadata": {},
   "outputs": [],
   "source": [
    "contador = 0\n",
    "for row in input_file:\n",
    "    contador += 1\n",
    "    if contador <= 50:\n",
    "        print(row)"
   ]
  },
  {
   "cell_type": "code",
   "execution_count": 190,
   "metadata": {},
   "outputs": [
    {
     "data": {
      "text/plain": [
       "OrderedDict([('seq', '66469'),\n",
       "             ('id', '53117018102.0'),\n",
       "             ('idade', '37'),\n",
       "             ('sexo', 'homem'),\n",
       "             ('anos_estudo', '5.0'),\n",
       "             ('cor/raca', 'Preta'),\n",
       "             ('salario', '460.3500061035156'),\n",
       "             ('estado_civil', '1.0'),\n",
       "             ('regiao', 'centro-oeste')])"
      ]
     },
     "execution_count": 190,
     "metadata": {},
     "output_type": "execute_result"
    }
   ],
   "source": [
    "row"
   ]
  },
  {
   "cell_type": "code",
   "execution_count": 191,
   "metadata": {},
   "outputs": [
    {
     "data": {
      "text/plain": [
       "'37'"
      ]
     },
     "execution_count": 191,
     "metadata": {},
     "output_type": "execute_result"
    }
   ],
   "source": [
    "row['idade']"
   ]
  },
  {
   "cell_type": "code",
   "execution_count": 192,
   "metadata": {},
   "outputs": [
    {
     "data": {
      "text/plain": [
       "'centro-oeste'"
      ]
     },
     "execution_count": 192,
     "metadata": {},
     "output_type": "execute_result"
    }
   ],
   "source": [
    "row['regiao']"
   ]
  },
  {
   "cell_type": "markdown",
   "metadata": {},
   "source": [
    "Vamos criar um looping para procurar a pessoa mais velha da base"
   ]
  },
  {
   "cell_type": "code",
   "execution_count": 177,
   "metadata": {},
   "outputs": [
    {
     "name": "stdout",
     "output_type": "stream",
     "text": [
      "A pessoa mais velha na base é o id 11002710101.0, que tem 60 anos.\n"
     ]
    }
   ],
   "source": [
    "input_file = csv.DictReader(open(r'data/data.csv', 'r') )\n",
    "\n",
    "max_age = None\n",
    "oldest_person = None\n",
    "\n",
    "for row in input_file:\n",
    "    age = int(row[\"idade\"])\n",
    "    if max_age == None or max_age < age:\n",
    "        max_age = age\n",
    "        oldest_person = row[\"id\"]\n",
    "\n",
    "if max_age != None:\n",
    "    print(\"A pessoa mais velha na base é o id %s, que tem %d anos.\" % (oldest_person, max_age))\n",
    "else:\n",
    "    print(\"Não tem ninguém nesse arquivo\")"
   ]
  },
  {
   "cell_type": "code",
   "execution_count": null,
   "metadata": {},
   "outputs": [],
   "source": []
  },
  {
   "cell_type": "code",
   "execution_count": 134,
   "metadata": {},
   "outputs": [
    {
     "name": "stdout",
     "output_type": "stream",
     "text": [
      "['', 'id', 'idade', 'sexo', 'anos_estudo', 'cor/raca', 'salario', 'estado_civil', 'regiao']\n"
     ]
    },
    {
     "data": {
      "text/plain": [
       "{'idade': '37'}"
      ]
     },
     "execution_count": 134,
     "metadata": {},
     "output_type": "execute_result"
    }
   ],
   "source": [
    "import csv\n",
    "reader = csv.reader(open(r'data/data.csv', 'r'))\n",
    "header = next(reader, None)\n",
    "print(header)\n",
    "\n",
    "dicionario = {}\n",
    "\n",
    "for row in reader:\n",
    "    a,b,c,d,e,f,g,h,i = row\n",
    "    dicionario[header[2]] = c\n",
    "    \n",
    "dicionario"
   ]
  },
  {
   "cell_type": "code",
   "execution_count": 136,
   "metadata": {},
   "outputs": [
    {
     "data": {
      "text/plain": [
       "'37'"
      ]
     },
     "execution_count": 136,
     "metadata": {},
     "output_type": "execute_result"
    }
   ],
   "source": [
    "dicionario['idade']"
   ]
  },
  {
   "cell_type": "code",
   "execution_count": 148,
   "metadata": {},
   "outputs": [],
   "source": [
    "mydict = {k: v for k, v in reader}"
   ]
  },
  {
   "cell_type": "code",
   "execution_count": 149,
   "metadata": {},
   "outputs": [
    {
     "data": {
      "text/plain": [
       "{}"
      ]
     },
     "execution_count": 149,
     "metadata": {},
     "output_type": "execute_result"
    }
   ],
   "source": [
    "mydict"
   ]
  },
  {
   "cell_type": "code",
   "execution_count": 150,
   "metadata": {},
   "outputs": [],
   "source": [
    "dicionario['idade'] = {x for row[2] in input_file}"
   ]
  },
  {
   "cell_type": "code",
   "execution_count": 151,
   "metadata": {},
   "outputs": [
    {
     "data": {
      "text/plain": [
       "{'idade': {'homem'}}"
      ]
     },
     "execution_count": 151,
     "metadata": {},
     "output_type": "execute_result"
    }
   ],
   "source": [
    "dicionario"
   ]
  },
  {
   "cell_type": "code",
   "execution_count": null,
   "metadata": {},
   "outputs": [],
   "source": []
  },
  {
   "cell_type": "code",
   "execution_count": null,
   "metadata": {},
   "outputs": [],
   "source": []
  },
  {
   "cell_type": "code",
   "execution_count": null,
   "metadata": {},
   "outputs": [],
   "source": []
  },
  {
   "cell_type": "code",
   "execution_count": null,
   "metadata": {},
   "outputs": [],
   "source": [
    "from collections import Counter\n",
    "from itertools import groupby\n",
    "\n",
    "f = lambda x: x['name']\n",
    "dct = {k: Counter(d['source'] for d in g) for k, g in groupby(data, f)}\n",
    "print(dct)\n"
   ]
  },
  {
   "cell_type": "code",
   "execution_count": 60,
   "metadata": {},
   "outputs": [
    {
     "ename": "TypeError",
     "evalue": "list indices must be integers or slices, not str",
     "output_type": "error",
     "traceback": [
      "\u001b[1;31m---------------------------------------------------------------------------\u001b[0m",
      "\u001b[1;31mTypeError\u001b[0m                                 Traceback (most recent call last)",
      "\u001b[1;32m<ipython-input-60-6e83f0049e51>\u001b[0m in \u001b[0;36m<module>\u001b[1;34m()\u001b[0m\n\u001b[0;32m     10\u001b[0m \u001b[1;33m\u001b[0m\u001b[0m\n\u001b[0;32m     11\u001b[0m \u001b[1;33m\u001b[0m\u001b[0m\n\u001b[1;32m---> 12\u001b[1;33m \u001b[0mcreate_groups_and_count\u001b[0m\u001b[1;33m(\u001b[0m\u001b[0mreader\u001b[0m\u001b[1;33m,\u001b[0m \u001b[1;34m'salario'\u001b[0m\u001b[1;33m,\u001b[0m \u001b[1;34m'salario'\u001b[0m\u001b[1;33m)\u001b[0m\u001b[1;33m\u001b[0m\u001b[0m\n\u001b[0m",
      "\u001b[1;32m<ipython-input-60-6e83f0049e51>\u001b[0m in \u001b[0;36mcreate_groups_and_count\u001b[1;34m(dataset, group_by_key, sum_value_keys)\u001b[0m\n\u001b[0;32m      4\u001b[0m     \u001b[0mdic\u001b[0m \u001b[1;33m=\u001b[0m \u001b[0mdefaultdict\u001b[0m\u001b[1;33m(\u001b[0m\u001b[0mCounter\u001b[0m\u001b[1;33m)\u001b[0m\u001b[1;33m\u001b[0m\u001b[0m\n\u001b[0;32m      5\u001b[0m     \u001b[1;32mfor\u001b[0m \u001b[0mitem\u001b[0m \u001b[1;32min\u001b[0m \u001b[0mdataset\u001b[0m\u001b[1;33m:\u001b[0m\u001b[1;33m\u001b[0m\u001b[0m\n\u001b[1;32m----> 6\u001b[1;33m         \u001b[0mkey\u001b[0m \u001b[1;33m=\u001b[0m \u001b[0mitem\u001b[0m\u001b[1;33m[\u001b[0m\u001b[0mgroup_by_key\u001b[0m\u001b[1;33m]\u001b[0m\u001b[1;33m\u001b[0m\u001b[0m\n\u001b[0m\u001b[0;32m      7\u001b[0m         \u001b[0mvals\u001b[0m \u001b[1;33m=\u001b[0m \u001b[1;33m{\u001b[0m\u001b[0mk\u001b[0m\u001b[1;33m:\u001b[0m\u001b[0mitem\u001b[0m\u001b[1;33m[\u001b[0m\u001b[0mk\u001b[0m\u001b[1;33m]\u001b[0m \u001b[1;32mfor\u001b[0m \u001b[0mk\u001b[0m \u001b[1;32min\u001b[0m \u001b[0msum_value_keys\u001b[0m\u001b[1;33m}\u001b[0m\u001b[1;33m\u001b[0m\u001b[0m\n\u001b[0;32m      8\u001b[0m         \u001b[0mdic\u001b[0m\u001b[1;33m[\u001b[0m\u001b[0mkey\u001b[0m\u001b[1;33m]\u001b[0m\u001b[1;33m.\u001b[0m\u001b[0mupdate\u001b[0m\u001b[1;33m(\u001b[0m\u001b[0mvals\u001b[0m\u001b[1;33m)\u001b[0m\u001b[1;33m\u001b[0m\u001b[0m\n",
      "\u001b[1;31mTypeError\u001b[0m: list indices must be integers or slices, not str"
     ]
    }
   ],
   "source": [
    "\n",
    "def group_and_sum_dataset(dataset, group_by_key, sum_value_keys):\n",
    "\n",
    "    container = defaultdict(Counter)\n",
    "\n",
    "    for item in dataset:\n",
    "        key = item[group_by_key]\n",
    "        values = {k:item[k] for k in sum_value_keys}\n",
    "        container[key].update(values)\n",
    "\n",
    "    new_dataset = [\n",
    "        dict([(group_by_key, item[0])] + item[1].items())\n",
    "            for item in container.items()\n",
    "    ]\n",
    "    new_dataset.sort(key=lambda item: item[group_by_key])\n",
    "\n",
    "    return new_dataset\n",
    "\n"
   ]
  },
  {
   "cell_type": "code",
   "execution_count": null,
   "metadata": {},
   "outputs": [],
   "source": []
  },
  {
   "cell_type": "code",
   "execution_count": 39,
   "metadata": {},
   "outputs": [],
   "source": []
  },
  {
   "cell_type": "code",
   "execution_count": null,
   "metadata": {},
   "outputs": [],
   "source": []
  },
  {
   "cell_type": "code",
   "execution_count": null,
   "metadata": {},
   "outputs": [],
   "source": []
  },
  {
   "cell_type": "code",
   "execution_count": null,
   "metadata": {},
   "outputs": [],
   "source": []
  },
  {
   "cell_type": "code",
   "execution_count": 28,
   "metadata": {},
   "outputs": [],
   "source": []
  },
  {
   "cell_type": "code",
   "execution_count": null,
   "metadata": {},
   "outputs": [],
   "source": []
  },
  {
   "cell_type": "code",
   "execution_count": null,
   "metadata": {},
   "outputs": [],
   "source": []
  },
  {
   "cell_type": "markdown",
   "metadata": {},
   "source": [
    "### Moda\n",
    "\n",
    "\n",
    "Em estatística, moda é uma das medidas de tendência central de um conjunto de dados, assim como a média e a mediana. Ela pode ser definida em moda amostral e populacional.\n",
    "\n",
    "Em relação à primeira delas, a moda amostral de um conjunto de dados trata do valor que ocorre com maior frequência ou o valor mais comum em um conjunto de dados. Moda é especialmente útil quando os valores ou as observações não são numéricos, casos em que a média e a mediana não podem ser definidas. \n",
    "\n",
    "Moda amostral não é necessariamente única como média ou mediana. Amostras que possuem uma moda são chamadas unimodais. Por exemplo, a amostra {1, 2, 3, 5, 5, 6, 7} tem moda 5. Amostras que possuem duas modas são chamadas bimodais. Por exemplo, a amostra {1, 2, 3, 5, 5, 6, 6} tem modas 5 e 6. Amostras que possuem várias modas são chamadas multimodais. Por exemplo, a amostra {1, 2 3, 5, 5, 6, 6, 7, 7} tem modas 5, 6 e 7. Amostras que não possuem moda são chamadas amodais. Por exemplo, a amostra {1, 3, 2, 5, 7, 6} não tem moda. \n",
    "\n",
    "Por exemplo, a moda de [0,1,1,2,2,2,2,3,3,4,4,4,5] é 2.\n",
    "\n",
    "A moda não é necessariamente única. Pode ser que existam dois valores diferentes que sejam os mais frequentes. Por exemplo, no caso de [10, 13, 13, 20, 20], tanto 13 como 20 são a moda.\n",
    "\n",
    "<br>\n",
    "<img src=\"img/moda2.png\">\n",
    "<br>"
   ]
  },
  {
   "cell_type": "code",
   "execution_count": null,
   "metadata": {},
   "outputs": [],
   "source": []
  },
  {
   "cell_type": "code",
   "execution_count": null,
   "metadata": {},
   "outputs": [],
   "source": []
  },
  {
   "cell_type": "markdown",
   "metadata": {},
   "source": [
    "## Análise comparativa"
   ]
  },
  {
   "cell_type": "code",
   "execution_count": 15,
   "metadata": {},
   "outputs": [
    {
     "name": "stdout",
     "output_type": "stream",
     "text": [
      "Salário Médio = 14194.7 \n",
      "Salário Mediano = 6789.1 \n",
      "Salário mais frequênte = 0.0\n",
      "\n",
      "\n",
      "Idade Média = 37.6 \n",
      "Idade Mediana = 51.0 \n",
      "Idade mais frequênte = 20.0\n",
      "\n",
      "\n",
      "Média de Anos de Estudo = 8.6 \n",
      "Médiana de Anos de Estudo = 5.0 \n",
      "Moda de Anos de Estudo = 5.0\n"
     ]
    }
   ],
   "source": [
    "print('Salário Médio =', \"%.1f\" % media_salario,\\\n",
    "      '\\nSalário Mediano =', \"%.1f\" % mediana_salario,\\\n",
    "      '\\nSalário mais frequênte =',\"%.1f\" % moda_salario)\n",
    "\n",
    "print('\\n\\nIdade Média =', \"%.1f\" % media_idade,\\\n",
    "      '\\nIdade Mediana =', \"%.1f\" % mediana_idade,\\\n",
    "      '\\nIdade mais frequênte =',\"%.1f\" % moda_idade)\n",
    "\n",
    "print('\\n\\nMédia de Anos de Estudo =', \"%.1f\" % media_anos_estudo,\\\n",
    "      '\\nMédiana de Anos de Estudo =', \"%.1f\" % mediana_anos_estudo,\\\n",
    "      '\\nModa de Anos de Estudo =',\"%.1f\" % moda_anos_estudo)"
   ]
  },
  {
   "cell_type": "markdown",
   "metadata": {},
   "source": [
    "## Respondento a pergunta original da aula: os homens ganham mais dos que as mulheres?"
   ]
  },
  {
   "cell_type": "code",
   "execution_count": 16,
   "metadata": {},
   "outputs": [
    {
     "data": {
      "text/plain": [
       "mulher      33607\n",
       "homem       32791\n",
       "gestante       72\n",
       "Name: sexo, dtype: int64"
      ]
     },
     "execution_count": 16,
     "metadata": {},
     "output_type": "execute_result"
    }
   ],
   "source": [
    "df['sexo'].value_counts()"
   ]
  },
  {
   "cell_type": "code",
   "execution_count": 17,
   "metadata": {
    "scrolled": true
   },
   "outputs": [],
   "source": [
    "df['sexo'] = df['sexo'].replace('gestante', 'mulher')"
   ]
  },
  {
   "cell_type": "code",
   "execution_count": null,
   "metadata": {},
   "outputs": [],
   "source": []
  },
  {
   "cell_type": "code",
   "execution_count": null,
   "metadata": {},
   "outputs": [],
   "source": []
  },
  {
   "cell_type": "code",
   "execution_count": 18,
   "metadata": {},
   "outputs": [],
   "source": [
    "df_homens = df[df['sexo'] == 'homem']\n",
    "media_salario_homens = df_homens['salario'].mean()\n",
    "mediana_salario_homens = df_homens['salario'].median()\n",
    "moda_salario_homens = df_homens['salario'].mode()"
   ]
  },
  {
   "cell_type": "code",
   "execution_count": 19,
   "metadata": {},
   "outputs": [],
   "source": [
    "df_mulheres = df[df['sexo'] == 'mulher']\n",
    "media_salario_mulheres = df_mulheres['salario'].mean()\n",
    "mediana_salario_mulheres = df_mulheres['salario'].median()\n",
    "moda_salario_mulheres = df_mulheres['salario'].mode()"
   ]
  },
  {
   "cell_type": "code",
   "execution_count": 20,
   "metadata": {},
   "outputs": [
    {
     "name": "stdout",
     "output_type": "stream",
     "text": [
      "Salário Médio do Homem = 22650.38 Salário Médio do Mulher = 15590.65\n",
      "Salário Mediano do Homem = 8400.00 Salário Mediano do Mulher = 5562.00\n",
      "Salário mais frequente do Homem = -1.00 Salário Mais Frequente do Mulher = 0.00\n"
     ]
    }
   ],
   "source": [
    "print('Salário Médio do Homem =', \"%.2f\" % media_salario_homens,'Salário Médio do Mulher =',\"%.2f\" % media_salario_mulheres)\n",
    "print('Salário Mediano do Homem =', \"%.2f\" % mediana_salario_homens,'Salário Mediano do Mulher =', \"%.2f\" % mediana_salario_mulheres)\n",
    "print('Salário mais frequente do Homem =', \"%.2f\" % moda_salario_homens,'Salário Mais Frequente do Mulher =', \"%.2f\" % moda_salario_mulheres)"
   ]
  },
  {
   "cell_type": "code",
   "execution_count": 21,
   "metadata": {},
   "outputs": [
    {
     "ename": "NameError",
     "evalue": "name 'sns' is not defined",
     "output_type": "error",
     "traceback": [
      "\u001b[1;31m---------------------------------------------------------------------------\u001b[0m",
      "\u001b[1;31mNameError\u001b[0m                                 Traceback (most recent call last)",
      "\u001b[1;32m<ipython-input-21-f05958357125>\u001b[0m in \u001b[0;36m<module>\u001b[1;34m()\u001b[0m\n\u001b[0;32m      1\u001b[0m \u001b[1;31m# Gráfico demora um pouco pra rodar\u001b[0m\u001b[1;33m\u001b[0m\u001b[1;33m\u001b[0m\u001b[0m\n\u001b[1;32m----> 2\u001b[1;33m \u001b[0msns\u001b[0m\u001b[1;33m.\u001b[0m\u001b[0mdistplot\u001b[0m\u001b[1;33m(\u001b[0m \u001b[0mdf_homens\u001b[0m\u001b[1;33m[\u001b[0m\u001b[1;34m\"salario\"\u001b[0m\u001b[1;33m]\u001b[0m \u001b[1;33m,\u001b[0m \u001b[0mcolor\u001b[0m\u001b[1;33m=\u001b[0m\u001b[1;34m\"blue\"\u001b[0m\u001b[1;33m,\u001b[0m \u001b[0mlabel\u001b[0m\u001b[1;33m=\u001b[0m\u001b[1;34m\"Salario Homens\"\u001b[0m\u001b[1;33m)\u001b[0m\u001b[1;33m\u001b[0m\u001b[0m\n\u001b[0m\u001b[0;32m      3\u001b[0m \u001b[0msns\u001b[0m\u001b[1;33m.\u001b[0m\u001b[0mdistplot\u001b[0m\u001b[1;33m(\u001b[0m \u001b[0mdf_mulheres\u001b[0m\u001b[1;33m[\u001b[0m\u001b[1;34m\"salario\"\u001b[0m\u001b[1;33m]\u001b[0m \u001b[1;33m,\u001b[0m \u001b[0mcolor\u001b[0m\u001b[1;33m=\u001b[0m\u001b[1;34m\"red\"\u001b[0m\u001b[1;33m,\u001b[0m \u001b[0mlabel\u001b[0m\u001b[1;33m=\u001b[0m\u001b[1;34m\"Salario Mulheres\"\u001b[0m\u001b[1;33m)\u001b[0m\u001b[1;33m\u001b[0m\u001b[0m\n",
      "\u001b[1;31mNameError\u001b[0m: name 'sns' is not defined"
     ]
    }
   ],
   "source": [
    "# Gráfico demora um pouco pra rodar\n",
    "sns.distplot( df_homens[\"salario\"] , color=\"blue\", label=\"Salario Homens\")\n",
    "sns.distplot( df_mulheres[\"salario\"] , color=\"red\", label=\"Salario Mulheres\")"
   ]
  },
  {
   "cell_type": "code",
   "execution_count": null,
   "metadata": {},
   "outputs": [],
   "source": [
    "sexo = ['homem','mulher']\n",
    "\n",
    "sns.distplot(df['salario'], hist = False, kde = True,\n",
    "                 kde_kws = {'shade': True, 'linewidth': 3},label = sexo)"
   ]
  },
  {
   "cell_type": "markdown",
   "metadata": {},
   "source": [
    "Isto significa que na média os homens ganham mais, porém a diferença entre o salário mínimo e o máximo (mediana) para ambos é estatisticamente igual, e o salário mais frequente (moda) para ambos também é o mesmo."
   ]
  },
  {
   "cell_type": "code",
   "execution_count": null,
   "metadata": {},
   "outputs": [],
   "source": [
    "### fazer uma contagem para cada categoria usando dicionario (Comentário Marcos)"
   ]
  },
  {
   "cell_type": "markdown",
   "metadata": {},
   "source": [
    "# Visualização da distribuição dos dados (mundo real)"
   ]
  },
  {
   "cell_type": "markdown",
   "metadata": {},
   "source": [
    "### Distribuição da variável idade"
   ]
  },
  {
   "cell_type": "code",
   "execution_count": null,
   "metadata": {},
   "outputs": [],
   "source": [
    "import seaborn as sns\n",
    "sns.distplot(df['idade'])"
   ]
  },
  {
   "cell_type": "markdown",
   "metadata": {},
   "source": [
    "### Distribuição da variável anos de estudo"
   ]
  },
  {
   "cell_type": "markdown",
   "metadata": {},
   "source": [
    "#### Preenchendo os valores nulos com a mediana para poder plotar a distribuição"
   ]
  },
  {
   "cell_type": "code",
   "execution_count": null,
   "metadata": {},
   "outputs": [],
   "source": [
    "df['anos_estudo'].fillna((df['anos_estudo'].median()), inplace=True)"
   ]
  },
  {
   "cell_type": "code",
   "execution_count": null,
   "metadata": {},
   "outputs": [],
   "source": [
    "sns.distplot(df['anos_estudo'])"
   ]
  },
  {
   "cell_type": "code",
   "execution_count": null,
   "metadata": {},
   "outputs": [],
   "source": [
    "df['salario'].fillna((df['salario'].median()), inplace=True)"
   ]
  },
  {
   "cell_type": "code",
   "execution_count": null,
   "metadata": {},
   "outputs": [],
   "source": [
    "sns.distplot(df['salario'])"
   ]
  },
  {
   "cell_type": "code",
   "execution_count": null,
   "metadata": {},
   "outputs": [],
   "source": [
    "print ('Assimetria do Salário =', \"%.4f\"% df['salario'].skew())\n",
    "print ('Assimetria da idade =', \"%.4f\"% df['idade'].skew())\n",
    "print ('Assimetria dos anos de estudo =', \"%.4f\"% df['anos_estudo'].skew())"
   ]
  },
  {
   "cell_type": "markdown",
   "metadata": {},
   "source": [
    "# Exemplo de curva de distribuição assimétrica \n",
    "\n",
    "Não é necessário preocupar-se com o código, mas sim com o conceito."
   ]
  },
  {
   "cell_type": "code",
   "execution_count": null,
   "metadata": {},
   "outputs": [],
   "source": [
    "from scipy.stats import gamma\n",
    "data_gamma = gamma.rvs(a=5, size=10000)\n",
    "\n",
    "ax = sns.distplot(data_gamma,kde=True,bins=100,color='skyblue',hist_kws={\"linewidth\": 15,'alpha':1})\n",
    "ax.set(xlabel='Gamma Distribution', ylabel='Frequency')"
   ]
  },
  {
   "cell_type": "code",
   "execution_count": null,
   "metadata": {},
   "outputs": [],
   "source": []
  }
 ],
 "metadata": {
  "hide_input": false,
  "kernelspec": {
   "display_name": "Python 3",
   "language": "python",
   "name": "python3"
  },
  "language_info": {
   "codemirror_mode": {
    "name": "ipython",
    "version": 3
   },
   "file_extension": ".py",
   "mimetype": "text/x-python",
   "name": "python",
   "nbconvert_exporter": "python",
   "pygments_lexer": "ipython3",
   "version": "3.6.4"
  },
  "toc": {
   "base_numbering": 1,
   "nav_menu": {
    "height": "417px",
    "width": "637px"
   },
   "number_sections": true,
   "sideBar": true,
   "skip_h1_title": true,
   "title_cell": "Table of Contents",
   "title_sidebar": "Contents",
   "toc_cell": true,
   "toc_position": {
    "height": "calc(100% - 180px)",
    "left": "10px",
    "top": "150px",
    "width": "187.808px"
   },
   "toc_section_display": true,
   "toc_window_display": true
  },
  "widgets": {
   "application/vnd.jupyter.widget-state+json": {
    "state": {},
    "version_major": 2,
    "version_minor": 0
   }
  }
 },
 "nbformat": 4,
 "nbformat_minor": 2
}
