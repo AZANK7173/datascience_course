{
 "cells": [
  {
   "cell_type": "markdown",
   "metadata": {},
   "source": [
    "\n",
    "# O que é análise exploratória de dados?\n",
    "\n",
    "<br>\n",
    "<img src=\"img/analise_dados.png\">\n",
    "<br>\n",
    "\n",
    "\n",
    "*fonte: Wikipedia*\n",
    "\n",
    "Em estatística, a **análise exploratória de dados (AED)** é uma abordagem à análise de conjuntos de dados de modo a resumir suas características principais, frequentemente com métodos visuais. Um modelo estatístico pode ou não ser usado, mas primariamente a AED tem como objetivo observar o que os dados podem nos dizer além da modelagem formal ou do processo de teste de hipóteses. A análise exploratória de dados foi promovida pelo estatístico norte-americano John Tukey, que incentivava os estatísticos a explorar os dados e possivelmente formular hipóteses que poderiam levar a novas coletas de dados e experimentos. A **AED** é diferente da análise inicial de dados (AID), que se concentra mais estreitamente em verificar os pressupostos exigidos para ajuste de modelos e teste de hipóteses, além de manusear valores faltantes e fazer transformações de variáveis conforme necessário. A análise exploratória de dados abrange a AID.\n",
    "\n",
    "A análise exploratória de dados emprega grande variedade de técnicas gráficas e quantitativas, visando maximizar a obtenção de informações ocultas na sua estrutura, descobrir variáveis importantes em suas tendências, detectar comportamentos anômalos do fenômeno, testar se são válidas as hipóteses assumidas, escolher modelos e determinar o número ótimo de variáveis.\n",
    "\n",
    "Os softwares atualmente disponíveis possibilitam que esta técnica se constitua em uma ferramenta para descobrir quais tendências, relações e padrões podem estar ocultos em uma coleção de dados analisados. Seguindo as diretrizes propostas por Tukey, os investigadores deveriam iniciar sua análise pelo exame dos dados disponíveis e depois decidir qual técnica aplicar para resolver o problema. \n",
    "\n",
    "### Etapas\n",
    "\n",
    "Para realizar uma AED recomenda-se seguir as seguintes etapas:\n",
    "\n",
    "1. Encontrar, acessar e abrir os dados na interface de trabalho (Python);\n",
    "\n",
    "2. Identificar as informações básicas dos dados com por exemplo conhecer as colunas, missing values, outliers, medidas de centralidade (média, mediana, moda) e dispersão (desvio padrão, variância);\n",
    "\n",
    "3. Reconhecimento dos tipos de variáveis (figura 1) e como tratar cada uma delas;\n",
    "\n",
    "4. Análise gráfica para verificação do comportamento das variáveis (linearidade, normalidade);\n",
    "\n",
    "5. Descrição da relação entre as variávies contidas nos dados (correlações).\n",
    "\n",
    "#### Figura 1: tipos de variáveis em estatística descritiva\n",
    "\n",
    "<img src=\"img/tipos_de_variaveis.png\">\n"
   ]
  },
  {
   "cell_type": "markdown",
   "metadata": {},
   "source": [
    "# Trabalhando os arquivos com Python"
   ]
  },
  {
   "cell_type": "markdown",
   "metadata": {},
   "source": [
    "### Abrindo o arquivo e acessando os dados"
   ]
  },
  {
   "cell_type": "code",
   "execution_count": 37,
   "metadata": {
    "scrolled": true
   },
   "outputs": [
    {
     "name": "stdout",
     "output_type": "stream",
     "text": [
      "['', 'id', 'idade', 'sexo', 'anos_estudo', 'cor/raca', 'salario', 'estado_civil', 'regiao']\n",
      "['0', '11001901101.0', '53', 'homem', '5.0', 'Parda', '63600.0', '1.0', 'norte']\n",
      "['1', '11001901102.0', '49', 'mulher', '8.0', 'Amarela', '', '1.0', 'norte']\n",
      "['2', '11001901103.0', '22', 'mulher', '11.0', 'Indigena', '4352.400390625', '0.0', 'nordeste']\n",
      "['3', '11001903101.0', '55', 'homem', '15.0', 'Amarela', '96600.0', '1.0', 'norte']\n",
      "['4', '11001903102.0', '56', 'mulher', '15.0', 'Amarela', '157800.0', '1.0', 'norte']\n",
      "['5', '11001903103.0', '30', 'mulher', '15.0', 'Amarela', '88550.0', '0.0', 'nordeste']\n",
      "['6', '11001904101.0', '52', 'mulher', '5.0', 'Branca', '6734.400390625', '0.0', 'norte']\n",
      "['7', '11001904104.0', '29', 'homem', '5.0', 'Parda', '14875.20068359375', '0.0', 'norte']\n",
      "['8', '11001904105.0', '29', 'mulher', '11.0', 'Parda', '6734.400390625', '0.0', 'norte']\n",
      "['9', '11001905101.0', '46', 'mulher', '15.0', 'Branca', '54300.0', '1.0', 'norte']\n",
      "['10', '11001905102.0', '52', 'homem', '11.0', 'Branca', '42768.0', '1.0', 'norte']\n",
      "['11', '11001905103.0', '22', 'mulher', '13.0', 'Branca', '34500.0', '0.0', 'norte']\n",
      "['12', '11001907101.0', '26', 'mulher', '11.0', 'Parda', '981.0', '1.0', 'norte']\n",
      "['13', '11001907102.0', '20', 'homem', '7.0', 'Parda', '1581.5999755859375', '1.0', 'norte']\n",
      "['14', '11001908101.0', '30', 'mulher', '5.0', 'Parda', '5136.0', '1.0', 'norte']\n",
      "['15', '11001908102.0', '48', 'homem', '5.0', 'Parda', '', '1.0', 'norte']\n",
      "['16', '11001909101.0', '30', 'mulher', '5.0', 'Parda', '', '0.0', 'norte']\n",
      "['17', '11001910101.0', '27', 'mulher', '6.0', 'Parda', '3712.0', '0.0', 'norte']\n",
      "['18', '11001911101.0', '33', 'homem', '6.0', 'Parda', '10256.7998046875', '1.0', 'norte']\n",
      "['19', '11001911102.0', '30', 'mulher', '11.0', 'Parda', '378.0', '1.0', 'norte']\n",
      "['20', '11001912102.0', '34', 'mulher', '15.0', 'Preta', '15187.19921875', '0.0', 'norte']\n",
      "['21', '11001912103.0', '28', 'mulher', '15.0', 'Preta', '', '0.0', 'norte']\n",
      "['22', '11002702101.0', '25', 'homem', '11.0', 'Parda', '16560.0', '1.0', 'norte']\n",
      "['23', '11002702102.0', '26', 'mulher', '11.0', 'Preta', '7792.19970703125', '1.0', 'norte']\n",
      "['24', '11002703101.0', '32', 'homem', '7.0', 'Preta', '8904.0', '1.0', 'norte']\n",
      "['25', '11002703102.0', '36', 'mulher', '5.0', 'Parda', '2805.2000122070312', '1.0', 'norte']\n",
      "['26', '11002704101.0', '40', 'homem', '5.0', 'Parda', '24564.0', '1.0', 'norte']\n",
      "['27', '11002704102.0', '38', 'mulher', '5.0', 'Parda', '31044.0', '1.0', 'norte']\n",
      "['28', '11002706101.0', '27', 'homem', '9.0', 'Parda', '5550.0', '1.0', 'norte']\n",
      "['29', '11002706102.0', '25', 'mulher', '11.0', 'Branca', '', '1.0', 'norte']\n",
      "['30', '11002707101.0', '42', 'mulher', '15.0', 'Branca', '38844.2783203125', '1.0', 'norte']\n",
      "['31', '11002707102.0', '43', 'homem', '15.0', 'Parda', '2034.0', '1.0', 'norte']\n",
      "['32', '11002708101.0', '25', 'homem', '8.0', 'Parda', '2476.47998046875', '1.0', 'norte']\n",
      "['33', '11002708102.0', '22', 'mulher', '5.0', 'Branca', '', '1.0', 'norte']\n",
      "['34', '11002709101.0', '31', 'mulher', '11.0', 'Branca', '7062.0', '0.0', 'norte']\n",
      "['35', '11002710101.0', '60', 'mulher', '5.0', 'Parda', '4240.0', '0.0', 'norte']\n",
      "['36', '11002710102.0', '24', 'mulher', '11.0', 'Preta', '7233.240234375', '0.0', 'norte']\n",
      "['37', '11002710103.0', '22', 'homem', '9.0', 'Parda', '5428.2001953125', '0.0', 'norte']\n",
      "['38', '11002711103.0', '28', 'mulher', '11.0', 'Parda', '2180.0', '0.0', 'norte']\n",
      "['39', '11002711104.0', '30', 'homem', '11.0', 'Parda', '5203.60009765625', '0.0', 'norte']\n",
      "['40', '11002713101.0', '55', 'mulher', '10.0', 'Parda', '5328.599609375', '0.0', 'norte']\n",
      "['41', '11002713102.0', '32', 'mulher', '8.0', 'Amarela', '723.2000122070312', '0.0', 'norte']\n",
      "['42', '11003501101.0', '35', 'homem', '5.0', 'Parda', '24564.0', '1.0', 'norte']\n",
      "['43', '11003501102.0', '31', 'mulher', '5.0', 'Parda', '', '1.0', 'norte']\n",
      "['44', '11003502101.0', '40', 'homem', '5.0', 'Parda', '15960.0', '0.0', 'norte']\n",
      "['45', '11003505101.0', '58', 'mulher', '5.0', 'Parda', '', '0.0', 'norte']\n",
      "['46', '11003506101.0', '48', 'homem', '6.0', 'Parda', '25440.0', '1.0', 'norte']\n",
      "['47', '11003506101.0', '27', 'mulher', '5.0', 'Parda', '5940.0', '1.0', 'nordeste']\n",
      "['48', '11003507101.0', '24', 'homem', '5.0', 'Parda', '6300.0', '0.0', 'norte']\n",
      "['49', '11003508101.0', '31', 'homem', '6.0', 'Branca', '13080.0', '1.0', 'norte']\n",
      "['50', '11003508102.0', '30', 'mulher', '5.0', 'Preta', '2199.0', '1.0', 'norte']\n",
      "['51', '11003510101.0', '41', 'homem', '5.0', 'Parda', '24091.2001953125', '0.0', 'norte']\n",
      "['52', '11003510103.0', '47', 'homem', '5.0', 'Parda', '', '0.0', 'norte']\n",
      "['53', '11003510104.0', '32', 'homem', '10.0', 'Parda', '', '0.0', 'norte']\n",
      "['54', '11003511101.0', '37', 'homem', '5.0', 'Branca', '52320.0', '1.0', 'norte']\n",
      "['55', '11003511102.0', '29', 'mulher', '11.0', 'Parda', '', '1.0', 'nordeste']\n",
      "['56', '11003513101.0', '58', 'homem', '5.0', 'Parda', '15120.0', '1.0', 'norte']\n",
      "['57', '11003513102.0', '34', 'mulher', '5.0', 'Branca', '0.0', '1.0', 'norte']\n",
      "['58', '11004302101.0', '35', 'mulher', '8.0', 'Branca', '3780.0', '0.0', 'norte']\n",
      "['59', '11004303102.0', '49', 'mulher', '11.0', 'Branca', '23674.80078125', '0.0', 'norte']\n",
      "['60', '11004304101.0', '46', 'homem', '11.0', 'Parda', '23544.0', '1.0', 'norte']\n",
      "['61', '11004304102.0', '39', 'mulher', '11.0', 'Branca', '23544.0', '1.0', 'norte']\n",
      "['62', '11004305103.0', '26', 'homem', '7.0', 'Parda', '8652.0', '0.0', 'norte']\n",
      "['63', '11004305104.0', '23', 'mulher', '10.0', 'Parda', '', '0.0', 'norte']\n",
      "['64', '11004307101.0', '27', 'mulher', '5.0', 'Parda', '6489.0', '0.0', 'norte']\n",
      "['65', '11004312101.0', '45', 'mulher', '14.0', 'Branca', '19080.0', '0.0', 'norte']\n",
      "['66', '11004313101.0', '41', 'homem', '8.0', 'Parda', '10747.80078125', '0.0', 'norte']\n",
      "['67', '11005101102.0', '27', 'mulher', '11.0', 'Preta', '3985.449951171875', '0.0', 'norte']\n",
      "['68', '11005101103.0', '26', 'homem', '11.0', 'Preta', '3195.5', '0.0', 'norte']\n",
      "['69', '11005101104.0', '28', 'homem', '11.0', 'Parda', '31392.0', '0.0', 'norte']\n",
      "['70', '11005102101.0', '40', 'homem', '11.0', 'Preta', '13812.48046875', '0.0', 'norte']\n",
      "['71', '11005103101.0', '41', 'mulher', '5.0', 'Parda', '', '0.0', 'norte']\n",
      "['72', '11005103102.0', '27', 'homem', '7.0', 'Parda', '', '0.0', 'norte']\n",
      "['73', '11005103103.0', '26', 'mulher', '11.0', 'Parda', '1278.0', '0.0', 'norte']\n",
      "['74', '11005103104.0', '23', 'mulher', '7.0', 'Parda', '1291.5', '0.0', 'norte']\n",
      "['75', '11005103105.0', '22', 'homem', '11.0', 'Parda', '3270.0', '0.0', 'norte']\n",
      "['76', '11005103106.0', '21', 'mulher', '8.0', 'Parda', '1726.4000244140625', '0.0', 'norte']\n",
      "['77', '11005103107.0', '23', 'homem', '11.0', 'Parda', '', '0.0', 'norte']\n",
      "['78', '11005103110.0', '25', 'homem', '11.0', 'Parda', '', '0.0', 'norte']\n",
      "['79', '11005104101.0', '43', 'mulher', '10.0', 'Indigena', '3296.0', '1.0', 'norte']\n",
      "['80', '11005104102.0', '46', 'homem', '11.0', 'Branca', '', '1.0', 'norte']\n",
      "['81', '11005104103.0', '21', 'mulher', '11.0', 'Parda', '', '0.0', 'norte']\n",
      "['82', '11005104106.0', '27', 'homem', '5.0', 'Parda', '5288.400390625', '0.0', 'norte']\n",
      "['83', '11005105101.0', '52', 'homem', '5.0', 'Parda', '5129.400390625', '0.0', 'norte']\n",
      "['84', '11005106101.0', '50', 'mulher', '8.0', 'Parda', '5179.2001953125', '0.0', 'norte']\n",
      "['85', '11005106102.0', '26', 'homem', '11.0', 'Parda', '', '0.0', 'norte']\n",
      "['86', '11005106103.0', '23', 'homem', '13.0', 'Parda', '6104.0', '0.0', 'norte']\n",
      "['87', '11005106105.0', '23', 'mulher', '11.0', 'Parda', '', '0.0', 'norte']\n",
      "['88', '11005107101.0', '35', 'homem', '8.0', 'Parda', '6092.099853515625', '1.0', 'norte']\n",
      "['89', '11005107102.0', '34', 'mulher', '6.0', 'Parda', '9450.0', '1.0', 'norte']\n",
      "['90', '11005108101.0', '52', 'homem', '15.0', 'Parda', '', '1.0', 'norte']\n",
      "['91', '11005108102.0', '49', 'mulher', '13.0', 'Parda', '21624.0', '1.0', 'norte']\n",
      "['92', '11005108103.0', '22', 'homem', '12.0', 'Parda', '', '0.0', 'norte']\n",
      "['93', '11005109102.0', '27', 'homem', '9.0', 'Branca', '1671.2000122070312', '0.0', 'norte']\n",
      "['94', '11005110101.0', '22', 'homem', '10.0', 'Branca', '4987.600006103516', '0.0', 'norte']\n",
      "['95', '11005112101.0', '55', 'homem', '5.0', 'Parda', '6249.599609375', '1.0', 'norte']\n",
      "['96', '11005112102.0', '48', 'mulher', '11.0', 'Parda', '6249.599609375', '1.0', 'norte']\n",
      "['97', '11005112103.0', '21', 'mulher', '15.0', 'Parda', '6249.599609375', '0.0', 'norte']\n",
      "['98', '11005112104.0', '40', 'homem', '11.0', 'Parda', '1562.39990234375', '0.0', 'norte']\n",
      "66470\n"
     ]
    }
   ],
   "source": [
    "import csv\n",
    "\n",
    "with open(r'data/data.csv', 'r') as data_csv:\n",
    "    data = csv.reader(data_csv)\n",
    "     \n",
    "    for i, line in enumerate(data):\n",
    "        if i < 100:\n",
    "            print(line)\n",
    "            \n",
    "    print(i)"
   ]
  },
  {
   "cell_type": "code",
   "execution_count": 38,
   "metadata": {},
   "outputs": [
    {
     "data": {
      "text/plain": [
       "_csv.reader"
      ]
     },
     "execution_count": 38,
     "metadata": {},
     "output_type": "execute_result"
    }
   ],
   "source": [
    "type(data)"
   ]
  },
  {
   "cell_type": "code",
   "execution_count": 3,
   "metadata": {},
   "outputs": [
    {
     "data": {
      "text/html": [
       "<div>\n",
       "<style scoped>\n",
       "    .dataframe tbody tr th:only-of-type {\n",
       "        vertical-align: middle;\n",
       "    }\n",
       "\n",
       "    .dataframe tbody tr th {\n",
       "        vertical-align: top;\n",
       "    }\n",
       "\n",
       "    .dataframe thead th {\n",
       "        text-align: right;\n",
       "    }\n",
       "</style>\n",
       "<table border=\"1\" class=\"dataframe\">\n",
       "  <thead>\n",
       "    <tr style=\"text-align: right;\">\n",
       "      <th></th>\n",
       "      <th>Unnamed: 0</th>\n",
       "      <th>id</th>\n",
       "      <th>idade</th>\n",
       "      <th>sexo</th>\n",
       "      <th>anos_estudo</th>\n",
       "      <th>cor/raca</th>\n",
       "      <th>salario</th>\n",
       "      <th>estado_civil</th>\n",
       "      <th>regiao</th>\n",
       "    </tr>\n",
       "  </thead>\n",
       "  <tbody>\n",
       "    <tr>\n",
       "      <th>0</th>\n",
       "      <td>0</td>\n",
       "      <td>1.100190e+10</td>\n",
       "      <td>53</td>\n",
       "      <td>homem</td>\n",
       "      <td>5.0</td>\n",
       "      <td>Parda</td>\n",
       "      <td>63600.000000</td>\n",
       "      <td>1.0</td>\n",
       "      <td>norte</td>\n",
       "    </tr>\n",
       "    <tr>\n",
       "      <th>1</th>\n",
       "      <td>1</td>\n",
       "      <td>1.100190e+10</td>\n",
       "      <td>49</td>\n",
       "      <td>mulher</td>\n",
       "      <td>8.0</td>\n",
       "      <td>Amarela</td>\n",
       "      <td>NaN</td>\n",
       "      <td>1.0</td>\n",
       "      <td>norte</td>\n",
       "    </tr>\n",
       "    <tr>\n",
       "      <th>2</th>\n",
       "      <td>2</td>\n",
       "      <td>1.100190e+10</td>\n",
       "      <td>22</td>\n",
       "      <td>mulher</td>\n",
       "      <td>11.0</td>\n",
       "      <td>Indigena</td>\n",
       "      <td>4352.400391</td>\n",
       "      <td>0.0</td>\n",
       "      <td>nordeste</td>\n",
       "    </tr>\n",
       "    <tr>\n",
       "      <th>3</th>\n",
       "      <td>3</td>\n",
       "      <td>1.100190e+10</td>\n",
       "      <td>55</td>\n",
       "      <td>homem</td>\n",
       "      <td>15.0</td>\n",
       "      <td>Amarela</td>\n",
       "      <td>96600.000000</td>\n",
       "      <td>1.0</td>\n",
       "      <td>norte</td>\n",
       "    </tr>\n",
       "    <tr>\n",
       "      <th>4</th>\n",
       "      <td>4</td>\n",
       "      <td>1.100190e+10</td>\n",
       "      <td>56</td>\n",
       "      <td>mulher</td>\n",
       "      <td>15.0</td>\n",
       "      <td>Amarela</td>\n",
       "      <td>157800.000000</td>\n",
       "      <td>1.0</td>\n",
       "      <td>norte</td>\n",
       "    </tr>\n",
       "  </tbody>\n",
       "</table>\n",
       "</div>"
      ],
      "text/plain": [
       "   Unnamed: 0            id  idade    sexo  anos_estudo  cor/raca  \\\n",
       "0           0  1.100190e+10     53   homem          5.0     Parda   \n",
       "1           1  1.100190e+10     49  mulher          8.0   Amarela   \n",
       "2           2  1.100190e+10     22  mulher         11.0  Indigena   \n",
       "3           3  1.100190e+10     55   homem         15.0   Amarela   \n",
       "4           4  1.100190e+10     56  mulher         15.0   Amarela   \n",
       "\n",
       "         salario  estado_civil    regiao  \n",
       "0   63600.000000           1.0     norte  \n",
       "1            NaN           1.0     norte  \n",
       "2    4352.400391           0.0  nordeste  \n",
       "3   96600.000000           1.0     norte  \n",
       "4  157800.000000           1.0     norte  "
      ]
     },
     "execution_count": 3,
     "metadata": {},
     "output_type": "execute_result"
    }
   ],
   "source": [
    "import pandas as pd\n",
    "\n",
    "df = pd.read_csv(\"data/data.csv\") \n",
    "df.head()"
   ]
  },
  {
   "cell_type": "code",
   "execution_count": 31,
   "metadata": {},
   "outputs": [
    {
     "name": "stdout",
     "output_type": "stream",
     "text": [
      "<class 'pandas.core.frame.DataFrame'>\n",
      "RangeIndex: 66470 entries, 0 to 66469\n",
      "Data columns (total 9 columns):\n",
      "Unnamed: 0      66470 non-null int64\n",
      "id              66470 non-null float64\n",
      "idade           66470 non-null int64\n",
      "sexo            66470 non-null object\n",
      "anos_estudo     66036 non-null float64\n",
      "cor/raca        66228 non-null object\n",
      "salario         47878 non-null float64\n",
      "estado_civil    66470 non-null float64\n",
      "regiao          66470 non-null object\n",
      "dtypes: float64(4), int64(2), object(3)\n",
      "memory usage: 4.6+ MB\n"
     ]
    }
   ],
   "source": [
    "df.info()"
   ]
  },
  {
   "cell_type": "markdown",
   "metadata": {},
   "source": [
    "# Medidas de Centralidade"
   ]
  },
  {
   "cell_type": "markdown",
   "metadata": {},
   "source": [
    "### Média\n",
    "\n",
    "<br>\n",
    "<img src=\"img/media.png\">\n",
    "<br>\n",
    "\n",
    "*fonte: Wikipedia*\n",
    "\n",
    "Em estatística, média é definida como o valor que mostra para onde se concentram os dados de uma distribuição como o ponto de equilíbrio das frequências em um histograma. Média também é interpretada como um valor significativo de uma lista de números. Os valores de uma lista de números podem ser representados por meio da escolha aleatória de um número. Se todos os números forem iguais, o número escolhido aleatoriamente será a média. Então, a média pode ser calculada por meio da combinação dos números de maneira específica e da geração de um valor significativo. Entretanto, a palavra média é usualmente usada em métodos mais sofisticados como média aritmética, mediana, moda, entre outros.\n",
    "\n",
    "Seguindo uma definição mais informal de \"média\", pode-se assumir que no campo da estatística, dados possuem posições. Por exemplo, cada valor dos lançamentos de um dado possui sua posição em uma planilha eletrônica. Em estatística, média é uma medida de posição que indica um valor uniforme dos dados. Por exemplo, o conjunto x = { 2 , 1 , 6 , 5 , 10 } possui média aritmética 4,8. Embora 4,8 seja o valor médio, ele não é o valor central definido pela mediana.\n",
    "\n",
    "A **média** é calculada por:\n",
    "\n",
    "$$ \\overline x = \\frac{1}{n} \\sum_i x_i $$\n",
    "\n",
    "Por exemplo, para a mostra 8, 5, 3, -1, e -5, a média é:"
   ]
  },
  {
   "cell_type": "code",
   "execution_count": 1,
   "metadata": {},
   "outputs": [
    {
     "name": "stdout",
     "output_type": "stream",
     "text": [
      "Somando 8 + 0 = 8\n",
      "Somando 5 + 8 = 13\n",
      "Somando 3 + 13 = 16\n",
      "Somando -1 + 16 = 15\n",
      "Somando -5 + 15 = 10\n",
      "\n",
      "média: 2.0\n"
     ]
    }
   ],
   "source": [
    "numbers = [8,5,3,-1,-5]\n",
    "\n",
    "somatorio = 0\n",
    "for number in numbers:\n",
    "    somatorio += number\n",
    "    print(f'Somando {number} + {somatorio-number} = {somatorio}')\n",
    "    \n",
    "media = somatorio/len(numbers)\n",
    "print('\\nmédia:',media)"
   ]
  },
  {
   "cell_type": "markdown",
   "metadata": {},
   "source": [
    "### Calculando a média para variável do salário"
   ]
  },
  {
   "cell_type": "code",
   "execution_count": 59,
   "metadata": {},
   "outputs": [
    {
     "data": {
      "text/plain": [
       "16184.410275956378"
      ]
     },
     "execution_count": 59,
     "metadata": {},
     "output_type": "execute_result"
    }
   ],
   "source": [
    "media_salario = df['salario'].sum() / df.shape[0]\n",
    "media_salario"
   ]
  },
  {
   "cell_type": "markdown",
   "metadata": {},
   "source": [
    "### Calculando a média para a variável da idade"
   ]
  },
  {
   "cell_type": "code",
   "execution_count": 60,
   "metadata": {},
   "outputs": [
    {
     "data": {
      "text/plain": [
       "37.6348126974575"
      ]
     },
     "execution_count": 60,
     "metadata": {},
     "output_type": "execute_result"
    }
   ],
   "source": [
    "media_idade = df['idade'].sum() / df.shape[0]\n",
    "media_idade"
   ]
  },
  {
   "cell_type": "markdown",
   "metadata": {},
   "source": [
    "### Calculando a média para a variável anos de estudo"
   ]
  },
  {
   "cell_type": "code",
   "execution_count": 15,
   "metadata": {},
   "outputs": [
    {
     "data": {
      "text/plain": [
       "8.629351587182187"
      ]
     },
     "execution_count": 15,
     "metadata": {},
     "output_type": "execute_result"
    }
   ],
   "source": [
    "media_anos_estudo = df['anos_estudo'].sum() / df.shape[0]\n",
    "media_anos_estudo"
   ]
  },
  {
   "cell_type": "markdown",
   "metadata": {},
   "source": [
    "### Mediana\n",
    "\n",
    "<br>\n",
    "<img src=\"img/mediana.png\">\n",
    "<br>\n",
    "\n",
    "Mediana é o valor que separa a metade maior e a metade menor de uma amostra, uma população ou uma distribuição de probabilidade. Em termos mais simples, mediana pode ser o valor do meio de um conjunto de dados. No conjunto de dados {1, 3, 3, 6, 7, 8, 9}, por exemplo, a mediana é 6. Se houver um número par de observações, não há um único valor do meio. Então, a mediana é definida como a média dos dois valores do meio. No conjunto de dados {3, 5, 7, 9}, a mediana é (5 + 7) / 2 = 6.\n",
    "\n",
    "A mediana é uma medida comum das propriedades de conjuntos de dados em estatística e em teoria das probabilidades, com importância central na estatística robusta. A estatística robusta é mais resistente, com ponto de ruptura de 50%. A mediana não fornece resultados arbitrariamente grandes desde que mais da metade dos dados não esteja contaminada.\n",
    "\n",
    "A vantagem da mediana em relação à média é que a mediana pode dar uma ideia melhor de um valor típico porque não é tão distorcida por valores extremamente altos ou baixos. Em estudos estatísticos sobre renda familiar ou outros ativos voláteis, a média pode ser distorcida por um pequeno número de valores extremamente altos ou baixos. \n",
    "\n",
    "Exemplos:\n",
    "\n",
    "- Ímpar:\n",
    "\t\t[1, 2, 3, 5, 7, 8, 9, 10, 15]\n",
    "\t\t#elementos: 9\n",
    "\t\tA mediana é o valor da posição 5 (a posição do “meio”)\n",
    "\t\tMediana =  7\n",
    "        \n",
    "        \n",
    "- Par: \n",
    "\t\t[-5, -1, 0, 1, 2, 3, 8, 20]\n",
    "\t\t#elementos: 8\n",
    "\t\tA mediana é a média dos valores nas duas posições centrais\n",
    "\t\tMediana =  (1+2)/2 = 1.5\n",
    "        \n",
    "        \n",
    "  "
   ]
  },
  {
   "cell_type": "markdown",
   "metadata": {},
   "source": [
    "### Calculando a mediana para a coluna de dados do salário"
   ]
  },
  {
   "cell_type": "code",
   "execution_count": 61,
   "metadata": {},
   "outputs": [
    {
     "data": {
      "text/plain": [
       "6789.1201171875"
      ]
     },
     "execution_count": 61,
     "metadata": {},
     "output_type": "execute_result"
    }
   ],
   "source": [
    "mediana_salario = df['salario'][df.shape[0]/2]\n",
    "mediana_salario"
   ]
  },
  {
   "cell_type": "markdown",
   "metadata": {},
   "source": [
    "### Calculando a mediana para a coluna de dados de idade"
   ]
  },
  {
   "cell_type": "code",
   "execution_count": 39,
   "metadata": {},
   "outputs": [
    {
     "data": {
      "text/plain": [
       "51"
      ]
     },
     "execution_count": 39,
     "metadata": {},
     "output_type": "execute_result"
    }
   ],
   "source": [
    "mediana_idade = df['idade'][df.shape[0]/2]\n",
    "mediana_idade"
   ]
  },
  {
   "cell_type": "markdown",
   "metadata": {},
   "source": [
    "### Calculando a mediana para a coluna de dados de anos de estudo"
   ]
  },
  {
   "cell_type": "code",
   "execution_count": 16,
   "metadata": {},
   "outputs": [
    {
     "data": {
      "text/plain": [
       "5.0"
      ]
     },
     "execution_count": 16,
     "metadata": {},
     "output_type": "execute_result"
    }
   ],
   "source": [
    "mediana_anos_estudo = df['anos_estudo'][df.shape[0]/2]\n",
    "mediana_anos_estudo"
   ]
  },
  {
   "cell_type": "markdown",
   "metadata": {},
   "source": [
    "### Moda\n",
    "\n",
    "<br>\n",
    "<img src=\"img/moda2.png\">\n",
    "<br>\n",
    "\n",
    "\n",
    "Em estatística, moda é uma das medidas de tendência central de um conjunto de dados, assim como a média e a mediana. Ela pode ser definida em moda amostral e populacional.\n",
    "\n",
    "Em relação à primeira delas, a moda amostral de um conjunto de dados trata do valor que ocorre com maior frequência ou o valor mais comum em um conjunto de dados. Moda é especialmente útil quando os valores ou as observações não são numéricos, casos em que a média e a mediana não podem ser definidas. \n",
    "\n",
    "Moda amostral não é necessariamente única como média ou mediana. Amostras que possuem uma moda são chamadas unimodais. Por exemplo, a amostra {1, 2, 3, 5, 5, 6, 7} tem moda 5. Amostras que possuem duas modas são chamadas bimodais. Por exemplo, a amostra {1, 2, 3, 5, 5, 6, 6} tem modas 5 e 6. Amostras que possuem várias modas são chamadas multimodais. Por exemplo, a amostra {1, 2 3, 5, 5, 6, 6, 7, 7} tem modas 5, 6 e 7. Amostras que não possuem moda são chamadas amodais. Por exemplo, a amostra {1, 3, 2, 5, 7, 6} não tem moda. \n",
    "\n",
    "Por exemplo, a moda de [0,1,1,2,2,2,2,3,3,4,4,4,5] é 2.\n",
    "\n",
    "A moda não é necessariamente única. Pode ser que existam dois valores diferentes que sejam os mais frequentes. Por exemplo, no caso de [10, 13, 13, 20, 20], tanto 13 como 20 são a moda."
   ]
  },
  {
   "cell_type": "markdown",
   "metadata": {},
   "source": [
    "### Calculando a moda para a coluna de dados do salário"
   ]
  },
  {
   "cell_type": "code",
   "execution_count": 62,
   "metadata": {},
   "outputs": [
    {
     "data": {
      "text/plain": [
       "7113.599609375"
      ]
     },
     "execution_count": 62,
     "metadata": {},
     "output_type": "execute_result"
    }
   ],
   "source": [
    "moda_salario = df['salario'].value_counts().idxmax()\n",
    "moda_salario"
   ]
  },
  {
   "cell_type": "markdown",
   "metadata": {},
   "source": [
    "### Calculando a moda para a coluna de dados de idade"
   ]
  },
  {
   "cell_type": "code",
   "execution_count": 63,
   "metadata": {},
   "outputs": [
    {
     "data": {
      "text/plain": [
       "20"
      ]
     },
     "execution_count": 63,
     "metadata": {},
     "output_type": "execute_result"
    }
   ],
   "source": [
    "moda_idade = df['idade'].value_counts().idxmax()\n",
    "moda_idade"
   ]
  },
  {
   "cell_type": "markdown",
   "metadata": {},
   "source": [
    "### Calculando a moda para a coluna de dados de anos de estudo"
   ]
  },
  {
   "cell_type": "code",
   "execution_count": 35,
   "metadata": {},
   "outputs": [
    {
     "data": {
      "text/plain": [
       "5.0"
      ]
     },
     "execution_count": 35,
     "metadata": {},
     "output_type": "execute_result"
    }
   ],
   "source": [
    "moda_anos_estudo = df['anos_estudo'].value_counts().idxmax()\n",
    "moda_anos_estudo"
   ]
  },
  {
   "cell_type": "markdown",
   "metadata": {},
   "source": [
    "# Análise comparativa"
   ]
  },
  {
   "cell_type": "code",
   "execution_count": 64,
   "metadata": {},
   "outputs": [
    {
     "name": "stdout",
     "output_type": "stream",
     "text": [
      "Salário Médio = 16184.4 Salário Mediano = 6789.1 Salário mais frequênte = 7113.6\n",
      "Idade Média = 37.6 Idade Mediana = 51.0 Idade mais frequênte = 20.0\n",
      "Média de Anos de Estudo = 8.6 Médiana de Anos de Estudo = 5.0 Moda de Anos de Estudo = 5.0\n"
     ]
    }
   ],
   "source": [
    "print('Salário Médio =', \"%.1f\" % media_salario,\\\n",
    "      'Salário Mediano =', \"%.1f\" % mediana_salario,\\\n",
    "      'Salário mais frequênte =',\"%.1f\" % moda_salario)\n",
    "\n",
    "print('Idade Média =', \"%.1f\" % media_idade,\\\n",
    "      'Idade Mediana =', \"%.1f\" % mediana_idade,\\\n",
    "      'Idade mais frequênte =',\"%.1f\" % moda_idade)\n",
    "\n",
    "print('Média de Anos de Estudo =', \"%.1f\" % media_anos_estudo,\\\n",
    "      'Médiana de Anos de Estudo =', \"%.1f\" % mediana_anos_estudo,\\\n",
    "      'Moda de Anos de Estudo =',\"%.1f\" % moda_anos_estudo)"
   ]
  },
  {
   "cell_type": "markdown",
   "metadata": {},
   "source": [
    "# Respondento a pergunta original da aula: os homens ganham mais dos que as mulheres?"
   ]
  },
  {
   "cell_type": "code",
   "execution_count": 88,
   "metadata": {},
   "outputs": [
    {
     "data": {
      "text/plain": [
       "mulher      33607\n",
       "homem       32791\n",
       "gestante       72\n",
       "Name: sexo, dtype: int64"
      ]
     },
     "execution_count": 88,
     "metadata": {},
     "output_type": "execute_result"
    }
   ],
   "source": [
    "df['sexo'].value_counts()"
   ]
  },
  {
   "cell_type": "code",
   "execution_count": 91,
   "metadata": {
    "scrolled": true
   },
   "outputs": [],
   "source": [
    "df['sexo'] = df['sexo'].replace('gestante', 'mulher')"
   ]
  },
  {
   "cell_type": "code",
   "execution_count": 98,
   "metadata": {},
   "outputs": [],
   "source": [
    "df_homens = df[df['sexo'] == 'homem']\n",
    "media_salario_homens = df_homens['salario'].mean()\n",
    "mediana_salario_homens = df_homens['salario'].median()\n",
    "moda_salario_homens = df_homens['salario'].mode()"
   ]
  },
  {
   "cell_type": "code",
   "execution_count": 99,
   "metadata": {},
   "outputs": [],
   "source": [
    "df_mulheres = df[df['sexo'] == 'mulher']\n",
    "media_salario_mulheres = df_mulheres['salario'].mean()\n",
    "mediana_salario_mulheres = df_mulheres['salario'].median()\n",
    "moda_salario_mulheres = df_mulheres['salario'].mode()"
   ]
  },
  {
   "cell_type": "code",
   "execution_count": 115,
   "metadata": {},
   "outputs": [
    {
     "name": "stdout",
     "output_type": "stream",
     "text": [
      "Salário Médio do Homem = 20340.08 Salário Médio do Mulher = 12138.32\n",
      "Salário Mediano do Homem = 7130.00 Salário Mediano do Mulher = 7113.60\n",
      "Salário mais frequente do Homem = 7113.60 Salário Mais Frequente do Mulher = 7113.60\n"
     ]
    }
   ],
   "source": [
    "print('Salário Médio do Homem =', \"%.2f\" % media_salario_homens,'Salário Médio do Mulher =',\"%.2f\" % media_salario_mulheres)\n",
    "print('Salário Mediano do Homem =', \"%.2f\" % mediana_salario_homens,'Salário Mediano do Mulher =', \"%.2f\" % mediana_salario_mulheres)\n",
    "print('Salário mais frequente do Homem =', \"%.2f\" % moda_salario_homens,'Salário Mais Frequente do Mulher =', \"%.2f\" % moda_salario_mulheres)"
   ]
  },
  {
   "cell_type": "code",
   "execution_count": 161,
   "metadata": {},
   "outputs": [
    {
     "data": {
      "text/plain": [
       "<matplotlib.axes._subplots.AxesSubplot at 0x1a334c1748>"
      ]
     },
     "execution_count": 161,
     "metadata": {},
     "output_type": "execute_result"
    },
    {
     "data": {
      "image/png": "[encoded data removed]",
      "text/plain": [
       "<Figure size 432x288 with 1 Axes>"
      ]
     },
     "metadata": {},
     "output_type": "display_data"
    }
   ],
   "source": [
    "# Gráfico demora um pouco pra rodar\n",
    "sns.distplot( df_homens[\"salario\"] , color=\"blue\", label=\"Salario Homens\")\n",
    "sns.distplot( df_mulheres[\"salario\"] , color=\"red\", label=\"Salario Mulheres\")"
   ]
  },
  {
   "cell_type": "code",
   "execution_count": 122,
   "metadata": {},
   "outputs": [
    {
     "data": {
      "text/plain": [
       "<matplotlib.axes._subplots.AxesSubplot at 0x10a407470>"
      ]
     },
     "execution_count": 122,
     "metadata": {},
     "output_type": "execute_result"
    },
    {
     "data": {
      "image/png": "[encoded data removed]",
      "text/plain": [
       "<Figure size 432x288 with 1 Axes>"
      ]
     },
     "metadata": {},
     "output_type": "display_data"
    }
   ],
   "source": [
    "sexo = ['homem','mulher']\n",
    "\n",
    "sns.distplot(df['salario'], hist = False, kde = True,\n",
    "                 kde_kws = {'shade': True, 'linewidth': 3},label = sexo)"
   ]
  },
  {
   "cell_type": "markdown",
   "metadata": {},
   "source": [
    "Isto significa que na média os homens ganham mais, porém a diferença entre o salário mínimo e o máximo (mediana) para ambos é estatisticamente igual, e o salário mais frequente (moda) para ambos também é o mesmo."
   ]
  },
  {
   "cell_type": "code",
   "execution_count": 9,
   "metadata": {},
   "outputs": [],
   "source": [
    "### fazer uma contagem para cada categoria usando dicionario (Comentário Marcos)"
   ]
  },
  {
   "cell_type": "markdown",
   "metadata": {},
   "source": [
    "# Visualização da distribuição dos dados (mundo real)"
   ]
  },
  {
   "cell_type": "markdown",
   "metadata": {},
   "source": [
    "### Distribuição da variável idade"
   ]
  },
  {
   "cell_type": "code",
   "execution_count": 48,
   "metadata": {},
   "outputs": [
    {
     "data": {
      "text/plain": [
       "<matplotlib.axes._subplots.AxesSubplot at 0x10b13c048>"
      ]
     },
     "execution_count": 48,
     "metadata": {},
     "output_type": "execute_result"
    },
    {
     "data": {
      "image/png": "[encoded data removed]",
      "text/plain": [
       "<Figure size 432x288 with 1 Axes>"
      ]
     },
     "metadata": {},
     "output_type": "display_data"
    }
   ],
   "source": [
    "import seaborn as sns\n",
    "sns.distplot(df['idade'])"
   ]
  },
  {
   "cell_type": "markdown",
   "metadata": {},
   "source": [
    "### Distribuição da variável anos de estudo"
   ]
  },
  {
   "cell_type": "markdown",
   "metadata": {},
   "source": [
    "#### Preenchendo os valores nulos com a mediana para poder plotar a distribuição"
   ]
  },
  {
   "cell_type": "code",
   "execution_count": 52,
   "metadata": {},
   "outputs": [],
   "source": [
    "df['anos_estudo'].fillna((df['anos_estudo'].median()), inplace=True)"
   ]
  },
  {
   "cell_type": "code",
   "execution_count": 53,
   "metadata": {},
   "outputs": [
    {
     "data": {
      "text/plain": [
       "<matplotlib.axes._subplots.AxesSubplot at 0x109ce6d30>"
      ]
     },
     "execution_count": 53,
     "metadata": {},
     "output_type": "execute_result"
    },
    {
     "data": {
      "image/png": "[encoded data removed]",
      "text/plain": [
       "<Figure size 432x288 with 1 Axes>"
      ]
     },
     "metadata": {},
     "output_type": "display_data"
    }
   ],
   "source": [
    "sns.distplot(df['anos_estudo'])"
   ]
  },
  {
   "cell_type": "code",
   "execution_count": 56,
   "metadata": {},
   "outputs": [],
   "source": [
    "df['salario'].fillna((df['salario'].median()), inplace=True)"
   ]
  },
  {
   "cell_type": "code",
   "execution_count": 57,
   "metadata": {},
   "outputs": [
    {
     "data": {
      "text/plain": [
       "<matplotlib.axes._subplots.AxesSubplot at 0x1a0e49dcf8>"
      ]
     },
     "execution_count": 57,
     "metadata": {},
     "output_type": "execute_result"
    },
    {
     "data": {
      "image/png": "[encoded data removed]",
      "text/plain": [
       "<Figure size 432x288 with 1 Axes>"
      ]
     },
     "metadata": {},
     "output_type": "display_data"
    }
   ],
   "source": [
    "sns.distplot(df['salario'])"
   ]
  },
  {
   "cell_type": "code",
   "execution_count": 69,
   "metadata": {},
   "outputs": [
    {
     "name": "stdout",
     "output_type": "stream",
     "text": [
      "Assimetria do Salário = 12.3789\n",
      "Assimetria da idade = 0.2200\n",
      "Assimetria dos anos de estudo = 0.3156\n"
     ]
    }
   ],
   "source": [
    "print ('Assimetria do Salário =', \"%.4f\"% df['salario'].skew())\n",
    "print ('Assimetria da idade =', \"%.4f\"% df['idade'].skew())\n",
    "print ('Assimetria dos anos de estudo =', \"%.4f\"% df['anos_estudo'].skew())"
   ]
  },
  {
   "cell_type": "markdown",
   "metadata": {},
   "source": [
    "# Exemplo de curva de distribuição assimétrica \n",
    "\n",
    "Não é necessário preocupar-se com o código, mas sim com o conceito."
   ]
  },
  {
   "cell_type": "code",
   "execution_count": 79,
   "metadata": {},
   "outputs": [
    {
     "data": {
      "text/plain": [
       "[Text(0,0.5,'Frequency'), Text(0.5,0,'Gamma Distribution')]"
      ]
     },
     "execution_count": 79,
     "metadata": {},
     "output_type": "execute_result"
    },
    {
     "data": {
      "image/png": "[encoded data removed]",
      "text/plain": [
       "<Figure size 432x288 with 1 Axes>"
      ]
     },
     "metadata": {},
     "output_type": "display_data"
    }
   ],
   "source": [
    "from scipy.stats import gamma\n",
    "data_gamma = gamma.rvs(a=5, size=10000)\n",
    "\n",
    "ax = sns.distplot(data_gamma,kde=True,bins=100,color='skyblue',hist_kws={\"linewidth\": 15,'alpha':1})\n",
    "ax.set(xlabel='Gamma Distribution', ylabel='Frequency')"
   ]
  },
  {
   "cell_type": "code",
   "execution_count": null,
   "metadata": {},
   "outputs": [],
   "source": []
  }
 ],
 "metadata": {
  "kernelspec": {
   "display_name": "Python 3",
   "language": "python",
   "name": "python3"
  },
  "language_info": {
   "codemirror_mode": {
    "name": "ipython",
    "version": 3
   },
   "file_extension": ".py",
   "mimetype": "text/x-python",
   "name": "python",
   "nbconvert_exporter": "python",
   "pygments_lexer": "ipython3",
   "version": "3.6.8"
  }
 },
 "nbformat": 4,
 "nbformat_minor": 2
}
