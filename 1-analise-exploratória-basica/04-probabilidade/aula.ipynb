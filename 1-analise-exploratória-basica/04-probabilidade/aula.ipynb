{
 "cells": [
  {
   "cell_type": "markdown",
   "metadata": {},
   "source": [
    "## Probabilidade\n",
    "\"Probabilidade ... é, portanto, simplesmente uma fração cujo numerador é o número de casos favoráveis e cujo denominador é o número de todos os casos possíveis ... quando nada nos leva a esperar que qualquer um desses casos ocorra mais do que qualquer outro. Pierre-Simon Laplace, 1814\"\n",
    "\n",
    "### Exemplos\n",
    "\n",
    "#### (1) Qual a probabilidade de retirarmos duas cartas de paus (naipe) em um baralho (52 cartas) em 2 retiradas com reposicao (apos a retirada da carta, devolvemos ao baralho e reembaralhamos)?\n",
    "\n"
   ]
  },
  {
   "cell_type": "code",
   "execution_count": 1,
   "metadata": {},
   "outputs": [
    {
     "data": {
      "text/plain": [
       "0.0625"
      ]
     },
     "execution_count": 1,
     "metadata": {},
     "output_type": "execute_result"
    }
   ],
   "source": [
    "# 52 cartas, 4 naipes, 13 cartas de cada naipe.\n",
    "# Probabilidade de retirar apenas uma carta de paus é a proporção de paus no baralho 13/52 = 1/4.\n",
    "# A probabilidade de retirar mais uma carta de paus do baralho, dado que foi reposta é 1/4 também.\n",
    "# Como esses eventos são independentes (-> P(A∩B) = P(A) * P(B) <-) devemos multiplicar as duas\n",
    "# probabilidades para ter a probabilidade final desses eventos acontecerem em sequência.\n",
    "(1/4)*(1/4) # ou\n",
    "(1/4)**2"
   ]
  },
  {
   "cell_type": "markdown",
   "metadata": {},
   "source": [
    "#### (2) E se nao devolvessemos a primeira carta ao baralho?"
   ]
  },
  {
   "cell_type": "code",
   "execution_count": 2,
   "metadata": {},
   "outputs": [
    {
     "data": {
      "text/plain": [
       "0.058823529411764705"
      ]
     },
     "execution_count": 2,
     "metadata": {},
     "output_type": "execute_result"
    }
   ],
   "source": [
    "# a probabilidade de retirar a primeira carta de paus ainda é a mesma, 13/52. \n",
    "# mas dado que nosso espaço amostral muda em cada interação, quando formos retirar a segunda carta\n",
    "# não mais estará dísponvivel as mesmas cartas e devemos ajustar isso nas contas:\n",
    "\n",
    "probabilidade_primeiro_paus = (13/52)\n",
    "# dado que saiu o primeiro paus, temos\n",
    "paus_restantes = 13-1\n",
    "cartas_restantes = 52-1\n",
    "\n",
    "probabilidade_segundo_paus = paus_restantes/cartas_restantes\n",
    "\n",
    "# como queremos a probabilidade de sair dois paus seguidos e esses eventos ainda são independentes:\n",
    "probabilidade_primeiro_paus * probabilidade_segundo_paus"
   ]
  },
  {
   "cell_type": "markdown",
   "metadata": {},
   "source": [
    "#### (3) Paradoxo do aniversariante.\n",
    "Quantas pessoas precisam ter em uma sala para que tenha pelo menos um par de aniversarios no mesmo dia?"
   ]
  },
  {
   "cell_type": "code",
   "execution_count": 3,
   "metadata": {},
   "outputs": [
    {
     "name": "stdout",
     "output_type": "stream",
     "text": [
      "Digite o número de pessoas: 40\n",
      "Digite o número de repetições: 10000\n",
      "Em 40 pessoas e 10000 testes deram-se 8905 vezes em que pelo menos duas pessoas fazem anos no mesmo dia, percentagem: 89.05%\n"
     ]
    }
   ],
   "source": [
    "import random\n",
    "\n",
    "num_p = int(input(\"Digite o número de pessoas: \"))\n",
    "num_loops = int(input(\"Digite o número de repetições: \")) # num de testes\n",
    "favoraveis = 0\n",
    "for _ in range(num_loops):\n",
    "    ani_dates = {random.randint(1, 366) for _ in range(num_p)} # sortear novo set de datas (dias) de aniversario\n",
    "    if(len(ani_dates) != num_p): # se o comprimento do set for diferente do num de pessoas\n",
    "        favoraveis += 1\n",
    "\n",
    "probs_perc = (favoraveis/num_loops)*100\n",
    "print('Em {} pessoas e {} testes deram-se {} vezes em que pelo menos duas pessoas fazem anos no mesmo dia, percentagem: {}%'.format(num_p, num_loops, favoraveis, probs_perc))\n",
    "\n",
    "# Em 23 pessoas e 1000 testes deram-se 506 vezes em que pelo menos duas pessoas fazem anos no mesmo dia, percentagem: 50.6%"
   ]
  },
  {
   "cell_type": "code",
   "execution_count": 4,
   "metadata": {},
   "outputs": [
    {
     "data": {
      "image/png": "[encoded data removed]",
      "text/plain": [
       "<matplotlib.figure.Figure at 0x1c213aa8a58>"
      ]
     },
     "metadata": {},
     "output_type": "display_data"
    }
   ],
   "source": [
    "import matplotlib.pyplot as plt\n",
    "%matplotlib inline\n",
    "\n",
    "def birthday_probs(x):\n",
    "    p = (1.0/365)**x\n",
    "    for i in range((366-x),366):\n",
    "        p *= i\n",
    "    return 1-p\n",
    "\n",
    "plt.plot([birthday_probs(i)*100 for i in range(366)])\n",
    "plt.xlabel(\"Num de pessoas\")\n",
    "plt.ylabel(\"Probabilidades de partilhar o dia do aniversário\")\n",
    "plt.ylim(ymin=0)\n",
    "plt.xlim(xmin=0, xmax=80)\n",
    "plt.show()"
   ]
  },
  {
   "cell_type": "markdown",
   "metadata": {},
   "source": [
    "### (4) Monty Hall\n",
    "\n",
    "O problema de Monty Hall, também conhecido por paradoxo de Monty Hall é um problema matemático e paradoxo que surgiu a partir de um concurso televisivo dos Estados Unidos chamado Let’s Make a Deal, exibido na década de 1970.\n",
    "\n",
    "O jogo consistia no seguinte: Monty Hall, o apresentador, apresentava três portas aos concorrentes. Atrás de uma delas estava um prêmio (um carro) e as outras duas dois bodes.\n",
    "\n",
    "    Na 1.ª etapa o concorrente escolhe uma das três portas (que ainda não é aberta);\n",
    "    Na 2.ª etapa, Monty abre uma das outras duas portas que o concorrente não escolheu, revelando que o carro não se encontra nessa porta e revelando um dos bodes;\n",
    "    Na 3.ª etapa Monty pergunta ao concorrente se quer decidir permanecer com a porta que escolheu no início do jogo ou se ele pretende mudar para a outra porta que ainda está fechada para então a abrir.\n",
    "\n",
    "Agora, com duas portas apenas para escolher — pois uma delas já se viu, na 2.ª etapa, que não tinha o prêmio — e sabendo que o carro está atrás de uma das restantes duas, o concorrente tem que tomar a decisão.\n",
    "\n",
    "\n",
    "Qual é a estratégia mais lógica? Ficar com a porta escolhida inicialmente ou mudar de porta? Com qual das duas portas ainda fechadas o concorrente tem mais probabilidades de ganhar? Por quê?\n",
    "\n",
    "<img src=\"img/bode.png\" width=\"450\" />\n"
   ]
  },
  {
   "cell_type": "code",
   "execution_count": 6,
   "metadata": {},
   "outputs": [
    {
     "name": "stdout",
     "output_type": "stream",
     "text": [
      "\n",
      "This is the Monty Hall problem.\n",
      "There are 3 doors in front of you, and there is a prize behind one of them.\n",
      "Once you select a door, I will open one of the two you had not selected which does not have a prize behind it.\n",
      "You will then have the opportunity to switch from the door you originally selected to an alternate door..\n",
      "\n",
      "Select door 'A', 'B', or 'C': A\n",
      "\n",
      "This problem relies on conditional probabilities.\n",
      "It is suggested that you switch doors, you will have a higher probability of winning of you do.\n",
      "The door I will now open is: 'C'\n",
      "Would you like to select the third door? Type 'Yes' or 'No': Yes\n",
      "The door you will switch to is: 'B' \n",
      "Congrats, you win! The prize was behind the alternate, 'B'\n",
      "This is a check:\n",
      "Prize: 'B'\n",
      "Selection: 'A' \n",
      "Alternate: 'B' \n",
      "Door opened: 'C' \n"
     ]
    }
   ],
   "source": [
    "import random\n",
    "print(\"\"\"\n",
    "This is the Monty Hall problem.\n",
    "There are 3 doors in front of you, and there is a prize behind one of them.\n",
    "Once you select a door, I will open one of the two you had not selected which does not have a prize behind it.\n",
    "You will then have the opportunity to switch from the door you originally selected to an alternate door..\n",
    "\"\"\")\n",
    "\n",
    "A = \"A\"\n",
    "B = \"B\"\n",
    "C = \"C\"\n",
    "\n",
    "doors = [\"A\", \"B\", \"C\"]\n",
    "\n",
    "prize = random.choice(doors)\n",
    "\n",
    "selection = str(input(\"Select door 'A', 'B', or 'C': \"))\n",
    "\n",
    "print(\"\"\"\n",
    "This problem relies on conditional probabilities.\n",
    "It is suggested that you switch doors, you will have a higher probability of winning of you do.\"\"\")\n",
    "\n",
    "\n",
    "if selection == prize:\n",
    "    remaining = list(set(doors) - set(prize))\n",
    "    open_door = random.choice(list(set(doors) - set(random.choice(remaining))))\n",
    "    alternate = random.choice(list(set(doors) - set(open_door) - set(prize)))\n",
    "\n",
    "else:\n",
    "    open_door = random.choice(list(set(doors) - set(selection) - set(prize)))\n",
    "    alternate = random.choice(\n",
    "        list(set(doors) - set(open_door) - set(selection)))\n",
    "\n",
    "print(\"The door I will now open is: %r\" % open_door)\n",
    "\n",
    "second_chance = str(input(\"Would you like to select the third door? Type 'Yes' or 'No': \"))\n",
    "\n",
    "if second_chance == \"Yes\":\n",
    "    print(\"The door you will switch to is: %r \" % alternate)\n",
    "\n",
    "    if alternate == prize:\n",
    "        print(\"Congrats, you win! The prize was behind the alternate, %r\" % alternate)\n",
    "    else:\n",
    "        print (\"Sorry, the prize was behind the original door %r\" % prize)\n",
    "\n",
    "\n",
    "if second_chance != \"Yes\":\n",
    "    print(\"\"\"You decided to keep your initial door, %r\"\"\" % selection)\n",
    "    if selection != prize:\n",
    "        print(\"\"\"Sorry, the prize was behind the alternate door, %r\"\"\" % prize)\n",
    "    else:\n",
    "        print(\"Congrats, you win! The prize was behind your original selection, %r\" % selection)\n",
    "\n",
    "\n",
    "print(\"This is a check:\")\n",
    "\n",
    "print (\"Prize: %r\" % prize)\n",
    "print (\"Selection: %r \" % selection)\n",
    "print (\"Alternate: %r \" % alternate)\n",
    "print (\"Door opened: %r \" % open_door)"
   ]
  },
  {
   "cell_type": "code",
   "execution_count": null,
   "metadata": {},
   "outputs": [],
   "source": [
    "import argparse, random\n",
    "\n",
    "def simulate(num_doors, switch, verbose):\n",
    "    \"\"\"(int, bool): bool\n",
    "\n",
    "    Carry out the game for one contestant.  If 'switch' is True,\n",
    "    the contestant will switch their chosen door when offered the chance.\n",
    "    Returns a Boolean value telling whether the simulated contestant won.\n",
    "    \"\"\"\n",
    "\n",
    "    # Doors are numbered from 0 up to num_doors-1 (inclusive).\n",
    "\n",
    "    # Randomly choose the door hiding the prize.\n",
    "    winning_door = random.randint(0, num_doors-1)\n",
    "    if verbose:\n",
    "        print('Prize is behind door {}'.format(winning_door+1))\n",
    "\n",
    "    # The contestant picks a random door, too.\n",
    "    choice = random.randint(0, num_doors-1)\n",
    "    if verbose:\n",
    "        print('Contestant chooses door {}'.format(choice+1))\n",
    "\n",
    "    # The host opens all but two doors.\n",
    "    closed_doors = list(range(num_doors))\n",
    "    while len(closed_doors) > 2:\n",
    "        # Randomly choose a door to open.\n",
    "        door_to_remove = random.choice(closed_doors)\n",
    "\n",
    "        # The host will never open the winning door, or the door\n",
    "        # chosen by the contestant.\n",
    "        if door_to_remove == winning_door or door_to_remove == choice:\n",
    "            continue\n",
    "\n",
    "        # Remove the door from the list of closed doors.\n",
    "        closed_doors.remove(door_to_remove)\n",
    "        if verbose:\n",
    "            print('Host opens door {}'.format(door_to_remove+1))\n",
    "\n",
    "    # There are always two doors remaining.\n",
    "    assert len(closed_doors) == 2\n",
    "\n",
    "    # Does the contestant want to switch their choice?\n",
    "    if switch:\n",
    "        if verbose:\n",
    "            print('Contestant switches from door {} '.format(choice+1), end='')\n",
    "\n",
    "        # There are two closed doors left.  The contestant will never\n",
    "        # choose the same door, so we'll remove that door as a choice.\n",
    "        available_doors = list(closed_doors) # Make a copy of the list.\n",
    "        available_doors.remove(choice)\n",
    "\n",
    "        # Change choice to the only door available.\n",
    "        choice = available_doors.pop()\n",
    "        if verbose:\n",
    "            print('to {}'.format(choice+1))\n",
    "\n",
    "    # Did the contestant win?\n",
    "    won = (choice == winning_door)\n",
    "    if verbose:\n",
    "        if won:\n",
    "            print('Contestant WON', end='\\n\\n')\n",
    "        else:\n",
    "            print('Contestant LOST', end='\\n\\n')\n",
    "    return won\n",
    "\n",
    "\n",
    "def monty_hall(doors=3, trials=1000, verbose=False):\n",
    "\n",
    "    print('Simulating {} trials...'.format(trials))\n",
    "\n",
    "    # Carry out the trials\n",
    "    winning_non_switchers = 0\n",
    "    winning_switchers = 0\n",
    "    for i in range(trials):\n",
    "        # First, do a trial where the contestant never switches.\n",
    "        won = simulate(doors, switch=False, verbose=verbose)\n",
    "        if won:\n",
    "            winning_non_switchers += 1\n",
    "\n",
    "        # Next, try one where the contestant switches.\n",
    "        won = simulate(doors, switch=True, verbose=verbose)\n",
    "        if won:\n",
    "            winning_switchers += 1\n",
    "\n",
    "    print('    Switching won {0:5} times out of {1} ({2}% of the time)'.format(\n",
    "            winning_switchers, trials,\n",
    "            (winning_switchers / trials * 100 ) ))\n",
    "    print('Not switching won {0:5} times out of {1} ({2}% of the time)'.format(\n",
    "            winning_non_switchers, trials,\n",
    "            (winning_non_switchers / trials * 100 ) ))"
   ]
  },
  {
   "cell_type": "code",
   "execution_count": null,
   "metadata": {},
   "outputs": [],
   "source": [
    "monty_hall(3, 100)"
   ]
  },
  {
   "cell_type": "code",
   "execution_count": null,
   "metadata": {},
   "outputs": [],
   "source": []
  },
  {
   "cell_type": "markdown",
   "metadata": {},
   "source": [
    "#### (5) Calculando pi com Monte Carlo"
   ]
  },
  {
   "cell_type": "code",
   "execution_count": null,
   "metadata": {},
   "outputs": [],
   "source": [
    "import numpy as np\n",
    "import matplotlib.pyplot as plt\n",
    "\n",
    "n=1e3\n",
    "x = 1-2*np.random.random(int(n))\n",
    "y = 1-2.*np.random.random(int(n))\n",
    "insideX,  insideY  = x[(x*x+y*y)<=1],y[(x*x+y*y)<=1]\n",
    "outsideX, outsideY = x[(x*x+y*y)>1],y[(x*x+y*y)>1]\n",
    "\n",
    "fig, ax = plt.subplots(1)\n",
    "fig.set_size_inches(6,6)\n",
    "ax.scatter(insideX, insideY, c='b', alpha=0.8, edgecolor=None)\n",
    "ax.scatter(outsideX, outsideY, c='r', alpha=0.8, edgecolor=None)\n",
    "ax.set_aspect('equal')\n",
    "fig.show()"
   ]
  },
  {
   "cell_type": "code",
   "execution_count": 3,
   "metadata": {},
   "outputs": [
    {
     "data": {
      "image/png": "[encoded data removed]",
      "text/plain": [
       "<Figure size 432x432 with 1 Axes>"
      ]
     },
     "metadata": {
      "needs_background": "light"
     },
     "output_type": "display_data"
    }
   ],
   "source": [
    "import numpy as np\n",
    "import matplotlib.pyplot as plt\n",
    "%matplotlib inline\n",
    "\n",
    "n=1e3\n",
    "x = 1-2*np.random.random(int(n))\n",
    "y = 1-2.*np.random.random(int(n))\n",
    "insideX,  insideY  = x[(x*x+y*y)<=1],y[(x*x+y*y)<=1]\n",
    "outsideX, outsideY = x[(x*x+y*y)>1],y[(x*x+y*y)>1]\n",
    "\n",
    "fig, ax = plt.subplots(1)\n",
    "fig.set_size_inches(6,6)\n",
    "ax.scatter(insideX, insideY, c='b', alpha=0.8, edgecolor=None)\n",
    "ax.scatter(outsideX, outsideY, c='r', alpha=0.8, edgecolor=None)\n",
    "ax.set_aspect('equal')\n",
    "fig.show()"
   ]
  }
 ],
 "metadata": {
  "hide_input": false,
  "kernelspec": {
   "display_name": "Python 3",
   "language": "python",
   "name": "python3"
  },
  "language_info": {
   "codemirror_mode": {
    "name": "ipython",
    "version": 3
   },
   "file_extension": ".py",
   "mimetype": "text/x-python",
   "name": "python",
   "nbconvert_exporter": "python",
   "pygments_lexer": "ipython3",
   "version": "3.7.1"
  },
  "toc": {
   "base_numbering": 1,
   "nav_menu": {},
   "number_sections": true,
   "sideBar": true,
   "skip_h1_title": false,
   "title_cell": "Table of Contents",
   "title_sidebar": "Contents",
   "toc_cell": false,
   "toc_position": {},
   "toc_section_display": true,
   "toc_window_display": false
  }
 },
 "nbformat": 4,
 "nbformat_minor": 2
}
