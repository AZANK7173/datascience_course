{
 "cells": [
  {
   "cell_type": "markdown",
   "metadata": {},
   "source": [
    "# Probabilidade\n",
    "\n",
    "<br>\n",
    "<img src=\"img/probabilidade.png\">\n",
    "<br>\n",
    "\n",
    "*fonte: Mundo Educação*\n",
    "\n",
    "Probabilidade é o estudo das chances de obtenção de cada resultado de um experimento aleatório. A essas chances são atribuídos os números reais do intervalo entre 0 e 1. Resultados mais próximos de 1 têm mais chances de ocorrer. Além disso, a probabilidade também pode ser apresentada na forma percentual.\n",
    "\n",
    "### Experimento aleatório e ponto amostral\n",
    "\n",
    "Um experimento aleatório pode ser repetido inúmeras vezes e nas mesmas condições e, mesmo assim, apresenta resultados diferentes. Cada um desses resultados possíveis é chamado de ponto amostral. São exemplos de experimentos aleatórios:\n",
    "\n",
    "- Cara ou coroa\n",
    "\n",
    "Lançar uma moeda e observar se a face voltada para cima é cara ou coroa é um exemplo de experimento aleatório. Se a moeda não for viciada e for lançada sempre nas mesmas condições, poderemos ter como resultado tanto cara quanto coroa.\n",
    "\n",
    "- Lançamento de um dado\n",
    "\n",
    "Lançar um dado e observar qual é o número da face superior também é um experimento aleatório. Esse número pode ser 1, 2, 3, 4, 5 ou 6 e cada um desses resultados apresenta a mesma chance de ocorrer. Em cada lançamento, o resultado pode ser igual ao anterior ou diferente dele.\n",
    "\n",
    "Observe que, no lançamento da moeda, as chances de repetir o resultado anterior são muito maiores.\n",
    "\n",
    "- Retirar uma carta aleatória de um baralho\n",
    "\n",
    "Cada carta tem a mesma chance de ocorrência cada vez que o experimento é realizado, por isso, esse é também um experimento aleatório.\n",
    "\n",
    "### Espaço amostral\n",
    "\n",
    "O espaço amostral (Ω) é o conjunto formado por todos os resultados possíveis de um experimento aleatório. Em outras palavras, é o conjunto formado por todos os pontos amostrais de um experimento. Veja exemplos:\n",
    "\n",
    "- O espaço amostral do experimento “cara ou coroa” é o conjunto S = {Cara, Coroa}. Os pontos amostrais desse experimento são os mesmos elementos desse conjunto.\n",
    "\n",
    "- O espaço amostral do experimento “lançamento de um dado” é o conjunto S = {1, 2, 3, 4, 5, 6}. Os pontos amostrais desse experimento são 1, 2, 3, 4, 5 e 6.\n",
    "\n",
    "O espaço amostral também é chamado de Universo e pode ser representado pelas outras notações usadas nos conjuntos. Além disso, todas as operações entre conjuntos valem também para espaços amostrais.\n",
    "\n",
    "O número de elementos do espaço amostral, número de pontos amostrais do espaço amostral ou número de casos possíveis em um espaço amostral é representado da seguinte maneira: n(Ω).\n",
    "\n",
    "### Evento\n",
    "\n",
    "Um evento é qualquer subconjunto de um espaço amostral. Ele pode conter nenhum elemento (conjunto vazio) ou todos os elementos de um espaço amostral. O número de elementos do evento é representado da seguinte maneira: n(E), sendo E o evento em questão.\n",
    "\n",
    "São exemplos de eventos:\n",
    "\n",
    "- Sair cara em um lançamento de uma moeda\n",
    "\n",
    "O evento é sair cara e possui um único elemento. A representação dos eventos também é feita com notações de conjuntos:\n",
    "\n",
    "E = {cara}\n",
    "\n",
    "O seu número de elementos é n(E) = 1.\n",
    "\n",
    "- Sair um número par no lançamento de um dado.\n",
    "\n",
    "O evento é sair um número par:\n",
    "\n",
    "E = {2, 4, 6}\n",
    "\n",
    "O seu número de elementos é n(E) = 3.\n",
    "Não pare agora... Tem mais depois da publicidade ;)\n",
    "\n",
    "Os eventos que possuem apenas um elemento (ponto amostral) são chamados de simples. Quando o evento é igual ao espaço amostral, ele é chamado de evento certo e sua probabilidade de ocorrência é de 100%. Quando um evento é igual ao conjunto vazio, ele é chamado de evento impossível e possui 0% de chances de ocorrência.\n",
    "\n",
    "### Cálculo da probabilidade\n",
    "\n",
    "Seja E um evento qualquer no espaço amostral Ω. A probabilidade do evento A ocorrer é a razão entre o número de resultados favoráveis e o número de resultados possíveis. Em outras palavras, é o número de elementos do evento dividido pelo número de elementos do espaço amostral a que ele pertence.\n",
    "\n",
    "P(E) = n(E)/n(Ω)\n",
    "\n",
    "Observações:\n",
    "\n",
    "- O número de elementos do evento sempre é menor ou igual ao número de elementos do espaço amostral e maior ou igual a zero. Por isso, o resultado dessa divisão sempre está no intervalo 0 ≤ P(A) ≤ 1;\n",
    "\n",
    "- Quando é necessário usar porcentagem, devemos multiplicar o resultado dessa divisão por 100 ou usar regra de três;\n",
    "\n",
    "- A probabilidade de um evento não acontecer é determinada por:\n",
    "\n",
    "P(A-1) = 1 – P(A)\n",
    "\n",
    "### De maneira objetiva\n",
    "\n",
    "\"Probabilidade ... é, portanto, simplesmente uma fração cujo numerador é o número de casos favoráveis e cujo denominador é o número de todos os casos possíveis ... quando nada nos leva a esperar que qualquer um desses casos ocorra mais do que qualquer outro.\" Pierre-Simon Laplace, 1814.\n",
    "\n",
    "Vamos a alguns exemplos."
   ]
  },
  {
   "cell_type": "markdown",
   "metadata": {},
   "source": [
    "# Baralho de cartas\n",
    "\n",
    "<br>\n",
    "<img src=\"img/baralho_cartas.png\">\n",
    "<br>\n",
    "\n",
    "*fonte: Wikipedia*\n",
    "\n",
    "O principal baralho de 52 cartas, em uso atualmente, inclui 13 cartas de cada um dos quatro naipes franceses, paus (♣), ouros (♦), copas (♥) e espadas (♠), com cartas de figuras. Cada naipe inclui um ás, que descreve um único símbolo de seu naipe (muito grande, muitas vezes apenas o ás de espadas) um rei, uma rainha, e um valete, cada um representado com um símbolo de seu naipe, com valores de dois a dez, com cada cartão mostrando o número de símbolos de seu naipe. Para além destas 52 cartas, baralhos comerciais geralmente incluem dois coringas. Em muitos jogos, os coringas não são usados. Os coringas são geralmente distinguidos pela cor. "
   ]
  },
  {
   "cell_type": "markdown",
   "metadata": {},
   "source": [
    "### Qual a probabilidade de retirarmos duas cartas de paus (naipe) em um baralho (52 cartas) em 2 retiradas com reposição (apos a retirada da carta, devolvemos ao baralho e reembaralhamos)?"
   ]
  },
  {
   "cell_type": "code",
   "execution_count": 2,
   "metadata": {},
   "outputs": [
    {
     "data": {
      "text/plain": [
       "0.0625"
      ]
     },
     "execution_count": 2,
     "metadata": {},
     "output_type": "execute_result"
    }
   ],
   "source": [
    "# 52 cartas, 4 naipes, 13 cartas de cada naipe.\n",
    "# Probabilidade de retirar apenas uma carta de paus é a proporção de paus no baralho 13/52 = 1/4.\n",
    "# A probabilidade de retirar mais uma carta de paus do baralho, dado que foi reposta é 1/4 também.\n",
    "# Como esses eventos são independentes (-> P(A∩B) = P(A) * P(B) <-) devemos multiplicar as duas\n",
    "# probabilidades para ter a probabilidade final desses eventos acontecerem em sequência.\n",
    "(1/4)*(1/4) # ou\n",
    "(1/4)**2"
   ]
  },
  {
   "cell_type": "markdown",
   "metadata": {},
   "source": [
    "### E se não devolvessemos a primeira carta ao baralho?"
   ]
  },
  {
   "cell_type": "code",
   "execution_count": 3,
   "metadata": {},
   "outputs": [
    {
     "data": {
      "text/plain": [
       "0.058823529411764705"
      ]
     },
     "execution_count": 3,
     "metadata": {},
     "output_type": "execute_result"
    }
   ],
   "source": [
    "# a probabilidade de retirar a primeira carta de paus ainda é a mesma, 13/52. \n",
    "# mas dado que nosso espaço amostral muda em cada interação, quando formos retirar a segunda carta\n",
    "# não mais estará dísponvivel as mesmas cartas e devemos ajustar isso nas contas:\n",
    "\n",
    "probabilidade_primeiro_paus = (13/52)\n",
    "# dado que saiu o primeiro paus, temos\n",
    "paus_restantes = 13-1\n",
    "cartas_restantes = 52-1\n",
    "\n",
    "probabilidade_segundo_paus = paus_restantes/cartas_restantes\n",
    "\n",
    "# como queremos a probabilidade de sair dois paus seguidos e esses eventos ainda são independentes:\n",
    "probabilidade_primeiro_paus * probabilidade_segundo_paus"
   ]
  },
  {
   "cell_type": "markdown",
   "metadata": {},
   "source": [
    "# Dados\n",
    "\n",
    "<br>\n",
    "<img src=\"img/dado.png\">\n",
    "<br>\n",
    "\n",
    "A função do dado é gerar um resultado aleatório que fica restrito ao número de faces dele. Esse resultado, então, pode ser manipulado (caso seja um número) através de fórmulas caso o jogo exija. Por exemplo, um número entre 20 e 25 utilizando dados de seis lados exige a aplicação de uma fórmula matemática. Os dados são comumente utilizados em jogos de tabuleiro tradicionais e jogos de RPG.\n",
    "\n",
    "Uma pequena curiosidade quanto aos dados clássicos (fabricados de forma correta), de seis lados: a soma dos lados opostos resulta no número sete. Ou seja, se de um lado temos o número um automaticamente teríamos o número seis do outro lado. Isso ocorre também com o dois casando com o cinco, e o três com o quatro. Isso se aplica também a qualquer outro dado, a soma de dois lados opostos sempre é igual ao número de faces mais um. Assim, um D20 somaria 21 nos lados opostos, um D12 somaria 13, e assim por diante. "
   ]
  },
  {
   "cell_type": "markdown",
   "metadata": {},
   "source": [
    "## Três dados comuns e honestos serão lançados. A probabilidade de obter o número 6 mais de uma vez é?\n",
    "\n",
    "A probabilidade do número 6 ser obtido mais de uma vez significa que ele deve aparecer nos três dados OU em pelo menos dois.\n",
    "\n",
    "- A probabilidade de se obter \"6\" nos três dados é:\n",
    "```python\n",
    "1/6 × 1/6 × 1/6 = 1/216 \n",
    "```\n",
    "\n",
    "- A probabilidade de se obter \"6\" em pelo menos dois dados é:\n",
    "\n",
    "Obs: Deve-se considerar que podemos obter as seguintes combinações,\n",
    "\n",
    "dado1 = 6 e dado2 = 6 e dado3 ≠ 6 ou..\n",
    "dado1 = 6 e dado2 ≠ 6 e dado3 = 6 ou..\n",
    "dado1 ≠ 6 e dado2 = 6 e dado3 = 6;\n",
    "\n",
    "```python\n",
    "1/6 × 1/6 × 5/6 = 5/216\n",
    "1/6 × 1/6 × 5/6 = 5/216\n",
    "1/6 × 1/6 × 5/6 = 5/216\n",
    "```\n",
    "Somando estas probabilidades temos:\n",
    "\n",
    "\n",
    "```python\n",
    "15/216\n",
    "```\n",
    "\n",
    "Como pode aparecer duas OU três vezes, somamos as duas probabilidades:\n",
    "\n",
    "```python\n",
    "1/216 + 15/216 = 16/216\n",
    "```\n",
    "\n",
    "\n",
    "Leia mais em Brainly.com.br - https://brainly.com.br/tarefa/4343213#readmore\n",
    "\n",
    "Vamos testar este exemplo na prática, através de um simulador que capaz de realizar **n** lançamentos, e comparar os resultados com a probabilidade teórica calculada (16/216 = 0.074074)."
   ]
  },
  {
   "cell_type": "markdown",
   "metadata": {},
   "source": [
    "### Simulador para rolagem de três dados, obtendo o resultado 6 em pelo menos dois dados"
   ]
  },
  {
   "cell_type": "code",
   "execution_count": 56,
   "metadata": {},
   "outputs": [
    {
     "name": "stdout",
     "output_type": "stream",
     "text": [
      "CPU times: user 4.83 ms, sys: 74.8 ms, total: 79.6 ms\n",
      "Wall time: 79.4 ms\n"
     ]
    },
    {
     "data": {
      "image/png": "iVBORw0KGgoAAAANSUhEUgAAAYcAAAEKCAYAAAD5MJl4AAAABHNCSVQICAgIfAhkiAAAAAlwSFlzAAALEgAACxIB0t1+/AAAADl0RVh0U29mdHdhcmUAbWF0cGxvdGxpYiB2ZXJzaW9uIDIuMi4yLCBodHRwOi8vbWF0cGxvdGxpYi5vcmcvhp/UCwAAG4NJREFUeJzt3X+0XWV95/H3xwCK5UdQIkMJGqupLXWNChmI0loUByJW47QwRR0JDJ2ssVh1Rlel7ayCv2bhcvxRa6sLJZK4RKBaS2qhmAKKbQUSBPlZSgoUUqjEBhBrxQG/88d+rpy5+9zck4Tcc294v9Y66+797Gfv8zxnn3s+Z/84e6eqkCRp0FPG3QBJ0uxjOEiSegwHSVKP4SBJ6jEcJEk9hoMkqcdwkCT1GA6SpB7DQZLUs9solZLMBz4DvBAo4L8CtwEXAIuAu4D/XFUPJAnwB8BxwA+Ak6vqW205K4D/1Rb7/qpa3coPA84F9gQuBt5e0/x0e//9969FixaN2E1J0rXXXvvdqlowSt2RwoHuw/4vq+r4JHsATwd+F7isqs5KcjpwOvBu4NXA4vY4AvgkcESSZwBnAEvoAubaJGur6oFWZyVwFV04LAMu2VqDFi1axIYNG0ZsviQpyT+OWnfa3UpJ9gFeDpwDUFU/qqoHgeXA6lZtNfD6NrwcWFOdq4D5SQ4EjgXWVdWWFgjrgGVt2j5V9c22tbBmYFmSpDEY5ZjDzwCbgc8muS7JZ5L8FHBAVd0H0P4+q9U/CLhnYP5NrWxr5ZuGlPckWZlkQ5INmzdvHqHpkqTtMUo47AYcCnyyql4C/CvdLqSpZEhZbUd5v7Dq7KpaUlVLFiwYabeZJGk7jBIOm4BNVXV1G/8iXVh8p+0Sov29f6D+wQPzLwTunaZ84ZBySdKYTBsOVfXPwD1JXtCKjgZuAdYCK1rZCuCiNrwWOCmdpcBDbbfTpcAxSfZLsh9wDHBpm/ZwkqXtTKeTBpYlSRqDUc9W+i3g8+1MpTuAU+iC5cIkpwJ3Aye0uhfTnca6ke5U1lMAqmpLkvcB61u991bVljb8Fh4/lfUSpjlTSZK0c2Wu3gluyZIl5amskjS6JNdW1ZJR6voLaUlSz6i7lXYp511999DyNx7x7BluiSTNTm45SJJ6DAdJUo/hIEnqMRwkST2GgySpx3CQJPUYDpKkHsNBktRjOEiSegwHSVKP4SBJ6jEcJEk9hoMkqcdwkCT1GA6SpB7DQZLUYzhIknoMB0lSj+EgSeoxHCRJPYaDJKnHcJAk9RgOkqQew0GS1GM4SJJ6RgqHJHcluTHJ9Uk2tLJnJFmX5Pb2d79WniQfT7IxyQ1JDh1YzopW//YkKwbKD2vL39jmzRPdUUnS6LZly+EVVfXiqlrSxk8HLquqxcBlbRzg1cDi9lgJfBK6MAHOAI4ADgfOmAiUVmflwHzLtrtHkqQdtiO7lZYDq9vwauD1A+VrqnMVMD/JgcCxwLqq2lJVDwDrgGVt2j5V9c2qKmDNwLIkSWMwajgU8NUk1yZZ2coOqKr7ANrfZ7Xyg4B7Bubd1Mq2Vr5pSHlPkpVJNiTZsHnz5hGbLknaVruNWO/Iqro3ybOAdUn+bit1hx0vqO0o7xdWnQ2cDbBkyZKhdSRJO26kLYequrf9vR/4Mt0xg++0XUK0v/e36puAgwdmXwjcO035wiHlkqQxmTYckvxUkr0nhoFjgJuAtcDEGUcrgIva8FrgpHbW0lLgobbb6VLgmCT7tQPRxwCXtmkPJ1nazlI6aWBZkqQxGGW30gHAl9vZpbsB51XVXyZZD1yY5FTgbuCEVv9i4DhgI/AD4BSAqtqS5H3A+lbvvVW1pQ2/BTgX2BO4pD0kSWMybThU1R3Ai4aU/wtw9JDyAk6bYlmrgFVDyjcALxyhvZKkGeAvpCVJPYaDJKnHcJAk9RgOkqQew0GS1GM4SJJ6DAdJUo/hIEnqMRwkST2GgySpx3CQJPUYDpKkHsNBktRjOEiSegwHSVKP4SBJ6jEcJEk9hoMkqcdwkCT1GA6SpB7DQZLUYzhIknoMB0lSj+EgSeoxHCRJPYaDJKln5HBIMi/JdUm+0safm+TqJLcnuSDJHq38qW18Y5u+aGAZv9PKb0ty7ED5sla2McnpT1z3JEnbY1u2HN4O3Dow/kHgo1W1GHgAOLWVnwo8UFXPBz7a6pHkEOBE4BeAZcAft8CZB/wR8GrgEOANra4kaUxGCockC4HXAJ9p4wFeCXyxVVkNvL4NL2/jtOlHt/rLgfOr6pGquhPYCBzeHhur6o6q+hFwfqsrSRqTUbccPgb8NvDjNv5M4MGqerSNbwIOasMHAfcAtOkPtfo/KZ80z1TlPUlWJtmQZMPmzZtHbLokaVtNGw5JfgW4v6quHSweUrWmmbat5f3CqrOraklVLVmwYMFWWi1J2hG7jVDnSOB1SY4DngbsQ7clMT/Jbm3rYCFwb6u/CTgY2JRkN2BfYMtA+YTBeaYqlySNwbRbDlX1O1W1sKoW0R1Qvryq3gRcARzfqq0ALmrDa9s4bfrlVVWt/MR2NtNzgcXANcB6YHE7+2mP9hxrn5DeSZK2yyhbDlN5N3B+kvcD1wHntPJzgM8l2Ui3xXAiQFXdnORC4BbgUeC0qnoMIMlbgUuBecCqqrp5B9olSdpB2xQOVfU14Gtt+A66M40m1/khcMIU838A+MCQ8ouBi7elLZKkncdfSEuSegwHSVKP4SBJ6jEcJEk9hoMkqcdwkCT1GA6SpB7DQZLUYzhIknoMB0lSj+EgSeoxHCRJPYaDJKnHcJAk9ezI/Ryk7Xbe1XcPLX/jEc+e4ZZIGsYtB0lSj+EgSeoxHCRJPYaDJKnHcJAk9RgOkqQew0GS1GM4SJJ6DAdJUo/hIEnqMRwkST2GgySpZ9pwSPK0JNck+XaSm5O8p5U/N8nVSW5PckGSPVr5U9v4xjZ90cCyfqeV35bk2IHyZa1sY5LTn/huSpK2xShbDo8Ar6yqFwEvBpYlWQp8EPhoVS0GHgBObfVPBR6oqucDH231SHIIcCLwC8Ay4I+TzEsyD/gj4NXAIcAbWl1J0phMGw7V+X4b3b09Cngl8MVWvhp4fRte3sZp049OklZ+flU9UlV3AhuBw9tjY1XdUVU/As5vdSVJYzLSMYf2Df964H5gHfAPwINV9Wirsgk4qA0fBNwD0KY/BDxzsHzSPFOVD2vHyiQbkmzYvHnzKE2XJG2HkcKhqh6rqhcDC+m+6f/8sGrtb6aYtq3lw9pxdlUtqaolCxYsmL7hkqTtsk1nK1XVg8DXgKXA/CQTd5JbCNzbhjcBBwO06fsCWwbLJ80zVbkkaUxGOVtpQZL5bXhP4FXArcAVwPGt2grgoja8to3Tpl9eVdXKT2xnMz0XWAxcA6wHFrezn/agO2i99ononCRp+4xyD+kDgdXtrKKnABdW1VeS3AKcn+T9wHXAOa3+OcDnkmyk22I4EaCqbk5yIXAL8ChwWlU9BpDkrcClwDxgVVXd/IT1UJK0zaYNh6q6AXjJkPI76I4/TC7/IXDCFMv6APCBIeUXAxeP0F5J0gzwF9KSpB7DQZLUYzhIknoMB0lSj+EgSeoxHCRJPYaDJKnHcJAk9RgOkqQew0GS1GM4SJJ6DAdJUo/hIEnqMRwkST2GgySpx3CQJPUYDpKkHsNBktRjOEiSegwHSVKP4SBJ6jEcJEk9hoMkqcdwkCT1GA6SpB7DQZLUYzhIknqmDYckBye5IsmtSW5O8vZW/owk65Lc3v7u18qT5ONJNia5IcmhA8ta0erfnmTFQPlhSW5s83w8SXZGZyVJoxlly+FR4J1V9fPAUuC0JIcApwOXVdVi4LI2DvBqYHF7rAQ+CV2YAGcARwCHA2dMBEqrs3JgvmU73jVJ0vaaNhyq6r6q+lYbfhi4FTgIWA6sbtVWA69vw8uBNdW5Cpif5EDgWGBdVW2pqgeAdcCyNm2fqvpmVRWwZmBZkqQx2KZjDkkWAS8BrgYOqKr7oAsQ4Fmt2kHAPQOzbWplWyvfNKR82POvTLIhyYbNmzdvS9MlSdtg5HBIshfwJeAdVfW9rVUdUlbbUd4vrDq7qpZU1ZIFCxZM12RJ0nYaKRyS7E4XDJ+vqj9txd9pu4Rof+9v5ZuAgwdmXwjcO035wiHlkqQxGeVspQDnALdW1UcGJq0FJs44WgFcNFB+UjtraSnwUNvtdClwTJL92oHoY4BL27SHkyxtz3XSwLIkSWOw2wh1jgTeDNyY5PpW9rvAWcCFSU4F7gZOaNMuBo4DNgI/AE4BqKotSd4HrG/13ltVW9rwW4BzgT2BS9pDkjQm04ZDVf01w48LABw9pH4Bp02xrFXAqiHlG4AXTtcWSdLM8BfSkqQew0GS1GM4SJJ6DAdJUo/hIEnqMRwkST2GgySpx3CQJPUYDpKkHsNBktRjOEiSegwHSVKP4SBJ6jEcJEk9hoMkqcdwkCT1GA6SpB7DQZLUYzhIknoMB0lSj+EgSeoxHCRJPYaDJKnHcJAk9RgOkqQew0GS1DNtOCRZleT+JDcNlD0jybokt7e/+7XyJPl4ko1Jbkhy6MA8K1r925OsGCg/LMmNbZ6PJ8kT3UlJ0rYZZcvhXGDZpLLTgcuqajFwWRsHeDWwuD1WAp+ELkyAM4AjgMOBMyYCpdVZOTDf5OeSJM2wacOhqq4EtkwqXg6sbsOrgdcPlK+pzlXA/CQHAscC66pqS1U9AKwDlrVp+1TVN6uqgDUDy5Ikjcn2HnM4oKruA2h/n9XKDwLuGai3qZVtrXzTkHJJ0hg90Qekhx0vqO0oH77wZGWSDUk2bN68eTubKEmazvaGw3faLiHa3/tb+Sbg4IF6C4F7pylfOKR8qKo6u6qWVNWSBQsWbGfTJUnT2d5wWAtMnHG0ArhooPykdtbSUuChttvpUuCYJPu1A9HHAJe2aQ8nWdrOUjppYFmSpDHZbboKSb4AHAXsn2QT3VlHZwEXJjkVuBs4oVW/GDgO2Aj8ADgFoKq2JHkfsL7Ve29VTRzkfgvdGVF7Ape0hyRpjKYNh6p6wxSTjh5St4DTpljOKmDVkPINwAuna4ckaeb4C2lJUo/hIEnqMRwkST2GgySpx3CQJPVMe7aSpCef866+e2j5G4949gy3ROPiloMkqcdwkCT1GA6SpB7DQZLUYzhIknoMB0lSj+EgSeoxHCRJPYaDJKnHcJAk9RgOkqQew0GS1GM4SJJ6DAdJUo/hIEnqMRwkST2GgySpx3CQJPUYDpKkHsNBktRjOEiSemZNOCRZluS2JBuTnD7u9kjSk9lu424AQJJ5wB8B/xHYBKxPsraqbhlvyyRpPM67+u6h5W884tkz8vyzZcvhcGBjVd1RVT8CzgeWj7lNkvSkNSu2HICDgHsGxjcBR0yulGQlsLKNfj/Jbdv5fPsD351c+KbtXNiYDe3LHLQ/8N05ug4m21XWCUzqyxxeP7vMOnnTjvXlOaNWnC3hkCFl1SuoOhs4e4efLNlQVUt2dDmzwa7Sl12lH2BfZqNdpR8wc32ZLbuVNgEHD4wvBO4dU1sk6UlvtoTDemBxkucm2QM4EVg75jZJ0pPWrNitVFWPJnkrcCkwD1hVVTfvxKfc4V1Ts8iu0pddpR9gX2ajXaUfMEN9SVVv174k6UlutuxWkiTNIoaDJKlnlw6H6S7JkeSpSS5o069OsmjmWzm9EfpxcpLNSa5vj98YRzunk2RVkvuT3DTF9CT5eOvnDUkOnek2jmqEvhyV5KGBdfL7M93GUSU5OMkVSW5NcnOStw+pM+vXzYj9mBPrJcnTklyT5NutL+8ZUmfnfn5V1S75oDuw/Q/AzwB7AN8GDplU5zeBT7XhE4ELxt3u7ezHycAnxt3WEfrycuBQ4KYpph8HXEL3u5elwNXjbvMO9OUo4CvjbueIfTkQOLQN7w38/ZD32KxfNyP2Y06sl/Y679WGdweuBpZOqrNTP7925S2HUS7JsRxY3Ya/CBydZNgP8sZpl7m0SFVdCWzZSpXlwJrqXAXMT3LgzLRu24zQlzmjqu6rqm+14YeBW+muWjBo1q+bEfsxJ7TX+fttdPf2mHz20E79/NqVw2HYJTkmv1F+UqeqHgUeAp45I60b3Sj9APi1trn/xSQHD5k+F4za17nipW23wCVJfmHcjRlF2zXxErpvqoPm1LrZSj9gjqyXJPOSXA/cD6yrqinXyc74/NqVw2GUS3KMdNmOMRuljX8OLKqqfw/8FY9/m5hr5sL6GNW3gOdU1YuAPwT+bMztmVaSvYAvAe+oqu9Nnjxkllm5bqbpx5xZL1X1WFW9mO6KEYcneeGkKjt1nezK4TDKJTl+UifJbsC+zL5dBdP2o6r+paoeaaOfBg6bobY90XaZy6hU1fcmdgtU1cXA7kn2H3OzppRkd7oP1M9X1Z8OqTIn1s10/Zhr6wWgqh4EvgYsmzRpp35+7crhMMolOdYCK9rw8cDl1Y7uzCLT9mPSvt/X0e1rnYvWAie1M2OWAg9V1X3jbtT2SPLvJvb/Jjmc7n/tX8bbquFaO88Bbq2qj0xRbdavm1H6MVfWS5IFSea34T2BVwF/N6naTv38mhWXz9gZaopLciR5L7ChqtbSvZE+l2QjXeKeOL4WDzdiP96W5HXAo3T9OHlsDd6KJF+gO1tk/ySbgDPoDrRRVZ8CLqY7K2Yj8APglPG0dHoj9OV44C1JHgX+DThxFn7xmHAk8GbgxraPG+B3gWfDnFo3o/RjrqyXA4HV6W6E9hTgwqr6ykx+fnn5DElSz668W0mStJ0MB0lSj+EgSeoxHCRJPYaDJKnHcJilkpzWfukpSTPOcJhhSSrJhwfG35XkzEl13gw8Y+DCW2OX5Nwkx8+Cdpyc5KfH3Y6ZluRvd2DeM5O8axvq75vkzwcuFz30Nw1JZs37c3skmZ/kN8fdjtnKcJh5jwC/Os1P9ucB798ZT95+Zj8ntR8EnQyMNRxaO2ZUVb1sBp/uNOCWdv2ho4APt1/n72rm0132WkMYDjPvUbobhP+PyRMmvp1X1blVVRPfzNoNSr6e5MIkf5/krCRvajcDuTHJ81q9BUm+lGR9exzZys9McnaSrwJr0t1I5LNt3uuSvGJIW5LkE0luSfIXwLMGph3W2nNtkksz5NLNSV6b7gYk1yX5qyQHtPK9Bp77hiS/1sqPSfLNJN9K8icTu9SS3JXk95P8NfAGYAnw+XQ3atkzydHtOW5MdwOep7b5zmptvyHJ/xnSvjOTfC7J5UluT/LfBvr9oSQ3tWX++sA6uCLJecCNQ5a3tfa/p5XfmOTnWvkv5/EbzlyXZO/22lw2UHf5wPK/v7X2DWnP76W7QdRfAS8YKH9ekr9s6+4bE+2ZpIC9kwTYi+7Xt48Oe56Bddprd5JF6W688+l0WyBfTXcpCJI8v70vvt3acnCr/422nG8lednAa//17Nj7f1WSryW5I8nbWtPPAp7X1sGHtrLuD0xyZat3U5Jfmuq12KXszBtW+Bh6E4/vA/sAd9FdKOtdwJlt2rnA8YN129+jgAfpflL/VOCfgPe0aW8HPtaGzwN+sQ0/m+4aMwBnAtcCe7bxdwKfbcM/B9wNPG1SO38VWEe3FfPT7fmPp7tExN8CC1q9X6e7pMfkfu7H47/A/w3gw234gxPtHai3P3Al8FOt7N3A77fhu4DfHqj/NWBJG34a3SWLf7aNrwHeATwDuG3g+ecPad+ZdDdO2rM9/z2tn7820O8D2mtzYFsH/wo8d8iypmv/b7Xh3wQ+04b/HDiyDe9Fdymb3YB9Bpa5caAPE++Foe2b1J7D6ALs6XTvtY3Au9q0y4DFbfgIuuvxTO7P3sAVwH1079fXTPVebn+HthtYRBcqL27TLgT+Sxu+GnhdG96zPZ5Oex8Ci+kuEwFPzPv/b9u8+9NdS2n31r6bBvoz1bp/J/B7rc48YO9xf47MxGPO7mKYy6rqe0nWAG+ju77LKNZXu9BZkn8AvtrKbwQmvvm/Cjgkj9/vY58ke7fhtVU18Vy/SHe5Yqrq75L8I/CzwA0Dz/dy4AtV9Rhwb5LLW/kLgBcC69rzzKP7EJlsIXBBuq2KPYA7B9r4k2vAVNUDSX4FOAT4m7bMPYBvDizrgilekxcAd1bV37fx1XS7RD4B/BD4TLqtnq9MMf9F7TX5tyRX0N1Y6RcH+v2dJF8H/gPwPeCaqrpzyHKWTtP+iauDXksXugB/A3wkyeeBP62qTemuKPq/k7wc+DHd9foPAP55YFlTtW/wYoy/BHy5qn4AkGRt+7sX8DLgTwbeI08d0p9jgeuBVwLPo1vX36j+5a8nZIp2Q7d+Jq5zdC2wqL0nD6ru+kBMvC+T7At8IsmLgcfo3pMTdvT9/xfVXbn4kST3D7Rv0FSv7XpgVVs/fzbQn12a4TA+H6O7tvxnB8oepe3qa5v0g/t5HxkY/vHA+I95fD0+BXjpQAjQlgXdt96fFI3YxmEX3gpwc1W9dJp5/xD4SFWtTXIU3be3ifmH3VdjXVW9YYpl/esU5UP7Ud3FCg8HjqYLorfSfdD1qg4Z39prs7V2bK39E+vqMdq6qqqzWnAdB1yV5FV0IbMAOKyq/m+Su+i2jiY/1yiGrbunAA9Wd4+ArTkFOKu6r8obk9xJt4V5zRT137SVdg++bx+j20IY9h6Ablfrd4AXtbb+cGDajr7/J7dj2GffVO+nK1vwvYbuQncfqqo1w+ruSjzmMCZVtYVuM/vUgeK7ePxeDMtpV/ncBl+l+yAEoH0DG+ZKun9okvws3Sb4bUPqnJjublQH8vi3s9uABUle2ubfPcPvprUv3eY/PH5Z4WFt3A+4CjgyyfNb2dNbu4Z5mG63B3SXMF40MR/dFTm/3r4h71vd9frfAUz1OixPd/zlmXS7Lta3fv966/cCui2oqT4UJ2xL+yf6/byqurGqPghsoPvw3Re4v33AvgJ4zpBZR2nflcB/SndMZm/gtdBtsQJ3JjmhtSFJXjTkOe6mC1bSHSt6AXDHVrozSrt/orXjn5K8tj3Hnu1YxL7AfVX1Y7p1ua0H/kd9/08YfC/BFK9tkufQ9e/TdFdCPXQb2zUnGQ7j9WG6faATPg38cpJr6PYHT/VNdSpvA5akOwh7C/Dfp6j3x8C8JDfS7bI5uR6/WdCELwO30222fxL4OkB197E+Hvhgkm/T7X4YdibNmXS7L74BfHeg/P3Afu3A3reBV1TVZrqzkL6Q5Aa6D9thB0qhOy7zqXSXZA7dt9w/aX35MfApun/4r7RlfZ0hB/+ba4C/aM/3vqq6t/X7BrrjEZfTHe/45ynmp70m29L+Ce8YeA3+DbgE+Dzd+ttAF96Tr9/PKO2r7j7KF9Ctmy8B3xiY/Cbg1Pa8NzP8fuTvA17WXtPLgHdX1XeH1JswSrsnezPwP5Pc19r3TLr35YokV9HtUtpZ73+gu0kW3a7Am5J8iKlf26OA65NcR3dc4g+2sV1zkpfs1pNSut+WfL+qemcyaeYkeSPd1sIV426L/n9uOUgaiyTvpNtKmfHfjWh6bjlIknrccpAk9RgOkqQew0GS1GM4SJJ6DAdJUs//A46IXFaciBdcAAAAAElFTkSuQmCC\n",
      "text/plain": [
       "<Figure size 432x288 with 1 Axes>"
      ]
     },
     "metadata": {},
     "output_type": "display_data"
    }
   ],
   "source": [
    "import numpy as np\n",
    "import pandas as pd\n",
    "import seaborn as sns\n",
    "%matplotlib inline\n",
    "\n",
    "# definimos a quantidade de ensaios.\n",
    "\n",
    "n = 100000\n",
    "quantidade_ensaios = n\n",
    "\n",
    "# definimos a quantidade de lançamentos por ensaio.\n",
    "lançamentos = 3\n",
    "\n",
    "# definimos a probabilidade de obter cada em cada lançamento.\n",
    "probabilidade_sucesso = 1/6\n",
    "\n",
    "# binomial retorna o número de sucessos de cada vez que se realizou um ensaio de 8 lançamentos.\n",
    "%time samples_binomial = np.random.binomial(n = lançamentos, p = probabilidade_sucesso, size = quantidade_ensaios)\n",
    "\n",
    "# construímos um gráfico.\n",
    "eixo_x = 'Número de acertos por ensaio de 8 lançamentos'\n",
    "sns.distplot(samples_binomial, axlabel = eixo_x, kde = False);"
   ]
  },
  {
   "cell_type": "code",
   "execution_count": 60,
   "metadata": {},
   "outputs": [
    {
     "data": {
      "text/plain": [
       "0    57993\n",
       "1    34518\n",
       "2     6984\n",
       "3      505\n",
       "dtype: int64"
      ]
     },
     "execution_count": 60,
     "metadata": {},
     "output_type": "execute_result"
    }
   ],
   "source": [
    "pd.value_counts(samples_binomial)"
   ]
  },
  {
   "cell_type": "code",
   "execution_count": 57,
   "metadata": {},
   "outputs": [
    {
     "data": {
      "text/plain": [
       "0.07489"
      ]
     },
     "execution_count": 57,
     "metadata": {},
     "output_type": "execute_result"
    }
   ],
   "source": [
    "simulator = (pd.value_counts(samples_binomial)[2] + pd.value_counts(samples_binomial)[3])/n\n",
    "simulator"
   ]
  },
  {
   "cell_type": "markdown",
   "metadata": {},
   "source": [
    "### Comparação do resultado do simulador com a probabilidade nominal"
   ]
  },
  {
   "cell_type": "code",
   "execution_count": 58,
   "metadata": {},
   "outputs": [
    {
     "data": {
      "text/plain": [
       "0.07407407407407407"
      ]
     },
     "execution_count": 58,
     "metadata": {},
     "output_type": "execute_result"
    }
   ],
   "source": [
    "probability = 16/216\n",
    "probability"
   ]
  },
  {
   "cell_type": "code",
   "execution_count": 59,
   "metadata": {},
   "outputs": [
    {
     "name": "stdout",
     "output_type": "stream",
     "text": [
      "A diferença do simulador para 100000 jogadas é 0.0008159259259259283\n"
     ]
    }
   ],
   "source": [
    "print('A diferença do simulador para',n,'jogadas é',simulator-probability)"
   ]
  },
  {
   "cell_type": "markdown",
   "metadata": {},
   "source": [
    "## Simulação da rolagem de dois dados com a distribuição dos resultados\n",
    "\n",
    "<br>\n",
    "<img src=\"img/prob_dois_dados.png\">\n",
    "<br>\n",
    "\n",
    "O programa representa o total da rolagem de dois dados por **n** vezes e exibe o total dso valores acumuladdos em um histograma através da função <span style=\"color:blue\"> **roll_pair( )**</span> que exibe o total das possibilidades dentro do intervalo de **n** vezes. Para a rolagem 1 e a rolagem 2, a função **random** escolherá um número inteiro aleatório de 1-6, e após isso o total da rolagem 1 será adicionado ao total da rolagem 2. Isto irá repetir **n** vezes e depois produzir um histograma, plotando os totais acumulados em uma distribuição.\n",
    "\n",
    "Sabemos que o valor médio da distribuição é 7 calculado como (2 + 3 + 4 + 5 + 6 + 7 + 8 + 9 + 10 + 11 + 12) / 12 ou 77/11 = 7.\n",
    "\n",
    "Podemos ver que a média da amostra não está extatamente no ponto médio, o que é esperado porque é uma estimativa da média populacional, ou amostra.\n",
    "\n",
    "O procedimento mias interessante aqui é aumentar o **n** e identificar que a média cada vez mais se aproxima da probabilidade teórica nominal. De acordo com o teorema do limite central, o histograma dessas médias amostrais será uma **Distribuição Normal** ou **Gaussiana**, de acordo com o *teorema do limite central*.\n",
    "\n",
    "O exemplo abaixo realiza este experimento e plota a distribuição resultante de médias amostrais.\n",
    "\n",
    "Para uma ferramente interativa online [clique aqui](https://www.openprocessing.org/sketch/124236/)"
   ]
  },
  {
   "cell_type": "code",
   "execution_count": 72,
   "metadata": {},
   "outputs": [],
   "source": [
    "import matplotlib.pyplot as plt\n",
    "import random\n",
    "%matplotlib inline\n",
    "\n",
    "plt.ion()\n",
    "\n",
    "def roll_pair():\n",
    "    total = []\n",
    "    n=1000\n",
    "    for choice in range(n):\n",
    "        roll1 = random.randint(1,6)\n",
    "        roll2 = random.randint(1,6)\n",
    "        total += [(roll1+roll2)]\n",
    "        \n",
    "    print (total)\n",
    "    \n",
    "    plt.hist(total)\n",
    "    plt.show()"
   ]
  },
  {
   "cell_type": "code",
   "execution_count": 73,
   "metadata": {
    "scrolled": false
   },
   "outputs": [
    {
     "name": "stdout",
     "output_type": "stream",
     "text": [
      "[2, 8, 8, 7, 9, 10, 10, 9, 9, 9, 5, 6, 5, 8, 9, 4, 7, 4, 9, 10, 9, 8, 6, 10, 10, 7, 9, 11, 8, 6, 7, 7, 7, 4, 6, 5, 3, 9, 5, 7, 8, 8, 6, 6, 11, 12, 10, 10, 4, 6, 7, 11, 8, 9, 9, 4, 9, 7, 3, 8, 6, 9, 11, 8, 5, 5, 5, 8, 8, 9, 6, 5, 7, 4, 7, 8, 9, 4, 3, 9, 11, 4, 7, 9, 5, 4, 11, 7, 7, 8, 11, 5, 8, 8, 4, 5, 7, 5, 11, 6, 7, 3, 7, 5, 7, 4, 7, 7, 6, 11, 4, 9, 6, 12, 8, 8, 6, 8, 6, 4, 5, 8, 9, 9, 10, 9, 10, 7, 10, 7, 6, 8, 5, 7, 5, 8, 9, 5, 11, 6, 4, 6, 5, 4, 8, 8, 8, 6, 11, 3, 9, 6, 7, 7, 8, 7, 11, 2, 11, 10, 5, 2, 4, 9, 9, 8, 8, 11, 4, 11, 6, 5, 8, 4, 6, 5, 4, 6, 5, 5, 12, 6, 7, 8, 11, 5, 12, 6, 10, 3, 9, 7, 3, 3, 6, 7, 7, 5, 12, 7, 10, 6, 7, 4, 9, 2, 7, 4, 2, 7, 7, 11, 8, 11, 6, 10, 7, 4, 6, 9, 6, 4, 9, 6, 7, 7, 4, 7, 7, 8, 9, 11, 4, 3, 7, 7, 10, 10, 7, 3, 9, 5, 3, 7, 3, 10, 8, 11, 5, 11, 5, 8, 12, 7, 3, 3, 11, 9, 5, 3, 7, 5, 12, 9, 11, 6, 5, 8, 7, 9, 7, 6, 8, 6, 6, 6, 4, 9, 10, 11, 10, 11, 7, 11, 4, 10, 11, 6, 9, 7, 6, 8, 8, 9, 11, 9, 2, 9, 7, 7, 8, 9, 11, 7, 11, 9, 4, 11, 7, 10, 8, 6, 10, 10, 10, 6, 7, 2, 11, 12, 10, 6, 4, 10, 9, 8, 7, 8, 11, 12, 10, 7, 4, 10, 4, 9, 8, 7, 7, 6, 3, 7, 7, 4, 6, 10, 3, 6, 4, 6, 6, 5, 7, 3, 8, 8, 6, 9, 11, 9, 8, 3, 3, 6, 4, 8, 6, 5, 7, 11, 8, 9, 5, 7, 6, 9, 9, 7, 10, 6, 9, 5, 9, 4, 4, 5, 2, 4, 3, 9, 4, 8, 9, 8, 8, 6, 12, 11, 10, 10, 9, 9, 4, 3, 9, 7, 2, 8, 7, 5, 6, 9, 7, 9, 5, 5, 7, 9, 4, 7, 9, 8, 6, 9, 7, 8, 9, 10, 8, 11, 3, 6, 8, 10, 12, 12, 11, 9, 4, 7, 7, 6, 9, 4, 10, 4, 6, 8, 6, 7, 6, 5, 6, 5, 3, 3, 7, 7, 8, 7, 10, 9, 7, 8, 6, 10, 5, 7, 8, 11, 12, 6, 2, 12, 3, 4, 5, 2, 10, 7, 6, 5, 8, 3, 5, 7, 3, 7, 11, 7, 3, 7, 7, 12, 6, 3, 11, 7, 4, 3, 7, 5, 9, 8, 9, 9, 4, 5, 5, 3, 11, 5, 8, 6, 5, 3, 8, 8, 7, 4, 4, 8, 6, 7, 8, 6, 10, 7, 8, 3, 7, 10, 5, 6, 7, 6, 8, 3, 2, 4, 3, 5, 7, 6, 2, 6, 7, 3, 4, 7, 3, 7, 7, 6, 8, 10, 9, 7, 7, 10, 11, 9, 2, 4, 7, 8, 5, 9, 5, 9, 6, 10, 5, 6, 12, 5, 10, 8, 9, 9, 5, 4, 7, 6, 10, 8, 4, 8, 7, 8, 8, 5, 9, 9, 6, 2, 2, 5, 4, 7, 4, 7, 10, 11, 5, 5, 6, 5, 5, 10, 8, 11, 7, 4, 7, 6, 3, 7, 8, 12, 7, 2, 7, 4, 10, 7, 6, 11, 8, 3, 5, 3, 6, 9, 8, 7, 11, 5, 7, 8, 5, 3, 12, 6, 9, 12, 7, 9, 12, 3, 6, 9, 3, 3, 7, 7, 10, 7, 4, 7, 5, 9, 12, 3, 6, 9, 9, 6, 8, 7, 6, 3, 7, 2, 9, 4, 7, 8, 2, 11, 12, 3, 8, 2, 5, 7, 4, 4, 8, 12, 6, 6, 6, 5, 4, 8, 8, 7, 7, 11, 7, 4, 12, 5, 7, 8, 3, 7, 3, 8, 5, 5, 8, 9, 3, 7, 5, 7, 6, 2, 11, 6, 9, 9, 7, 11, 8, 8, 11, 3, 8, 4, 9, 5, 11, 12, 3, 9, 4, 9, 9, 6, 10, 10, 11, 11, 5, 5, 8, 9, 10, 4, 6, 9, 9, 8, 7, 7, 3, 6, 6, 4, 9, 6, 6, 5, 6, 7, 6, 7, 4, 5, 4, 6, 9, 3, 6, 9, 8, 11, 7, 7, 5, 8, 11, 7, 7, 11, 10, 7, 4, 2, 8, 9, 10, 5, 9, 6, 2, 4, 5, 10, 7, 10, 2, 10, 9, 6, 10, 5, 4, 3, 12, 3, 6, 9, 7, 7, 9, 6, 6, 9, 7, 9, 7, 6, 6, 9, 3, 8, 4, 5, 8, 8, 5, 8, 12, 8, 5, 5, 8, 11, 7, 12, 6, 8, 7, 8, 9, 4, 5, 4, 8, 10, 9, 7, 4, 8, 4, 4, 6, 8, 8, 7, 5, 3, 7, 5, 6, 10, 6, 8, 8, 7, 9, 5, 2, 6, 6, 3, 7, 10, 7, 5, 7, 6, 4, 8, 7, 3, 10, 8, 6, 11, 2, 7, 5, 5, 8, 6, 9, 7, 6, 8, 12, 8, 6, 8, 7, 8, 9, 6, 5, 2, 11, 2, 6, 11, 5, 11, 8, 6, 3, 6, 7, 8, 3, 6, 10, 6, 8, 7, 8, 10, 12, 8, 6, 6, 7, 7, 8, 8, 7, 7, 5, 5, 9, 3, 11, 8, 6, 10, 5, 7, 4, 8, 7, 4, 2, 7, 10, 6, 9, 7, 7, 7, 6, 2, 9, 8, 4, 10, 10, 9, 5, 2, 11, 8, 5, 7, 10, 9, 7, 4, 5, 4, 9, 2, 6, 7, 6, 5, 7, 8, 7, 8, 7, 9, 5, 10]\n"
     ]
    },
    {
     "data": {
      "image/png": "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\n",
      "text/plain": [
       "<Figure size 432x288 with 1 Axes>"
      ]
     },
     "metadata": {},
     "output_type": "display_data"
    }
   ],
   "source": [
    "roll_pair()"
   ]
  },
  {
   "cell_type": "markdown",
   "metadata": {},
   "source": [
    "# AVANÇADO\n",
    "\n",
    "Para fixação dos conceitos de probabilidade, passamos problemas matemáticos clássicos envolvendo o cálculo das probabilidades para os resultados em **Python.** \n",
    "\n",
    "- (1) Paradoxo do aniversariante\n",
    "- (2) Paradoxo de Monty Hall - *Let's make a deal!*\n",
    "- (3) Calculando **π** com simulação de Monte-Carlo "
   ]
  },
  {
   "cell_type": "markdown",
   "metadata": {},
   "source": [
    "# (1) Paradoxo do aniversariante\n",
    "\n",
    "Qual a probabilidade de duas pessoas fazerem aniversário no mesmo dia em uma sala com **N** pessoas?\n",
    "\n",
    "*fonte: Wikipedia*\n",
    "\n",
    "Em teoria das probabilidades, o paradoxo do aniversário afirma que dado um grupo de 23 (ou mais) pessoas escolhidas aleatoriamente, a chance de que duas pessoas terão a mesma data de aniversário é de mais de 50%. Para 57 ou mais pessoas, a probabilidade é maior do que 99%, entretanto, ela não pode ser exatamente 100% exceto que se tenha pelo menos 367 pessoas. Calcular essa probabilidade (e as relacionadas a ela) é o problema do aniversário. A matemática por trás disso tem sido utilizada para executar o ataque do aniversário.\n",
    "\n",
    "O problema foi apresentado pela primeira vez pelo matemático polonês Richard von Mises. \n",
    "\n",
    "Para calcular aproximadamente a probabilidade de que em uma sala com n pessoas, pelo menos duas possuam o mesmo aniversário, desprezamos variações na distribuição, tais como anos bissextos, gêmeos, variações sazonais ou semanais, e assumimos que 365 possíveis aniversários são todos igualmente prováveis. Distribuições de aniversários na realidade não são uniformes uma vez que as datas não são equiprováveis.[1]\n",
    "\n",
    "É mais fácil calcular a probabilidade p(n) de que todos os n aniversários sejam diferentes. Se n > 365, pelo Princípio da Casa dos Pombos esta probabilidade é 0. Por outro lado, se n ≤ 365, ele é dado por \n",
    "\n",
    "<br>\n",
    "<img src=\"img/paradoxo_aniversario.png\">\n",
    "<br>\n",
    "\n",
    "porque a segunda pessoa não pode ter o mesmo aniversário do que o primeiro (364/365), o terceiro não pode ter o mesmo aniversário do que o segundo (363/365), etc.\n",
    "\n",
    "O evento de pelo menos duas pessoas entre n terem o mesmo aniversário é o complementar de todos n serem diferentes. Consequentemente, sua probabilidade p(n) é\n",
    "\n",
    "```python\n",
    "    p(n) = 1 − pc(n)\n",
    "```\n",
    "\n",
    "Esta probabilidade ultrapassa 1/2 para n = 23 (com valor aproximado de 50.7%). A seguinte tabela mostra a probabilidade para alguns valores de n (ignorando anos bissextos como descrito anteriormente): \n",
    "\n",
    "<br>\n",
    "<img src=\"img/paradoxo_aniversario_2.png\">\n",
    "<br>"
   ]
  },
  {
   "cell_type": "code",
   "execution_count": 61,
   "metadata": {},
   "outputs": [
    {
     "name": "stdout",
     "output_type": "stream",
     "text": [
      "Digite o número de pessoas: 357\n",
      "Digite o número de repetições: 1000\n",
      "Em 357 pessoas e 1000 testes deram-se 1000 vezes em que pelo menos duas pessoas fazem anos no mesmo dia\n",
      "percentagem(%): 100.00\n"
     ]
    }
   ],
   "source": [
    "import random\n",
    "\n",
    "num_p = int(input(\"Digite o número de pessoas: \"))\n",
    "num_loops = int(input(\"Digite o número de repetições: \")) # num de testes\n",
    "favoraveis = 0\n",
    "for _ in range(num_loops):\n",
    "    ani_dates = [random.randint(1, 366) for _ in range(num_p)] # sortear nova lista de datas (dias) de aniversario\n",
    "    if(any(ani_dates.count(i) > 1 for i in ani_dates)): # verificar se existe a mesma data (valor) mais do que uma vez na lista\n",
    "        favoraveis += 1\n",
    "\n",
    "probs_perc = (favoraveis/num_loops)*100\n",
    "print('Em {} pessoas e {} testes deram-se {} vezes em que pelo menos duas pessoas fazem anos no mesmo dia'.format(num_p, num_loops, favoraveis))\n",
    "print('percentagem(%):', \"%.2f\" %probs_perc)"
   ]
  },
  {
   "cell_type": "code",
   "execution_count": 19,
   "metadata": {},
   "outputs": [
    {
     "data": {
      "image/png": "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\n",
      "text/plain": [
       "<Figure size 432x288 with 1 Axes>"
      ]
     },
     "metadata": {},
     "output_type": "display_data"
    }
   ],
   "source": [
    "import matplotlib.pyplot as plt\n",
    "%matplotlib inline\n",
    "\n",
    "def birthday_probs(x):\n",
    "    p = (1.0/365)**x\n",
    "    for i in range((366-x),366):\n",
    "        p *= i\n",
    "    return 1-p\n",
    "\n",
    "plt.plot([birthday_probs(i)*100 for i in range(366)])\n",
    "plt.xlabel(\"Num de pessoas\")\n",
    "plt.ylabel(\"Probabilidades de partilhar o dia do aniversário\")\n",
    "plt.ylim(ymin=0)\n",
    "plt.xlim(xmin=0, xmax=80)\n",
    "plt.show()"
   ]
  },
  {
   "cell_type": "markdown",
   "metadata": {},
   "source": [
    "# (2) Monty Hall\n",
    "\n",
    "O problema de Monty Hall, também conhecido por paradoxo de Monty Hall é um problema matemático e paradoxo que surgiu a partir de um concurso televisivo dos Estados Unidos chamado Let’s Make a Deal, exibido na década de 1970.\n",
    "\n",
    "O jogo consistia no seguinte: Monty Hall, o apresentador, apresentava três portas aos concorrentes. Atrás de uma delas estava um prêmio (um carro) e as outras duas dois bodes.\n",
    "\n",
    "    Na 1.ª etapa o concorrente escolhe uma das três portas (que ainda não é aberta);\n",
    "    Na 2.ª etapa, Monty abre uma das outras duas portas que o concorrente não escolheu, revelando que o carro não se encontra nessa porta e revelando um dos bodes;\n",
    "    Na 3.ª etapa Monty pergunta ao concorrente se quer decidir permanecer com a porta que escolheu no início do jogo ou se ele pretende mudar para a outra porta que ainda está fechada para então a abrir.\n",
    "\n",
    "Agora, com duas portas apenas para escolher — pois uma delas já se viu, na 2.ª etapa, que não tinha o prêmio — e sabendo que o carro está atrás de uma das restantes duas, o concorrente tem que tomar a decisão.\n",
    "\n",
    "\n",
    "Qual é a estratégia mais lógica? Ficar com a porta escolhida inicialmente ou mudar de porta? Com qual das duas portas ainda fechadas o concorrente tem mais probabilidades de ganhar? Por quê?\n",
    "\n",
    "<br>\n",
    "<img src=\"img/bode.png\" width=\"450\" />\n",
    "<br>"
   ]
  },
  {
   "cell_type": "code",
   "execution_count": 20,
   "metadata": {},
   "outputs": [
    {
     "name": "stdout",
     "output_type": "stream",
     "text": [
      "\n",
      "This is the Monty Hall problem.\n",
      "There are 3 doors in front of you, and there is a prize behind one of them.\n",
      "Once you select a door, I will open one of the two you had not selected which does not have a prize behind it.\n",
      "You will then have the opportunity to switch from the door you originally selected to an alternate door..\n",
      "\n",
      "Select door 'A', 'B', or 'C': A\n",
      "\n",
      "This problem relies on conditional probabilities.\n",
      "It is suggested that you switch doors, you will have a higher probability of winning of you do.\n",
      "The door I will now open is: 'C'\n",
      "Would you like to select the third door? Type 'Yes' or 'No': yes\n",
      "You decided to keep your initial door, 'A'\n",
      "Sorry, the prize was behind the alternate door, 'B'\n",
      "This is a check:\n",
      "Prize: 'B'\n",
      "Selection: 'A' \n",
      "Alternate: 'B' \n",
      "Door opened: 'C' \n"
     ]
    }
   ],
   "source": [
    "import random\n",
    "print(\"\"\"\n",
    "This is the Monty Hall problem.\n",
    "There are 3 doors in front of you, and there is a prize behind one of them.\n",
    "Once you select a door, I will open one of the two you had not selected which does not have a prize behind it.\n",
    "You will then have the opportunity to switch from the door you originally selected to an alternate door..\n",
    "\"\"\")\n",
    "\n",
    "A = \"A\"\n",
    "B = \"B\"\n",
    "C = \"C\"\n",
    "\n",
    "doors = [\"A\", \"B\", \"C\"]\n",
    "\n",
    "prize = random.choice(doors)\n",
    "\n",
    "selection = str(input(\"Select door 'A', 'B', or 'C': \"))\n",
    "\n",
    "print(\"\"\"\n",
    "This problem relies on conditional probabilities.\n",
    "It is suggested that you switch doors, you will have a higher probability of winning of you do.\"\"\")\n",
    "\n",
    "\n",
    "if selection == prize:\n",
    "    remaining = list(set(doors) - set(prize))\n",
    "    open_door = random.choice(list(set(doors) - set(random.choice(remaining))))\n",
    "    alternate = random.choice(list(set(doors) - set(open_door) - set(prize)))\n",
    "\n",
    "else:\n",
    "    open_door = random.choice(list(set(doors) - set(selection) - set(prize)))\n",
    "    alternate = random.choice(\n",
    "        list(set(doors) - set(open_door) - set(selection)))\n",
    "\n",
    "print(\"The door I will now open is: %r\" % open_door)\n",
    "\n",
    "second_chance = str(input(\"Would you like to select the third door? Type 'Yes' or 'No': \"))\n",
    "\n",
    "if second_chance == \"Yes\":\n",
    "    print(\"The door you will switch to is: %r \" % alternate)\n",
    "\n",
    "    if alternate == prize:\n",
    "        print(\"Congrats, you win! The prize was behind the alternate, %r\" % alternate)\n",
    "    else:\n",
    "        print (\"Sorry, the prize was behind the original door %r\" % prize)\n",
    "\n",
    "\n",
    "if second_chance != \"Yes\":\n",
    "    print(\"\"\"You decided to keep your initial door, %r\"\"\" % selection)\n",
    "    if selection != prize:\n",
    "        print(\"\"\"Sorry, the prize was behind the alternate door, %r\"\"\" % prize)\n",
    "    else:\n",
    "        print(\"Congrats, you win! The prize was behind your original selection, %r\" % selection)\n",
    "\n",
    "\n",
    "print(\"This is a check:\")\n",
    "\n",
    "print (\"Prize: %r\" % prize)\n",
    "print (\"Selection: %r \" % selection)\n",
    "print (\"Alternate: %r \" % alternate)\n",
    "print (\"Door opened: %r \" % open_door)"
   ]
  },
  {
   "cell_type": "markdown",
   "metadata": {},
   "source": [
    "## Comparando os resultados da simulação com a probabilidade nominal"
   ]
  },
  {
   "cell_type": "code",
   "execution_count": 21,
   "metadata": {},
   "outputs": [],
   "source": [
    "import argparse, random\n",
    "\n",
    "def simulate(num_doors, switch, verbose):\n",
    "    \"\"\"(int, bool): bool\n",
    "\n",
    "    Carry out the game for one contestant.  If 'switch' is True,\n",
    "    the contestant will switch their chosen door when offered the chance.\n",
    "    Returns a Boolean value telling whether the simulated contestant won.\n",
    "    \"\"\"\n",
    "\n",
    "    # Doors are numbered from 0 up to num_doors-1 (inclusive).\n",
    "\n",
    "    # Randomly choose the door hiding the prize.\n",
    "    winning_door = random.randint(0, num_doors-1)\n",
    "    if verbose:\n",
    "        print('Prize is behind door {}'.format(winning_door+1))\n",
    "\n",
    "    # The contestant picks a random door, too.\n",
    "    choice = random.randint(0, num_doors-1)\n",
    "    if verbose:\n",
    "        print('Contestant chooses door {}'.format(choice+1))\n",
    "\n",
    "    # The host opens all but two doors.\n",
    "    closed_doors = list(range(num_doors))\n",
    "    while len(closed_doors) > 2:\n",
    "        # Randomly choose a door to open.\n",
    "        door_to_remove = random.choice(closed_doors)\n",
    "\n",
    "        # The host will never open the winning door, or the door\n",
    "        # chosen by the contestant.\n",
    "        if door_to_remove == winning_door or door_to_remove == choice:\n",
    "            continue\n",
    "\n",
    "        # Remove the door from the list of closed doors.\n",
    "        closed_doors.remove(door_to_remove)\n",
    "        if verbose:\n",
    "            print('Host opens door {}'.format(door_to_remove+1))\n",
    "\n",
    "    # There are always two doors remaining.\n",
    "    assert len(closed_doors) == 2\n",
    "\n",
    "    # Does the contestant want to switch their choice?\n",
    "    if switch:\n",
    "        if verbose:\n",
    "            print('Contestant switches from door {} '.format(choice+1), end='')\n",
    "\n",
    "        # There are two closed doors left.  The contestant will never\n",
    "        # choose the same door, so we'll remove that door as a choice.\n",
    "        available_doors = list(closed_doors) # Make a copy of the list.\n",
    "        available_doors.remove(choice)\n",
    "\n",
    "        # Change choice to the only door available.\n",
    "        choice = available_doors.pop()\n",
    "        if verbose:\n",
    "            print('to {}'.format(choice+1))\n",
    "\n",
    "    # Did the contestant win?\n",
    "    won = (choice == winning_door)\n",
    "    if verbose:\n",
    "        if won:\n",
    "            print('Contestant WON', end='\\n\\n')\n",
    "        else:\n",
    "            print('Contestant LOST', end='\\n\\n')\n",
    "    return won\n",
    "\n",
    "\n",
    "def monty_hall(doors=3, trials=1000, verbose=False):\n",
    "\n",
    "    print('Simulating {} trials...'.format(trials))\n",
    "\n",
    "    # Carry out the trials\n",
    "    winning_non_switchers = 0\n",
    "    winning_switchers = 0\n",
    "    for i in range(trials):\n",
    "        # First, do a trial where the contestant never switches.\n",
    "        won = simulate(doors, switch=False, verbose=verbose)\n",
    "        if won:\n",
    "            winning_non_switchers += 1\n",
    "\n",
    "        # Next, try one where the contestant switches.\n",
    "        won = simulate(doors, switch=True, verbose=verbose)\n",
    "        if won:\n",
    "            winning_switchers += 1\n",
    "\n",
    "    print('    Switching won {0:5} times out of {1} ({2}% of the time)'.format(\n",
    "            winning_switchers, trials,\n",
    "            (winning_switchers / trials * 100 ) ))\n",
    "    print('Not switching won {0:5} times out of {1} ({2}% of the time)'.format(\n",
    "            winning_non_switchers, trials,\n",
    "            (winning_non_switchers / trials * 100 ) ))"
   ]
  },
  {
   "cell_type": "code",
   "execution_count": 22,
   "metadata": {},
   "outputs": [
    {
     "name": "stdout",
     "output_type": "stream",
     "text": [
      "Simulating 1000 trials...\n",
      "    Switching won   669 times out of 1000 (66.9% of the time)\n",
      "Not switching won   344 times out of 1000 (34.4% of the time)\n"
     ]
    }
   ],
   "source": [
    "monty_hall(3, 1000)"
   ]
  },
  {
   "cell_type": "markdown",
   "metadata": {},
   "source": [
    "# (3) Calculando π com Monte Carlo\n",
    "\n",
    "<br>\n",
    "<img src=\"img/pi.png\">\n",
    "<br>\n",
    "\n",
    "Na matemática, o número **π** é uma proporção numérica definida pela relação entre o perímetro de uma circunferência e seu diâmetro; por outras palavras, se uma circunferência tem perímetro **p** e diâmetro **d**, então \n",
    "\n",
    "```python\n",
    "π = p/d\n",
    "```\n",
    "\n",
    "É representado pela letra grega π. A letra grega π (lê-se: pi), foi adotada para o número a partir da palavra grega para perímetro, provavelmente por William Jones em 1706, e popularizada por Leonhard Euler alguns anos mais tarde. Outros nomes para esta constante são constante circular ou número de Ludolph. \n",
    "\n",
    "O valor de **π** pertence aos números irracionais. Para a maioria dos cálculos simples é comum aproximar **π** por 3,14. Uma boa parte das calculadoras científicas de 8 dígitos aproxima **π** por 3,1415926. Para calcular rotas de navegações interplanetárias a NASA utiliza **π ≈ 3,141592653589793** (com 15 casas decimais). Para calcular um círculo com 46 bilhões de anos-luz de raio em volta do universo observável seria suficiente uma aproximação de **π** com apenas 40 casas decimais para garantir precisão de 1 átomo de hidrogênio.\n",
    "\n",
    "Um engenheiro japonês e um estudante americano de Ciência da computação calcularam, usando um computador com doze núcleos físicos, cinco trilhões de dígitos, o equivalente a 6 terabytes de dados.\n",
    "\n",
    "### Método estatístico\n",
    "\n",
    "Um método interessante para o cálculo de **π** pode ser realizado através de Monte Carlo utilizando-se a estatística. Nesse método são sorteados aleatoriamente pontos num quadrado compreendido entre as coordenadas O=(0,0) e B=(1,1). Em seguida calcula-se a distância dos pontos sorteados cn=(xn,yn) até a origem O=(0,0). **π** pode ser aproximado através do número de pontos inscritos na circunferência de raio 1 em relação ao total de pontos sorteados no quadrado de lado 1."
   ]
  },
  {
   "cell_type": "code",
   "execution_count": 74,
   "metadata": {},
   "outputs": [],
   "source": [
    "import matplotlib.pyplot as plt\n",
    "import random\n",
    "\n",
    "inside = 0\n",
    "n = 10000\n",
    "\n",
    "x_inside = []\n",
    "y_inside = []\n",
    "x_outside = []\n",
    "y_outside = []\n",
    "\n",
    "for _ in range(n):\n",
    "    x = random.uniform(-1.0,1.0)\n",
    "    y = random.uniform(-1.0,1.0)\n",
    "    if x**2+y**2 <= 1:\n",
    "        inside += 1\n",
    "        x_inside.append(x)\n",
    "        y_inside.append(y)\n",
    "    else:\n",
    "        x_outside.append(x)\n",
    "        y_outside.append(y)"
   ]
  },
  {
   "cell_type": "code",
<<<<<<< HEAD
   "execution_count": 75,
   "metadata": {},
   "outputs": [
    {
     "name": "stdout",
     "output_type": "stream",
     "text": [
      "3.1216\n"
     ]
    }
   ],
   "source": [
    "pi = 4*inside/n\n",
    "print(pi)"
   ]
  },
  {
   "cell_type": "code",
   "execution_count": 76,
   "metadata": {},
   "outputs": [
    {
     "data": {
      "image/png": "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\n",
      "text/plain": [
       "<Figure size 432x288 with 1 Axes>"
      ]
     },
     "metadata": {},
     "output_type": "display_data"
    }
   ],
   "source": [
    "import warnings\n",
    "warnings.filterwarnings(\"ignore\")\n",
=======
   "execution_count": 3,
   "metadata": {},
   "outputs": [
    {
     "data": {
      "image/png": "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\n",
      "text/plain": [
       "<Figure size 432x432 with 1 Axes>"
      ]
     },
     "metadata": {
      "needs_background": "light"
     },
     "output_type": "display_data"
    }
   ],
   "source": [
    "import numpy as np\n",
    "import matplotlib.pyplot as plt\n",
    "%matplotlib inline\n",
    "\n",
    "n=1e3\n",
    "x = 1-2*np.random.random(int(n))\n",
    "y = 1-2.*np.random.random(int(n))\n",
    "insideX,  insideY  = x[(x*x+y*y)<=1],y[(x*x+y*y)<=1]\n",
    "outsideX, outsideY = x[(x*x+y*y)>1],y[(x*x+y*y)>1]\n",
>>>>>>> master
    "\n",
    "fig, ax = plt.subplots()\n",
    "ax.set_aspect('equal')\n",
    "ax.scatter(x_inside, y_inside, color='b', marker='s')\n",
    "ax.scatter(x_outside, y_outside, color='r', marker='s')\n",
    "fig.show()"
   ]
  }
 ],
 "metadata": {
  "hide_input": false,
  "kernelspec": {
   "display_name": "Python 3",
   "language": "python",
   "name": "python3"
  },
  "language_info": {
   "codemirror_mode": {
    "name": "ipython",
    "version": 3
   },
   "file_extension": ".py",
   "mimetype": "text/x-python",
   "name": "python",
   "nbconvert_exporter": "python",
   "pygments_lexer": "ipython3",
<<<<<<< HEAD
   "version": "3.6.8"
=======
   "version": "3.7.1"
  },
  "toc": {
   "base_numbering": 1,
   "nav_menu": {},
   "number_sections": true,
   "sideBar": true,
   "skip_h1_title": false,
   "title_cell": "Table of Contents",
   "title_sidebar": "Contents",
   "toc_cell": false,
   "toc_position": {},
   "toc_section_display": true,
   "toc_window_display": false
>>>>>>> master
  }
 },
 "nbformat": 4,
 "nbformat_minor": 2
}
