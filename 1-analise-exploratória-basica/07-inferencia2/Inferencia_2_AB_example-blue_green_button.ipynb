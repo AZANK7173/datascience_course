{
 "cells": [
  {
   "cell_type": "markdown",
   "metadata": {},
   "source": [
    "# Teste A/B Bayesiano\n",
    "\n",
    "Para artigo original [clique aqui](http://www.marcosantoni.com/2016/05/15/bayesian-ab-testing-in-python.html)\n",
    "\n",
    "Imagine você reprojetando seu site de comércio eletrônico. Você tem que decidir se o botão \"Comprar Item\" deve ser azul ou verde. Você decide configurar um teste A / B para criar duas versões da página do item:\n",
    "\n",
    "- Página A que tem um botão azul;\n",
    "- Página B que tem um botão verde.\n",
    "\n",
    "As páginas A e B são idênticas, exceto pela cor do botão. Você deseja quantificar a probabilidade de um usuário clicar no botão \"Comprar Item\" quando ela estiver na página A ou na página B. Assim, a experiência iniciará enviando cada usuário para a página A ou para a página B. Cada vez, você irá monitorar se ela clicou em \"Comprar Item\" ou não.\n",
    "\n",
    "### Frequentista vs Bayesiano\n",
    "\n",
    "Pode-se simplesmente aproximar a eficácia de cada página, calculando a taxa de sucesso nas duas páginas. Por exemplo. se N = 1000 usuários visitaram a página A e 50 deles clicaram no botão, pode-se dizer que a probabilidade de clicar no botão na página A é 50/1000 = 5%. Esta é a chamada abordagem freqüentista, que prevê a probabilidade em termos de freqüência de eventos. No entanto, os seguintes problemas podem surgir diariamente:\n",
    "\n",
    "- E se N for pequeno (por exemplo, N = 50)? Podemos ainda estar confiantes apenas calculando a taxa de sucesso?\n",
    "- E se N for diferente entre a página A e a página B? Digamos que 500 usuários visitaram a página A e 2000 usuários visitaram a página B. Como podemos combinar esses experimentos desequilibrados?\n",
    "- Quão grande deve ser para atingir 90% de confiança em minhas estimativas?\n",
    "\n",
    "Vamos agora introduzir uma solução Bayesiana simples que permite executar o teste A / B e lidar com os problemas listados acima. O código faz uso do pacote PyMC e foi inspirado pela leitura de \"Métodos bayesianos para hackers\", de Cameron Davidson-Pilon.\n",
    "\n",
    "### Avaliar a página A\n",
    "\n",
    "Primeiramente mostraremos como avaliar a taxa de sucesso na página A com uma abordagem bayesiana. O objetivo é inferir a probabilidade de clicar no botão \"Comprar Item\" na página A. Modelamos essa probabilidade como uma distribuição de Bernoulli com o parâmetro pA:\n",
    "\n",
    "$$ P (clique em | página = A) = p_A (click = 1) $$\n",
    "$$ P (clique em | página = A) =  1-p_A (clique = 0) $$\n",
    "\n",
    "Então, pA\n",
    "é o parâmetro que indica a probabilidade de clicar no botão na página A. Esse parâmetro é desconhecido e o objetivo do experimento é inferi-lo."
   ]
  },
  {
   "cell_type": "code",
   "execution_count": 9,
   "metadata": {},
   "outputs": [
    {
     "name": "stdout",
     "output_type": "stream",
     "text": [
      "Click-BUY:\n",
      "69\n",
      "Observed frequency:\n",
      "0.046\n"
     ]
    }
   ],
   "source": [
    "from pymc import Uniform, rbernoulli, Bernoulli, MCMC\n",
    "from matplotlib import pyplot as plt\n",
    "import numpy as np\n",
    "\n",
    "import warnings\n",
    "warnings.filterwarnings(\"ignore\")\n",
    "\n",
    "# true value of p_A (unknown)\n",
    "p_A_true = 0.05\n",
    "# number of users visiting page A\n",
    "N = 1500\n",
    "occurrences = rbernoulli(p_A_true, N)\n",
    "\n",
    "print ('Click-BUY:')\n",
    "print (occurrences.sum())\n",
    "print ('Observed frequency:')\n",
    "print (occurrences.sum() / float(N))"
   ]
  },
  {
   "cell_type": "markdown",
   "metadata": {},
   "source": [
    "Neste código, estamos simulando uma realização do experimento em que 1.500 usuários visitaram a página A. Aqui, as ocorrências indicam quantos visitantes realmente clicaram no botão nessa realização.\n",
    "\n",
    "O próximo passo consiste em definir o nosso *prior* no parâmetro $p_A$. A definição prévia é o primeiro passo da inferência bayesiana e é uma maneira de indicar nossa crença anterior na variável."
   ]
  },
  {
   "cell_type": "code",
   "execution_count": 10,
   "metadata": {},
   "outputs": [],
   "source": [
    "p_A = Uniform('p_A', lower=0, upper=1)\n",
    "obs = Bernoulli('obs', p_A, value=occurrences, observed=True)"
   ]
  },
  {
   "cell_type": "markdown",
   "metadata": {},
   "source": [
    "Nesta seção, definimos o prior de $p_A$ como uma distribuição uniforme. A variável obs indica a distribuição de Bernoulli representando as observações dos eventos de clique (na verdade, regidos pelo parâmetro $p_A$). As duas variáveis são atribuídas a *Uniform* e *Bernoulli*, que são objetos de variáveis estocásticas, parte do PyMC. Cada variável é associada a um nome de string ($p_A$ e *obs* neste caso). A variável *obs* tem o valor e o conjunto de parâmetros observados porque observamos as realizações dos experimentos. Vamso utilizar o MCMD (Monte Carlo Markov Chain Model).\n",
    "\n",
    "Na estatística, os métodos de Monte Carlo da cadeia de Markov (MCMC) compreendem uma classe de algoritmos para amostragem a partir de uma distribuição de probabilidade. Construindo uma cadeia de Markov que tem a distribuição desejada como sua distribuição de equilíbrio, pode-se obter uma amostra da distribuição desejada observando a cadeia após um certo número de etapas. Quanto mais etapas houver, mais de perto a distribuição da amostra corresponderá à distribuição real desejada.\n",
    "\n",
    "Uma cadeia de Markov é um modelo estocástico que descreve uma sequência de possíveis eventos nos quais a probabilidade de cada evento depende apenas do estado alcançado no evento anterior.\n",
    "\n",
    "Os métodos de Monte Carlo (ou experimentos de Monte Carlo) são uma ampla classe de algoritmos computacionais que se baseiam em amostragens aleatórias repetidas para obter resultados numéricos. Sua ideia essencial é usar aleatoriedade para resolver problemas que podem ser determinísticos em princípio. Eles são freqüentemente usados em problemas físicos e matemáticos e são mais úteis quando é difícil ou impossível usar outras abordagens. Os métodos de Monte Carlo são usados principalmente em três classes de problemas: otimização, integração numérica e geração de gráficos a partir de uma distribuição de probabilidade."
   ]
  },
  {
   "cell_type": "code",
   "execution_count": 11,
   "metadata": {},
   "outputs": [
    {
     "name": "stdout",
     "output_type": "stream",
     "text": [
      " [-----------------100%-----------------] 20000 of 20000 complete in 1.5 sec[ 0.0413853   0.0413853   0.0413853  ...,  0.04513473  0.04513473\n",
      "  0.04513473]\n"
     ]
    }
   ],
   "source": [
    "# defining a Monte Carlo Markov Chain model\n",
    "mcmc = MCMC([p_A, obs])\n",
    "# setting the size of the simulations to 20k \n",
    "mcmc.sample(20000, 1000)\n",
    "# the resulting posterior distribution is stored in the trace variable\n",
    "print (mcmc.trace('p_A')[:])"
   ]
  },
  {
   "cell_type": "markdown",
   "metadata": {},
   "source": [
    "O modelo **MCMC** é inicializado e as variáveis $p_A$ e obs são dadas a ele como entrada. O modelo de amostra executará as simulações de Monte Carlo e ajustará os dados observados à crença anterior. A distribuição posterior é acessível através do atributo .trace como uma matriz de realizações. Podemos agora visualizar o resultado da inferência."
   ]
  },
  {
   "cell_type": "code",
   "execution_count": 12,
   "metadata": {},
   "outputs": [
    {
     "data": {
      "image/png": "[encoded data removed]",
      "text/plain": [
       "<Figure size 576x504 with 1 Axes>"
      ]
     },
     "metadata": {},
     "output_type": "display_data"
    }
   ],
   "source": [
    "plt.figure(figsize=(8, 7))\n",
    "plt.hist(mcmc.trace('p_A')[:], bins=35, histtype='stepfilled',\n",
    "normed=True)\n",
    "plt.xlabel('Probability of clicking BUY')\n",
    "plt.ylabel('Density')\n",
    "plt.vlines(p_A_true, 0, 90, linestyle='--', label='True p_A')\n",
    "plt.legend()\n",
    "plt.show()"
   ]
  },
  {
   "cell_type": "markdown",
   "metadata": {},
   "source": [
    "Então, poderíamos querer responder à pergunta: onde tenho 90% de certeza de que o verdadeiro $p_A$ está? Isso é fácil de responder."
   ]
  },
  {
   "cell_type": "code",
   "execution_count": 13,
   "metadata": {},
   "outputs": [
    {
     "name": "stdout",
     "output_type": "stream",
     "text": [
      "There is 90% probability that p_A is between 0.033650815465 and 0.0348373954394\n"
     ]
    }
   ],
   "source": [
    "p_A_samples = mcmc.trace('p_A')[:]\n",
    "lower_bound = np.percentile(p_A_samples, 0.5)\n",
    "upper_bound = np.percentile(p_A_samples, 0.95)\n",
    "print ('There is 90%% probability that p_A is between %s and %s' % (lower_bound, upper_bound))"
   ]
  },
  {
   "cell_type": "markdown",
   "metadata": {},
   "source": [
    "### Comparando a página A e a página B\n",
    "\n",
    "Vamos agora repetir o que fizemos para a página A, e adicionamos uma nova variável delta indicando a diferença entre $p_A$ e $p_B$."
   ]
  },
  {
   "cell_type": "code",
   "execution_count": 14,
   "metadata": {},
   "outputs": [
    {
     "name": "stdout",
     "output_type": "stream",
     "text": [
      "Observed frequency:\n",
      "A\n",
      "0.0453333333333\n",
      "B\n",
      "0.0386666666667\n",
      " [-----------------100%-----------------] 25000 of 25000 complete in 3.2 sec"
     ]
    },
    {
     "data": {
      "image/png": "[encoded data removed]",
      "text/plain": [
       "<Figure size 432x288 with 3 Axes>"
      ]
     },
     "metadata": {},
     "output_type": "display_data"
    }
   ],
   "source": [
    "from pymc import Uniform, rbernoulli, Bernoulli, MCMC, deterministic\n",
    "from matplotlib import pyplot as plt\n",
    "\n",
    "p_A_true = 0.05\n",
    "p_B_true = 0.04\n",
    "N_A = 1500\n",
    "N_B = 750\n",
    "\n",
    "occurrences_A = rbernoulli(p_A_true, N_A)\n",
    "occurrences_B = rbernoulli(p_B_true, N_B)\n",
    "\n",
    "print ('Observed frequency:')\n",
    "print ('A')\n",
    "print (occurrences_A.sum() / float(N_A))\n",
    "print ('B')\n",
    "print (occurrences_B.sum() / float(N_B))\n",
    "\n",
    "p_A = Uniform('p_A', lower=0, upper=1)\n",
    "p_B = Uniform('p_B', lower=0, upper=1)\n",
    "\n",
    "@deterministic\n",
    "def delta(p_A=p_A, p_B=p_B):\n",
    "    return p_A - p_B\n",
    "\n",
    "obs_A = Bernoulli('obs_A', p_A, value=occurrences_A, observed=True)\n",
    "obs_B = Bernoulli('obs_B', p_B, value=occurrences_B, observed=True)\n",
    "\n",
    "mcmc = MCMC([p_A, p_B, obs_A, obs_B, delta])\n",
    "mcmc.sample(25000, 5000)\n",
    "\n",
    "p_A_samples = mcmc.trace('p_A')[:]\n",
    "p_B_samples = mcmc.trace('p_B')[:]\n",
    "delta_samples = mcmc.trace('delta')[:]\n",
    "\n",
    "plt.subplot(3,1,1)\n",
    "plt.xlim(0, 0.1)\n",
    "plt.hist(p_A_samples, bins=35, histtype='stepfilled', normed=True,\n",
    "color='blue', label='Posterior of p_A')\n",
    "plt.vlines(p_A_true, 0, 90, linestyle='--', label='True p_A (unknown)')\n",
    "plt.xlabel('Probability of clicking BUY via A')\n",
    "plt.legend()\n",
    "plt.subplot(3,1,2)\n",
    "plt.xlim(0, 0.1)\n",
    "plt.hist(p_B_samples, bins=35, histtype='stepfilled', normed=True,color='green', label='Posterior of p_B')\n",
    "plt.vlines(p_B_true, 0, 90, linestyle='--', label='True p_B(unknown)')\n",
    "plt.xlabel('Probability of clicking BUY via B')\n",
    "plt.legend()\n",
    "plt.subplot(3,1,3)\n",
    "plt.xlim(0, 0.1)\n",
    "plt.hist(delta_samples, bins=35, histtype='stepfilled', normed=True,color='red', label='Posterior of delta')\n",
    "plt.vlines(p_A_true - p_B_true, 0, 90, linestyle='--', label='True delta (unknown)')\n",
    "plt.xlabel('p_A - p_B')\n",
    "plt.legend()\n",
    "plt.show()"
   ]
  },
  {
   "cell_type": "markdown",
   "metadata": {},
   "source": [
    "Então, podemos responder a uma pergunta como: qual é a probabilidade de que $p_A$ > $p_B$?"
   ]
  },
  {
   "cell_type": "code",
   "execution_count": 15,
   "metadata": {},
   "outputs": [
    {
     "name": "stdout",
     "output_type": "stream",
     "text": [
      "Probability that p_A > p_B:\n",
      "0.7485\n"
     ]
    }
   ],
   "source": [
    "print ('Probability that p_A > p_B:')\n",
    "print ((delta_samples > 0).mean())"
   ]
  },
  {
   "cell_type": "code",
   "execution_count": null,
   "metadata": {},
   "outputs": [],
   "source": []
  },
  {
   "cell_type": "code",
   "execution_count": null,
   "metadata": {},
   "outputs": [],
   "source": []
  }
 ],
 "metadata": {
  "kernelspec": {
   "display_name": "Python 3",
   "language": "python",
   "name": "python3"
  },
  "language_info": {
   "codemirror_mode": {
    "name": "ipython",
    "version": 3
   },
   "file_extension": ".py",
   "mimetype": "text/x-python",
   "name": "python",
   "nbconvert_exporter": "python",
   "pygments_lexer": "ipython3",
   "version": "3.6.8"
  }
 },
 "nbformat": 4,
 "nbformat_minor": 2
}
