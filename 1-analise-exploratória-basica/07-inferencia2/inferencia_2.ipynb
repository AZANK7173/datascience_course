{
 "cells": [
  {
   "cell_type": "markdown",
   "metadata": {},
   "source": [
    "# Inferência 2"
   ]
  },
  {
   "cell_type": "code",
   "execution_count": 2,
   "metadata": {},
   "outputs": [
    {
     "data": {
      "image/jpeg": "[encoded data removed]",
      "text/html": [
       "\n",
       "        <iframe\n",
       "            width=\"400\"\n",
       "            height=\"300\"\n",
       "            src=\"https://www.youtube.com/embed/hO8NMIU20Ck\"\n",
       "            frameborder=\"0\"\n",
       "            allowfullscreen\n",
       "        ></iframe>\n",
       "        "
      ],
      "text/plain": [
       "<IPython.lib.display.YouTubeVideo at 0x115107898>"
      ]
     },
     "execution_count": 2,
     "metadata": {},
     "output_type": "execute_result"
    }
   ],
   "source": [
    "# ** Paradoxo de Simpson e regressão linear multipla **\n",
    "from IPython.lib.display import YouTubeVideo\n",
    "YouTubeVideo('hO8NMIU20Ck')"
   ]
  },
  {
   "cell_type": "markdown",
   "metadata": {},
   "source": [
    "# Paradoxo de Simpson\n",
    "\n",
    "<br>\n",
    "<img src=\"simpson_paradox.png\" width=\"450\" />\n",
    "<br>\n",
    "\n",
    "O paradoxo de Simpson (ou reversão de Simpson, efeito Yule-Simpson, paradoxo de amalgamação ou paradoxo de reversão) é um fenômeno em probabilidade e estatística, no qual uma tendência aparece em vários grupos diferentes de dados, mas desaparece ou reverte quando esses grupos são combinado.\n",
    "\n",
    "Este resultado é freqüentemente encontrado em estatísticas de ciências sociais e ciências médicas e é particularmente problemático quando dados de frequência são indevidamente dadas interpretações causais. Os elementos paradoxais desaparecem quando as relações causais são levadas em consideração. Ele tem sido usado para tentar informar o público não especialista ou público sobre o tipo de resultados enganosos que estatísticas erradas podem gerar. Martin Gardner escreveu um relato popular do paradoxo de Simpson em sua coluna de Jogos Matemáticos de março de 1976 na Scientific American.\n",
    "\n",
    "Edward H. Simpson descreveu esse fenômeno pela primeira vez em um artigo técnico em 1951, mas os estatísticos Karl Pearson et al., Em 1899, e Udny Yule, em 1903, mencionaram efeitos semelhantes anteriormente. O nome paradoxo de Simpson foi introduzido por Colin R. Blyth em 1972.\n",
    "\n",
    "## Exemplo: Tratamento de pedra nos rins\n",
    "\n",
    "Este é um exemplo da vida real de um estudo médico comparando as taxas de sucesso de dois tratamentos para cálculos renais.\n",
    "\n",
    "A tabela abaixo mostra as taxas de sucesso e o número de tratamentos para tratamentos envolvendo cálculos renais pequenos e grandes, onde o Tratamento A inclui todos os procedimentos cirúrgicos abertos e o Tratamento B é a nefrolitotomia percutânea (que envolve apenas uma pequena punção). Os números entre parênteses indicam o número de casos de sucesso sobre o tamanho total do grupo.\n",
    "\n",
    "<br>\n",
    "<img src=\"simpson_kidney.png\" width=\"450\" />\n",
    "<br>\n",
    "\n",
    "A conclusão paradoxal é que o tratamento A é mais eficaz quando usado em pedras pequenas, e também quando usado em pedras grandes, mas o tratamento B é mais eficaz quando se considera os dois tamanhos ao mesmo tempo. Neste exemplo, a variável \"à espreita\" (ou variável de confusão) é a gravidade do caso (representada pela tendência da decisão de tratamento dos médicos de favorecer B para casos menos graves), que não era previamente conhecida como importante até que seus efeitos fossem incluído.\n",
    "\n",
    "Qual tratamento é considerado melhor é determinado por uma desigualdade entre duas razões (sucessos / total). A inversão da desigualdade entre as razões, que cria o paradoxo de Simpson, acontece porque dois efeitos ocorrem juntos:\n",
    "\n",
    "Os tamanhos dos grupos, que são combinados quando a variável oculta é ignorada, são muito diferentes. Os médicos tendem a dar aos casos graves (pedras grandes) o melhor tratamento (A), e os casos mais leves (pedras pequenas) ao tratamento inferior (B). Portanto, os totais são dominados pelos grupos 3 e 2, e não pelos dois grupos muito menores 1 e 4.\n",
    "\n",
    "A variável oculta tem um grande efeito nas proporções; i.e., a taxa de sucesso é mais fortemente influenciada pela gravidade do caso do que pela escolha do tratamento. Portanto, o grupo de pacientes com cálculos grandes utilizando o tratamento A (grupo 3) piorou que o grupo com cálculos pequenos (grupos 1 e 2), mesmo se este último utilizou o tratamento inferior B (grupo 2).\n",
    "\n",
    "Com base nesses efeitos, o resultado paradoxal é visto pela supressão do efeito causal da gravidade do caso no tratamento bem-sucedido. O resultado paradoxal pode ser reformulado mais precisamente da seguinte forma: quando o tratamento menos eficaz (B) é aplicado com maior frequência a casos menos graves, pode parecer um tratamento mais eficaz.\n",
    "\n",
    "Vamos trabalhar com os dados para verificar a ocorrência do Paradoxo da Simpson"
   ]
  },
  {
   "cell_type": "code",
   "execution_count": 1,
   "metadata": {},
   "outputs": [],
   "source": [
    "import matplotlib.pyplot as plt\n",
    "import numpy as np\n",
    "import pandas as pd\n",
    "\n",
    "import warnings\n",
    "warnings.filterwarnings(\"ignore\")\n"
   ]
  },
  {
   "cell_type": "code",
   "execution_count": 162,
   "metadata": {},
   "outputs": [
    {
     "data": {
      "text/html": [
       "<div>\n",
       "<style scoped>\n",
       "    .dataframe tbody tr th:only-of-type {\n",
       "        vertical-align: middle;\n",
       "    }\n",
       "\n",
       "    .dataframe tbody tr th {\n",
       "        vertical-align: top;\n",
       "    }\n",
       "\n",
       "    .dataframe thead th {\n",
       "        text-align: right;\n",
       "    }\n",
       "</style>\n",
       "<table border=\"1\" class=\"dataframe\">\n",
       "  <thead>\n",
       "    <tr style=\"text-align: right;\">\n",
       "      <th></th>\n",
       "      <th>kidney_stone_size</th>\n",
       "      <th>treatment</th>\n",
       "      <th>recovery</th>\n",
       "      <th>total</th>\n",
       "    </tr>\n",
       "  </thead>\n",
       "  <tbody>\n",
       "    <tr>\n",
       "      <th>0</th>\n",
       "      <td>A</td>\n",
       "      <td>small</td>\n",
       "      <td>81</td>\n",
       "      <td>87</td>\n",
       "    </tr>\n",
       "    <tr>\n",
       "      <th>1</th>\n",
       "      <td>A</td>\n",
       "      <td>large</td>\n",
       "      <td>192</td>\n",
       "      <td>263</td>\n",
       "    </tr>\n",
       "    <tr>\n",
       "      <th>2</th>\n",
       "      <td>B</td>\n",
       "      <td>small</td>\n",
       "      <td>234</td>\n",
       "      <td>270</td>\n",
       "    </tr>\n",
       "    <tr>\n",
       "      <th>3</th>\n",
       "      <td>B</td>\n",
       "      <td>large</td>\n",
       "      <td>55</td>\n",
       "      <td>80</td>\n",
       "    </tr>\n",
       "  </tbody>\n",
       "</table>\n",
       "</div>"
      ],
      "text/plain": [
       "  kidney_stone_size treatment  recovery  total\n",
       "0                 A     small        81     87\n",
       "1                 A     large       192    263\n",
       "2                 B     small       234    270\n",
       "3                 B     large        55     80"
      ]
     },
     "execution_count": 162,
     "metadata": {},
     "output_type": "execute_result"
    }
   ],
   "source": [
    "df = pd.DataFrame([['A','small', 81, 87],\n",
    "                   ['A','large', 192, 263],\n",
    "                   ['B','small', 234, 270],\n",
    "                   ['B','large', 55, 80],], columns=['kidney_stone_size', 'treatment', 'recovery', 'total'])   \n",
    "df\n",
    "#simpsons_paradox( df, 'recovery', 'total', 'treatment', 'kidney_stone_size' )"
   ]
  },
  {
   "cell_type": "markdown",
   "metadata": {},
   "source": [
    "## Total por tipo de tratamento\n",
    "\n",
    "Analisando os valores totais, podemos concluir que o tratamento B é mais bem sucedido que o tratamento A."
   ]
  },
  {
   "cell_type": "code",
   "execution_count": 163,
   "metadata": {},
   "outputs": [
    {
     "data": {
      "image/png": "[encoded data removed]",
      "text/plain": [
       "<Figure size 288x288 with 1 Axes>"
      ]
     },
     "metadata": {},
     "output_type": "display_data"
    }
   ],
   "source": [
    "df_stone_size = df.groupby('kidney_stone_size').sum()\n",
    "df_stone_size['rate'] = df_stone_size.recovery/df_stone_size.total\n",
    "\n",
    "list = df_stone_size['rate'].tolist()\n",
    "rounded_list = [round(elem, 2) for elem in list]\n",
    "\n",
    "plt.figure(figsize=(4,4))\n",
    "ax = df_stone_size['rate'].plot(kind='bar')\n",
    "ax.set_title('Total')\n",
    "ax.set_xlabel('Tratment Type')\n",
    "ax.set_ylabel('Sucess Rate')\n",
    "\n",
    "rects = ax.patches\n",
    "\n",
    "# Make some labels.\n",
    "labels = [rounded_list[i] for i in range(len(rounded_list))]\n",
    "for rect, label in zip(rects, labels):\n",
    "    height = rect.get_height()\n",
    "    ax.text(rect.get_x() + rect.get_width()/2, height, label,\n",
    "            ha='center', va='bottom')"
   ]
  },
  {
   "cell_type": "markdown",
   "metadata": {},
   "source": [
    "## Parciais por tipo de tamanho da pedra (Large & Small)\n",
    "\n",
    "Por outro lado, analisando as parciais para os tipos de tamanho de pedra, constatamos que o tratamento A é mais bem sucedido que o tratamento B."
   ]
  },
  {
   "cell_type": "code",
   "execution_count": 204,
   "metadata": {},
   "outputs": [
    {
     "data": {
      "image/png": "[encoded data removed]",
      "text/plain": [
       "<Figure size 288x288 with 1 Axes>"
      ]
     },
     "metadata": {},
     "output_type": "display_data"
    },
    {
     "data": {
      "image/png": "[encoded data removed]",
      "text/plain": [
       "<Figure size 288x288 with 1 Axes>"
      ]
     },
     "metadata": {},
     "output_type": "display_data"
    }
   ],
   "source": [
    "df_large = df[df.treatment == 'large']\n",
    "df_large = df_large.set_index('kidney_stone_size')\n",
    "df_large['rate'] = df_large.recovery/df_large.total\n",
    "\n",
    "list = df_large['rate'].tolist()\n",
    "rounded_list = [round(elem, 2) for elem in list]\n",
    "\n",
    "plt.figure(figsize=(4,4))\n",
    "ax = df_large['rate'].plot(kind='bar')\n",
    "ax.set_title('Large')\n",
    "ax.set_xlabel('Large')\n",
    "ax.set_ylabel('Sucess Rate')\n",
    "\n",
    "rects = ax.patches\n",
    "\n",
    "# Make some labels.\n",
    "labels = [rounded_list[i] for i in range(len(rounded_list))]\n",
    "for rect, label in zip(rects, labels):\n",
    "    height = rect.get_height()\n",
    "    ax.text(rect.get_x() + rect.get_width()/2, height, label,\n",
    "            ha='center', va='bottom')\n",
    "    \n",
    "df_small = df[df.treatment == 'small']\n",
    "df_small = df_small.set_index('kidney_stone_size')\n",
    "df_small['rate'] = df_small.recovery/df_small.total\n",
    "\n",
    "list = df_small['rate'].tolist()\n",
    "rounded_list = [round(elem, 2) for elem in list]\n",
    "\n",
    "plt.figure(figsize=(4,4))\n",
    "ax = df_small['rate'].plot(kind='bar')\n",
    "ax.set_title('Small')\n",
    "ax.set_xlabel('Small')\n",
    "ax.set_ylabel('Sucess Rate')\n",
    "\n",
    "rects = ax.patches\n",
    "\n",
    "# Make some labels.\n",
    "labels = [rounded_list[i] for i in range(len(rounded_list))]\n",
    "for rect, label in zip(rects, labels):\n",
    "    height = rect.get_height()\n",
    "    ax.text(rect.get_x() + rect.get_width()/2, height, label,\n",
    "            ha='center', va='bottom')"
   ]
  },
  {
   "cell_type": "markdown",
   "metadata": {},
   "source": [
    "## Modelo para detecção do Paradoxo de Simpson, para o tratamento de pedras nos rins"
   ]
  },
  {
   "cell_type": "code",
   "execution_count": 205,
   "metadata": {},
   "outputs": [
    {
     "name": "stdout",
     "output_type": "stream",
     "text": [
      "## Global rates: \n",
      "treatment\n",
      "A    0.780000\n",
      "B    0.825714\n",
      "dtype: float64\n",
      "## Local rates:\n",
      "treatment                 A         B\n",
      "kidney_stone_size                    \n",
      "large              0.730038  0.687500\n",
      "small              0.931034  0.866667\n",
      "## Global optimal:  B\n",
      "## Local optimal:  A\n",
      "## Simpsons Paradox detected.\n"
     ]
    },
    {
     "data": {
      "text/plain": [
       "True"
      ]
     },
     "execution_count": 205,
     "metadata": {},
     "output_type": "execute_result"
    }
   ],
   "source": [
    "# detect simpson's paradox\n",
    "import numpy as np\n",
    "import pandas as pd\n",
    "\n",
    "\n",
    "def aggregate_data(df, conversion_col, treatment_col, segment_col):\n",
    "    \"\"\"\n",
    "    takes table of individual level data and aggregates it for simpsons paradox detection.\n",
    "    conversion_col is 1 if success, 0 else. \n",
    "    ex:\n",
    "    pd.DataFrame([\n",
    "        ['small', 'A', 1],\n",
    "        ['small', 'B', 0],\n",
    "        ['large', 'A', 1],\n",
    "        ['small', 'A', 1],\n",
    "        ['large', 'B', 0],\n",
    "        ['large', 'B', 0],\n",
    "    ], columns=['kidney_stone_size', 'treatment', 'recovery'])   \n",
    "    \"\"\"\n",
    "    df_ = df[[conversion_col, treatment_col, segment_col]]\n",
    "    gb = df_.groupby([segment_col, treatment_col]).agg(\n",
    "        [np.sum, lambda x: len(x)])\n",
    "    gb.columns = [conversion_col, \"total\"]\n",
    "\n",
    "    return gb.reset_index()\n",
    "\n",
    "\n",
    "def simpsons_paradox(df, conversion_col, total_col, treatment_col, segment_col):\n",
    "    \"\"\"\n",
    "    given a dataframe like:\n",
    "        pd.DataFrame([\n",
    "            ['small', 'A', 81, 87],\n",
    "            ['small', 'B', 234, 270],\n",
    "            ['large', 'A', 192, 263],\n",
    "            ['large', 'B', 55, 80],\n",
    "        ], columns=['kidney_stone_size', 'treatment', 'recovery', 'total'])   \n",
    "    will determine if simpsons paradox exists. Non Bayesian!\n",
    "    > simpsons_paradox( df, 'recovery', 'total', 'treatment', 'kidney_stone_size' )    \n",
    "    \"\"\"\n",
    "\n",
    "    # find global optimal:\n",
    "    gbs = df.groupby(treatment_col).sum()\n",
    "    print (\"## Global rates: \")\n",
    "    print (gbs[conversion_col] / gbs[total_col])\n",
    "    print\n",
    "    global_optimal = (gbs[conversion_col] / gbs[total_col]).argmax()\n",
    "\n",
    "    # check optimal via segments\n",
    "    df_ = df.set_index([segment_col, treatment_col])\n",
    "    rates = (df_[conversion_col] / df_[total_col]).unstack(-1)\n",
    "    print (\"## Local rates:\")\n",
    "    print (rates)\n",
    "    print\n",
    "    # find the local optimals\n",
    "    local_optimals = rates.apply(lambda x: x.argmax(), 1)\n",
    "\n",
    "    if local_optimals.unique().shape[0] > 1:\n",
    "        print (\"## Simpsons paradox not detected.\")\n",
    "        print (\"## Segmented rates do not have a consistent optimal choice\")\n",
    "        print (\"## Local optimals:\")\n",
    "        print (local_optimals)\n",
    "        print (\"## Global optimal: \", global_optimal)\n",
    "        return False\n",
    "\n",
    "    local_optimal = local_optimals.unique()[0]\n",
    "\n",
    "    print (\"## Global optimal: \", global_optimal)\n",
    "    print (\"## Local optimal: \", local_optimal)\n",
    "    if local_optimal != global_optimal:\n",
    "        print (\"## Simpsons Paradox detected.\")\n",
    "        return True\n",
    "\n",
    "    else:\n",
    "        print (\"## Simpsons paradox not detected.\")\n",
    "        return False\n",
    "\n",
    "\n",
    "if __name__ == \"__main__\":\n",
    "    # create some data, indentical to the data at\n",
    "    # http://en.wikipedia.org/wiki/Simpsons_paradox\n",
    "    d = []\n",
    "    d += ([('A', 'small', 1)] * 81)\n",
    "    d += ([('A', 'small', 0)] * (87 - 81))\n",
    "    d += ([('B', 'small', 0)] * (270 - 234))\n",
    "    d += ([('B', 'small', 1)] * (234))\n",
    "    d += ([('B', 'large', 1)] * (55))\n",
    "    d += ([('B', 'large', 0)] * (80 - 55))\n",
    "    d += ([('A', 'large', 0)] * (263 - 192))\n",
    "    d += ([('A', 'large', 1)] * (192))\n",
    "\n",
    "    df = pd.DataFrame(\n",
    "        d, columns=['treatment', 'kidney_stone_size', 'recovery'])\n",
    "    gb = aggregate_data(df, 'recovery', 'treatment', 'kidney_stone_size')\n",
    "simpsons_paradox(gb, 'recovery', 'total', 'treatment', 'kidney_stone_size')"
   ]
  },
  {
   "cell_type": "markdown",
   "metadata": {},
   "source": [
    "# Teste Bayesiano A / B com Python\n",
    "\n",
    "O teste A/B já é muito conhecido entre as pessoas que trabalham com dados e utilizam ferramentas no processo de tomada de decisão. \n",
    "\n",
    "Vamos realizar um experimento aleatório para conversão de usuários de uma *landing page*, onde temos que decidir entre uma llama (**alpaca**) ou um urso (**bear**) para obter o melhor resultado na conversão de usuários.\n",
    "\n",
    "Para o artigo original [clique aqui](https://medium.com/hockey-stick/tl-dr-bayesian-a-b-testing-with-python-c495d375db4d).\n",
    "\n",
    "<br>\n",
    "<img src=\"bear.png\" width=\"450\" />\n",
    "<br>"
   ]
  },
  {
   "cell_type": "markdown",
   "metadata": {},
   "source": [
    "## A distribuição BETA\n",
    "\n",
    "A idéia geral por trás do teste de taxa de conversão bayesiana é gerar duas distribuições que cobrem todas as taxas possíveis e atualizá-las com informações sobre o desempenho do teste e ajustar nossa expectativa da taxa mais representativa de acordo.\n",
    "\n",
    "Podemos representar isso aqui com uma distribuição Beta que possui dois parâmetros: α, que representa as conversões bem-sucedidas e β, que representa as pessoas que saíram sem converter.\n",
    "\n",
    "Os gráficos a seguir representam duas distribuições sendo a primeira com 16 conversões de um total de 100 cliques, e a segunda com 8 conversões de um total de 50 cliques, sendo que esta última será adotada como dados verdadeiros para o problema, além da simulação."
   ]
  },
  {
   "cell_type": "code",
   "execution_count": 486,
   "metadata": {},
   "outputs": [
    {
     "data": {
      "image/png": "[encoded data removed]",
      "text/plain": [
       "<Figure size 432x288 with 1 Axes>"
      ]
     },
     "metadata": {},
     "output_type": "display_data"
    }
   ],
   "source": [
    "# For our graph\n",
    "fig, ax = plt.subplots(1, 1)\n",
    "\n",
    "# Generate and plot the distributions!\n",
    "c_distribution = beta(16, 100-16)\n",
    "e_distribution = beta(8, 50-8)\n",
    "\n",
    "ax.plot(x, c_distribution.pdf(x),label='distribuição Beta 16/100')\n",
    "ax.plot(x, e_distribution.pdf(x),label='distribuição Beta 8/50')\n",
    "\n",
    "ax.set(xlabel='conversion rate', ylabel='density')\n",
    "\n",
    "ax.legend(loc='best', frameon=False)\n",
    "plt.show()"
   ]
  },
  {
   "cell_type": "markdown",
   "metadata": {},
   "source": [
    "# Início do experimento A / B\n",
    "\n",
    "A hipótese nula portanto será de que os ursos performam melhor que as alpacas, e com isso precisamos verificar se esta melhora é estatísticamente relevante para um grau de significância de 95% (p-value <0.5).\n",
    "\n",
    "Vamos assumir para a nossa simulação que a taxa de conversão do grupo de controle (alpacas) é de 16%, e que o grupo do experimento (ursos) performam 10% melhor.\n",
    "\n",
    "Esta modelagem será feita inicialmente gerando um pequeno número de resultados aleatórios entre 0 e 1 (tamanho da amostra de 50), depois depois .\n",
    "\n",
    "O corte representa nossa taxa de conversão real e os *outputs* são os resultados das taxas de sucesso de controle (alpacas) e experimento (urso). Além disso, vamos adicionar dados reais de que anteriormente foram obtidos 8 sucessos em conversão e 42 fracassos, de um total de 50 cliques."
   ]
  },
  {
   "cell_type": "code",
   "execution_count": 487,
   "metadata": {},
   "outputs": [
    {
     "name": "stdout",
     "output_type": "stream",
     "text": [
      "taxa de sucesso do controle = 0.2 taxa de sucesso do experimento = 0.16\n"
     ]
    }
   ],
   "source": [
    "from scipy.stats import beta\n",
    "import matplotlib.pyplot as plt\n",
    "import numpy as np\n",
    "import pandas as pd\n",
    "import seaborn as sns\n",
    "\n",
    "people_in_branch = 50\n",
    "\n",
    "# Control is Alpaca, Experiment is Bear\n",
    "control, experiment = np.random.rand(2, people_in_branch)\n",
    "\n",
    "c_rate = 0.16\n",
    "g_factor = 1.1\n",
    "e_rate = c_rate * g_factor # A TAXA DE CONVERSÃO DO GRUPO EXPERIMENTO É DE 0.176\n",
    "\n",
    "c_successes = sum(control < c_rate)\n",
    "\n",
    "# Bears are about 15% better relative to Alpacas\n",
    "e_successes = sum(experiment < e_rate)\n",
    "\n",
    "c_failures = people_in_branch - c_successes\n",
    "e_failures = people_in_branch - e_successes\n",
    "\n",
    "c_true_rate = c_successes/people_in_branch\n",
    "e_true_rate = e_successes/people_in_branch\n",
    "\n",
    "print('taxa de sucesso do controle =',c_true_rate,'taxa de sucesso do experimento =',e_true_rate)\n",
    "\n",
    "# Our Priors\n",
    "prior_successes = 8\n",
    "prior_failures = 42"
   ]
  },
  {
   "cell_type": "markdown",
   "metadata": {},
   "source": [
    "### Dados iniciais\n",
    "\n",
    "Após gerar dados aleatórios sobre a os totais de cliques em cada uma das opções (alpacas ou ursos), podemos concluir que estão seguindo premissas inicias que os ursos performam 10% melhor do que as alpacas.\n",
    "\n",
    "Vamos dar uma olhada nos resultados da nossa experiência. A primeira coisa que fazemos é pegar nossa pequena quantidade de dados iniciais e adicionar os resultados prévios aos dois ramos (alpacas e ursos). Depois disso, geramos as distribuições posteriores e fazemos alguns gráficos dos resultados."
   ]
  },
  {
   "cell_type": "code",
   "execution_count": 488,
   "metadata": {},
   "outputs": [
    {
     "data": {
      "image/png": "[encoded data removed]",
      "text/plain": [
       "<Figure size 864x432 with 1 Axes>"
      ]
     },
     "metadata": {},
     "output_type": "display_data"
    }
   ],
   "source": [
    "# For our graph\n",
    "fig, ax = plt.subplots(1, 1,figsize=(12,6)) \n",
    "\n",
    "# Control\n",
    "c_alpha, c_beta = c_successes + prior_successes, c_failures + prior_failures\n",
    "# Experiment\n",
    "e_alpha, e_beta = e_successes + prior_successes, e_failures + prior_failures\n",
    "\n",
    "x = np.linspace(0., 0.5, 1000) \n",
    "\n",
    "# Generate and plot the distributions!\n",
    "c_distribution = beta(c_alpha, c_beta)\n",
    "e_distribution = beta(e_alpha, e_beta)\n",
    "\n",
    "ax.plot(x, c_distribution.pdf(x),label='control(Alpacas)')\n",
    "ax.plot(x, e_distribution.pdf(x),label='experiment(Bears)')\n",
    "\n",
    "ax.set(xlabel='conversion rate', ylabel='density')\n",
    "ax.legend(loc='best', frameon=False)\n",
    "plt.show()"
   ]
  },
  {
   "cell_type": "markdown",
   "metadata": {},
   "source": [
    "Através dos resultados do gráfico acima, podemos ver uma diferença entre os dois ramos, mas eles se sobrepõem tanto que é difícil dizer qual é o verdadeiro vencedor. (Nota: Eles poderiam separar aleatoriamente aqui, mas isso ainda seria um resultado fraco devido ao baixo tamanho da amostra).\n",
    "\n",
    "Portanto, vamos aumentar o tamanho da amostragem de dados para 4000 e verificar os resultados."
   ]
  },
  {
   "cell_type": "markdown",
   "metadata": {},
   "source": [
    "## Dados com tamanho da amostra de 4000 observações"
   ]
  },
  {
   "cell_type": "code",
   "execution_count": 489,
   "metadata": {},
   "outputs": [
    {
     "name": "stdout",
     "output_type": "stream",
     "text": [
      "taxa de sucesso do controle = 0.15975 taxa de sucesso do experimento = 0.18125\n"
     ]
    }
   ],
   "source": [
    "more_people_in_branch = 4000\n",
    "\n",
    "# Control is Alpaca, Experiment is Bear\n",
    "control, experiment = np.random.rand(2, more_people_in_branch)\n",
    "\n",
    "# Add to existing data\n",
    "c_successes += sum(control < c_rate)\n",
    "e_successes += sum(experiment < e_rate)\n",
    "\n",
    "c_failures += more_people_in_branch - sum(control < c_rate)\n",
    "e_failures += more_people_in_branch - sum(experiment < e_rate)\n",
    "\n",
    "c_true_rate = c_successes/more_people_in_branch\n",
    "e_true_rate = e_successes/more_people_in_branch\n",
    "\n",
    "print('taxa de sucesso do controle =',c_true_rate,'taxa de sucesso do experimento =',e_true_rate)"
   ]
  },
  {
   "cell_type": "code",
   "execution_count": 490,
   "metadata": {
    "scrolled": false
   },
   "outputs": [
    {
     "data": {
      "image/png": "[encoded data removed]",
      "text/plain": [
       "<Figure size 864x432 with 1 Axes>"
      ]
     },
     "metadata": {},
     "output_type": "display_data"
    },
    {
     "data": {
      "text/plain": [
       "<Figure size 1296x1152 with 0 Axes>"
      ]
     },
     "metadata": {},
     "output_type": "display_data"
    }
   ],
   "source": [
    "\"\"\" COM ADICAO DOS VALORES PRIOR\"\"\"\n",
    "\n",
    "# For our graph\n",
    "fig, ax = plt.subplots(1, 1,figsize=(12,6)) \n",
    "\n",
    "from matplotlib.pyplot import figure\n",
    "figure(figsize=(18, 16))\n",
    "\n",
    "# Control\n",
    "c_alpha, c_beta = c_successes + prior_successes, c_failures + prior_failures\n",
    "# Experiment\n",
    "e_alpha, e_beta = e_successes + prior_successes, e_failures + prior_failures\n",
    "\n",
    "x = np.linspace(0., 0.5, 1000) \n",
    "\n",
    "# Generate and plot the distributions!\n",
    "c_distribution = beta(c_alpha, c_beta)\n",
    "e_distribution = beta(e_alpha, e_beta)\n",
    "\n",
    "ax.plot(x, c_distribution.pdf(x),label='control(Alpacas)')\n",
    "ax.plot(x, e_distribution.pdf(x),label='experiment(Bears)')\n",
    "\n",
    "ax.set(xlabel='conversion rate', ylabel='density')\n",
    "ax.legend(loc='best', frameon=False)\n",
    "plt.show()"
   ]
  },
  {
   "cell_type": "markdown",
   "metadata": {},
   "source": [
    "### Análise da diferença entre o grupo controle e o grupo do experimento, com o aumento das observações\n",
    "\n",
    "Podemos perceber que o alto número de observações faz com que a vairância diminua, e dessa forma fica mais claro a diferença entre o grupo controle (alpacas) e o grupo do experimento (ursos). \n",
    "\n",
    "Vamos calcular a probabilidade acumulada para as duas curvas de densidade de distribuição de sucesso para os dois casos com **ppf** (percentage point function) e comparar os resultados. Na sequência, plotamos o gráfico do ganho em sucesso da diferença entre os grupos controle e experimento com **cdf** (cumulative distribution function)."
   ]
  },
  {
   "cell_type": "code",
   "execution_count": 491,
   "metadata": {},
   "outputs": [
    {
     "name": "stdout",
     "output_type": "stream",
     "text": [
      "[0.14680681 0.15774923 0.16911913]\n",
      "[0.16720304 0.17872825 0.19065475]\n"
     ]
    }
   ],
   "source": [
    "# Arguments are x values so use ppf - the inverse of cdf\n",
    "print(c_distribution.ppf([0.025, 0.5, 0.975]))\n",
    "print(e_distribution.ppf([0.025, 0.5, 0.975]))\n",
    "\n",
    "# [ 0.14443947  0.15530981  0.16661068]\n",
    "# [ 0.15770843  0.16897057  0.18064618]"
   ]
  },
  {
   "cell_type": "code",
   "execution_count": 492,
   "metadata": {},
   "outputs": [
    {
     "data": {
      "text/plain": [
       "[Text(0,0.5,'CDF'), Text(0.5,0,'Bears / Alpacas')]"
      ]
     },
     "execution_count": 492,
     "metadata": {},
     "output_type": "execute_result"
    },
    {
     "data": {
      "image/png": "[encoded data removed]",
      "text/plain": [
       "<Figure size 432x288 with 1 Axes>"
      ]
     },
     "metadata": {},
     "output_type": "display_data"
    }
   ],
   "source": [
    "fig, ax = plt.subplots(1, 1)\n",
    "\n",
    "ser = pd.Series(e_samples/c_samples)\n",
    "\n",
    "# Make the CDF\n",
    "ser = ser.sort_values()\n",
    "ser[len(ser)] = ser.iloc[-1] \n",
    "cum_dist = np.linspace(0., 1., len(ser))\n",
    "ser_cdf = pd.Series(cum_dist, index=ser)\n",
    "\n",
    "ax.plot(ser_cdf)\n",
    "ax.set(xlabel='Bears / Alpacas', ylabel='CDF')"
   ]
  },
  {
   "cell_type": "markdown",
   "metadata": {},
   "source": [
    "## Tirando conclusões sobre a hipótese nula\n",
    "\n",
    "Vamos comparar o resultado do **p-value** das distribuições com **rsv** (random variates) para um tamanho de amostra de 1 milhão de observações e tirar a conclusão se empiricamente a diferença de cliques de sucesso com grupo do experimento (ursos) é estísticamente relevante."
   ]
  },
  {
   "cell_type": "code",
   "execution_count": 493,
   "metadata": {},
   "outputs": [],
   "source": [
    "sample_size = 10000000\n",
    "\n",
    "c_samples = pd.Series([c_distribution.rvs() for _ in range(sample_size)])\n",
    "e_samples = pd.Series([e_distribution.rvs() for _ in range(sample_size)])\n",
    "\n",
    "p_value = 1.0 - sum(e_samples > c_samples)/sample_size\n",
    "\n",
    "# 0.046830000000000038"
   ]
  },
  {
   "cell_type": "code",
   "execution_count": 494,
   "metadata": {},
   "outputs": [
    {
     "data": {
      "text/plain": [
       "0.005507400000000051"
      ]
     },
     "execution_count": 494,
     "metadata": {},
     "output_type": "execute_result"
    }
   ],
   "source": [
    "p_value"
   ]
  },
  {
   "cell_type": "code",
   "execution_count": 495,
   "metadata": {},
   "outputs": [
    {
     "data": {
      "text/plain": [
       "True"
      ]
     },
     "execution_count": 495,
     "metadata": {},
     "output_type": "execute_result"
    }
   ],
   "source": [
    "p_value < 0.05"
   ]
  },
  {
   "cell_type": "code",
   "execution_count": 496,
   "metadata": {},
   "outputs": [
    {
     "name": "stdout",
     "output_type": "stream",
     "text": [
      "Os ursos são melhores que as Alpacas: hipótese nula não rejeitada: ursos fazem diferença na landing page.\n"
     ]
    }
   ],
   "source": [
    "if p_value < 0.05:\n",
    "    print('Os ursos são melhores que as Alpacas: hipótese nula não rejeitada: ursos fazem diferença na landing page.')\n",
    "else:\n",
    "    print('Os ursos não são melhores que as Alpacas: hipótese nula rejeitada: ursos não fazem diferença na landing page.')"
   ]
  }
 ],
 "metadata": {
  "kernelspec": {
   "display_name": "Python 3",
   "language": "python",
   "name": "python3"
  },
  "language_info": {
   "codemirror_mode": {
    "name": "ipython",
    "version": 3
   },
   "file_extension": ".py",
   "mimetype": "text/x-python",
   "name": "python",
   "nbconvert_exporter": "python",
   "pygments_lexer": "ipython3",
   "version": "3.6.8"
  }
 },
 "nbformat": 4,
 "nbformat_minor": 2
}
