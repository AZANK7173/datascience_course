{
 "cells": [
  {
   "cell_type": "markdown",
   "metadata": {},
   "source": [
    "# Exercicios\n",
    "\n",
    "1) **Previsão de preço de casas**\n",
    "\n",
    "- Rode uma regressão linear com as variáveis normalizadas entre 0 e 1 para prever os preços das casas e inteprete os resultados dos betas.\n",
    "\n",
    "- Agora rode um GradientBoostingRegressor no mesmo dataset e interprete os resultados usando shapley values. Existe alguma variável que não era importante na regressão e agora se tornou relevante? Por que?\n",
    "\n",
    "- Qual o RMSE com cross-validation?\n",
    "\n",
    "- Pegue 10 amostrais quaisquer de um dataset de teste e plote o quanto cada variável influenciou no preço dessas casas."
   ]
  },
  {
   "cell_type": "code",
   "execution_count": null,
   "metadata": {},
   "outputs": [],
   "source": []
  },
  {
   "cell_type": "code",
   "execution_count": null,
   "metadata": {},
   "outputs": [],
   "source": []
  },
  {
   "cell_type": "code",
   "execution_count": null,
   "metadata": {},
   "outputs": [],
   "source": []
  },
  {
   "cell_type": "code",
   "execution_count": null,
   "metadata": {},
   "outputs": [],
   "source": []
  },
  {
   "cell_type": "markdown",
   "metadata": {},
   "source": [
    "2) ** Problema de classificação - Titanic **\n",
    "\n",
    "- Rode um GradientBoostingClassifier e plote como as variáveis impactam a probabilidade de sobrevicência dos passageiros.\n",
    "\n",
    "- Agora rode uma regressão logistica, um knn e uma decision tree e compare os 4 algoritmos nas seguintes métricas:\n",
    "\n",
    "    - Matriz de confusão como um heatmap.\n",
    "\n",
    "    - Precisão, Recall, F1-Score.\n",
    "\n",
    "    - Plote a curva ROC e calcule a AUC.\n",
    "\n",
    "    - Plote a curva PrecisionRecall. Qual a interpretação dessa curva?"
   ]
  },
  {
   "cell_type": "code",
   "execution_count": null,
   "metadata": {},
   "outputs": [],
   "source": []
  },
  {
   "cell_type": "code",
   "execution_count": null,
   "metadata": {},
   "outputs": [],
   "source": []
  },
  {
   "cell_type": "code",
   "execution_count": null,
   "metadata": {},
   "outputs": [],
   "source": []
  },
  {
   "cell_type": "code",
   "execution_count": null,
   "metadata": {},
   "outputs": [],
   "source": []
  },
  {
   "cell_type": "markdown",
   "metadata": {},
   "source": [
    "** 3)  Treinar um algoritmo Multiclass **\n",
    "\n",
    "Ao invés de prever apenas uma classe (0 ou 1), vamos começar a prever diversas classes e a esse nicho de problemas damos o nome de multiclass classifier.\n",
    "\n",
    "Nesse exemplo vamos usar um dataset do [kagle](https://www.kaggle.com/lucidlenn/sloan-digital-sky-survey) que contém informações de imagens do espaço e nosso objetivo é treinar um algoritmo que identifique, estrelas, galaxias e quasares através. \n",
    "\n",
    "Plote a matriz de confusão e as métricas precisão, recall e f1 para cada classe."
   ]
  },
  {
   "cell_type": "code",
   "execution_count": null,
   "metadata": {},
   "outputs": [],
   "source": []
  },
  {
   "cell_type": "code",
   "execution_count": null,
   "metadata": {},
   "outputs": [],
   "source": []
  },
  {
   "cell_type": "code",
   "execution_count": null,
   "metadata": {},
   "outputs": [],
   "source": []
  },
  {
   "cell_type": "code",
   "execution_count": null,
   "metadata": {},
   "outputs": [],
   "source": []
  },
  {
   "cell_type": "markdown",
   "metadata": {},
   "source": [
    "Bonus\n",
    "\n",
    "** Dataset desbalanceados **\n",
    "\n",
    "https://github.com/scikit-learn-contrib/imbalanced-learn\n",
    "\n",
    "Exercicio de Fraude - creditcard.\n",
    "\n",
    "Utilize uma regressão logistica nesse problema.\n",
    "\n",
    "Calcule a AUC com crossvalidation.\n",
    "\n",
    "Aplique alguma técnica de oversampling (ex estupido: repetir as amostras raras varias vezes) e recalcule a AUC com esse ajuste."
   ]
  },
  {
   "cell_type": "code",
   "execution_count": null,
   "metadata": {},
   "outputs": [],
   "source": []
  },
  {
   "cell_type": "code",
   "execution_count": null,
   "metadata": {},
   "outputs": [],
   "source": []
  },
  {
   "cell_type": "code",
   "execution_count": null,
   "metadata": {},
   "outputs": [],
   "source": []
  },
  {
   "cell_type": "code",
   "execution_count": null,
   "metadata": {},
   "outputs": [],
   "source": []
  }
 ],
 "metadata": {
  "kernelspec": {
   "display_name": "Python 3",
   "language": "python",
   "name": "python3"
  },
  "language_info": {
   "codemirror_mode": {
    "name": "ipython",
    "version": 3
   },
   "file_extension": ".py",
   "mimetype": "text/x-python",
   "name": "python",
   "nbconvert_exporter": "python",
   "pygments_lexer": "ipython3",
   "version": "3.6.5"
  }
 },
 "nbformat": 4,
 "nbformat_minor": 2
}
