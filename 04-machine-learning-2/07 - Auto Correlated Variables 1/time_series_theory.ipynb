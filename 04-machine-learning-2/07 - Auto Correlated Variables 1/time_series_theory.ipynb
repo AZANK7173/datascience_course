{
 "cells": [
  {
   "cell_type": "markdown",
   "metadata": {},
   "source": [
    "<img src=\"imgs/dh_logo.png\" align=\"right\" width=\"50%\">"
   ]
  },
  {
   "cell_type": "markdown",
   "metadata": {},
   "source": [
    "# Time Series 1: Introdução e Primeiros Modelos\n",
    "\n",
    "Fala galera! Vamos finalmente a um dos tópicos mais esperados do curso: Time Series! Nessas próximas duas aulas, vamos entender o que são Time Series, quais suas peculiaridades, algoritmos e estratégias para resolver problemas desse tipo. Bora pra aula!\n",
    "\n",
    "## O que são Time Series?\n",
    "\n",
    "Basicamente, podemos encarar como Time Series qualquer conjunto de dados ordenados que formam uma sequência. Note que não foi introduzido o conceito de tempo nessa definição, embora o nome seja Time Series: a noção de sequência ordenada, e não tempo, é a peça chave aqui. É comum que essa sequência ordenada de dados seja capturada num período fixo de tempo - daí vem a noção de tempo discreto e uma Time Series. Exemplos comum de Time Series são dados climáticos, curvas do valor de ações e sinais de exames médicos (por ex, eletrocardiogramas).\n",
    "\n",
    "Um conceito importante: Time Series carregam 2 tipos de informação devido à sua estrutura: informação sequencial e comportamento. A própria estrutura de sequência e encadeamento de eventos é em si uma informação importante que devemos analisar. Além disso, muitas Times Series provém de eventos humanos ou da natureza. Sempre devemos ter ciência disso em nossas análises de Time Series."
   ]
  },
  {
   "cell_type": "markdown",
   "metadata": {},
   "source": [
    "<img src=\"imgs/weather_data.png\" align=\"left\" width=\"80%\">\n",
    "<br>\n",
    "Dados climáticos. Todos os dados nessa imagem são Time Series, inclusive as previsões diárias. É imiportante notar que Time Series podem ter períodos e displays diferentes"
   ]
  },
  {
   "cell_type": "markdown",
   "metadata": {},
   "source": [
    "<img src=\"imgs/stocks_data.png\" align=\"left\" width=\"70%\">\n",
    "<br>\n",
    "Dados de valores de ações da IBM e LinkedIn. Note que o período de sampling dos dois é o mesmo para que comparações sejam possíveis"
   ]
  },
  {
   "cell_type": "markdown",
   "metadata": {},
   "source": [
    "<img src=\"imgs/eletrocardiogram.jpg\" align=\"left\" width=\"70%\">\n",
    "<br>\n",
    "Eletrocardiograma. No eixo x temos o eixo temporal, e no eixo y temos o sinal elétrico advindo da contração muscular do miocárdio. É comum analisar padrões em Time Series, como os picos e vales nesse exame, que representam movimentos sistólicos e diastólicos"
   ]
  },
  {
   "cell_type": "markdown",
   "metadata": {},
   "source": [
    "Já que uma Time Series é uma sequência ordenada de observações, sua análise tem como objetivo a **predição** das próximas predições. Para realizar essa predição, primeiramente temos que entender algumas componentes e características de uma Time Series.\n",
    "\n",
    "## Componentes e Características de Time Series\n",
    "\n",
    " - Trend: podemos entender como o componente independente de período da Time Series. De uma forma geral, entenda Trend como o componente linear que indica a evolução geral da Time Series no período observado\n",
    " - Seasonality: componente que se repete com algum período. Uma Time Series pode ter mais de uma sazonalidade. Por exemplo, Time Series de vendas em varejo possuem tanto padrões diários como semanais e anuais devido ao padrão de compra das pessoas ao longo do dia, semana e ano.\n",
    " - Singularidades: eventos únicos e fora dos padrões descritos acima, muitas vezes independentes deles\n",
    " - Residuals: retiradas as componentes acima, é a informação restante numa Time Series. Pode conter Noise (ruído)"
   ]
  },
  {
   "cell_type": "markdown",
   "metadata": {},
   "source": [
    "<img src=\"imgs/time_series_components.png\" align=\"left\" width=\"80%\">"
   ]
  },
  {
   "cell_type": "markdown",
   "metadata": {},
   "source": [
    "<img src=\"imgs/components_chart.png\" align=\"left\" width=\"80%\">"
   ]
  },
  {
   "cell_type": "markdown",
   "metadata": {},
   "source": [
    "Na primeira figura, podemos observar um exemplo de Time Series, com suas 3 principais componentes plotadas logo abaixo. Existem ainda mais características de Time Series, como:\n",
    "\n",
    " - Autocorrelation: entenda autocorrelation como o grau de repetição ou lag temporal interno de uma Time Series, ou seja, o quanto ela se refere a ela mesma no passado\n",
    " - Stationary vs Dynamic: Time Series estacionárias tem seus componentes como independentes do tempo. Time Series dinâmicas tem pelo menos 1 de seus componentes como uma função do tempo.\n",
    " - Homo vs Heteroscedasticidade: a evolução do grau de dispersão de pontos devido à passagem de tempo, ou seja, a variância dos pontos pode ou não ser uma função emrelação ao tempo"
   ]
  },
  {
   "cell_type": "markdown",
   "metadata": {},
   "source": [
    "<img src=\"imgs/stationary_vs_dynamic.png\" align=\"left\" width=\"60%\">"
   ]
  },
  {
   "cell_type": "markdown",
   "metadata": {},
   "source": [
    "<img src=\"imgs/homo_vs_hetero.png\" align=\"left\" width=\"60%\">"
   ]
  },
  {
   "cell_type": "markdown",
   "metadata": {},
   "source": [
    "Links para estudo:\n",
    " - __[Quickstart by Jae Duk Seo](https://towardsdatascience.com/trend-seasonality-moving-average-auto-regressive-model-my-journey-to-time-series-data-with-edc4c0c8284b)__\n",
    " - __[Almost everything you need to know about TS](https://towardsdatascience.com/almost-everything-you-need-to-know-about-time-series-860241bdc578)__\n",
    " - __[Desafio 4 Jumpstart](https://towardsdatascience.com/an-end-to-end-project-on-time-series-analysis-and-forecasting-with-python-4835e6bf050b)__\n",
    " - __[Avoiding Common Pitfalls in TS](https://towardsdatascience.com/how-not-to-use-machine-learning-for-time-series-forecasting-avoiding-the-pitfalls-19f9d7adf424)__"
   ]
  },
  {
   "cell_type": "code",
   "execution_count": null,
   "metadata": {},
   "outputs": [],
   "source": []
  }
 ],
 "metadata": {
  "kernelspec": {
   "display_name": "Python 3",
   "language": "python",
   "name": "python3"
  },
  "language_info": {
   "codemirror_mode": {
    "name": "ipython",
    "version": 3
   },
   "file_extension": ".py",
   "mimetype": "text/x-python",
   "name": "python",
   "nbconvert_exporter": "python",
   "pygments_lexer": "ipython3",
   "version": "3.6.8"
  }
 },
 "nbformat": 4,
 "nbformat_minor": 2
}
