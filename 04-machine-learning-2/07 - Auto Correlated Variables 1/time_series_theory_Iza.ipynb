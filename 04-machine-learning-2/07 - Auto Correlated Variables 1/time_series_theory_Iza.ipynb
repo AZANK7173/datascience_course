{
 "cells": [
  {
   "cell_type": "markdown",
   "metadata": {},
   "source": [
    "<img src=\"imgs/dh_logo.png\" align=\"right\" width=\"50%\">"
   ]
  },
  {
   "cell_type": "markdown",
   "metadata": {},
   "source": [
    "# Time Series 1: Introdução e Primeiros Modelos\n",
    "\n",
    "Fala galera! Vamos finalmente a um dos tópicos mais esperados do curso: Time Series! Nessas próximas duas aulas, vamos entender o que são Time Series, quais suas peculiaridades, algoritmos e estratégias para resolver problemas desse tipo. Bora pra aula!\n",
    "\n",
    "## O que são Time Series?\n",
    "\n",
    "Basicamente, podemos encarar como Time Series qualquer conjunto de dados ordenados que formam uma sequência. Note que não foi introduzido o conceito de tempo nessa definição, embora o nome seja Time Series: a noção de sequência ordenada, e não tempo, é a peça chave aqui. É comum que essa sequência ordenada de dados seja capturada num período fixo de tempo - daí vem a noção de tempo discreto e uma Time Series. Exemplos comum de Time Series são dados climáticos, curvas do valor de ações e sinais de exames médicos (por ex, eletrocardiogramas).\n",
    "\n",
    "Um conceito importante: Time Series carregam 2 tipos de informação devido à sua estrutura: informação sequencial e comportamento. A própria estrutura de sequência e encadeamento de eventos é em si uma informação importante que devemos analisar. Além disso, muitas Times Series provém de eventos humanos ou da natureza. Sempre devemos ter ciência disso em nossas análises de Time Series."
   ]
  },
  {
   "cell_type": "markdown",
   "metadata": {},
   "source": [
    "<img src=\"imgs/weather_data.png\" align=\"left\" width=\"80%\">\n",
    "<br>\n",
    "Dados climáticos. Todos os dados nessa imagem são Time Series, inclusive as previsões diárias. É imiportante notar que Time Series podem ter períodos e displays diferentes"
   ]
  },
  {
   "cell_type": "markdown",
   "metadata": {},
   "source": [
    "<img src=\"imgs/stocks_data.png\" align=\"left\" width=\"70%\">\n",
    "<br>\n",
    "Dados de valores de ações da IBM e LinkedIn. Note que o período de sampling dos dois é o mesmo para que comparações sejam possíveis"
   ]
  },
  {
   "cell_type": "markdown",
   "metadata": {},
   "source": [
    "<img src=\"imgs/eletrocardiogram.jpg\" align=\"left\" width=\"70%\">\n",
    "<br>\n",
    "Eletrocardiograma. No eixo x temos o eixo temporal, e no eixo y temos o sinal elétrico advindo da contração muscular do miocárdio. É comum analisar padrões em Time Series, como os picos e vales nesse exame, que representam movimentos sistólicos e diastólicos"
   ]
  },
  {
   "cell_type": "markdown",
   "metadata": {},
   "source": [
    "Já que uma Time Series é uma sequência ordenada de observações, sua análise tem como objetivo a **predição** das próximas predições. Para realizar essa predição, primeiramente temos que entender algumas componentes e características de uma Time Series."
   ]
  },
  {
   "cell_type": "markdown",
   "metadata": {},
   "source": [
    "# Tipos de Time Series"
   ]
  },
  {
   "cell_type": "markdown",
   "metadata": {},
   "source": [
    "## White noise \n",
    "\n",
    "Este tipo de série temporal tem um comportamento imprevisível. Se caracteriza por ser uma série de números randômicos, o que faz com que não sejamos capazes de encontrar padrões em seus dados e prever seu comportamento. Suas variáveis não possuem correlação. \n",
    "\n",
    "Também podem ser parte componente de outras time series, como veremos adiante. Inclusive, os erros de séries tempoais devem ser idealmente white noise. Isso indica que o modelo gerado foi capaz de extrair toda informação útil dos dados analisados, o que indica uma boa performance nas previsões. Quanto mais distânte o erro é de ser completamente white noise, mais indícios de que podemos melhorar o modelo implementado teremos. \n"
   ]
  },
  {
   "cell_type": "markdown",
   "metadata": {},
   "source": [
    "<img src=\"imgs/white_noise.png\" align=\"center\" width=\"40%\">"
   ]
  },
  {
   "cell_type": "markdown",
   "metadata": {},
   "source": [
    "As principais características de um white noise é ter uma média é próxima ou igual a zero, seus valores não se correlacionam e sua variância não muda com o passar do tempo!"
   ]
  },
  {
   "cell_type": "markdown",
   "metadata": {
    "ExecuteTime": {
     "end_time": "2019-06-03T20:56:01.626867Z",
     "start_time": "2019-06-03T20:56:01.620937Z"
    }
   },
   "source": [
    "## Aproximação ingênua"
   ]
  },
  {
   "cell_type": "markdown",
   "metadata": {},
   "source": [
    "A aproximação ingênua é a foma mais simples de se fazer uma pevisão em uma time series. Ela prevê o valor seguinte como sento exatamente o mesmo valor do último registro feito, que não é muito bom inclusive, dadas as diversas melhorias que já existem para efetuar esse tipo de previsão."
   ]
  },
  {
   "cell_type": "markdown",
   "metadata": {},
   "source": [
    "## Média simples"
   ]
  },
  {
   "cell_type": "markdown",
   "metadata": {},
   "source": [
    "A média simples é literalmente prever os meus valores futuros como sento iguais a médiados meus valores passados. Aqui podemos ter valores com erros ainda maiores que a aproximação ingênua dependendo do comportamento dos dados históricos que tmeos em mãos."
   ]
  },
  {
   "cell_type": "markdown",
   "metadata": {},
   "source": [
    "## Autoregressive models (AR)"
   ]
  },
  {
   "cell_type": "markdown",
   "metadata": {},
   "source": [
    "Ese tipo de modelo têm como características a dependência dos valores previstos dependentes de P de seus valores passados. Um ótimo exemplo pra isso é justamente a time series de Temperatura! Seus valores geralmente são obtidos pela soma de coeficientes que multiplicam seus respectivos valores no tempo e um valor de erro."
   ]
  },
  {
   "cell_type": "markdown",
   "metadata": {},
   "source": [
    "## Média móvel"
   ]
  },
  {
   "cell_type": "markdown",
   "metadata": {},
   "source": [
    " A média móvel , ainda sendo um tipo de modelo o qual podemos considerear ingênuo, já nos fornece uma melhoria, já que considera apenas observações recentes. Este possui um parâmetro de suavisação que define como os pesos vão diminuir. Entretando, aqui continumaos ignorando quaisquer outros padrões (como tendência e sazonalidade)."
   ]
  },
  {
   "cell_type": "markdown",
   "metadata": {},
   "source": [
    "## Autoregressive Moving Average or ARMA"
   ]
  },
  {
   "cell_type": "markdown",
   "metadata": {},
   "source": [
    "Esse método, como o nome já diz, combina os dois tipos de métodos, Autoregressive, o qual indica que os valores futuros serão dependentes dos seus valores passados e portanto podem ser previstos baseados nos mesmos. A etapa de MA envolve a modelagem do termo do erro como uma combinação linear dos termos do erro que acontecem em vários momentos no passado. "
   ]
  },
  {
   "cell_type": "markdown",
   "metadata": {},
   "source": [
    "# Charles Holt's milestone"
   ]
  },
  {
   "cell_type": "markdown",
   "metadata": {},
   "source": [
    "Charles Holt, um professor americano, notou o problema dos métodos já existentes que ignoravam a tendência e a sazonalidade dos dados e extendeu, inicialmente, a ideia de \"simple exponential smoothing\" que permitiu o forecasting com uma tendência (Ex.: quandos o gráfico cresce com o passar do tempo), criando assim o Holt's Linear Trend. "
   ]
  },
  {
   "cell_type": "markdown",
   "metadata": {},
   "source": [
    "## Método Holt's winter"
   ]
  },
  {
   "cell_type": "markdown",
   "metadata": {},
   "source": [
    "Esse método foi a evolução seguinte que Holt desenvolveu, e que tornou capaz, além da modelagem da tendência, também da sazonalidade. Cada uma das componentes possui seu próprio parâmetro suavizador. A tendência aqui é matematicamente determinada da mesma forma que no método Holt's linear trend e a equação de sazonalidade mostra é dada por uma média ponderada entre a \"season\" atual e a última \"season\" respectiva existente no passado. "
   ]
  },
  {
   "cell_type": "markdown",
   "metadata": {},
   "source": [
    "\n",
    "\n",
    "## Componentes e Características de Time Series\n",
    "\n",
    " - Trend: podemos entender como o componente independente de período da Time Series. De uma forma geral, entenda Trend como o componente linear que indica a evolução geral da Time Series no período observado\n",
    " - Seasonality: componente que se repete com algum período. Uma Time Series pode ter mais de uma sazonalidade. Por exemplo, Time Series de vendas em varejo possuem tanto padrões diários como semanais e anuais devido ao padrão de compra das pessoas ao longo do dia, semana e ano.\n",
    " - Singularidades: eventos únicos e fora dos padrões descritos acima, muitas vezes independentes deles\n",
    " - Residuals: retiradas as componentes acima, é a informação restante numa Time Series. Pode conter Noise (ruído)"
   ]
  },
  {
   "cell_type": "markdown",
   "metadata": {},
   "source": [
    "<img src=\"imgs/time_series_components.png\" align=\"left\" width=\"80%\">"
   ]
  },
  {
   "cell_type": "markdown",
   "metadata": {},
   "source": [
    "<img src=\"imgs/components_chart.png\" align=\"left\" width=\"80%\">"
   ]
  },
  {
   "cell_type": "markdown",
   "metadata": {},
   "source": [
    "Na primeira figura, podemos observar um exemplo de Time Series, com suas 3 principais componentes plotadas logo abaixo. Existem ainda mais características de Time Series, como:\n",
    "\n",
    " - Autocorrelation: entenda autocorrelation como o grau de repetição ou lag temporal interno de uma Time Series, ou seja, o quanto ela se refere a ela mesma no passado\n",
    " - Stationary vs Dynamic: Time Series estacionárias tem seus componentes como independentes do tempo. Time Series dinâmicas tem pelo menos 1 de seus componentes como uma função do tempo.\n",
    " - Homo vs Heteroscedasticidade: a evolução do grau de dispersão de pontos devido à passagem de tempo, ou seja, a variância dos pontos pode ou não ser uma função emrelação ao tempo"
   ]
  },
  {
   "cell_type": "markdown",
   "metadata": {},
   "source": [
    "## Cross sectional dat"
   ]
  },
  {
   "cell_type": "markdown",
   "metadata": {},
   "source": [
    " Esse tipo de dados são dados que são registrados no mesmo período de tempo. Esses dados possuem uma correlação consideráel entre eles. Um exemplo disso são os dados usados para prever um churn."
   ]
  },
  {
   "cell_type": "markdown",
   "metadata": {},
   "source": [
    "# Real World Applications"
   ]
  },
  {
   "cell_type": "markdown",
   "metadata": {},
   "source": [
    "Aplicações comuns:\n",
    "- Churn\n",
    "- Marcado financeiro\n",
    "- Forecast de demanda (Patentes da Amazon)\n",
    "\n",
    "Aplicações que não consideramos ter dependência temporal:\n",
    "- Reconhecimento de Imagens\n",
    "- Sistema de Busca"
   ]
  },
  {
   "cell_type": "markdown",
   "metadata": {},
   "source": [
    "<img src=\"imgs/stationary_vs_dynamic.png\" align=\"left\" width=\"60%\">"
   ]
  },
  {
   "cell_type": "markdown",
   "metadata": {},
   "source": [
    "Links para estudo:\n",
    " - __[Quickstart by Jae Duk Seo](https://towardsdatascience.com/trend-seasonality-moving-average-auto-regressive-model-my-journey-to-time-series-data-with-edc4c0c8284b)__\n",
    " - __[Almost everything you need to know about TS](https://towardsdatascience.com/almost-everything-you-need-to-know-about-time-series-860241bdc578)__\n",
    " - __[Desafio 4 Jumpstart](https://towardsdatascience.com/an-end-to-end-project-on-time-series-analysis-and-forecasting-with-python-4835e6bf050b)__\n",
    " - __[Avoiding Common Pitfalls in TS](https://towardsdatascience.com/how-not-to-use-machine-learning-for-time-series-forecasting-avoiding-the-pitfalls-19f9d7adf424)__"
   ]
  },
  {
   "cell_type": "code",
   "execution_count": null,
   "metadata": {},
   "outputs": [],
   "source": []
  }
 ],
 "metadata": {
  "kernelspec": {
   "display_name": "Python 3",
   "language": "python",
   "name": "python3"
  },
  "language_info": {
   "codemirror_mode": {
    "name": "ipython",
    "version": 3
   },
   "file_extension": ".py",
   "mimetype": "text/x-python",
   "name": "python",
   "nbconvert_exporter": "python",
   "pygments_lexer": "ipython3",
   "version": "3.7.3"
  },
  "toc": {
   "base_numbering": 1,
   "nav_menu": {},
   "number_sections": true,
   "sideBar": true,
   "skip_h1_title": false,
   "title_cell": "Table of Contents",
   "title_sidebar": "Contents",
   "toc_cell": false,
   "toc_position": {},
   "toc_section_display": true,
   "toc_window_display": false
  }
 },
 "nbformat": 4,
 "nbformat_minor": 2
}
