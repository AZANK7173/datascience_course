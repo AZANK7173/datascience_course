{
 "cells": [
  {
   "cell_type": "markdown",
   "metadata": {},
   "source": [
    "!pip install flask-restful==0.3.6\n",
    "!pip install flask==0.12.2\n",
    "!pip install flask-jsonpify==1.5.0 --user"
   ]
  },
  {
   "cell_type": "code",
   "execution_count": 1,
   "metadata": {},
   "outputs": [
    {
     "name": "stderr",
     "output_type": "stream",
     "text": [
      "C:\\ProgramData\\Anaconda3\\lib\\site-packages\\ipykernel_launcher.py:6: ExtDeprecationWarning: Importing flask.ext.jsonpify is deprecated, use flask_jsonpify instead.\n",
      "  \n"
     ]
    }
   ],
   "source": [
    "import pickle\n",
    "import pandas as pd\n",
    "\n",
    "from flask import Flask, request\n",
    "from flask_restful import Api, Resource\n",
    "from flask.ext.jsonpify import jsonpify"
   ]
  },
  {
   "cell_type": "code",
   "execution_count": 2,
   "metadata": {},
   "outputs": [],
   "source": [
    "# \"100-323-4124.4324-0.4242-5\".split(\"-\")"
   ]
  },
  {
   "cell_type": "code",
   "execution_count": 3,
   "metadata": {},
   "outputs": [],
   "source": [
    "import numpy as np\n",
    "import time"
   ]
  },
  {
   "cell_type": "code",
   "execution_count": 4,
   "metadata": {},
   "outputs": [
    {
     "data": {
      "text/plain": [
       "'12/03/18 22:13:00'"
      ]
     },
     "execution_count": 4,
     "metadata": {},
     "output_type": "execute_result"
    }
   ],
   "source": [
    "t = time.strftime('%x %X')\n",
    "t"
   ]
  },
  {
   "cell_type": "code",
   "execution_count": 5,
   "metadata": {},
   "outputs": [],
   "source": [
    "def escreve_log(path='log.log', text=''):\n",
    "    with open(path, 'a') as log:\n",
    "        t = time.strftime('%x %X')\n",
    "        log.write(t + str(text) + '\\n')"
   ]
  },
  {
   "cell_type": "code",
   "execution_count": null,
   "metadata": {},
   "outputs": [
    {
     "name": "stderr",
     "output_type": "stream",
     "text": [
      " * Running on http://0.0.0.0:1247/ (Press CTRL+C to quit)\n",
      "127.0.0.1 - - [03/Dec/2018 22:13:09] \"GET / HTTP/1.1\" 200 -\n",
      "127.0.0.1 - - [03/Dec/2018 22:13:55] \"GET /predict/100-323-4124.4324-0.4242-5 HTTP/1.1\" 200 -\n",
      "127.0.0.1 - - [03/Dec/2018 22:13:55] \"GET /predict/100-323-4124.4324-0.4242-5 HTTP/1.1\" 200 -\n",
      "127.0.0.1 - - [03/Dec/2018 22:13:55] \"GET / HTTP/1.1\" 200 -\n",
      "127.0.0.1 - - [03/Dec/2018 22:14:00] \"GET /predict/100-323-4124.4324-0.4242-5 HTTP/1.1\" 200 -\n",
      "127.0.0.1 - - [03/Dec/2018 22:14:05] \"GET /predict/100-323-10.4324-0.4242-5 HTTP/1.1\" 200 -\n",
      "127.0.0.1 - - [03/Dec/2018 22:14:11] \"GET /predict/1-323-10.4324-0.4242-5 HTTP/1.1\" 200 -\n",
      "127.0.0.1 - - [03/Dec/2018 22:14:17] \"GET /predict/1-323-10.4324-0.4242-1 HTTP/1.1\" 200 -\n",
      "127.0.0.1 - - [03/Dec/2018 22:16:22] \"GET /predict/1-323-10.4324-0.4242-1 HTTP/1.1\" 200 -\n",
      "127.0.0.1 - - [03/Dec/2018 22:16:30] \"GET / HTTP/1.1\" 200 -\n",
      "127.0.0.1 - - [03/Dec/2018 22:16:53] \"GET / HTTP/1.1\" 200 -\n",
      "127.0.0.1 - - [03/Dec/2018 22:17:32] \"GET / HTTP/1.1\" 200 -\n",
      "127.0.0.1 - - [03/Dec/2018 22:17:35] \"GET / HTTP/1.1\" 200 -\n",
      "127.0.0.1 - - [03/Dec/2018 22:17:36] \"GET / HTTP/1.1\" 200 -\n",
      "127.0.0.1 - - [03/Dec/2018 22:17:41] \"GET /predict/1-323-10.4324-0.4242-1 HTTP/1.1\" 200 -\n",
      "127.0.0.1 - - [03/Dec/2018 22:17:46] \"GET /predict/1-323-10.4324-0.4242-1 HTTP/1.1\" 200 -\n",
      "127.0.0.1 - - [03/Dec/2018 22:17:56] \"GET /predict/1-323-10.4324-0.4242-1 HTTP/1.1\" 200 -\n",
      "127.0.0.1 - - [03/Dec/2018 22:19:59] \"GET /predict/12444-2008-8-0-2008 HTTP/1.1\" 200 -\n"
     ]
    }
   ],
   "source": [
    "def open_pkl(path=''):\n",
    "    escreve_log(text='comecou a carregar o pkl')\n",
    "    file = open(path, 'rb')\n",
    "    model = pickle.load(file)\n",
    "    file.close\n",
    "    escreve_log(text='terminou de carregar o pkl')\n",
    "    return model\n",
    "\n",
    "\n",
    "class Index(Resource):\n",
    "    def get(self):\n",
    "        escreve_log(text='acessou o index')\n",
    "        return ('''\n",
    "        teste\n",
    "        ''')\n",
    "\n",
    "\n",
    "class Prediction(Resource):\n",
    "    def get(self, features):\n",
    "        \n",
    "        escreve_log(text='usuario iniciou uma prediction')\n",
    "        features = str(features).split(\"-\")\n",
    "        X = np.array(features).reshape(1,5)\n",
    "        escreve_log(text=f'valores:{X}' )\n",
    "        df = pd.DataFrame(X, columns=['LotArea','YearBuilt','OverallQual','WoodDeckSF','YrSold'])\n",
    "        model = open_pkl('model.pkl')\n",
    "        \n",
    "        yhat = model.predict(df)\n",
    "        escreve_log(text=f'predicao:{yhat}')\n",
    "        return jsonpify(yhat[0])\n",
    "\n",
    "\n",
    "def main():\n",
    "    app = Flask(__name__)\n",
    "    api = Api(app)\n",
    "    \n",
    "    api.add_resource(Index, '/')\n",
    "    api.add_resource(Prediction, '/predict/<features>')\n",
    "\n",
    "    app.run(port=1247, host='0.0.0.0')\n",
    "\n",
    "\n",
    "main()"
   ]
  }
 ],
 "metadata": {
  "kernelspec": {
   "display_name": "Python 3",
   "language": "python",
   "name": "python3"
  },
  "language_info": {
   "codemirror_mode": {
    "name": "ipython",
    "version": 3
   },
   "file_extension": ".py",
   "mimetype": "text/x-python",
   "name": "python",
   "nbconvert_exporter": "python",
   "pygments_lexer": "ipython3",
   "version": "3.6.5"
  }
 },
 "nbformat": 4,
 "nbformat_minor": 2
}
