{
 "cells": [
  {
   "cell_type": "markdown",
   "metadata": {},
   "source": [
    "## Ensembling"
   ]
  },
  {
   "cell_type": "markdown",
   "metadata": {},
   "source": [
    "Nesse exercício vamos observar problemas de overfitting e underfitting e tentar criar ensembles simples parar mitigar tais problemas. Iremos juntos:\n",
    "\n",
    "* Plotar os dados e observar a correlação entre x e y\n",
    "* Utilizar `DecisionTreeRegressor` para treinar e visualizar um regressor nesses dados\n",
    "* Experimentar com alguns parâmetros diferentes e observar os efeitos nos modelos\n",
    "* Iterar N vezes para treinar N modelos diferentes com diferentes amostras dos dados\n",
    "* Combinar os resultados de todos os modelos e observar o resultado"
   ]
  },
  {
   "cell_type": "code",
   "execution_count": 28,
   "metadata": {},
   "outputs": [],
   "source": [
    "import matplotlib.pyplot as plt\n",
    "import pandas as pd\n",
    "from sklearn.metrics import roc_auc_score\n",
    "from sklearn.tree import DecisionTreeRegressor\n",
    "from sklearn.model_selection import train_test_split\n",
    "# from sklearn.ensemble import \n",
    "from sklearn.tree import DecisionTreeClassifier\n",
    "from sklearn.linear_model import LogisticRegression"
   ]
  },
  {
   "cell_type": "code",
   "execution_count": 29,
   "metadata": {},
   "outputs": [],
   "source": [
    "def eval_auc(clf, x, y):\n",
    "    ypred = clf.predict_proba(x)[:,1]\n",
    "    return roc_auc_score(y, ypred)\n",
    "\n",
    "# Dataset de deafult\n",
    "df = pd.read_csv('./data/default.csv')\n",
    "x = df.drop('SeriousDlqin2yrs', axis=1)\n",
    "y = df['SeriousDlqin2yrs']"
   ]
  },
  {
   "cell_type": "code",
   "execution_count": 30,
   "metadata": {},
   "outputs": [],
   "source": [
    "def sample(x, y, n):\n",
    "    idx = np.random.randint(len(x), size=n)\n",
    "    return x[idx], y[idx]"
   ]
  },
  {
   "cell_type": "code",
   "execution_count": 31,
   "metadata": {
    "scrolled": false
   },
   "outputs": [],
   "source": [
    "import utils # O arquivo deve estar na mesmo diretório que o notebook"
   ]
  },
  {
   "cell_type": "markdown",
   "metadata": {},
   "source": [
    "## Bagging"
   ]
  },
  {
   "cell_type": "markdown",
   "metadata": {},
   "source": [
    "Nesse exercício vamos experimentar usar a `BaggingClassifier` do sklearn para criar ensembles com regressão logística e árvores de decisão."
   ]
  },
  {
   "cell_type": "code",
   "execution_count": 32,
   "metadata": {},
   "outputs": [],
   "source": [
    "from sklearn.ensemble import BaggingClassifier"
   ]
  },
  {
   "cell_type": "code",
   "execution_count": 33,
   "metadata": {},
   "outputs": [],
   "source": [
    "xtrain, xtest, ytrain, ytest = train_test_split(x, y, test_size=0.3, stratify=y, random_state=1)"
   ]
  },
  {
   "cell_type": "code",
   "execution_count": 34,
   "metadata": {},
   "outputs": [
    {
     "data": {
      "text/plain": [
       "BaggingClassifier(base_estimator=None, bootstrap=True,\n",
       "         bootstrap_features=False, max_features=1.0, max_samples=1.0,\n",
       "         n_estimators=10, n_jobs=1, oob_score=False, random_state=None,\n",
       "         verbose=0, warm_start=False)"
      ]
     },
     "execution_count": 34,
     "metadata": {},
     "output_type": "execute_result"
    }
   ],
   "source": [
    "BaggingClassifier()"
   ]
  },
  {
   "cell_type": "code",
   "execution_count": 35,
   "metadata": {},
   "outputs": [
    {
     "name": "stdout",
     "output_type": "stream",
     "text": [
      "1 0.6479981115957243 0.7032725949192957\n",
      "2 0.7539808470673747 0.7018908490168341\n",
      "3 0.7963625939515329 0.7011879700743404\n",
      "4 0.8210474147114648 0.7050044027509799\n",
      "5 0.8334597848298358 0.7032612183222336\n",
      "10 0.8468484561902369 0.7034630994809548\n",
      "15 0.8479756616191838 0.7056809342230334\n",
      "20 0.8511918343172256 0.7037089273970117\n"
     ]
    }
   ],
   "source": [
    "n_estimators = [1,2,3,4,5,10,15,20]\n",
    "dt_bag_scores = []   \n",
    "lr_bag_scores = []\n",
    "for ne in n_estimators:\n",
    "    dt = DecisionTreeClassifier(max_depth=15, random_state=1)\n",
    "    lr = LogisticRegression(random_state=1)\n",
    "    \n",
    "    dt_bag = BaggingClassifier(dt, n_estimators=ne)\n",
    "    lr_bag = BaggingClassifier(lr, n_estimators=ne)\n",
    "\n",
    "    dt_bag.fit(xtrain, ytrain)\n",
    "    lr_bag.fit(xtrain, ytrain)\n",
    "\n",
    "    dt_bag_scores.append(eval_auc(dt_bag, xtest, ytest))\n",
    "    lr_bag_scores.append(eval_auc(lr_bag, xtest, ytest))\n",
    "\n",
    "    print(ne, dt_bag_scores[-1], lr_bag_scores[-1])\n"
   ]
  },
  {
   "cell_type": "code",
   "execution_count": 36,
   "metadata": {},
   "outputs": [
    {
     "data": {
      "text/plain": [
       "<matplotlib.legend.Legend at 0x185e81202b0>"
      ]
     },
     "execution_count": 36,
     "metadata": {},
     "output_type": "execute_result"
    },
    {
     "data": {
      "image/png": "[encoded data removed]",
      "text/plain": [
       "<Figure size 432x288 with 1 Axes>"
      ]
     },
     "metadata": {},
     "output_type": "display_data"
    }
   ],
   "source": [
    "plt.plot(n_estimators, dt_bag_scores, label='decision_tree')\n",
    "plt.plot(n_estimators, lr_bag_scores, label='logistic_regression')\n",
    "plt.legend()"
   ]
  },
  {
   "cell_type": "markdown",
   "metadata": {},
   "source": [
    "Vemos que o desempenho melhora consideravelmente ao combinar múltiplas árvores de decisão, ao contrário de regressões logísticas. Isso acontece por que todos os modelos de regressão logística combinados provavvelmente são muito parecidos, logo combiná-los não trás benefícios. Enquanto as árvores são consideravelmente diferentes, devido ao \"problema\" de variância que elas possuem.\n",
    "\n",
    "Esse resultado talvez deixe claro por que *random forests* são tão populares e *random logistic regressions* não :)"
   ]
  },
  {
   "cell_type": "markdown",
   "metadata": {},
   "source": [
    "## Voting\n",
    "\n",
    "Vamos usar o `VotingClassifier` do `sklearn` para compor alguns classificadores diferentes."
   ]
  },
  {
   "cell_type": "code",
   "execution_count": 37,
   "metadata": {},
   "outputs": [],
   "source": [
    "xtrain, xtest, ytrain, ytest = train_test_split(x, y, test_size=0.3, stratify=y, random_state=1)"
   ]
  },
  {
   "cell_type": "code",
   "execution_count": 38,
   "metadata": {},
   "outputs": [
    {
     "data": {
      "text/plain": [
       "VotingClassifier(estimators=[('dt1', DecisionTreeClassifier(class_weight=None, criterion='gini', max_depth=None,\n",
       "            max_features=None, max_leaf_nodes=None,\n",
       "            min_impurity_decrease=0.0, min_impurity_split=None,\n",
       "            min_samples_leaf=1, min_samples_split=2,\n",
       "            min_weight_fraction_lea...owski',\n",
       "           metric_params=None, n_jobs=1, n_neighbors=5, p=2,\n",
       "           weights='uniform'))],\n",
       "         flatten_transform=None, n_jobs=1, voting='soft', weights=None)"
      ]
     },
     "execution_count": 38,
     "metadata": {},
     "output_type": "execute_result"
    }
   ],
   "source": [
    "from sklearn.ensemble import VotingClassifier\n",
    "from sklearn.neighbors import KNeighborsClassifier\n",
    "\n",
    "dt1 = DecisionTreeClassifier(random_state=1)\n",
    "dt2 = DecisionTreeClassifier(max_depth=12, max_features=5, random_state=42)\n",
    "lr1 = LogisticRegression()\n",
    "lr2 = LogisticRegression(C=0.001, penalty='l1')\n",
    "knn = KNeighborsClassifier()\n",
    "\n",
    "clfs = [('dt1', dt1),\n",
    "        ('dt2', dt2),\n",
    "        ('lr1', lr1),\n",
    "        ('lr2', lr2),\n",
    "        ('knn', knn)]\n",
    "\n",
    "vot = VotingClassifier(clfs, voting='soft')\n",
    "vot.fit(xtrain, ytrain)"
   ]
  },
  {
   "cell_type": "code",
   "execution_count": null,
   "metadata": {},
   "outputs": [],
   "source": [
    "for name, clf in clfs:\n",
    "    clf.fit(xtrain, ytrain)\n",
    "    \n",
    "    auc = eval_auc(clf, xtest, ytest)\n",
    "    print(name, auc)\n",
    "    \n",
    "print()\n",
    "print('all', eval_auc(vot, xtest, ytest))"
   ]
  },
  {
   "cell_type": "markdown",
   "metadata": {},
   "source": [
    "## Stacking\n",
    "\n",
    "Vamos usar os mesmos estimadores base do exemplo anterior, porém ao invés de definir a predição por voto, vamos **treinar outro classificador com as predições dos classificadores base**. Primeiro começamos com nosso split train/test padrão:"
   ]
  },
  {
   "cell_type": "code",
   "execution_count": null,
   "metadata": {},
   "outputs": [],
   "source": [
    "xtrain, xtest, ytrain, ytest = train_test_split(x, y, test_size=0.3, stratify=y, random_state=1)"
   ]
  },
  {
   "cell_type": "markdown",
   "metadata": {},
   "source": [
    "Agora precisamos fazer um novo split no conjunto de treino para reservar dados para nosso meta-learner."
   ]
  },
  {
   "cell_type": "code",
   "execution_count": null,
   "metadata": {},
   "outputs": [],
   "source": [
    "xbase, xmeta, ybase, ymeta = train_test_split(xtrain, ytrain, test_size=0.5, random_state=1)"
   ]
  },
  {
   "cell_type": "code",
   "execution_count": null,
   "metadata": {},
   "outputs": [],
   "source": [
    "xmeta_preds = pd.DataFrame(index=ymeta.index)\n",
    "\n",
    "# ..."
   ]
  },
  {
   "cell_type": "code",
   "execution_count": null,
   "metadata": {},
   "outputs": [],
   "source": [
    "meta_clf = DecisionTreeClassifier(max_depth=7, random_state=1)\n",
    "# ..."
   ]
  },
  {
   "cell_type": "code",
   "execution_count": null,
   "metadata": {},
   "outputs": [],
   "source": [
    "xtest_meta = pd.DataFrame(index=ytest.index)\n",
    "\n",
    "# ..."
   ]
  },
  {
   "cell_type": "code",
   "execution_count": null,
   "metadata": {},
   "outputs": [],
   "source": [
    "eval_auc(meta_clf, xtest_meta, ytest)"
   ]
  },
  {
   "cell_type": "code",
   "execution_count": null,
   "metadata": {},
   "outputs": [],
   "source": []
  }
 ],
 "metadata": {
  "kernelspec": {
   "display_name": "Python 3",
   "language": "python",
   "name": "python3"
  },
  "language_info": {
   "codemirror_mode": {
    "name": "ipython",
    "version": 3
   },
   "file_extension": ".py",
   "mimetype": "text/x-python",
   "name": "python",
   "nbconvert_exporter": "python",
   "pygments_lexer": "ipython3",
   "version": "3.6.5"
  }
 },
 "nbformat": 4,
 "nbformat_minor": 2
}
