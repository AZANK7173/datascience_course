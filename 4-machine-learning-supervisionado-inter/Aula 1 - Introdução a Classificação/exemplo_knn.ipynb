{
 "cells": [
  {
   "cell_type": "markdown",
   "metadata": {
    "colab_type": "text",
    "id": "jFzCyWhnb8m6"
   },
   "source": [
    "# PRÁTICA GUIADA: KNN\n",
    "\n",
    "## Introdução\n",
    "\n",
    "Nesta prática, a KNN será usada para resolver um problema de classificação.\n",
    "\n",
    "\n",
    "Os seguintes passos serão realizados:\n",
    "\n",
    "1. Carregar o conjunto de dados\n",
    "\n",
    "2. Preparar a matriz de recursos e o vetor de targets\n",
    "\n",
    "3. Escolher o valor ideal para o hiperparâmetro n_neighbours, utilizando VALIDAÇÃO CRUZADA\n",
    "\n",
    "4. Repetir o processo, porém, padronizando a matriz de recursos para ver os efeitos sobre o algoritmo \n",
    "\n",
    "5. Matriz de confusão"
   ]
  },
  {
   "cell_type": "markdown",
   "metadata": {
    "colab_type": "text",
    "id": "1hpN8Gk4b8m8"
   },
   "source": [
    "## 1 - Importar o conjunto de dados\n",
    "\n",
    "O conjunto de dados market.csv contém dados sobre as ações que compõem o índice S &amp; P 500 retirado do site do Yahoo Finance entre 2000 e 2001.\n",
    "\n",
    "A seguir, uma descrição das colunas:\n",
    "\n",
    "* **Lag1:** Percentage return for previous day\n",
    "* **Lag2:** Percentage return for 2 days previous\n",
    "* **Lag3:** Percentage return for 3 days previous\n",
    "* **Lag4:** Percentage return for 4 days previous\n",
    "* **Lag5:** Percentage return for 5 days previous\n",
    "* **Volume:** Volume of shares traded (number of daily shares traded in billions)\n",
    "* **Today:** Percentage return for today\n",
    "* **Direction:** A factor with levels Down and Up indicating whether the market had a positive or negative\n",
    "return on a given day\n"
   ]
  },
  {
   "cell_type": "code",
   "execution_count": 1,
   "metadata": {
    "colab": {
     "autoexec": {
      "startup": false,
      "wait_interval": 0
     }
    },
    "colab_type": "code",
    "id": "qepMyMnOb8m9"
   },
   "outputs": [],
   "source": [
    "import pandas as pd\n",
    "import numpy as np"
   ]
  },
  {
   "cell_type": "code",
   "execution_count": 2,
   "metadata": {
    "colab": {
     "autoexec": {
      "startup": false,
      "wait_interval": 0
     }
    },
    "colab_type": "code",
    "id": "y3wDs8XXb8nC"
   },
   "outputs": [],
   "source": [
    "import pandas as pd\n",
    "from sklearn.model_selection import train_test_split\n",
    "from sklearn.neighbors import KNeighborsClassifier\n",
    "from sklearn.metrics import confusion_matrix"
   ]
  },
  {
   "cell_type": "code",
   "execution_count": 3,
   "metadata": {
    "colab": {
     "autoexec": {
      "startup": false,
      "wait_interval": 0
     }
    },
    "colab_type": "code",
    "id": "b5kSse1fb8nG"
   },
   "outputs": [],
   "source": [
    "df = pd.read_csv('market.csv')"
   ]
  },
  {
   "cell_type": "code",
   "execution_count": 4,
   "metadata": {
    "colab": {
     "autoexec": {
      "startup": false,
      "wait_interval": 0
     }
    },
    "colab_type": "code",
    "id": "lDGFWOG5b8nK"
   },
   "outputs": [
    {
     "data": {
      "text/html": [
       "<div>\n",
       "<style scoped>\n",
       "    .dataframe tbody tr th:only-of-type {\n",
       "        vertical-align: middle;\n",
       "    }\n",
       "\n",
       "    .dataframe tbody tr th {\n",
       "        vertical-align: top;\n",
       "    }\n",
       "\n",
       "    .dataframe thead th {\n",
       "        text-align: right;\n",
       "    }\n",
       "</style>\n",
       "<table border=\"1\" class=\"dataframe\">\n",
       "  <thead>\n",
       "    <tr style=\"text-align: right;\">\n",
       "      <th></th>\n",
       "      <th>Lag1</th>\n",
       "      <th>Lag2</th>\n",
       "      <th>Lag3</th>\n",
       "      <th>Lag4</th>\n",
       "      <th>Lag5</th>\n",
       "      <th>Volume</th>\n",
       "      <th>Today</th>\n",
       "      <th>Direction</th>\n",
       "    </tr>\n",
       "  </thead>\n",
       "  <tbody>\n",
       "    <tr>\n",
       "      <th>323</th>\n",
       "      <td>-1.01</td>\n",
       "      <td>-1389.00</td>\n",
       "      <td>-152.00</td>\n",
       "      <td>-0.71</td>\n",
       "      <td>-0.62</td>\n",
       "      <td>1.31470</td>\n",
       "      <td>1077.0</td>\n",
       "      <td>Up</td>\n",
       "    </tr>\n",
       "    <tr>\n",
       "      <th>38</th>\n",
       "      <td>998.00</td>\n",
       "      <td>586.00</td>\n",
       "      <td>-568.00</td>\n",
       "      <td>104.00</td>\n",
       "      <td>-1431.00</td>\n",
       "      <td>1.09180</td>\n",
       "      <td>645.0</td>\n",
       "      <td>Up</td>\n",
       "    </tr>\n",
       "    <tr>\n",
       "      <th>1077</th>\n",
       "      <td>-884.00</td>\n",
       "      <td>866.00</td>\n",
       "      <td>-675.00</td>\n",
       "      <td>1974.00</td>\n",
       "      <td>-1325.00</td>\n",
       "      <td>1.95974</td>\n",
       "      <td>395.0</td>\n",
       "      <td>Up</td>\n",
       "    </tr>\n",
       "    <tr>\n",
       "      <th>701</th>\n",
       "      <td>216.00</td>\n",
       "      <td>-0.47</td>\n",
       "      <td>331.00</td>\n",
       "      <td>-1498.00</td>\n",
       "      <td>129.00</td>\n",
       "      <td>1.37180</td>\n",
       "      <td>1519.0</td>\n",
       "      <td>Up</td>\n",
       "    </tr>\n",
       "    <tr>\n",
       "      <th>446</th>\n",
       "      <td>-1063.00</td>\n",
       "      <td>1733.00</td>\n",
       "      <td>0.59</td>\n",
       "      <td>2.23</td>\n",
       "      <td>-2411.00</td>\n",
       "      <td>1.54920</td>\n",
       "      <td>672.0</td>\n",
       "      <td>Up</td>\n",
       "    </tr>\n",
       "  </tbody>\n",
       "</table>\n",
       "</div>"
      ],
      "text/plain": [
       "         Lag1     Lag2    Lag3     Lag4     Lag5   Volume   Today Direction\n",
       "323     -1.01 -1389.00 -152.00    -0.71    -0.62  1.31470  1077.0        Up\n",
       "38     998.00   586.00 -568.00   104.00 -1431.00  1.09180   645.0        Up\n",
       "1077  -884.00   866.00 -675.00  1974.00 -1325.00  1.95974   395.0        Up\n",
       "701    216.00    -0.47  331.00 -1498.00   129.00  1.37180  1519.0        Up\n",
       "446  -1063.00  1733.00    0.59     2.23 -2411.00  1.54920   672.0        Up"
      ]
     },
     "execution_count": 4,
     "metadata": {},
     "output_type": "execute_result"
    }
   ],
   "source": [
    "df.sample(5)"
   ]
  },
  {
   "cell_type": "markdown",
   "metadata": {
    "colab_type": "text",
    "id": "73GGQyPOb8nN"
   },
   "source": [
    "## 2 - Construir a matriz de recursos e o vetor de targets"
   ]
  },
  {
   "cell_type": "code",
   "execution_count": 5,
   "metadata": {
    "colab": {
     "autoexec": {
      "startup": false,
      "wait_interval": 0
     }
    },
    "colab_type": "code",
    "id": "G2eoiIEyb8nO"
   },
   "outputs": [
    {
     "data": {
      "text/plain": [
       "Index(['Lag1', 'Lag2', 'Lag3', 'Lag4', 'Lag5', 'Volume', 'Today', 'Direction'], dtype='object')"
      ]
     },
     "execution_count": 5,
     "metadata": {},
     "output_type": "execute_result"
    }
   ],
   "source": [
    "df.columns"
   ]
  },
  {
   "cell_type": "code",
   "execution_count": 6,
   "metadata": {
    "colab": {
     "autoexec": {
      "startup": false,
      "wait_interval": 0
     }
    },
    "colab_type": "code",
    "id": "Oc59oV-Kb8nR"
   },
   "outputs": [],
   "source": [
    "# Construir a matriz de recursos, subconfigurando o DataFrame para que não contenha a classe, Direction\n",
    "X = df[['Lag1', 'Lag2', 'Lag3', 'Lag4', 'Lag5']]"
   ]
  },
  {
   "cell_type": "markdown",
   "metadata": {
    "colab_type": "text",
    "id": "kIdMnMjfb8nV"
   },
   "source": [
    "#### Tornando numérico o vetor de targets\n",
    "O vetor de targets foi codificado com os valores possíveis de 'Up' ou 'Down', mas lembre-se que scikitlearn só aceita valores numéricos (mesmo que eles representem classes), portanto, sempre temos que dar uma tag numérica às classes, se aceitarem dois valores possíveis ou mais.\n",
    "Isso é feito com a classe LabelEncoder()"
   ]
  },
  {
   "cell_type": "code",
   "execution_count": 7,
   "metadata": {
    "colab": {
     "autoexec": {
      "startup": false,
      "wait_interval": 0
     }
    },
    "colab_type": "code",
    "id": "NTsXXlJIb8nW"
   },
   "outputs": [
    {
     "data": {
      "text/plain": [
       "array([1, 1, 0, ..., 1, 0, 0], dtype=int64)"
      ]
     },
     "execution_count": 7,
     "metadata": {},
     "output_type": "execute_result"
    }
   ],
   "source": [
    "# Construir o vetor de targets\n",
    "from sklearn import preprocessing\n",
    "le = preprocessing.LabelEncoder()\n",
    "y = le.fit_transform(df['Direction'])\n",
    "y"
   ]
  },
  {
   "cell_type": "markdown",
   "metadata": {
    "colab_type": "text",
    "id": "4_e93w5kb8nb"
   },
   "source": [
    "## 3 - Avaliar diferentes valores para o hiperparâmetro\n",
    "\n",
    "Agora será executado o modelo KNeighborsClassifier testando diferentes valores possíveis para o hiperparâmetro n_neighbors.\n"
   ]
  },
  {
   "cell_type": "code",
   "execution_count": 8,
   "metadata": {
    "colab": {
     "autoexec": {
      "startup": false,
      "wait_interval": 0
     }
    },
    "colab_type": "code",
    "id": "KVgZUjiHb8ne"
   },
   "outputs": [],
   "source": [
    "from sklearn.model_selection import cross_val_score\n",
    "\n",
    "# Queremos representar graficamente os diferentes valores de score de validação cruzada em função do hiperparâmetro n_neighbors\n",
    "# Para isso, gerar uma lista de dicionários que depois podem ser facilmente convertidos a DataFrame\n",
    "\n",
    "#Lista de Dicionários\n",
    "scores_para_df = []\n",
    "\n",
    "# range(1,40,5) são os valores possíveis de n_neighbors que queremos explorar. São todos os inteiros de 1\n",
    "# a 40, de 5 em 5. (Start,Stop,Step)\n",
    "for i in range(1,100,5):\n",
    "    # Em cada iteração, instanciar o modelo com um hiperparâmetro diferente\n",
    "    model = KNeighborsClassifier(n_neighbors=i)\n",
    "    \n",
    "    # cross_val_scores retorna um array de 5 resultados, um para cada partição feita automaticamente pelo CV  \n",
    "    cv_scores = cross_val_score(model, X, y, cv=5)\n",
    "    \n",
    "    # Para cada valor de n_neighbours, criar um dicionário com o valor de n_neighbours, a média e o desvio dos scores.\n",
    "    dict_row_score = {'score_medio':np.mean(cv_scores),'score_std':np.std(cv_scores),'n_neighbours':i}\n",
    "    \n",
    "    # Guardar cada um na lista de dicionários\n",
    "    scores_para_df.append(dict_row_score)"
   ]
  },
  {
   "cell_type": "code",
   "execution_count": 9,
   "metadata": {
    "colab": {
     "autoexec": {
      "startup": false,
      "wait_interval": 0
     }
    },
    "colab_type": "code",
    "id": "MEMfHPf_b8nh"
   },
   "outputs": [
    {
     "data": {
      "text/html": [
       "<div>\n",
       "<style scoped>\n",
       "    .dataframe tbody tr th:only-of-type {\n",
       "        vertical-align: middle;\n",
       "    }\n",
       "\n",
       "    .dataframe tbody tr th {\n",
       "        vertical-align: top;\n",
       "    }\n",
       "\n",
       "    .dataframe thead th {\n",
       "        text-align: right;\n",
       "    }\n",
       "</style>\n",
       "<table border=\"1\" class=\"dataframe\">\n",
       "  <thead>\n",
       "    <tr style=\"text-align: right;\">\n",
       "      <th></th>\n",
       "      <th>n_neighbours</th>\n",
       "      <th>score_medio</th>\n",
       "      <th>score_std</th>\n",
       "    </tr>\n",
       "  </thead>\n",
       "  <tbody>\n",
       "    <tr>\n",
       "      <th>0</th>\n",
       "      <td>1</td>\n",
       "      <td>0.500131</td>\n",
       "      <td>0.047463</td>\n",
       "    </tr>\n",
       "    <tr>\n",
       "      <th>1</th>\n",
       "      <td>6</td>\n",
       "      <td>0.484038</td>\n",
       "      <td>0.024568</td>\n",
       "    </tr>\n",
       "    <tr>\n",
       "      <th>2</th>\n",
       "      <td>11</td>\n",
       "      <td>0.508061</td>\n",
       "      <td>0.031359</td>\n",
       "    </tr>\n",
       "    <tr>\n",
       "      <th>3</th>\n",
       "      <td>16</td>\n",
       "      <td>0.500864</td>\n",
       "      <td>0.023810</td>\n",
       "    </tr>\n",
       "    <tr>\n",
       "      <th>4</th>\n",
       "      <td>21</td>\n",
       "      <td>0.511238</td>\n",
       "      <td>0.025397</td>\n",
       "    </tr>\n",
       "  </tbody>\n",
       "</table>\n",
       "</div>"
      ],
      "text/plain": [
       "   n_neighbours  score_medio  score_std\n",
       "0             1     0.500131   0.047463\n",
       "1             6     0.484038   0.024568\n",
       "2            11     0.508061   0.031359\n",
       "3            16     0.500864   0.023810\n",
       "4            21     0.511238   0.025397"
      ]
     },
     "execution_count": 9,
     "metadata": {},
     "output_type": "execute_result"
    }
   ],
   "source": [
    "# Criar o DataFrame a partir da lista de dicionários\n",
    "df_scores = pd.DataFrame(scores_para_df)\n",
    "df_scores.head()"
   ]
  },
  {
   "cell_type": "markdown",
   "metadata": {
    "colab_type": "text",
    "id": "oUfwmYV3b8nl"
   },
   "source": [
    "#### Representando graficamente a procura pelo melhor hiperparâmetro\n",
    "\n",
    "O valor de pontuação que utiliza KNeighborsClassifier por default é o accuracy:\n",
    "#casos bem classificados / #total.\n",
    "\n",
    "Uma vez que temos o DataFrame com o desempenho de cada valor do hiperparâmetro, fazemos um gráfico com os valores. Para ter uma ideia da dispersão, também representar graficamente as linhas que indicam um desvio padrão acima e abaixo da média\n",
    "\n",
    "\n",
    "\n"
   ]
  },
  {
   "cell_type": "code",
   "execution_count": 10,
   "metadata": {
    "colab": {
     "autoexec": {
      "startup": false,
      "wait_interval": 0
     }
    },
    "colab_type": "code",
    "id": "BXay5D-ib8nn"
   },
   "outputs": [],
   "source": [
    "df_scores['limite_inferior'] = df_scores['score_medio'] - df_scores['score_std']"
   ]
  },
  {
   "cell_type": "code",
   "execution_count": 11,
   "metadata": {
    "colab": {
     "autoexec": {
      "startup": false,
      "wait_interval": 0
     }
    },
    "colab_type": "code",
    "id": "NDJbfG_kb8nr"
   },
   "outputs": [],
   "source": [
    "df_scores['limite_superior'] = df_scores['score_medio'] + df_scores['score_std']"
   ]
  },
  {
   "cell_type": "code",
   "execution_count": 12,
   "metadata": {
    "colab": {
     "autoexec": {
      "startup": false,
      "wait_interval": 0
     }
    },
    "colab_type": "code",
    "id": "jeaEF-5zb8nu"
   },
   "outputs": [
    {
     "data": {
      "text/html": [
       "<div>\n",
       "<style scoped>\n",
       "    .dataframe tbody tr th:only-of-type {\n",
       "        vertical-align: middle;\n",
       "    }\n",
       "\n",
       "    .dataframe tbody tr th {\n",
       "        vertical-align: top;\n",
       "    }\n",
       "\n",
       "    .dataframe thead th {\n",
       "        text-align: right;\n",
       "    }\n",
       "</style>\n",
       "<table border=\"1\" class=\"dataframe\">\n",
       "  <thead>\n",
       "    <tr style=\"text-align: right;\">\n",
       "      <th></th>\n",
       "      <th>n_neighbours</th>\n",
       "      <th>score_medio</th>\n",
       "      <th>score_std</th>\n",
       "      <th>limite_inferior</th>\n",
       "      <th>limite_superior</th>\n",
       "    </tr>\n",
       "  </thead>\n",
       "  <tbody>\n",
       "    <tr>\n",
       "      <th>0</th>\n",
       "      <td>1</td>\n",
       "      <td>0.500131</td>\n",
       "      <td>0.047463</td>\n",
       "      <td>0.452668</td>\n",
       "      <td>0.547594</td>\n",
       "    </tr>\n",
       "    <tr>\n",
       "      <th>1</th>\n",
       "      <td>6</td>\n",
       "      <td>0.484038</td>\n",
       "      <td>0.024568</td>\n",
       "      <td>0.459470</td>\n",
       "      <td>0.508606</td>\n",
       "    </tr>\n",
       "    <tr>\n",
       "      <th>2</th>\n",
       "      <td>11</td>\n",
       "      <td>0.508061</td>\n",
       "      <td>0.031359</td>\n",
       "      <td>0.476702</td>\n",
       "      <td>0.539419</td>\n",
       "    </tr>\n",
       "    <tr>\n",
       "      <th>3</th>\n",
       "      <td>16</td>\n",
       "      <td>0.500864</td>\n",
       "      <td>0.023810</td>\n",
       "      <td>0.477054</td>\n",
       "      <td>0.524674</td>\n",
       "    </tr>\n",
       "    <tr>\n",
       "      <th>4</th>\n",
       "      <td>21</td>\n",
       "      <td>0.511238</td>\n",
       "      <td>0.025397</td>\n",
       "      <td>0.485841</td>\n",
       "      <td>0.536636</td>\n",
       "    </tr>\n",
       "  </tbody>\n",
       "</table>\n",
       "</div>"
      ],
      "text/plain": [
       "   n_neighbours  score_medio  score_std  limite_inferior  limite_superior\n",
       "0             1     0.500131   0.047463         0.452668         0.547594\n",
       "1             6     0.484038   0.024568         0.459470         0.508606\n",
       "2            11     0.508061   0.031359         0.476702         0.539419\n",
       "3            16     0.500864   0.023810         0.477054         0.524674\n",
       "4            21     0.511238   0.025397         0.485841         0.536636"
      ]
     },
     "execution_count": 12,
     "metadata": {},
     "output_type": "execute_result"
    }
   ],
   "source": [
    "df_scores.head()"
   ]
  },
  {
   "cell_type": "code",
   "execution_count": 13,
   "metadata": {
    "colab": {
     "autoexec": {
      "startup": false,
      "wait_interval": 0
     }
    },
    "colab_type": "code",
    "id": "Nwr4ExLab8nx"
   },
   "outputs": [
    {
     "data": {
      "image/png": "[encoded data removed]",
      "text/plain": [
       "<Figure size 432x288 with 1 Axes>"
      ]
     },
     "metadata": {},
     "output_type": "display_data"
    }
   ],
   "source": [
    "import matplotlib.pyplot as plt\n",
    "%matplotlib inline\n",
    "\n",
    "plt.plot(df_scores['n_neighbours'],df_scores['limite_inferior'],color='r')\n",
    "plt.plot(df_scores['n_neighbours'],df_scores['score_medio'],color='b')\n",
    "plt.plot(df_scores['n_neighbours'],df_scores['limite_superior'],color='r');"
   ]
  },
  {
   "cell_type": "markdown",
   "metadata": {
    "colab_type": "text",
    "id": "ssGaK_Cob8n2"
   },
   "source": [
    "## 4 - Padronização das variáveis\n",
    "\n",
    "Foi dito que o KNN é um método de Machine Learning que se baseia em medições de distância. Embora 6 de nossas 7 variáveis estejam nas mesmas unidades, uma delas não está: a variável Volume.\n",
    "\n",
    "Para dar maior interpretabilidade matemática ao processo que está sendo feito, o correto seria padronizar as variáveis para se desfazer das unidades físicas."
   ]
  },
  {
   "cell_type": "code",
   "execution_count": 14,
   "metadata": {
    "colab": {
     "autoexec": {
      "startup": false,
      "wait_interval": 0
     }
    },
    "colab_type": "code",
    "id": "_NFDEktpb8n3"
   },
   "outputs": [],
   "source": [
    "# Utilizar sklearn para padronizar a matriz de Features\n",
    "from sklearn import preprocessing\n",
    "X = df[['Lag1', 'Lag2', 'Lag3', 'Lag4', 'Lag5']]\n",
    "X = preprocessing.scale(X, axis = 0)"
   ]
  },
  {
   "cell_type": "code",
   "execution_count": 15,
   "metadata": {
    "colab": {
     "autoexec": {
      "startup": false,
      "wait_interval": 0
     }
    },
    "colab_type": "code",
    "id": "iGu3WYEtb8n6"
   },
   "outputs": [
    {
     "name": "stdout",
     "output_type": "stream",
     "text": [
      "media: 2.842170943040401e-18\n",
      "desvio: 1.0\n"
     ]
    }
   ],
   "source": [
    "# Verificar se as colunas têm média 0 e desvio 1.\n",
    "print('media:',np.mean(X[:,1]))\n",
    "print('desvio:',np.std(X[:,1]))"
   ]
  },
  {
   "cell_type": "code",
   "execution_count": 32,
   "metadata": {
    "colab": {
     "autoexec": {
      "startup": false,
      "wait_interval": 0
     }
    },
    "colab_type": "code",
    "id": "lZFghOnnb8n8"
   },
   "outputs": [],
   "source": [
    "# Calcular os scores de validação cruzada novamente, mas desta vez sobre os recursos padronizados\n",
    "from sklearn.model_selection import cross_val_score\n",
    "scores_para_df_standar = []\n",
    "for i in range(1,100,5):\n",
    "    model = KNeighborsClassifier(n_neighbors=i)\n",
    "    cv_scores = cross_val_score(model, X, y, cv=5)\n",
    "    dict_row_score = {'score_medio':np.mean(cv_scores),\n",
    "                      'score_std':np.std(cv_scores),\n",
    "                      'n_neighbours':i}\n",
    "    \n",
    "    scores_para_df_standar.append(dict_row_score)"
   ]
  },
  {
   "cell_type": "code",
   "execution_count": 33,
   "metadata": {
    "colab": {
     "autoexec": {
      "startup": false,
      "wait_interval": 0
     }
    },
    "colab_type": "code",
    "id": "dsF8C8u9b8n_"
   },
   "outputs": [
    {
     "data": {
      "text/html": [
       "<div>\n",
       "<style scoped>\n",
       "    .dataframe tbody tr th:only-of-type {\n",
       "        vertical-align: middle;\n",
       "    }\n",
       "\n",
       "    .dataframe tbody tr th {\n",
       "        vertical-align: top;\n",
       "    }\n",
       "\n",
       "    .dataframe thead th {\n",
       "        text-align: right;\n",
       "    }\n",
       "</style>\n",
       "<table border=\"1\" class=\"dataframe\">\n",
       "  <thead>\n",
       "    <tr style=\"text-align: right;\">\n",
       "      <th></th>\n",
       "      <th>n_neighbours</th>\n",
       "      <th>score_medio</th>\n",
       "      <th>score_std</th>\n",
       "    </tr>\n",
       "  </thead>\n",
       "  <tbody>\n",
       "    <tr>\n",
       "      <th>0</th>\n",
       "      <td>1</td>\n",
       "      <td>0.500131</td>\n",
       "      <td>0.047463</td>\n",
       "    </tr>\n",
       "    <tr>\n",
       "      <th>1</th>\n",
       "      <td>6</td>\n",
       "      <td>0.482438</td>\n",
       "      <td>0.024114</td>\n",
       "    </tr>\n",
       "    <tr>\n",
       "      <th>2</th>\n",
       "      <td>11</td>\n",
       "      <td>0.509667</td>\n",
       "      <td>0.034981</td>\n",
       "    </tr>\n",
       "    <tr>\n",
       "      <th>3</th>\n",
       "      <td>16</td>\n",
       "      <td>0.500064</td>\n",
       "      <td>0.024804</td>\n",
       "    </tr>\n",
       "    <tr>\n",
       "      <th>4</th>\n",
       "      <td>21</td>\n",
       "      <td>0.509638</td>\n",
       "      <td>0.027123</td>\n",
       "    </tr>\n",
       "    <tr>\n",
       "      <th>5</th>\n",
       "      <td>26</td>\n",
       "      <td>0.510477</td>\n",
       "      <td>0.032848</td>\n",
       "    </tr>\n",
       "    <tr>\n",
       "      <th>6</th>\n",
       "      <td>31</td>\n",
       "      <td>0.508022</td>\n",
       "      <td>0.025608</td>\n",
       "    </tr>\n",
       "    <tr>\n",
       "      <th>7</th>\n",
       "      <td>36</td>\n",
       "      <td>0.517648</td>\n",
       "      <td>0.036809</td>\n",
       "    </tr>\n",
       "    <tr>\n",
       "      <th>8</th>\n",
       "      <td>41</td>\n",
       "      <td>0.536032</td>\n",
       "      <td>0.016335</td>\n",
       "    </tr>\n",
       "    <tr>\n",
       "      <th>9</th>\n",
       "      <td>46</td>\n",
       "      <td>0.540807</td>\n",
       "      <td>0.021747</td>\n",
       "    </tr>\n",
       "  </tbody>\n",
       "</table>\n",
       "</div>"
      ],
      "text/plain": [
       "   n_neighbours  score_medio  score_std\n",
       "0             1     0.500131   0.047463\n",
       "1             6     0.482438   0.024114\n",
       "2            11     0.509667   0.034981\n",
       "3            16     0.500064   0.024804\n",
       "4            21     0.509638   0.027123\n",
       "5            26     0.510477   0.032848\n",
       "6            31     0.508022   0.025608\n",
       "7            36     0.517648   0.036809\n",
       "8            41     0.536032   0.016335\n",
       "9            46     0.540807   0.021747"
      ]
     },
     "execution_count": 33,
     "metadata": {},
     "output_type": "execute_result"
    }
   ],
   "source": [
    "df_scores_standar = pd.DataFrame(scores_para_df_standar)\n",
    "df_scores_standar.head(10)"
   ]
  },
  {
   "cell_type": "code",
   "execution_count": 18,
   "metadata": {
    "colab": {
     "autoexec": {
      "startup": false,
      "wait_interval": 0
     }
    },
    "colab_type": "code",
    "id": "xBVaAOZ8b8oC"
   },
   "outputs": [],
   "source": [
    "# Criar os limites para representação gráfica novamente\n",
    "df_scores_standar['limite_superior'] = df_scores_standar['score_medio'] + df_scores_standar['score_std']\n",
    "df_scores_standar['limite_inferior'] = df_scores_standar['score_medio'] - df_scores_standar['score_std']"
   ]
  },
  {
   "cell_type": "code",
   "execution_count": 19,
   "metadata": {
    "colab": {
     "autoexec": {
      "startup": false,
      "wait_interval": 0
     }
    },
    "colab_type": "code",
    "id": "sQH0L8wjb8oF"
   },
   "outputs": [
    {
     "data": {
      "image/png": "[encoded data removed]",
      "text/plain": [
       "<Figure size 432x288 with 1 Axes>"
      ]
     },
     "metadata": {},
     "output_type": "display_data"
    }
   ],
   "source": [
    "# Buscar graficamente o valor ideal para n_neighbors\n",
    "import matplotlib.pyplot as plt\n",
    "%matplotlib inline\n",
    "\n",
    "plt.plot(df_scores_standar['n_neighbours'],df_scores_standar['limite_inferior'],color='r')\n",
    "plt.plot(df_scores_standar['n_neighbours'],df_scores_standar['score_medio'],color='b')\n",
    "plt.plot(df_scores_standar['n_neighbours'],df_scores_standar['limite_superior'],color='r');"
   ]
  },
  {
   "cell_type": "markdown",
   "metadata": {
    "colab_type": "text",
    "id": "7X8OB_clb8oI"
   },
   "source": [
    "#### Avaliando os resultados\n",
    "\n",
    "Neste caso, vemos que a padronização não gera nenhuma alteração significativa nos resultados do modelo\n",
    "Por que observamos isso?\n",
    "Porque neste modelo todas as variáveis são expressas nas mesmas unidades, por isso, não é necessário redimensionar cada um dos componentes para construir uma matriz de distância que faça sentido."
   ]
  },
  {
   "cell_type": "markdown",
   "metadata": {
    "colab_type": "text",
    "id": "MmJ4OGstb8oK"
   },
   "source": [
    "## 5 - Matriz de confusão\n",
    "\n",
    "Agora que foi decidido qual é o melhor pré-processamento e o melhor valor possível para os hiperparâmetros, é possível treinar um modelo com esses critérios para obter uma matriz de confusão sobre os dados não observados. \n",
    "\n",
    "### 5.1- Pré-processamento dos dados\n",
    "(Repetir os passos acima apenas para tornar todo o processo mais claro)"
   ]
  },
  {
   "cell_type": "code",
   "execution_count": 20,
   "metadata": {
    "colab": {
     "autoexec": {
      "startup": false,
      "wait_interval": 0
     }
    },
    "colab_type": "code",
    "id": "0A6Ryr0Qb8oK"
   },
   "outputs": [],
   "source": [
    "# Matriz de features\n",
    "X = df[['Lag1', 'Lag2', 'Lag3', 'Lag4', 'Lag5']]\n",
    "X = preprocessing.scale(X, axis = 0)\n",
    "\n",
    "# Vetor de targets\n",
    "le = preprocessing.LabelEncoder()\n",
    "y = le.fit_transform(df['Direction'])"
   ]
  },
  {
   "cell_type": "markdown",
   "metadata": {
    "colab_type": "text",
    "id": "eYwndLlyb8oN"
   },
   "source": [
    "### 5.2- Split train-test\n",
    "\n",
    "Já sabendo qual é o melhor modelo, queremos obter uma matriz de confusão. Fazer um novo split train-test porque sempre queremos avaliar onde o modelo faz previsões corretas e onde ele comete erros ** sobre dados não observados ou seja, novos dados **"
   ]
  },
  {
   "cell_type": "code",
   "execution_count": 21,
   "metadata": {
    "colab": {
     "autoexec": {
      "startup": false,
      "wait_interval": 0
     }
    },
    "colab_type": "code",
    "id": "aDqKwgnPb8oO"
   },
   "outputs": [],
   "source": [
    "from sklearn.model_selection import train_test_split\n",
    "X_train, X_test, y_train, y_test = train_test_split(X,y)"
   ]
  },
  {
   "cell_type": "code",
   "execution_count": 26,
   "metadata": {
    "colab": {
     "autoexec": {
      "startup": false,
      "wait_interval": 0
     }
    },
    "colab_type": "code",
    "id": "OTnGEUa_b8oS"
   },
   "outputs": [
    {
     "data": {
      "text/plain": [
       "KNeighborsClassifier(algorithm='auto', leaf_size=30, metric='minkowski',\n",
       "           metric_params=None, n_jobs=1, n_neighbors=51, p=2,\n",
       "           weights='uniform')"
      ]
     },
     "execution_count": 26,
     "metadata": {},
     "output_type": "execute_result"
    }
   ],
   "source": [
    "# Escolher o modelo ideal que foi indicado pela validação cruzada\n",
    "model = KNeighborsClassifier(n_neighbors=51)\n",
    "\n",
    "# Ajustá-lo sobre os dados de treinamento\n",
    "model.fit(X_train,y_train)"
   ]
  },
  {
   "cell_type": "code",
   "execution_count": 27,
   "metadata": {
    "colab": {
     "autoexec": {
      "startup": false,
      "wait_interval": 0
     }
    },
    "colab_type": "code",
    "id": "Mepx-39Yb8oV"
   },
   "outputs": [],
   "source": [
    "# Ele é utilizado para prever em teste\n",
    "y_pred = model.predict(X_test)"
   ]
  },
  {
   "cell_type": "code",
   "execution_count": 24,
   "metadata": {
    "colab": {
     "autoexec": {
      "startup": false,
      "wait_interval": 0
     }
    },
    "colab_type": "code",
    "id": "ZSfeFGulb8oY"
   },
   "outputs": [
    {
     "data": {
      "text/plain": [
       "array([[71, 85],\n",
       "       [60, 97]], dtype=int64)"
      ]
     },
     "execution_count": 24,
     "metadata": {},
     "output_type": "execute_result"
    }
   ],
   "source": [
    "# Elaborar a matriz de confusão:\n",
    "from sklearn.metrics import confusion_matrix\n",
    "confusion_matrix(y_test, y_pred)"
   ]
  },
  {
   "cell_type": "code",
   "execution_count": 28,
   "metadata": {},
   "outputs": [
    {
     "data": {
      "text/plain": [
       "array([[ 59,  91],\n",
       "       [ 56, 107]], dtype=int64)"
      ]
     },
     "execution_count": 28,
     "metadata": {},
     "output_type": "execute_result"
    }
   ],
   "source": [
    "# Elaborar a matriz de confusão:\n",
    "from sklearn.metrics import confusion_matrix\n",
    "confusion_matrix(y_test, y_pred)"
   ]
  },
  {
   "cell_type": "code",
   "execution_count": 25,
   "metadata": {
    "colab": {
     "autoexec": {
      "startup": false,
      "wait_interval": 0
     }
    },
    "colab_type": "code",
    "id": "oFi0cfjmb8oa"
   },
   "outputs": [
    {
     "data": {
      "image/png": "[encoded data removed]",
      "text/plain": [
       "<Figure size 432x288 with 2 Axes>"
      ]
     },
     "metadata": {},
     "output_type": "display_data"
    }
   ],
   "source": [
    "import seaborn as sns\n",
    "sns.heatmap(confusion_matrix(y_test, y_pred), annot=True)\n",
    "plt.ylabel('Verdadeiros')\n",
    "plt.xlabel('Previstos');"
   ]
  },
  {
   "cell_type": "code",
   "execution_count": 26,
   "metadata": {
    "colab": {
     "autoexec": {
      "startup": false,
      "wait_interval": 0
     }
    },
    "colab_type": "code",
    "id": "tAh_u_iCb8of"
   },
   "outputs": [
    {
     "data": {
      "text/plain": [
       "array(['Down', 'Up'], dtype=object)"
      ]
     },
     "execution_count": 26,
     "metadata": {},
     "output_type": "execute_result"
    }
   ],
   "source": [
    "# Lembrar dos valores dos rótulos que foram criados com o método LabelEncoder()\n",
    "le.classes_"
   ]
  },
  {
   "cell_type": "markdown",
   "metadata": {
    "colab_type": "text",
    "id": "0PDwUr2ob8oh"
   },
   "source": [
    "Conclusão: Não parece ser fácil prever a evolução das ações com base nos recursos utilizados. O modelo tem um viés para prever que as ações vão subir. "
   ]
  }
 ],
 "metadata": {
  "colab": {
   "default_view": {},
   "name": "Práctica Guiada Intro a Clasificación (KNN)_pt_br.ipynb",
   "provenance": [],
   "version": "0.3.2",
   "views": {}
  },
  "kernelspec": {
   "display_name": "Python 3",
   "language": "python",
   "name": "python3"
  },
  "language_info": {
   "codemirror_mode": {
    "name": "ipython",
    "version": 3
   },
   "file_extension": ".py",
   "mimetype": "text/x-python",
   "name": "python",
   "nbconvert_exporter": "python",
   "pygments_lexer": "ipython3",
   "version": "3.6.5"
  }
 },
 "nbformat": 4,
 "nbformat_minor": 1
}
