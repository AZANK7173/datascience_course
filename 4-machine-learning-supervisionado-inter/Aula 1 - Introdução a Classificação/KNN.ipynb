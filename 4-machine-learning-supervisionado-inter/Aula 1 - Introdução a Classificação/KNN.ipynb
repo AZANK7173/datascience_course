{
 "cells": [
  {
   "cell_type": "markdown",
   "metadata": {},
   "source": [
    "# Introdução ao KNN\n",
    "A idéia por trás do kNN é que pontos de dados semelhantes devem ter a mesma classe, pelo menos na maioria das vezes. Esse método é muito intuitivo e já provou em muitos domínios, incluindo sistemas de recomendação, detecção de anomalias e classificação de imagens / textos.\n",
    "\n",
    "Por exemplo, considere um caso em que você deseja classificar uma imagem como um dos 2000 tipos possíveis, como \"pessoa\", \"animal\", \"ao ar livre\", \"oceano\", \"pôr do sol\" e assim por diante. Dada uma função de distância adequada entre as imagens, a classificação de uma imagem não rotulada pode ser determinada pelas etiquetas atribuídas aos seus vizinhos mais próximos, ou seja, as imagens rotuladas que estão mais próximas a ela, de acordo com a função de distância.\n",
    "\n",
    "\n",
    "### Prós\n",
    "\n",
    "**Qualidade de previsão** : Um classificador kNN é capaz de recuperar partições não estruturadas do espaço, ao contrário de, digamos, um classificador linear que requer uma separação linear entre as classes. Ele também pode se adaptar a diferentes densidades no espaço, tornando-o mais robusto do que métodos lineares. Os dois exemplos de dados 2D a seguir ilustram diferentes partições do espaço impostas por dados rotulados e a previsão de um modelo kNN nesse espaço.\n",
    "\n",
    "<img src=\"img/sagemaker-knn-1.gif\">\n",
    "\n",
    "\n",
    "**Ciclos curtos** : Outra vantagem do kNN é que há pouco ou nenhum treinamento envolvido. Isso significa que iterar sobre diferentes métricas / modificações possíveis do conjunto de dados de entrada é potencialmente mais rápido quando comparado a um classificador que requer um procedimento de treinamento pesado, como redes neurais profundas, ou mesmo funções SVM.\n",
    "\n",
    "**Muitas classes de saída** : o kNN pode manipular facilmente um grande número de classes. Para comparação, um modelo linear ou uma rede neural profunda com  deve calcular explicitamente uma pontuação para cada classe possível e escolher a melhor. Imagine, por exemplo, uma tarefa de reconhecer tipos de flores por sua imagem ou por um conjunto de suas características, para as quais temos 100 mil exemplos de características e 5 mil exemplos de tipos de flores. Qualquer modelo que aprenda explicitamente 5mil conjuntos de parâmetros para identificar cada tipo de flor pode ser facilmente propenso a overfiting, o que significa que pode produzir respostas erradas.\n",
    "\n",
    "**Interpretabilidade** : A previsão de um modelo kNN é baseada na similaridade aos objetos existentes. Como resultado, a pergunta “por que meu exemplo recebeu a classe X?” É respondida assim: “porque itens semelhantes são rotulados com X.” Por exemplo, considere um modelo que avalie o risco envolvido com um empréstimo. No exemplo, um cliente foi considerado de alto risco porque 8 de 10 clientes que foram avaliados anteriormente e eram mais semelhantes a eles em termos de X, Y e Z, foram considerados de alto risco. Ao observar os vizinhos mais próximos, você pode ver objetos semelhantes ao exemplo que são rotulados como X, e você pode decidir se a previsão faz sentido.\n",
    "\n",
    "### Contras\n",
    "\n",
    "**Predição custosa**: A principal desvantagem do kNN é sua inferência cara. Para inferir o rótulo de uma consulta de entrada, precisamos encontrar os pontos de dados mais próximos a ela. Uma solução ingênua manteria todos os pontos de dados na memória e, dada uma consulta, calcularia a distância entre ela e todos os pontos de dados. Para quantidades concretas, se o conjunto de treinamento continha n pontos de dados de d dimensões, este processo requer operações aritméticas nd."
   ]
  },
  {
   "cell_type": "markdown",
   "metadata": {},
   "source": [
    "# HandsOn\n",
    "\n",
    "Vamos usar o dataset sobre os jogadores da NBA em 2013 para prever seus pontos em 2014 utilizando KNN.\n",
    "\n",
    "Antes de começarmos algumas informações das colunas.\n",
    "\n",
    "    player - nome do jogador\n",
    "    pos - a posição do jogador\n",
    "    g - número de jogos em que o jogador estava\n",
    "    gs - número de jogos que o jogador iniciou\n",
    "    pts - total de pontos que o jogador marcou\n",
    "    \n",
    "Há muito mais colunas nos dados, a maioria contendo informações sobre o desempenho médio dos jogadores durante a temporada. \n",
    "\n",
    "Veja este site para uma explicação sobre o resto deles: https://www.rotowire.com/"
   ]
  },
  {
   "cell_type": "code",
   "execution_count": 1,
   "metadata": {},
   "outputs": [
    {
     "name": "stdout",
     "output_type": "stream",
     "text": [
      "(481, 31)\n"
     ]
    },
    {
     "data": {
      "text/html": [
       "<div>\n",
       "<style scoped>\n",
       "    .dataframe tbody tr th:only-of-type {\n",
       "        vertical-align: middle;\n",
       "    }\n",
       "\n",
       "    .dataframe tbody tr th {\n",
       "        vertical-align: top;\n",
       "    }\n",
       "\n",
       "    .dataframe thead th {\n",
       "        text-align: right;\n",
       "    }\n",
       "</style>\n",
       "<table border=\"1\" class=\"dataframe\">\n",
       "  <thead>\n",
       "    <tr style=\"text-align: right;\">\n",
       "      <th></th>\n",
       "      <th>player</th>\n",
       "      <th>pos</th>\n",
       "      <th>age</th>\n",
       "      <th>bref_team_id</th>\n",
       "      <th>g</th>\n",
       "      <th>gs</th>\n",
       "      <th>mp</th>\n",
       "      <th>fg</th>\n",
       "      <th>fga</th>\n",
       "      <th>fg.</th>\n",
       "      <th>...</th>\n",
       "      <th>drb</th>\n",
       "      <th>trb</th>\n",
       "      <th>ast</th>\n",
       "      <th>stl</th>\n",
       "      <th>blk</th>\n",
       "      <th>tov</th>\n",
       "      <th>pf</th>\n",
       "      <th>pts</th>\n",
       "      <th>season</th>\n",
       "      <th>season_end</th>\n",
       "    </tr>\n",
       "  </thead>\n",
       "  <tbody>\n",
       "    <tr>\n",
       "      <th>0</th>\n",
       "      <td>Quincy Acy</td>\n",
       "      <td>SF</td>\n",
       "      <td>23</td>\n",
       "      <td>TOT</td>\n",
       "      <td>63</td>\n",
       "      <td>0</td>\n",
       "      <td>847</td>\n",
       "      <td>66</td>\n",
       "      <td>141</td>\n",
       "      <td>0.468</td>\n",
       "      <td>...</td>\n",
       "      <td>144</td>\n",
       "      <td>216</td>\n",
       "      <td>28</td>\n",
       "      <td>23</td>\n",
       "      <td>26</td>\n",
       "      <td>30</td>\n",
       "      <td>122</td>\n",
       "      <td>171</td>\n",
       "      <td>2013-2014</td>\n",
       "      <td>2013</td>\n",
       "    </tr>\n",
       "    <tr>\n",
       "      <th>1</th>\n",
       "      <td>Steven Adams</td>\n",
       "      <td>C</td>\n",
       "      <td>20</td>\n",
       "      <td>OKC</td>\n",
       "      <td>81</td>\n",
       "      <td>20</td>\n",
       "      <td>1197</td>\n",
       "      <td>93</td>\n",
       "      <td>185</td>\n",
       "      <td>0.503</td>\n",
       "      <td>...</td>\n",
       "      <td>190</td>\n",
       "      <td>332</td>\n",
       "      <td>43</td>\n",
       "      <td>40</td>\n",
       "      <td>57</td>\n",
       "      <td>71</td>\n",
       "      <td>203</td>\n",
       "      <td>265</td>\n",
       "      <td>2013-2014</td>\n",
       "      <td>2013</td>\n",
       "    </tr>\n",
       "    <tr>\n",
       "      <th>2</th>\n",
       "      <td>Jeff Adrien</td>\n",
       "      <td>PF</td>\n",
       "      <td>27</td>\n",
       "      <td>TOT</td>\n",
       "      <td>53</td>\n",
       "      <td>12</td>\n",
       "      <td>961</td>\n",
       "      <td>143</td>\n",
       "      <td>275</td>\n",
       "      <td>0.520</td>\n",
       "      <td>...</td>\n",
       "      <td>204</td>\n",
       "      <td>306</td>\n",
       "      <td>38</td>\n",
       "      <td>24</td>\n",
       "      <td>36</td>\n",
       "      <td>39</td>\n",
       "      <td>108</td>\n",
       "      <td>362</td>\n",
       "      <td>2013-2014</td>\n",
       "      <td>2013</td>\n",
       "    </tr>\n",
       "    <tr>\n",
       "      <th>3</th>\n",
       "      <td>Arron Afflalo</td>\n",
       "      <td>SG</td>\n",
       "      <td>28</td>\n",
       "      <td>ORL</td>\n",
       "      <td>73</td>\n",
       "      <td>73</td>\n",
       "      <td>2552</td>\n",
       "      <td>464</td>\n",
       "      <td>1011</td>\n",
       "      <td>0.459</td>\n",
       "      <td>...</td>\n",
       "      <td>230</td>\n",
       "      <td>262</td>\n",
       "      <td>248</td>\n",
       "      <td>35</td>\n",
       "      <td>3</td>\n",
       "      <td>146</td>\n",
       "      <td>136</td>\n",
       "      <td>1330</td>\n",
       "      <td>2013-2014</td>\n",
       "      <td>2013</td>\n",
       "    </tr>\n",
       "    <tr>\n",
       "      <th>4</th>\n",
       "      <td>Alexis Ajinca</td>\n",
       "      <td>C</td>\n",
       "      <td>25</td>\n",
       "      <td>NOP</td>\n",
       "      <td>56</td>\n",
       "      <td>30</td>\n",
       "      <td>951</td>\n",
       "      <td>136</td>\n",
       "      <td>249</td>\n",
       "      <td>0.546</td>\n",
       "      <td>...</td>\n",
       "      <td>183</td>\n",
       "      <td>277</td>\n",
       "      <td>40</td>\n",
       "      <td>23</td>\n",
       "      <td>46</td>\n",
       "      <td>63</td>\n",
       "      <td>187</td>\n",
       "      <td>328</td>\n",
       "      <td>2013-2014</td>\n",
       "      <td>2013</td>\n",
       "    </tr>\n",
       "  </tbody>\n",
       "</table>\n",
       "<p>5 rows × 31 columns</p>\n",
       "</div>"
      ],
      "text/plain": [
       "          player pos  age bref_team_id   g  gs    mp   fg   fga    fg.  \\\n",
       "0     Quincy Acy  SF   23          TOT  63   0   847   66   141  0.468   \n",
       "1   Steven Adams   C   20          OKC  81  20  1197   93   185  0.503   \n",
       "2    Jeff Adrien  PF   27          TOT  53  12   961  143   275  0.520   \n",
       "3  Arron Afflalo  SG   28          ORL  73  73  2552  464  1011  0.459   \n",
       "4  Alexis Ajinca   C   25          NOP  56  30   951  136   249  0.546   \n",
       "\n",
       "      ...      drb  trb  ast  stl  blk  tov   pf   pts     season  season_end  \n",
       "0     ...      144  216   28   23   26   30  122   171  2013-2014        2013  \n",
       "1     ...      190  332   43   40   57   71  203   265  2013-2014        2013  \n",
       "2     ...      204  306   38   24   36   39  108   362  2013-2014        2013  \n",
       "3     ...      230  262  248   35    3  146  136  1330  2013-2014        2013  \n",
       "4     ...      183  277   40   23   46   63  187   328  2013-2014        2013  \n",
       "\n",
       "[5 rows x 31 columns]"
      ]
     },
     "execution_count": 1,
     "metadata": {},
     "output_type": "execute_result"
    }
   ],
   "source": [
    "import pandas as pd\n",
    "\n",
    "nba = pd.read_csv('nba_2013.csv')\n",
    "print(nba.shape)\n",
    "nba.head()"
   ]
  },
  {
   "cell_type": "markdown",
   "metadata": {},
   "source": [
    "**Visão geral da KNN**\n",
    "\n",
    "O algoritmo de k vizinhos mais próximos baseia-se na ideia simples de prever valores desconhecidos, combinando-os com os valores conhecidos mais semelhantes.\n",
    "\n",
    "Vamos dizer que temos 3 tipos diferentes de carros. Sabemos o nome do carro, sua potência, se tem listras ou não, e se é ou não rápido:\n",
    "\n",
    "    car,horsepower,racing_stripes,is_fast\n",
    "    Honda Accord,180,False,False\n",
    "    Yugo,500,True,True\n",
    "    Delorean DMC-12,200,True,True\n",
    "    \n",
    "Digamos que agora temos outro carro, mas não sabemos o quão rápido é:\n",
    "\n",
    "    car,horsepower,racing_stripes,is_fast\n",
    "    Chevrolet Camaro,400,True,Unknown\n",
    "    \n",
    "Queremos descobrir se o carro é rápido ou não. Para prever se é com k vizinhos mais próximos, primeiro encontramos o carro conhecido mais similar. Nesse caso, comparamos os valores horsepowere racing_stripespara encontrar o carro mais parecido, que é o Yugo. Como o Yugo é rápido, nós preveríamos que o Camaro também é rápido. Este é um exemplo de 1 vizinho mais próximo - nós olhamos apenas para o carro mais similar, dando-nos um k de 1.\n",
    "\n",
    "Se nós executássemos os 2 vizinhos mais próximos, acabaríamos com 2 Truevalores (para o Delorean e o Yugo), o que significaria média para True. O Delorean e Yugo são os dois carros mais parecidos, nos dando um k de 2.\n",
    "\n",
    "Se fizéssemos 3 vizinhos mais próximos, acabaríamos com 2 Truevalores e um Falsevalor, o que significaria média para True.\n",
    "\n",
    "O número de vizinhos que usamos para os k vizinhos mais próximos (k) pode ser qualquer valor menor que o número de linhas em nosso conjunto de dados. Na prática, observar apenas alguns vizinhos faz com que o algoritmo tenha um melhor desempenho, porque quanto menos semelhantes os vizinhos forem aos nossos dados, pior será a previsão."
   ]
  },
  {
   "cell_type": "markdown",
   "metadata": {},
   "source": [
    "**Distância euclidiana**\n",
    "\n",
    "Antes de podermos prever usando o KNN, precisamos encontrar alguma maneira de descobrir quais linhas de dados estão \"mais próximas\" da linha que estamos tentando prever.\n",
    "\n",
    "<img src='img/347a4b535ffd805ffdf332e51905bcdf4764f663.svg'>\n",
    "\n",
    "Digamos que temos essas duas linhas e queremos encontrar a distância entre elas:\n",
    "\n",
    "    car,horsepower,is_fast\n",
    "    Honda Accord,180,0\n",
    "    Chevrolet Camaro,400,1\n",
    "    \n",
    "Primeiro, selecionamos apenas as colunas numéricas. Então a distância se torna:\n",
    "\n",
    "$\\sqrt {(400-180)^ 2 + (1-0)^2 } = 220$\n",
    "\n",
    "\n",
    "Podemos usar o princípio da distância euclidiana para encontrar os jogadores mais similares da NBA para **Lebron James**."
   ]
  },
  {
   "cell_type": "code",
   "execution_count": 2,
   "metadata": {},
   "outputs": [],
   "source": [
    "    \n",
    "# Seleciona o mito\n",
    "selected_player = nba[nba[\"player\"] == \"LeBron James\"].iloc[0]\n",
    "\n",
    "# Escolhe as variáveis numéricas para calcularmos a distância.\n",
    "distance_columns = ['age', 'g', 'gs', 'mp', 'fg', 'fga', 'fg.', 'x3p', 'x3pa', 'x3p.', 'x2p', 'x2pa', 'x2p.', 'efg.', 'ft', 'fta', 'ft.', 'orb', 'drb', 'trb', 'ast', 'stl', 'blk', 'tov', 'pf', 'pts']\n",
    "\n",
    "\n"
   ]
  },
  {
   "cell_type": "code",
   "execution_count": 3,
   "metadata": {},
   "outputs": [],
   "source": [
    "import math\n",
    "def euclidean_distance(row):\n",
    "    inner_value=0\n",
    "    for k in distance_columns:\n",
    "        inner_value += (row[k] - selected_player[k]) ** 2\n",
    "    return math.sqrt(inner_value)"
   ]
  },
  {
   "cell_type": "code",
   "execution_count": 4,
   "metadata": {},
   "outputs": [
    {
     "data": {
      "text/plain": [
       "0    3475.792868\n",
       "1            NaN\n",
       "2            NaN\n",
       "3    1189.554979\n",
       "4    3216.773098\n",
       "5            NaN\n",
       "6     960.443178\n",
       "7    3131.071083\n",
       "8    2326.129199\n",
       "9    2806.955657\n",
       "dtype: float64"
      ]
     },
     "execution_count": 4,
     "metadata": {},
     "output_type": "execute_result"
    }
   ],
   "source": [
    "# Calculamos a distância de cada jogador em relação ao lebron\n",
    "lebron_distance = nba.apply(euclidean_distance, axis=1)\n",
    "lebron_distance[:10]"
   ]
  },
  {
   "cell_type": "markdown",
   "metadata": {},
   "source": [
    "**Colunas de normalização**\n",
    "\n",
    "Você deve ter notado que horsepower no exemplo dos carros teve um impacto muito maior na distância final do que racing_stripes. Isso ocorre porque os valores para horsepower são muito maiores em termos absolutos e, portanto, diminuem o impacto dos racing_stripes nos cálculos de distâncias (no caso euclidiano).\n",
    "\n",
    "Isso pode ser ruim, porque uma variável com valores maiores não necessariamente melhora a previsão de quais linhas são semelhantes.\n",
    "\n",
    "Uma maneira simples de lidar com isso é normalizar todas as colunas para ter uma média de 0 e um desvio padrão de 1. Isso garantirá que nenhuma coluna individual tenha um impacto dominante nos cálculos de distância euclideana.\n",
    "\n",
    "Para definir a média como 0, temos que encontrar a média de uma coluna e, em seguida, subtrair a média de todos os valores da coluna. Para definir o desvio padrão para 1, dividimos todos os valores na coluna pelo desvio padrão. A fórmula é \n",
    "\n",
    "$$x_n = \\frac {x- \\mu} {\\sigma}$$"
   ]
  },
  {
   "cell_type": "code",
   "execution_count": 5,
   "metadata": {},
   "outputs": [],
   "source": [
    "# Seleciona variáveis numéricas\n",
    "nba_numeric = nba[distance_columns]\n",
    "\n",
    "# Normaliza\n",
    "nba_normalized = (nba_numeric - nba_numeric.mean()) / nba_numeric.std()"
   ]
  },
  {
   "cell_type": "markdown",
   "metadata": {},
   "source": [
    "**Encontrando o vizinho mais próximo**\n",
    "\n",
    "Agora sabemos o suficiente para encontrar o vizinho mais próximo de uma determinada linha no conjunto de dados da NBA. Podemos usar a distance euclidean (função dentro da classe spatial do módulo scipy), uma maneira muito mais rápida de calcular a distância euclidiana."
   ]
  },
  {
   "cell_type": "code",
   "execution_count": 7,
   "metadata": {},
   "outputs": [],
   "source": [
    "from scipy.spatial import distance\n",
    "\n",
    "# Primeiro vamos substituir todos os nulos por zero.\n",
    "nba_normalized.fillna(0, inplace=True)\n",
    "\n",
    "# Agora vamos selecionar a linha com os dados do lebron\n",
    "lebron_normalized = nba_normalized[nba[\"player\"] == \"LeBron James\"]\n",
    "\n",
    "# Agora calculamos a distância entre lembrom e os outros jogadores\n",
    "# Obs: Aqui usamos uma função implicita lambda:\n",
    "# https://medium.com/@otaviobn/entendendo-as-fun%C3%A7%C3%B5es-lambda-no-python-cbe3c5abb179\n",
    "euclidean_distances = nba_normalized.apply(lambda row: distance.euclidean(row, lebron_normalized), axis=1)\n",
    "\n",
    "# Passamos as distâncias calculadas para um dataframe.\n",
    "distance_frame = pd.DataFrame(data={\"dist\": euclidean_distances,\n",
    "                                        \"idx\": euclidean_distances.index})"
   ]
  },
  {
   "cell_type": "code",
   "execution_count": 8,
   "metadata": {},
   "outputs": [],
   "source": [
    "# Agora vamos ordenar os dados dos mais parecidos (menor distância) para os menos parecidos.\n",
    "distance_frame.sort_values(\"dist\", inplace=True)"
   ]
  },
  {
   "cell_type": "code",
   "execution_count": 9,
   "metadata": {},
   "outputs": [
    {
     "data": {
      "text/html": [
       "<div>\n",
       "<style scoped>\n",
       "    .dataframe tbody tr th:only-of-type {\n",
       "        vertical-align: middle;\n",
       "    }\n",
       "\n",
       "    .dataframe tbody tr th {\n",
       "        vertical-align: top;\n",
       "    }\n",
       "\n",
       "    .dataframe thead th {\n",
       "        text-align: right;\n",
       "    }\n",
       "</style>\n",
       "<table border=\"1\" class=\"dataframe\">\n",
       "  <thead>\n",
       "    <tr style=\"text-align: right;\">\n",
       "      <th></th>\n",
       "      <th>dist</th>\n",
       "      <th>idx</th>\n",
       "    </tr>\n",
       "  </thead>\n",
       "  <tbody>\n",
       "    <tr>\n",
       "      <th>225</th>\n",
       "      <td>0.000000</td>\n",
       "      <td>225</td>\n",
       "    </tr>\n",
       "    <tr>\n",
       "      <th>17</th>\n",
       "      <td>4.171854</td>\n",
       "      <td>17</td>\n",
       "    </tr>\n",
       "    <tr>\n",
       "      <th>136</th>\n",
       "      <td>4.206786</td>\n",
       "      <td>136</td>\n",
       "    </tr>\n",
       "    <tr>\n",
       "      <th>128</th>\n",
       "      <td>4.382582</td>\n",
       "      <td>128</td>\n",
       "    </tr>\n",
       "    <tr>\n",
       "      <th>185</th>\n",
       "      <td>4.489928</td>\n",
       "      <td>185</td>\n",
       "    </tr>\n",
       "  </tbody>\n",
       "</table>\n",
       "</div>"
      ],
      "text/plain": [
       "         dist  idx\n",
       "225  0.000000  225\n",
       "17   4.171854   17\n",
       "136  4.206786  136\n",
       "128  4.382582  128\n",
       "185  4.489928  185"
      ]
     },
     "execution_count": 9,
     "metadata": {},
     "output_type": "execute_result"
    }
   ],
   "source": [
    "distance_frame.head()"
   ]
  },
  {
   "cell_type": "code",
   "execution_count": 10,
   "metadata": {},
   "outputs": [
    {
     "data": {
      "text/plain": [
       "'Carmelo Anthony'"
      ]
     },
     "execution_count": 10,
     "metadata": {},
     "output_type": "execute_result"
    }
   ],
   "source": [
    "second_smallest = distance_frame.iloc[1][\"idx\"]\n",
    "most_similar_to_lebron = nba.loc[int(second_smallest)][\"player\"]\n",
    "most_similar_to_lebron"
   ]
  },
  {
   "cell_type": "markdown",
   "metadata": {},
   "source": [
    "**Gerando conjuntos de treinamento e testes**\n",
    "\n",
    "Agora que sabemos como encontrar os vizinhos mais próximos, podemos fazer previsões em um conjunto de testes. Vamos tentar prever quantos pontos um jogador marcou usando os 5vizinhos mais próximos. Encontraremos os vizinhos usando todas as colunas numéricas no conjunto de dados para gerar pontuações de similaridade.\n",
    "\n",
    "Primeiro, temos que gerar conjuntos de teste e treinamento. Para fazer isso, usaremos amostragem aleatória. Iremos aleatoriamente o índice do nbadataframe e, em seguida, escolheremos as linhas usando os valores aleatoriamente aleatórios.\n",
    "\n",
    "Se não fizéssemos isso, acabaríamos prevendo e treinando no mesmo conjunto de dados, o que seria ótimo. Poderíamos fazer a validação cruzada também, o que seria um pouco melhor, mas um pouco mais complexo.\n",
    "\n"
   ]
  },
  {
   "cell_type": "code",
   "execution_count": 16,
   "metadata": {},
   "outputs": [],
   "source": [
    "# Colunas com nossas features (nossos Xs)\n",
    "x_columns = ['age', 'g', 'gs', 'mp', 'fg', 'fga', 'fg.', 'x3p', 'x3pa', 'x3p.', 'x2p', 'x2pa', 'x2p.', 'efg.', 'ft', 'fta', 'ft.', 'orb', 'drb', 'trb', 'ast', 'stl', 'blk', 'tov', 'pf']\n",
    "\n",
    "# Coluna com nosso target (nosso y)\n",
    "y_column = [\"pts\"]"
   ]
  },
  {
   "cell_type": "code",
   "execution_count": 21,
   "metadata": {},
   "outputs": [],
   "source": [
    "nba = nba.fillna(0)"
   ]
  },
  {
   "cell_type": "code",
   "execution_count": 11,
   "metadata": {},
   "outputs": [],
   "source": [
    "# train / test -> método raiz:\n",
    "import random\n",
    "from numpy.random import permutation\n",
    "\n",
    "# Randomly shuffle the index of nba.\n",
    "random_indices = permutation(nba.index)\n",
    "\n",
    "# Set a cutoff for how many items we want in the test set (in this case 1/3 of the items)\n",
    "test_cutoff = math.floor(len(nba)/3)\n",
    "\n",
    "# Generate the test set by taking the first 1/3 of the randomly shuffled indices.\n",
    "test = nba.loc[random_indices[1:test_cutoff]]\n",
    "\n",
    "# Generate the train set with the rest of the data.\n",
    "train = nba.loc[random_indices[test_cutoff:]]"
   ]
  },
  {
   "cell_type": "code",
   "execution_count": 22,
   "metadata": {},
   "outputs": [],
   "source": [
    "# train / test -> método nutella:\n",
    "from sklearn.model_selection import train_test_split\n",
    "\n",
    "X_train, X_test, y_train, y_test = train_test_split(nba[x_columns],\n",
    "                                                    nba['pts'],\n",
    "                                                    test_size=0.3,\n",
    "                                                    random_state=42)"
   ]
  },
  {
   "cell_type": "markdown",
   "metadata": {},
   "source": [
    "**Usando sklearn para k vizinhos mais próximos**\n",
    "\n",
    "Em vez de ter que fazer tudo sozinhos, podemos usar a implementação de k-vizinhos mais próximos em scikit-learn. Aqui está a documentação (http://scikit-learn.org/stable/modules/neighbors.html). O KNN é um algoritmo bastante simples e genérico, ele é capaz de ser utilizado para problemas de classificação e regressão utilizando os mesmos métodos.\n",
    "\n",
    "O Sklearn realiza a descoberta de normalização e distância automaticamente e nos permite especificar quantos vizinhos queremos ver."
   ]
  },
  {
   "cell_type": "code",
   "execution_count": 26,
   "metadata": {},
   "outputs": [],
   "source": [
    "# Os mesmos passos de sempre ...\n",
    "from sklearn.neighbors import KNeighborsRegressor\n",
    "\n",
    "# Instânciamos o modelo em uma variável e passamos o parâmetro de quantos vizinhos queremos\n",
    "# que o knn utilize para calcular as médias.\n",
    "knn = KNeighborsRegressor(n_neighbors=5)\n",
    "\n",
    "# \"Ajusta\" nosso modelo aos dados.\n",
    "knn.fit(X_train, y_train)\n",
    "\n",
    "# Realizamos predições chamando a função predict do modelo treinado.\n",
    "yhat = knn.predict(X_test)"
   ]
  },
  {
   "cell_type": "markdown",
   "metadata": {},
   "source": [
    "Métricas da regressão: https://medium.com/human-in-a-machine-world/mae-and-rmse-which-metric-is-better-e60ac3bde13d\n",
    "\n",
    "\n",
    "Mean squared error (**MSE**) = $\\displaystyle\\frac{1}{n}\\sum_{t=1}^{n}e_t^2$ \n",
    "\n",
    "\n",
    "Root mean squared error (**RMSE**) = $\\displaystyle\\sqrt{\\frac{1}{n}\\sum_{t=1}^{n}e_t^2}$\n",
    "\n",
    "\n",
    "Mean absolute error, (**MAE**) $\\displaystyle\\frac{1}{n}\\sum_{t=1}^{n}|e_t|$ \n",
    "\n",
    "\n",
    "Mean absolute percentage error (**MAPE**) = $\\displaystyle\\frac{100\\%}{n}\\sum_{t=1}^{n}\\left |\\frac{e_t}{y_t}\\right|$\\\\"
   ]
  },
  {
   "cell_type": "code",
   "execution_count": 33,
   "metadata": {},
   "outputs": [
    {
     "name": "stdout",
     "output_type": "stream",
     "text": [
      "4080.6457931034474\n",
      "63.87993263227074\n"
     ]
    }
   ],
   "source": [
    "# Agora calculamos alguma métrica para ver o quanto estamos errando/acertando:\n",
    "mse = (((yhat - y_test) ** 2).sum()) / len(yhat)\n",
    "print(mse)\n",
    "\n",
    "rmse = math.sqrt((((yhat - y_test) ** 2).sum()) / len(yhat))\n",
    "print(rmse)"
   ]
  },
  {
   "cell_type": "markdown",
   "metadata": {},
   "source": [
    "# Desafio para os Alunos:\n",
    "\n",
    "Treinar um algoritmo de classificação com KNN para prever a posição do jogador (coluna 'pos') através das caracteristicas em campo e responder, o que acontece com as métricas do algoritmo quando alteramos o hyperparametro n_neighbors. \n",
    "\n",
    "Plote F1 score para esses diferentes n_neighbors [1,2,5,10] e interprete."
   ]
  },
  {
   "cell_type": "code",
   "execution_count": null,
   "metadata": {},
   "outputs": [],
   "source": []
  }
 ],
 "metadata": {
  "kernelspec": {
   "display_name": "Python 3",
   "language": "python",
   "name": "python3"
  },
  "language_info": {
   "codemirror_mode": {
    "name": "ipython",
    "version": 3
   },
   "file_extension": ".py",
   "mimetype": "text/x-python",
   "name": "python",
   "nbconvert_exporter": "python",
   "pygments_lexer": "ipython3",
   "version": "3.6.5"
  }
 },
 "nbformat": 4,
 "nbformat_minor": 2
}
