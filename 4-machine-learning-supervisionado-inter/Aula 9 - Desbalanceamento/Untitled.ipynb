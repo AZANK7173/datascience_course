{
 "cells": [
  {
   "cell_type": "markdown",
   "metadata": {},
   "source": [
    "Usar o dataset de fraud (creditcard.csv)\n",
    "\n",
    "Dataset disponivel na aula 8.\n",
    "\n",
    "Criar um modelo preditivo que preveja fraude.\n",
    "\n",
    "A fraude é bastante rara.\n",
    "\n",
    "Treine o modelo e calcule as métricas:\n",
    "f1, precisão, recall, auc.\n",
    "\n",
    "Agora pegue os casos de fraude e repita-os varias vezes (aumente a quantidade de treinamento para casos de fraude) e retreine o modelo.\n",
    "\n",
    "Por exemplo. Temos 1000 contratos normais e 10 fraudes, repita os contratos de fraude 30 vezes e teremos os mesmos 1000\n",
    "\n",
    "As métricas mudaram? Pq?\n",
    "\n",
    "Isso é o inicio da intuição de trabalhar com datasets desbalanceados e repetir a amostra varias vezes é uma tecnica (estupida) de oversampling.\n",
    "\n",
    "Outra possibilidade é diminuirmos a quantidade de amostras de não fraude para um número mais próximo do número de fraudes, essa técnica chamamos de undersampling.\n",
    "\n",
    "O que acontece com as métricas?\n",
    "\n",
    "\n",
    "Vamos usar uma técnica mais avançada agora. Primeiro vamos fazer um oversampling com uma técnica chamada SMOTE do pacote [imbalanced-learn](https://github.com/scikit-learn-contrib/imbalanced-learn), que é uma extenção do nosso scikit-learn para datasets desbalanceados. Depois de fazer o tal oversampling vamos fazer um undersampling (OVERSAMPLING -> UNDERSAMPLING) e analisar as métricas."
   ]
  },
  {
   "cell_type": "code",
   "execution_count": null,
   "metadata": {},
   "outputs": [],
   "source": []
  }
 ],
 "metadata": {
  "kernelspec": {
   "display_name": "Python 3",
   "language": "python",
   "name": "python3"
  },
  "language_info": {
   "codemirror_mode": {
    "name": "ipython",
    "version": 3
   },
   "file_extension": ".py",
   "mimetype": "text/x-python",
   "name": "python",
   "nbconvert_exporter": "python",
   "pygments_lexer": "ipython3",
   "version": "3.6.5"
  }
 },
 "nbformat": 4,
 "nbformat_minor": 2
}
