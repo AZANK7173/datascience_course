{
 "cells": [
  {
   "cell_type": "markdown",
   "metadata": {},
   "source": [
    "<img src=\"img/dh_logo_2.png\" align=\"right\" width=\"50%\">"
   ]
  },
  {
   "cell_type": "markdown",
   "metadata": {},
   "source": [
    "# Sistemas de recomendação - os sistemas que podem prever aquilo que seus clientes querem"
   ]
  },
  {
   "cell_type": "markdown",
   "metadata": {},
   "source": [
    "Ah, os Sistemas de Recomendação! Vocês conseguem imaginar o quanto essas belezinhas aumentaram (e contiuam aumentando) a lucratividade das muitas empresas que os usam? <br>\n",
    "Atualmente, qualquer boa empresa que se prese investe boa parte do seu esforço em seus sistemas de recomendação! Empresas como a Target, Amazon e Netflix utilizam esse tipo de sistema de maneira extremamente eficiente. A **Amazon**, por exemplo, foi capaz de aumentar seu  faturamento em **35%**, enquanto que **75%** das visualizações da **Netflix** hoje são obtidas atravé de recomendações segundo a [McKinsey](https://www.mckinsey.com/industries/retail/our-insights/how-retailers-can-keep-up-with-consumers). A **Target**, com seu volume absurdo de informações de compra (y otras cositas mas) de seus clientes, já foi capaz de descobrir uma gravidez indesejada antes mesmo do próprio pai da mãe da criança, que criticou a Target por estar achando que esta estava estimulando sua filha a ter filhos! <br>\n",
    "Inclusive, umas das maiores descobertas da Target foi a do grupo que mais compram sem \"pensar\": **pais de primeira viagem de recém nascidos**. Colocando produtos perto das fraudas ou enviando catálogos de produtos contendo diversos produtos, inclusive para o bebe, faz com que eles sejam capazes de vender praticamente qualquer coisa para esse grupo de pessoas! "
   ]
  },
  {
   "cell_type": "markdown",
   "metadata": {},
   "source": [
    "<img src=\"img/empresas.png\" align=\"center\" width=\"40%\">"
   ]
  },
  {
   "cell_type": "markdown",
   "metadata": {},
   "source": [
    "## Algumas das áreas de aplicação:"
   ]
  },
  {
   "cell_type": "markdown",
   "metadata": {},
   "source": [
    "Para  um sistema de recomendação fazer sentido, é necessário ter um volume de dados considerável, caso contrário (ou seja, para um pequeno volume de dados), provavelmente o entendimento da equipe de negócios será mais efetivo. <br>\n",
    "Os sistemas de recomendação são geralmente usados nas seguintes industrias/casos:\n",
    "- **e-Commerce**: Esse tipo de formato de negócio é o melhor existente atualmente para a aplicação de sistemas de recomendação, uma vez que geram uma grande quantidade de informações de consumo dos seus clientes.\n",
    "- **Varejo:** Quando ainda não existiam e-Commerce's muito bem estabelecidos, as grandes empresas de varejo já eram capazes de construir modelos estatísticos para descobrir as melhores maneiras de recomendar seus produtos, enviando catálogos personalizados para seus clientes. A Target é um ótimo exemplo disso.\n",
    "- **Media**: Sites de notícias, blogs e  mídias sociais também fazem uso desse tipo de sistema em peso para recomendar conteúdo (e consequentemente produtos) para seus usuários. O **YouTube** é um ótimo exemplo de como se usar bem recomendações de suas mídias.\n",
    "- **Bancos**: Os bancos, assim como empresas de cartão, sabem praticamente todos os detalhes da nossa vida financeira, e isso torna os seus dados muito poderosos e valiosos para fazer recomendações de serviços (aumento de crédito, empréstimos,...). Justamente por esse motivos que muitas empresas tem serviços de cartões em suas lojas!(Renner, C&A,...)\n",
    "- **Telecom**: Dados de empresas de delecomunicações também são extremamente valiosos, uma vez que essas empresas tem o registro de cada interação dos seus usuários. Como o portifólio dessas empresas não é muito grande, resolver seus problemas de recomendação acaba sendo algo mais simplificado."
   ]
  },
  {
   "cell_type": "markdown",
   "metadata": {},
   "source": [
    "## Benefícios dos sistemas de recomendação:"
   ]
  },
  {
   "cell_type": "markdown",
   "metadata": {
    "ExecuteTime": {
     "end_time": "2019-06-16T14:53:17.271692Z",
     "start_time": "2019-06-16T14:53:17.266705Z"
    }
   },
   "source": [
    "Os sistemas de recomendação trazem diversos benefícios às empresas que os utilizam. Dentre eles temos:\n",
    "- **Aumentar conversão/vendas**: Existem diversas formas de atingir esse objetivo, como fazer campanhas de marketing por exemplo, que acabam sendo bem caras dependendo de como a campanha é construída. Os sistemas de recomendação são uma alternativa automatizada e de esforço e custo muitas vezes muito menor. \n",
    "- **Aumentar a satisfação do usuário**: Fazer recomendações mais assertivas reduz o esforço do seu cliente para encontrar aquilo que ele deseja antes mesmo dele procurar. Além disso a **personalização** dessas indicações tornam seus clientes muito mais próximos da sua marca \n",
    "- **Aumentar a lealdade**: Fazendo seus clientes gastarem mais tempos em seu site aumenta a familiaridade deles com a interface apresentada e a marca em si, aumentando a probabilidade deles fazerem compras futuras.\n",
    "- **Redução do churn**: Sistemas de recomendação podem tornar suas ações de recuperação de seus clientes muito mais efetivas, que podem ser feitas através de e-mails, sms, whatsapp ou até por correio. Essas ações podem ser feitas ainda utilizando cupons de desconto aliadas aos resultados dos sistemas de recomendação para aumentar sua assertividade. \n",
    "\n",
    "Todas esses benefícios tem impacto direto em uma das métricas mais importantes existentes atualmente para a maioria das empresas: o **customer lifetime value**. Antigamente as empresas, principalmente as de grande porte, não possuíam uma preocupação com esse tipo de métrica já que seu poder acabava sendo muito maior do que o poder do consumidor.<br> \n",
    "Atualmente, o aumento do acesso aos meios de produção, o crescimento do número de concorrentes, bem como o crescimento do modelo **as a service** ( você paga apenas enquanto usar eliminando, assim, a necessidade de um contrato de obrigatoriedade de uso por muitos anos) no mercado tornou essa métrica de suma importância para as empresas, trazendo a necessidade de garantir um bom relacionamento com seu cliente. "
   ]
  },
  {
   "cell_type": "markdown",
   "metadata": {},
   "source": [
    "## Tipos de sistemas de recomendação"
   ]
  },
  {
   "cell_type": "markdown",
   "metadata": {
    "ExecuteTime": {
     "end_time": "2019-06-16T16:51:00.139815Z",
     "start_time": "2019-06-16T16:51:00.133797Z"
    }
   },
   "source": [
    "Existem vários tipos de sistema de recomendação. Os principais tipos existentes atualmente são:\n",
    "- **Recuperação direta da informação**; \n",
    "- **Filtragem por conteúdo**;\n",
    "- **Filtragem colaborativa**."
   ]
  },
  {
   "cell_type": "markdown",
   "metadata": {},
   "source": [
    "## Recuperação direta da informação"
   ]
  },
  {
   "cell_type": "markdown",
   "metadata": {},
   "source": [
    "Esse tipo de sistema de recomendação é um dos mais simples que existem e não possuem muita inteligência. Eles são feitos através da verificação de palavras chaves (qual foi a palavra chave/ produto mais pesquisado) para então exibir para o cliente como \"Mais vendido\" ou \"Mais clicado\". Nesse caso, basta apena fazer a contagem por produto ou por palavra chave e evidenciar isso para o cliente.  "
   ]
  },
  {
   "cell_type": "markdown",
   "metadata": {},
   "source": [
    "<img src=\"img/sistema_recomendacao_1.png\" align=\"center\" width=\"40%\">  "
   ]
  },
  {
   "cell_type": "markdown",
   "metadata": {},
   "source": [
    "## Filtragem por conteúdo"
   ]
  },
  {
   "cell_type": "markdown",
   "metadata": {},
   "source": [
    "Nesse caso, são usadas as características do produto e/ou descrição do mesmo. Por exemplo, falando em filmes, pegaríamos a descrição desses filmes e verificaríamos a similaridade entre as descrições. No caso de livros, faríamos a verificação da sinopse do livro para fazer essa verificação de similaridade. E cerveja, como vocês acham que isso poderia ser feito?"
   ]
  },
  {
   "cell_type": "markdown",
   "metadata": {},
   "source": [
    "<img src=\"img/filragem_por_conteudo.jpg\" align=\"center\" width=\"40%\"> "
   ]
  },
  {
   "cell_type": "markdown",
   "metadata": {},
   "source": [
    "## Filtragem Colaborativa"
   ]
  },
  {
   "cell_type": "markdown",
   "metadata": {
    "ExecuteTime": {
     "end_time": "2019-06-16T16:51:00.139815Z",
     "start_time": "2019-06-16T16:51:00.133797Z"
    }
   },
   "source": [
    "Essa é uma das técnicas mais utilizadas hoje em dia pra construir sistemas de recomendação. Ela compara perfis de compradores, verificando seus itens em comum e indicando os itens complementares. Vamos entrar num detalhe um pouco maior observando e discutindo as imagens abaixo: "
   ]
  },
  {
   "cell_type": "markdown",
   "metadata": {},
   "source": [
    "<img src=\"img/sistema-de-recomendacao-com-filtragem-colaborativa_2.png\" align=\"center\" width=\"30%\">  "
   ]
  },
  {
   "cell_type": "markdown",
   "metadata": {},
   "source": [
    "A imagem mostrada acima nos indica por exemplo que a primeiro compradora de frutas e o terceiro tem em comum a melancia e o morango, enquanto que a compradora do meio não possui nenhum item em comum com nenhum dos outros dois. Dessa forma, consideramos que a compradora 1 e o comprador 3 tem um perfil mais próximo. O próximo passo é identificara os seus elementos complementares, que para esse caso serão a laranja e a uva, uma vez que estes foram comprados pela compradora 1 e não pelo comprador 3!"
   ]
  },
  {
   "cell_type": "markdown",
   "metadata": {},
   "source": [
    "<img src=\"img/sistema-de-recomendacao-com-filtragem-colaborativa.png\" align=\"center\" width=\"50%\"> "
   ]
  },
  {
   "cell_type": "markdown",
   "metadata": {},
   "source": [
    "Na imagem mostrada acima, vemos que os dois usuários têm dois itens em comum: o **item A** e o **item B**, e que o **item C** pertence apenas ao usuário B. Dessa forma, como eles possuem itens em comum, podemos considerar que existe um certo grau de similaridade entre eles, fazendo com que a indicação do **item C** possa ser feita com maior chances de sucesso para o  comrpador B. "
   ]
  },
  {
   "cell_type": "markdown",
   "metadata": {},
   "source": [
    "## Base de dados para analisarmos"
   ]
  },
  {
   "cell_type": "markdown",
   "metadata": {},
   "source": [
    "<img src=\"img/base_de_dados.png\" align=\"center\" width=\"50%\"> "
   ]
  },
  {
   "cell_type": "markdown",
   "metadata": {},
   "source": [
    "Vamos utilizar a base mostrada acima para ser o nosso estudo de caso. Para podermos indicar filmes para a Uliane, vamos calcuar a similaridade entre os usuários "
   ]
  },
  {
   "cell_type": "code",
   "execution_count": 1,
   "metadata": {
    "ExecuteTime": {
     "end_time": "2019-06-17T00:26:53.131275Z",
     "start_time": "2019-06-17T00:26:52.622575Z"
    }
   },
   "outputs": [],
   "source": [
    "import pandas as pd"
   ]
  },
  {
   "cell_type": "code",
   "execution_count": 2,
   "metadata": {
    "ExecuteTime": {
     "end_time": "2019-06-17T00:26:53.692757Z",
     "start_time": "2019-06-17T00:26:53.659801Z"
    }
   },
   "outputs": [],
   "source": [
    "movie_rating = pd.read_excel('./data/movie_rating.xlsx')"
   ]
  },
  {
   "cell_type": "code",
   "execution_count": 3,
   "metadata": {
    "ExecuteTime": {
     "end_time": "2019-06-17T00:26:54.250221Z",
     "start_time": "2019-06-17T00:26:54.233266Z"
    }
   },
   "outputs": [
    {
     "data": {
      "text/html": [
       "<div>\n",
       "<style scoped>\n",
       "    .dataframe tbody tr th:only-of-type {\n",
       "        vertical-align: middle;\n",
       "    }\n",
       "\n",
       "    .dataframe tbody tr th {\n",
       "        vertical-align: top;\n",
       "    }\n",
       "\n",
       "    .dataframe thead th {\n",
       "        text-align: right;\n",
       "    }\n",
       "</style>\n",
       "<table border=\"1\" class=\"dataframe\">\n",
       "  <thead>\n",
       "    <tr style=\"text-align: right;\">\n",
       "      <th></th>\n",
       "      <th>Unnamed: 0</th>\n",
       "      <th>Orgulho &amp; Preconceito</th>\n",
       "      <th>Velozes e Furiosos</th>\n",
       "      <th>O Senhor dos anéis</th>\n",
       "      <th>Star Wars</th>\n",
       "      <th>De volta para o futuro</th>\n",
       "    </tr>\n",
       "  </thead>\n",
       "  <tbody>\n",
       "    <tr>\n",
       "      <th>0</th>\n",
       "      <td>Izabela</td>\n",
       "      <td>5.0</td>\n",
       "      <td>1.0</td>\n",
       "      <td>5.0</td>\n",
       "      <td>3.0</td>\n",
       "      <td>5</td>\n",
       "    </tr>\n",
       "    <tr>\n",
       "      <th>1</th>\n",
       "      <td>Thais</td>\n",
       "      <td>5.0</td>\n",
       "      <td>1.0</td>\n",
       "      <td>5.0</td>\n",
       "      <td>5.0</td>\n",
       "      <td>5</td>\n",
       "    </tr>\n",
       "    <tr>\n",
       "      <th>2</th>\n",
       "      <td>Lorena</td>\n",
       "      <td>4.0</td>\n",
       "      <td>3.0</td>\n",
       "      <td>2.0</td>\n",
       "      <td>1.0</td>\n",
       "      <td>2</td>\n",
       "    </tr>\n",
       "    <tr>\n",
       "      <th>3</th>\n",
       "      <td>Leandro</td>\n",
       "      <td>NaN</td>\n",
       "      <td>5.0</td>\n",
       "      <td>NaN</td>\n",
       "      <td>2.0</td>\n",
       "      <td>4</td>\n",
       "    </tr>\n",
       "    <tr>\n",
       "      <th>4</th>\n",
       "      <td>Uliane</td>\n",
       "      <td>2.0</td>\n",
       "      <td>NaN</td>\n",
       "      <td>3.0</td>\n",
       "      <td>NaN</td>\n",
       "      <td>1</td>\n",
       "    </tr>\n",
       "    <tr>\n",
       "      <th>5</th>\n",
       "      <td>Isis</td>\n",
       "      <td>5.0</td>\n",
       "      <td>1.0</td>\n",
       "      <td>5.0</td>\n",
       "      <td>5.0</td>\n",
       "      <td>5</td>\n",
       "    </tr>\n",
       "    <tr>\n",
       "      <th>6</th>\n",
       "      <td>Marcos</td>\n",
       "      <td>1.0</td>\n",
       "      <td>3.0</td>\n",
       "      <td>2.0</td>\n",
       "      <td>5.0</td>\n",
       "      <td>4</td>\n",
       "    </tr>\n",
       "  </tbody>\n",
       "</table>\n",
       "</div>"
      ],
      "text/plain": [
       "  Unnamed: 0  Orgulho & Preconceito  Velozes e Furiosos  O Senhor dos anéis  \\\n",
       "0    Izabela                    5.0                 1.0                 5.0   \n",
       "1      Thais                    5.0                 1.0                 5.0   \n",
       "2     Lorena                    4.0                 3.0                 2.0   \n",
       "3    Leandro                    NaN                 5.0                 NaN   \n",
       "4     Uliane                    2.0                 NaN                 3.0   \n",
       "5       Isis                    5.0                 1.0                 5.0   \n",
       "6     Marcos                    1.0                 3.0                 2.0   \n",
       "\n",
       "   Star Wars  De volta para o futuro  \n",
       "0        3.0                       5  \n",
       "1        5.0                       5  \n",
       "2        1.0                       2  \n",
       "3        2.0                       4  \n",
       "4        NaN                       1  \n",
       "5        5.0                       5  \n",
       "6        5.0                       4  "
      ]
     },
     "execution_count": 3,
     "metadata": {},
     "output_type": "execute_result"
    }
   ],
   "source": [
    "movie_rating"
   ]
  },
  {
   "cell_type": "markdown",
   "metadata": {},
   "source": [
    "Como vocês podem ver, eu possuo duas pessoas que não viram alguns dos filmes explicitados na tabela acima, que são: Leandro e Uliane. Dessa forma, inicialmente precisamos verificar quem viu os mesmos filmes que eles para podermos identificar similaridade de perfis. <br>"
   ]
  },
  {
   "cell_type": "markdown",
   "metadata": {},
   "source": [
    "Para Leandro, ficaríamos com a seguinte tabela:"
   ]
  },
  {
   "cell_type": "code",
   "execution_count": 4,
   "metadata": {
    "ExecuteTime": {
     "end_time": "2019-06-17T01:30:57.339394Z",
     "start_time": "2019-06-17T01:30:57.328415Z"
    }
   },
   "outputs": [
    {
     "data": {
      "text/html": [
       "<div>\n",
       "<style scoped>\n",
       "    .dataframe tbody tr th:only-of-type {\n",
       "        vertical-align: middle;\n",
       "    }\n",
       "\n",
       "    .dataframe tbody tr th {\n",
       "        vertical-align: top;\n",
       "    }\n",
       "\n",
       "    .dataframe thead th {\n",
       "        text-align: right;\n",
       "    }\n",
       "</style>\n",
       "<table border=\"1\" class=\"dataframe\">\n",
       "  <thead>\n",
       "    <tr style=\"text-align: right;\">\n",
       "      <th></th>\n",
       "      <th>Unnamed: 0</th>\n",
       "      <th>Velozes e Furiosos</th>\n",
       "      <th>Star Wars</th>\n",
       "      <th>De volta para o futuro</th>\n",
       "    </tr>\n",
       "  </thead>\n",
       "  <tbody>\n",
       "    <tr>\n",
       "      <th>0</th>\n",
       "      <td>Izabela</td>\n",
       "      <td>1.0</td>\n",
       "      <td>3.0</td>\n",
       "      <td>5</td>\n",
       "    </tr>\n",
       "    <tr>\n",
       "      <th>1</th>\n",
       "      <td>Thais</td>\n",
       "      <td>1.0</td>\n",
       "      <td>5.0</td>\n",
       "      <td>5</td>\n",
       "    </tr>\n",
       "    <tr>\n",
       "      <th>2</th>\n",
       "      <td>Lorena</td>\n",
       "      <td>3.0</td>\n",
       "      <td>1.0</td>\n",
       "      <td>2</td>\n",
       "    </tr>\n",
       "    <tr>\n",
       "      <th>3</th>\n",
       "      <td>Leandro</td>\n",
       "      <td>5.0</td>\n",
       "      <td>2.0</td>\n",
       "      <td>4</td>\n",
       "    </tr>\n",
       "    <tr>\n",
       "      <th>4</th>\n",
       "      <td>Isis</td>\n",
       "      <td>1.0</td>\n",
       "      <td>5.0</td>\n",
       "      <td>5</td>\n",
       "    </tr>\n",
       "    <tr>\n",
       "      <th>5</th>\n",
       "      <td>Marcos</td>\n",
       "      <td>3.0</td>\n",
       "      <td>5.0</td>\n",
       "      <td>4</td>\n",
       "    </tr>\n",
       "  </tbody>\n",
       "</table>\n",
       "</div>"
      ],
      "text/plain": [
       "  Unnamed: 0  Velozes e Furiosos  Star Wars  De volta para o futuro\n",
       "0    Izabela                 1.0        3.0                       5\n",
       "1      Thais                 1.0        5.0                       5\n",
       "2     Lorena                 3.0        1.0                       2\n",
       "3    Leandro                 5.0        2.0                       4\n",
       "4       Isis                 1.0        5.0                       5\n",
       "5     Marcos                 3.0        5.0                       4"
      ]
     },
     "execution_count": 4,
     "metadata": {},
     "output_type": "execute_result"
    }
   ],
   "source": [
    "movie_rating_leandro = movie_rating.drop(['Orgulho & Preconceito','O Senhor dos anéis'],axis=1).dropna()\n",
    "movie_rating_leandro.reset_index(drop=True)"
   ]
  },
  {
   "cell_type": "markdown",
   "metadata": {},
   "source": [
    "Vamos agora plotar o gráfico de dispersão para dois e três pontos:"
   ]
  },
  {
   "cell_type": "code",
   "execution_count": 5,
   "metadata": {
    "ExecuteTime": {
     "end_time": "2019-06-17T00:26:57.732315Z",
     "start_time": "2019-06-17T00:26:57.573329Z"
    }
   },
   "outputs": [],
   "source": [
    "import numpy as np\n",
    "import matplotlib.pyplot as plt\n",
    " "
   ]
  },
  {
   "cell_type": "code",
   "execution_count": 6,
   "metadata": {
    "ExecuteTime": {
     "end_time": "2019-06-17T00:26:58.513812Z",
     "start_time": "2019-06-17T00:26:58.336287Z"
    }
   },
   "outputs": [
    {
     "data": {
      "text/plain": [
       "<matplotlib.collections.PathCollection at 0x11d7c3fd0>"
      ]
     },
     "execution_count": 6,
     "metadata": {},
     "output_type": "execute_result"
    },
    {
     "data": {
      "image/png": "[encoded data removed]",
      "text/plain": [
       "<Figure size 432x288 with 1 Axes>"
      ]
     },
     "metadata": {
      "needs_background": "light"
     },
     "output_type": "display_data"
    }
   ],
   "source": [
    "x_lea = movie_rating_leandro['Velozes e Furiosos']\n",
    "y_lea = movie_rating_leandro['Star Wars']\n",
    "plt.xlabel(\"Velozes e Furiosos\",fontsize=15)\n",
    "plt.ylabel(\"Star Wars\",fontsize=15)\n",
    "# plot grafico de dispersao\n",
    "plt.scatter(x_lea, y_lea)"
   ]
  },
  {
   "cell_type": "markdown",
   "metadata": {},
   "source": [
    "<img src=\"img/Screenshot_1.png\" align=\"left\" width=\"40%\"> "
   ]
  },
  {
   "cell_type": "markdown",
   "metadata": {},
   "source": [
    "Plotando o gráfico em três dimensões:"
   ]
  },
  {
   "cell_type": "code",
   "execution_count": 8,
   "metadata": {
    "ExecuteTime": {
     "end_time": "2019-06-17T01:14:56.835004Z",
     "start_time": "2019-06-17T01:14:56.628532Z"
    }
   },
   "outputs": [
    {
     "data": {
      "image/png": "[encoded data removed]",
      "text/plain": [
       "<Figure size 576x432 with 1 Axes>"
      ]
     },
     "metadata": {
      "needs_background": "light"
     },
     "output_type": "display_data"
    }
   ],
   "source": [
    "from mpl_toolkits.mplot3d import Axes3D\n",
    "fig3 = plt.figure(2,figsize=(8, 6))\n",
    "ax_lea = fig3.add_subplot(111,projection = '3d')\n",
    "\n",
    "x = movie_rating_leandro[\"Velozes e Furiosos\"].tolist()\n",
    "y = movie_rating_leandro[\"Star Wars\"].tolist()\n",
    "z = movie_rating_leandro[\"De volta para o futuro\"].tolist()\n",
    "\n",
    "ax_lea.scatter(x,y,z,c='r',marker='o')\n",
    "\n",
    "ax_lea.set_xlabel(\"Velozes e Furiosos\")\n",
    "ax_lea.set_ylabel(\"Star Wars\")\n",
    "ax_lea.set_zlabel(\"De volta para o futuro\")\n",
    "\n",
    "plt.show()"
   ]
  },
  {
   "cell_type": "markdown",
   "metadata": {},
   "source": [
    "Plotando a matriz de distâncias euclidianas, temos:"
   ]
  },
  {
   "cell_type": "code",
   "execution_count": 9,
   "metadata": {
    "ExecuteTime": {
     "end_time": "2019-06-17T01:17:00.746441Z",
     "start_time": "2019-06-17T01:17:00.735471Z"
    }
   },
   "outputs": [
    {
     "data": {
      "text/html": [
       "<div>\n",
       "<style scoped>\n",
       "    .dataframe tbody tr th:only-of-type {\n",
       "        vertical-align: middle;\n",
       "    }\n",
       "\n",
       "    .dataframe tbody tr th {\n",
       "        vertical-align: top;\n",
       "    }\n",
       "\n",
       "    .dataframe thead th {\n",
       "        text-align: right;\n",
       "    }\n",
       "</style>\n",
       "<table border=\"1\" class=\"dataframe\">\n",
       "  <thead>\n",
       "    <tr style=\"text-align: right;\">\n",
       "      <th></th>\n",
       "      <th>0</th>\n",
       "      <th>1</th>\n",
       "      <th>2</th>\n",
       "      <th>3</th>\n",
       "      <th>4</th>\n",
       "      <th>5</th>\n",
       "    </tr>\n",
       "  </thead>\n",
       "  <tbody>\n",
       "    <tr>\n",
       "      <th>0</th>\n",
       "      <td>0.000000</td>\n",
       "      <td>2.000000</td>\n",
       "      <td>4.123106</td>\n",
       "      <td>4.242641</td>\n",
       "      <td>2.000000</td>\n",
       "      <td>3.000000</td>\n",
       "    </tr>\n",
       "    <tr>\n",
       "      <th>1</th>\n",
       "      <td>2.000000</td>\n",
       "      <td>0.000000</td>\n",
       "      <td>5.385165</td>\n",
       "      <td>5.099020</td>\n",
       "      <td>0.000000</td>\n",
       "      <td>2.236068</td>\n",
       "    </tr>\n",
       "    <tr>\n",
       "      <th>2</th>\n",
       "      <td>4.123106</td>\n",
       "      <td>5.385165</td>\n",
       "      <td>0.000000</td>\n",
       "      <td>3.000000</td>\n",
       "      <td>5.385165</td>\n",
       "      <td>4.472136</td>\n",
       "    </tr>\n",
       "    <tr>\n",
       "      <th>3</th>\n",
       "      <td>4.242641</td>\n",
       "      <td>5.099020</td>\n",
       "      <td>3.000000</td>\n",
       "      <td>0.000000</td>\n",
       "      <td>5.099020</td>\n",
       "      <td>3.605551</td>\n",
       "    </tr>\n",
       "    <tr>\n",
       "      <th>4</th>\n",
       "      <td>2.000000</td>\n",
       "      <td>0.000000</td>\n",
       "      <td>5.385165</td>\n",
       "      <td>5.099020</td>\n",
       "      <td>0.000000</td>\n",
       "      <td>2.236068</td>\n",
       "    </tr>\n",
       "    <tr>\n",
       "      <th>5</th>\n",
       "      <td>3.000000</td>\n",
       "      <td>2.236068</td>\n",
       "      <td>4.472136</td>\n",
       "      <td>3.605551</td>\n",
       "      <td>2.236068</td>\n",
       "      <td>0.000000</td>\n",
       "    </tr>\n",
       "  </tbody>\n",
       "</table>\n",
       "</div>"
      ],
      "text/plain": [
       "          0         1         2         3         4         5\n",
       "0  0.000000  2.000000  4.123106  4.242641  2.000000  3.000000\n",
       "1  2.000000  0.000000  5.385165  5.099020  0.000000  2.236068\n",
       "2  4.123106  5.385165  0.000000  3.000000  5.385165  4.472136\n",
       "3  4.242641  5.099020  3.000000  0.000000  5.099020  3.605551\n",
       "4  2.000000  0.000000  5.385165  5.099020  0.000000  2.236068\n",
       "5  3.000000  2.236068  4.472136  3.605551  2.236068  0.000000"
      ]
     },
     "execution_count": 9,
     "metadata": {},
     "output_type": "execute_result"
    }
   ],
   "source": [
    "dataset_visual_lea = movie_rating_leandro.drop(['Unnamed: 0'],axis=1).values\n",
    "dataset_visual_lea\n",
    "pd.DataFrame(np.linalg.norm(dataset_visual_lea - dataset_visual_lea[:,None], axis=-1))"
   ]
  },
  {
   "cell_type": "markdown",
   "metadata": {},
   "source": [
    "- **0**: Izabela\n",
    "- **1**: Thais\n",
    "- **2**: Lorena\n",
    "- **3**: Leandro\n",
    "- **4**: Isis\n",
    "- **5**: Marcos"
   ]
  },
  {
   "cell_type": "markdown",
   "metadata": {},
   "source": [
    "Obsesrvando a tabela de distâncias acima, verificamos que Leandro (3) tem um perfil mais próximo de Lorena(2). Dessa forma, poderíamos indicar para Leandro os filmes que lorena viu e mais gostou, que nesses caso seria Orgulho e Preconceito. "
   ]
  },
  {
   "cell_type": "markdown",
   "metadata": {},
   "source": [
    "Analisando os filmes da Uli:"
   ]
  },
  {
   "cell_type": "code",
   "execution_count": 10,
   "metadata": {
    "ExecuteTime": {
     "end_time": "2019-06-17T01:21:24.699211Z",
     "start_time": "2019-06-17T01:21:24.687241Z"
    }
   },
   "outputs": [
    {
     "data": {
      "text/html": [
       "<div>\n",
       "<style scoped>\n",
       "    .dataframe tbody tr th:only-of-type {\n",
       "        vertical-align: middle;\n",
       "    }\n",
       "\n",
       "    .dataframe tbody tr th {\n",
       "        vertical-align: top;\n",
       "    }\n",
       "\n",
       "    .dataframe thead th {\n",
       "        text-align: right;\n",
       "    }\n",
       "</style>\n",
       "<table border=\"1\" class=\"dataframe\">\n",
       "  <thead>\n",
       "    <tr style=\"text-align: right;\">\n",
       "      <th></th>\n",
       "      <th>Unnamed: 0</th>\n",
       "      <th>Orgulho &amp; Preconceito</th>\n",
       "      <th>O Senhor dos anéis</th>\n",
       "      <th>De volta para o futuro</th>\n",
       "    </tr>\n",
       "  </thead>\n",
       "  <tbody>\n",
       "    <tr>\n",
       "      <th>0</th>\n",
       "      <td>Izabela</td>\n",
       "      <td>5.0</td>\n",
       "      <td>5.0</td>\n",
       "      <td>5</td>\n",
       "    </tr>\n",
       "    <tr>\n",
       "      <th>1</th>\n",
       "      <td>Thais</td>\n",
       "      <td>5.0</td>\n",
       "      <td>5.0</td>\n",
       "      <td>5</td>\n",
       "    </tr>\n",
       "    <tr>\n",
       "      <th>2</th>\n",
       "      <td>Lorena</td>\n",
       "      <td>4.0</td>\n",
       "      <td>2.0</td>\n",
       "      <td>2</td>\n",
       "    </tr>\n",
       "    <tr>\n",
       "      <th>3</th>\n",
       "      <td>Uliane</td>\n",
       "      <td>2.0</td>\n",
       "      <td>3.0</td>\n",
       "      <td>1</td>\n",
       "    </tr>\n",
       "    <tr>\n",
       "      <th>4</th>\n",
       "      <td>Isis</td>\n",
       "      <td>5.0</td>\n",
       "      <td>5.0</td>\n",
       "      <td>5</td>\n",
       "    </tr>\n",
       "    <tr>\n",
       "      <th>5</th>\n",
       "      <td>Marcos</td>\n",
       "      <td>1.0</td>\n",
       "      <td>2.0</td>\n",
       "      <td>4</td>\n",
       "    </tr>\n",
       "  </tbody>\n",
       "</table>\n",
       "</div>"
      ],
      "text/plain": [
       "  Unnamed: 0  Orgulho & Preconceito  O Senhor dos anéis  \\\n",
       "0    Izabela                    5.0                 5.0   \n",
       "1      Thais                    5.0                 5.0   \n",
       "2     Lorena                    4.0                 2.0   \n",
       "3     Uliane                    2.0                 3.0   \n",
       "4       Isis                    5.0                 5.0   \n",
       "5     Marcos                    1.0                 2.0   \n",
       "\n",
       "   De volta para o futuro  \n",
       "0                       5  \n",
       "1                       5  \n",
       "2                       2  \n",
       "3                       1  \n",
       "4                       5  \n",
       "5                       4  "
      ]
     },
     "execution_count": 10,
     "metadata": {},
     "output_type": "execute_result"
    }
   ],
   "source": [
    "movie_rating_uli = movie_rating.drop(['Velozes e Furiosos','Star Wars'],axis=1).dropna()\n",
    "movie_rating_uli.reset_index(drop=True)"
   ]
  },
  {
   "cell_type": "code",
   "execution_count": 11,
   "metadata": {
    "ExecuteTime": {
     "end_time": "2019-06-17T00:29:47.863708Z",
     "start_time": "2019-06-17T00:29:47.697145Z"
    }
   },
   "outputs": [
    {
     "data": {
      "text/plain": [
       "<matplotlib.collections.PathCollection at 0x11dcd7b00>"
      ]
     },
     "execution_count": 11,
     "metadata": {},
     "output_type": "execute_result"
    },
    {
     "data": {
      "image/png": "[encoded data removed]",
      "text/plain": [
       "<Figure size 432x288 with 1 Axes>"
      ]
     },
     "metadata": {
      "needs_background": "light"
     },
     "output_type": "display_data"
    }
   ],
   "source": [
    "x_uli = movie_rating_uli['Orgulho & Preconceito']\n",
    "y_uli = movie_rating_uli['O Senhor dos anéis']\n",
    "plt.xlabel(\"Orgulho & Preconceito\",fontsize=15)\n",
    "plt.ylabel(\"O Senhor dos anéis\",fontsize=15)\n",
    "# plot grafico de dispersao\n",
    "plt.scatter(x_uli, y_uli)"
   ]
  },
  {
   "cell_type": "markdown",
   "metadata": {},
   "source": [
    "<img src=\"img/Screenshot_2.png\" align=\"left\" width=\"40%\"> "
   ]
  },
  {
   "cell_type": "code",
   "execution_count": 12,
   "metadata": {
    "ExecuteTime": {
     "end_time": "2019-06-17T00:44:04.931542Z",
     "start_time": "2019-06-17T00:44:04.925558Z"
    }
   },
   "outputs": [
    {
     "data": {
      "text/plain": [
       "array([[5., 5., 5.],\n",
       "       [5., 5., 5.],\n",
       "       [4., 2., 2.],\n",
       "       [2., 3., 1.],\n",
       "       [5., 5., 5.],\n",
       "       [1., 2., 4.]])"
      ]
     },
     "execution_count": 12,
     "metadata": {},
     "output_type": "execute_result"
    }
   ],
   "source": [
    "dataset_visual_uli = movie_rating_uli.drop(['Unnamed: 0'],axis=1).values\n",
    "dataset_visual_uli"
   ]
  },
  {
   "cell_type": "code",
   "execution_count": 13,
   "metadata": {
    "ExecuteTime": {
     "end_time": "2019-06-17T01:12:27.064069Z",
     "start_time": "2019-06-17T01:12:26.867234Z"
    }
   },
   "outputs": [
    {
     "data": {
      "image/png": "[encoded data removed]",
      "text/plain": [
       "<Figure size 576x432 with 1 Axes>"
      ]
     },
     "metadata": {
      "needs_background": "light"
     },
     "output_type": "display_data"
    }
   ],
   "source": [
    "fig = plt.figure(2,figsize=(8, 6))\n",
    "ax = fig.add_subplot(111,projection = '3d')\n",
    "\n",
    "x = movie_rating_uli['Orgulho & Preconceito'].tolist()\n",
    "y = movie_rating_uli['O Senhor dos anéis'].tolist()\n",
    "z = movie_rating_uli['De volta para o futuro'].tolist()\n",
    "\n",
    "ax.scatter(x,y,z,c='r',marker='o')\n",
    "\n",
    "ax.set_xlabel('Orgulho & Preconceito')\n",
    "ax.set_ylabel('O Senhor dos anéis')\n",
    "ax.set_zlabel('De volta para o futuro')\n",
    "\n",
    "plt.show()"
   ]
  },
  {
   "cell_type": "markdown",
   "metadata": {},
   "source": [
    "Através desse gráfico de dispersão, podemos ver como cada usuário se comporta para os dois filmes selecionados. Podemos ver que Iza, Thais e Isis tiveram exatamente a mesma nota pros dois filmes. Lorena aparentemente ficou mais próxima de Iza, Isis e Thais. Leandro e Marcos mais à esquerta e Uliane perdida na vida. "
   ]
  },
  {
   "cell_type": "markdown",
   "metadata": {},
   "source": [
    "Calculando então a distância euclidiana entre esses pontos temos: "
   ]
  },
  {
   "cell_type": "code",
   "execution_count": 14,
   "metadata": {
    "ExecuteTime": {
     "end_time": "2019-06-17T01:19:53.782465Z",
     "start_time": "2019-06-17T01:19:53.772493Z"
    }
   },
   "outputs": [
    {
     "data": {
      "text/html": [
       "<div>\n",
       "<style scoped>\n",
       "    .dataframe tbody tr th:only-of-type {\n",
       "        vertical-align: middle;\n",
       "    }\n",
       "\n",
       "    .dataframe tbody tr th {\n",
       "        vertical-align: top;\n",
       "    }\n",
       "\n",
       "    .dataframe thead th {\n",
       "        text-align: right;\n",
       "    }\n",
       "</style>\n",
       "<table border=\"1\" class=\"dataframe\">\n",
       "  <thead>\n",
       "    <tr style=\"text-align: right;\">\n",
       "      <th></th>\n",
       "      <th>0</th>\n",
       "      <th>1</th>\n",
       "      <th>2</th>\n",
       "      <th>3</th>\n",
       "      <th>4</th>\n",
       "      <th>5</th>\n",
       "    </tr>\n",
       "  </thead>\n",
       "  <tbody>\n",
       "    <tr>\n",
       "      <th>0</th>\n",
       "      <td>0.000000</td>\n",
       "      <td>0.000000</td>\n",
       "      <td>4.358899</td>\n",
       "      <td>5.385165</td>\n",
       "      <td>0.000000</td>\n",
       "      <td>5.099020</td>\n",
       "    </tr>\n",
       "    <tr>\n",
       "      <th>1</th>\n",
       "      <td>0.000000</td>\n",
       "      <td>0.000000</td>\n",
       "      <td>4.358899</td>\n",
       "      <td>5.385165</td>\n",
       "      <td>0.000000</td>\n",
       "      <td>5.099020</td>\n",
       "    </tr>\n",
       "    <tr>\n",
       "      <th>2</th>\n",
       "      <td>4.358899</td>\n",
       "      <td>4.358899</td>\n",
       "      <td>0.000000</td>\n",
       "      <td>2.449490</td>\n",
       "      <td>4.358899</td>\n",
       "      <td>3.605551</td>\n",
       "    </tr>\n",
       "    <tr>\n",
       "      <th>3</th>\n",
       "      <td>5.385165</td>\n",
       "      <td>5.385165</td>\n",
       "      <td>2.449490</td>\n",
       "      <td>0.000000</td>\n",
       "      <td>5.385165</td>\n",
       "      <td>3.316625</td>\n",
       "    </tr>\n",
       "    <tr>\n",
       "      <th>4</th>\n",
       "      <td>0.000000</td>\n",
       "      <td>0.000000</td>\n",
       "      <td>4.358899</td>\n",
       "      <td>5.385165</td>\n",
       "      <td>0.000000</td>\n",
       "      <td>5.099020</td>\n",
       "    </tr>\n",
       "    <tr>\n",
       "      <th>5</th>\n",
       "      <td>5.099020</td>\n",
       "      <td>5.099020</td>\n",
       "      <td>3.605551</td>\n",
       "      <td>3.316625</td>\n",
       "      <td>5.099020</td>\n",
       "      <td>0.000000</td>\n",
       "    </tr>\n",
       "  </tbody>\n",
       "</table>\n",
       "</div>"
      ],
      "text/plain": [
       "          0         1         2         3         4         5\n",
       "0  0.000000  0.000000  4.358899  5.385165  0.000000  5.099020\n",
       "1  0.000000  0.000000  4.358899  5.385165  0.000000  5.099020\n",
       "2  4.358899  4.358899  0.000000  2.449490  4.358899  3.605551\n",
       "3  5.385165  5.385165  2.449490  0.000000  5.385165  3.316625\n",
       "4  0.000000  0.000000  4.358899  5.385165  0.000000  5.099020\n",
       "5  5.099020  5.099020  3.605551  3.316625  5.099020  0.000000"
      ]
     },
     "execution_count": 14,
     "metadata": {},
     "output_type": "execute_result"
    }
   ],
   "source": [
    "pd.DataFrame(np.linalg.norm(dataset_visual_uli - dataset_visual_uli[:,None], axis=-1))"
   ]
  },
  {
   "cell_type": "markdown",
   "metadata": {},
   "source": [
    "- **0**: Izabela\n",
    "- **1**: Thais\n",
    "- **2**: Lorena\n",
    "- **3**: Uliane\n",
    "- **4**: Isis\n",
    "- **5**: Marcos"
   ]
  },
  {
   "cell_type": "markdown",
   "metadata": {},
   "source": [
    "Obsesrvando a tabela de distâncias acima, verificamos que Uliane (3) tem um perfil mais próximo de Lorena(2). Dessa forma, poderíamos indicar para Uliane Velozes e Furiosos, sendo este o filme que Lorena mais gostou dos que Uliane ainda não viu. "
   ]
  },
  {
   "cell_type": "markdown",
   "metadata": {},
   "source": [
    "Uma boa opção também é atribuir pesos aos usuários mais próximos ou seu usuário de interesse para tornar essas recomendações mais efetivas."
   ]
  },
  {
   "cell_type": "markdown",
   "metadata": {},
   "source": [
    "# Prática 1- automatizando a etapa anterior"
   ]
  },
  {
   "cell_type": "markdown",
   "metadata": {},
   "source": [
    "Como vocês automatiariam a etapa anterior? Bora tentar!"
   ]
  },
  {
   "cell_type": "markdown",
   "metadata": {},
   "source": [
    "# Mostrando a parte prática passo a passo"
   ]
  },
  {
   "cell_type": "code",
   "execution_count": 15,
   "metadata": {
    "ExecuteTime": {
     "end_time": "2019-06-17T05:23:07.970927Z",
     "start_time": "2019-06-17T05:23:07.962948Z"
    }
   },
   "outputs": [],
   "source": [
    "#Encontrando os usuários que tiveram filmes não avaliados\n",
    "empty_movies = pd.DataFrame(movie_rating.set_index(['Unnamed: 0']).transpose().isna().sum()).reset_index()\n",
    "empty_movies = empty_movies[empty_movies[0]!= 0 ]['Unnamed: 0'].tolist()"
   ]
  },
  {
   "cell_type": "code",
   "execution_count": 16,
   "metadata": {
    "ExecuteTime": {
     "end_time": "2019-06-17T05:23:08.360883Z",
     "start_time": "2019-06-17T05:23:08.354900Z"
    }
   },
   "outputs": [],
   "source": [
    "#Criando uma tabela para inserir os resultados\n",
    "df_result = pd.DataFrame(columns=['Usuário de interesse','Usuário com perfil mais próximo','Filme recomendado'],index=range(len(empty_movies)))"
   ]
  },
  {
   "cell_type": "code",
   "execution_count": 17,
   "metadata": {
    "ExecuteTime": {
     "end_time": "2019-06-17T04:49:31.476909Z",
     "start_time": "2019-06-17T04:49:31.473912Z"
    }
   },
   "outputs": [
    {
     "ename": "SyntaxError",
     "evalue": "invalid syntax (<ipython-input-17-8536411d3550>, line 1)",
     "output_type": "error",
     "traceback": [
      "\u001b[0;36m  File \u001b[0;32m\"<ipython-input-17-8536411d3550>\"\u001b[0;36m, line \u001b[0;32m1\u001b[0m\n\u001b[0;31m    Testanado uma primeira iteração\u001b[0m\n\u001b[0m                ^\u001b[0m\n\u001b[0;31mSyntaxError\u001b[0m\u001b[0;31m:\u001b[0m invalid syntax\n"
     ]
    }
   ],
   "source": [
    "Testanado uma primeira iteração\n",
    "user = empty_movies[0]"
   ]
  },
  {
   "cell_type": "code",
   "execution_count": 193,
   "metadata": {
    "ExecuteTime": {
     "end_time": "2019-06-17T04:49:39.999057Z",
     "start_time": "2019-06-17T04:49:39.991080Z"
    }
   },
   "outputs": [],
   "source": [
    "filmes_vistos = movie_rating.loc[movie_rating['Unnamed: 0'] == user].dropna(axis=1).drop(['Unnamed: 0'],axis=1).keys().tolist()"
   ]
  },
  {
   "cell_type": "code",
   "execution_count": 194,
   "metadata": {
    "ExecuteTime": {
     "end_time": "2019-06-17T04:49:41.034288Z",
     "start_time": "2019-06-17T04:49:41.029302Z"
    }
   },
   "outputs": [
    {
     "data": {
      "text/plain": [
       "['Velozes e Furiosos', 'Star Wars', 'De volta para o futuro']"
      ]
     },
     "execution_count": 194,
     "metadata": {},
     "output_type": "execute_result"
    }
   ],
   "source": [
    "filmes_vistos"
   ]
  },
  {
   "cell_type": "code",
   "execution_count": 195,
   "metadata": {
    "ExecuteTime": {
     "end_time": "2019-06-17T04:49:44.464111Z",
     "start_time": "2019-06-17T04:49:44.459125Z"
    }
   },
   "outputs": [],
   "source": [
    "filmes_nao_vistos = list(set(movie_rating)-set(filmes_vistos))"
   ]
  },
  {
   "cell_type": "code",
   "execution_count": 196,
   "metadata": {
    "ExecuteTime": {
     "end_time": "2019-06-17T04:49:51.903240Z",
     "start_time": "2019-06-17T04:49:51.899218Z"
    }
   },
   "outputs": [
    {
     "data": {
      "text/plain": [
       "['Velozes e Furiosos', 'Star Wars', 'De volta para o futuro', 'Unnamed: 0']"
      ]
     },
     "execution_count": 196,
     "metadata": {},
     "output_type": "execute_result"
    }
   ],
   "source": [
    "filmes_vistos.append('Unnamed: 0')\n",
    "filmes_vistos"
   ]
  },
  {
   "cell_type": "code",
   "execution_count": 199,
   "metadata": {
    "ExecuteTime": {
     "end_time": "2019-06-17T04:50:15.128066Z",
     "start_time": "2019-06-17T04:50:15.120088Z"
    }
   },
   "outputs": [
    {
     "data": {
      "text/plain": [
       "['Izabela', 'Thais', 'Lorena', 'Leandro', 'Isis', 'Marcos']"
      ]
     },
     "execution_count": 199,
     "metadata": {},
     "output_type": "execute_result"
    }
   ],
   "source": [
    "users = movie_rating[filmes_vistos].dropna()['Unnamed: 0'].tolist()\n",
    "users"
   ]
  },
  {
   "cell_type": "code",
   "execution_count": 201,
   "metadata": {
    "ExecuteTime": {
     "end_time": "2019-06-17T04:50:44.564307Z",
     "start_time": "2019-06-17T04:50:44.552340Z"
    }
   },
   "outputs": [
    {
     "data": {
      "text/plain": [
       "array([[1., 3., 5.],\n",
       "       [1., 5., 5.],\n",
       "       [3., 1., 2.],\n",
       "       [5., 2., 4.],\n",
       "       [1., 5., 5.],\n",
       "       [3., 5., 4.]])"
      ]
     },
     "execution_count": 201,
     "metadata": {},
     "output_type": "execute_result"
    }
   ],
   "source": [
    "dataset_values = movie_rating[filmes_vistos].dropna().drop(['Unnamed: 0'],axis=1).values\n",
    "dataset_values"
   ]
  },
  {
   "cell_type": "code",
   "execution_count": 203,
   "metadata": {
    "ExecuteTime": {
     "end_time": "2019-06-17T04:50:58.550918Z",
     "start_time": "2019-06-17T04:50:58.546929Z"
    }
   },
   "outputs": [
    {
     "data": {
      "text/plain": [
       "3"
      ]
     },
     "execution_count": 203,
     "metadata": {},
     "output_type": "execute_result"
    }
   ],
   "source": [
    "users.index(user)"
   ]
  },
  {
   "cell_type": "code",
   "execution_count": 204,
   "metadata": {
    "ExecuteTime": {
     "end_time": "2019-06-17T04:51:14.998876Z",
     "start_time": "2019-06-17T04:51:14.990898Z"
    }
   },
   "outputs": [
    {
     "data": {
      "text/plain": [
       "0    4.242641\n",
       "1    5.099020\n",
       "2    3.000000\n",
       "4    5.099020\n",
       "5    3.605551\n",
       "Name: 3, dtype: float64"
      ]
     },
     "execution_count": 204,
     "metadata": {},
     "output_type": "execute_result"
    }
   ],
   "source": [
    "pd.DataFrame(np.linalg.norm(dataset_values - dataset_values[:,None], axis=-1))[users.index(user)].drop([users.index(user)],axis=0)"
   ]
  },
  {
   "cell_type": "code",
   "execution_count": 205,
   "metadata": {
    "ExecuteTime": {
     "end_time": "2019-06-17T04:51:26.159016Z",
     "start_time": "2019-06-17T04:51:26.153032Z"
    }
   },
   "outputs": [],
   "source": [
    "min_dist_index = pd.DataFrame(np.linalg.norm(dataset_values - dataset_values[:,None], axis=-1))[users.index(user)].drop([users.index(user)],axis=0).idxmin() "
   ]
  },
  {
   "cell_type": "code",
   "execution_count": 206,
   "metadata": {
    "ExecuteTime": {
     "end_time": "2019-06-17T04:51:30.080524Z",
     "start_time": "2019-06-17T04:51:30.075549Z"
    }
   },
   "outputs": [
    {
     "data": {
      "text/plain": [
       "'Lorena'"
      ]
     },
     "execution_count": 206,
     "metadata": {},
     "output_type": "execute_result"
    }
   ],
   "source": [
    "users[min_dist_index]"
   ]
  },
  {
   "cell_type": "code",
   "execution_count": 207,
   "metadata": {
    "ExecuteTime": {
     "end_time": "2019-06-17T04:51:34.930547Z",
     "start_time": "2019-06-17T04:51:34.926558Z"
    }
   },
   "outputs": [],
   "source": [
    "filmes_nao_vistos.append('Unnamed: 0')"
   ]
  },
  {
   "cell_type": "code",
   "execution_count": 208,
   "metadata": {
    "ExecuteTime": {
     "end_time": "2019-06-17T04:51:58.953272Z",
     "start_time": "2019-06-17T04:51:58.948285Z"
    }
   },
   "outputs": [
    {
     "data": {
      "text/plain": [
       "['Unnamed: 0', 'O Senhor dos anéis', 'Orgulho & Preconceito', 'Unnamed: 0']"
      ]
     },
     "execution_count": 208,
     "metadata": {},
     "output_type": "execute_result"
    }
   ],
   "source": [
    "filmes_nao_vistos"
   ]
  },
  {
   "cell_type": "code",
   "execution_count": 253,
   "metadata": {
    "ExecuteTime": {
     "end_time": "2019-06-17T05:21:21.400068Z",
     "start_time": "2019-06-17T05:21:21.394084Z"
    }
   },
   "outputs": [],
   "source": [
    "filme_recomendado = max(movie_rating[filmes_nao_vistos].loc[(movie_rating['Unnamed: 0'] == users[min_dist_index])].drop('Unnamed: 0',axis = 1))"
   ]
  },
  {
   "cell_type": "code",
   "execution_count": 254,
   "metadata": {
    "ExecuteTime": {
     "end_time": "2019-06-17T05:21:22.070274Z",
     "start_time": "2019-06-17T05:21:22.065289Z"
    }
   },
   "outputs": [
    {
     "data": {
      "text/plain": [
       "'Orgulho & Preconceito'"
      ]
     },
     "execution_count": 254,
     "metadata": {},
     "output_type": "execute_result"
    }
   ],
   "source": [
    "filme_recomendado"
   ]
  },
  {
   "cell_type": "code",
   "execution_count": 259,
   "metadata": {
    "ExecuteTime": {
     "end_time": "2019-06-17T05:32:23.171433Z",
     "start_time": "2019-06-17T05:32:23.164452Z"
    }
   },
   "outputs": [],
   "source": [
    "df_result = pd.DataFrame(columns=['Usuário de interesse','Usuário com perfil mais próximo','Filme recomendado'],index=range(2))"
   ]
  },
  {
   "cell_type": "code",
   "execution_count": 262,
   "metadata": {
    "ExecuteTime": {
     "end_time": "2019-06-17T15:21:50.464249Z",
     "start_time": "2019-06-17T15:21:50.386491Z"
    }
   },
   "outputs": [
    {
     "data": {
      "text/html": [
       "<div>\n",
       "<style scoped>\n",
       "    .dataframe tbody tr th:only-of-type {\n",
       "        vertical-align: middle;\n",
       "    }\n",
       "\n",
       "    .dataframe tbody tr th {\n",
       "        vertical-align: top;\n",
       "    }\n",
       "\n",
       "    .dataframe thead th {\n",
       "        text-align: right;\n",
       "    }\n",
       "</style>\n",
       "<table border=\"1\" class=\"dataframe\">\n",
       "  <thead>\n",
       "    <tr style=\"text-align: right;\">\n",
       "      <th></th>\n",
       "      <th>Usuário de interesse</th>\n",
       "      <th>Usuário com perfil mais próximo</th>\n",
       "      <th>Filme recomendado</th>\n",
       "    </tr>\n",
       "  </thead>\n",
       "  <tbody>\n",
       "    <tr>\n",
       "      <th>0</th>\n",
       "      <td>Leandro</td>\n",
       "      <td>Lorena</td>\n",
       "      <td>Orgulho &amp; Preconceito</td>\n",
       "    </tr>\n",
       "    <tr>\n",
       "      <th>1</th>\n",
       "      <td>NaN</td>\n",
       "      <td>NaN</td>\n",
       "      <td>NaN</td>\n",
       "    </tr>\n",
       "  </tbody>\n",
       "</table>\n",
       "</div>"
      ],
      "text/plain": [
       "  Usuário de interesse Usuário com perfil mais próximo      Filme recomendado\n",
       "0              Leandro                          Lorena  Orgulho & Preconceito\n",
       "1                  NaN                             NaN                    NaN"
      ]
     },
     "execution_count": 262,
     "metadata": {},
     "output_type": "execute_result"
    }
   ],
   "source": [
    "df_result.iloc[0]['Usuário de interesse'] = 'Leandro'\n",
    "df_result.iloc[0]['Usuário com perfil mais próximo'] = users[min_dist_index]\n",
    "df_result.iloc[0]['Filme recomendado'] = filme_recomendado\n",
    "df_result"
   ]
  },
  {
   "cell_type": "markdown",
   "metadata": {},
   "source": [
    "# Prática 2-  E se utilizarmos a simetria calculada para fazermos uma média ponderada e estimarmos a possível nota dada aos filmes? "
   ]
  },
  {
   "cell_type": "markdown",
   "metadata": {},
   "source": [
    "Para conseguirmos trazer um pouco mais de robustez nos nossos cálculos, podemos estimar qual seria a nota dos filmes não avaliados utilizando os cálculos de similaridade que já fizemos anteriormente! Pensando nisso, como vocês fariam essa etapa?"
   ]
  },
  {
   "cell_type": "markdown",
   "metadata": {},
   "source": [
    "Partindo da mesma ideia, precisamos encontrar quais são os usuários que não avaliaram alguns dos filmes da base de dados."
   ]
  },
  {
   "cell_type": "code",
   "execution_count": 374,
   "metadata": {
    "ExecuteTime": {
     "end_time": "2019-06-17T19:55:19.407295Z",
     "start_time": "2019-06-17T19:55:19.255114Z"
    }
   },
   "outputs": [
    {
     "data": {
      "text/plain": [
       "['Leandro', 'Uliane']"
      ]
     },
     "execution_count": 374,
     "metadata": {},
     "output_type": "execute_result"
    }
   ],
   "source": [
    "#Encontrando os usuários que tem filmes não vistos na base\n",
    "empty_movies = pd.DataFrame(movie_rating.set_index(['Unnamed: 0']).transpose().isna().sum()).reset_index()\n",
    "empty_movies = empty_movies[empty_movies[0]!= 0 ]['Unnamed: 0'].tolist()\n",
    "empty_movies"
   ]
  },
  {
   "cell_type": "markdown",
   "metadata": {},
   "source": [
    "Testando então primeiramente com o usuário **Leandro**, temos:"
   ]
  },
  {
   "cell_type": "code",
   "execution_count": 265,
   "metadata": {
    "ExecuteTime": {
     "end_time": "2019-06-17T15:27:04.111044Z",
     "start_time": "2019-06-17T15:27:04.108052Z"
    }
   },
   "outputs": [],
   "source": [
    "i=0\n",
    "user ='Leandro'"
   ]
  },
  {
   "cell_type": "code",
   "execution_count": 274,
   "metadata": {
    "ExecuteTime": {
     "end_time": "2019-06-17T15:33:27.078401Z",
     "start_time": "2019-06-17T15:33:27.075436Z"
    }
   },
   "outputs": [],
   "source": [
    "#Pegando todos os usuários da base\n",
    "users = movie_rating['Unnamed: 0'].tolist()"
   ]
  },
  {
   "cell_type": "code",
   "execution_count": 276,
   "metadata": {
    "ExecuteTime": {
     "end_time": "2019-06-17T15:33:34.913413Z",
     "start_time": "2019-06-17T15:33:34.908427Z"
    }
   },
   "outputs": [
    {
     "data": {
      "text/plain": [
       "['Izabela', 'Thais', 'Lorena', 'Leandro', 'Uliane', 'Isis', 'Marcos']"
      ]
     },
     "execution_count": 276,
     "metadata": {},
     "output_type": "execute_result"
    }
   ],
   "source": [
    "users"
   ]
  },
  {
   "cell_type": "code",
   "execution_count": 393,
   "metadata": {
    "ExecuteTime": {
     "end_time": "2019-06-17T21:04:49.592920Z",
     "start_time": "2019-06-17T21:04:49.585938Z"
    }
   },
   "outputs": [],
   "source": [
    "#Criando um dataframe para colocarmos os resultados das similaridades \n",
    "df_all_similarities = pd.DataFrame(columns=[ 'Leandro', 'Uliane'],index=['Izabela', 'Thais', 'Lorena', 'Leandro', 'Uliane', 'Isis', 'Marcos'])"
   ]
  },
  {
   "cell_type": "code",
   "execution_count": 394,
   "metadata": {
    "ExecuteTime": {
     "end_time": "2019-06-17T21:04:50.006812Z",
     "start_time": "2019-06-17T21:04:49.999830Z"
    }
   },
   "outputs": [
    {
     "data": {
      "text/html": [
       "<div>\n",
       "<style scoped>\n",
       "    .dataframe tbody tr th:only-of-type {\n",
       "        vertical-align: middle;\n",
       "    }\n",
       "\n",
       "    .dataframe tbody tr th {\n",
       "        vertical-align: top;\n",
       "    }\n",
       "\n",
       "    .dataframe thead th {\n",
       "        text-align: right;\n",
       "    }\n",
       "</style>\n",
       "<table border=\"1\" class=\"dataframe\">\n",
       "  <thead>\n",
       "    <tr style=\"text-align: right;\">\n",
       "      <th></th>\n",
       "      <th>Leandro</th>\n",
       "      <th>Uliane</th>\n",
       "    </tr>\n",
       "  </thead>\n",
       "  <tbody>\n",
       "    <tr>\n",
       "      <th>Izabela</th>\n",
       "      <td>NaN</td>\n",
       "      <td>NaN</td>\n",
       "    </tr>\n",
       "    <tr>\n",
       "      <th>Thais</th>\n",
       "      <td>NaN</td>\n",
       "      <td>NaN</td>\n",
       "    </tr>\n",
       "    <tr>\n",
       "      <th>Lorena</th>\n",
       "      <td>NaN</td>\n",
       "      <td>NaN</td>\n",
       "    </tr>\n",
       "    <tr>\n",
       "      <th>Leandro</th>\n",
       "      <td>NaN</td>\n",
       "      <td>NaN</td>\n",
       "    </tr>\n",
       "    <tr>\n",
       "      <th>Uliane</th>\n",
       "      <td>NaN</td>\n",
       "      <td>NaN</td>\n",
       "    </tr>\n",
       "    <tr>\n",
       "      <th>Isis</th>\n",
       "      <td>NaN</td>\n",
       "      <td>NaN</td>\n",
       "    </tr>\n",
       "    <tr>\n",
       "      <th>Marcos</th>\n",
       "      <td>NaN</td>\n",
       "      <td>NaN</td>\n",
       "    </tr>\n",
       "  </tbody>\n",
       "</table>\n",
       "</div>"
      ],
      "text/plain": [
       "        Leandro Uliane\n",
       "Izabela     NaN    NaN\n",
       "Thais       NaN    NaN\n",
       "Lorena      NaN    NaN\n",
       "Leandro     NaN    NaN\n",
       "Uliane      NaN    NaN\n",
       "Isis        NaN    NaN\n",
       "Marcos      NaN    NaN"
      ]
     },
     "execution_count": 394,
     "metadata": {},
     "output_type": "execute_result"
    }
   ],
   "source": [
    "df_all_similarities"
   ]
  },
  {
   "cell_type": "code",
   "execution_count": 395,
   "metadata": {
    "ExecuteTime": {
     "end_time": "2019-06-17T21:04:50.449401Z",
     "start_time": "2019-06-17T21:04:50.441422Z"
    }
   },
   "outputs": [],
   "source": [
    "other_user = 'Thais'\n",
    "user= 'Leandro'\n",
    "movie_rating_two_users = movie_rating.loc[movie_rating['Unnamed: 0'].isin([user,other_user])]\n",
    "movie_rating_two_users = movie_rating_two_users.dropna(axis=1).drop(['Unnamed: 0'],axis=1).values"
   ]
  },
  {
   "cell_type": "code",
   "execution_count": 396,
   "metadata": {
    "ExecuteTime": {
     "end_time": "2019-06-17T21:04:50.941337Z",
     "start_time": "2019-06-17T21:04:50.937373Z"
    }
   },
   "outputs": [
    {
     "data": {
      "text/plain": [
       "array([[1., 5., 5.],\n",
       "       [5., 2., 4.]])"
      ]
     },
     "execution_count": 396,
     "metadata": {},
     "output_type": "execute_result"
    }
   ],
   "source": [
    "movie_rating_two_users"
   ]
  },
  {
   "cell_type": "code",
   "execution_count": 397,
   "metadata": {
    "ExecuteTime": {
     "end_time": "2019-06-17T21:04:51.455687Z",
     "start_time": "2019-06-17T21:04:51.451692Z"
    }
   },
   "outputs": [
    {
     "data": {
      "text/plain": [
       "5.0990195135927845"
      ]
     },
     "execution_count": 397,
     "metadata": {},
     "output_type": "execute_result"
    }
   ],
   "source": [
    "np.linalg.norm(movie_rating_two_users - movie_rating_two_users[:,None], axis=-1)[0][1]"
   ]
  },
  {
   "cell_type": "code",
   "execution_count": 398,
   "metadata": {
    "ExecuteTime": {
     "end_time": "2019-06-17T21:04:51.920414Z",
     "start_time": "2019-06-17T21:04:51.916428Z"
    }
   },
   "outputs": [],
   "source": [
    "df_all_similarities.loc[(df_all_similarities.index == other_user),user] = np.linalg.norm(movie_rating_two_users - movie_rating_two_users[:,None], axis=-1)[0][1]"
   ]
  },
  {
   "cell_type": "code",
   "execution_count": 399,
   "metadata": {
    "ExecuteTime": {
     "end_time": "2019-06-17T21:04:52.660981Z",
     "start_time": "2019-06-17T21:04:52.654000Z"
    }
   },
   "outputs": [
    {
     "data": {
      "text/html": [
       "<div>\n",
       "<style scoped>\n",
       "    .dataframe tbody tr th:only-of-type {\n",
       "        vertical-align: middle;\n",
       "    }\n",
       "\n",
       "    .dataframe tbody tr th {\n",
       "        vertical-align: top;\n",
       "    }\n",
       "\n",
       "    .dataframe thead th {\n",
       "        text-align: right;\n",
       "    }\n",
       "</style>\n",
       "<table border=\"1\" class=\"dataframe\">\n",
       "  <thead>\n",
       "    <tr style=\"text-align: right;\">\n",
       "      <th></th>\n",
       "      <th>Leandro</th>\n",
       "      <th>Uliane</th>\n",
       "    </tr>\n",
       "  </thead>\n",
       "  <tbody>\n",
       "    <tr>\n",
       "      <th>Izabela</th>\n",
       "      <td>NaN</td>\n",
       "      <td>NaN</td>\n",
       "    </tr>\n",
       "    <tr>\n",
       "      <th>Thais</th>\n",
       "      <td>5.09902</td>\n",
       "      <td>NaN</td>\n",
       "    </tr>\n",
       "    <tr>\n",
       "      <th>Lorena</th>\n",
       "      <td>NaN</td>\n",
       "      <td>NaN</td>\n",
       "    </tr>\n",
       "    <tr>\n",
       "      <th>Leandro</th>\n",
       "      <td>NaN</td>\n",
       "      <td>NaN</td>\n",
       "    </tr>\n",
       "    <tr>\n",
       "      <th>Uliane</th>\n",
       "      <td>NaN</td>\n",
       "      <td>NaN</td>\n",
       "    </tr>\n",
       "    <tr>\n",
       "      <th>Isis</th>\n",
       "      <td>NaN</td>\n",
       "      <td>NaN</td>\n",
       "    </tr>\n",
       "    <tr>\n",
       "      <th>Marcos</th>\n",
       "      <td>NaN</td>\n",
       "      <td>NaN</td>\n",
       "    </tr>\n",
       "  </tbody>\n",
       "</table>\n",
       "</div>"
      ],
      "text/plain": [
       "         Leandro Uliane\n",
       "Izabela      NaN    NaN\n",
       "Thais    5.09902    NaN\n",
       "Lorena       NaN    NaN\n",
       "Leandro      NaN    NaN\n",
       "Uliane       NaN    NaN\n",
       "Isis         NaN    NaN\n",
       "Marcos       NaN    NaN"
      ]
     },
     "execution_count": 399,
     "metadata": {},
     "output_type": "execute_result"
    }
   ],
   "source": [
    "df_all_similarities"
   ]
  },
  {
   "cell_type": "code",
   "execution_count": 400,
   "metadata": {
    "ExecuteTime": {
     "end_time": "2019-06-17T21:05:03.696625Z",
     "start_time": "2019-06-17T21:05:03.636747Z"
    },
    "code_folding": []
   },
   "outputs": [
    {
     "name": "stdout",
     "output_type": "stream",
     "text": [
      "[[1. 3. 5.]\n",
      " [5. 2. 4.]]\n",
      "Izabela\n",
      "[[1. 5. 5.]\n",
      " [5. 2. 4.]]\n",
      "Thais\n",
      "[[3. 1. 2.]\n",
      " [5. 2. 4.]]\n",
      "Lorena\n",
      "[[5. 2. 4.]]\n",
      "Leandro\n",
      "[[4]\n",
      " [1]]\n",
      "Uliane\n",
      "[[5. 2. 4.]\n",
      " [1. 5. 5.]]\n",
      "Isis\n",
      "[[5. 2. 4.]\n",
      " [3. 5. 4.]]\n",
      "Marcos\n",
      "[[5. 5. 5.]\n",
      " [2. 3. 1.]]\n",
      "Izabela\n",
      "[[5. 5. 5.]\n",
      " [2. 3. 1.]]\n",
      "Thais\n",
      "[[4. 2. 2.]\n",
      " [2. 3. 1.]]\n",
      "Lorena\n",
      "[[4]\n",
      " [1]]\n",
      "Leandro\n",
      "[[2. 3. 1.]]\n",
      "Uliane\n",
      "[[2. 3. 1.]\n",
      " [5. 5. 5.]]\n",
      "Isis\n",
      "[[2. 3. 1.]\n",
      " [1. 2. 4.]]\n",
      "Marcos\n"
     ]
    }
   ],
   "source": [
    "df_all_similarities = pd.DataFrame(columns=[empty_movies],index=['Izabela', 'Thais', 'Lorena', 'Leandro', 'Uliane', 'Isis', 'Marcos'])\n",
    "for user in empty_movies:\n",
    "    for other_user in users:\n",
    "        movie_rating_two_users = movie_rating.loc[movie_rating['Unnamed: 0'].isin([user,other_user])]\n",
    "        movie_rating_two_users = movie_rating_two_users.dropna(axis=1).drop(['Unnamed: 0'],axis=1).values\n",
    "        print(movie_rating_two_users)\n",
    "        print(other_user)\n",
    "       \n",
    "        if other_user != user:\n",
    "            df_all_similarities.loc[(df_all_similarities.index == other_user),user] = 1/(1+np.linalg.norm(movie_rating_two_users - movie_rating_two_users[:,None], axis=-1)[0][1])\n",
    "            #df_all_similarities.loc[(df_all_similarities.index == other_user),user] = np.linalg.norm(movie_rating_two_users - movie_rating_two_users[:,None], axis=-1)[0][1]"
   ]
  },
  {
   "cell_type": "code",
   "execution_count": 401,
   "metadata": {
    "ExecuteTime": {
     "end_time": "2019-06-17T21:05:08.753297Z",
     "start_time": "2019-06-17T21:05:08.746317Z"
    }
   },
   "outputs": [
    {
     "data": {
      "text/html": [
       "<div>\n",
       "<style scoped>\n",
       "    .dataframe tbody tr th:only-of-type {\n",
       "        vertical-align: middle;\n",
       "    }\n",
       "\n",
       "    .dataframe tbody tr th {\n",
       "        vertical-align: top;\n",
       "    }\n",
       "\n",
       "    .dataframe thead tr th {\n",
       "        text-align: left;\n",
       "    }\n",
       "</style>\n",
       "<table border=\"1\" class=\"dataframe\">\n",
       "  <thead>\n",
       "    <tr>\n",
       "      <th></th>\n",
       "      <th>Leandro</th>\n",
       "      <th>Uliane</th>\n",
       "    </tr>\n",
       "  </thead>\n",
       "  <tbody>\n",
       "    <tr>\n",
       "      <th>Izabela</th>\n",
       "      <td>0.190744</td>\n",
       "      <td>0.156613</td>\n",
       "    </tr>\n",
       "    <tr>\n",
       "      <th>Thais</th>\n",
       "      <td>0.163961</td>\n",
       "      <td>0.156613</td>\n",
       "    </tr>\n",
       "    <tr>\n",
       "      <th>Lorena</th>\n",
       "      <td>0.25</td>\n",
       "      <td>0.289898</td>\n",
       "    </tr>\n",
       "    <tr>\n",
       "      <th>Leandro</th>\n",
       "      <td>NaN</td>\n",
       "      <td>0.25</td>\n",
       "    </tr>\n",
       "    <tr>\n",
       "      <th>Uliane</th>\n",
       "      <td>0.25</td>\n",
       "      <td>NaN</td>\n",
       "    </tr>\n",
       "    <tr>\n",
       "      <th>Isis</th>\n",
       "      <td>0.163961</td>\n",
       "      <td>0.156613</td>\n",
       "    </tr>\n",
       "    <tr>\n",
       "      <th>Marcos</th>\n",
       "      <td>0.217129</td>\n",
       "      <td>0.231662</td>\n",
       "    </tr>\n",
       "  </tbody>\n",
       "</table>\n",
       "</div>"
      ],
      "text/plain": [
       "          Leandro    Uliane\n",
       "Izabela  0.190744  0.156613\n",
       "Thais    0.163961  0.156613\n",
       "Lorena       0.25  0.289898\n",
       "Leandro       NaN      0.25\n",
       "Uliane       0.25       NaN\n",
       "Isis     0.163961  0.156613\n",
       "Marcos   0.217129  0.231662"
      ]
     },
     "execution_count": 401,
     "metadata": {},
     "output_type": "execute_result"
    }
   ],
   "source": [
    "df_all_similarities"
   ]
  },
  {
   "cell_type": "code",
   "execution_count": 402,
   "metadata": {
    "ExecuteTime": {
     "end_time": "2019-06-17T21:05:26.015221Z",
     "start_time": "2019-06-17T21:05:26.007242Z"
    }
   },
   "outputs": [],
   "source": [
    "filmes_vistos = movie_rating.loc[movie_rating['Unnamed: 0'] == user].dropna(axis=1).drop(['Unnamed: 0'],axis=1).keys().tolist()\n",
    "\n",
    "#Guardando os filmes não vistos para a parte de recomendação\n",
    "filmes_nao_vistos = list(set(movie_rating)-set(filmes_vistos))\n",
    "filmes_vistos.append('Unnamed: 0')"
   ]
  },
  {
   "cell_type": "code",
   "execution_count": 403,
   "metadata": {
    "ExecuteTime": {
     "end_time": "2019-06-17T21:05:34.908739Z",
     "start_time": "2019-06-17T21:05:34.905747Z"
    }
   },
   "outputs": [],
   "source": [
    "filmes_nao_vistos = set(filmes_nao_vistos)-set(['Unnamed: 0'])"
   ]
  },
  {
   "cell_type": "code",
   "execution_count": 404,
   "metadata": {
    "ExecuteTime": {
     "end_time": "2019-06-17T21:05:35.571064Z",
     "start_time": "2019-06-17T21:05:35.568073Z"
    }
   },
   "outputs": [],
   "source": [
    "df_all_similarities_aux = df_all_similarities[user]"
   ]
  },
  {
   "cell_type": "code",
   "execution_count": 405,
   "metadata": {
    "ExecuteTime": {
     "end_time": "2019-06-17T21:05:36.882081Z",
     "start_time": "2019-06-17T21:05:36.873109Z"
    }
   },
   "outputs": [
    {
     "data": {
      "text/html": [
       "<div>\n",
       "<style scoped>\n",
       "    .dataframe tbody tr th:only-of-type {\n",
       "        vertical-align: middle;\n",
       "    }\n",
       "\n",
       "    .dataframe tbody tr th {\n",
       "        vertical-align: top;\n",
       "    }\n",
       "\n",
       "    .dataframe thead th {\n",
       "        text-align: right;\n",
       "    }\n",
       "</style>\n",
       "<table border=\"1\" class=\"dataframe\">\n",
       "  <thead>\n",
       "    <tr style=\"text-align: right;\">\n",
       "      <th></th>\n",
       "      <th>Star Wars</th>\n",
       "      <th>Velozes e Furiosos</th>\n",
       "    </tr>\n",
       "  </thead>\n",
       "  <tbody>\n",
       "    <tr>\n",
       "      <th>0</th>\n",
       "      <td>3.0</td>\n",
       "      <td>1.0</td>\n",
       "    </tr>\n",
       "    <tr>\n",
       "      <th>1</th>\n",
       "      <td>5.0</td>\n",
       "      <td>1.0</td>\n",
       "    </tr>\n",
       "    <tr>\n",
       "      <th>2</th>\n",
       "      <td>1.0</td>\n",
       "      <td>3.0</td>\n",
       "    </tr>\n",
       "    <tr>\n",
       "      <th>3</th>\n",
       "      <td>2.0</td>\n",
       "      <td>5.0</td>\n",
       "    </tr>\n",
       "    <tr>\n",
       "      <th>4</th>\n",
       "      <td>NaN</td>\n",
       "      <td>NaN</td>\n",
       "    </tr>\n",
       "    <tr>\n",
       "      <th>5</th>\n",
       "      <td>5.0</td>\n",
       "      <td>1.0</td>\n",
       "    </tr>\n",
       "    <tr>\n",
       "      <th>6</th>\n",
       "      <td>5.0</td>\n",
       "      <td>3.0</td>\n",
       "    </tr>\n",
       "  </tbody>\n",
       "</table>\n",
       "</div>"
      ],
      "text/plain": [
       "   Star Wars  Velozes e Furiosos\n",
       "0        3.0                 1.0\n",
       "1        5.0                 1.0\n",
       "2        1.0                 3.0\n",
       "3        2.0                 5.0\n",
       "4        NaN                 NaN\n",
       "5        5.0                 1.0\n",
       "6        5.0                 3.0"
      ]
     },
     "execution_count": 405,
     "metadata": {},
     "output_type": "execute_result"
    }
   ],
   "source": [
    "movie_rating[filmes_nao_vistos]"
   ]
  },
  {
   "cell_type": "code",
   "execution_count": 406,
   "metadata": {
    "ExecuteTime": {
     "end_time": "2019-06-17T21:05:40.189650Z",
     "start_time": "2019-06-17T21:05:40.182671Z"
    }
   },
   "outputs": [
    {
     "data": {
      "text/html": [
       "<div>\n",
       "<style scoped>\n",
       "    .dataframe tbody tr th:only-of-type {\n",
       "        vertical-align: middle;\n",
       "    }\n",
       "\n",
       "    .dataframe tbody tr th {\n",
       "        vertical-align: top;\n",
       "    }\n",
       "\n",
       "    .dataframe thead tr th {\n",
       "        text-align: left;\n",
       "    }\n",
       "</style>\n",
       "<table border=\"1\" class=\"dataframe\">\n",
       "  <thead>\n",
       "    <tr>\n",
       "      <th></th>\n",
       "      <th>Uliane</th>\n",
       "    </tr>\n",
       "  </thead>\n",
       "  <tbody>\n",
       "    <tr>\n",
       "      <th>Izabela</th>\n",
       "      <td>0.156613</td>\n",
       "    </tr>\n",
       "    <tr>\n",
       "      <th>Thais</th>\n",
       "      <td>0.156613</td>\n",
       "    </tr>\n",
       "    <tr>\n",
       "      <th>Lorena</th>\n",
       "      <td>0.289898</td>\n",
       "    </tr>\n",
       "    <tr>\n",
       "      <th>Leandro</th>\n",
       "      <td>0.25</td>\n",
       "    </tr>\n",
       "    <tr>\n",
       "      <th>Uliane</th>\n",
       "      <td>NaN</td>\n",
       "    </tr>\n",
       "    <tr>\n",
       "      <th>Isis</th>\n",
       "      <td>0.156613</td>\n",
       "    </tr>\n",
       "    <tr>\n",
       "      <th>Marcos</th>\n",
       "      <td>0.231662</td>\n",
       "    </tr>\n",
       "  </tbody>\n",
       "</table>\n",
       "</div>"
      ],
      "text/plain": [
       "           Uliane\n",
       "Izabela  0.156613\n",
       "Thais    0.156613\n",
       "Lorena   0.289898\n",
       "Leandro      0.25\n",
       "Uliane        NaN\n",
       "Isis     0.156613\n",
       "Marcos   0.231662"
      ]
     },
     "execution_count": 406,
     "metadata": {},
     "output_type": "execute_result"
    }
   ],
   "source": [
    "df_all_similarities_aux"
   ]
  },
  {
   "cell_type": "code",
   "execution_count": 407,
   "metadata": {
    "ExecuteTime": {
     "end_time": "2019-06-17T21:05:42.529618Z",
     "start_time": "2019-06-17T21:05:42.521640Z"
    }
   },
   "outputs": [],
   "source": [
    "df_result = pd.concat([df_all_similarities_aux.reset_index(),movie_rating[filmes_nao_vistos]], axis=1).dropna()"
   ]
  },
  {
   "cell_type": "code",
   "execution_count": 368,
   "metadata": {
    "ExecuteTime": {
     "end_time": "2019-06-17T19:38:32.935427Z",
     "start_time": "2019-06-17T19:38:32.903072Z"
    }
   },
   "outputs": [],
   "source": [
    "df_notas_estimadas = pd.DataFrame(columns=['Usuario','Filme','Nota estimada'],index=range(len(filmes_nao_vistos)))\n",
    "\n",
    "for i,filme in enumerate(filmes_nao_vistos):\n",
    "    print(filme)\n",
    "    df_result['Sx'+filme] = df_result[str(filme)] * df_result[df_result.keys()[1]] \n",
    "    print(sum(df_result['Sx'+filme])/sum(df_result[df_result.keys()[1]]))\n",
    "    df_notas_estimadas['Usuario'][i] = user\n",
    "    df_notas_estimadas['Filme'][i] = filme\n",
    "    df_notas_estimadas['Nota estimada'][i] = sum(df_result['Sx'+filme])/sum(df_result[df_result.keys()[1]])"
   ]
  },
  {
   "cell_type": "code",
   "execution_count": 373,
   "metadata": {
    "ExecuteTime": {
     "end_time": "2019-06-17T19:42:03.850745Z",
     "start_time": "2019-06-17T19:42:03.835616Z"
    }
   },
   "outputs": [
    {
     "data": {
      "text/html": [
       "<div>\n",
       "<style scoped>\n",
       "    .dataframe tbody tr th:only-of-type {\n",
       "        vertical-align: middle;\n",
       "    }\n",
       "\n",
       "    .dataframe tbody tr th {\n",
       "        vertical-align: top;\n",
       "    }\n",
       "\n",
       "    .dataframe thead th {\n",
       "        text-align: right;\n",
       "    }\n",
       "</style>\n",
       "<table border=\"1\" class=\"dataframe\">\n",
       "  <thead>\n",
       "    <tr style=\"text-align: right;\">\n",
       "      <th></th>\n",
       "      <th>Usuario</th>\n",
       "      <th>Filme</th>\n",
       "      <th>Nota estimada</th>\n",
       "    </tr>\n",
       "  </thead>\n",
       "  <tbody>\n",
       "    <tr>\n",
       "      <th>0</th>\n",
       "      <td>Uliane</td>\n",
       "      <td>Star Wars</td>\n",
       "      <td>3.20943</td>\n",
       "    </tr>\n",
       "    <tr>\n",
       "      <th>1</th>\n",
       "      <td>Uliane</td>\n",
       "      <td>Velozes e Furiosos</td>\n",
       "      <td>2.64582</td>\n",
       "    </tr>\n",
       "  </tbody>\n",
       "</table>\n",
       "</div>"
      ],
      "text/plain": [
       "  Usuario               Filme Nota estimada\n",
       "0  Uliane           Star Wars       3.20943\n",
       "1  Uliane  Velozes e Furiosos       2.64582"
      ]
     },
     "execution_count": 373,
     "metadata": {},
     "output_type": "execute_result"
    }
   ],
   "source": [
    "df_notas_estimadas"
   ]
  },
  {
   "cell_type": "code",
   "execution_count": null,
   "metadata": {},
   "outputs": [],
   "source": [
    "df_notas_estimadas_all_users = pd.DataFrame(columns=['Usuario','Filme','Nota estimada'],index=range(len(filmes_nao_vistos)))"
   ]
  },
  {
   "cell_type": "markdown",
   "metadata": {},
   "source": [
    "## OBS: PCA"
   ]
  },
  {
   "cell_type": "markdown",
   "metadata": {},
   "source": [
    "Caso vocês tivesse 5 dimensões (5 filmes nesse caso) para plotar, sería necessário fazer a redução de dimensões para 3 ou para 2. Calculando as \"componentes principais\" para o caso de 5 filmes, faríamos da seguinte maneira: "
   ]
  },
  {
   "cell_type": "code",
   "execution_count": 55,
   "metadata": {
    "ExecuteTime": {
     "end_time": "2019-06-17T01:42:47.943308Z",
     "start_time": "2019-06-17T01:42:47.935328Z"
    }
   },
   "outputs": [],
   "source": [
    "movie_rating_dropna = movie_rating.dropna()\n",
    "data_pca = movie_rating_dropna.drop(['Unnamed: 0'],axis=1).values"
   ]
  },
  {
   "cell_type": "code",
   "execution_count": 57,
   "metadata": {
    "ExecuteTime": {
     "end_time": "2019-06-17T01:43:10.031162Z",
     "start_time": "2019-06-17T01:43:10.026176Z"
    }
   },
   "outputs": [
    {
     "data": {
      "text/plain": [
       "array([[5., 1., 5., 3., 5.],\n",
       "       [5., 1., 5., 5., 5.],\n",
       "       [4., 3., 2., 1., 2.],\n",
       "       [5., 1., 5., 5., 5.],\n",
       "       [1., 3., 2., 5., 4.]])"
      ]
     },
     "execution_count": 57,
     "metadata": {},
     "output_type": "execute_result"
    }
   ],
   "source": [
    "data_pca"
   ]
  },
  {
   "cell_type": "code",
   "execution_count": 56,
   "metadata": {
    "ExecuteTime": {
     "end_time": "2019-06-17T01:43:02.725709Z",
     "start_time": "2019-06-17T01:43:02.720722Z"
    }
   },
   "outputs": [],
   "source": [
    "pca = PCA(n_components=3)\n",
    "principalComponents  = pca.fit_transform(data_pca)"
   ]
  },
  {
   "cell_type": "code",
   "execution_count": 58,
   "metadata": {
    "ExecuteTime": {
     "end_time": "2019-06-17T01:43:35.549883Z",
     "start_time": "2019-06-17T01:43:35.543901Z"
    }
   },
   "outputs": [
    {
     "data": {
      "text/plain": [
       "array([[-1.51955293, -1.19993106,  0.78174444],\n",
       "       [-2.22511482,  0.28484148, -0.35739249],\n",
       "       [ 3.44579074, -2.32858787, -0.25338652],\n",
       "       [-2.22511482,  0.28484148, -0.35739249],\n",
       "       [ 2.52399182,  2.95883596,  0.18642705]])"
      ]
     },
     "execution_count": 58,
     "metadata": {},
     "output_type": "execute_result"
    }
   ],
   "source": [
    "principalComponents"
   ]
  },
  {
   "cell_type": "markdown",
   "metadata": {},
   "source": [
    "## OBS2: Tentem fazer a análise anteiror de forma automatizada "
   ]
  },
  {
   "cell_type": "markdown",
   "metadata": {},
   "source": [
    "Passos para isso:\n",
    "- Verificar quais usuários possuem células nulas;\n",
    "- Filtrar a matriz apenas com as pessoas que viram os mesmos filmes do usuário que se pretende fazer uma recomendação;\n",
    "- Calcular as distâncias euclidiantes entre os usuários resultantes;\n",
    "- Verificar qual dos usuários é mais próximo do usuário de interesse;\n",
    "- Verificar quais filmes o usuário mais próximo ao de interesse gostou e que o nosso usuário de interesse ainda não viu, e recomendar esses filmes para ele! \\o/"
   ]
  },
  {
   "cell_type": "markdown",
   "metadata": {},
   "source": [
    "## OBS3: Escalonamento dos dados"
   ]
  },
  {
   "cell_type": "markdown",
   "metadata": {},
   "source": [
    "Ao utilizar a **Distância Euclidiana**, é preciso tomar cuidado com a escala das variáveis. "
   ]
  }
 ],
 "metadata": {
  "kernelspec": {
   "display_name": "Python 3",
   "language": "python",
   "name": "python3"
  },
  "language_info": {
   "codemirror_mode": {
    "name": "ipython",
    "version": 3
   },
   "file_extension": ".py",
   "mimetype": "text/x-python",
   "name": "python",
   "nbconvert_exporter": "python",
   "pygments_lexer": "ipython3",
   "version": "3.7.3"
  },
  "toc": {
   "base_numbering": 1,
   "nav_menu": {},
   "number_sections": true,
   "sideBar": true,
   "skip_h1_title": false,
   "title_cell": "Table of Contents",
   "title_sidebar": "Contents",
   "toc_cell": false,
   "toc_position": {},
   "toc_section_display": true,
   "toc_window_display": false
  }
 },
 "nbformat": 4,
 "nbformat_minor": 2
}
