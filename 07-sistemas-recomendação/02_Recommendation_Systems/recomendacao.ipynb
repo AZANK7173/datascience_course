{
 "cells": [
  {
   "cell_type": "markdown",
   "metadata": {},
   "source": [
    "<img src=\"img/dh_logo_2.png\" align=\"right\" width=\"50%\">"
   ]
  },
  {
   "cell_type": "markdown",
   "metadata": {},
   "source": [
    "# Sistemas de recomendação - os sistemas que podem prever aquilo que seus clientes querem"
   ]
  },
  {
   "cell_type": "markdown",
   "metadata": {},
   "source": [
    "Ah, os Sistemas de Recomendação! Vocês conseguem imaginar o quanto essas belezinhas aumentaram (e contiuam aumentando) a lucratividade das muitas empresas que os usam? <br>\n",
    "Atualmente, qualquer boa empresa que se prese investe boa parte do seu esforço em seus sistemas de recomendação! Empresas como a Target, Amazon e Netflix utilizam esse tipo de sistema de maneira extremamente eficiente. A **Amazon**, por exemplo, foi capaz de aumentar seu  faturamento em **35%**, enquanto que **75%** das visualizações da **Netflix** hoje são obtidas atravé de recomendações segundo a [McKinsey](https://www.mckinsey.com/industries/retail/our-insights/how-retailers-can-keep-up-with-consumers). A **Target**, com seu volume absurdo de informações de compra (y otras cositas mas) de seus clientes, já foi capaz de descobrir uma gravidez indesejada antes mesmo do próprio pai da mãe da criança, que criticou a Target por estar achando que esta estava estimulando sua filha a ter filhos! <br>\n",
    "Inclusive, umas das maiores descobertas da Target foi a do grupo que mais compram sem \"pensar\": **pais de primeira viagem de recém nascidos**. Colocando produtos perto das fraudas ou enviando catálogos de produtos contendo diversos produtos, inclusive para o bebe, faz com que eles sejam capazes de vender praticamente qualquer coisa para esse grupo de pessoas! "
   ]
  },
  {
   "cell_type": "markdown",
   "metadata": {},
   "source": [
    "<img src=\"img/empresas.png\" align=\"center\" width=\"40%\">"
   ]
  },
  {
   "cell_type": "markdown",
   "metadata": {},
   "source": [
    "## Algumas das áreas de aplicação:"
   ]
  },
  {
   "cell_type": "markdown",
   "metadata": {},
   "source": [
    "Para  um sistema de recomendação fazer sentido, é necessário ter um volume de dados considerável, caso contrário (ou seja, para um pequeno volume de dados), provavelmente o entendimento da equipe de negócios será mais efetivo. <br>\n",
    "Os sistemas de recomendação são geralmente usados nas seguintes industrias/casos:\n",
    "- **e-Commerce**: Esse tipo de formato de negócio é o melhor existente atualmente para a aplicação de sistemas de recomendação, uma vez que geram uma grande quantidade de informações de consumo dos seus clientes.\n",
    "- **Varejo:** Quando ainda não existiam e-Commerce's muito bem estabelecidos, as grandes empresas de varejo já eram capazes de construir modelos estatísticos para descobrir as melhores maneiras de recomendar seus produtos, enviando catálogos personalizados para seus clientes. A Target é um ótimo exemplo disso.\n",
    "- **Media**: Sites de notícias, blogs e  mídias sociais também fazem uso desse tipo de sistema em peso para recomendar conteúdo (e consequentemente produtos) para seus usuários. O **YouTube** é um ótimo exemplo de como se usar bem recomendações de suas mídias.\n",
    "- **Bancos**: Os bancos, assim como empresas de cartão, sabem praticamente todos os detalhes da nossa vida financeira, e isso torna os seus dados muito poderosos e valiosos para fazer recomendações de serviços (aumento de crédito, empréstimos,...). Justamente por esse motivos que muitas empresas tem serviços de cartões em suas lojas!(Renner, C&A,...)\n",
    "- **Telecom**: Dados de empresas de delecomunicações também são extremamente valiosos, uma vez que essas empresas tem o registro de cada interação dos seus usuários. Como o portifólio dessas empresas não é muito grande, resolver seus problemas de recomendação acaba sendo algo mais simplificado."
   ]
  },
  {
   "cell_type": "markdown",
   "metadata": {},
   "source": [
    "## Benefícios dos sistemas de recomendação:"
   ]
  },
  {
   "cell_type": "markdown",
   "metadata": {
    "ExecuteTime": {
     "end_time": "2019-06-16T14:53:17.271692Z",
     "start_time": "2019-06-16T14:53:17.266705Z"
    }
   },
   "source": [
    "Os sistemas de recomendação trazem diversos benefícios às empresas que os utilizam. Dentre eles temos:\n",
    "- **Aumentar conversão/vendas**: Existem diversas formas de atingir esse objetivo, como fazer campanhas de marketing por exemplo, que acabam sendo bem caras dependendo de como a campanha é construída. Os sistemas de recomendação são uma alternativa automatizada e de esforço e custo muitas vezes muito menor. \n",
    "- **Aumentar a satisfação do usuário**: Fazer recomendações mais assertivas reduz o esforço do seu cliente para encontrar aquilo que ele deseja antes mesmo dele procurar. Além disso a **personalização** dessas indicações tornam seus clientes muito mais próximos da sua marca \n",
    "- **Aumentar a lealdade**: Fazendo seus clientes gastarem mais tempos em seu site aumenta a familiaridade deles com a interface apresentada e a marca em si, aumentando a probabilidade deles fazerem compras futuras.\n",
    "- **Redução do churn**: Sistemas de recomendação podem tornar suas ações de recuperação de seus clientes muito mais efetivas, que podem ser feitas através de e-mails, sms, whatsapp ou até por correio. Essas ações podem ser feitas ainda utilizando cupons de desconto aliadas aos resultados dos sistemas de recomendação para aumentar sua assertividade. \n",
    "\n",
    "Todas esses benefícios tem impacto direto em uma das métricas mais importantes existentes atualmente para a maioria das empresas: o **customer lifetime value**. Antigamente as empresas, principalmente as de grande porte, não possuíam uma preocupação com esse tipo de métrica já que seu poder acabava sendo muito maior do que o poder do consumidor.<br> \n",
    "Atualmente, o aumento do acesso aos meios de produção, o crescimento do número de concorrentes, bem como o crescimento do modelo **as a service** ( você paga apenas enquanto usar eliminando, assim, a necessidade de um contrato de obrigatoriedade de uso por muitos anos) no mercado tornou essa métrica de suma importância para as empresas, trazendo a necessidade de garantir um bom relacionamento com seu cliente. "
   ]
  },
  {
   "cell_type": "markdown",
   "metadata": {},
   "source": [
    "## Tipos de sistemas de recomendação"
   ]
  },
  {
   "cell_type": "markdown",
   "metadata": {
    "ExecuteTime": {
     "end_time": "2019-06-16T16:51:00.139815Z",
     "start_time": "2019-06-16T16:51:00.133797Z"
    }
   },
   "source": [
    "Existem vários tipos de sistema de recomendação. Os principais tipos existentes atualmente são:\n",
    "- **Recuperação direta da informação**; \n",
    "- **Filtragem por conteúdo**;\n",
    "- **Filtragem colaborativa**."
   ]
  },
  {
   "cell_type": "markdown",
   "metadata": {},
   "source": [
    "## Recuperação direta da informação"
   ]
  },
  {
   "cell_type": "markdown",
   "metadata": {},
   "source": [
    "Esse tipo de sistema de recomendação é um dos mais simples que existem e não possuem muita inteligência. Eles são feitos através da verificação de palavras chaves (qual foi a palavra chave/ produto mais pesquisado) para então exibir para o cliente como \"Mais vendido\" ou \"Mais clicado\". Nesse caso, basta apena fazer a contagem por produto ou por palavra chave e evidenciar isso para o cliente.  "
   ]
  },
  {
   "cell_type": "markdown",
   "metadata": {},
   "source": [
    "<img src=\"img/sistema_recomendacao_1.png\" align=\"center\" width=\"40%\">  "
   ]
  },
  {
   "cell_type": "markdown",
   "metadata": {},
   "source": [
    "## Filtragem por conteúdo"
   ]
  },
  {
   "cell_type": "markdown",
   "metadata": {},
   "source": [
    "Nesse caso, são usadas as características do produto e/ou descrição do mesmo. Por exemplo, falando em filmes, pegaríamos a descrição desses filmes e verificaríamos a similaridade entre as descrições. No caso de livros, faríamos a verificação da sinopse do livro para fazer essa verificação de similaridade. E cerveja, como vocês acham que isso poderia ser feito?"
   ]
  },
  {
   "cell_type": "markdown",
   "metadata": {},
   "source": [
    "<img src=\"img/filragem_por_conteudo.jpg\" align=\"center\" width=\"40%\"> "
   ]
  },
  {
   "cell_type": "markdown",
   "metadata": {},
   "source": [
    "## Filtragem Colaborativa"
   ]
  },
  {
   "cell_type": "markdown",
   "metadata": {
    "ExecuteTime": {
     "end_time": "2019-06-16T16:51:00.139815Z",
     "start_time": "2019-06-16T16:51:00.133797Z"
    }
   },
   "source": [
    "Essa é uma das técnicas mais utilizadas hoje em dia pra construir sistemas de recomendação. Ela compara perfis de compradores, verificando seus itens em comum e indicando os itens complementares. Vamos entrar num detalhe um pouco maior observando e discutindo as imagens abaixo: "
   ]
  },
  {
   "cell_type": "markdown",
   "metadata": {},
   "source": [
    "<img src=\"img/sistema-de-recomendacao-com-filtragem-colaborativa_2.png\" align=\"center\" width=\"30%\">  "
   ]
  },
  {
   "cell_type": "markdown",
   "metadata": {},
   "source": [
    "A imagem mostrada acima nos indica por exemplo que a primeiro compradora de frutas e o terceiro tem em comum a melancia e o morango, enquanto que a compradora do meio não possui nenhum item em comum com nenhum dos outros dois. Dessa forma, consideramos que a compradora 1 e o comprador 3 tem um perfil mais próximo. O próximo passo é identificara os seus elementos complementares, que para esse caso serão a laranja e a uva, uma vez que estes foram comprados pela compradora 1 e não pelo comprador 3!"
   ]
  },
  {
   "cell_type": "markdown",
   "metadata": {},
   "source": [
    "<img src=\"img/sistema-de-recomendacao-com-filtragem-colaborativa.png\" align=\"center\" width=\"50%\"> "
   ]
  },
  {
   "cell_type": "markdown",
   "metadata": {},
   "source": [
    "Na imagem mostrada acima, vemos que os dois usuários têm dois itens em comum: o **item A** e o **item B**, e que o **item C** pertence apenas ao usuário B. Dessa forma, como eles possuem itens em comum, podemos considerar que existe um certo grau de similaridade entre eles, fazendo com que a indicação do **item C** possa ser feita com maior chances de sucesso para o  comrpador B. "
   ]
  },
  {
   "cell_type": "markdown",
   "metadata": {},
   "source": [
    "## Base de dados para analisarmos"
   ]
  },
  {
   "cell_type": "markdown",
   "metadata": {},
   "source": [
    "<img src=\"img/base_de_dados.png\" align=\"center\" width=\"50%\"> "
   ]
  },
  {
   "cell_type": "markdown",
   "metadata": {},
   "source": [
    "Vamos utilizar a base mostrada acima para ser o nosso estudo de caso. Para podermos indicar filmes para a Uliane, vamos calcuar a similaridade entre os usuários "
   ]
  },
  {
   "cell_type": "code",
   "execution_count": null,
   "metadata": {
    "ExecuteTime": {
     "end_time": "2019-06-18T21:45:08.958661Z",
     "start_time": "2019-06-18T21:45:08.292751Z"
    }
   },
   "outputs": [],
   "source": [
    "import pandas as pd\n",
    "\n",
    "import numpy as np\n",
    "import matplotlib.pyplot as plt\n",
    "from mpl_toolkits.mplot3d import Axes3D"
   ]
  },
  {
   "cell_type": "code",
   "execution_count": null,
   "metadata": {
    "ExecuteTime": {
     "end_time": "2019-06-18T21:45:09.369971Z",
     "start_time": "2019-06-18T21:45:09.342561Z"
    }
   },
   "outputs": [],
   "source": [
    "movie_rating = pd.read_excel('./data/movie_rating.xlsx')"
   ]
  },
  {
   "cell_type": "code",
   "execution_count": null,
   "metadata": {
    "ExecuteTime": {
     "end_time": "2019-06-18T21:45:11.473380Z",
     "start_time": "2019-06-18T21:45:11.461412Z"
    }
   },
   "outputs": [],
   "source": [
    "movie_rating"
   ]
  },
  {
   "cell_type": "markdown",
   "metadata": {},
   "source": [
    "Como vocês podem ver, eu possuo duas pessoas que não viram alguns dos filmes explicitados na tabela acima, que são: Leandro e Uliane. Dessa forma, inicialmente precisamos verificar quem viu os mesmos filmes que eles para podermos identificar similaridade de perfis. <br>"
   ]
  },
  {
   "cell_type": "markdown",
   "metadata": {},
   "source": [
    "Para Leandro, ficaríamos com a seguinte tabela:"
   ]
  },
  {
   "cell_type": "code",
   "execution_count": null,
   "metadata": {
    "ExecuteTime": {
     "end_time": "2019-06-18T21:45:15.113446Z",
     "start_time": "2019-06-18T21:45:15.102476Z"
    }
   },
   "outputs": [],
   "source": [
    "movie_rating_leandro = movie_rating.drop(['Orgulho & Preconceito','O Senhor dos anéis'],axis=1).dropna()\n",
    "movie_rating_leandro.reset_index(drop=True) "
   ]
  },
  {
   "cell_type": "markdown",
   "metadata": {},
   "source": [
    "Vamos agora plotar o gráfico de dispersão para dois e três pontos:"
   ]
  },
  {
   "cell_type": "code",
   "execution_count": null,
   "metadata": {
    "ExecuteTime": {
     "end_time": "2019-06-18T21:45:17.399734Z",
     "start_time": "2019-06-18T21:45:17.210242Z"
    }
   },
   "outputs": [],
   "source": [
    "x_lea = movie_rating_leandro['Velozes e Furiosos']\n",
    "y_lea = movie_rating_leandro['Star Wars']\n",
    "plt.xlabel(\"Velozes e Furiosos\",fontsize=15)\n",
    "plt.ylabel(\"Star Wars\",fontsize=15)\n",
    "# plot grafico de dispersao\n",
    "plt.scatter(x_lea, y_lea)"
   ]
  },
  {
   "cell_type": "markdown",
   "metadata": {},
   "source": [
    "<img src=\"img/Screenshot_1.png\" align=\"left\" width=\"40%\"> "
   ]
  },
  {
   "cell_type": "markdown",
   "metadata": {},
   "source": [
    "Plotando o gráfico em três dimensões:"
   ]
  },
  {
   "cell_type": "code",
   "execution_count": null,
   "metadata": {
    "ExecuteTime": {
     "end_time": "2019-06-18T21:45:20.013488Z",
     "start_time": "2019-06-18T21:45:19.848893Z"
    }
   },
   "outputs": [],
   "source": [
    "fig3 = plt.figure(2,figsize=(8, 6))\n",
    "ax_lea = fig3.add_subplot(111,projection = '3d')\n",
    "\n",
    "x = movie_rating_leandro[\"Velozes e Furiosos\"].tolist()\n",
    "y = movie_rating_leandro[\"Star Wars\"].tolist()\n",
    "z = movie_rating_leandro[\"De volta para o futuro\"].tolist()\n",
    "\n",
    "ax_lea.scatter(x,y,z,c='r',marker='o')\n",
    "\n",
    "ax_lea.set_xlabel(\"Velozes e Furiosos\")\n",
    "ax_lea.set_ylabel(\"Star Wars\")\n",
    "ax_lea.set_zlabel(\"De volta para o futuro\")\n",
    "\n",
    "plt.show()"
   ]
  },
  {
   "cell_type": "markdown",
   "metadata": {},
   "source": [
    "Plotando a matriz de distâncias euclidianas, temos:"
   ]
  },
  {
   "cell_type": "code",
   "execution_count": null,
   "metadata": {
    "ExecuteTime": {
     "end_time": "2019-06-19T21:31:06.432685Z",
     "start_time": "2019-06-19T21:31:06.419742Z"
    }
   },
   "outputs": [],
   "source": [
    "movie_rating_leandro"
   ]
  },
  {
   "cell_type": "code",
   "execution_count": null,
   "metadata": {
    "ExecuteTime": {
     "end_time": "2019-06-18T21:45:20.967121Z",
     "start_time": "2019-06-18T21:45:20.957149Z"
    }
   },
   "outputs": [],
   "source": [
    "dataset_visual_lea = movie_rating_leandro.drop(['Usuario'],axis=1).values\n",
    "dataset_visual_lea\n",
    "pd.DataFrame(np.linalg.norm(dataset_visual_lea - dataset_visual_lea[:,None], axis=-1))"
   ]
  },
  {
   "cell_type": "markdown",
   "metadata": {},
   "source": [
    "- **0**: Izabela\n",
    "- **1**: Thais\n",
    "- **2**: Lorena\n",
    "- **3**: Leandro\n",
    "- **4**: Isis\n",
    "- **5**: Marcos"
   ]
  },
  {
   "cell_type": "markdown",
   "metadata": {},
   "source": [
    "Obsesrvando a tabela de distâncias acima, verificamos que Leandro (3) tem um perfil mais próximo de Lorena(2). Dessa forma, poderíamos indicar para Leandro os filmes que lorena viu e mais gostou, que nesses caso seria Orgulho e Preconceito. "
   ]
  },
  {
   "cell_type": "markdown",
   "metadata": {},
   "source": [
    "Analisando os filmes da Uli:"
   ]
  },
  {
   "cell_type": "code",
   "execution_count": null,
   "metadata": {
    "ExecuteTime": {
     "end_time": "2019-06-18T21:45:23.415193Z",
     "start_time": "2019-06-18T21:45:23.405194Z"
    }
   },
   "outputs": [],
   "source": [
    "movie_rating_uli = movie_rating.drop(['Velozes e Furiosos','Star Wars'],axis=1).dropna()\n",
    "movie_rating_uli.reset_index(drop=True)"
   ]
  },
  {
   "cell_type": "code",
   "execution_count": null,
   "metadata": {
    "ExecuteTime": {
     "end_time": "2019-06-18T21:45:39.032361Z",
     "start_time": "2019-06-18T21:45:38.817424Z"
    }
   },
   "outputs": [],
   "source": [
    "x_uli = movie_rating_uli['Orgulho & Preconceito']\n",
    "y_uli = movie_rating_uli['O Senhor dos anéis']\n",
    "plt.xlabel(\"Orgulho & Preconceito\",fontsize=15)\n",
    "plt.ylabel(\"O Senhor dos anéis\",fontsize=15)\n",
    "# plot grafico de dispersao\n",
    "plt.scatter(x_uli, y_uli)"
   ]
  },
  {
   "cell_type": "markdown",
   "metadata": {},
   "source": [
    "<img src=\"img/Screenshot_2.png\" align=\"left\" width=\"40%\"> "
   ]
  },
  {
   "cell_type": "code",
   "execution_count": null,
   "metadata": {
    "ExecuteTime": {
     "end_time": "2019-06-18T21:45:41.877626Z",
     "start_time": "2019-06-18T21:45:41.871643Z"
    }
   },
   "outputs": [],
   "source": [
    "dataset_visual_uli = movie_rating_uli.drop(['Usuario'],axis=1).values\n",
    "dataset_visual_uli"
   ]
  },
  {
   "cell_type": "code",
   "execution_count": null,
   "metadata": {
    "ExecuteTime": {
     "end_time": "2019-06-18T21:45:43.841969Z",
     "start_time": "2019-06-18T21:45:43.703327Z"
    }
   },
   "outputs": [],
   "source": [
    "fig = plt.figure(2,figsize=(8, 6))\n",
    "ax = fig.add_subplot(111,projection = '3d')\n",
    "\n",
    "x = movie_rating_uli['Orgulho & Preconceito'].tolist()\n",
    "y = movie_rating_uli['O Senhor dos anéis'].tolist()\n",
    "z = movie_rating_uli['De volta para o futuro'].tolist()\n",
    "\n",
    "ax.scatter(x,y,z,c='r',marker='o')\n",
    "\n",
    "ax.set_xlabel('Orgulho & Preconceito')\n",
    "ax.set_ylabel('O Senhor dos anéis')\n",
    "ax.set_zlabel('De volta para o futuro')\n",
    "\n",
    "plt.show()"
   ]
  },
  {
   "cell_type": "markdown",
   "metadata": {},
   "source": [
    "Através desse gráfico de dispersão, podemos ver como cada usuário se comporta para os dois filmes selecionados. Podemos ver que Iza, Thais e Isis tiveram exatamente a mesma nota pros dois filmes. Lorena aparentemente ficou mais próxima de Iza, Isis e Thais. Leandro e Marcos mais à esquerta e Uliane perdida na vida. "
   ]
  },
  {
   "cell_type": "markdown",
   "metadata": {},
   "source": [
    "Calculando então a distância euclidiana entre esses pontos temos: "
   ]
  },
  {
   "cell_type": "code",
   "execution_count": null,
   "metadata": {
    "ExecuteTime": {
     "end_time": "2019-06-18T21:45:46.235236Z",
     "start_time": "2019-06-18T21:45:46.226257Z"
    }
   },
   "outputs": [],
   "source": [
    "pd.DataFrame(np.linalg.norm(dataset_visual_uli - dataset_visual_uli[:,None], axis=-1))"
   ]
  },
  {
   "cell_type": "markdown",
   "metadata": {},
   "source": [
    "- **0**: Izabela\n",
    "- **1**: Thais\n",
    "- **2**: Lorena\n",
    "- **3**: Uliane\n",
    "- **4**: Isis\n",
    "- **5**: Marcos"
   ]
  },
  {
   "cell_type": "markdown",
   "metadata": {},
   "source": [
    "Obsesrvando a tabela de distâncias acima, verificamos que Uliane (3) tem um perfil mais próximo de Lorena(2). Dessa forma, poderíamos indicar para Uliane Velozes e Furiosos, sendo este o filme que Lorena mais gostou dos que Uliane ainda não viu. "
   ]
  },
  {
   "cell_type": "markdown",
   "metadata": {},
   "source": [
    "Uma boa opção também é atribuir pesos aos usuários mais próximos ou seu usuário de interesse para tornar essas recomendações mais efetivas."
   ]
  },
  {
   "cell_type": "markdown",
   "metadata": {},
   "source": [
    "# Prática 1- automatizando a etapa anterior"
   ]
  },
  {
   "cell_type": "markdown",
   "metadata": {},
   "source": [
    "Como vocês automatiariam a etapa anterior? Bora tentar!"
   ]
  },
  {
   "cell_type": "markdown",
   "metadata": {},
   "source": [
    "# Mostrando a parte prática passo a passo"
   ]
  },
  {
   "cell_type": "markdown",
   "metadata": {},
   "source": [
    "Vamos apresentar aqui uma opção de como transformar o que foi feito anteriormente em uma função para podermos recomendar filmes para todos os clientes que tenham filmes não vistos. Nessa caso, vamos indicar o filme com maior nota do usuário com perfil mais próximo ao daquele cliente que queremos indicar um filme. A principal função do desenvolvimento que vamos fazer aqui é conseguir verificar cada passo da função que queremos criar para podermos validar os resultados que serão gerados. "
   ]
  },
  {
   "cell_type": "markdown",
   "metadata": {},
   "source": [
    "Primeiramente, vamos identificar quais são os clientes da base que possuem filmes não vistos:"
   ]
  },
  {
   "cell_type": "code",
   "execution_count": null,
   "metadata": {
    "ExecuteTime": {
     "end_time": "2019-06-18T21:45:48.595994Z",
     "start_time": "2019-06-18T21:45:48.589014Z"
    }
   },
   "outputs": [],
   "source": [
    "#Identificando clientes que possuem filmes não vistos\n",
    "empty_movies = pd.DataFrame(movie_rating.set_index(['Usuario']).transpose().isna().sum()).reset_index()\n",
    "empty_movies = empty_movies[empty_movies[0]!= 0 ]['Usuario'].tolist()"
   ]
  },
  {
   "cell_type": "code",
   "execution_count": null,
   "metadata": {
    "ExecuteTime": {
     "end_time": "2019-06-18T21:45:50.322090Z",
     "start_time": "2019-06-18T21:45:50.318101Z"
    }
   },
   "outputs": [],
   "source": [
    "empty_movies"
   ]
  },
  {
   "cell_type": "markdown",
   "metadata": {},
   "source": [
    "Agora vamos criar uma tabela vazia para podermos colocar os resultados que queremos ver como resultado da função:"
   ]
  },
  {
   "cell_type": "code",
   "execution_count": null,
   "metadata": {
    "ExecuteTime": {
     "end_time": "2019-06-19T02:12:03.179586Z",
     "start_time": "2019-06-19T02:12:03.168616Z"
    }
   },
   "outputs": [],
   "source": [
    "df_result = pd.DataFrame(columns=['usuario_de_interesse','usuario_com_perfil_mais_proximo','filme_recomendado'])"
   ]
  },
  {
   "cell_type": "markdown",
   "metadata": {},
   "source": [
    "Fazendo manualmente a primeira iteração da nossa função, vamos escolher então o primeiro usuáro da nossa lista e usuários que possuem filmes não vistos, que para esse caso será \"Leandro\"."
   ]
  },
  {
   "cell_type": "code",
   "execution_count": null,
   "metadata": {
    "ExecuteTime": {
     "end_time": "2019-06-18T21:45:52.751693Z",
     "start_time": "2019-06-18T21:45:52.748679Z"
    }
   },
   "outputs": [],
   "source": [
    "user = empty_movies[0]"
   ]
  },
  {
   "cell_type": "code",
   "execution_count": null,
   "metadata": {
    "ExecuteTime": {
     "end_time": "2019-06-18T21:45:54.529545Z",
     "start_time": "2019-06-18T21:45:54.525516Z"
    }
   },
   "outputs": [],
   "source": [
    "user"
   ]
  },
  {
   "cell_type": "markdown",
   "metadata": {},
   "source": [
    "Agora vamos filtrar os filmes que o nosso usuário dessa iteração, \"Leandro\", já viu para podermos comparar seu perfil com o das pessoas pessoas que viram os mesmos filmes:"
   ]
  },
  {
   "cell_type": "code",
   "execution_count": null,
   "metadata": {
    "ExecuteTime": {
     "end_time": "2019-06-18T21:45:55.443025Z",
     "start_time": "2019-06-18T21:45:55.436043Z"
    }
   },
   "outputs": [],
   "source": [
    "filmes_vistos = movie_rating.loc[movie_rating['Usuario'] == user].dropna(axis=1).drop(['Usuario'],axis=1).keys().tolist()"
   ]
  },
  {
   "cell_type": "code",
   "execution_count": null,
   "metadata": {
    "ExecuteTime": {
     "end_time": "2019-06-18T21:45:57.118108Z",
     "start_time": "2019-06-18T21:45:57.114120Z"
    }
   },
   "outputs": [],
   "source": [
    "filmes_vistos"
   ]
  },
  {
   "cell_type": "markdown",
   "metadata": {},
   "source": [
    "Agora vamos encontrar os filmes não vistos do nosso usuário,ou seja, os filmes que poderemos indicar pra ele:"
   ]
  },
  {
   "cell_type": "code",
   "execution_count": null,
   "metadata": {
    "ExecuteTime": {
     "end_time": "2019-06-18T21:46:15.622756Z",
     "start_time": "2019-06-18T21:46:15.619762Z"
    }
   },
   "outputs": [],
   "source": [
    "filmes_nao_vistos = list(set(movie_rating)-set(filmes_vistos))"
   ]
  },
  {
   "cell_type": "code",
   "execution_count": null,
   "metadata": {
    "ExecuteTime": {
     "end_time": "2019-06-18T21:46:16.131133Z",
     "start_time": "2019-06-18T21:46:16.127102Z"
    }
   },
   "outputs": [],
   "source": [
    "filmes_nao_vistos"
   ]
  },
  {
   "cell_type": "markdown",
   "metadata": {},
   "source": [
    "Observem que nesse caso temos a coluna \"Usuario\" também, mas ela está aí apenas para facilitar algumas partes do desenvolvimento! Os nossos filmes que iremos verificar se vale a pena ou não indicar para o nosso usuário são 'Orgulho & Preconceito' ou 'O Senhor dos anéis' (nesse caso vamos indicar apenas um filme, ou seja, aquele que tiver a maior avaliação do usuário que possui o perfil mais próximo daquele que queremos enviar indicações). "
   ]
  },
  {
   "cell_type": "code",
   "execution_count": null,
   "metadata": {
    "ExecuteTime": {
     "end_time": "2019-06-18T21:46:16.544028Z",
     "start_time": "2019-06-18T21:46:16.539041Z"
    }
   },
   "outputs": [],
   "source": [
    "filmes_vistos.append('Usuario')\n",
    "filmes_vistos"
   ]
  },
  {
   "cell_type": "code",
   "execution_count": null,
   "metadata": {
    "ExecuteTime": {
     "end_time": "2019-06-18T21:46:21.186699Z",
     "start_time": "2019-06-18T21:46:21.180705Z"
    }
   },
   "outputs": [],
   "source": [
    "users = movie_rating[filmes_vistos].dropna()['Usuario'].tolist()\n",
    "users"
   ]
  },
  {
   "cell_type": "markdown",
   "metadata": {},
   "source": [
    "Abaixo, transformamos a nossa tabela de notas dos filmes em um numpy array multidimensional para usarmos ele na função **np.linalg.norm** que irá nos trazer as distâncias euclidinas (ou seja, o quão próximo os usuários estão uns dos outros). "
   ]
  },
  {
   "cell_type": "code",
   "execution_count": null,
   "metadata": {
    "ExecuteTime": {
     "end_time": "2019-06-18T21:46:23.102198Z",
     "start_time": "2019-06-18T21:46:23.091267Z"
    }
   },
   "outputs": [],
   "source": [
    "dataset_values = movie_rating[filmes_vistos].dropna().drop(['Usuario'],axis=1).values\n",
    "dataset_values"
   ]
  },
  {
   "cell_type": "code",
   "execution_count": null,
   "metadata": {
    "ExecuteTime": {
     "end_time": "2019-06-18T21:46:25.203244Z",
     "start_time": "2019-06-18T21:46:25.199250Z"
    }
   },
   "outputs": [],
   "source": [
    "users.index(user)"
   ]
  },
  {
   "cell_type": "markdown",
   "metadata": {},
   "source": [
    "Apenas para visualizarmos, abaixo travemoz as distâncias calculadas entre o usuario de interesse (qu possui índice 3 e por isso o índice 3 não aparece abaixo) e os demais usuários. As manipulações feitas na célula imediatamente seguinte a célular abaixo foram feitas para encontrarmos o índice do usuário mais próximo do usuário em questão (ou seja, o que possui menor distância)."
   ]
  },
  {
   "cell_type": "code",
   "execution_count": null,
   "metadata": {
    "ExecuteTime": {
     "end_time": "2019-06-18T21:46:25.796695Z",
     "start_time": "2019-06-18T21:46:25.786684Z"
    }
   },
   "outputs": [],
   "source": [
    "pd.DataFrame(np.linalg.norm(dataset_values - dataset_values[:,None], axis=-1))[users.index(user)].drop([users.index(user)],axis=0)"
   ]
  },
  {
   "cell_type": "code",
   "execution_count": null,
   "metadata": {
    "ExecuteTime": {
     "end_time": "2019-06-18T21:46:30.963954Z",
     "start_time": "2019-06-18T21:46:30.958969Z"
    }
   },
   "outputs": [],
   "source": [
    "min_dist_index = pd.DataFrame(np.linalg.norm(dataset_values - dataset_values[:,None], axis=-1))[users.index(user)].drop([users.index(user)],axis=0).idxmin() "
   ]
  },
  {
   "cell_type": "code",
   "execution_count": null,
   "metadata": {
    "ExecuteTime": {
     "end_time": "2019-06-19T01:57:04.309880Z",
     "start_time": "2019-06-19T01:57:04.286943Z"
    }
   },
   "outputs": [],
   "source": [
    "min_dist_index"
   ]
  },
  {
   "cell_type": "code",
   "execution_count": null,
   "metadata": {
    "ExecuteTime": {
     "end_time": "2019-06-19T02:04:46.891862Z",
     "start_time": "2019-06-19T02:04:46.887857Z"
    }
   },
   "outputs": [],
   "source": [
    "users"
   ]
  },
  {
   "cell_type": "code",
   "execution_count": null,
   "metadata": {
    "ExecuteTime": {
     "end_time": "2019-06-18T21:46:38.024185Z",
     "start_time": "2019-06-18T21:46:38.020182Z"
    }
   },
   "outputs": [],
   "source": [
    "users[min_dist_index]"
   ]
  },
  {
   "cell_type": "markdown",
   "metadata": {},
   "source": [
    "Acima, vimos que o índice encontrado foi referente à usuária \"Lorena\". Observem que a lista **users** possuem apenas os usuários da tabela resultando para **Leandro**, ou seja, para esse caso não existe a usuária **Uliane** na lista. <br>\n",
    "Abaixo filtramos na tabela original os filmes não vistos de **Leandro** que foram avaliados por **Lorena**!"
   ]
  },
  {
   "cell_type": "code",
   "execution_count": null,
   "metadata": {
    "ExecuteTime": {
     "end_time": "2019-06-18T21:46:38.918795Z",
     "start_time": "2019-06-18T21:46:38.914763Z"
    }
   },
   "outputs": [],
   "source": [
    "filmes_nao_vistos.append('Usuario')"
   ]
  },
  {
   "cell_type": "code",
   "execution_count": null,
   "metadata": {
    "ExecuteTime": {
     "end_time": "2019-06-18T21:46:39.890644Z",
     "start_time": "2019-06-18T21:46:39.886646Z"
    }
   },
   "outputs": [],
   "source": [
    "filmes_nao_vistos"
   ]
  },
  {
   "cell_type": "code",
   "execution_count": null,
   "metadata": {
    "ExecuteTime": {
     "end_time": "2019-06-18T21:46:40.596399Z",
     "start_time": "2019-06-18T21:46:40.587384Z"
    }
   },
   "outputs": [],
   "source": [
    "movie_rating[filmes_nao_vistos].loc[(movie_rating['Usuario'] == users[min_dist_index])]"
   ]
  },
  {
   "cell_type": "markdown",
   "metadata": {},
   "source": [
    "Observando a tabela acima, vemos que o filme melhor avaliado por Lorena foi **Orgulho & Preconceito** e que por isso, para esse caso, será o filme que vamos indicar para **Leandro** ( que coincidentemente é o melhor filme do mundo e por isso não teria como não ser a melhor opção =D hahaha). "
   ]
  },
  {
   "cell_type": "code",
   "execution_count": null,
   "metadata": {
    "ExecuteTime": {
     "end_time": "2019-06-18T21:46:41.127347Z",
     "start_time": "2019-06-18T21:46:41.117375Z"
    }
   },
   "outputs": [],
   "source": [
    "filme_recomendado = max(movie_rating[filmes_nao_vistos].loc[(movie_rating['Usuario'] == users[min_dist_index])].drop('Usuario',axis = 1))"
   ]
  },
  {
   "cell_type": "code",
   "execution_count": null,
   "metadata": {
    "ExecuteTime": {
     "end_time": "2019-06-18T21:46:41.679895Z",
     "start_time": "2019-06-18T21:46:41.673912Z"
    }
   },
   "outputs": [],
   "source": [
    "filme_recomendado"
   ]
  },
  {
   "cell_type": "code",
   "execution_count": null,
   "metadata": {
    "ExecuteTime": {
     "end_time": "2019-06-19T02:11:33.231715Z",
     "start_time": "2019-06-19T02:11:33.227726Z"
    }
   },
   "outputs": [],
   "source": [
    "filme_recomendado"
   ]
  },
  {
   "cell_type": "code",
   "execution_count": null,
   "metadata": {
    "ExecuteTime": {
     "end_time": "2019-06-19T02:12:56.219679Z",
     "start_time": "2019-06-19T02:12:56.210697Z"
    }
   },
   "outputs": [],
   "source": [
    "df_result = df_result.append({'usuario_de_interesse': user, 'usuario_com_perfil_mais_proximo': users[min_dist_index], 'filme_recomendado': filme_recomendado}, ignore_index=True)\n",
    "df_result "
   ]
  },
  {
   "cell_type": "markdown",
   "metadata": {},
   "source": [
    "Com a solução calculada, apendamos o resultado na nossa tabela de resultado como mostrado acima! Abaixo, temos a função de fato feita para rodar o que fizemos acima de forma generalizada para qualquer tamanho de base! Acho interessante vocês tentarem otimizar o que foi feito abaixo também =]."
   ]
  },
  {
   "cell_type": "markdown",
   "metadata": {},
   "source": [
    "# Solução da parte prática"
   ]
  },
  {
   "cell_type": "code",
   "execution_count": null,
   "metadata": {
    "ExecuteTime": {
     "end_time": "2019-06-19T02:16:17.383887Z",
     "start_time": "2019-06-19T02:16:17.375909Z"
    }
   },
   "outputs": [],
   "source": [
    "def recommender(movie_rating):\n",
    "    #Encontrando os usuários que tem filmes não vistos na base\n",
    "    empty_movies = pd.DataFrame(movie_rating.set_index(['Usuario']).transpose().isna().sum()).reset_index()\n",
    "    empty_movies = empty_movies[empty_movies[0]!= 0 ]['Usuario'].tolist()\n",
    "    \n",
    "    #Criando um dataframe para inserir os resultados desejados\n",
    "    #df_result = pd.DataFrame(columns=['Usuário de interesse','Usuário com perfil mais próximo','Filme recomendado'],index=range(len(empty_movies)))\n",
    "    df_result = pd.DataFrame(columns=['Usuário de interesse','Usuário com perfil mais próximo','Filme recomendado'])\n",
    "    \n",
    "    #Para cada usuário com espaços vazios na base, vamos encontrar o usuário mais próximo\n",
    "    for i,user in enumerate(empty_movies):\n",
    "        \n",
    "        #Filtrando a base para ter apenas os usuários que viram os mesmos filmes do usuário de interesse\n",
    "        filmes_vistos = movie_rating.loc[movie_rating['Usuario'] == user].dropna(axis=1).drop(['Usuario'],axis=1).keys().tolist()\n",
    "        \n",
    "        #Guardando os filmes não vistos para a parte de recomendação\n",
    "        filmes_nao_vistos = list(set(movie_rating)-set(filmes_vistos))\n",
    "        filmes_vistos.append('Usuario')\n",
    "        \n",
    "        #Guardando os usuários que já viram os mesmos filmes do usuário de interesse\n",
    "        users = movie_rating[filmes_vistos].dropna()['Usuario'].tolist()\n",
    "        \n",
    "        #Transformando o dataframe em uma matriz\n",
    "        dataset_values = movie_rating[filmes_vistos].dropna().drop(['Usuario'],axis=1).values\n",
    "        \n",
    "        #Pegando o index do usuário com a menor distância\n",
    "        min_dist_index = pd.DataFrame(np.linalg.norm(dataset_values - dataset_values[:,None], axis=-1))[users.index(user)].drop([users.index(user)],axis=0).idxmin()\n",
    "        \n",
    "        #Pegando o filme recomendado\n",
    "        filme_recomendado = max(movie_rating[filmes_nao_vistos].loc[(movie_rating['Usuario'] == users[min_dist_index])].drop('Usuario',axis = 1))\n",
    "        \n",
    "        #Preenchendo a tabela com os resultados\n",
    "        df_result = df_result.append({'Usuário de interesse': user, 'Usuário com perfil mais próximo': users[min_dist_index], 'Filme recomendado': filme_recomendado}, ignore_index=True)\n",
    "        \n",
    "        del filmes_vistos,filmes_nao_vistos\n",
    "            \n",
    "    return(df_result)\n",
    "            "
   ]
  },
  {
   "cell_type": "code",
   "execution_count": null,
   "metadata": {
    "ExecuteTime": {
     "end_time": "2019-06-19T02:16:17.933455Z",
     "start_time": "2019-06-19T02:16:17.888538Z"
    }
   },
   "outputs": [],
   "source": [
    "recommender(movie_rating)"
   ]
  },
  {
   "cell_type": "markdown",
   "metadata": {},
   "source": [
    "# E se utilizarmos a simetria calculada para fazermos uma média ponderada e estimarmos a possível nota dada aos filmes? "
   ]
  },
  {
   "cell_type": "markdown",
   "metadata": {},
   "source": [
    "Para conseguirmos trazer um pouco mais de robustez nos nossos cálculos, podemos estimar qual seria a nota dos filmes não avaliados utilizando os cálculos de similaridade que já fizemos anteriormente! **Pensando nisso, como vocês fariam essa etapa?**"
   ]
  },
  {
   "cell_type": "markdown",
   "metadata": {},
   "source": [
    "Nessa caso, ao invés de excluírmos **Uliane** da tabela resultante de Leandro, vamos calcular a similaridade entre eles considerando os filmes que eles tem em comum, que nesse caso será apeas o filme \"De Volta Para o Futuro\"."
   ]
  },
  {
   "cell_type": "markdown",
   "metadata": {},
   "source": [
    "Partindo da mesma ideia da etapa anterior, precisamos encontrar quais são os usuários que não avaliaram alguns dos filmes da base de dados."
   ]
  },
  {
   "cell_type": "code",
   "execution_count": null,
   "metadata": {
    "ExecuteTime": {
     "end_time": "2019-06-19T03:01:46.114177Z",
     "start_time": "2019-06-19T03:01:46.104204Z"
    }
   },
   "outputs": [],
   "source": [
    "#Encontrando os usuários que tem filmes não vistos na base\n",
    "empty_movies = pd.DataFrame(movie_rating.set_index(['Usuario']).transpose().isna().sum()).reset_index()\n",
    "empty_movies = empty_movies[empty_movies[0]!= 0 ]['Usuario'].tolist()\n",
    "empty_movies"
   ]
  },
  {
   "cell_type": "markdown",
   "metadata": {},
   "source": [
    "Testando então primeiramente com o usuário **Leandro**, temos:"
   ]
  },
  {
   "cell_type": "code",
   "execution_count": null,
   "metadata": {
    "ExecuteTime": {
     "end_time": "2019-06-19T03:01:47.960238Z",
     "start_time": "2019-06-19T03:01:47.957246Z"
    }
   },
   "outputs": [],
   "source": [
    "i=0\n",
    "user ='Leandro'"
   ]
  },
  {
   "cell_type": "markdown",
   "metadata": {},
   "source": [
    "Aqui agora pegaremos todos os usuários da base (incluindo Uliane) pra calcularmos a proximodade com o usuário de interesse desta iteração:"
   ]
  },
  {
   "cell_type": "code",
   "execution_count": null,
   "metadata": {
    "ExecuteTime": {
     "end_time": "2019-06-19T03:01:52.571703Z",
     "start_time": "2019-06-19T03:01:52.567713Z"
    }
   },
   "outputs": [],
   "source": [
    "#Pegando todos os usuários da base\n",
    "users = movie_rating['Usuario'].tolist()"
   ]
  },
  {
   "cell_type": "code",
   "execution_count": null,
   "metadata": {
    "ExecuteTime": {
     "end_time": "2019-06-19T11:04:21.478886Z",
     "start_time": "2019-06-19T11:04:21.456932Z"
    }
   },
   "outputs": [],
   "source": [
    "users"
   ]
  },
  {
   "cell_type": "markdown",
   "metadata": {
    "ExecuteTime": {
     "end_time": "2019-06-19T11:17:02.428532Z",
     "start_time": "2019-06-19T11:17:02.315834Z"
    }
   },
   "source": [
    "Agora vamos criar uma tabela para inserir as similaridades entre os usuários de interesse e os demais:"
   ]
  },
  {
   "cell_type": "code",
   "execution_count": null,
   "metadata": {
    "ExecuteTime": {
     "end_time": "2019-06-19T11:18:55.423759Z",
     "start_time": "2019-06-19T11:18:55.417421Z"
    }
   },
   "outputs": [],
   "source": [
    "#Criando um dataframe para colocarmos os resultados das similaridades \n",
    "df_all_similarities = pd.DataFrame(columns=empty_movies,index=users)"
   ]
  },
  {
   "cell_type": "code",
   "execution_count": null,
   "metadata": {
    "ExecuteTime": {
     "end_time": "2019-06-19T11:18:57.017522Z",
     "start_time": "2019-06-19T11:18:56.788847Z"
    }
   },
   "outputs": [],
   "source": [
    "df_all_similarities"
   ]
  },
  {
   "cell_type": "markdown",
   "metadata": {},
   "source": [
    "Vamos calcular então a iteração que vai trazer, por exemplo, a distâcia entre **Leandro** e **Thais** e colocar esse valor na tabela que criamos acima. Aqui, vamos filtrar a tabela oridigal para trazer apenas os usuários definidos pra essa iteração, depois vamos excluir as colunas que tiverem linhas nulas para termos penas os filmes em comum e em seguida removemos a coluna de usuários para termos apenas as avaliações que vamos comparar."
   ]
  },
  {
   "cell_type": "code",
   "execution_count": null,
   "metadata": {
    "ExecuteTime": {
     "end_time": "2019-06-19T13:00:40.009416Z",
     "start_time": "2019-06-19T13:00:40.001464Z"
    }
   },
   "outputs": [],
   "source": [
    "teste = movie_rating[['Usuario','Orgulho & Preconceito']].loc[movie_rating['Usuario'].isin(['Leandro','Uliane'])].dropna(axis=1).drop(['Usuario'],axis=1)"
   ]
  },
  {
   "cell_type": "code",
   "execution_count": null,
   "metadata": {
    "ExecuteTime": {
     "end_time": "2019-06-19T13:01:19.211899Z",
     "start_time": "2019-06-19T13:01:19.207912Z"
    }
   },
   "outputs": [],
   "source": [
    "teste.shape[1]"
   ]
  },
  {
   "cell_type": "code",
   "execution_count": null,
   "metadata": {
    "ExecuteTime": {
     "end_time": "2019-06-19T12:05:32.007031Z",
     "start_time": "2019-06-19T12:05:31.982073Z"
    }
   },
   "outputs": [],
   "source": [
    "#Teste para vocês visualizarem como fica a tabela para comprar Leandro e Uliane\n",
    "movie_rating.loc[movie_rating['Usuario'].isin(['Leandro','Uliane'])].dropna(axis=1).drop(['Usuario'],axis=1)"
   ]
  },
  {
   "cell_type": "code",
   "execution_count": null,
   "metadata": {
    "ExecuteTime": {
     "end_time": "2019-06-19T12:00:25.997886Z",
     "start_time": "2019-06-19T12:00:25.578997Z"
    }
   },
   "outputs": [],
   "source": [
    "other_user = 'Thais'\n",
    "user= 'Leandro'\n",
    "movie_rating_two_users = movie_rating.loc[movie_rating['Usuario'].isin([user,other_user])]\n",
    "movie_rating_two_users = movie_rating_two_users.dropna(axis=1).drop(['Usuario'],axis=1).values"
   ]
  },
  {
   "cell_type": "code",
   "execution_count": null,
   "metadata": {
    "ExecuteTime": {
     "end_time": "2019-06-19T12:00:26.158441Z",
     "start_time": "2019-06-19T12:00:26.103156Z"
    }
   },
   "outputs": [],
   "source": [
    "movie_rating_two_users"
   ]
  },
  {
   "cell_type": "markdown",
   "metadata": {},
   "source": [
    "Calculamos então a distância entre **Thais** e **Leandro** com base nos filmes que ambos tinham em comum e inserimos os resultados na tabela para armazenar a sitância calculada:"
   ]
  },
  {
   "cell_type": "code",
   "execution_count": null,
   "metadata": {
    "ExecuteTime": {
     "end_time": "2019-06-19T12:57:48.311678Z",
     "start_time": "2019-06-19T12:57:48.120314Z"
    }
   },
   "outputs": [],
   "source": [
    "np.linalg.norm(movie_rating_two_users - movie_rating_two_users[:,None], axis=-1)[0][1]"
   ]
  },
  {
   "cell_type": "code",
   "execution_count": null,
   "metadata": {
    "ExecuteTime": {
     "end_time": "2019-06-19T13:10:35.864526Z",
     "start_time": "2019-06-19T13:10:35.763234Z"
    }
   },
   "outputs": [],
   "source": [
    "df_all_similarities.loc[(df_all_similarities.index == other_user),user] = np.linalg.norm(movie_rating_two_users - movie_rating_two_users[:,None], axis=-1)[0][1]"
   ]
  },
  {
   "cell_type": "code",
   "execution_count": null,
   "metadata": {
    "ExecuteTime": {
     "end_time": "2019-06-19T13:10:39.193586Z",
     "start_time": "2019-06-19T13:10:39.186604Z"
    }
   },
   "outputs": [],
   "source": [
    "df_all_similarities"
   ]
  },
  {
   "cell_type": "markdown",
   "metadata": {},
   "source": [
    "Criamos então o código abaixo para calcular as distâncias para todos os usuários e generalizar pra qualquer tamanho de tabela. Além disso, para que consigamos entender melhor as grandezas calculadas e enxergá-las semelhantes a uma porcentagem, vamos fazer **distancia_transformada = 1/(1+distância)**. "
   ]
  },
  {
   "cell_type": "code",
   "execution_count": null,
   "metadata": {
    "ExecuteTime": {
     "end_time": "2019-06-19T13:25:45.397597Z",
     "start_time": "2019-06-19T13:25:45.232041Z"
    },
    "code_folding": []
   },
   "outputs": [],
   "source": []
  },
  {
   "cell_type": "markdown",
   "metadata": {},
   "source": [
    "Dê dois cliques para ver a resposta:\n",
    "\n",
    "<!--\n",
    "df_all_similarities = pd.DataFrame(columns=[empty_movies],index=['Izabela', 'Thais', 'Lorena', 'Leandro', 'Uliane', 'Isis', 'Marcos'])\n",
    "for user in empty_movies:\n",
    "    for other_user in users:\n",
    "        movie_rating_two_users = movie_rating.loc[movie_rating['Usuario'].isin([user,other_user])]\n",
    "        movie_rating_two_users = movie_rating_two_users.dropna(axis=1).drop(['Usuario'],axis=1).values\n",
    "       \n",
    "        if other_user != user:\n",
    "            df_all_similarities.loc[(df_all_similarities.index == other_user),user] = 1/(1+np.linalg.norm(movie_rating_two_users - movie_rating_two_users[:,None], axis=-1)[0][1])\n",
    "            #df_all_similarities.loc[(df_all_similarities.index == other_user),user] = np.linalg.norm(movie_rating_two_users - movie_rating_two_users[:,None], axis=-1)[0][1]\n",
    "-->"
   ]
  },
  {
   "cell_type": "code",
   "execution_count": null,
   "metadata": {
    "ExecuteTime": {
     "end_time": "2019-06-19T13:25:51.071268Z",
     "start_time": "2019-06-19T13:25:51.062293Z"
    }
   },
   "outputs": [],
   "source": [
    "df_all_similarities"
   ]
  },
  {
   "cell_type": "markdown",
   "metadata": {},
   "source": [
    "Aqui fazemos aquele mesmo processo da prática anterior para pegarmos os filmes vistos e os filmes não vistos pra o usuário da iteração (nessa caso, Leandro)."
   ]
  },
  {
   "cell_type": "code",
   "execution_count": null,
   "metadata": {
    "ExecuteTime": {
     "end_time": "2019-06-19T13:42:22.417709Z",
     "start_time": "2019-06-19T13:42:22.414714Z"
    }
   },
   "outputs": [],
   "source": [
    "user = 'Leandro'"
   ]
  },
  {
   "cell_type": "code",
   "execution_count": null,
   "metadata": {
    "ExecuteTime": {
     "end_time": "2019-06-19T13:42:22.957261Z",
     "start_time": "2019-06-19T13:42:22.948286Z"
    }
   },
   "outputs": [],
   "source": [
    "filmes_vistos = movie_rating.loc[movie_rating['Usuario'] == user].dropna(axis=1).drop(['Usuario'],axis=1).keys().tolist()\n",
    "\n",
    "#Guardando os filmes não vistos para a parte de recomendação\n",
    "filmes_nao_vistos = list(set(movie_rating)-set(filmes_vistos+['Usuario']))"
   ]
  },
  {
   "cell_type": "code",
   "execution_count": null,
   "metadata": {
    "ExecuteTime": {
     "end_time": "2019-06-19T13:42:23.472883Z",
     "start_time": "2019-06-19T13:42:23.467896Z"
    }
   },
   "outputs": [],
   "source": [
    "filmes_nao_vistos"
   ]
  },
  {
   "cell_type": "code",
   "execution_count": null,
   "metadata": {
    "ExecuteTime": {
     "end_time": "2019-06-19T13:42:24.114636Z",
     "start_time": "2019-06-19T13:42:24.111644Z"
    }
   },
   "outputs": [],
   "source": [
    "filmes_vistos.append('Usuario')"
   ]
  },
  {
   "cell_type": "code",
   "execution_count": null,
   "metadata": {
    "ExecuteTime": {
     "end_time": "2019-06-19T13:42:24.584380Z",
     "start_time": "2019-06-19T13:42:24.578395Z"
    }
   },
   "outputs": [],
   "source": [
    "filmes_vistos"
   ]
  },
  {
   "cell_type": "markdown",
   "metadata": {},
   "source": [
    "Vamos filtrar então a tabela de distâncias para pegar apenas o usuário da iteração:"
   ]
  },
  {
   "cell_type": "code",
   "execution_count": null,
   "metadata": {
    "ExecuteTime": {
     "end_time": "2019-06-19T13:29:59.844457Z",
     "start_time": "2019-06-19T13:29:59.839470Z"
    }
   },
   "outputs": [],
   "source": [
    "list(set(movie_rating)-set(filmes_vistos))"
   ]
  },
  {
   "cell_type": "code",
   "execution_count": null,
   "metadata": {
    "ExecuteTime": {
     "end_time": "2019-06-19T13:42:26.872774Z",
     "start_time": "2019-06-19T13:42:26.867798Z"
    }
   },
   "outputs": [],
   "source": [
    "df_all_similarities_aux = df_all_similarities[user]"
   ]
  },
  {
   "cell_type": "code",
   "execution_count": null,
   "metadata": {
    "ExecuteTime": {
     "end_time": "2019-06-19T13:42:27.396947Z",
     "start_time": "2019-06-19T13:42:27.390965Z"
    }
   },
   "outputs": [],
   "source": [
    "df_all_similarities_aux"
   ]
  },
  {
   "cell_type": "markdown",
   "metadata": {},
   "source": [
    "Vamos concatenar então a tabela que contém as similaridades com a tabela que contém as avaliações dos filmes que Leandro não viu, para que possamos fazer a nossa **média ponderada**. Nesses caso, os pesos serão as similaridades transformadas que calculaos anteriormente, ou seja, multiplicaremos cada nota pela sua respectiva similaridade, somaremos esse resultado e dividiremos pela soma das similaridades."
   ]
  },
  {
   "cell_type": "code",
   "execution_count": null,
   "metadata": {
    "ExecuteTime": {
     "end_time": "2019-06-19T13:44:33.518611Z",
     "start_time": "2019-06-19T13:44:33.508639Z"
    }
   },
   "outputs": [],
   "source": [
    "df_result = pd.concat([df_all_similarities_aux.reset_index(),movie_rating[filmes_nao_vistos]], axis=1)#.dropna()\n",
    "df_result"
   ]
  },
  {
   "cell_type": "code",
   "execution_count": null,
   "metadata": {
    "ExecuteTime": {
     "end_time": "2019-06-19T13:44:35.656928Z",
     "start_time": "2019-06-19T13:44:35.546220Z"
    }
   },
   "outputs": [],
   "source": [
    "df_result.keys()"
   ]
  },
  {
   "cell_type": "markdown",
   "metadata": {},
   "source": [
    "Fazendo um exemplo, temos que a nota estimada para o filme \"Orgulho e Precnceito\":"
   ]
  },
  {
   "cell_type": "code",
   "execution_count": null,
   "metadata": {
    "ExecuteTime": {
     "end_time": "2019-06-19T17:37:11.308994Z",
     "start_time": "2019-06-19T17:37:11.301377Z"
    }
   },
   "outputs": [],
   "source": [
    "sum((df_result[('Leandro',)] * df_result['Orgulho & Preconceito']).fillna(0))"
   ]
  },
  {
   "cell_type": "markdown",
   "metadata": {},
   "source": [
    "Abaixo, uma forma generalizada para fazer esse cálculo:"
   ]
  },
  {
   "cell_type": "code",
   "execution_count": null,
   "metadata": {
    "ExecuteTime": {
     "end_time": "2019-06-19T18:01:00.918326Z",
     "start_time": "2019-06-19T18:01:00.897380Z"
    }
   },
   "outputs": [],
   "source": []
  },
  {
   "cell_type": "markdown",
   "metadata": {},
   "source": [
    "Dê dois cliques para ver a resposta:\n",
    "<!--\n",
    "df_notas_estimadas = pd.DataFrame(columns=['Usuario','Filme','Nota estimada'])\n",
    "\n",
    "for i,filme in enumerate(filmes_nao_vistos):\n",
    "    df_result['Sx'+filme] = df_result[str(filme)] * df_result[df_result.keys()[1]] \n",
    "    df_notas_estimadas = df_notas_estimadas.append({'Usuario': user, 'Filme': filme, 'Nota estimada': sum(df_result['Sx'+filme].fillna(0))/sum(df_result[df_result.keys()[1]].fillna(0))}, ignore_index=True)\n",
    "-->"
   ]
  },
  {
   "cell_type": "code",
   "execution_count": null,
   "metadata": {
    "ExecuteTime": {
     "end_time": "2019-06-19T18:01:02.089963Z",
     "start_time": "2019-06-19T18:01:02.080062Z"
    }
   },
   "outputs": [],
   "source": [
    "df_notas_estimadas"
   ]
  },
  {
   "cell_type": "code",
   "execution_count": null,
   "metadata": {
    "ExecuteTime": {
     "end_time": "2019-06-19T18:16:45.558246Z",
     "start_time": "2019-06-19T18:16:45.542667Z"
    }
   },
   "outputs": [],
   "source": [
    "df_notas_estimadas.loc[df_notas_estimadas['Nota estimada'] >= 3]"
   ]
  },
  {
   "cell_type": "code",
   "execution_count": null,
   "metadata": {
    "ExecuteTime": {
     "end_time": "2019-06-19T18:26:45.037792Z",
     "start_time": "2019-06-19T18:26:45.019861Z"
    }
   },
   "outputs": [],
   "source": []
  },
  {
   "cell_type": "markdown",
   "metadata": {},
   "source": [
    "Dê dois cliques para ver a solução:\n",
    "\n",
    "<!--\n",
    "def estimating_note(movie_rating,threashold):\n",
    "    \n",
    "    users = movie_rating['Usuario'].tolist()\n",
    "    empty_movies = pd.DataFrame(movie_rating.set_index(['Usuario']).transpose().isna().sum()).reset_index()\n",
    "    empty_movies = empty_movies[empty_movies[0]!= 0 ]['Usuario'].tolist()\n",
    "    \n",
    "    df_all_similarities = pd.DataFrame(columns=[empty_movies],index=['Izabela', 'Thais', 'Lorena', 'Leandro', 'Uliane', 'Isis', 'Marcos'])\n",
    "    df_notas_estimadas_all_users = pd.DataFrame(columns=['Usuario','Filme','Nota estimada'])\n",
    "    for j,user in enumerate(empty_movies):\n",
    "        for other_user in users:\n",
    "            movie_rating_two_users = movie_rating.loc[movie_rating['Usuario'].isin([user,other_user])]\n",
    "            movie_rating_two_users = movie_rating_two_users.dropna(axis=1).drop(['Usuario'],axis=1).values\n",
    "\n",
    "            if other_user != user:\n",
    "                df_all_similarities.loc[(df_all_similarities.index == other_user),user] = 1/(1+np.linalg.norm(movie_rating_two_users - movie_rating_two_users[:,None], axis=-1)[0][1])\n",
    "                #df_all_similarities.loc[(df_all_similarities.index == other_user),user] = np.linalg.norm(movie_rating_two_users - movie_rating_two_users[:,None], axis=-1)[0][1]\n",
    "       \n",
    "        filmes_vistos = movie_rating.loc[movie_rating['Usuario'] == user].dropna(axis=1).drop(['Usuario'],axis=1).keys().tolist()\n",
    "        #Guardando os filmes não vistos para a parte de recomendação\n",
    "        filmes_nao_vistos = list(set(movie_rating)-set(filmes_vistos))\n",
    "        filmes_nao_vistos = set(filmes_nao_vistos)-set(['Usuario'])\n",
    "\n",
    "        df_all_similarities_aux = df_all_similarities[user]\n",
    "        df_result = pd.concat([df_all_similarities_aux.reset_index(),movie_rating[filmes_nao_vistos]], axis=1).dropna()\n",
    "        df_notas_estimadas = pd.DataFrame(columns=['Usuario','Filme','Nota estimada'])\n",
    "        \n",
    "        #make the weighted average\n",
    "        for i,filme in enumerate(filmes_nao_vistos):\n",
    "            df_result['Sx'+filme] = df_result[str(filme)] * df_result[df_result.keys()[1]] \n",
    "            df_notas_estimadas = df_notas_estimadas.append({'Usuario': user, 'Filme': filme, 'Nota estimada': sum(df_result['Sx'+filme].fillna(0))/sum(df_result[df_result.keys()[1]].fillna(0))}, ignore_index=True)\n",
    "        \n",
    "        print(df_notas_estimadas)\n",
    "        #df_notas_estimadas = df_notas_estimadas.loc[df_notas_estimadas['Nota estimada'] == df_notas_estimadas['Nota estimada'].max()]\n",
    "        df_notas_estimadas = df_notas_estimadas.loc[df_notas_estimadas['Nota estimada'] >= threashold]\n",
    "        df_notas_estimadas_all_users = pd.concat([df_notas_estimadas_all_users,df_notas_estimadas])\n",
    "            \n",
    "    return df_notas_estimadas_all_users\n",
    "            \n",
    "-->"
   ]
  },
  {
   "cell_type": "code",
   "execution_count": null,
   "metadata": {
    "ExecuteTime": {
     "end_time": "2019-06-19T18:26:45.735453Z",
     "start_time": "2019-06-19T18:26:45.501497Z"
    }
   },
   "outputs": [],
   "source": [
    "estimating_note(movie_rating,3)"
   ]
  },
  {
   "cell_type": "markdown",
   "metadata": {},
   "source": [
    "## OBS: PCA"
   ]
  },
  {
   "cell_type": "markdown",
   "metadata": {},
   "source": [
    "Caso vocês tivesse 5 dimensões (5 filmes nesse caso) para plotar, sería necessário fazer a redução de dimensões para 3 ou para 2. Calculando as \"componentes principais\" para o caso de 5 filmes, faríamos da seguinte maneira: "
   ]
  },
  {
   "cell_type": "code",
   "execution_count": null,
   "metadata": {
    "ExecuteTime": {
     "end_time": "2019-06-17T01:42:47.943308Z",
     "start_time": "2019-06-17T01:42:47.935328Z"
    }
   },
   "outputs": [],
   "source": [
    "movie_rating_dropna = movie_rating.dropna()\n",
    "data_pca = movie_rating_dropna.drop(['Usuario'],axis=1).values"
   ]
  },
  {
   "cell_type": "code",
   "execution_count": null,
   "metadata": {
    "ExecuteTime": {
     "end_time": "2019-06-17T01:43:10.031162Z",
     "start_time": "2019-06-17T01:43:10.026176Z"
    }
   },
   "outputs": [],
   "source": [
    "data_pca"
   ]
  },
  {
   "cell_type": "code",
   "execution_count": null,
   "metadata": {
    "ExecuteTime": {
     "end_time": "2019-06-17T01:43:02.725709Z",
     "start_time": "2019-06-17T01:43:02.720722Z"
    }
   },
   "outputs": [],
   "source": [
    "pca = PCA(n_components=3)\n",
    "principalComponents  = pca.fit_transform(data_pca)"
   ]
  },
  {
   "cell_type": "code",
   "execution_count": null,
   "metadata": {
    "ExecuteTime": {
     "end_time": "2019-06-17T01:43:35.549883Z",
     "start_time": "2019-06-17T01:43:35.543901Z"
    }
   },
   "outputs": [],
   "source": [
    "principalComponents"
   ]
  },
  {
   "cell_type": "markdown",
   "metadata": {},
   "source": [
    "## OBS2: Tentem fazer a análise anteiror de forma automatizada "
   ]
  },
  {
   "cell_type": "markdown",
   "metadata": {},
   "source": [
    "Passos para isso:\n",
    "- Verificar quais usuários possuem células nulas;\n",
    "- Filtrar a matriz apenas com as pessoas que viram os mesmos filmes do usuário que se pretende fazer uma recomendação;\n",
    "- Calcular as distâncias euclidiantes entre os usuários resultantes;\n",
    "- Verificar qual dos usuários é mais próximo do usuário de interesse;\n",
    "- Verificar quais filmes o usuário mais próximo ao de interesse gostou e que o nosso usuário de interesse ainda não viu, e recomendar esses filmes para ele! \\o/"
   ]
  },
  {
   "cell_type": "markdown",
   "metadata": {},
   "source": [
    "## OBS3: Escalonamento dos dados"
   ]
  },
  {
   "cell_type": "markdown",
   "metadata": {
    "ExecuteTime": {
     "end_time": "2019-06-19T01:45:19.152003Z",
     "start_time": "2019-06-19T01:45:19.142010Z"
    }
   },
   "source": [
    "Ao utilizar a **Distância Euclidiana**, é preciso tomar cuidado com a escala das variáveis. \n",
    "\n",
    "Quando vamos mensurar a distância temos que ter cuidado ao comparar medidas dissimilaridades, como por exemplo Metros versus Idade, ou Metros versus Centímetros, ou Dias versus Anos.\n",
    "\n",
    "Exemplo: Uma criança de 2 a 4 anos tem em geral 74 centímetros, porém, a comparação entre 2 e 74 não é justa, pois 74 é um número muito maior do que 2 (apesar de serem proporcionais quando pensamos em uma criança de 2 anos, pois se a mesma não estiver dentro dessa média de altura em cm pode ser que tenha algo de errado!), isso poderia enviesar o nosso modelo fazendo-o interpretar erroneamente a distância entre essas duas medidas. Porém, já que uma criança de 2 a 4 anos pode ter 74 centímetros, precisamos fazer com que essas medidas sejam interpretadas pelo modelo estando na mesma escala, assim não estariamos enviesando.\n",
    "Uma forma muito utilizada de fazer isso é como a seguir:\n",
    "\n",
    "\n",
    "<img src=\"https://cdncontribute.geeksforgeeks.org/wp-content/uploads/min-max-normalisation.jpg\" align=\"center\" width=\"40%\">\n"
   ]
  },
  {
   "cell_type": "code",
   "execution_count": null,
   "metadata": {
    "ExecuteTime": {
     "end_time": "2019-06-19T19:12:49.026259Z",
     "start_time": "2019-06-19T19:12:49.004304Z"
    }
   },
   "outputs": [],
   "source": [
    "#Entendendo a escala acima:\n",
    "df = pd.DataFrame([[1, 54], [3, 88], [5, 110], [7, 150]], columns=[\"idade\", \"centimetros\"])\n",
    "\n",
    "df"
   ]
  },
  {
   "cell_type": "markdown",
   "metadata": {},
   "source": [
    "Nossa formula ficaria como a seguir:\n",
    "\n",
    "nova_idade = (idade(indice) - min(idade))/(max(idade)-min(idade))\n",
    "\n",
    "Porém, como existem algumas facilidades nós vamos fazer pela biblioteca de scaling do Sklearn:"
   ]
  },
  {
   "cell_type": "code",
   "execution_count": null,
   "metadata": {
    "ExecuteTime": {
     "end_time": "2019-06-19T19:13:01.290995Z",
     "start_time": "2019-06-19T19:12:54.069580Z"
    }
   },
   "outputs": [],
   "source": [
    "from sklearn.preprocessing import MinMaxScaler\n",
    "\n",
    "df = MinMaxScaler().fit_transform(df)\n",
    "\n",
    "df"
   ]
  },
  {
   "cell_type": "markdown",
   "metadata": {},
   "source": [
    "## OBS3: Medidas de dissimilaridade"
   ]
  },
  {
   "cell_type": "markdown",
   "metadata": {
    "ExecuteTime": {
     "end_time": "2019-06-19T01:46:40.719686Z",
     "start_time": "2019-06-19T01:46:40.710710Z"
    },
    "run_control": {
     "marked": true
    }
   },
   "source": [
    "Nem sempre utilizaremos o critério de distância para mensurar a dissimilaridade entre uma observação e outra.\n",
    "\n",
    "Em alguns momentos a distância Eucliciana pode não ser a melhor escolha. Por exemplo, se você gostaria de fazer recomendações de itens comprados em uma loja online, pode-se dizer que o seria indicar os produtos que as pessoas compram em comum.\n",
    "\n",
    "Observe a matriz a seguir:"
   ]
  },
  {
   "cell_type": "code",
   "execution_count": null,
   "metadata": {
    "ExecuteTime": {
     "end_time": "2019-06-19T21:20:00.569922Z",
     "start_time": "2019-06-19T21:20:00.550074Z"
    }
   },
   "outputs": [],
   "source": [
    "compras = pd.DataFrame([[1,1,2], [4,1,5], [15, 0, 2], [8,0, 8], [1,0,0]], columns=[\"Meia\", \"Sapatos\", \"Sandalias\"], index=[\"Maria\", \"Joana\", \"Roberto\", \"Joao\", \"Manuel\"])\n",
    "print(compras)\n",
    "\n",
    "print(\"\")\n",
    "compras = compras.values\n",
    "print(compras)\n",
    "pd.DataFrame(np.linalg.norm(compras - compras[:,None], axis=-1))\n"
   ]
  },
  {
   "cell_type": "markdown",
   "metadata": {
    "ExecuteTime": {
     "end_time": "2019-06-19T01:47:13.921115Z",
     "start_time": "2019-06-19T01:47:13.907124Z"
    },
    "run_control": {
     "marked": true
    }
   },
   "source": [
    "Podemos notar na matriz de distância acima a Maria(0) está mais próxima ao Manuel(4), porém, os mesmos não compraram os mesmos itens, e pior, o Manuel não é um comprador nem de meias e nem de sandálias. Posso considerar que se eu fosse trabalhar com distância nesse caso eu estaria assumindo que procuro pessoas que não são compradoras online do meu site, ou seja, não são clientes ativos. A Joana está longe da Maria, mas as mesmas compram os mesmos itens na loja, isso não parece muito sensato dado que quero recomendar produtos que uma compra para a outra.\n",
    "\n",
    "Porém, eu gostaria de validar pessoas que compram produtos similares e assim identificar gostos em comum dessas pessoas. Sendo assim poderia trabalhar com a medida da Correlação, que idenfica o quanto os itens que as pessoas compram andam juntos (na mesma direção até +1, ou opostas umas as outras até -1). Por mais que a minha correlação seja + ou -, as compras do shopper Maria(0) anda com as compras da shopper Joana(1), então as mesmas andam comprando o mesmo item mesmo que em quantidades diferentes. Sendo assim posso acreditar que quando eu indicar um produto que a Maria comprou para a Joana há uma grande possibilidade da mesma se interessar pelo item maximizando as minhas vendas no site."
   ]
  },
  {
   "cell_type": "code",
   "execution_count": null,
   "metadata": {
    "ExecuteTime": {
     "end_time": "2019-06-19T21:20:01.228342Z",
     "start_time": "2019-06-19T21:20:01.221809Z"
    }
   },
   "outputs": [],
   "source": [
    "#transformando as compras de novo em um Dataframe\n",
    "compras = pd.DataFrame(compras)\n",
    "print(compras)"
   ]
  },
  {
   "cell_type": "code",
   "execution_count": null,
   "metadata": {
    "ExecuteTime": {
     "end_time": "2019-06-19T21:20:01.520861Z",
     "start_time": "2019-06-19T21:20:01.513914Z"
    }
   },
   "outputs": [],
   "source": [
    "#A medida de correlação pede que os compradores sejam colunas ao invés de linhas \n",
    "#(é a forma como o pandas funciona para correlacionar os shoppers)\n",
    "\n",
    "compras = compras.T\n",
    "print(compras)"
   ]
  },
  {
   "cell_type": "code",
   "execution_count": null,
   "metadata": {
    "ExecuteTime": {
     "end_time": "2019-06-19T21:20:01.832755Z",
     "start_time": "2019-06-19T21:20:01.814803Z"
    }
   },
   "outputs": [],
   "source": [
    "compras.corr()"
   ]
  },
  {
   "cell_type": "markdown",
   "metadata": {
    "ExecuteTime": {
     "end_time": "2019-06-19T01:48:00.993167Z",
     "start_time": "2019-06-19T01:48:00.984171Z"
    },
    "run_control": {
     "marked": false
    }
   },
   "source": [
    "Acima podemos identificar uma relação entre a Joana(1) e a Maria(0) que compram produtos parecidos mesmo que de forma correlacionada negativamente. O interessante é que a Maria(0) e Joana(1) estão mais negativamente correlacionadas do que a Maria(0) e o Manuel(4). Isso significa que a importância da Maria(0) com a Joana(1) é alta, e isso me diz que eu posso recomendar itens que uma compra para a outra."
   ]
  },
  {
   "cell_type": "markdown",
   "metadata": {
    "ExecuteTime": {
     "end_time": "2019-06-19T01:48:54.168127Z",
     "start_time": "2019-06-19T01:48:54.164130Z"
    }
   },
   "source": [
    "## Filtragem Baseada em Itens"
   ]
  },
  {
   "cell_type": "markdown",
   "metadata": {
    "ExecuteTime": {
     "end_time": "2019-06-19T01:49:34.212031Z",
     "start_time": "2019-06-19T01:49:34.205037Z"
    },
    "run_control": {
     "marked": true
    }
   },
   "source": [
    "Nós podemos também trabalhar com Filtragem baseada em Itens. Esse tipo de recomendação é utilizada com bases grandes. Pense, uma base muito grande pode trazer um pouco de dificuldade ao fazer recomendações para usuários, uma vez que os mesmos podem variar demais em relação aos produtos comprados, já os itens não mudam com tanta frequencia assim. Nesses casos (bases muito grandes) a filtragem de itens é recomendada. Alguns pontos que vale a pena comentar em relação a construção de sistemas de Filtragem:"
   ]
  },
  {
   "cell_type": "markdown",
   "metadata": {
    "ExecuteTime": {
     "end_time": "2019-06-19T02:03:03.937908Z",
     "start_time": "2019-06-19T02:03:03.929913Z"
    }
   },
   "source": [
    "- Cálculos antecipados\n",
    "\n",
    "<img src=\"http://pngriver.com/wp-content/uploads/2018/04/Download-Time-PNG-HD.png\" align=\"center\" width=\"10%\">\n",
    "\n",
    "- Pré-computar itens\n",
    "\n",
    "<img src=\"https://freepngimg.com/thumb/database/3-2-database-free-download-png.png\" align=\"center\" width=\"10%\">\n",
    "\n",
    "- Média ponderada com itens similares\n",
    "\n",
    "<img src=\"https://encrypted-tbn0.gstatic.com/images?q=tbn:ANd9GcQ6euZ_bIHg3rQbtHoVRuRBsq7MS8WmBLikp_uEvcwxHqiASh8G\" align=\"center\" width=\"10%\">\n",
    "\n",
    "\n",
    "- As comparações não mudarão com frequencia\n",
    "\n",
    "<img src=\"https://encrypted-tbn0.gstatic.com/images?q=tbn:ANd9GcQTyuXRz58y-lC5kLWkPd4OzZzRfB23gctViyWVMPctyRcvE_8f7g\" align=\"center\" width=\"10%\">\n",
    "\n",
    "\n",
    "- O algoritmo roda de tempos em tempos (menor custo computacional)\n",
    "\n",
    "<img src=\"https://ais.its.psu.edu/files/2015/06/batch-logo.png\" align=\"center\" width=\"10%\">"
   ]
  },
  {
   "cell_type": "markdown",
   "metadata": {
    "run_control": {
     "marked": true
    }
   },
   "source": [
    "A implementação desse metodo vai além do escopo desse material, porém, vamos comentar algumas propriedades desse algoritmo."
   ]
  },
  {
   "cell_type": "markdown",
   "metadata": {
    "ExecuteTime": {
     "end_time": "2019-06-19T03:56:12.950207Z",
     "start_time": "2019-06-19T03:56:12.928220Z"
    }
   },
   "source": [
    "Como o nome diz, nós iremos fazer uma recomendação baseada em similaridade de itens e por esse motivo devemos ter em mente que como os itens mudam com pouca frequencia esse algoritmo não precisa rodar sempre.\n",
    "O que é muito diferente do caso de Recomendação por usuários, pois, o tempo todo novos usuários estão assistindo a novos filmes, mas, nem sempre temos filmes novos no catálogo para os usuários assistirem (quem nunca olhou o netflix e disse: já vi tudo o que me interesssava). Por esse motivo não precisamos fazer rodar nosso algoritmo com a base toda o tempo todo.\n",
    "\n",
    "Podemos salvar em uma base de dados as similaridade entre todos os filmes dado a nota de usuários com seus respectivos pesos que encontramos em nosso banco de dados. Isso parece ser sensato.\n",
    "\n",
    "Como nem sempre aparecem filmes novos no catálogo eu posso rodar esse algoritmo semanalmente para recomendar novos filmes aos meus usuários. "
   ]
  },
  {
   "cell_type": "markdown",
   "metadata": {
    "ExecuteTime": {
     "end_time": "2019-06-19T03:52:46.230213Z",
     "start_time": "2019-06-19T03:52:46.206229Z"
    },
    "run_control": {
     "marked": true
    }
   },
   "source": [
    "Algumas diferenças entre Filtragem por Usuários e por Itens "
   ]
  },
  {
   "cell_type": "markdown",
   "metadata": {
    "ExecuteTime": {
     "end_time": "2019-06-19T03:53:54.970771Z",
     "start_time": "2019-06-19T03:53:54.938807Z"
    }
   },
   "source": [
    "Usuários\n",
    "\n",
    "- **1**: Implementação mais simples\n",
    "- **2**: É indicada para bancos menores(conjuntos densos)\n",
    "- **3**: Por vezes apensar o calculo de dissimiladidade já faz um bom trabalho (sem os pesos, porém sempre validar)"
   ]
  },
  {
   "cell_type": "markdown",
   "metadata": {},
   "source": [
    "Itens\n",
    "\n",
    "- **1**: Mais rápido (os dados já estão em memória)\n",
    "- **2**: Bases maiores(conjuntos esparsos, porém pode trabalhar com densos)"
   ]
  },
  {
   "cell_type": "markdown",
   "metadata": {},
   "source": [
    "Falando sobre o conjunto de dados:\n",
    "    \n",
    "Conjuntos densos são conjuntos que muitas pessoas deram nota para os filmes\n",
    "\n",
    "Conjuntos esparsos são conjuntos que as pessoas deram nota para filmes diferentes\n",
    "\n"
   ]
  },
  {
   "cell_type": "code",
   "execution_count": null,
   "metadata": {
    "ExecuteTime": {
     "end_time": "2019-06-19T21:25:57.777031Z",
     "start_time": "2019-06-19T21:25:57.612444Z"
    }
   },
   "outputs": [],
   "source": [
    "movie_rating_item = movie_rating.drop(['Usuario'],axis=1).transpose().reset_index()"
   ]
  },
  {
   "cell_type": "code",
   "execution_count": null,
   "metadata": {
    "ExecuteTime": {
     "end_time": "2019-06-19T21:26:03.513995Z",
     "start_time": "2019-06-19T21:26:03.508148Z"
    }
   },
   "outputs": [],
   "source": [
    "movie_rating_item.columns = ['Filmes'] + movie_rating['Usuario'].tolist()"
   ]
  },
  {
   "cell_type": "code",
   "execution_count": null,
   "metadata": {
    "ExecuteTime": {
     "end_time": "2019-06-19T21:26:09.740932Z",
     "start_time": "2019-06-19T21:26:09.724850Z"
    }
   },
   "outputs": [],
   "source": [
    "movie_rating_item"
   ]
  },
  {
   "cell_type": "code",
   "execution_count": null,
   "metadata": {
    "ExecuteTime": {
     "end_time": "2019-06-19T21:33:37.197401Z",
     "start_time": "2019-06-19T21:33:37.175505Z"
    }
   },
   "outputs": [],
   "source": []
  },
  {
   "cell_type": "code",
   "execution_count": null,
   "metadata": {
    "ExecuteTime": {
     "end_time": "2019-06-19T21:33:57.728181Z",
     "start_time": "2019-06-19T21:33:57.719167Z"
    }
   },
   "outputs": [],
   "source": [
    "dataset_filmes = movie_rating_item.drop(['Filmes'],axis=1).dropna(axis=1).values"
   ]
  },
  {
   "cell_type": "code",
   "execution_count": null,
   "metadata": {
    "ExecuteTime": {
     "end_time": "2019-06-19T21:34:05.789661Z",
     "start_time": "2019-06-19T21:34:05.767274Z"
    }
   },
   "outputs": [],
   "source": [
    "similaridades_filmes = pd.DataFrame(np.linalg.norm(dataset_filmes - dataset_filmes[:,None], axis=-1))\n",
    "similaridades_filmes"
   ]
  },
  {
   "cell_type": "code",
   "execution_count": null,
   "metadata": {
    "ExecuteTime": {
     "end_time": "2019-06-19T21:38:51.282628Z",
     "start_time": "2019-06-19T21:38:51.276477Z"
    }
   },
   "outputs": [],
   "source": [
    "movie_rating_item.Filmes"
   ]
  },
  {
   "cell_type": "code",
   "execution_count": null,
   "metadata": {
    "ExecuteTime": {
     "end_time": "2019-06-19T21:35:35.991591Z",
     "start_time": "2019-06-19T21:35:35.981677Z"
    }
   },
   "outputs": [],
   "source": [
    "filmes_vistos = movie_rating.loc[movie_rating['Usuario'] == user].dropna(axis=1).drop(['Usuario'],axis=1).keys().tolist()"
   ]
  },
  {
   "cell_type": "code",
   "execution_count": null,
   "metadata": {
    "ExecuteTime": {
     "end_time": "2019-06-19T21:36:00.798747Z",
     "start_time": "2019-06-19T21:36:00.792867Z"
    }
   },
   "outputs": [],
   "source": [
    "filmes_vistos"
   ]
  },
  {
   "cell_type": "code",
   "execution_count": null,
   "metadata": {
    "ExecuteTime": {
     "end_time": "2019-06-19T21:35:56.422659Z",
     "start_time": "2019-06-19T21:35:56.418755Z"
    }
   },
   "outputs": [],
   "source": [
    "filmes_nao_vistos = list(set(movie_rating)-set(filmes_vistos))"
   ]
  },
  {
   "cell_type": "code",
   "execution_count": null,
   "metadata": {
    "ExecuteTime": {
     "end_time": "2019-06-19T21:36:05.783689Z",
     "start_time": "2019-06-19T21:36:05.778565Z"
    }
   },
   "outputs": [],
   "source": [
    "filmes_nao_vistos"
   ]
  },
  {
   "cell_type": "code",
   "execution_count": null,
   "metadata": {
    "ExecuteTime": {
     "end_time": "2019-06-19T21:38:13.725027Z",
     "start_time": "2019-06-19T21:38:13.712048Z"
    }
   },
   "outputs": [],
   "source": [
    "movie_rating_item.loc[(movie_rating_item.Filmes.isin(filmes_vistos) )][['Filmes','Leandro']]"
   ]
  },
  {
   "cell_type": "code",
   "execution_count": null,
   "metadata": {
    "ExecuteTime": {
     "end_time": "2019-06-19T21:54:06.168404Z",
     "start_time": "2019-06-19T21:54:06.155439Z"
    }
   },
   "outputs": [],
   "source": [
    "similaridades_filmes = 1/(1+similaridades_filmes)"
   ]
  },
  {
   "cell_type": "code",
   "execution_count": null,
   "metadata": {
    "ExecuteTime": {
     "end_time": "2019-06-19T21:54:07.665078Z",
     "start_time": "2019-06-19T21:54:07.652113Z"
    }
   },
   "outputs": [],
   "source": [
    "similaridades_filmes"
   ]
  },
  {
   "cell_type": "code",
   "execution_count": null,
   "metadata": {
    "ExecuteTime": {
     "end_time": "2019-06-19T21:54:18.431245Z",
     "start_time": "2019-06-19T21:54:18.425250Z"
    }
   },
   "outputs": [],
   "source": [
    "similaridades_filmes[0]"
   ]
  },
  {
   "cell_type": "code",
   "execution_count": null,
   "metadata": {
    "ExecuteTime": {
     "end_time": "2019-06-19T21:54:20.238011Z",
     "start_time": "2019-06-19T21:54:20.224000Z"
    }
   },
   "outputs": [],
   "source": [
    "movie_rating_item_leandro = pd.concat([movie_rating_item.loc[(movie_rating_item.Filmes.isin(filmes_vistos) )][['Filmes','Leandro']],similaridades_filmes[0],similaridades_filmes[2]],axis=1).dropna()"
   ]
  },
  {
   "cell_type": "code",
   "execution_count": null,
   "metadata": {
    "ExecuteTime": {
     "end_time": "2019-06-19T21:54:21.146143Z",
     "start_time": "2019-06-19T21:54:21.141380Z"
    }
   },
   "outputs": [],
   "source": [
    "movie_rating_item_leandro = movie_rating_item_leandro.rename(columns={'Leandro':'Notas dadas por Leandro',0:'Sim. Org e Prec', 2: 'Sim. Senhor d. A.'})"
   ]
  },
  {
   "cell_type": "code",
   "execution_count": null,
   "metadata": {
    "ExecuteTime": {
     "end_time": "2019-06-19T21:54:21.823278Z",
     "start_time": "2019-06-19T21:54:21.811393Z"
    }
   },
   "outputs": [],
   "source": [
    "movie_rating_item_leandro"
   ]
  },
  {
   "cell_type": "code",
   "execution_count": null,
   "metadata": {
    "ExecuteTime": {
     "end_time": "2019-06-19T21:54:37.751249Z",
     "start_time": "2019-06-19T21:54:37.742274Z"
    }
   },
   "outputs": [],
   "source": [
    "movie_rating_item_leandro['Sim. Org e Prec x Notas'] = movie_rating_item_leandro['Notas dadas por Leandro'] * movie_rating_item_leandro['Sim. Org e Prec'] "
   ]
  },
  {
   "cell_type": "code",
   "execution_count": null,
   "metadata": {
    "ExecuteTime": {
     "end_time": "2019-06-19T21:54:38.455229Z",
     "start_time": "2019-06-19T21:54:38.440334Z"
    }
   },
   "outputs": [],
   "source": [
    "movie_rating_item_leandro"
   ]
  },
  {
   "cell_type": "code",
   "execution_count": null,
   "metadata": {
    "ExecuteTime": {
     "end_time": "2019-06-19T21:55:32.053449Z",
     "start_time": "2019-06-19T21:55:32.046462Z"
    }
   },
   "outputs": [],
   "source": [
    "movie_rating_item_leandro['Sim. Senhor d. A. x Notas'] = movie_rating_item_leandro['Notas dadas por Leandro'] * movie_rating_item_leandro['Sim. Senhor d. A.'] "
   ]
  },
  {
   "cell_type": "code",
   "execution_count": null,
   "metadata": {
    "ExecuteTime": {
     "end_time": "2019-06-19T21:55:41.563233Z",
     "start_time": "2019-06-19T21:55:41.551305Z"
    }
   },
   "outputs": [],
   "source": [
    "movie_rating_item_leandro"
   ]
  },
  {
   "cell_type": "code",
   "execution_count": null,
   "metadata": {
    "ExecuteTime": {
     "end_time": "2019-06-19T21:57:32.218241Z",
     "start_time": "2019-06-19T21:57:32.212216Z"
    }
   },
   "outputs": [],
   "source": [
    "movie_rating_item_leandro['Sim. Org e Prec x Notas'].sum()/movie_rating_item_leandro['Sim. Org e Prec'].sum()"
   ]
  },
  {
   "cell_type": "code",
   "execution_count": null,
   "metadata": {
    "ExecuteTime": {
     "end_time": "2019-06-19T21:58:28.142375Z",
     "start_time": "2019-06-19T21:58:28.135496Z"
    }
   },
   "outputs": [],
   "source": [
    "movie_rating_item_leandro['Sim. Senhor d. A. x Notas'].sum()/movie_rating_item_leandro['Sim. Senhor d. A.'].sum()"
   ]
  },
  {
   "cell_type": "code",
   "execution_count": null,
   "metadata": {},
   "outputs": [],
   "source": []
  }
 ],
 "metadata": {
  "kernelspec": {
   "display_name": "Python 3",
   "language": "python",
   "name": "python3"
  },
  "language_info": {
   "codemirror_mode": {
    "name": "ipython",
    "version": 3
   },
   "file_extension": ".py",
   "mimetype": "text/x-python",
   "name": "python",
   "nbconvert_exporter": "python",
   "pygments_lexer": "ipython3",
   "version": "3.7.3"
  },
  "toc": {
   "base_numbering": 1,
   "nav_menu": {},
   "number_sections": true,
   "sideBar": true,
   "skip_h1_title": false,
   "title_cell": "Table of Contents",
   "title_sidebar": "Contents",
   "toc_cell": false,
   "toc_position": {},
   "toc_section_display": true,
   "toc_window_display": false
  }
 },
 "nbformat": 4,
 "nbformat_minor": 2
}
