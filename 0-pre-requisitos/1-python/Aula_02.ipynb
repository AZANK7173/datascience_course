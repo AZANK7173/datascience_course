{
  "cells": [
    {
      "metadata": {
        "collapsed": true
      },
      "cell_type": "markdown",
      "source": "# Aula 2: Program Flow and Control Structures\n**06/08/2017**\n"
    },
    {
      "metadata": {},
      "cell_type": "markdown",
      "source": "Objectives:\n- Conditional (<tt>if/else</tt>) statements\n- <tt>for</tt> loops\n- <tt>while</tt> loops\n- functions"
    },
    {
      "metadata": {
        "collapsed": true
      },
      "cell_type": "markdown",
      "source": "# Conditional"
    },
    {
      "metadata": {},
      "cell_type": "markdown",
      "source": "A <tt>boolean</tt> variable stores <tt>True</tt> or <tt>False</tt>."
    },
    {
      "metadata": {
        "trusted": false
      },
      "cell_type": "code",
      "source": "type(True)",
      "execution_count": 1,
      "outputs": [
        {
          "data": {
            "text/plain": "bool"
          },
          "execution_count": 1,
          "metadata": {},
          "output_type": "execute_result"
        }
      ]
    },
    {
      "metadata": {
        "trusted": false
      },
      "cell_type": "code",
      "source": "x = (4>3)\nprint(\"x = {0}\".format(x))",
      "execution_count": 2,
      "outputs": [
        {
          "name": "stdout",
          "output_type": "stream",
          "text": "x = True\n"
        }
      ]
    },
    {
      "metadata": {
        "trusted": false
      },
      "cell_type": "code",
      "source": "y = 2==4\nprint(\"y = {0}\".format(y))",
      "execution_count": 3,
      "outputs": [
        {
          "name": "stdout",
          "output_type": "stream",
          "text": "y = False\n"
        }
      ]
    },
    {
      "metadata": {
        "trusted": false
      },
      "cell_type": "code",
      "source": "x or y",
      "execution_count": 4,
      "outputs": [
        {
          "data": {
            "text/plain": "True"
          },
          "execution_count": 4,
          "metadata": {},
          "output_type": "execute_result"
        }
      ]
    },
    {
      "metadata": {
        "trusted": false
      },
      "cell_type": "code",
      "source": "x and y",
      "execution_count": 5,
      "outputs": [
        {
          "data": {
            "text/plain": "False"
          },
          "execution_count": 5,
          "metadata": {},
          "output_type": "execute_result"
        }
      ]
    },
    {
      "metadata": {
        "trusted": false
      },
      "cell_type": "code",
      "source": "not x",
      "execution_count": 6,
      "outputs": [
        {
          "data": {
            "text/plain": "False"
          },
          "execution_count": 6,
          "metadata": {},
          "output_type": "execute_result"
        }
      ]
    },
    {
      "metadata": {},
      "cell_type": "markdown",
      "source": "<tt>True</tt> and <tt>False</tt> behave like 1 and 0, respectively."
    },
    {
      "metadata": {
        "trusted": false
      },
      "cell_type": "code",
      "source": "x+y",
      "execution_count": 7,
      "outputs": [
        {
          "data": {
            "text/plain": "1"
          },
          "execution_count": 7,
          "metadata": {},
          "output_type": "execute_result"
        }
      ]
    },
    {
      "metadata": {
        "trusted": false
      },
      "cell_type": "code",
      "source": "x*y",
      "execution_count": 8,
      "outputs": [
        {
          "data": {
            "text/plain": "0"
          },
          "execution_count": 8,
          "metadata": {},
          "output_type": "execute_result"
        }
      ]
    },
    {
      "metadata": {},
      "cell_type": "markdown",
      "source": "The example below shows the most basic sintax of a decision structure:"
    },
    {
      "metadata": {
        "trusted": false
      },
      "cell_type": "code",
      "source": "x = 5\ny = 4\nt = x>y\nif t:\n    print(\"{0} is greater than {1}\".format(x, y))",
      "execution_count": 9,
      "outputs": [
        {
          "name": "stdout",
          "output_type": "stream",
          "text": "5 is greater than 4\n"
        }
      ]
    },
    {
      "metadata": {},
      "cell_type": "markdown",
      "source": "If the condition (or set of conditions) is satisfied, the indented code below is executed. Indentation in Python is made up of four simple spaces, and is used to determine the end of the structure. Python is very strict about indentation, and programmers should be too.\n\nNotice that something happens (code is execute) only if the condition is <tt>True</tt>. In some scenarios, one wants something to happen if the condition is <tt>False</tt>. The <tt>else</tt> clauses comes in handy in this case."
    },
    {
      "metadata": {
        "trusted": false
      },
      "cell_type": "code",
      "source": "x = 4\ny = 5\nif (x>y):\n    print(\"{0} is greater than {1}\".format(x, y))\nelse:\n    print(\"{0} is *NOT* greater than {1}\".format(x, y))",
      "execution_count": 10,
      "outputs": [
        {
          "name": "stdout",
          "output_type": "stream",
          "text": "4 is *NOT* greater than 5\n"
        }
      ]
    },
    {
      "metadata": {},
      "cell_type": "markdown",
      "source": "The <tt>elif</tt> allows to test multiple conditions."
    },
    {
      "metadata": {
        "trusted": false
      },
      "cell_type": "code",
      "source": "x = 5\ny = 4\nif (x>y):\n    print(\"{0} is greater than {1}\".format(x, y))\nelif (x==y):\n    print(\"{0} is equal to {1}\".format(x, y))\nelse:\n    print(\"{0} is smaller than {1}\".format(x, y))",
      "execution_count": 11,
      "outputs": [
        {
          "name": "stdout",
          "output_type": "stream",
          "text": "5 is greater than 4\n"
        }
      ]
    },
    {
      "metadata": {},
      "cell_type": "markdown",
      "source": "Python will execute the instruction *first* condition that is true."
    },
    {
      "metadata": {
        "trusted": false
      },
      "cell_type": "code",
      "source": "x = 5\ny = 5\nif (x>=y):\n    print(\"{0} is greater than or equal to {1}\".format(x, y))\nelif (x==y):\n    print(\"{0} is equal to {1}\".format(x, y))\nelse:\n    print(\"{0} is smaller than {1}\".format(x, y))",
      "execution_count": 12,
      "outputs": [
        {
          "name": "stdout",
          "output_type": "stream",
          "text": "5 is greater than or equal to 5\n"
        }
      ]
    },
    {
      "metadata": {
        "trusted": false
      },
      "cell_type": "code",
      "source": "colors = {0: 'green', 1: 'violet', 2: 'blue', 3: ' yellow'}",
      "execution_count": 13,
      "outputs": []
    },
    {
      "metadata": {
        "trusted": false
      },
      "cell_type": "code",
      "source": "c = 0\nif c == 0:\n    print(colors[0])\nelif c == 0:\n    print(colors[1])\nelif c  == 2:\n    print(colors[2])\nelif c == 3:\n    print(colors[3])\nelse:\n    print('I dont know.')",
      "execution_count": 14,
      "outputs": [
        {
          "name": "stdout",
          "output_type": "stream",
          "text": "green\n"
        }
      ]
    },
    {
      "metadata": {},
      "cell_type": "markdown",
      "source": "<tt>if</tt> conditions can be nested within each other."
    },
    {
      "metadata": {
        "trusted": false
      },
      "cell_type": "code",
      "source": "x = 7\ny = 5\nif (x>y):\n    if abs(x-y)<1:\n        print(\"{0} is greater than {1}\".format(x, y))\n    else:\n        print(\"{0} is MUCH greater than {1}\".format(x, y))\nelif (x==y):\n    print(\"{0} is equal to {1}\".format(x, y))\nelse:\n    print(\"{0} is smaller than {1}\".format(x, y))",
      "execution_count": 15,
      "outputs": [
        {
          "name": "stdout",
          "output_type": "stream",
          "text": "7 is MUCH greater than 5\n"
        }
      ]
    },
    {
      "metadata": {},
      "cell_type": "markdown",
      "source": "# `for` loops"
    },
    {
      "metadata": {},
      "cell_type": "markdown",
      "source": "Loops in Python, as in other programming languages, allows on to perform operations multiple times."
    },
    {
      "metadata": {
        "trusted": false
      },
      "cell_type": "code",
      "source": "print(list(range(10)))",
      "execution_count": 16,
      "outputs": [
        {
          "name": "stdout",
          "output_type": "stream",
          "text": "[0, 1, 2, 3, 4, 5, 6, 7, 8, 9]\n"
        }
      ]
    },
    {
      "metadata": {
        "trusted": false
      },
      "cell_type": "code",
      "source": "# sum of the first 10 whole numbers\n\ngauss = 0 # the scalar 'gauss' will store the value of the running sum\nparcelas = [] # the list parcelas will store the value of the running sum at each step\n\nfor i in range(11):\n\n    gauss += i\nprint(gauss)\n    \nprint(\"1+2+3+...+10 = \" + str(gauss))",
      "execution_count": 19,
      "outputs": [
        {
          "name": "stdout",
          "output_type": "stream",
          "text": "55\n1+2+3+...+10 = 55\n"
        }
      ]
    },
    {
      "metadata": {
        "trusted": false
      },
      "cell_type": "code",
      "source": "# parsing a list\nl = [\"Macro\", \"Micro\", \"Econometria\", 537]\nfor i, v in enumerate(l):\n    # the index at each step is assigned to 'i' \n    # the value at each stpe is assigned to 'v'\n    # both 'i' and 'v' are local, and cannot be accessed outside of the loop\n    print(\"{0}: {1}\".format(i, v))\n    print(\"---\")",
      "execution_count": 28,
      "outputs": [
        {
          "name": "stdout",
          "output_type": "stream",
          "text": "0: Macro\n---\n1: Micro\n---\n2: Econometria\n---\n3: 537\n---\n"
        }
      ]
    },
    {
      "metadata": {
        "trusted": false
      },
      "cell_type": "code",
      "source": "# if you want to access only the values\nfor v in l:\n    print(v)",
      "execution_count": 24,
      "outputs": [
        {
          "name": "stdout",
          "output_type": "stream",
          "text": "Macro\nMicro\nEconometria\n537\n"
        }
      ]
    },
    {
      "metadata": {
        "trusted": false
      },
      "cell_type": "code",
      "source": "# parsing a list\nd = { \"Macro\": [\"eae302\",20], \"Micro\": [\"eae301\",25], \"Econometria\": [\"eae303\",40] }\nfor key, value in d.items():\n    print(\"{0}: {1} alunos\".format(key, value[1]))",
      "execution_count": 31,
      "outputs": [
        {
          "name": "stdout",
          "output_type": "stream",
          "text": "Macro: 20 alunos\nEconometria: 40 alunos\nMicro: 25 alunos\n"
        }
      ]
    },
    {
      "metadata": {
        "trusted": false
      },
      "cell_type": "code",
      "source": "# parsing a string\ns = \"Barcelona\"\nfor x in s:\n    print(x)",
      "execution_count": 33,
      "outputs": [
        {
          "name": "stdout",
          "output_type": "stream",
          "text": "B\na\nr\nc\ne\nl\no\nn\na\n"
        }
      ]
    },
    {
      "metadata": {},
      "cell_type": "markdown",
      "source": "# <tt>while</tt> loops"
    },
    {
      "metadata": {},
      "cell_type": "markdown",
      "source": "Similar to <tt>for</tt>. Executes a chunck of code until a certain condition is met."
    },
    {
      "metadata": {
        "trusted": false
      },
      "cell_type": "code",
      "source": "gauss = 0\ni = 1\n\nwhile i<=100:\n    gauss += i\n    i += 1\n\nprint(gauss)",
      "execution_count": 34,
      "outputs": [
        {
          "name": "stdout",
          "output_type": "stream",
          "text": "5050\n"
        }
      ]
    },
    {
      "metadata": {
        "collapsed": true
      },
      "cell_type": "markdown",
      "source": "We know that $lim_{n\\rightarrow +\\infty} \\sum_{i=1}^{n}{\\frac{1}{i}} = +\\infty$. That means that for any positive real $S$, one can find an integer $n$ such that $\\sum_{i=1}^{n}{\\frac{1}{i}} > n$. In the code below, we will find one such $n$ for $S=10$."
    },
    {
      "metadata": {
        "trusted": false
      },
      "cell_type": "code",
      "source": "S = 15 # target value for the sum\ns = 0 # variable that will store the value of the running (partial) sum\ni = 1\n\nwhile (s<S):\n    s += 1/i\n    i += 1\n        \nprint(\"n = {0}\".format(i))",
      "execution_count": 38,
      "outputs": [
        {
          "name": "stdout",
          "output_type": "stream",
          "text": "n = 1835422\n"
        }
      ]
    },
    {
      "metadata": {},
      "cell_type": "markdown",
      "source": "# Functions"
    },
    {
      "metadata": {},
      "cell_type": "markdown",
      "source": "*Functions* are chuncks of code that perform certain actions. They are extremely useful if an operation must be repeated throughout the code. In other words, functions are a straighforward way to reuse code."
    },
    {
      "metadata": {
        "trusted": false
      },
      "cell_type": "code",
      "source": "# Example 1 (trivial): a function that takes as arguments two real numbers and returns their sum\ndef my_sum(x, y):\n    return x+y",
      "execution_count": 40,
      "outputs": []
    },
    {
      "metadata": {
        "trusted": false
      },
      "cell_type": "code",
      "source": "# testing my_sum\nprint(my_sum(2, 1))",
      "execution_count": 45,
      "outputs": [
        {
          "name": "stdout",
          "output_type": "stream",
          "text": "3\n"
        }
      ]
    },
    {
      "metadata": {
        "trusted": false
      },
      "cell_type": "code",
      "source": "# Example 2: improving my_sum\ndef my_sum(x, y=0):\n    \"\"\"\n    my_sum(x, y=0): takes two integers (x and y) and returns their sum\n    \"\"\"\n    \n    if isinstance(x, (int, float)) and isinstance(y, (int, float)):\n        return (x+y, \"{0} + {1} = {2}\".format(x, y, x+y))",
      "execution_count": 46,
      "outputs": []
    },
    {
      "metadata": {
        "trusted": false
      },
      "cell_type": "code",
      "source": "# testing my_sum\ns = my_sum(1, 2)\n#print(type(s))\n#print(s[0])\n#print(s[1])\n\n#print(my_sum.__doc__)\nprint(my_sum(2))\n#print(my_sum(2, \"Egídio\"))",
      "execution_count": 51,
      "outputs": [
        {
          "name": "stdout",
          "output_type": "stream",
          "text": "(2, '2 + 0 = 2')\n"
        }
      ]
    },
    {
      "metadata": {
        "trusted": false
      },
      "cell_type": "code",
      "source": "s[1]",
      "execution_count": 49,
      "outputs": [
        {
          "data": {
            "text/plain": "'1 + 2 = 3'"
          },
          "execution_count": 49,
          "metadata": {},
          "output_type": "execute_result"
        }
      ]
    },
    {
      "metadata": {
        "trusted": false
      },
      "cell_type": "code",
      "source": "# Example 3: sum of infinite series (see problem above)\ndef limit(S):\n\n    s = 0\n    i = 0\n\n    while (s<S):\n        i += 1\n        s += 1/i\n       \n    return i",
      "execution_count": 52,
      "outputs": []
    },
    {
      "metadata": {
        "trusted": false
      },
      "cell_type": "code",
      "source": "print(limit(3))\nprint(limit(5))\nprint(limit(17))",
      "execution_count": 54,
      "outputs": [
        {
          "name": "stdout",
          "output_type": "stream",
          "text": "11\n83\n13562027\n"
        }
      ]
    },
    {
      "metadata": {
        "trusted": false
      },
      "cell_type": "code",
      "source": "# Example 4: evaluating a polynomial\ndef p(x, coef):\n    return sum([c * x**i for i, c in enumerate(coef)])\n\nprint(p(2,(2,1,3)))",
      "execution_count": 64,
      "outputs": [
        {
          "name": "stdout",
          "output_type": "stream",
          "text": "16\n"
        }
      ]
    },
    {
      "metadata": {
        "trusted": false
      },
      "cell_type": "code",
      "source": "coef = (2, 1, 3)\nx = 2",
      "execution_count": 56,
      "outputs": []
    },
    {
      "metadata": {
        "trusted": false
      },
      "cell_type": "code",
      "source": "parcelas = [jp*(x**i) for i, jp in enumerate(coef)]\nparcelas",
      "execution_count": 60,
      "outputs": [
        {
          "data": {
            "text/plain": "[2, 2, 12]"
          },
          "execution_count": 60,
          "metadata": {},
          "output_type": "execute_result"
        }
      ]
    },
    {
      "metadata": {
        "trusted": false
      },
      "cell_type": "code",
      "source": "sum(parcelas)",
      "execution_count": 61,
      "outputs": [
        {
          "data": {
            "text/plain": "16"
          },
          "execution_count": 61,
          "metadata": {},
          "output_type": "execute_result"
        }
      ]
    },
    {
      "metadata": {},
      "cell_type": "markdown",
      "source": "n! = n * (n-1)!, if n > 1 and f(1) = 1 "
    },
    {
      "metadata": {
        "trusted": false
      },
      "cell_type": "code",
      "source": "# Example 5: Recursion\ndef factorial(n):\n    if n == 1:\n        return 1\n    else:\n        return n * factorial(n-1)",
      "execution_count": 34,
      "outputs": []
    },
    {
      "metadata": {
        "trusted": false
      },
      "cell_type": "code",
      "source": "factorial(4)",
      "execution_count": 29,
      "outputs": [
        {
          "data": {
            "text/plain": "24"
          },
          "execution_count": 29,
          "metadata": {},
          "output_type": "execute_result"
        }
      ]
    },
    {
      "metadata": {},
      "cell_type": "markdown",
      "source": "https://realpython.com/python-thinking-recursively/"
    },
    {
      "metadata": {},
      "cell_type": "markdown",
      "source": "## Exercícios"
    },
    {
      "metadata": {},
      "cell_type": "markdown",
      "source": "**1.** Da coluna de Marcelo Viana (IMPA) na Falha de São Paulo em 12/08/2018: <br>\n*Funciona assim: considere um inteiro positivo N qualquer. Se for par, divida por 2. Se for ímpar, multiplique por 3 e some 1. Substitua N pelo resultado obtido e siga repetindo esse procedimento. Por exemplo, se começar com N=7 obterá, sucessivamente, 22, 11, 34, 17, 52, 26, 13, 40, 20, 10, 5, 16, 8, 4, 2, 1 e, a partir daí, a sequência só repete os números 4, 2, 1, ciclicamente.*"
    },
    {
      "metadata": {
        "trusted": true
      },
      "cell_type": "code",
      "source": "def par(x):\n    if (x%2 == 0):\n        return True\n    else:\n        return False",
      "execution_count": 1,
      "outputs": []
    },
    {
      "metadata": {
        "trusted": true
      },
      "cell_type": "code",
      "source": "def Marcelo_Viana(x):\n    c = 0\n    while x != 1:\n        if par(x):\n            x = x/2\n        else:\n            x = 3*x+1\n        c += 1\n    \n    return c",
      "execution_count": 7,
      "outputs": []
    },
    {
      "metadata": {
        "trusted": true
      },
      "cell_type": "code",
      "source": "for x in range(1, 15):\n    print(\"{0}: {1}\".format(x, Marcelo_Viana(x)))",
      "execution_count": 8,
      "outputs": [
        {
          "output_type": "stream",
          "text": "1: 0\n2: 1\n3: 7\n4: 2\n5: 5\n6: 8\n7: 16\n8: 3\n9: 19\n10: 6\n11: 14\n12: 9\n13: 9\n14: 17\n",
          "name": "stdout"
        }
      ]
    },
    {
      "metadata": {},
      "cell_type": "markdown",
      "source": "**2.** Write a Python program to find those numbers which are divisible by 7 and multiple of 5, between 1500 and 2700 (both included)."
    },
    {
      "metadata": {
        "trusted": true
      },
      "cell_type": "code",
      "source": "def div7(x):\n    if (x%7 == 0):\n        return True\n    else:\n        return False\n    \ndef div5(x):\n    if (x%5 == 0):\n        return True\n    else:\n        return False\n\nJ = []\nfor x in range(1500, 2700+1):\n    if div7(x) and div5(x):\n        print(x)\n        J.append(x)",
      "execution_count": 9,
      "outputs": [
        {
          "output_type": "stream",
          "text": "1505\n1540\n1575\n1610\n1645\n1680\n1715\n1750\n1785\n1820\n1855\n1890\n1925\n1960\n1995\n2030\n2065\n2100\n2135\n2170\n2205\n2240\n2275\n2310\n2345\n2380\n2415\n2450\n2485\n2520\n2555\n2590\n2625\n2660\n2695\n",
          "name": "stdout"
        }
      ]
    },
    {
      "metadata": {},
      "cell_type": "markdown",
      "source": "**3.** Write a Python program to check a triangle is equilateral, isosceles or scalene."
    },
    {
      "metadata": {},
      "cell_type": "markdown",
      "source": "**4.** Write a Python program to find the median of three values."
    },
    {
      "metadata": {
        "trusted": true
      },
      "cell_type": "code",
      "source": "def mediana(x, y, z):\n    l = [x, y, z]\n    l.sort()\n    return l[1]",
      "execution_count": 13,
      "outputs": []
    },
    {
      "metadata": {
        "trusted": true
      },
      "cell_type": "code",
      "source": "mediana(3, 1, 2)",
      "execution_count": 18,
      "outputs": [
        {
          "output_type": "execute_result",
          "execution_count": 18,
          "data": {
            "text/plain": "2"
          },
          "metadata": {}
        }
      ]
    },
    {
      "metadata": {},
      "cell_type": "markdown",
      "source": "**5.** Write a Python program to calculate the sum and average of n integer numbers (input from the user). Input 0 to finish."
    },
    {
      "metadata": {
        "trusted": true
      },
      "cell_type": "code",
      "source": "def sumario():\n    \n    n = int(input(\"digite um número natural: \"))\n\n    s = 0\n    for i in range(n):\n        x = float(input(\"digite um número: \"))\n        s += x\n        \n    return (s, s/n)",
      "execution_count": 28,
      "outputs": []
    },
    {
      "metadata": {
        "trusted": true
      },
      "cell_type": "code",
      "source": "sumario()",
      "execution_count": 27,
      "outputs": [
        {
          "output_type": "stream",
          "name": "stdout",
          "text": "digite um número natural: 3\ndigite um número: 5\ndigite um número: 2.5\ndigite um número: 1.5\n"
        },
        {
          "output_type": "execute_result",
          "execution_count": 27,
          "data": {
            "text/plain": "(9.0, 3.0)"
          },
          "metadata": {}
        }
      ]
    },
    {
      "metadata": {},
      "cell_type": "markdown",
      "source": "**6.** Write a Python program to construct the following pattern, using a nested loop number: <br>\n1 <br>\n22 <br>\n333 <br>\n4444 <br>\n55555 <br>\n666666 <br>\n7777777 <br>\n88888888 <br>\n999999999"
    },
    {
      "metadata": {
        "trusted": true
      },
      "cell_type": "code",
      "source": "# Jeito errado\nfor i in range(1, 10):\n    print(str(i)*i)",
      "execution_count": 30,
      "outputs": [
        {
          "output_type": "stream",
          "text": "1\n22\n333\n4444\n55555\n666666\n7777777\n88888888\n999999999\n",
          "name": "stdout"
        }
      ]
    },
    {
      "metadata": {
        "trusted": true
      },
      "cell_type": "code",
      "source": "# Jeito certo\nfor i in range(1, 10):\n    for j in range(i):\n        print(i, end=\"\")\n    print(\"\\n\", end=\"\")",
      "execution_count": 36,
      "outputs": [
        {
          "output_type": "stream",
          "text": "1\n22\n333\n4444\n55555\n666666\n7777777\n88888888\n999999999\n",
          "name": "stdout"
        }
      ]
    },
    {
      "metadata": {},
      "cell_type": "markdown",
      "source": "**7.** Write a Python program to check the validity of password input by users. <br><br>\nValidation : <br><br>\n\nAt least 1 letter between [a-z] and 1 letter between [A-Z]. <br>\nAt least 1 number between [0-9]. <br>\nAt least 1 character from [$#@]. <br>\nMinimum length 6 characters. <br>\nMaximum length 16 characters."
    },
    {
      "metadata": {
        "trusted": true
      },
      "cell_type": "code",
      "source": "# At least 1 character from [$#@]. \ndef cond_0(s):\n    r = {\"$\", \"#\", \"@\"}\n    if r.intersection(set(s)) == set():\n        return False\n    else:\n        return True",
      "execution_count": 51,
      "outputs": []
    },
    {
      "metadata": {
        "trusted": true
      },
      "cell_type": "code",
      "source": "# Minimum length 6 characters & Maximum length 16 characters.\ndef cond_1(s):\n    if len(s) >= 6 and len(s) <= 16:\n        return True\n    else:\n        return False",
      "execution_count": 57,
      "outputs": []
    },
    {
      "metadata": {
        "trusted": true
      },
      "cell_type": "code",
      "source": "# At least 1 letter between [a-z] and 1 letter between [A-Z]. \ndef cond_2(s):\n    if s.lower() == s:\n        return False\n    elif s.upper() == s:\n        return False\n    else:\n        return True",
      "execution_count": 3,
      "outputs": []
    },
    {
      "metadata": {
        "trusted": true
      },
      "cell_type": "code",
      "source": "# At least 1 number between [0-9]\ndef cond_3(s):\n    for i in range(0, 10):\n        if str(i) in s:\n            return True\n    return False",
      "execution_count": 19,
      "outputs": []
    },
    {
      "metadata": {
        "trusted": true
      },
      "cell_type": "code",
      "source": "def password(s):\n    if cond_0(s) and cond_1(s) and cond_2(s) and cond_3(s):\n        return True\n    else:\n        return False",
      "execution_count": 23,
      "outputs": []
    }
  ],
  "metadata": {
    "kernelspec": {
      "name": "python3",
      "display_name": "Python 3",
      "language": "python"
    },
    "language_info": {
      "mimetype": "text/x-python",
      "nbconvert_exporter": "python",
      "name": "python",
      "pygments_lexer": "ipython3",
      "version": "3.5.4",
      "file_extension": ".py",
      "codemirror_mode": {
        "version": 3,
        "name": "ipython"
      }
    }
  },
  "nbformat": 4,
  "nbformat_minor": 2
}