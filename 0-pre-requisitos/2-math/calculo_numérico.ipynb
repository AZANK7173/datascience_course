{
  "cells": [
    {
      "metadata": {},
      "cell_type": "markdown",
      "source": "# Roots and Integration of real-valued functions\n\nDiscuss the relevant concepts and the computational implementation of methods to find roots of real-valued functions: \n- Bisection\n- Newton's Method (or Newton-Raphson)\n- Quasi-Newton (Secant)"
    },
    {
      "metadata": {
        "trusted": true
      },
      "cell_type": "code",
      "source": "import matplotlib.pyplot as plt\nx = [x/10 for x in range(0, 21)]\ny = [x**3-1 for x in x]\nplt.plot(x, y, 'b')\nplt.axhline(y=0, linewidth=.5, color='k', marker='.')\nplt.show()",
      "execution_count": null,
      "outputs": []
    },
    {
      "metadata": {
        "trusted": true
      },
      "cell_type": "code",
      "source": "import numpy as np\nimport matplotlib.pyplot as plt\nx = np.linspace(-3, 3)\ny = [x**3-1-3*x+1 for x in x]\nplt.plot(x, y, 'b')\nplt.axhline(y=0, linewidth=.5, color='k', marker='.')\nplt.show()",
      "execution_count": null,
      "outputs": []
    },
    {
      "metadata": {},
      "cell_type": "markdown",
      "source": "## Bracketing\n### Bisection"
    },
    {
      "metadata": {
        "trusted": true
      },
      "cell_type": "code",
      "source": "def bisection(f, a, b, delta=1e-5, eps=1e-7):\n\n    # f: a function\n    # a: lower limit\n    # b: upper limit\n    \n    if f(a)*f(b) <= 0:\n        \n        x_low = a\n        x_high = b\n        e = 1 # abs(x_high - x_low)\n        d = 1 # f(M)\n        i = 0\n        #print(\"{joao:2d}: [{x_low:0.8f}, {x_high:0.8f}]\".format(joao = i, x_low = x_low, x_high = x_high))\n        \n        while abs(e)>eps*(1+abs(x_low)+abs(x_high)) or abs(d)>delta:\n            \n            i += 1\n            \n            midpoint = (x_low+x_high)/2\n            if f(x_low)*f(midpoint)<0:\n                x_high = midpoint\n            else:\n                x_low = midpoint\n                \n            midpoint = (x_low+x_high)/2\n            e = x_high-x_low\n            d = f(midpoint)\n            #print(\"{i:2d}: [{x_low:0.12f}, {x_high:0.12f}]\".format(i = i, x_low = x_low, x_high = x_high))\n            \n        return midpoint",
      "execution_count": null,
      "outputs": []
    },
    {
      "metadata": {
        "trusted": true
      },
      "cell_type": "code",
      "source": "def func(x):\n    return x**3-1",
      "execution_count": null,
      "outputs": []
    },
    {
      "metadata": {
        "trusted": true
      },
      "cell_type": "code",
      "source": "%time bisection(func, .4, 3)",
      "execution_count": null,
      "outputs": []
    },
    {
      "metadata": {
        "trusted": true
      },
      "cell_type": "code",
      "source": "# testing\n%time bisection(lambda x: x**3-1, .4, 3)",
      "execution_count": null,
      "outputs": []
    },
    {
      "metadata": {
        "collapsed": true
      },
      "cell_type": "markdown",
      "source": "## Newton's Method"
    },
    {
      "metadata": {},
      "cell_type": "markdown",
      "source": "http://mathworld.wolfram.com/NewtonsMethod.html <br>\nhttp://tutorial.math.lamar.edu/Classes/CalcI/NewtonsMethod.aspx"
    },
    {
      "metadata": {
        "trusted": true
      },
      "cell_type": "code",
      "source": "# derive\ndef derive(func, x, eps=1e-6):\n    \"derive: calculates the derivative of a real-valued function at a certain point of its domain.\"\n    if func(x) or func(x) == 0:\n        return (func(x+eps)-func(x-eps))/(2*eps)",
      "execution_count": null,
      "outputs": []
    },
    {
      "metadata": {
        "trusted": true
      },
      "cell_type": "code",
      "source": "# newton\ndef newton(func, x, eps=10**(-5), delta=10**(-7)):\n    \"newton: finds a root of a real-valued function using Newton's method.\"\n    \n    e = 1\n    d = abs(func(x))\n    i = 0\n    \n    x0 = x\n    \n    while e>eps or d>delta:\n        \n        i = i+1\n        x1 = x0-(func(x0)/derive(func, x0))\n        e = abs(x1-x0)\n        d = abs(func(x1))\n        print(\"interaction: \", i)\n        print(\"{0:.6f} -> {1:.6f}\".format(x0,x1))\n        print(\"e={0:.6f} d={1:.6f}\".format(e,d))\n        print(\"---------------------------------\")\n        x0 = x1\n        \n    return (x0, i)",
      "execution_count": null,
      "outputs": []
    },
    {
      "metadata": {
        "trusted": true
      },
      "cell_type": "code",
      "source": "%time newton(lambda w: w**3-1, 3)",
      "execution_count": null,
      "outputs": []
    },
    {
      "metadata": {},
      "cell_type": "markdown",
      "source": "## Quasi-Newton"
    },
    {
      "metadata": {},
      "cell_type": "markdown",
      "source": "### Secant Method\nhttp://mathworld.wolfram.com/SecantMethod.html"
    },
    {
      "metadata": {
        "trusted": true
      },
      "cell_type": "code",
      "source": "# quasi-newton (secant)\ndef secant(func, x0, x1, eps=10**(-5), delta=10**(-7)):\n    \"quasi-newton (secant): finds a root of a real-valued function using the secant method.\"\n    \n    e = 1\n    d = abs(func(x1))\n    i = 0\n    \n    while e>eps or d>delta:\n        \n        i = i+1\n        x2 = x1-(func(x1)*(x1-x0)/(func(x1)-func(x0)))\n        e = abs(x2-x1)\n        d = abs(func(x2))\n        print(\"interaction: \", i)\n        print(\"{0:.6f} -> {1:.6f}\".format(x1, x2))\n        print(\"e={0:.6f} d={1:.6f}\".format(e, d))\n        print(\"---------------------------------\")\n        x0 = x1\n        x1 = x2\n        \n    return (x2, i)",
      "execution_count": null,
      "outputs": []
    },
    {
      "metadata": {
        "trusted": true
      },
      "cell_type": "code",
      "source": "%time secant(lambda w: w**3-1, 4, 3)",
      "execution_count": null,
      "outputs": []
    },
    {
      "metadata": {},
      "cell_type": "markdown",
      "source": "## using `scipy.optimize`"
    },
    {
      "metadata": {
        "trusted": true
      },
      "cell_type": "code",
      "source": "from scipy import optimize as opt",
      "execution_count": null,
      "outputs": []
    },
    {
      "metadata": {
        "trusted": true
      },
      "cell_type": "code",
      "source": "%time opt.bisect(lambda w: w**3-1, .4, 3)",
      "execution_count": null,
      "outputs": []
    },
    {
      "metadata": {
        "trusted": true
      },
      "cell_type": "code",
      "source": "%time opt.newton(lambda w: w**3-1, 3)",
      "execution_count": null,
      "outputs": []
    },
    {
      "metadata": {
        "trusted": true
      },
      "cell_type": "code",
      "source": "%time opt.newton(lambda w: w**3-1, 3, fprime=lambda w: 3*(w**2))",
      "execution_count": null,
      "outputs": []
    },
    {
      "metadata": {
        "trusted": true
      },
      "cell_type": "markdown",
      "source": "## Application: Internal Rate of Return"
    },
    {
      "metadata": {
        "trusted": true
      },
      "cell_type": "code",
      "source": "import matplotlib.pyplot as plt\n\nv = [-1000, 500, 500, 500, -200]\ndef vpl(v, r):\n        return sum([value*(1+r)**(-period) for period, value in enumerate(v)])\n\nx = [x/400 for x in range(101)]\ny = [vpl(v, r) for r in x]\nplt.plot(x, y, 'b')\nplt.axhline(y=0, linewidth=.5, color='k', marker='.')\nplt.xlim((0,.3))\nplt.show()",
      "execution_count": null,
      "outputs": []
    },
    {
      "metadata": {
        "trusted": true
      },
      "cell_type": "code",
      "source": "from scipy import optimize as opt\ndef irr(v, r0):\n    \n    def vpl(r):\n        return sum([value*(1+r)**(-t) for t,value in enumerate(v)])\n    \n    return opt.newton(vpl, r0)",
      "execution_count": null,
      "outputs": []
    },
    {
      "metadata": {
        "trusted": true
      },
      "cell_type": "code",
      "source": "# testing\nv = [-1000, 500, 500, 500, -200]\nirr(v, 0.05)",
      "execution_count": null,
      "outputs": []
    },
    {
      "metadata": {},
      "cell_type": "markdown",
      "source": "## Integration"
    },
    {
      "metadata": {
        "trusted": true
      },
      "cell_type": "code",
      "source": "import math",
      "execution_count": null,
      "outputs": []
    },
    {
      "metadata": {
        "trusted": true
      },
      "cell_type": "code",
      "source": "print(dir(math))",
      "execution_count": null,
      "outputs": []
    },
    {
      "metadata": {
        "trusted": true
      },
      "cell_type": "code",
      "source": "math.e",
      "execution_count": null,
      "outputs": []
    },
    {
      "metadata": {
        "trusted": true
      },
      "cell_type": "code",
      "source": "math.exp(2)",
      "execution_count": null,
      "outputs": []
    },
    {
      "metadata": {
        "trusted": true
      },
      "cell_type": "code",
      "source": "math.pi",
      "execution_count": null,
      "outputs": []
    },
    {
      "metadata": {
        "trusted": true
      },
      "cell_type": "code",
      "source": "math.nan",
      "execution_count": null,
      "outputs": []
    },
    {
      "metadata": {},
      "cell_type": "markdown",
      "source": "### Rectangle method\n$\\int_{a}^{b}{f(x)dx} \\approx \\Delta x\\,\\sum_{i=1}^{n}{f(m_i)}$ where $\\Delta x = \\frac{b-a}{n}$ and $m_{i} = a + \\frac{\\Delta x}{2} i$"
    },
    {
      "metadata": {
        "trusted": true
      },
      "cell_type": "code",
      "source": "def rectangle(f, a, b, n):\n    \n    step = (b-a)/n\n    I = 0\n    \n    for i in range(int(n)):\n        I += f(a+(2*i+1)*step/2)\n        \n    return I*step",
      "execution_count": null,
      "outputs": []
    },
    {
      "metadata": {
        "trusted": true
      },
      "cell_type": "code",
      "source": "1e5",
      "execution_count": null,
      "outputs": []
    },
    {
      "metadata": {
        "trusted": true
      },
      "cell_type": "code",
      "source": "# test 1\nrectangle(lambda x: x**2, 0, 12, 1e5)",
      "execution_count": null,
      "outputs": []
    },
    {
      "metadata": {
        "trusted": true
      },
      "cell_type": "code",
      "source": "# test 1\nrectangle(lambda x: math.exp(x), 0, 1, 10)",
      "execution_count": null,
      "outputs": []
    },
    {
      "metadata": {},
      "cell_type": "markdown",
      "source": "### Trapezoid rule\n$\\int_{a}^{b}{f(x)dx} \\approx \\frac{\\Delta x}{2}\\,\\sum_{i=1}^{n}{[f(x_{i-1})+f(x_{i})]} = \\frac{\\Delta x}{2}\\,\\left[f(x_{0})+2\\,f(x_{1})+2\\,f(x_{1})+...+2\\,f(x_{n-1})+f(x_{n})\\right]$ where $\\Delta x = \\frac{b-a}{n}$ and $x_{i} = a + \\Delta x\\,i$"
    },
    {
      "metadata": {
        "trusted": true
      },
      "cell_type": "code",
      "source": "def trapezoid(f, a, b, n):\n    \n    step = (b - a)/n\n    I = f(a) + f(b)\n       \n    for i in range(1, int(n), 1):\n        I += 2*f(a+i*step)\n                \n    return I*step/2",
      "execution_count": null,
      "outputs": []
    },
    {
      "metadata": {
        "trusted": true
      },
      "cell_type": "code",
      "source": "# test\ntrapezoid(lambda x: x**2, 0, 12, 1000)",
      "execution_count": null,
      "outputs": []
    },
    {
      "metadata": {
        "trusted": true
      },
      "cell_type": "code",
      "source": "# test\ntrapezoid(lambda x: math.exp(x), 0, 1, 10)",
      "execution_count": null,
      "outputs": []
    },
    {
      "metadata": {},
      "cell_type": "markdown",
      "source": "### Simpson's rule\n[Reference from Wolfran's MathWorld](http://mathworld.wolfram.com/SimpsonsRule.html)\n\n$\\int_{a}^{b}{f(x)dx} \\approx \\frac{\\Delta x}{3}\\,\\left[f(x_{0})+4\\,f(x_{1})+2\\,f(x_{2})+4\\,f(x_{3})+2\\,f(x_{4})+...+2\\,f(x_{n-2})+4\\,f(x_{n-1})+f(x_{n})\\right]$ where $\\Delta x = \\frac{b-a}{n}$."
    },
    {
      "metadata": {
        "trusted": true
      },
      "cell_type": "code",
      "source": "def simpson(f, a, b, n):\n    \n    step = (b-a)/n\n    I = f(a)+f(b)\n       \n    for i in range(1, int(n), 2):\n        I += 4*f(a+i*step)\n    \n    for i in range(2, int(n-1), 2):\n        I += 2*f(a+i*step)\n                \n    return I*step/3",
      "execution_count": null,
      "outputs": []
    },
    {
      "metadata": {
        "trusted": true
      },
      "cell_type": "code",
      "source": "# test\nsimpson(lambda x: x**2, 0, 12, 1e5)",
      "execution_count": null,
      "outputs": []
    },
    {
      "metadata": {
        "trusted": true
      },
      "cell_type": "code",
      "source": "# test\nsimpson(lambda x: math.exp(x), 0, 1, 10)",
      "execution_count": null,
      "outputs": []
    },
    {
      "metadata": {
        "trusted": true
      },
      "cell_type": "code",
      "source": "from scipy import integrate\n# help(integrate)",
      "execution_count": 47,
      "outputs": []
    },
    {
      "metadata": {
        "trusted": true
      },
      "cell_type": "code",
      "source": "help(integrate.trapz)",
      "execution_count": 50,
      "outputs": [
        {
          "output_type": "stream",
          "text": "Help on function trapz in module numpy.lib.function_base:\n\ntrapz(y, x=None, dx=1.0, axis=-1)\n    Integrate along the given axis using the composite trapezoidal rule.\n    \n    Integrate `y` (`x`) along given axis.\n    \n    Parameters\n    ----------\n    y : array_like\n        Input array to integrate.\n    x : array_like, optional\n        The sample points corresponding to the `y` values. If `x` is None,\n        the sample points are assumed to be evenly spaced `dx` apart. The\n        default is None.\n    dx : scalar, optional\n        The spacing between sample points when `x` is None. The default is 1.\n    axis : int, optional\n        The axis along which to integrate.\n    \n    Returns\n    -------\n    trapz : float\n        Definite integral as approximated by trapezoidal rule.\n    \n    See Also\n    --------\n    sum, cumsum\n    \n    Notes\n    -----\n    Image [2]_ illustrates trapezoidal rule -- y-axis locations of points\n    will be taken from `y` array, by default x-axis distances between\n    points will be 1.0, alternatively they can be provided with `x` array\n    or with `dx` scalar.  Return value will be equal to combined area under\n    the red lines.\n    \n    \n    References\n    ----------\n    .. [1] Wikipedia page: http://en.wikipedia.org/wiki/Trapezoidal_rule\n    \n    .. [2] Illustration image:\n           http://en.wikipedia.org/wiki/File:Composite_trapezoidal_rule_illustration.png\n    \n    Examples\n    --------\n    >>> np.trapz([1,2,3])\n    4.0\n    >>> np.trapz([1,2,3], x=[4,6,8])\n    8.0\n    >>> np.trapz([1,2,3], dx=2)\n    8.0\n    >>> a = np.arange(6).reshape(2, 3)\n    >>> a\n    array([[0, 1, 2],\n           [3, 4, 5]])\n    >>> np.trapz(a, axis=0)\n    array([ 1.5,  2.5,  3.5])\n    >>> np.trapz(a, axis=1)\n    array([ 2.,  8.])\n\n",
          "name": "stdout"
        }
      ]
    },
    {
      "metadata": {
        "trusted": true
      },
      "cell_type": "code",
      "source": "",
      "execution_count": null,
      "outputs": []
    }
  ],
  "metadata": {
    "anaconda-cloud": {},
    "kernelspec": {
      "name": "python3",
      "display_name": "Python 3",
      "language": "python"
    },
    "language_info": {
      "mimetype": "text/x-python",
      "nbconvert_exporter": "python",
      "name": "python",
      "pygments_lexer": "ipython3",
      "version": "3.5.4",
      "file_extension": ".py",
      "codemirror_mode": {
        "version": 3,
        "name": "ipython"
      }
    }
  },
  "nbformat": 4,
  "nbformat_minor": 2
}