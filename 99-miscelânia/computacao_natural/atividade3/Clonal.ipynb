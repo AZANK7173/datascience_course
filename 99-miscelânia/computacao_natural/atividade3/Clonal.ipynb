{
 "cells": [
  {
   "cell_type": "markdown",
   "metadata": {},
   "source": [
    "## Sistema Imunológico artificial\n",
    "\n",
    "\n",
    "#### Uma análise de uma implementação do algorítimo Clonal\n",
    "\n",
    "source: https://github.com/kittsville/KAPA\n",
    "\n",
    "##### 1. Introdução\n",
    "\n",
    "Este trabalho é uma análise da implementação do algorítmo Clonal. Dois testes foram realizados: a) dado um conjunto de antígenos, serão produzidos anticorpos capazes de identificar os antígenos. Os caracteres foram convertidos em uma condificação em antígenos representando-os usando o espaço de forma Hamming; b) o número de gerações tomadas para a convergência permanece constante conforme aumenta o número de antígenos, dado Ag <= Ab, mas neste caso, o número de antígenos é a variável independente e o número de gerações tomadas para convergência como a variável dependente.\n",
    "\n",
    "##### 2. Execução \n",
    "\n",
    "Os testes foram executados usando-se o Python versão 2.7.15, e os códigos fontes estão no mesmo diretório deste Notebook. Nas células abaixo, é possível verificar o código fonte dos testes e seus resultados. \n",
    "\n",
    "No primeiro teste, estabelece-se uma lista de antígenos e seu nome corresponde a um arquivo .PNG que pode ser encontrado na pasta DIGITS. Estes arquivos são convertidos em antígenos pela função **helpers.create_antigen** e normalizados para as cores preto/branco. Em seguida são criados 10 anticorpos com a função **kapa.Antibody()**. Neste teste o algorítmo é executado 3 vezes e os demais parâmetros utilizados foram: \n",
    "\n",
    "{ &nbsp;\n",
    "\n",
    "generations          = 60, *Representa o número de vezes que o processo de clonagem será executado* &nbsp;\n",
    "\n",
    "num_clone_antibodies = 5,  *Número de anticorpos a serem clonados* &nbsp;\n",
    "\n",
    "num_kill_antibodies  = 0,  *Número de células com baixa afinidade que devem ser excluídas* &nbsp;\n",
    "\n",
    "clone_multiplier     = 10  *Taxa para clonar um anticorpo em relação por sua afinidade com o antígeno* &nbsp;\n",
    "\n",
    "} &nbsp; \n",
    "\n",
    "No segundo teste, a mudança ocorre de modo a se executar o algoritmo variando a quantidade de antígenos. Executa-se o Clonal diversas vezes, sendo que na primeira vez existe apenas um único antígeno e na última 10 antígenos. Em todos os casos existe um conjunto de 10 anticorpos. Neste teste o algorítmo é executado uma única vez para determinada quantidade de antígenos e os demais parâmetros foram:\n",
    "\n",
    "{ &nbsp;\n",
    "\n",
    "generations          = 100, *Representa o número de vezes que o processo de clonagem será executado* &nbsp;\n",
    "\n",
    "num_clone_antibodies = 5,  *Número de anticorpos a serem clonados* &nbsp;\n",
    "\n",
    "num_kill_antibodies  = 0,  *Número de células com baixa afinidade que devem ser excluídas* &nbsp;\n",
    "\n",
    "clone_multiplier     = 10  *Taxa para clonar um anticorpo em relação por sua afinidade com o antígeno* &nbsp;\n",
    "\n",
    "} &nbsp; \n",
    "\n",
    "O algoritmo foi desenvolvido de modo que pode haver uma interrupção prematura do processo de clonagem caso a afinidade máxima seja atingida entre os anticorpos e os antígenos. A medida de afinidade é representada por um número de diferenças entre o anticorpo e o antígeno, sendo que quanto menor for o número, melhor será a afinidade apurada entre eles. Portanto, a afinidade \"perfeita\" se dá quando esta métrica for igual a 0 (zero).\n"
   ]
  },
  {
   "cell_type": "code",
   "execution_count": 2,
   "metadata": {},
   "outputs": [
    {
     "name": "stdout",
     "output_type": "stream",
     "text": [
      "Execução número: 0\n"
     ]
    },
    {
     "ename": "NameError",
     "evalue": "name 'xrange' is not defined",
     "output_type": "error",
     "traceback": [
      "\u001b[1;31m---------------------------------------------------------------------------\u001b[0m",
      "\u001b[1;31mNameError\u001b[0m                                 Traceback (most recent call last)",
      "\u001b[1;32m<ipython-input-2-588120f441aa>\u001b[0m in \u001b[0;36m<module>\u001b[1;34m()\u001b[0m\n\u001b[0;32m     48\u001b[0m         \u001b[0mnum_clone_antibodies\u001b[0m \u001b[1;33m=\u001b[0m \u001b[1;36m5\u001b[0m\u001b[1;33m,\u001b[0m\u001b[1;33m\u001b[0m\u001b[0m\n\u001b[0;32m     49\u001b[0m         \u001b[0mnum_kill_antibodies\u001b[0m  \u001b[1;33m=\u001b[0m \u001b[1;36m0\u001b[0m\u001b[1;33m,\u001b[0m\u001b[1;33m\u001b[0m\u001b[0m\n\u001b[1;32m---> 50\u001b[1;33m         \u001b[0mclone_multiplier\u001b[0m     \u001b[1;33m=\u001b[0m \u001b[1;36m10\u001b[0m\u001b[1;33m\u001b[0m\u001b[0m\n\u001b[0m\u001b[0;32m     51\u001b[0m     )\n\u001b[0;32m     52\u001b[0m \u001b[1;33m\u001b[0m\u001b[0m\n",
      "\u001b[1;32m~\\Google Drive\\DigitalHouse\\public\\3.ComputacaoNatural\\atividades\\atividade3_sistemaImunologicoartificial\\KAPA\\kapa\\main.py\u001b[0m in \u001b[0;36mkapa\u001b[1;34m(antigens, antibodies, generations, num_clone_antibodies, num_kill_antibodies, clone_multiplier)\u001b[0m\n\u001b[0;32m     47\u001b[0m     \u001b[0mnum_kill_antibodies\u001b[0m \u001b[1;33m=\u001b[0m \u001b[0mmin\u001b[0m\u001b[1;33m(\u001b[0m\u001b[0mnum_kill_antibodies\u001b[0m\u001b[1;33m,\u001b[0m \u001b[0mlen\u001b[0m\u001b[1;33m(\u001b[0m\u001b[0mantibodies\u001b[0m\u001b[1;33m)\u001b[0m \u001b[1;33m-\u001b[0m \u001b[0mlen\u001b[0m\u001b[1;33m(\u001b[0m\u001b[0mantigens\u001b[0m\u001b[1;33m)\u001b[0m\u001b[1;33m)\u001b[0m\u001b[1;33m\u001b[0m\u001b[0m\n\u001b[0;32m     48\u001b[0m \u001b[1;33m\u001b[0m\u001b[0m\n\u001b[1;32m---> 49\u001b[1;33m     \u001b[1;32mfor\u001b[0m \u001b[0mg\u001b[0m \u001b[1;32min\u001b[0m \u001b[0mxrange\u001b[0m\u001b[1;33m(\u001b[0m\u001b[0mgenerations\u001b[0m\u001b[1;33m)\u001b[0m\u001b[1;33m:\u001b[0m\u001b[1;33m\u001b[0m\u001b[0m\n\u001b[0m\u001b[0;32m     50\u001b[0m         \u001b[1;32mif\u001b[0m \u001b[0mearly_termination\u001b[0m \u001b[1;32mor\u001b[0m \u001b[0mall\u001b[0m\u001b[1;33m(\u001b[0m\u001b[0mantibody\u001b[0m\u001b[1;33m.\u001b[0m\u001b[0mmemfinity\u001b[0m \u001b[1;33m==\u001b[0m \u001b[1;36m0\u001b[0m \u001b[1;32mfor\u001b[0m \u001b[0mantibody\u001b[0m \u001b[1;32min\u001b[0m \u001b[0mmemory_antibodies\u001b[0m\u001b[1;33m)\u001b[0m\u001b[1;33m:\u001b[0m\u001b[1;33m\u001b[0m\u001b[0m\n\u001b[0;32m     51\u001b[0m             \u001b[1;32mif\u001b[0m \u001b[1;32mnot\u001b[0m \u001b[0mearly_termination\u001b[0m\u001b[1;33m:\u001b[0m\u001b[1;33m\u001b[0m\u001b[0m\n",
      "\u001b[1;31mNameError\u001b[0m: name 'xrange' is not defined"
     ]
    }
   ],
   "source": [
    "## Primeiro Teste\n",
    "import helpers\n",
    "import numpy as np\n",
    "import matplotlib.pyplot as plt\n",
    "import kapa\n",
    "import sys\n",
    "import csv\n",
    "\n",
    "digit_names = ['0', '1', '2', '3', '4', '6','9','period','left','right']\n",
    "\n",
    "def print_shape(shape):\n",
    "    x = -1\n",
    "    for i in range(12):\n",
    "        row = ''\n",
    "        for j in range(10):\n",
    "            x += 1\n",
    "            if shape[x]:\n",
    "                row += 'X'\n",
    "            else:\n",
    "                row += ' '\n",
    "        print (row)\n",
    "\n",
    "def affinityEvol(fit, keys):\n",
    "    \n",
    "    for key in keys:\n",
    "        x1 = []\n",
    "        y1 = []\n",
    "        \n",
    "        for item in fit:\n",
    "            if (item['key'] == key):\n",
    "               y1.append(item['affinity']);\n",
    "               \n",
    "        x1 = np.arange(len(y1));\n",
    "        plt.plot(x1, y1, 'o-')\n",
    " \n",
    "\n",
    "        \n",
    "affinity_graph = []\n",
    "\n",
    "for i in range(3):\n",
    "    \n",
    "    print (\"Execução número: \" + str(i))\n",
    "    \n",
    "    affinity_graph = kapa.kapa(\n",
    "        antigens             = [helpers.create_antigen(name) for name in digit_names],\n",
    "        antibodies           = [kapa.Antibody() for _ in range(10)],\n",
    "        generations          = 60,\n",
    "        num_clone_antibodies = 5,\n",
    "        num_kill_antibodies  = 0,\n",
    "        clone_multiplier     = 10\n",
    "    )\n",
    "    \n",
    "    for affinity_rating in affinity_graph:\n",
    "        affinity_rating['key'] = digit_names[affinity_rating['key']]\n",
    "        \n",
    "    affinityEvol(affinity_graph, digit_names)   \n",
    "    \n"
   ]
  },
  {
   "cell_type": "code",
   "execution_count": 56,
   "metadata": {},
   "outputs": [
    {
     "name": "stdout",
     "output_type": "stream",
     "text": [
      "Terminating early at generation 49\n",
      "Terminating early at generation 55\n",
      "Terminating early at generation 57\n",
      "Terminating early at generation 57\n",
      "Terminating early at generation 57\n",
      "Terminating early at generation 61\n",
      "Terminating early at generation 58\n",
      "Terminating early at generation 55\n",
      "Terminating early at generation 60\n",
      "Terminating early at generation 56\n"
     ]
    },
    {
     "data": {
      "image/png": "[encoded data removed]",
      "text/plain": [
       "<Figure size 432x288 with 1 Axes>"
      ]
     },
     "metadata": {
      "needs_background": "light"
     },
     "output_type": "display_data"
    }
   ],
   "source": [
    "## Segundo Teste\n",
    "\n",
    "import helpers\n",
    "import kapa\n",
    "import sys\n",
    "import csv\n",
    "\n",
    "\n",
    "results = []\n",
    "\n",
    "for i in range(1, 11):\n",
    "    result = kapa.kapa(\n",
    "        antigens             = [kapa.Antibody() for _ in range(i)],\n",
    "        antibodies           = [kapa.Antibody() for _ in range(10)],\n",
    "        generations          = 100,\n",
    "        num_clone_antibodies = 5,\n",
    "        num_kill_antibodies  = 0,\n",
    "        clone_multiplier     = 10\n",
    "    )\n",
    "    #print result\n",
    "    results.append({\n",
    "        'antigens' : i,\n",
    "        'generations' : result\n",
    "    })\n"
   ]
  },
  {
   "cell_type": "code",
   "execution_count": 59,
   "metadata": {},
   "outputs": [
    {
     "data": {
      "image/png": "[encoded data removed]",
      "text/plain": [
       "<Figure size 432x288 with 1 Axes>"
      ]
     },
     "metadata": {
      "needs_background": "light"
     },
     "output_type": "display_data"
    }
   ],
   "source": [
    "# com dois antígenos\n",
    "affinityEvol(results[1]['generations'],[0,1])    \n"
   ]
  },
  {
   "cell_type": "code",
   "execution_count": 62,
   "metadata": {},
   "outputs": [
    {
     "data": {
      "image/png": "[encoded data removed]",
      "text/plain": [
       "<Figure size 432x288 with 1 Axes>"
      ]
     },
     "metadata": {
      "needs_background": "light"
     },
     "output_type": "display_data"
    }
   ],
   "source": [
    "# com três antígenos\n",
    "affinityEvol(results[2]['generations'],[0,1,2])    \n"
   ]
  },
  {
   "cell_type": "code",
   "execution_count": 63,
   "metadata": {},
   "outputs": [
    {
     "data": {
      "image/png": "[encoded data removed]",
      "text/plain": [
       "<Figure size 432x288 with 1 Axes>"
      ]
     },
     "metadata": {
      "needs_background": "light"
     },
     "output_type": "display_data"
    }
   ],
   "source": [
    "# com nove\n",
    "affinityEvol(results[9]['generations'],[0,1,2,3,4,5,6,7,8,9])"
   ]
  },
  {
   "cell_type": "markdown",
   "metadata": {},
   "source": [
    "##### 3. Análise \n",
    "\n",
    "Ambos os testes demonstraram a capacidade do algorítmo em se adaptar e aperfeiçoar sua afinidade com diversas quantidades de antígenos simultaneamente. \n",
    "\n",
    "Tanto nos gráfico do primeiro teste(1), como nos gráficos do segundo (2,3,4) mostram que o algorítmo atingiu a afinidade plena antes do número de interações previstas, 60 no primeiro caso e 100 no segundo. \n",
    "\n"
   ]
  }
 ],
 "metadata": {
  "kernelspec": {
   "display_name": "Python 3",
   "language": "python",
   "name": "python3"
  },
  "language_info": {
   "codemirror_mode": {
    "name": "ipython",
    "version": 3
   },
   "file_extension": ".py",
   "mimetype": "text/x-python",
   "name": "python",
   "nbconvert_exporter": "python",
   "pygments_lexer": "ipython3",
   "version": "3.6.5"
  }
 },
 "nbformat": 4,
 "nbformat_minor": 2
}
