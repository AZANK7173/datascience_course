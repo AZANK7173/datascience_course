{
 "cells": [
  {
   "cell_type": "markdown",
   "metadata": {},
   "source": [
    "# Análise exploratória de dados\n",
    "\n",
    "Exemplo (1) Modelando uma regressão multipla para entender como diferentes variáveis afetam os preços de casas nos EUA.\n",
    "\n",
    "Dependendo do objetivo podemos ter mais ou menos etapas. Vamos escolher um desafio mais dificil para cobrir a maioria das possibilidades de modelagem.\n",
    "\n",
    "No nosso exemplo vamos modelar uma regressão para explicar os preços das casas nos EUA e usa-lo para escolher as casas desvalorizadas.\n",
    "\n",
    "    -> Identificar como a base foi construida\n",
    "    -> Quais foram as regras, essas regras influeciam os dados?\n",
    "    -> Devemos nos preocupar os com outliners?\n",
    "    -> Ao analisar como as variáveis estão distribuidas, temos funções conhecidas?\n",
    "    -> Como as funções se correlacionam, os comportamentos são os previstos?\n",
    "    -> Para estudar a correlação parcial com regressões precisamos mudar a forma dos dados?\n",
    "    -> Transformações logaritmicas\n",
    "    -> Variáveis demmuies, quando usa-las\n",
    "    -> Mudando a forma funcional com polinomios\n",
    "    -> Iterando váriaveis\n",
    "    -> Gerando predições\n",
    "    \n",
    "    \n",
    "Features:\n",
    "- **price** - The last price the house was sold for\n",
    "- **num_bed** - The number of bedrooms\n",
    "- **num_bath** - The number of bathrooms (fractions mean the house has a toilet-only or shower/bathtub-only bathroom)\n",
    "- **size_house** (includes basement) - The size of the house\n",
    "- **size_lot** - The size of the lot\n",
    "- **num_floors** - The number of floors\n",
    "- **is_waterfront** - Whether or not the house is a waterfront house (0 means it is not a waterfront house whereas 1 means that it is a waterfront house)\n",
    "- **condition** - How worn out the house is. Ranges from 1 (needs repairs all over the place) to 5 (the house is very well maintained)\n",
    "- **size_basement** - The size of the basement\n",
    "- **year_built** - The year the house was built\n",
    "- **renovation_date** - The year the house was renovated for the last time. 0 means the house has never been renovated\n",
    "- **zip** - The zip code\n",
    "- **latitude** - Latitude\n",
    "- **longitude** - Longitude\n",
    "- **avg_size_neighbor_houses** - The average house size of the neighbors\n",
    "- **avg_size_neighbor_lot** - The average lot size of the neighbors"
   ]
  },
  {
   "cell_type": "code",
   "execution_count": null,
   "metadata": {},
   "outputs": [],
   "source": [
    "import pandas as pd\n",
    "import numpy as np\n",
    "import statsmodels.formula.api as smf\n",
    "import matplotlib.pyplot as plt\n",
    "import seaborn as sns\n",
    "from scipy import stats\n",
    "from sklearn import linear_model\n",
    "from sklearn.metrics import mean_squared_error, r2_score\n",
    "import sqlite3\n",
    "\n",
    "\n",
    "import warnings\n",
    "warnings.filterwarnings(\"ignore\")\n",
    "\n",
    "%matplotlib inline\n",
    "%config InlineBackend.figure_formats=['svg']"
   ]
  },
  {
   "cell_type": "code",
   "execution_count": null,
   "metadata": {},
   "outputs": [],
   "source": [
    "# import pandas.io.sql as sqlio\n",
    "# import psycopg2\n",
    "# from sqlalchemy import create_engine\n",
    "# import io\n",
    "\n",
    "# host = 'dh-ds-t1-2019.cpvwsnqnnd2w.us-east-1.rds.amazonaws.com'\n",
    "# port = 5432\n",
    "# dbname = 'DHds2019'\n",
    "# username = 'digitalhouse'\n",
    "# pwd = 'alunosDH19'\n",
    "\n",
    "# conn = psycopg2.connect(f\"host='{host}' port={port}  dbname='{dbname}' user={username} password={pwd}\")"
   ]
  },
  {
   "cell_type": "code",
   "execution_count": null,
   "metadata": {},
   "outputs": [],
   "source": [
    "db = sqlite3.connect(r'../../99 Datasets/datasets.db')"
   ]
  },
  {
   "cell_type": "code",
   "execution_count": null,
   "metadata": {},
   "outputs": [],
   "source": [
    "query = 'SELECT * FROM house_sales'\n",
    "\n",
    "df = pd.read_sql_query(query, db)"
   ]
  },
  {
   "cell_type": "code",
   "execution_count": null,
   "metadata": {},
   "outputs": [],
   "source": [
    "df.describe()"
   ]
  },
  {
   "cell_type": "code",
   "execution_count": null,
   "metadata": {},
   "outputs": [],
   "source": [
    "corrmat = df[['price','size_house','num_bath','size_house','size_lot','num_floors','is_waterfront','year_built','latitude','longitude','avg_size_neighbor_houses','avg_size_neighbor_lot']].corr()\n",
    "cols = corrmat.nlargest(10, 'price')['price'].index\n",
    "cm = np.corrcoef(df[cols].values.T)\n",
    "sns.set(font_scale=1.15)\n",
    "f, ax = plt.subplots(figsize=(8, 6))\n",
    "hm = sns.heatmap(cm, cbar=True, annot=True, square=True, fmt='.2f', annot_kws={'size': 10}, yticklabels=cols.values, xticklabels=cols.values)"
   ]
  },
  {
   "cell_type": "code",
   "execution_count": null,
   "metadata": {},
   "outputs": [],
   "source": [
    "from IPython.display import Image\n",
    "Image(filename=r'img/houses_tableau.jpg')"
   ]
  },
  {
   "cell_type": "code",
   "execution_count": null,
   "metadata": {},
   "outputs": [],
   "source": [
    "df['price'].plot.hist(bins=40)"
   ]
  },
  {
   "cell_type": "code",
   "execution_count": null,
   "metadata": {},
   "outputs": [],
   "source": [
    "np.log1p(df['price']).plot.hist(bins=40)"
   ]
  },
  {
   "cell_type": "code",
   "execution_count": null,
   "metadata": {},
   "outputs": [],
   "source": [
    "np.exp(13)"
   ]
  },
  {
   "cell_type": "code",
   "execution_count": null,
   "metadata": {},
   "outputs": [],
   "source": [
    "df['log_price'] = np.log1p(df['price'])"
   ]
  },
  {
   "cell_type": "code",
   "execution_count": null,
   "metadata": {},
   "outputs": [],
   "source": [
    "function1 = '''\n",
    "price ~ \n",
    " + size_house\n",
    " + num_bath\n",
    " + size_house\n",
    " + size_lot\n",
    " + num_floors\n",
    " + is_waterfront\n",
    " + year_built\n",
    " + latitude\n",
    " + longitude\n",
    " + avg_size_neighbor_houses\n",
    " + avg_size_neighbor_lot\n",
    "'''\n",
    "\n",
    "model1 = smf.ols(function1, df).fit()\n",
    "print(model1.summary2())"
   ]
  },
  {
   "cell_type": "code",
   "execution_count": null,
   "metadata": {},
   "outputs": [],
   "source": [
    "function1 = '''\n",
    "np.log(price) ~ \n",
    " + size_house\n",
    " + num_bath\n",
    " + size_house\n",
    " + size_lot\n",
    " + num_floors\n",
    " + is_waterfront\n",
    " + year_built\n",
    " + latitude\n",
    " + longitude\n",
    " + avg_size_neighbor_houses\n",
    " + avg_size_neighbor_lot\n",
    "'''\n",
    "\n",
    "model1 = smf.ols(function1, df).fit()\n",
    "print(model1.summary2())"
   ]
  },
  {
   "cell_type": "code",
   "execution_count": null,
   "metadata": {},
   "outputs": [],
   "source": [
    "function1 = '''\n",
    "np.log1p(price) ~ \n",
    " + np.log1p(size_house)\n",
    " + num_bath\n",
    " + size_house\n",
    " + size_lot\n",
    " + num_floors\n",
    " + is_waterfront\n",
    " + year_built\n",
    " + latitude\n",
    " + longitude\n",
    " + avg_size_neighbor_houses\n",
    " + avg_size_neighbor_lot\n",
    "'''\n",
    "\n",
    "model1 = smf.ols(function1, df).fit()\n",
    "print(model1.summary2())"
   ]
  },
  {
   "cell_type": "code",
   "execution_count": null,
   "metadata": {},
   "outputs": [],
   "source": [
    "import statsmodels.api as sm\n",
    "\n",
    "\n",
    "function7 = '''price ~ size_house'''\n",
    "\n",
    "\n",
    "model7 = smf.ols(function7, df.sample(1000)).fit()\n",
    "print(model7.summary2())\n",
    "\n",
    "fig, ax = plt.subplots()\n",
    "fig = sm.graphics.plot_fit(model7, 1, ax=ax)\n",
    "ax.set_ylabel(\"price\")\n",
    "ax.set_xlabel(\"size\")\n",
    "ax.set_title(\"Linear Regression\")\n",
    "\n",
    "plt.show()"
   ]
  },
  {
   "cell_type": "code",
   "execution_count": null,
   "metadata": {},
   "outputs": [],
   "source": [
    "import statsmodels.api as sm\n",
    "\n",
    "\n",
    "function7 = '''price ~ size_house + is_waterfront'''\n",
    "\n",
    "\n",
    "model7 = smf.ols(function7, df.sample(2000)).fit()\n",
    "print(model7.summary2())\n",
    "\n",
    "fig, ax = plt.subplots()\n",
    "fig = sm.graphics.plot_fit(model7, 1, ax=ax)\n",
    "ax.set_ylabel(\"price\")\n",
    "ax.set_xlabel(\"size\")\n",
    "ax.set_title(\"Linear Regression\")\n",
    "\n",
    "plt.show()"
   ]
  },
  {
   "cell_type": "markdown",
   "metadata": {},
   "source": [
    "corr pearson ao quadrado (size house)"
   ]
  },
  {
   "cell_type": "code",
   "execution_count": null,
   "metadata": {},
   "outputs": [],
   "source": [
    "0.705586**2"
   ]
  },
  {
   "cell_type": "code",
   "execution_count": null,
   "metadata": {},
   "outputs": [],
   "source": [
    "df.corr().round(2)"
   ]
  },
  {
   "cell_type": "code",
   "execution_count": null,
   "metadata": {},
   "outputs": [],
   "source": [
    "import statsmodels.api as sm\n",
    "\n",
    "\n",
    "function7 = '''price ~ size_house + avg_size_neighbor_houses + size_lot + latitude'''\n",
    "\n",
    "\n",
    "model7 = smf.ols(function7, df.sample(1000)).fit()\n",
    "print(model7.summary2())\n",
    "\n",
    "fig, ax = plt.subplots()\n",
    "fig = sm.graphics.plot_fit(model7, 1, ax=ax)\n",
    "ax.set_ylabel(\"price\")\n",
    "ax.set_xlabel(\"size\")\n",
    "ax.set_title(\"Linear Regression\")\n",
    "\n",
    "plt.show()"
   ]
  },
  {
   "cell_type": "code",
   "execution_count": null,
   "metadata": {},
   "outputs": [],
   "source": [
    "function7 = '''price ~ size_house*is_waterfront'''\n",
    "\n",
    "\n",
    "model7 = smf.ols(function7, df.sample(3000)).fit()\n",
    "print(model7.summary2())\n",
    "\n",
    "fig, ax = plt.subplots()\n",
    "fig = sm.graphics.plot_fit(model7, 1, ax=ax)\n",
    "ax.set_ylabel(\"price\")\n",
    "ax.set_xlabel(\"size\")\n",
    "ax.set_title(\"Linear Regression\")\n",
    "\n",
    "plt.show()"
   ]
  },
  {
   "cell_type": "code",
   "execution_count": null,
   "metadata": {},
   "outputs": [],
   "source": []
  },
  {
   "cell_type": "code",
   "execution_count": null,
   "metadata": {},
   "outputs": [],
   "source": [
    "df['log_price'] = np.log1p(df['price'])\n",
    "df['log_size'] = np.log1p(df['size_house'])"
   ]
  },
  {
   "cell_type": "code",
   "execution_count": null,
   "metadata": {},
   "outputs": [],
   "source": [
    "df.sample(1000).plot.scatter(y='log_price', x='size_house')"
   ]
  },
  {
   "cell_type": "code",
   "execution_count": null,
   "metadata": {},
   "outputs": [],
   "source": [
    "df.sample(1000).plot.scatter(y='log_price', x='log_size')"
   ]
  },
  {
   "cell_type": "code",
   "execution_count": null,
   "metadata": {},
   "outputs": [],
   "source": [
    "df.sample(1000).plot.scatter(y='log_price', x='num_bath')"
   ]
  },
  {
   "cell_type": "code",
   "execution_count": null,
   "metadata": {},
   "outputs": [],
   "source": []
  }
 ],
 "metadata": {
  "kernelspec": {
   "display_name": "Python 3",
   "language": "python",
   "name": "python3"
  },
  "language_info": {
   "codemirror_mode": {
    "name": "ipython",
    "version": 3
   },
   "file_extension": ".py",
   "mimetype": "text/x-python",
   "name": "python",
   "nbconvert_exporter": "python",
   "pygments_lexer": "ipython3",
   "version": "3.7.3"
  },
  "toc": {
   "base_numbering": 1,
   "nav_menu": {},
   "number_sections": true,
   "sideBar": true,
   "skip_h1_title": false,
   "title_cell": "Table of Contents",
   "title_sidebar": "Contents",
   "toc_cell": false,
   "toc_position": {},
   "toc_section_display": true,
   "toc_window_display": false
  }
 },
 "nbformat": 4,
 "nbformat_minor": 2
}
